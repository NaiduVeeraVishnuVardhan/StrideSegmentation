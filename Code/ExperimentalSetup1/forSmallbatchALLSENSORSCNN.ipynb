{
  "cells": [
    {
      "cell_type": "code",
      "execution_count": null,
      "metadata": {
        "colab": {
          "base_uri": "https://localhost:8080/"
        },
        "id": "58KV6M2z5Q5N",
        "outputId": "fd201968-d942-42b7-bba8-4a7a1ce7b54b"
      },
      "outputs": [
        {
          "output_type": "stream",
          "name": "stdout",
          "text": [
            "Drive already mounted at /content/drive; to attempt to forcibly remount, call drive.mount(\"/content/drive\", force_remount=True).\n"
          ]
        }
      ],
      "source": [
        "from google.colab import drive\n",
        "drive.mount('/content/drive')\n",
        "\n",
        "import pandas as pd\n",
        "import keras\n",
        "from tensorflow.keras.utils import to_categorical\n",
        "from keras import models\n",
        "from keras import layers\n",
        "from keras.models import Sequential\n",
        "from keras.layers import Dense, Dropout, Activation, Flatten\n",
        "from keras.layers import Conv2D, MaxPooling2D\n",
        "from keras.layers.convolutional import Conv1D, MaxPooling1D\n",
        "from tensorflow import keras\n",
        "import pandas as pd\n",
        "import numpy as np\n",
        "import matplotlib.pyplot as plt\n",
        "import tensorflow as tf\n",
        "import keras"
      ]
    },
    {
      "cell_type": "markdown",
      "source": [
        "# ***Load the Dataset***"
      ],
      "metadata": {
        "id": "R2c2uEXVDPM4"
      }
    },
    {
      "cell_type": "code",
      "source": [
        "df = pd.read_csv('/content/drive/MyDrive/Colab Notebooks/dataset/LeftWristFinalDatasetWithlabels.csv')\n",
        "\n",
        "##finding the index and the max of consecutive 1's\n",
        "arr = list(df['label'])\n",
        "count = 0\n",
        "prev = 0\n",
        "indexend = 0\n",
        "for i in range(0,len(arr)):\n",
        "    if arr[i] == 1:\n",
        "        count += 1\n",
        "    else:            \n",
        "      if count > prev:\n",
        "        prev = count\n",
        "        indexend = i\n",
        "      count = 0\n",
        "\n",
        "print(\"The longest sequence of 1's is \"+str(prev))\n",
        "print(\"index start at: \"+ str(indexend-prev))\n",
        "print(\"index ends at: \"+ str(indexend-1))"
      ],
      "metadata": {
        "colab": {
          "base_uri": "https://localhost:8080/"
        },
        "id": "GPIF6dafs32S",
        "outputId": "fcd2d5da-6de4-4f69-d693-5a77eac66e96"
      },
      "execution_count": null,
      "outputs": [
        {
          "output_type": "stream",
          "name": "stdout",
          "text": [
            "The longest sequence of 1's is 135\n",
            "index start at: 319776\n",
            "index ends at: 319910\n"
          ]
        }
      ]
    },
    {
      "cell_type": "code",
      "source": [
        "##finding the index and the max of consecutive 0's\n",
        "arr = list(df['label'])\n",
        "count = 0\n",
        "prev = 0\n",
        "indexend = 0\n",
        "for i in range(0,len(arr)):\n",
        "    if arr[i] == 0:\n",
        "        count += 1\n",
        "    else:            \n",
        "      if count > prev:\n",
        "        prev = count\n",
        "        indexend = i\n",
        "      count = 0\n",
        "\n",
        "print(\"The longest sequence of 0's is \"+str(prev))\n",
        "print(\"index start at: \"+ str(indexend-prev))\n",
        "print(\"index ends at: \"+ str(indexend-1))"
      ],
      "metadata": {
        "colab": {
          "base_uri": "https://localhost:8080/"
        },
        "id": "6qQKWg07whiz",
        "outputId": "621c346f-ef28-4fa9-a55e-64adae2a32c6"
      },
      "execution_count": null,
      "outputs": [
        {
          "output_type": "stream",
          "name": "stdout",
          "text": [
            "The longest sequence of 0's is 128\n",
            "index start at: 277912\n",
            "index ends at: 278039\n"
          ]
        }
      ]
    },
    {
      "cell_type": "markdown",
      "source": [
        ""
      ],
      "metadata": {
        "id": "WAeAkhSJz7rb"
      }
    },
    {
      "cell_type": "markdown",
      "source": [
        "# ***TRAIN DATASET***"
      ],
      "metadata": {
        "id": "aBKW1DkkDUAP"
      }
    },
    {
      "cell_type": "code",
      "source": [
        "from scipy.signal import find_peaks\n",
        "import numpy as np\n",
        "from scipy import stats\n",
        "from scipy.signal import find_peaks\n",
        "\n",
        "df = pd.read_csv('/content/drive/MyDrive/Colab Notebooks/dataset/LeftWristFinalDatasetWithlabels.csv')\n",
        "\n",
        "df['label'] = df['label'].astype('category')\n",
        "df['label'] = df['label'].cat.codes\n",
        "df['subj_id'] = df['subj_id'].astype('category')\n",
        "df['subj_id'] = df['subj_id'].cat.codes"
      ],
      "metadata": {
        "id": "LWARx1vhsYSj"
      },
      "execution_count": null,
      "outputs": []
    },
    {
      "cell_type": "code",
      "execution_count": null,
      "metadata": {
        "id": "kKJRMkhPSNLC",
        "colab": {
          "base_uri": "https://localhost:8080/"
        },
        "outputId": "dc5ecfc4-3115-478f-ec4b-057ae1efca10"
      },
      "outputs": [
        {
          "output_type": "stream",
          "name": "stdout",
          "text": [
            "Testing first left stride :       Unnamed: 0  subj_id      loc_id  time_s  ...      y      z  magnitude  label\n",
            "0             0       15  left_wrist    0.00  ... -0.773 -0.160   0.834284      0\n",
            "1             1       15  left_wrist    0.01  ... -0.738 -0.172   0.803109      0\n",
            "2             2       15  left_wrist    0.02  ... -0.707 -0.168   0.777690      0\n",
            "3             3       15  left_wrist    0.03  ... -0.680 -0.160   0.751485      0\n",
            "4             4       15  left_wrist    0.04  ... -0.656 -0.160   0.734477      0\n",
            "..          ...      ...         ...     ...  ...    ...    ...        ...    ...\n",
            "146           0        0           0    0.00  ...  0.000  0.000   0.000000      0\n",
            "147           0        0           0    0.00  ...  0.000  0.000   0.000000      0\n",
            "148           0        0           0    0.00  ...  0.000  0.000   0.000000      0\n",
            "149           0        0           0    0.00  ...  0.000  0.000   0.000000      0\n",
            "150           0        0           0    0.00  ...  0.000  0.000   0.000000      0\n",
            "\n",
            "[150 rows x 9 columns]\n",
            "Testing first right stride :       Unnamed: 0  subj_id      loc_id  time_s  ...      y      z  magnitude  label\n",
            "31           31       15  left_wrist    0.31  ... -2.051 -0.031   2.053769      1\n",
            "32           32       15  left_wrist    0.32  ... -2.016  0.004   2.018385      1\n",
            "33           33       15  left_wrist    0.33  ... -1.969  0.047   1.973033      1\n",
            "34           34       15  left_wrist    0.34  ... -1.914  0.102   1.921052      1\n",
            "35           35       15  left_wrist    0.35  ... -1.840  0.152   1.850769      1\n",
            "..          ...      ...         ...     ...  ...    ...    ...        ...    ...\n",
            "146           0        0           0    0.00  ...  0.000  0.000   0.000000      0\n",
            "147           0        0           0    0.00  ...  0.000  0.000   0.000000      0\n",
            "148           0        0           0    0.00  ...  0.000  0.000   0.000000      0\n",
            "149           0        0           0    0.00  ...  0.000  0.000   0.000000      0\n",
            "150           0        0           0    0.00  ...  0.000  0.000   0.000000      0\n",
            "\n",
            "[150 rows x 9 columns]\n"
          ]
        }
      ],
      "source": [
        "df_train =  df[df.subj_id.isin( df.subj_id.unique()[:25] ) ]  #selecting 25 subjects for training\n",
        "\n",
        "#find the peaks\n",
        "x = df_train['magnitude'].values\n",
        "peaks, _ = find_peaks(x, prominence=0.5)\n",
        "peaks = np.insert(peaks, 0, 0, axis=0)\n",
        "list_of_df = []\n",
        "#list of dataframes for each stride.\n",
        "for each in range(0, (len(peaks) - 1),1  ):\n",
        "  list_of_df.append( df_train.loc[ peaks[each]:(peaks[each + 1] - 1 )]) \n",
        "#zero imputing for each stride.\n",
        "list_of_Zerodf = []\n",
        "for each in range(0, len(list_of_df) ,1 ):\n",
        "  i = np.arange(start= list_of_df[each].shape[0] + 1 , stop=151 )\n",
        "  df_zero = pd.DataFrame(0, index=i, columns=list_of_df[each].columns)\n",
        "  w1 = pd.concat([list_of_df[each],df_zero])  \n",
        "  list_of_Zerodf.append(w1) \n",
        "\n",
        "print(\"Testing first left stride : \",list_of_Zerodf[0])\n",
        "print(\"Testing first right stride : \",list_of_Zerodf[1])\n",
        "\n",
        "#dataset after combining zero imputed df's.\n",
        "FinalDataFrame = pd.concat(list_of_Zerodf)\n",
        "\n",
        "\n",
        "# WINDOWING WITH NON OVERLAPPING WINDOWS with size 150\n",
        "xs = []\n",
        "ys = []\n",
        "zs = []\n",
        "train_labels = []\n",
        "new_list = []\n",
        "window_size = 150\n",
        "step_size = 150\n",
        "\n",
        "for i in range(0, FinalDataFrame.shape[0] - window_size, step_size):\n",
        "  xs = FinalDataFrame['x'].values[i: i + 150]\n",
        "  ys = FinalDataFrame['y'].values[i: i + 150]\n",
        "  zs = FinalDataFrame['z'].values[i: i + 150]\n",
        "\n",
        "  label = FinalDataFrame['label'].values[i: i + 150][0] \n",
        "  a = np.c_[ xs,ys,zs ]\n",
        "  new_list.append(a)\n",
        "  train_labels.append(label)\n",
        "\n",
        "train_x = np.asarray(new_list)\n",
        "train_y = np.asarray(train_labels)"
      ]
    },
    {
      "cell_type": "code",
      "source": [
        "list_of_Zerodf[0]"
      ],
      "metadata": {
        "colab": {
          "base_uri": "https://localhost:8080/",
          "height": 423
        },
        "id": "-5WQzpehGuwL",
        "outputId": "81677aa7-abc0-4a95-e227-c2a1fd2be9df"
      },
      "execution_count": null,
      "outputs": [
        {
          "output_type": "execute_result",
          "data": {
            "text/html": [
              "\n",
              "  <div id=\"df-9294b7d1-623e-466e-9169-131ae72517b0\">\n",
              "    <div class=\"colab-df-container\">\n",
              "      <div>\n",
              "<style scoped>\n",
              "    .dataframe tbody tr th:only-of-type {\n",
              "        vertical-align: middle;\n",
              "    }\n",
              "\n",
              "    .dataframe tbody tr th {\n",
              "        vertical-align: top;\n",
              "    }\n",
              "\n",
              "    .dataframe thead th {\n",
              "        text-align: right;\n",
              "    }\n",
              "</style>\n",
              "<table border=\"1\" class=\"dataframe\">\n",
              "  <thead>\n",
              "    <tr style=\"text-align: right;\">\n",
              "      <th></th>\n",
              "      <th>Unnamed: 0</th>\n",
              "      <th>subj_id</th>\n",
              "      <th>loc_id</th>\n",
              "      <th>time_s</th>\n",
              "      <th>x</th>\n",
              "      <th>y</th>\n",
              "      <th>z</th>\n",
              "      <th>magnitude</th>\n",
              "      <th>label</th>\n",
              "    </tr>\n",
              "  </thead>\n",
              "  <tbody>\n",
              "    <tr>\n",
              "      <th>0</th>\n",
              "      <td>0</td>\n",
              "      <td>15</td>\n",
              "      <td>left_wrist</td>\n",
              "      <td>0.00</td>\n",
              "      <td>-0.270</td>\n",
              "      <td>-0.773</td>\n",
              "      <td>-0.160</td>\n",
              "      <td>0.834284</td>\n",
              "      <td>0</td>\n",
              "    </tr>\n",
              "    <tr>\n",
              "      <th>1</th>\n",
              "      <td>1</td>\n",
              "      <td>15</td>\n",
              "      <td>left_wrist</td>\n",
              "      <td>0.01</td>\n",
              "      <td>-0.266</td>\n",
              "      <td>-0.738</td>\n",
              "      <td>-0.172</td>\n",
              "      <td>0.803109</td>\n",
              "      <td>0</td>\n",
              "    </tr>\n",
              "    <tr>\n",
              "      <th>2</th>\n",
              "      <td>2</td>\n",
              "      <td>15</td>\n",
              "      <td>left_wrist</td>\n",
              "      <td>0.02</td>\n",
              "      <td>-0.277</td>\n",
              "      <td>-0.707</td>\n",
              "      <td>-0.168</td>\n",
              "      <td>0.777690</td>\n",
              "      <td>0</td>\n",
              "    </tr>\n",
              "    <tr>\n",
              "      <th>3</th>\n",
              "      <td>3</td>\n",
              "      <td>15</td>\n",
              "      <td>left_wrist</td>\n",
              "      <td>0.03</td>\n",
              "      <td>-0.277</td>\n",
              "      <td>-0.680</td>\n",
              "      <td>-0.160</td>\n",
              "      <td>0.751485</td>\n",
              "      <td>0</td>\n",
              "    </tr>\n",
              "    <tr>\n",
              "      <th>4</th>\n",
              "      <td>4</td>\n",
              "      <td>15</td>\n",
              "      <td>left_wrist</td>\n",
              "      <td>0.04</td>\n",
              "      <td>-0.289</td>\n",
              "      <td>-0.656</td>\n",
              "      <td>-0.160</td>\n",
              "      <td>0.734477</td>\n",
              "      <td>0</td>\n",
              "    </tr>\n",
              "    <tr>\n",
              "      <th>...</th>\n",
              "      <td>...</td>\n",
              "      <td>...</td>\n",
              "      <td>...</td>\n",
              "      <td>...</td>\n",
              "      <td>...</td>\n",
              "      <td>...</td>\n",
              "      <td>...</td>\n",
              "      <td>...</td>\n",
              "      <td>...</td>\n",
              "    </tr>\n",
              "    <tr>\n",
              "      <th>146</th>\n",
              "      <td>0</td>\n",
              "      <td>0</td>\n",
              "      <td>0</td>\n",
              "      <td>0.00</td>\n",
              "      <td>0.000</td>\n",
              "      <td>0.000</td>\n",
              "      <td>0.000</td>\n",
              "      <td>0.000000</td>\n",
              "      <td>0</td>\n",
              "    </tr>\n",
              "    <tr>\n",
              "      <th>147</th>\n",
              "      <td>0</td>\n",
              "      <td>0</td>\n",
              "      <td>0</td>\n",
              "      <td>0.00</td>\n",
              "      <td>0.000</td>\n",
              "      <td>0.000</td>\n",
              "      <td>0.000</td>\n",
              "      <td>0.000000</td>\n",
              "      <td>0</td>\n",
              "    </tr>\n",
              "    <tr>\n",
              "      <th>148</th>\n",
              "      <td>0</td>\n",
              "      <td>0</td>\n",
              "      <td>0</td>\n",
              "      <td>0.00</td>\n",
              "      <td>0.000</td>\n",
              "      <td>0.000</td>\n",
              "      <td>0.000</td>\n",
              "      <td>0.000000</td>\n",
              "      <td>0</td>\n",
              "    </tr>\n",
              "    <tr>\n",
              "      <th>149</th>\n",
              "      <td>0</td>\n",
              "      <td>0</td>\n",
              "      <td>0</td>\n",
              "      <td>0.00</td>\n",
              "      <td>0.000</td>\n",
              "      <td>0.000</td>\n",
              "      <td>0.000</td>\n",
              "      <td>0.000000</td>\n",
              "      <td>0</td>\n",
              "    </tr>\n",
              "    <tr>\n",
              "      <th>150</th>\n",
              "      <td>0</td>\n",
              "      <td>0</td>\n",
              "      <td>0</td>\n",
              "      <td>0.00</td>\n",
              "      <td>0.000</td>\n",
              "      <td>0.000</td>\n",
              "      <td>0.000</td>\n",
              "      <td>0.000000</td>\n",
              "      <td>0</td>\n",
              "    </tr>\n",
              "  </tbody>\n",
              "</table>\n",
              "<p>150 rows × 9 columns</p>\n",
              "</div>\n",
              "      <button class=\"colab-df-convert\" onclick=\"convertToInteractive('df-9294b7d1-623e-466e-9169-131ae72517b0')\"\n",
              "              title=\"Convert this dataframe to an interactive table.\"\n",
              "              style=\"display:none;\">\n",
              "        \n",
              "  <svg xmlns=\"http://www.w3.org/2000/svg\" height=\"24px\"viewBox=\"0 0 24 24\"\n",
              "       width=\"24px\">\n",
              "    <path d=\"M0 0h24v24H0V0z\" fill=\"none\"/>\n",
              "    <path d=\"M18.56 5.44l.94 2.06.94-2.06 2.06-.94-2.06-.94-.94-2.06-.94 2.06-2.06.94zm-11 1L8.5 8.5l.94-2.06 2.06-.94-2.06-.94L8.5 2.5l-.94 2.06-2.06.94zm10 10l.94 2.06.94-2.06 2.06-.94-2.06-.94-.94-2.06-.94 2.06-2.06.94z\"/><path d=\"M17.41 7.96l-1.37-1.37c-.4-.4-.92-.59-1.43-.59-.52 0-1.04.2-1.43.59L10.3 9.45l-7.72 7.72c-.78.78-.78 2.05 0 2.83L4 21.41c.39.39.9.59 1.41.59.51 0 1.02-.2 1.41-.59l7.78-7.78 2.81-2.81c.8-.78.8-2.07 0-2.86zM5.41 20L4 18.59l7.72-7.72 1.47 1.35L5.41 20z\"/>\n",
              "  </svg>\n",
              "      </button>\n",
              "      \n",
              "  <style>\n",
              "    .colab-df-container {\n",
              "      display:flex;\n",
              "      flex-wrap:wrap;\n",
              "      gap: 12px;\n",
              "    }\n",
              "\n",
              "    .colab-df-convert {\n",
              "      background-color: #E8F0FE;\n",
              "      border: none;\n",
              "      border-radius: 50%;\n",
              "      cursor: pointer;\n",
              "      display: none;\n",
              "      fill: #1967D2;\n",
              "      height: 32px;\n",
              "      padding: 0 0 0 0;\n",
              "      width: 32px;\n",
              "    }\n",
              "\n",
              "    .colab-df-convert:hover {\n",
              "      background-color: #E2EBFA;\n",
              "      box-shadow: 0px 1px 2px rgba(60, 64, 67, 0.3), 0px 1px 3px 1px rgba(60, 64, 67, 0.15);\n",
              "      fill: #174EA6;\n",
              "    }\n",
              "\n",
              "    [theme=dark] .colab-df-convert {\n",
              "      background-color: #3B4455;\n",
              "      fill: #D2E3FC;\n",
              "    }\n",
              "\n",
              "    [theme=dark] .colab-df-convert:hover {\n",
              "      background-color: #434B5C;\n",
              "      box-shadow: 0px 1px 3px 1px rgba(0, 0, 0, 0.15);\n",
              "      filter: drop-shadow(0px 1px 2px rgba(0, 0, 0, 0.3));\n",
              "      fill: #FFFFFF;\n",
              "    }\n",
              "  </style>\n",
              "\n",
              "      <script>\n",
              "        const buttonEl =\n",
              "          document.querySelector('#df-9294b7d1-623e-466e-9169-131ae72517b0 button.colab-df-convert');\n",
              "        buttonEl.style.display =\n",
              "          google.colab.kernel.accessAllowed ? 'block' : 'none';\n",
              "\n",
              "        async function convertToInteractive(key) {\n",
              "          const element = document.querySelector('#df-9294b7d1-623e-466e-9169-131ae72517b0');\n",
              "          const dataTable =\n",
              "            await google.colab.kernel.invokeFunction('convertToInteractive',\n",
              "                                                     [key], {});\n",
              "          if (!dataTable) return;\n",
              "\n",
              "          const docLinkHtml = 'Like what you see? Visit the ' +\n",
              "            '<a target=\"_blank\" href=https://colab.research.google.com/notebooks/data_table.ipynb>data table notebook</a>'\n",
              "            + ' to learn more about interactive tables.';\n",
              "          element.innerHTML = '';\n",
              "          dataTable['output_type'] = 'display_data';\n",
              "          await google.colab.output.renderOutput(dataTable, element);\n",
              "          const docLink = document.createElement('div');\n",
              "          docLink.innerHTML = docLinkHtml;\n",
              "          element.appendChild(docLink);\n",
              "        }\n",
              "      </script>\n",
              "    </div>\n",
              "  </div>\n",
              "  "
            ],
            "text/plain": [
              "     Unnamed: 0  subj_id      loc_id  time_s  ...      y      z  magnitude  label\n",
              "0             0       15  left_wrist    0.00  ... -0.773 -0.160   0.834284      0\n",
              "1             1       15  left_wrist    0.01  ... -0.738 -0.172   0.803109      0\n",
              "2             2       15  left_wrist    0.02  ... -0.707 -0.168   0.777690      0\n",
              "3             3       15  left_wrist    0.03  ... -0.680 -0.160   0.751485      0\n",
              "4             4       15  left_wrist    0.04  ... -0.656 -0.160   0.734477      0\n",
              "..          ...      ...         ...     ...  ...    ...    ...        ...    ...\n",
              "146           0        0           0    0.00  ...  0.000  0.000   0.000000      0\n",
              "147           0        0           0    0.00  ...  0.000  0.000   0.000000      0\n",
              "148           0        0           0    0.00  ...  0.000  0.000   0.000000      0\n",
              "149           0        0           0    0.00  ...  0.000  0.000   0.000000      0\n",
              "150           0        0           0    0.00  ...  0.000  0.000   0.000000      0\n",
              "\n",
              "[150 rows x 9 columns]"
            ]
          },
          "metadata": {},
          "execution_count": 12
        }
      ]
    },
    {
      "cell_type": "code",
      "source": [
        "import matplotlib.pyplot  as plt\n",
        "plt.figure(figsize=(10, 10), dpi=80)\n",
        "for each in range(0,30,2):\n",
        "  plt.plot( np.arange(1,151)   , list(list_of_Zerodf[each]['magnitude']), color = \"black\" )\n",
        "plt.show()"
      ],
      "metadata": {
        "colab": {
          "base_uri": "https://localhost:8080/",
          "height": 654
        },
        "id": "7JpxcL_6FV3p",
        "outputId": "bad8852e-6e8d-498e-b38d-7ff3b059a075"
      },
      "execution_count": null,
      "outputs": [
        {
          "output_type": "display_data",
          "data": {
            "image/png": "[encoded data removed]",
            "text/plain": [
              "<Figure size 800x800 with 1 Axes>"
            ]
          },
          "metadata": {
            "needs_background": "light"
          }
        }
      ]
    },
    {
      "cell_type": "code",
      "source": [
        "import matplotlib.pyplot  as plt\n",
        "plt.figure(figsize=(10, 10), dpi=80)\n",
        "for each in range(1,31,2):\n",
        "  plt.plot( np.arange(1,151)   , list(list_of_Zerodf[each]['magnitude']), color = \"red\" )\n",
        "plt.show()"
      ],
      "metadata": {
        "colab": {
          "base_uri": "https://localhost:8080/",
          "height": 654
        },
        "id": "HqXlFRTgHOuu",
        "outputId": "1f90ca3e-b201-41ad-97e7-83c2c482b4cc"
      },
      "execution_count": null,
      "outputs": [
        {
          "output_type": "display_data",
          "data": {
            "image/png": "[encoded data removed]",
            "text/plain": [
              "<Figure size 800x800 with 1 Axes>"
            ]
          },
          "metadata": {
            "needs_background": "light"
          }
        }
      ]
    },
    {
      "cell_type": "markdown",
      "source": [
        "# ***CNN***"
      ],
      "metadata": {
        "id": "DMRrwcXsEGyG"
      }
    },
    {
      "cell_type": "code",
      "execution_count": null,
      "metadata": {
        "colab": {
          "base_uri": "https://localhost:8080/"
        },
        "id": "kVTwOH0AWzvW",
        "outputId": "33036e78-73f2-43e9-e802-070ef2c4b59f"
      },
      "outputs": [
        {
          "output_type": "stream",
          "name": "stdout",
          "text": [
            "Model: \"sequential_6\"\n",
            "_________________________________________________________________\n",
            " Layer (type)                Output Shape              Param #   \n",
            "=================================================================\n",
            " conv1d_14 (Conv1D)          (None, 149, 160)          1120      \n",
            "                                                                 \n",
            " max_pooling1d_6 (MaxPooling  (None, 149, 160)         0         \n",
            " 1D)                                                             \n",
            "                                                                 \n",
            " conv1d_15 (Conv1D)          (None, 148, 128)          41088     \n",
            "                                                                 \n",
            " max_pooling1d_7 (MaxPooling  (None, 148, 128)         0         \n",
            " 1D)                                                             \n",
            "                                                                 \n",
            " conv1d_16 (Conv1D)          (None, 147, 96)           24672     \n",
            "                                                                 \n",
            " conv1d_17 (Conv1D)          (None, 146, 64)           12352     \n",
            "                                                                 \n",
            " max_pooling1d_8 (MaxPooling  (None, 146, 64)          0         \n",
            " 1D)                                                             \n",
            "                                                                 \n",
            " flatten_6 (Flatten)         (None, 9344)              0         \n",
            "                                                                 \n",
            " dropout_6 (Dropout)         (None, 9344)              0         \n",
            "                                                                 \n",
            " dense_7 (Dense)             (None, 64)                598080    \n",
            "                                                                 \n",
            " dense_8 (Dense)             (None, 1)                 65        \n",
            "                                                                 \n",
            "=================================================================\n",
            "Total params: 677,377\n",
            "Trainable params: 677,377\n",
            "Non-trainable params: 0\n",
            "_________________________________________________________________\n"
          ]
        }
      ],
      "source": [
        "model_cnn = Sequential() \n",
        "\n",
        "model_cnn.add(Conv1D(filters=160, kernel_size=2, activation='relu', input_shape=(150,3)))\n",
        "\n",
        "model_cnn.add(MaxPooling1D(pool_size=1))\n",
        "model_cnn.add(Conv1D(filters=128, kernel_size=2, activation='relu'))\n",
        "model_cnn.add(MaxPooling1D(pool_size=1))\n",
        "model_cnn.add(Conv1D(filters=96, kernel_size=2, activation='relu'))\n",
        "model_cnn.add(Conv1D(filters=64, kernel_size=2, activation='relu'))\n",
        "model_cnn.add(MaxPooling1D(pool_size=1))\n",
        "model_cnn.add(Flatten())\n",
        "model_cnn.add(Dropout(0.5))\n",
        "model_cnn.add(Dense(64, activation='sigmoid'))\n",
        "model_cnn.add(Dense(1,activation='sigmoid'))\n",
        "\n",
        "model_cnn.compile(loss='binary_crossentropy', optimizer=\"adam\", metrics = [\"accuracy\", tf.keras.metrics.Recall(), tf.keras.metrics.Precision()])\n",
        "model_cnn.summary()"
      ]
    },
    {
      "cell_type": "code",
      "execution_count": null,
      "metadata": {
        "id": "Zy4JzqI-W0kg",
        "colab": {
          "base_uri": "https://localhost:8080/"
        },
        "outputId": "fac09842-e8d5-49b3-b0a6-639a4fd1a472"
      },
      "outputs": [
        {
          "output_type": "stream",
          "name": "stdout",
          "text": [
            "Epoch 1/100\n",
            "10/10 [==============================] - 1s 46ms/step - loss: 0.4453 - accuracy: 0.8024 - recall_6: 0.0170 - precision_6: 0.4156\n",
            "Epoch 2/100\n",
            "10/10 [==============================] - 0s 37ms/step - loss: 0.3702 - accuracy: 0.7912 - recall_6: 0.2544 - precision_6: 0.4440\n",
            "Epoch 3/100\n",
            "10/10 [==============================] - 0s 37ms/step - loss: 0.3445 - accuracy: 0.8001 - recall_6: 0.2194 - precision_6: 0.4797\n",
            "Epoch 4/100\n",
            "10/10 [==============================] - 0s 37ms/step - loss: 0.3245 - accuracy: 0.8078 - recall_6: 0.2766 - precision_6: 0.5194\n",
            "Epoch 5/100\n",
            "10/10 [==============================] - 0s 36ms/step - loss: 0.3149 - accuracy: 0.8090 - recall_6: 0.4764 - precision_6: 0.5143\n",
            "Epoch 6/100\n",
            "10/10 [==============================] - 0s 37ms/step - loss: 0.3036 - accuracy: 0.8097 - recall_6: 0.3842 - precision_6: 0.5205\n",
            "Epoch 7/100\n",
            "10/10 [==============================] - 0s 37ms/step - loss: 0.2876 - accuracy: 0.8141 - recall_6: 0.5405 - precision_6: 0.5255\n",
            "Epoch 8/100\n",
            "10/10 [==============================] - 0s 37ms/step - loss: 0.2831 - accuracy: 0.8132 - recall_6: 0.4971 - precision_6: 0.5255\n",
            "Epoch 9/100\n",
            "10/10 [==============================] - 0s 37ms/step - loss: 0.2792 - accuracy: 0.8182 - recall_6: 0.5077 - precision_6: 0.5391\n",
            "Epoch 10/100\n",
            "10/10 [==============================] - 0s 39ms/step - loss: 0.2763 - accuracy: 0.8215 - recall_6: 0.5432 - precision_6: 0.5452\n",
            "Epoch 11/100\n",
            "10/10 [==============================] - 0s 37ms/step - loss: 0.2755 - accuracy: 0.8223 - recall_6: 0.5066 - precision_6: 0.5513\n",
            "Epoch 12/100\n",
            "10/10 [==============================] - 0s 37ms/step - loss: 0.2757 - accuracy: 0.8201 - recall_6: 0.4796 - precision_6: 0.5475\n",
            "Epoch 13/100\n",
            "10/10 [==============================] - 0s 36ms/step - loss: 0.2747 - accuracy: 0.8218 - recall_6: 0.5225 - precision_6: 0.5481\n",
            "Epoch 14/100\n",
            "10/10 [==============================] - 0s 37ms/step - loss: 0.2744 - accuracy: 0.8200 - recall_6: 0.5040 - precision_6: 0.5447\n",
            "Epoch 15/100\n",
            "10/10 [==============================] - 0s 37ms/step - loss: 0.2728 - accuracy: 0.8229 - recall_6: 0.5829 - precision_6: 0.5456\n",
            "Epoch 16/100\n",
            "10/10 [==============================] - 0s 36ms/step - loss: 0.2718 - accuracy: 0.8212 - recall_6: 0.5480 - precision_6: 0.5439\n",
            "Epoch 17/100\n",
            "10/10 [==============================] - 0s 36ms/step - loss: 0.2710 - accuracy: 0.8285 - recall_6: 0.5872 - precision_6: 0.5602\n",
            "Epoch 18/100\n",
            "10/10 [==============================] - 0s 36ms/step - loss: 0.2705 - accuracy: 0.8259 - recall_6: 0.5225 - precision_6: 0.5605\n",
            "Epoch 19/100\n",
            "10/10 [==============================] - 0s 37ms/step - loss: 0.2684 - accuracy: 0.8304 - recall_6: 0.5745 - precision_6: 0.5669\n",
            "Epoch 20/100\n",
            "10/10 [==============================] - 0s 37ms/step - loss: 0.2679 - accuracy: 0.8298 - recall_6: 0.5040 - precision_6: 0.5757\n",
            "Epoch 21/100\n",
            "10/10 [==============================] - 0s 36ms/step - loss: 0.2685 - accuracy: 0.8331 - recall_6: 0.5527 - precision_6: 0.5782\n",
            "Epoch 22/100\n",
            "10/10 [==============================] - 0s 36ms/step - loss: 0.2676 - accuracy: 0.8292 - recall_6: 0.5718 - precision_6: 0.5637\n",
            "Epoch 23/100\n",
            "10/10 [==============================] - 0s 37ms/step - loss: 0.2651 - accuracy: 0.8348 - recall_6: 0.6232 - precision_6: 0.5725\n",
            "Epoch 24/100\n",
            "10/10 [==============================] - 0s 36ms/step - loss: 0.2679 - accuracy: 0.8315 - recall_6: 0.5384 - precision_6: 0.5756\n",
            "Epoch 25/100\n",
            "10/10 [==============================] - 0s 37ms/step - loss: 0.2644 - accuracy: 0.8362 - recall_6: 0.5819 - precision_6: 0.5828\n",
            "Epoch 26/100\n",
            "10/10 [==============================] - 0s 36ms/step - loss: 0.2663 - accuracy: 0.8374 - recall_6: 0.5469 - precision_6: 0.5928\n",
            "Epoch 27/100\n",
            "10/10 [==============================] - 0s 37ms/step - loss: 0.2680 - accuracy: 0.8321 - recall_6: 0.5533 - precision_6: 0.5749\n",
            "Epoch 28/100\n",
            "10/10 [==============================] - 0s 37ms/step - loss: 0.2638 - accuracy: 0.8356 - recall_6: 0.6137 - precision_6: 0.5761\n",
            "Epoch 29/100\n",
            "10/10 [==============================] - 0s 37ms/step - loss: 0.2616 - accuracy: 0.8401 - recall_6: 0.5798 - precision_6: 0.5949\n",
            "Epoch 30/100\n",
            "10/10 [==============================] - 0s 37ms/step - loss: 0.2632 - accuracy: 0.8365 - recall_6: 0.5877 - precision_6: 0.5828\n",
            "Epoch 31/100\n",
            "10/10 [==============================] - 0s 37ms/step - loss: 0.2605 - accuracy: 0.8372 - recall_6: 0.5750 - precision_6: 0.5868\n",
            "Epoch 32/100\n",
            "10/10 [==============================] - 0s 37ms/step - loss: 0.2625 - accuracy: 0.8361 - recall_6: 0.5919 - precision_6: 0.5809\n",
            "Epoch 33/100\n",
            "10/10 [==============================] - 0s 36ms/step - loss: 0.2610 - accuracy: 0.8401 - recall_6: 0.5983 - precision_6: 0.5914\n",
            "Epoch 34/100\n",
            "10/10 [==============================] - 0s 37ms/step - loss: 0.2599 - accuracy: 0.8405 - recall_6: 0.6110 - precision_6: 0.5904\n",
            "Epoch 35/100\n",
            "10/10 [==============================] - 0s 37ms/step - loss: 0.2611 - accuracy: 0.8392 - recall_6: 0.5755 - precision_6: 0.5931\n",
            "Epoch 36/100\n",
            "10/10 [==============================] - 0s 37ms/step - loss: 0.2599 - accuracy: 0.8404 - recall_6: 0.5898 - precision_6: 0.5939\n",
            "Epoch 37/100\n",
            "10/10 [==============================] - 0s 37ms/step - loss: 0.2588 - accuracy: 0.8395 - recall_6: 0.5686 - precision_6: 0.5951\n",
            "Epoch 38/100\n",
            "10/10 [==============================] - 0s 37ms/step - loss: 0.2591 - accuracy: 0.8412 - recall_6: 0.5866 - precision_6: 0.5971\n",
            "Epoch 39/100\n",
            "10/10 [==============================] - 0s 37ms/step - loss: 0.2581 - accuracy: 0.8449 - recall_6: 0.6243 - precision_6: 0.6007\n",
            "Epoch 40/100\n",
            "10/10 [==============================] - 0s 36ms/step - loss: 0.2583 - accuracy: 0.8429 - recall_6: 0.5898 - precision_6: 0.6016\n",
            "Epoch 41/100\n",
            "10/10 [==============================] - 0s 37ms/step - loss: 0.2610 - accuracy: 0.8388 - recall_6: 0.5882 - precision_6: 0.5895\n",
            "Epoch 42/100\n",
            "10/10 [==============================] - 0s 37ms/step - loss: 0.2578 - accuracy: 0.8437 - recall_6: 0.6031 - precision_6: 0.6015\n",
            "Epoch 43/100\n",
            "10/10 [==============================] - 0s 37ms/step - loss: 0.2557 - accuracy: 0.8471 - recall_6: 0.6290 - precision_6: 0.6065\n",
            "Epoch 44/100\n",
            "10/10 [==============================] - 0s 37ms/step - loss: 0.2554 - accuracy: 0.8484 - recall_6: 0.6534 - precision_6: 0.6053\n",
            "Epoch 45/100\n",
            "10/10 [==============================] - 0s 37ms/step - loss: 0.2544 - accuracy: 0.8470 - recall_6: 0.5898 - precision_6: 0.6149\n",
            "Epoch 46/100\n",
            "10/10 [==============================] - 0s 37ms/step - loss: 0.2537 - accuracy: 0.8498 - recall_6: 0.5861 - precision_6: 0.6252\n",
            "Epoch 47/100\n",
            "10/10 [==============================] - 0s 37ms/step - loss: 0.2544 - accuracy: 0.8470 - recall_6: 0.6227 - precision_6: 0.6075\n",
            "Epoch 48/100\n",
            "10/10 [==============================] - 0s 37ms/step - loss: 0.2513 - accuracy: 0.8527 - recall_6: 0.6110 - precision_6: 0.6280\n",
            "Epoch 49/100\n",
            "10/10 [==============================] - 0s 36ms/step - loss: 0.2541 - accuracy: 0.8452 - recall_6: 0.5819 - precision_6: 0.6107\n",
            "Epoch 50/100\n",
            "10/10 [==============================] - 0s 37ms/step - loss: 0.2524 - accuracy: 0.8518 - recall_6: 0.6137 - precision_6: 0.6246\n",
            "Epoch 51/100\n",
            "10/10 [==============================] - 0s 37ms/step - loss: 0.2517 - accuracy: 0.8507 - recall_6: 0.6184 - precision_6: 0.6198\n",
            "Epoch 52/100\n",
            "10/10 [==============================] - 0s 37ms/step - loss: 0.2511 - accuracy: 0.8491 - recall_6: 0.6131 - precision_6: 0.6161\n",
            "Epoch 53/100\n",
            "10/10 [==============================] - 0s 37ms/step - loss: 0.2518 - accuracy: 0.8490 - recall_6: 0.6465 - precision_6: 0.6085\n",
            "Epoch 54/100\n",
            "10/10 [==============================] - 0s 37ms/step - loss: 0.2507 - accuracy: 0.8514 - recall_6: 0.6338 - precision_6: 0.6184\n",
            "Epoch 55/100\n",
            "10/10 [==============================] - 0s 37ms/step - loss: 0.2487 - accuracy: 0.8507 - recall_6: 0.5983 - precision_6: 0.6248\n",
            "Epoch 56/100\n",
            "10/10 [==============================] - 0s 36ms/step - loss: 0.2478 - accuracy: 0.8535 - recall_6: 0.6052 - precision_6: 0.6323\n",
            "Epoch 57/100\n",
            "10/10 [==============================] - 0s 36ms/step - loss: 0.2496 - accuracy: 0.8543 - recall_6: 0.6195 - precision_6: 0.6312\n",
            "Epoch 58/100\n",
            "10/10 [==============================] - 0s 37ms/step - loss: 0.2496 - accuracy: 0.8513 - recall_6: 0.6269 - precision_6: 0.6197\n",
            "Epoch 59/100\n",
            "10/10 [==============================] - 0s 36ms/step - loss: 0.2494 - accuracy: 0.8533 - recall_6: 0.6359 - precision_6: 0.6237\n",
            "Epoch 60/100\n",
            "10/10 [==============================] - 0s 37ms/step - loss: 0.2441 - accuracy: 0.8598 - recall_6: 0.6995 - precision_6: 0.6283\n",
            "Epoch 61/100\n",
            "10/10 [==============================] - 0s 37ms/step - loss: 0.2459 - accuracy: 0.8550 - recall_6: 0.6169 - precision_6: 0.6343\n",
            "Epoch 62/100\n",
            "10/10 [==============================] - 0s 37ms/step - loss: 0.2453 - accuracy: 0.8571 - recall_6: 0.6566 - precision_6: 0.6305\n",
            "Epoch 63/100\n",
            "10/10 [==============================] - 0s 37ms/step - loss: 0.2487 - accuracy: 0.8528 - recall_6: 0.6312 - precision_6: 0.6232\n",
            "Epoch 64/100\n",
            "10/10 [==============================] - 0s 37ms/step - loss: 0.2457 - accuracy: 0.8587 - recall_6: 0.6275 - precision_6: 0.6435\n",
            "Epoch 65/100\n",
            "10/10 [==============================] - 0s 37ms/step - loss: 0.2435 - accuracy: 0.8648 - recall_6: 0.6449 - precision_6: 0.6589\n",
            "Epoch 66/100\n",
            "10/10 [==============================] - 0s 36ms/step - loss: 0.2429 - accuracy: 0.8589 - recall_6: 0.6068 - precision_6: 0.6506\n",
            "Epoch 67/100\n",
            "10/10 [==============================] - 0s 36ms/step - loss: 0.2424 - accuracy: 0.8568 - recall_6: 0.6502 - precision_6: 0.6312\n",
            "Epoch 68/100\n",
            "10/10 [==============================] - 0s 37ms/step - loss: 0.2410 - accuracy: 0.8638 - recall_6: 0.6418 - precision_6: 0.6564\n",
            "Epoch 69/100\n",
            "10/10 [==============================] - 0s 37ms/step - loss: 0.2395 - accuracy: 0.8618 - recall_6: 0.6751 - precision_6: 0.6402\n",
            "Epoch 70/100\n",
            "10/10 [==============================] - 0s 36ms/step - loss: 0.2411 - accuracy: 0.8587 - recall_6: 0.6598 - precision_6: 0.6346\n",
            "Epoch 71/100\n",
            "10/10 [==============================] - 0s 37ms/step - loss: 0.2385 - accuracy: 0.8616 - recall_6: 0.6534 - precision_6: 0.6455\n",
            "Epoch 72/100\n",
            "10/10 [==============================] - 0s 37ms/step - loss: 0.2391 - accuracy: 0.8602 - recall_6: 0.6402 - precision_6: 0.6450\n",
            "Epoch 73/100\n",
            "10/10 [==============================] - 0s 36ms/step - loss: 0.2357 - accuracy: 0.8675 - recall_6: 0.6375 - precision_6: 0.6709\n",
            "Epoch 74/100\n",
            "10/10 [==============================] - 0s 37ms/step - loss: 0.2346 - accuracy: 0.8693 - recall_6: 0.6645 - precision_6: 0.6677\n",
            "Epoch 75/100\n",
            "10/10 [==============================] - 0s 37ms/step - loss: 0.2370 - accuracy: 0.8598 - recall_6: 0.6322 - precision_6: 0.6459\n",
            "Epoch 76/100\n",
            "10/10 [==============================] - 0s 37ms/step - loss: 0.2368 - accuracy: 0.8646 - recall_6: 0.6698 - precision_6: 0.6505\n",
            "Epoch 77/100\n",
            "10/10 [==============================] - 0s 37ms/step - loss: 0.2335 - accuracy: 0.8671 - recall_6: 0.6630 - precision_6: 0.6609\n",
            "Epoch 78/100\n",
            "10/10 [==============================] - 0s 37ms/step - loss: 0.2323 - accuracy: 0.8687 - recall_6: 0.6736 - precision_6: 0.6627\n",
            "Epoch 79/100\n",
            "10/10 [==============================] - 0s 37ms/step - loss: 0.2321 - accuracy: 0.8694 - recall_6: 0.6577 - precision_6: 0.6704\n",
            "Epoch 80/100\n",
            "10/10 [==============================] - 0s 37ms/step - loss: 0.2306 - accuracy: 0.8675 - recall_6: 0.6842 - precision_6: 0.6557\n",
            "Epoch 81/100\n",
            "10/10 [==============================] - 0s 37ms/step - loss: 0.2323 - accuracy: 0.8658 - recall_6: 0.6524 - precision_6: 0.6597\n",
            "Epoch 82/100\n",
            "10/10 [==============================] - 0s 36ms/step - loss: 0.2327 - accuracy: 0.8672 - recall_6: 0.6762 - precision_6: 0.6571\n",
            "Epoch 83/100\n",
            "10/10 [==============================] - 0s 37ms/step - loss: 0.2275 - accuracy: 0.8730 - recall_6: 0.6863 - precision_6: 0.6731\n",
            "Epoch 84/100\n",
            "10/10 [==============================] - 0s 36ms/step - loss: 0.2278 - accuracy: 0.8707 - recall_6: 0.6709 - precision_6: 0.6706\n",
            "Epoch 85/100\n",
            "10/10 [==============================] - 0s 37ms/step - loss: 0.2272 - accuracy: 0.8731 - recall_6: 0.6852 - precision_6: 0.6738\n",
            "Epoch 86/100\n",
            "10/10 [==============================] - 0s 37ms/step - loss: 0.2252 - accuracy: 0.8736 - recall_6: 0.6677 - precision_6: 0.6814\n",
            "Epoch 87/100\n",
            "10/10 [==============================] - 0s 37ms/step - loss: 0.2263 - accuracy: 0.8758 - recall_6: 0.6773 - precision_6: 0.6860\n",
            "Epoch 88/100\n",
            "10/10 [==============================] - 0s 36ms/step - loss: 0.2219 - accuracy: 0.8774 - recall_6: 0.6863 - precision_6: 0.6881\n",
            "Epoch 89/100\n",
            "10/10 [==============================] - 0s 36ms/step - loss: 0.2257 - accuracy: 0.8723 - recall_6: 0.6884 - precision_6: 0.6699\n",
            "Epoch 90/100\n",
            "10/10 [==============================] - 0s 36ms/step - loss: 0.2232 - accuracy: 0.8765 - recall_6: 0.6969 - precision_6: 0.6810\n",
            "Epoch 91/100\n",
            "10/10 [==============================] - 0s 37ms/step - loss: 0.2278 - accuracy: 0.8700 - recall_6: 0.6603 - precision_6: 0.6717\n",
            "Epoch 92/100\n",
            "10/10 [==============================] - 0s 36ms/step - loss: 0.2220 - accuracy: 0.8774 - recall_6: 0.6698 - precision_6: 0.6945\n",
            "Epoch 93/100\n",
            "10/10 [==============================] - 0s 36ms/step - loss: 0.2221 - accuracy: 0.8767 - recall_6: 0.6879 - precision_6: 0.6850\n",
            "Epoch 94/100\n",
            "10/10 [==============================] - 0s 37ms/step - loss: 0.2169 - accuracy: 0.8846 - recall_6: 0.7038 - precision_6: 0.7068\n",
            "Epoch 95/100\n",
            "10/10 [==============================] - 0s 37ms/step - loss: 0.2153 - accuracy: 0.8835 - recall_6: 0.7112 - precision_6: 0.7001\n",
            "Epoch 96/100\n",
            "10/10 [==============================] - 0s 37ms/step - loss: 0.2132 - accuracy: 0.8835 - recall_6: 0.7043 - precision_6: 0.7028\n",
            "Epoch 97/100\n",
            "10/10 [==============================] - 0s 37ms/step - loss: 0.2155 - accuracy: 0.8818 - recall_6: 0.6974 - precision_6: 0.6993\n",
            "Epoch 98/100\n",
            "10/10 [==============================] - 0s 37ms/step - loss: 0.2167 - accuracy: 0.8834 - recall_6: 0.6889 - precision_6: 0.7088\n",
            "Epoch 99/100\n",
            "10/10 [==============================] - 0s 37ms/step - loss: 0.2155 - accuracy: 0.8830 - recall_6: 0.7165 - precision_6: 0.6962\n",
            "Epoch 100/100\n",
            "10/10 [==============================] - 0s 36ms/step - loss: 0.2111 - accuracy: 0.8836 - recall_6: 0.7112 - precision_6: 0.7004\n"
          ]
        },
        {
          "output_type": "execute_result",
          "data": {
            "text/plain": [
              "<keras.callbacks.History at 0x7f8f2402c5d0>"
            ]
          },
          "metadata": {},
          "execution_count": 35
        }
      ],
      "source": [
        "model_cnn.fit(train_x, train_y, epochs=100, batch_size=1000, verbose=1)"
      ]
    },
    {
      "cell_type": "markdown",
      "source": [
        "# ***TEST DATA***"
      ],
      "metadata": {
        "id": "9rtuYysgENWX"
      }
    },
    {
      "cell_type": "code",
      "source": [
        "df = pd.read_csv('/content/drive/MyDrive/Colab Notebooks/dataset/LeftWristFinalDatasetWithlabels.csv')\n",
        "\n",
        "df['label'] = df['label'].astype('category')\n",
        "df['label'] = df['label'].cat.codes\n",
        "df['subj_id'] = df['subj_id'].astype('category')\n",
        "df['subj_id'] = df['subj_id'].cat.codes\n",
        "df_test = df[df.subj_id.isin( df.subj_id.unique()[25:] )]\n",
        "\n",
        "#find the peaks\n",
        "x = df_test['magnitude'].values\n",
        "peaks, _ = find_peaks(x, prominence=0.5)\n",
        "peaks = np.insert(peaks, 0, 0, axis=0)\n",
        "list_of_df = []\n",
        "#list of dataframes for each stride.\n",
        "for each in range(0, (len(peaks) - 1),1  ):\n",
        "  list_of_df.append( df_test.loc[ peaks[each]:(peaks[each + 1] - 1 )]) \n",
        "#zero imputing for each stride.\n",
        "list_of_Zerodf = []\n",
        "for each in range(0, len(list_of_df) ,1 ):\n",
        "  i = np.arange(start= list_of_df[each].shape[0] + 1 , stop=151 )\n",
        "  df_zero = pd.DataFrame(0, index=i, columns=list_of_df[each].columns)\n",
        "  w1 = pd.concat([list_of_df[each],df_zero])  \n",
        "  list_of_Zerodf.append(w1) \n",
        "\n",
        "print(list_of_Zerodf[3])\n",
        "\n",
        "#dataset after combining zero imputed df's.\n",
        "FinalDataFrame = pd.concat(list_of_Zerodf)\n",
        "\n",
        "xs = []\n",
        "ys = []\n",
        "zs = []\n",
        "train_labels = []\n",
        "new_list = []\n",
        "window_size = 150\n",
        "step_size = 150\n",
        "\n",
        "for i in range(0, FinalDataFrame.shape[0] - window_size, step_size):\n",
        "  xs = FinalDataFrame['x'].values[i: i + 150]\n",
        "  ys = FinalDataFrame['y'].values[i: i + 150]\n",
        "  zs = FinalDataFrame['z'].values[i: i + 150]\n",
        "\n",
        "  label = FinalDataFrame['label'].values[i: i + 150][0] \n",
        "  a = np.c_[ xs,ys,zs ]\n",
        "  new_list.append(a)\n",
        "  train_labels.append(label)\n",
        "\n",
        "test_x = np.asarray(new_list)\n",
        "test_y = np.asarray(train_labels)"
      ],
      "metadata": {
        "colab": {
          "base_uri": "https://localhost:8080/"
        },
        "id": "wZBT_IWX90g3",
        "outputId": "1eb16e93-8e68-4493-d621-67ce5abbf872"
      },
      "execution_count": null,
      "outputs": [
        {
          "output_type": "stream",
          "name": "stdout",
          "text": [
            "     Unnamed: 0  subj_id loc_id  time_s    x    y    z  magnitude  label\n",
            "1             0        0      0     0.0  0.0  0.0  0.0        0.0      0\n",
            "2             0        0      0     0.0  0.0  0.0  0.0        0.0      0\n",
            "3             0        0      0     0.0  0.0  0.0  0.0        0.0      0\n",
            "4             0        0      0     0.0  0.0  0.0  0.0        0.0      0\n",
            "5             0        0      0     0.0  0.0  0.0  0.0        0.0      0\n",
            "..          ...      ...    ...     ...  ...  ...  ...        ...    ...\n",
            "146           0        0      0     0.0  0.0  0.0  0.0        0.0      0\n",
            "147           0        0      0     0.0  0.0  0.0  0.0        0.0      0\n",
            "148           0        0      0     0.0  0.0  0.0  0.0        0.0      0\n",
            "149           0        0      0     0.0  0.0  0.0  0.0        0.0      0\n",
            "150           0        0      0     0.0  0.0  0.0  0.0        0.0      0\n",
            "\n",
            "[150 rows x 9 columns]\n"
          ]
        }
      ]
    },
    {
      "cell_type": "markdown",
      "source": [
        "# ***EVALUATION***"
      ],
      "metadata": {
        "id": "RrPI7z9xFCTC"
      }
    },
    {
      "cell_type": "code",
      "source": [
        "scores = model_cnn.evaluate(test_x,test_y, verbose=1)"
      ],
      "metadata": {
        "colab": {
          "base_uri": "https://localhost:8080/"
        },
        "id": "tRwJhoyF_UgB",
        "outputId": "4ce81231-e699-43e8-f242-498ab3ee065e"
      },
      "execution_count": null,
      "outputs": [
        {
          "output_type": "stream",
          "name": "stdout",
          "text": [
            "88/88 [==============================] - 1s 4ms/step - loss: 0.0010 - accuracy: 1.0000 - recall_6: 0.0000e+00 - precision_6: 0.0000e+00\n"
          ]
        }
      ]
    },
    {
      "cell_type": "code",
      "source": [
        "pred = model_cnn.predict(test_x) \n",
        "pred = np.argmax(pred, axis = 1)\n",
        "label = test_y\n",
        "\n",
        "x = pd.DataFrame(pred,columns= [\"preds\"])"
      ],
      "metadata": {
        "id": "Rb_Y-uHo_cPp"
      },
      "execution_count": null,
      "outputs": []
    },
    {
      "cell_type": "code",
      "source": [
        "from sklearn.metrics import confusion_matrix\n",
        "confusion_matrix(test_y, pred)"
      ],
      "metadata": {
        "colab": {
          "base_uri": "https://localhost:8080/"
        },
        "id": "SSd3zX18_m7v",
        "outputId": "7a8ca832-76a0-4d55-a376-200dccf052ad"
      },
      "execution_count": null,
      "outputs": [
        {
          "output_type": "execute_result",
          "data": {
            "text/plain": [
              "array([[2799]])"
            ]
          },
          "metadata": {},
          "execution_count": 39
        }
      ]
    },
    {
      "cell_type": "code",
      "source": [
        "from sklearn import metrics \n",
        "from sklearn.metrics import classification_report\n",
        "print(\"\\n -------------Classification Report-------------\\n\")\n",
        "print(classification_report(test_y, pred))"
      ],
      "metadata": {
        "colab": {
          "base_uri": "https://localhost:8080/"
        },
        "id": "ERyQnVts_qHa",
        "outputId": "6c22fe76-7411-467a-da38-87f09f3555cd"
      },
      "execution_count": null,
      "outputs": [
        {
          "output_type": "stream",
          "name": "stdout",
          "text": [
            "\n",
            " -------------Classification Report-------------\n",
            "\n",
            "              precision    recall  f1-score   support\n",
            "\n",
            "           0       1.00      1.00      1.00      2799\n",
            "\n",
            "    accuracy                           1.00      2799\n",
            "   macro avg       1.00      1.00      1.00      2799\n",
            "weighted avg       1.00      1.00      1.00      2799\n",
            "\n"
          ]
        }
      ]
    },
    {
      "cell_type": "markdown",
      "source": [
        "# ***EXP2***"
      ],
      "metadata": {
        "id": "Cwxs280YNq1A"
      }
    },
    {
      "cell_type": "code",
      "source": [
        "model_cnn1 = Sequential() \n",
        "\n",
        "model_cnn1.add(Conv1D(filters=160, kernel_size=2, activation='relu', input_shape=(150,3)))\n",
        "\n",
        "model_cnn1.add(MaxPooling1D(pool_size=1))\n",
        "model_cnn1.add(Conv1D(filters=128, kernel_size=2, activation='relu'))\n",
        "model_cnn1.add(MaxPooling1D(pool_size=1))\n",
        "# model_cnn1.add(Conv1D(filters=96, kernel_size=2, activation='relu'))\n",
        "# model_cnn1.add(Conv1D(filters=64, kernel_size=2, activation='relu'))\n",
        "model_cnn1.add(MaxPooling1D(pool_size=1))\n",
        "model_cnn1.add(Flatten())\n",
        "model_cnn1.add(Dropout(0.5))\n",
        "# model_cnn1.add(Dense(64, activation='sigmoid'))\n",
        "model_cnn1.add(Dense(1,activation='sigmoid'))\n",
        "\n",
        "model_cnn1.compile(loss='binary_crossentropy', optimizer=\"adam\", metrics = [\"accuracy\", tf.keras.metrics.Recall(), tf.keras.metrics.Precision()])\n",
        "model_cnn1.summary()"
      ],
      "metadata": {
        "colab": {
          "base_uri": "https://localhost:8080/"
        },
        "id": "2UZCB0OiNldI",
        "outputId": "2103ead3-39a2-4ed5-a1fe-fd1f5bb2a3ff"
      },
      "execution_count": null,
      "outputs": [
        {
          "output_type": "stream",
          "name": "stdout",
          "text": [
            "Model: \"sequential_7\"\n",
            "_________________________________________________________________\n",
            " Layer (type)                Output Shape              Param #   \n",
            "=================================================================\n",
            " conv1d_18 (Conv1D)          (None, 149, 160)          1120      \n",
            "                                                                 \n",
            " max_pooling1d_9 (MaxPooling  (None, 149, 160)         0         \n",
            " 1D)                                                             \n",
            "                                                                 \n",
            " conv1d_19 (Conv1D)          (None, 148, 128)          41088     \n",
            "                                                                 \n",
            " max_pooling1d_10 (MaxPoolin  (None, 148, 128)         0         \n",
            " g1D)                                                            \n",
            "                                                                 \n",
            " max_pooling1d_11 (MaxPoolin  (None, 148, 128)         0         \n",
            " g1D)                                                            \n",
            "                                                                 \n",
            " flatten_7 (Flatten)         (None, 18944)             0         \n",
            "                                                                 \n",
            " dropout_7 (Dropout)         (None, 18944)             0         \n",
            "                                                                 \n",
            " dense_9 (Dense)             (None, 1)                 18945     \n",
            "                                                                 \n",
            "=================================================================\n",
            "Total params: 61,153\n",
            "Trainable params: 61,153\n",
            "Non-trainable params: 0\n",
            "_________________________________________________________________\n"
          ]
        }
      ]
    },
    {
      "cell_type": "code",
      "source": [
        "model_cnn.fit(train_x, train_y, epochs=100, batch_size=1000, verbose=1)"
      ],
      "metadata": {
        "colab": {
          "base_uri": "https://localhost:8080/"
        },
        "id": "lNnKkppaN-7c",
        "outputId": "7cdb7b53-7a1f-45e7-8b5b-a6fcbfbc3385"
      },
      "execution_count": null,
      "outputs": [
        {
          "output_type": "stream",
          "name": "stdout",
          "text": [
            "Epoch 1/100\n",
            "10/10 [==============================] - 0s 38ms/step - loss: 0.2103 - accuracy: 0.8874 - recall_6: 0.7085 - precision_6: 0.7150\n",
            "Epoch 2/100\n",
            "10/10 [==============================] - 0s 37ms/step - loss: 0.2061 - accuracy: 0.8907 - recall_6: 0.7138 - precision_6: 0.7250\n",
            "Epoch 3/100\n",
            "10/10 [==============================] - 0s 37ms/step - loss: 0.2073 - accuracy: 0.8894 - recall_6: 0.7186 - precision_6: 0.7178\n",
            "Epoch 4/100\n",
            "10/10 [==============================] - 0s 37ms/step - loss: 0.2071 - accuracy: 0.8886 - recall_6: 0.7260 - precision_6: 0.7121\n",
            "Epoch 5/100\n",
            "10/10 [==============================] - 0s 37ms/step - loss: 0.2042 - accuracy: 0.8917 - recall_6: 0.7144 - precision_6: 0.7283\n",
            "Epoch 6/100\n",
            "10/10 [==============================] - 0s 36ms/step - loss: 0.2050 - accuracy: 0.8971 - recall_6: 0.7276 - precision_6: 0.7426\n",
            "Epoch 7/100\n",
            "10/10 [==============================] - 0s 36ms/step - loss: 0.2049 - accuracy: 0.8930 - recall_6: 0.7239 - precision_6: 0.7289\n",
            "Epoch 8/100\n",
            "10/10 [==============================] - 0s 37ms/step - loss: 0.2021 - accuracy: 0.8924 - recall_6: 0.7175 - precision_6: 0.7295\n",
            "Epoch 9/100\n",
            "10/10 [==============================] - 0s 37ms/step - loss: 0.1981 - accuracy: 0.8965 - recall_6: 0.7361 - precision_6: 0.7365\n",
            "Epoch 10/100\n",
            "10/10 [==============================] - 0s 37ms/step - loss: 0.1967 - accuracy: 0.8997 - recall_6: 0.7546 - precision_6: 0.7394\n",
            "Epoch 11/100\n",
            "10/10 [==============================] - 0s 37ms/step - loss: 0.1980 - accuracy: 0.8997 - recall_6: 0.7393 - precision_6: 0.7468\n",
            "Epoch 12/100\n",
            "10/10 [==============================] - 0s 37ms/step - loss: 0.1962 - accuracy: 0.8986 - recall_6: 0.7334 - precision_6: 0.7457\n",
            "Epoch 13/100\n",
            "10/10 [==============================] - 0s 36ms/step - loss: 0.1917 - accuracy: 0.9019 - recall_6: 0.7393 - precision_6: 0.7557\n",
            "Epoch 14/100\n",
            "10/10 [==============================] - 0s 37ms/step - loss: 0.1934 - accuracy: 0.9025 - recall_6: 0.7493 - precision_6: 0.7525\n",
            "Epoch 15/100\n",
            "10/10 [==============================] - 0s 37ms/step - loss: 0.1915 - accuracy: 0.9053 - recall_6: 0.7520 - precision_6: 0.7621\n",
            "Epoch 16/100\n",
            "10/10 [==============================] - 0s 37ms/step - loss: 0.1867 - accuracy: 0.9072 - recall_6: 0.7621 - precision_6: 0.7645\n",
            "Epoch 17/100\n",
            "10/10 [==============================] - 0s 37ms/step - loss: 0.1861 - accuracy: 0.9071 - recall_6: 0.7785 - precision_6: 0.7557\n",
            "Epoch 18/100\n",
            "10/10 [==============================] - 0s 37ms/step - loss: 0.1852 - accuracy: 0.9062 - recall_6: 0.7546 - precision_6: 0.7644\n",
            "Epoch 19/100\n",
            "10/10 [==============================] - 0s 37ms/step - loss: 0.1839 - accuracy: 0.9111 - recall_6: 0.7520 - precision_6: 0.7857\n",
            "Epoch 20/100\n",
            "10/10 [==============================] - 0s 37ms/step - loss: 0.1838 - accuracy: 0.9076 - recall_6: 0.7589 - precision_6: 0.7674\n",
            "Epoch 21/100\n",
            "10/10 [==============================] - 0s 37ms/step - loss: 0.1811 - accuracy: 0.9085 - recall_6: 0.7621 - precision_6: 0.7694\n",
            "Epoch 22/100\n",
            "10/10 [==============================] - 0s 37ms/step - loss: 0.1812 - accuracy: 0.9116 - recall_6: 0.7658 - precision_6: 0.7798\n",
            "Epoch 23/100\n",
            "10/10 [==============================] - 0s 36ms/step - loss: 0.1772 - accuracy: 0.9136 - recall_6: 0.7891 - precision_6: 0.7747\n",
            "Epoch 24/100\n",
            "10/10 [==============================] - 0s 37ms/step - loss: 0.1742 - accuracy: 0.9198 - recall_6: 0.7992 - precision_6: 0.7937\n",
            "Epoch 25/100\n",
            "10/10 [==============================] - 0s 37ms/step - loss: 0.1757 - accuracy: 0.9145 - recall_6: 0.7689 - precision_6: 0.7899\n",
            "Epoch 26/100\n",
            "10/10 [==============================] - 0s 37ms/step - loss: 0.1717 - accuracy: 0.9179 - recall_6: 0.7896 - precision_6: 0.7913\n",
            "Epoch 27/100\n",
            "10/10 [==============================] - 0s 37ms/step - loss: 0.1741 - accuracy: 0.9170 - recall_6: 0.7795 - precision_6: 0.7938\n",
            "Epoch 28/100\n",
            "10/10 [==============================] - 0s 36ms/step - loss: 0.1693 - accuracy: 0.9216 - recall_6: 0.7923 - precision_6: 0.8051\n",
            "Epoch 29/100\n",
            "10/10 [==============================] - 0s 37ms/step - loss: 0.1684 - accuracy: 0.9186 - recall_6: 0.8034 - precision_6: 0.7863\n",
            "Epoch 30/100\n",
            "10/10 [==============================] - 0s 37ms/step - loss: 0.1667 - accuracy: 0.9206 - recall_6: 0.8023 - precision_6: 0.7948\n",
            "Epoch 31/100\n",
            "10/10 [==============================] - 0s 37ms/step - loss: 0.1664 - accuracy: 0.9236 - recall_6: 0.8045 - precision_6: 0.8057\n",
            "Epoch 32/100\n",
            "10/10 [==============================] - 0s 37ms/step - loss: 0.1633 - accuracy: 0.9265 - recall_6: 0.8055 - precision_6: 0.8172\n",
            "Epoch 33/100\n",
            "10/10 [==============================] - 0s 37ms/step - loss: 0.1612 - accuracy: 0.9254 - recall_6: 0.7976 - precision_6: 0.8179\n",
            "Epoch 34/100\n",
            "10/10 [==============================] - 0s 37ms/step - loss: 0.1647 - accuracy: 0.9264 - recall_6: 0.7986 - precision_6: 0.8213\n",
            "Epoch 35/100\n",
            "10/10 [==============================] - 0s 37ms/step - loss: 0.1592 - accuracy: 0.9273 - recall_6: 0.8140 - precision_6: 0.8153\n",
            "Epoch 36/100\n",
            "10/10 [==============================] - 0s 37ms/step - loss: 0.1588 - accuracy: 0.9302 - recall_6: 0.8214 - precision_6: 0.8227\n",
            "Epoch 37/100\n",
            "10/10 [==============================] - 0s 37ms/step - loss: 0.1564 - accuracy: 0.9284 - recall_6: 0.8129 - precision_6: 0.8203\n",
            "Epoch 38/100\n",
            "10/10 [==============================] - 0s 37ms/step - loss: 0.1524 - accuracy: 0.9292 - recall_6: 0.8145 - precision_6: 0.8228\n",
            "Epoch 39/100\n",
            "10/10 [==============================] - 0s 37ms/step - loss: 0.1515 - accuracy: 0.9327 - recall_6: 0.8203 - precision_6: 0.8341\n",
            "Epoch 40/100\n",
            "10/10 [==============================] - 0s 37ms/step - loss: 0.1515 - accuracy: 0.9322 - recall_6: 0.8378 - precision_6: 0.8204\n",
            "Epoch 41/100\n",
            "10/10 [==============================] - 0s 36ms/step - loss: 0.1471 - accuracy: 0.9347 - recall_6: 0.8294 - precision_6: 0.8365\n",
            "Epoch 42/100\n",
            "10/10 [==============================] - 0s 37ms/step - loss: 0.1495 - accuracy: 0.9345 - recall_6: 0.8256 - precision_6: 0.8381\n",
            "Epoch 43/100\n",
            "10/10 [==============================] - 0s 37ms/step - loss: 0.1464 - accuracy: 0.9355 - recall_6: 0.8347 - precision_6: 0.8364\n",
            "Epoch 44/100\n",
            "10/10 [==============================] - 0s 37ms/step - loss: 0.1444 - accuracy: 0.9390 - recall_6: 0.8474 - precision_6: 0.8425\n",
            "Epoch 45/100\n",
            "10/10 [==============================] - 0s 37ms/step - loss: 0.1458 - accuracy: 0.9363 - recall_6: 0.8315 - precision_6: 0.8417\n",
            "Epoch 46/100\n",
            "10/10 [==============================] - 0s 37ms/step - loss: 0.1444 - accuracy: 0.9364 - recall_6: 0.8368 - precision_6: 0.8386\n",
            "Epoch 47/100\n",
            "10/10 [==============================] - 0s 37ms/step - loss: 0.1434 - accuracy: 0.9370 - recall_6: 0.8283 - precision_6: 0.8472\n",
            "Epoch 48/100\n",
            "10/10 [==============================] - 0s 37ms/step - loss: 0.1407 - accuracy: 0.9399 - recall_6: 0.8606 - precision_6: 0.8375\n",
            "Epoch 49/100\n",
            "10/10 [==============================] - 0s 36ms/step - loss: 0.1399 - accuracy: 0.9415 - recall_6: 0.8559 - precision_6: 0.8473\n",
            "Epoch 50/100\n",
            "10/10 [==============================] - 0s 37ms/step - loss: 0.1370 - accuracy: 0.9451 - recall_6: 0.8564 - precision_6: 0.8628\n",
            "Epoch 51/100\n",
            "10/10 [==============================] - 0s 37ms/step - loss: 0.1339 - accuracy: 0.9469 - recall_6: 0.8622 - precision_6: 0.8663\n",
            "Epoch 52/100\n",
            "10/10 [==============================] - 0s 37ms/step - loss: 0.1370 - accuracy: 0.9415 - recall_6: 0.8537 - precision_6: 0.8488\n",
            "Epoch 53/100\n",
            "10/10 [==============================] - 0s 37ms/step - loss: 0.1373 - accuracy: 0.9428 - recall_6: 0.8500 - precision_6: 0.8573\n",
            "Epoch 54/100\n",
            "10/10 [==============================] - 0s 37ms/step - loss: 0.1333 - accuracy: 0.9456 - recall_6: 0.8559 - precision_6: 0.8655\n",
            "Epoch 55/100\n",
            "10/10 [==============================] - 0s 37ms/step - loss: 0.1336 - accuracy: 0.9429 - recall_6: 0.8606 - precision_6: 0.8503\n",
            "Epoch 56/100\n",
            "10/10 [==============================] - 0s 36ms/step - loss: 0.1296 - accuracy: 0.9472 - recall_6: 0.8702 - precision_6: 0.8619\n",
            "Epoch 57/100\n",
            "10/10 [==============================] - 0s 36ms/step - loss: 0.1276 - accuracy: 0.9472 - recall_6: 0.8479 - precision_6: 0.8786\n",
            "Epoch 58/100\n",
            "10/10 [==============================] - 0s 37ms/step - loss: 0.1266 - accuracy: 0.9499 - recall_6: 0.8707 - precision_6: 0.8735\n",
            "Epoch 59/100\n",
            "10/10 [==============================] - 0s 37ms/step - loss: 0.1239 - accuracy: 0.9500 - recall_6: 0.8707 - precision_6: 0.8739\n",
            "Epoch 60/100\n",
            "10/10 [==============================] - 0s 37ms/step - loss: 0.1252 - accuracy: 0.9503 - recall_6: 0.8680 - precision_6: 0.8773\n",
            "Epoch 61/100\n",
            "10/10 [==============================] - 0s 37ms/step - loss: 0.1266 - accuracy: 0.9486 - recall_6: 0.8665 - precision_6: 0.8711\n",
            "Epoch 62/100\n",
            "10/10 [==============================] - 0s 37ms/step - loss: 0.1257 - accuracy: 0.9485 - recall_6: 0.8744 - precision_6: 0.8648\n",
            "Epoch 63/100\n",
            "10/10 [==============================] - 0s 37ms/step - loss: 0.1272 - accuracy: 0.9482 - recall_6: 0.8649 - precision_6: 0.8704\n",
            "Epoch 64/100\n",
            "10/10 [==============================] - 0s 37ms/step - loss: 0.1229 - accuracy: 0.9509 - recall_6: 0.8622 - precision_6: 0.8847\n",
            "Epoch 65/100\n",
            "10/10 [==============================] - 0s 37ms/step - loss: 0.1256 - accuracy: 0.9500 - recall_6: 0.8691 - precision_6: 0.8751\n",
            "Epoch 66/100\n",
            "10/10 [==============================] - 0s 37ms/step - loss: 0.1191 - accuracy: 0.9520 - recall_6: 0.8882 - precision_6: 0.8697\n",
            "Epoch 67/100\n",
            "10/10 [==============================] - 0s 36ms/step - loss: 0.1203 - accuracy: 0.9519 - recall_6: 0.8744 - precision_6: 0.8795\n",
            "Epoch 68/100\n",
            "10/10 [==============================] - 0s 37ms/step - loss: 0.1196 - accuracy: 0.9522 - recall_6: 0.8829 - precision_6: 0.8745\n",
            "Epoch 69/100\n",
            "10/10 [==============================] - 0s 37ms/step - loss: 0.1166 - accuracy: 0.9532 - recall_6: 0.8728 - precision_6: 0.8869\n",
            "Epoch 70/100\n",
            "10/10 [==============================] - 0s 37ms/step - loss: 0.1172 - accuracy: 0.9520 - recall_6: 0.8786 - precision_6: 0.8768\n",
            "Epoch 71/100\n",
            "10/10 [==============================] - 0s 37ms/step - loss: 0.1155 - accuracy: 0.9565 - recall_6: 0.8861 - precision_6: 0.8917\n",
            "Epoch 72/100\n",
            "10/10 [==============================] - 0s 36ms/step - loss: 0.1163 - accuracy: 0.9514 - recall_6: 0.8691 - precision_6: 0.8817\n",
            "Epoch 73/100\n",
            "10/10 [==============================] - 0s 37ms/step - loss: 0.1100 - accuracy: 0.9603 - recall_6: 0.8977 - precision_6: 0.8996\n",
            "Epoch 74/100\n",
            "10/10 [==============================] - 0s 36ms/step - loss: 0.1123 - accuracy: 0.9574 - recall_6: 0.8935 - precision_6: 0.8897\n",
            "Epoch 75/100\n",
            "10/10 [==============================] - 0s 37ms/step - loss: 0.1133 - accuracy: 0.9564 - recall_6: 0.8877 - precision_6: 0.8900\n",
            "Epoch 76/100\n",
            "10/10 [==============================] - 0s 37ms/step - loss: 0.1107 - accuracy: 0.9597 - recall_6: 0.8977 - precision_6: 0.8968\n",
            "Epoch 77/100\n",
            "10/10 [==============================] - 0s 37ms/step - loss: 0.1108 - accuracy: 0.9575 - recall_6: 0.8967 - precision_6: 0.8877\n",
            "Epoch 78/100\n",
            "10/10 [==============================] - 0s 37ms/step - loss: 0.1066 - accuracy: 0.9599 - recall_6: 0.8877 - precision_6: 0.9059\n",
            "Epoch 79/100\n",
            "10/10 [==============================] - 0s 37ms/step - loss: 0.1082 - accuracy: 0.9583 - recall_6: 0.8919 - precision_6: 0.8952\n",
            "Epoch 80/100\n",
            "10/10 [==============================] - 0s 37ms/step - loss: 0.1058 - accuracy: 0.9619 - recall_6: 0.9057 - precision_6: 0.9009\n",
            "Epoch 81/100\n",
            "10/10 [==============================] - 0s 37ms/step - loss: 0.1053 - accuracy: 0.9624 - recall_6: 0.8935 - precision_6: 0.9128\n",
            "Epoch 82/100\n",
            "10/10 [==============================] - 0s 37ms/step - loss: 0.1041 - accuracy: 0.9617 - recall_6: 0.8993 - precision_6: 0.9051\n",
            "Epoch 83/100\n",
            "10/10 [==============================] - 0s 37ms/step - loss: 0.1045 - accuracy: 0.9614 - recall_6: 0.9004 - precision_6: 0.9028\n",
            "Epoch 84/100\n",
            "10/10 [==============================] - 0s 37ms/step - loss: 0.1018 - accuracy: 0.9619 - recall_6: 0.9067 - precision_6: 0.9001\n",
            "Epoch 85/100\n",
            "10/10 [==============================] - 0s 37ms/step - loss: 0.1043 - accuracy: 0.9617 - recall_6: 0.8892 - precision_6: 0.9134\n",
            "Epoch 86/100\n",
            "10/10 [==============================] - 0s 37ms/step - loss: 0.1019 - accuracy: 0.9623 - recall_6: 0.8961 - precision_6: 0.9101\n",
            "Epoch 87/100\n",
            "10/10 [==============================] - 0s 37ms/step - loss: 0.0999 - accuracy: 0.9640 - recall_6: 0.9163 - precision_6: 0.9019\n",
            "Epoch 88/100\n",
            "10/10 [==============================] - 0s 37ms/step - loss: 0.0987 - accuracy: 0.9643 - recall_6: 0.9094 - precision_6: 0.9089\n",
            "Epoch 89/100\n",
            "10/10 [==============================] - 0s 37ms/step - loss: 0.0997 - accuracy: 0.9646 - recall_6: 0.9067 - precision_6: 0.9125\n",
            "Epoch 90/100\n",
            "10/10 [==============================] - 0s 36ms/step - loss: 0.0988 - accuracy: 0.9660 - recall_6: 0.9009 - precision_6: 0.9239\n",
            "Epoch 91/100\n",
            "10/10 [==============================] - 0s 36ms/step - loss: 0.0974 - accuracy: 0.9654 - recall_6: 0.9179 - precision_6: 0.9068\n",
            "Epoch 92/100\n",
            "10/10 [==============================] - 0s 37ms/step - loss: 0.0968 - accuracy: 0.9642 - recall_6: 0.9152 - precision_6: 0.9037\n",
            "Epoch 93/100\n",
            "10/10 [==============================] - 0s 37ms/step - loss: 0.0928 - accuracy: 0.9680 - recall_6: 0.9094 - precision_6: 0.9261\n",
            "Epoch 94/100\n",
            "10/10 [==============================] - 0s 37ms/step - loss: 0.0981 - accuracy: 0.9661 - recall_6: 0.9141 - precision_6: 0.9132\n",
            "Epoch 95/100\n",
            "10/10 [==============================] - 0s 37ms/step - loss: 0.0909 - accuracy: 0.9668 - recall_6: 0.9200 - precision_6: 0.9118\n",
            "Epoch 96/100\n",
            "10/10 [==============================] - 0s 36ms/step - loss: 0.0904 - accuracy: 0.9712 - recall_6: 0.9242 - precision_6: 0.9286\n",
            "Epoch 97/100\n",
            "10/10 [==============================] - 0s 37ms/step - loss: 0.0901 - accuracy: 0.9699 - recall_6: 0.9279 - precision_6: 0.9196\n",
            "Epoch 98/100\n",
            "10/10 [==============================] - 0s 37ms/step - loss: 0.0937 - accuracy: 0.9665 - recall_6: 0.9163 - precision_6: 0.9134\n",
            "Epoch 99/100\n",
            "10/10 [==============================] - 0s 37ms/step - loss: 0.0938 - accuracy: 0.9675 - recall_6: 0.9073 - precision_6: 0.9254\n",
            "Epoch 100/100\n",
            "10/10 [==============================] - 0s 37ms/step - loss: 0.0900 - accuracy: 0.9705 - recall_6: 0.9290 - precision_6: 0.9212\n"
          ]
        },
        {
          "output_type": "execute_result",
          "data": {
            "text/plain": [
              "<keras.callbacks.History at 0x7f8f22a4a790>"
            ]
          },
          "metadata": {},
          "execution_count": 42
        }
      ]
    },
    {
      "cell_type": "code",
      "source": [
        "scores = model_cnn.evaluate(test_x,test_y, verbose=1)\n",
        "scores"
      ],
      "metadata": {
        "colab": {
          "base_uri": "https://localhost:8080/"
        },
        "id": "c4OORTFtOHaR",
        "outputId": "20f09aa2-0b7e-4010-9ed5-e7a187e21056"
      },
      "execution_count": null,
      "outputs": [
        {
          "output_type": "stream",
          "name": "stdout",
          "text": [
            "88/88 [==============================] - 0s 3ms/step - loss: 1.0484e-06 - accuracy: 1.0000 - recall_6: 0.0000e+00 - precision_6: 0.0000e+00\n"
          ]
        },
        {
          "output_type": "execute_result",
          "data": {
            "text/plain": [
              "[1.048384888235887e-06, 1.0, 0.0, 0.0]"
            ]
          },
          "metadata": {},
          "execution_count": 43
        }
      ]
    },
    {
      "cell_type": "code",
      "source": [
        "pred = model_cnn.predict(test_x) \n",
        "pred = np.argmax(pred, axis = 1)\n",
        "label = test_y\n",
        "\n",
        "x = pd.DataFrame(pred,columns= [\"preds\"])"
      ],
      "metadata": {
        "id": "C5lalOVBR0lm"
      },
      "execution_count": null,
      "outputs": []
    },
    {
      "cell_type": "code",
      "source": [
        "from sklearn.metrics import confusion_matrix\n",
        "confusion_matrix(test_y, pred)"
      ],
      "metadata": {
        "colab": {
          "base_uri": "https://localhost:8080/"
        },
        "id": "hbKbnfnoR4Ko",
        "outputId": "bda2e6ef-d461-42c3-8976-68874743f4e6"
      },
      "execution_count": null,
      "outputs": [
        {
          "output_type": "execute_result",
          "data": {
            "text/plain": [
              "array([[2799]])"
            ]
          },
          "metadata": {},
          "execution_count": 45
        }
      ]
    },
    {
      "cell_type": "code",
      "source": [
        "from sklearn import metrics \n",
        "from sklearn.metrics import classification_report\n",
        "print(\"\\n -------------Classification Report-------------\\n\")\n",
        "print(classification_report(test_y, pred))"
      ],
      "metadata": {
        "colab": {
          "base_uri": "https://localhost:8080/"
        },
        "id": "R7-yEZgxR9Xn",
        "outputId": "80fe487e-52e5-461a-f85c-a97ee9a212ba"
      },
      "execution_count": null,
      "outputs": [
        {
          "output_type": "stream",
          "name": "stdout",
          "text": [
            "\n",
            " -------------Classification Report-------------\n",
            "\n",
            "              precision    recall  f1-score   support\n",
            "\n",
            "           0       1.00      1.00      1.00      2799\n",
            "\n",
            "    accuracy                           1.00      2799\n",
            "   macro avg       1.00      1.00      1.00      2799\n",
            "weighted avg       1.00      1.00      1.00      2799\n",
            "\n"
          ]
        }
      ]
    },
    {
      "cell_type": "markdown",
      "source": [
        "## ***EXP 3***"
      ],
      "metadata": {
        "id": "e8webxDA4cmD"
      }
    },
    {
      "cell_type": "code",
      "source": [
        "from keras import regularizers"
      ],
      "metadata": {
        "id": "x_-wwD5S4XDm"
      },
      "execution_count": null,
      "outputs": []
    },
    {
      "cell_type": "code",
      "source": [
        "model_cnn2 = Sequential() \n",
        "\n",
        "model_cnn2.add(Conv1D(filters=160, kernel_size=2, activation='relu', input_shape=(150,3),kernel_regularizer=regularizers.l2(0.01)))\n",
        "\n",
        "model_cnn2.add(Conv1D(filters=128, kernel_size=2, activation='relu'))\n",
        "\n",
        "model_cnn2.add(Flatten())\n",
        "model_cnn2.add(Dropout(0.7))\n",
        "\n",
        "model_cnn2.add(Dense(1,activation='sigmoid'))\n",
        "\n",
        "model_cnn2.compile(loss='binary_crossentropy', optimizer=\"adam\", metrics = [\"accuracy\", tf.keras.metrics.Recall(), tf.keras.metrics.Precision()])\n",
        "model_cnn2.summary()"
      ],
      "metadata": {
        "colab": {
          "base_uri": "https://localhost:8080/"
        },
        "id": "CaamenLa4ozQ",
        "outputId": "f4ff6977-2c74-450c-9bec-0b7e84038a53"
      },
      "execution_count": null,
      "outputs": [
        {
          "output_type": "stream",
          "name": "stdout",
          "text": [
            "Model: \"sequential_8\"\n",
            "_________________________________________________________________\n",
            " Layer (type)                Output Shape              Param #   \n",
            "=================================================================\n",
            " conv1d_20 (Conv1D)          (None, 149, 160)          1120      \n",
            "                                                                 \n",
            " conv1d_21 (Conv1D)          (None, 148, 128)          41088     \n",
            "                                                                 \n",
            " flatten_8 (Flatten)         (None, 18944)             0         \n",
            "                                                                 \n",
            " dropout_8 (Dropout)         (None, 18944)             0         \n",
            "                                                                 \n",
            " dense_10 (Dense)            (None, 1)                 18945     \n",
            "                                                                 \n",
            "=================================================================\n",
            "Total params: 61,153\n",
            "Trainable params: 61,153\n",
            "Non-trainable params: 0\n",
            "_________________________________________________________________\n"
          ]
        }
      ]
    },
    {
      "cell_type": "code",
      "source": [
        "model_cnn2.fit(train_x, train_y, epochs=50, batch_size=1000, verbose=1)"
      ],
      "metadata": {
        "colab": {
          "base_uri": "https://localhost:8080/"
        },
        "id": "DqTxzNGi5_IK",
        "outputId": "1b4bd001-cc75-4f66-e622-5ab534eaed38"
      },
      "execution_count": null,
      "outputs": [
        {
          "output_type": "stream",
          "name": "stdout",
          "text": [
            "Epoch 1/50\n",
            "10/10 [==============================] - 1s 27ms/step - loss: 0.5812 - accuracy: 0.7284 - recall_2: 0.2205 - precision_2: 0.4554\n",
            "Epoch 2/50\n",
            "10/10 [==============================] - 0s 26ms/step - loss: 0.4742 - accuracy: 0.7535 - recall_2: 0.4291 - precision_2: 0.5330\n",
            "Epoch 3/50\n",
            "10/10 [==============================] - 0s 27ms/step - loss: 0.4334 - accuracy: 0.7552 - recall_2: 0.3899 - precision_2: 0.5413\n",
            "Epoch 4/50\n",
            "10/10 [==============================] - 0s 26ms/step - loss: 0.4156 - accuracy: 0.7569 - recall_2: 0.4511 - precision_2: 0.5397\n",
            "Epoch 5/50\n",
            "10/10 [==============================] - 0s 26ms/step - loss: 0.4075 - accuracy: 0.7615 - recall_2: 0.5014 - precision_2: 0.5457\n",
            "Epoch 6/50\n",
            "10/10 [==============================] - 0s 26ms/step - loss: 0.3996 - accuracy: 0.7664 - recall_2: 0.4910 - precision_2: 0.5584\n",
            "Epoch 7/50\n",
            "10/10 [==============================] - 0s 26ms/step - loss: 0.3991 - accuracy: 0.7562 - recall_2: 0.4315 - precision_2: 0.5397\n",
            "Epoch 8/50\n",
            "10/10 [==============================] - 0s 29ms/step - loss: 0.3950 - accuracy: 0.7599 - recall_2: 0.4890 - precision_2: 0.5430\n",
            "Epoch 9/50\n",
            "10/10 [==============================] - 0s 30ms/step - loss: 0.3870 - accuracy: 0.7652 - recall_2: 0.4854 - precision_2: 0.5561\n",
            "Epoch 10/50\n",
            "10/10 [==============================] - 0s 29ms/step - loss: 0.3862 - accuracy: 0.7575 - recall_2: 0.4726 - precision_2: 0.5390\n",
            "Epoch 11/50\n",
            "10/10 [==============================] - 0s 29ms/step - loss: 0.3831 - accuracy: 0.7608 - recall_2: 0.4722 - precision_2: 0.5470\n",
            "Epoch 12/50\n",
            "10/10 [==============================] - 0s 29ms/step - loss: 0.3804 - accuracy: 0.7667 - recall_2: 0.5238 - precision_2: 0.5550\n",
            "Epoch 13/50\n",
            "10/10 [==============================] - 0s 28ms/step - loss: 0.3825 - accuracy: 0.7647 - recall_2: 0.4662 - precision_2: 0.5576\n",
            "Epoch 14/50\n",
            "10/10 [==============================] - 0s 28ms/step - loss: 0.3766 - accuracy: 0.7618 - recall_2: 0.4882 - precision_2: 0.5477\n",
            "Epoch 15/50\n",
            "10/10 [==============================] - 0s 28ms/step - loss: 0.3742 - accuracy: 0.7671 - recall_2: 0.4974 - precision_2: 0.5593\n",
            "Epoch 16/50\n",
            "10/10 [==============================] - 0s 28ms/step - loss: 0.3744 - accuracy: 0.7612 - recall_2: 0.4750 - precision_2: 0.5477\n",
            "Epoch 17/50\n",
            "10/10 [==============================] - 0s 27ms/step - loss: 0.3729 - accuracy: 0.7676 - recall_2: 0.4946 - precision_2: 0.5607\n",
            "Epoch 18/50\n",
            "10/10 [==============================] - 0s 28ms/step - loss: 0.3717 - accuracy: 0.7640 - recall_2: 0.5042 - precision_2: 0.5511\n",
            "Epoch 19/50\n",
            "10/10 [==============================] - 0s 31ms/step - loss: 0.3691 - accuracy: 0.7674 - recall_2: 0.5182 - precision_2: 0.5574\n",
            "Epoch 20/50\n",
            "10/10 [==============================] - 0s 26ms/step - loss: 0.3673 - accuracy: 0.7736 - recall_2: 0.5150 - precision_2: 0.5724\n",
            "Epoch 21/50\n",
            "10/10 [==============================] - 0s 26ms/step - loss: 0.3696 - accuracy: 0.7615 - recall_2: 0.4946 - precision_2: 0.5463\n",
            "Epoch 22/50\n",
            "10/10 [==============================] - 0s 26ms/step - loss: 0.3690 - accuracy: 0.7660 - recall_2: 0.4982 - precision_2: 0.5564\n",
            "Epoch 23/50\n",
            "10/10 [==============================] - 0s 26ms/step - loss: 0.3676 - accuracy: 0.7640 - recall_2: 0.5254 - precision_2: 0.5488\n",
            "Epoch 24/50\n",
            "10/10 [==============================] - 0s 27ms/step - loss: 0.3648 - accuracy: 0.7695 - recall_2: 0.5338 - precision_2: 0.5602\n",
            "Epoch 25/50\n",
            "10/10 [==============================] - 0s 26ms/step - loss: 0.3631 - accuracy: 0.7668 - recall_2: 0.5126 - precision_2: 0.5566\n",
            "Epoch 26/50\n",
            "10/10 [==============================] - 0s 26ms/step - loss: 0.3616 - accuracy: 0.7698 - recall_2: 0.5497 - precision_2: 0.5589\n",
            "Epoch 27/50\n",
            "10/10 [==============================] - 0s 26ms/step - loss: 0.3628 - accuracy: 0.7641 - recall_2: 0.5390 - precision_2: 0.5477\n",
            "Epoch 28/50\n",
            "10/10 [==============================] - 0s 27ms/step - loss: 0.3599 - accuracy: 0.7742 - recall_2: 0.5006 - precision_2: 0.5764\n",
            "Epoch 29/50\n",
            "10/10 [==============================] - 0s 26ms/step - loss: 0.3585 - accuracy: 0.7705 - recall_2: 0.5226 - precision_2: 0.5638\n",
            "Epoch 30/50\n",
            "10/10 [==============================] - 0s 26ms/step - loss: 0.3594 - accuracy: 0.7767 - recall_2: 0.5210 - precision_2: 0.5790\n",
            "Epoch 31/50\n",
            "10/10 [==============================] - 0s 26ms/step - loss: 0.3575 - accuracy: 0.7758 - recall_2: 0.5793 - precision_2: 0.5680\n",
            "Epoch 32/50\n",
            "10/10 [==============================] - 0s 26ms/step - loss: 0.3589 - accuracy: 0.7746 - recall_2: 0.5565 - precision_2: 0.5686\n",
            "Epoch 33/50\n",
            "10/10 [==============================] - 0s 27ms/step - loss: 0.3568 - accuracy: 0.7724 - recall_2: 0.5457 - precision_2: 0.5652\n",
            "Epoch 34/50\n",
            "10/10 [==============================] - 0s 26ms/step - loss: 0.3567 - accuracy: 0.7744 - recall_2: 0.5793 - precision_2: 0.5651\n",
            "Epoch 35/50\n",
            "10/10 [==============================] - 0s 27ms/step - loss: 0.3557 - accuracy: 0.7766 - recall_2: 0.5649 - precision_2: 0.5718\n",
            "Epoch 36/50\n",
            "10/10 [==============================] - 0s 26ms/step - loss: 0.3570 - accuracy: 0.7709 - recall_2: 0.5190 - precision_2: 0.5653\n",
            "Epoch 37/50\n",
            "10/10 [==============================] - 0s 26ms/step - loss: 0.3553 - accuracy: 0.7765 - recall_2: 0.6057 - precision_2: 0.5661\n",
            "Epoch 38/50\n",
            "10/10 [==============================] - 0s 27ms/step - loss: 0.3548 - accuracy: 0.7767 - recall_2: 0.5897 - precision_2: 0.5686\n",
            "Epoch 39/50\n",
            "10/10 [==============================] - 0s 26ms/step - loss: 0.3582 - accuracy: 0.7729 - recall_2: 0.5070 - precision_2: 0.5719\n",
            "Epoch 40/50\n",
            "10/10 [==============================] - 0s 26ms/step - loss: 0.3562 - accuracy: 0.7673 - recall_2: 0.4742 - precision_2: 0.5631\n",
            "Epoch 41/50\n",
            "10/10 [==============================] - 0s 26ms/step - loss: 0.3530 - accuracy: 0.7783 - recall_2: 0.5785 - precision_2: 0.5735\n",
            "Epoch 42/50\n",
            "10/10 [==============================] - 0s 26ms/step - loss: 0.3524 - accuracy: 0.7777 - recall_2: 0.5785 - precision_2: 0.5723\n",
            "Epoch 43/50\n",
            "10/10 [==============================] - 0s 26ms/step - loss: 0.3515 - accuracy: 0.7795 - recall_2: 0.6165 - precision_2: 0.5708\n",
            "Epoch 44/50\n",
            "10/10 [==============================] - 0s 26ms/step - loss: 0.3526 - accuracy: 0.7814 - recall_2: 0.5354 - precision_2: 0.5880\n",
            "Epoch 45/50\n",
            "10/10 [==============================] - 0s 26ms/step - loss: 0.3512 - accuracy: 0.7764 - recall_2: 0.5322 - precision_2: 0.5764\n",
            "Epoch 46/50\n",
            "10/10 [==============================] - 0s 27ms/step - loss: 0.3542 - accuracy: 0.7699 - recall_2: 0.6097 - precision_2: 0.5527\n",
            "Epoch 47/50\n",
            "10/10 [==============================] - 0s 27ms/step - loss: 0.3515 - accuracy: 0.7813 - recall_2: 0.5437 - precision_2: 0.5861\n",
            "Epoch 48/50\n",
            "10/10 [==============================] - 0s 31ms/step - loss: 0.3505 - accuracy: 0.7794 - recall_2: 0.6041 - precision_2: 0.5723\n",
            "Epoch 49/50\n",
            "10/10 [==============================] - 0s 27ms/step - loss: 0.3500 - accuracy: 0.7777 - recall_2: 0.5394 - precision_2: 0.5784\n",
            "Epoch 50/50\n",
            "10/10 [==============================] - 0s 26ms/step - loss: 0.3505 - accuracy: 0.7790 - recall_2: 0.6025 - precision_2: 0.5716\n"
          ]
        },
        {
          "output_type": "execute_result",
          "data": {
            "text/plain": [
              "<keras.callbacks.History at 0x7f8f21d6da90>"
            ]
          },
          "metadata": {},
          "execution_count": 21
        }
      ]
    },
    {
      "cell_type": "code",
      "source": [
        "scores = model_cnn2.evaluate(test_x,test_y, verbose=1)\n",
        "scores"
      ],
      "metadata": {
        "colab": {
          "base_uri": "https://localhost:8080/"
        },
        "id": "kOV8VBo55E8X",
        "outputId": "0e9ffc4a-57bc-4178-cdcc-00958dc218df"
      },
      "execution_count": null,
      "outputs": [
        {
          "output_type": "stream",
          "name": "stdout",
          "text": [
            "88/88 [==============================] - 1s 3ms/step - loss: 0.0089 - accuracy: 1.0000 - recall_2: 0.0000e+00 - precision_2: 0.0000e+00\n"
          ]
        },
        {
          "output_type": "execute_result",
          "data": {
            "text/plain": [
              "[0.008947615511715412, 1.0, 0.0, 0.0]"
            ]
          },
          "metadata": {},
          "execution_count": 22
        }
      ]
    },
    {
      "cell_type": "code",
      "source": [
        "pred = model_cnn.predict(test_x) \n",
        "pred = np.argmax(pred, axis = 1)\n",
        "label = test_y\n",
        "\n",
        "x = pd.DataFrame(pred,columns= [\"preds\"])"
      ],
      "metadata": {
        "id": "RW_V1hGg5H4Q"
      },
      "execution_count": null,
      "outputs": []
    },
    {
      "cell_type": "code",
      "source": [
        "from sklearn.metrics import confusion_matrix\n",
        "confusion_matrix(test_y, pred)"
      ],
      "metadata": {
        "id": "KU38rfdg5KF4",
        "colab": {
          "base_uri": "https://localhost:8080/"
        },
        "outputId": "7c26bdc4-bcb3-475c-974e-d5faaa425281"
      },
      "execution_count": null,
      "outputs": [
        {
          "output_type": "execute_result",
          "data": {
            "text/plain": [
              "array([[2799]])"
            ]
          },
          "metadata": {},
          "execution_count": 24
        }
      ]
    },
    {
      "cell_type": "code",
      "source": [
        "from sklearn import metrics \n",
        "from sklearn.metrics import classification_report\n",
        "print(\"\\n -------------Classification Report-------------\\n\")\n",
        "print(classification_report(test_y, pred))"
      ],
      "metadata": {
        "id": "Y_VYq0Hc5McJ",
        "colab": {
          "base_uri": "https://localhost:8080/"
        },
        "outputId": "ec1ff660-f80a-4b21-e8cd-7d4fab5777ea"
      },
      "execution_count": null,
      "outputs": [
        {
          "output_type": "stream",
          "name": "stdout",
          "text": [
            "\n",
            " -------------Classification Report-------------\n",
            "\n",
            "              precision    recall  f1-score   support\n",
            "\n",
            "           0       1.00      1.00      1.00      2799\n",
            "\n",
            "    accuracy                           1.00      2799\n",
            "   macro avg       1.00      1.00      1.00      2799\n",
            "weighted avg       1.00      1.00      1.00      2799\n",
            "\n"
          ]
        }
      ]
    },
    {
      "cell_type": "markdown",
      "source": [
        "# ***EXP4***"
      ],
      "metadata": {
        "id": "lLRhQzCM8Ic0"
      }
    },
    {
      "cell_type": "code",
      "source": [
        "from keras.regularizers import l2\n",
        "\n",
        "model_cnn3 = Sequential() \n",
        "\n",
        "model_cnn3.add(Conv1D(filters=160, kernel_size=2, activation='relu', input_shape=(150,3), kernel_regularizer=l2(0.01), bias_regularizer=l2(0.01)))\n",
        "\n",
        "model_cnn3.add(Conv1D(filters=128, kernel_size=2, activation='relu', kernel_regularizer=l2(0.01), bias_regularizer=l2(0.01)))\n",
        "\n",
        "model_cnn3.add(Flatten())\n",
        "model_cnn3.add(Dropout(0.7))\n",
        "\n",
        "model_cnn3.add(Dense(1,activation='sigmoid'))\n",
        "\n",
        "model_cnn3.compile(loss='binary_crossentropy', optimizer=\"adam\", metrics = [\"accuracy\", tf.keras.metrics.Recall(), tf.keras.metrics.Precision()])\n",
        "model_cnn3.summary()\n",
        "\n",
        "#_________\n",
        "model_cnn3.fit(train_x, train_y, epochs=50, batch_size=1000, verbose=1)\n",
        "#________\n",
        "scores = model_cnn3.evaluate(test_x,test_y, verbose=1)\n",
        "scores"
      ],
      "metadata": {
        "colab": {
          "base_uri": "https://localhost:8080/"
        },
        "id": "kgXGJSnX8PFJ",
        "outputId": "8014f8a6-5d61-4e9f-fea6-a8e360a2df6b"
      },
      "execution_count": null,
      "outputs": [
        {
          "output_type": "stream",
          "name": "stdout",
          "text": [
            "Model: \"sequential_3\"\n",
            "_________________________________________________________________\n",
            " Layer (type)                Output Shape              Param #   \n",
            "=================================================================\n",
            " conv1d_8 (Conv1D)           (None, 199, 160)          1120      \n",
            "                                                                 \n",
            " conv1d_9 (Conv1D)           (None, 198, 128)          41088     \n",
            "                                                                 \n",
            " flatten_3 (Flatten)         (None, 25344)             0         \n",
            "                                                                 \n",
            " dropout_3 (Dropout)         (None, 25344)             0         \n",
            "                                                                 \n",
            " dense_4 (Dense)             (None, 1)                 25345     \n",
            "                                                                 \n",
            "=================================================================\n",
            "Total params: 67,553\n",
            "Trainable params: 67,553\n",
            "Non-trainable params: 0\n",
            "_________________________________________________________________\n",
            "Epoch 1/50\n",
            "10/10 [==============================] - 1s 27ms/step - loss: 1.8801 - accuracy: 0.7023 - recall_3: 0.0919 - precision_3: 0.2808\n",
            "Epoch 2/50\n",
            "10/10 [==============================] - 0s 27ms/step - loss: 1.4368 - accuracy: 0.7467 - recall_3: 0.4818 - precision_3: 0.5145\n",
            "Epoch 3/50\n",
            "10/10 [==============================] - 0s 26ms/step - loss: 1.1444 - accuracy: 0.7536 - recall_3: 0.3440 - precision_3: 0.5422\n",
            "Epoch 4/50\n",
            "10/10 [==============================] - 0s 27ms/step - loss: 0.9263 - accuracy: 0.7553 - recall_3: 0.3596 - precision_3: 0.5455\n",
            "Epoch 5/50\n",
            "10/10 [==============================] - 0s 27ms/step - loss: 0.7651 - accuracy: 0.7568 - recall_3: 0.4123 - precision_3: 0.5434\n",
            "Epoch 6/50\n",
            "10/10 [==============================] - 0s 26ms/step - loss: 0.6502 - accuracy: 0.7577 - recall_3: 0.4355 - precision_3: 0.5431\n",
            "Epoch 7/50\n",
            "10/10 [==============================] - 0s 26ms/step - loss: 0.5706 - accuracy: 0.7602 - recall_3: 0.4535 - precision_3: 0.5475\n",
            "Epoch 8/50\n",
            "10/10 [==============================] - 0s 26ms/step - loss: 0.5144 - accuracy: 0.7593 - recall_3: 0.4331 - precision_3: 0.5478\n",
            "Epoch 9/50\n",
            "10/10 [==============================] - 0s 26ms/step - loss: 0.4773 - accuracy: 0.7537 - recall_3: 0.4702 - precision_3: 0.5304\n",
            "Epoch 10/50\n",
            "10/10 [==============================] - 0s 26ms/step - loss: 0.4484 - accuracy: 0.7548 - recall_3: 0.4227 - precision_3: 0.5368\n",
            "Epoch 11/50\n",
            "10/10 [==============================] - 0s 26ms/step - loss: 0.4285 - accuracy: 0.7562 - recall_3: 0.4650 - precision_3: 0.5367\n",
            "Epoch 12/50\n",
            "10/10 [==============================] - 0s 26ms/step - loss: 0.4153 - accuracy: 0.7608 - recall_3: 0.4427 - precision_3: 0.5504\n",
            "Epoch 13/50\n",
            "10/10 [==============================] - 0s 26ms/step - loss: 0.4061 - accuracy: 0.7563 - recall_3: 0.4830 - precision_3: 0.5354\n",
            "Epoch 14/50\n",
            "10/10 [==============================] - 0s 26ms/step - loss: 0.3994 - accuracy: 0.7570 - recall_3: 0.4363 - precision_3: 0.5414\n",
            "Epoch 15/50\n",
            "10/10 [==============================] - 0s 26ms/step - loss: 0.3973 - accuracy: 0.7580 - recall_3: 0.4726 - precision_3: 0.5402\n",
            "Epoch 16/50\n",
            "10/10 [==============================] - 0s 26ms/step - loss: 0.3913 - accuracy: 0.7601 - recall_3: 0.4674 - precision_3: 0.5457\n",
            "Epoch 17/50\n",
            "10/10 [==============================] - 0s 26ms/step - loss: 0.3925 - accuracy: 0.7523 - recall_3: 0.4487 - precision_3: 0.5285\n",
            "Epoch 18/50\n",
            "10/10 [==============================] - 0s 26ms/step - loss: 0.3885 - accuracy: 0.7562 - recall_3: 0.4786 - precision_3: 0.5355\n",
            "Epoch 19/50\n",
            "10/10 [==============================] - 0s 26ms/step - loss: 0.3852 - accuracy: 0.7578 - recall_3: 0.4670 - precision_3: 0.5402\n",
            "Epoch 20/50\n",
            "10/10 [==============================] - 0s 26ms/step - loss: 0.3834 - accuracy: 0.7578 - recall_3: 0.4742 - precision_3: 0.5395\n",
            "Epoch 21/50\n",
            "10/10 [==============================] - 0s 27ms/step - loss: 0.3819 - accuracy: 0.7604 - recall_3: 0.4638 - precision_3: 0.5469\n",
            "Epoch 22/50\n",
            "10/10 [==============================] - 0s 26ms/step - loss: 0.3814 - accuracy: 0.7570 - recall_3: 0.4862 - precision_3: 0.5368\n",
            "Epoch 23/50\n",
            "10/10 [==============================] - 0s 26ms/step - loss: 0.3818 - accuracy: 0.7590 - recall_3: 0.4742 - precision_3: 0.5425\n",
            "Epoch 24/50\n",
            "10/10 [==============================] - 0s 27ms/step - loss: 0.3798 - accuracy: 0.7605 - recall_3: 0.5054 - precision_3: 0.5429\n",
            "Epoch 25/50\n",
            "10/10 [==============================] - 0s 26ms/step - loss: 0.3794 - accuracy: 0.7562 - recall_3: 0.4575 - precision_3: 0.5373\n",
            "Epoch 26/50\n",
            "10/10 [==============================] - 0s 26ms/step - loss: 0.3785 - accuracy: 0.7584 - recall_3: 0.4786 - precision_3: 0.5406\n",
            "Epoch 27/50\n",
            "10/10 [==============================] - 0s 26ms/step - loss: 0.3774 - accuracy: 0.7614 - recall_3: 0.4563 - precision_3: 0.5504\n",
            "Epoch 28/50\n",
            "10/10 [==============================] - 0s 26ms/step - loss: 0.3764 - accuracy: 0.7598 - recall_3: 0.4235 - precision_3: 0.5501\n",
            "Epoch 29/50\n",
            "10/10 [==============================] - 0s 26ms/step - loss: 0.3763 - accuracy: 0.7598 - recall_3: 0.5354 - precision_3: 0.5388\n",
            "Epoch 30/50\n",
            "10/10 [==============================] - 0s 26ms/step - loss: 0.3752 - accuracy: 0.7629 - recall_3: 0.4998 - precision_3: 0.5489\n",
            "Epoch 31/50\n",
            "10/10 [==============================] - 0s 26ms/step - loss: 0.3739 - accuracy: 0.7651 - recall_3: 0.4798 - precision_3: 0.5565\n",
            "Epoch 32/50\n",
            "10/10 [==============================] - 0s 26ms/step - loss: 0.3739 - accuracy: 0.7652 - recall_3: 0.5378 - precision_3: 0.5501\n",
            "Epoch 33/50\n",
            "10/10 [==============================] - 0s 26ms/step - loss: 0.3737 - accuracy: 0.7622 - recall_3: 0.4994 - precision_3: 0.5475\n",
            "Epoch 34/50\n",
            "10/10 [==============================] - 0s 26ms/step - loss: 0.3732 - accuracy: 0.7656 - recall_3: 0.4982 - precision_3: 0.5555\n",
            "Epoch 35/50\n",
            "10/10 [==============================] - 0s 26ms/step - loss: 0.3733 - accuracy: 0.7604 - recall_3: 0.5394 - precision_3: 0.5398\n",
            "Epoch 36/50\n",
            "10/10 [==============================] - 0s 26ms/step - loss: 0.3723 - accuracy: 0.7636 - recall_3: 0.5306 - precision_3: 0.5474\n",
            "Epoch 37/50\n",
            "10/10 [==============================] - 0s 26ms/step - loss: 0.3737 - accuracy: 0.7567 - recall_3: 0.4978 - precision_3: 0.5352\n",
            "Epoch 38/50\n",
            "10/10 [==============================] - 0s 26ms/step - loss: 0.3723 - accuracy: 0.7650 - recall_3: 0.5182 - precision_3: 0.5517\n",
            "Epoch 39/50\n",
            "10/10 [==============================] - 0s 26ms/step - loss: 0.3719 - accuracy: 0.7627 - recall_3: 0.5210 - precision_3: 0.5463\n",
            "Epoch 40/50\n",
            "10/10 [==============================] - 0s 26ms/step - loss: 0.3715 - accuracy: 0.7608 - recall_3: 0.4966 - precision_3: 0.5445\n",
            "Epoch 41/50\n",
            "10/10 [==============================] - 0s 26ms/step - loss: 0.3715 - accuracy: 0.7625 - recall_3: 0.5138 - precision_3: 0.5465\n",
            "Epoch 42/50\n",
            "10/10 [==============================] - 0s 27ms/step - loss: 0.3718 - accuracy: 0.7614 - recall_3: 0.5242 - precision_3: 0.5433\n",
            "Epoch 43/50\n",
            "10/10 [==============================] - 0s 26ms/step - loss: 0.3717 - accuracy: 0.7589 - recall_3: 0.5721 - precision_3: 0.5345\n",
            "Epoch 44/50\n",
            "10/10 [==============================] - 0s 27ms/step - loss: 0.3706 - accuracy: 0.7677 - recall_3: 0.4986 - precision_3: 0.5604\n",
            "Epoch 45/50\n",
            "10/10 [==============================] - 0s 27ms/step - loss: 0.3709 - accuracy: 0.7613 - recall_3: 0.5118 - precision_3: 0.5442\n",
            "Epoch 46/50\n",
            "10/10 [==============================] - 0s 26ms/step - loss: 0.3716 - accuracy: 0.7622 - recall_3: 0.4650 - precision_3: 0.5514\n",
            "Epoch 47/50\n",
            "10/10 [==============================] - 0s 26ms/step - loss: 0.3702 - accuracy: 0.7628 - recall_3: 0.5553 - precision_3: 0.5434\n",
            "Epoch 48/50\n",
            "10/10 [==============================] - 0s 26ms/step - loss: 0.3688 - accuracy: 0.7652 - recall_3: 0.4606 - precision_3: 0.5594\n",
            "Epoch 49/50\n",
            "10/10 [==============================] - 0s 26ms/step - loss: 0.3708 - accuracy: 0.7594 - recall_3: 0.5254 - precision_3: 0.5389\n",
            "Epoch 50/50\n",
            "10/10 [==============================] - 0s 26ms/step - loss: 0.3705 - accuracy: 0.7615 - recall_3: 0.6129 - precision_3: 0.5367\n",
            "88/88 [==============================] - 1s 3ms/step - loss: 0.0159 - accuracy: 1.0000 - recall_3: 0.0000e+00 - precision_3: 0.0000e+00\n"
          ]
        },
        {
          "output_type": "execute_result",
          "data": {
            "text/plain": [
              "[0.015936419367790222, 1.0, 0.0, 0.0]"
            ]
          },
          "metadata": {},
          "execution_count": 26
        }
      ]
    },
    {
      "cell_type": "markdown",
      "source": [
        "# ***EXP5***"
      ],
      "metadata": {
        "id": "FSfTzBIn93LW"
      }
    },
    {
      "cell_type": "code",
      "source": [
        "from keras.regularizers import l2\n",
        "\n",
        "from keras.callbacks import ReduceLROnPlateau\n",
        "\n",
        "rlrop = ReduceLROnPlateau(monitor='loss', factor=0.1, patience=100)\n",
        "\n",
        "model_cnn4 = Sequential() \n",
        "model_cnn4.add(Conv1D(filters=160, kernel_size=2, activation='relu', input_shape=(150,3), kernel_regularizer=l2(0.01), bias_regularizer=l2(0.01)))\n",
        "model_cnn4.add(Conv1D(filters=128, kernel_size=2, activation='relu', kernel_regularizer=l2(0.01), bias_regularizer=l2(0.01)))\n",
        "model_cnn4.add(Flatten())\n",
        "model_cnn4.add(Dropout(0.7))\n",
        "model_cnn4.add(Dense(1,activation='sigmoid'))\n",
        "\n",
        "\n",
        "model_cnn4.compile(loss='binary_crossentropy', optimizer=\"adam\", metrics = [\"accuracy\", tf.keras.metrics.Recall(), tf.keras.metrics.Precision()])\n",
        "model_cnn4.summary()\n",
        "\n",
        "#_________\n",
        "model_cnn4.fit(train_x, train_y, epochs=50, batch_size=1000, verbose=1,callbacks=[rlrop])\n",
        "#________\n",
        "scores = model_cnn4.evaluate(test_x,test_y, verbose=1)\n",
        "scores"
      ],
      "metadata": {
        "colab": {
          "base_uri": "https://localhost:8080/"
        },
        "id": "s9_eRiFm92KG",
        "outputId": "17a7eb25-4456-498b-a9d0-1ed78111cd7d"
      },
      "execution_count": null,
      "outputs": [
        {
          "output_type": "stream",
          "name": "stdout",
          "text": [
            "Model: \"sequential_4\"\n",
            "_________________________________________________________________\n",
            " Layer (type)                Output Shape              Param #   \n",
            "=================================================================\n",
            " conv1d_10 (Conv1D)          (None, 199, 160)          1120      \n",
            "                                                                 \n",
            " conv1d_11 (Conv1D)          (None, 198, 128)          41088     \n",
            "                                                                 \n",
            " flatten_4 (Flatten)         (None, 25344)             0         \n",
            "                                                                 \n",
            " dropout_4 (Dropout)         (None, 25344)             0         \n",
            "                                                                 \n",
            " dense_5 (Dense)             (None, 1)                 25345     \n",
            "                                                                 \n",
            "=================================================================\n",
            "Total params: 67,553\n",
            "Trainable params: 67,553\n",
            "Non-trainable params: 0\n",
            "_________________________________________________________________\n",
            "Epoch 1/50\n",
            "10/10 [==============================] - 1s 27ms/step - loss: 1.8538 - accuracy: 0.7108 - recall_4: 0.0823 - precision_4: 0.2986 - lr: 0.0010\n",
            "Epoch 2/50\n",
            "10/10 [==============================] - 0s 26ms/step - loss: 1.4175 - accuracy: 0.7455 - recall_4: 0.3839 - precision_4: 0.5150 - lr: 0.0010\n",
            "Epoch 3/50\n",
            "10/10 [==============================] - 0s 27ms/step - loss: 1.1251 - accuracy: 0.7539 - recall_4: 0.3384 - precision_4: 0.5440 - lr: 0.0010\n",
            "Epoch 4/50\n",
            "10/10 [==============================] - 0s 26ms/step - loss: 0.9095 - accuracy: 0.7544 - recall_4: 0.4063 - precision_4: 0.5375 - lr: 0.0010\n",
            "Epoch 5/50\n",
            "10/10 [==============================] - 0s 26ms/step - loss: 0.7550 - accuracy: 0.7553 - recall_4: 0.4039 - precision_4: 0.5401 - lr: 0.0010\n",
            "Epoch 6/50\n",
            "10/10 [==============================] - 0s 26ms/step - loss: 0.6473 - accuracy: 0.7579 - recall_4: 0.4810 - precision_4: 0.5392 - lr: 0.0010\n",
            "Epoch 7/50\n",
            "10/10 [==============================] - 0s 27ms/step - loss: 0.5725 - accuracy: 0.7558 - recall_4: 0.5006 - precision_4: 0.5330 - lr: 0.0010\n",
            "Epoch 8/50\n",
            "10/10 [==============================] - 0s 27ms/step - loss: 0.5206 - accuracy: 0.7546 - recall_4: 0.4131 - precision_4: 0.5371 - lr: 0.0010\n",
            "Epoch 9/50\n",
            "10/10 [==============================] - 0s 27ms/step - loss: 0.4793 - accuracy: 0.7620 - recall_4: 0.4487 - precision_4: 0.5529 - lr: 0.0010\n",
            "Epoch 10/50\n",
            "10/10 [==============================] - 0s 26ms/step - loss: 0.4529 - accuracy: 0.7614 - recall_4: 0.4519 - precision_4: 0.5509 - lr: 0.0010\n",
            "Epoch 11/50\n",
            "10/10 [==============================] - 0s 26ms/step - loss: 0.4341 - accuracy: 0.7573 - recall_4: 0.4451 - precision_4: 0.5410 - lr: 0.0010\n",
            "Epoch 12/50\n",
            "10/10 [==============================] - 0s 26ms/step - loss: 0.4227 - accuracy: 0.7559 - recall_4: 0.4674 - precision_4: 0.5357 - lr: 0.0010\n",
            "Epoch 13/50\n",
            "10/10 [==============================] - 0s 26ms/step - loss: 0.4133 - accuracy: 0.7570 - recall_4: 0.4750 - precision_4: 0.5378 - lr: 0.0010\n",
            "Epoch 14/50\n",
            "10/10 [==============================] - 0s 27ms/step - loss: 0.4087 - accuracy: 0.7581 - recall_4: 0.4539 - precision_4: 0.5422 - lr: 0.0010\n",
            "Epoch 15/50\n",
            "10/10 [==============================] - 0s 27ms/step - loss: 0.4030 - accuracy: 0.7563 - recall_4: 0.4259 - precision_4: 0.5406 - lr: 0.0010\n",
            "Epoch 16/50\n",
            "10/10 [==============================] - 0s 26ms/step - loss: 0.3961 - accuracy: 0.7593 - recall_4: 0.4766 - precision_4: 0.5430 - lr: 0.0010\n",
            "Epoch 17/50\n",
            "10/10 [==============================] - 0s 26ms/step - loss: 0.3907 - accuracy: 0.7641 - recall_4: 0.4858 - precision_4: 0.5535 - lr: 0.0010\n",
            "Epoch 18/50\n",
            "10/10 [==============================] - 0s 27ms/step - loss: 0.3894 - accuracy: 0.7605 - recall_4: 0.4690 - precision_4: 0.5466 - lr: 0.0010\n",
            "Epoch 19/50\n",
            "10/10 [==============================] - 0s 26ms/step - loss: 0.3885 - accuracy: 0.7584 - recall_4: 0.4618 - precision_4: 0.5422 - lr: 0.0010\n",
            "Epoch 20/50\n",
            "10/10 [==============================] - 0s 26ms/step - loss: 0.3857 - accuracy: 0.7615 - recall_4: 0.4782 - precision_4: 0.5481 - lr: 0.0010\n",
            "Epoch 21/50\n",
            "10/10 [==============================] - 0s 26ms/step - loss: 0.3853 - accuracy: 0.7580 - recall_4: 0.4754 - precision_4: 0.5399 - lr: 0.0010\n",
            "Epoch 22/50\n",
            "10/10 [==============================] - 0s 27ms/step - loss: 0.3849 - accuracy: 0.7564 - recall_4: 0.4778 - precision_4: 0.5361 - lr: 0.0010\n",
            "Epoch 23/50\n",
            "10/10 [==============================] - 0s 27ms/step - loss: 0.3836 - accuracy: 0.7593 - recall_4: 0.4690 - precision_4: 0.5438 - lr: 0.0010\n",
            "Epoch 24/50\n",
            "10/10 [==============================] - 0s 27ms/step - loss: 0.3819 - accuracy: 0.7577 - recall_4: 0.5170 - precision_4: 0.5358 - lr: 0.0010\n",
            "Epoch 25/50\n",
            "10/10 [==============================] - 0s 27ms/step - loss: 0.3805 - accuracy: 0.7606 - recall_4: 0.4742 - precision_4: 0.5462 - lr: 0.0010\n",
            "Epoch 26/50\n",
            "10/10 [==============================] - 0s 26ms/step - loss: 0.3789 - accuracy: 0.7633 - recall_4: 0.4503 - precision_4: 0.5560 - lr: 0.0010\n",
            "Epoch 27/50\n",
            "10/10 [==============================] - 0s 26ms/step - loss: 0.3798 - accuracy: 0.7608 - recall_4: 0.4646 - precision_4: 0.5478 - lr: 0.0010\n",
            "Epoch 28/50\n",
            "10/10 [==============================] - 0s 26ms/step - loss: 0.3800 - accuracy: 0.7602 - recall_4: 0.5142 - precision_4: 0.5414 - lr: 0.0010\n",
            "Epoch 29/50\n",
            "10/10 [==============================] - 0s 27ms/step - loss: 0.3788 - accuracy: 0.7600 - recall_4: 0.5138 - precision_4: 0.5410 - lr: 0.0010\n",
            "Epoch 30/50\n",
            "10/10 [==============================] - 0s 27ms/step - loss: 0.3767 - accuracy: 0.7620 - recall_4: 0.5421 - precision_4: 0.5430 - lr: 0.0010\n",
            "Epoch 31/50\n",
            "10/10 [==============================] - 0s 26ms/step - loss: 0.3775 - accuracy: 0.7588 - recall_4: 0.4822 - precision_4: 0.5413 - lr: 0.0010\n",
            "Epoch 32/50\n",
            "10/10 [==============================] - 0s 27ms/step - loss: 0.3779 - accuracy: 0.7579 - recall_4: 0.4862 - precision_4: 0.5387 - lr: 0.0010\n",
            "Epoch 33/50\n",
            "10/10 [==============================] - 0s 27ms/step - loss: 0.3755 - accuracy: 0.7588 - recall_4: 0.4423 - precision_4: 0.5453 - lr: 0.0010\n",
            "Epoch 34/50\n",
            "10/10 [==============================] - 0s 27ms/step - loss: 0.3744 - accuracy: 0.7621 - recall_4: 0.5342 - precision_4: 0.5439 - lr: 0.0010\n",
            "Epoch 35/50\n",
            "10/10 [==============================] - 0s 26ms/step - loss: 0.3744 - accuracy: 0.7601 - recall_4: 0.4958 - precision_4: 0.5429 - lr: 0.0010\n",
            "Epoch 36/50\n",
            "10/10 [==============================] - 0s 27ms/step - loss: 0.3746 - accuracy: 0.7559 - recall_4: 0.4946 - precision_4: 0.5336 - lr: 0.0010\n",
            "Epoch 37/50\n",
            "10/10 [==============================] - 0s 27ms/step - loss: 0.3732 - accuracy: 0.7618 - recall_4: 0.4798 - precision_4: 0.5487 - lr: 0.0010\n",
            "Epoch 38/50\n",
            "10/10 [==============================] - 0s 26ms/step - loss: 0.3737 - accuracy: 0.7648 - recall_4: 0.5006 - precision_4: 0.5534 - lr: 0.0010\n",
            "Epoch 39/50\n",
            "10/10 [==============================] - 0s 26ms/step - loss: 0.3735 - accuracy: 0.7567 - recall_4: 0.5018 - precision_4: 0.5349 - lr: 0.0010\n",
            "Epoch 40/50\n",
            "10/10 [==============================] - 0s 27ms/step - loss: 0.3741 - accuracy: 0.7605 - recall_4: 0.4195 - precision_4: 0.5526 - lr: 0.0010\n",
            "Epoch 41/50\n",
            "10/10 [==============================] - 0s 27ms/step - loss: 0.3753 - accuracy: 0.7567 - recall_4: 0.5306 - precision_4: 0.5329 - lr: 0.0010\n",
            "Epoch 42/50\n",
            "10/10 [==============================] - 0s 27ms/step - loss: 0.3735 - accuracy: 0.7607 - recall_4: 0.5022 - precision_4: 0.5437 - lr: 0.0010\n",
            "Epoch 43/50\n",
            "10/10 [==============================] - 0s 26ms/step - loss: 0.3716 - accuracy: 0.7642 - recall_4: 0.5094 - precision_4: 0.5510 - lr: 0.0010\n",
            "Epoch 44/50\n",
            "10/10 [==============================] - 0s 27ms/step - loss: 0.3728 - accuracy: 0.7611 - recall_4: 0.5050 - precision_4: 0.5444 - lr: 0.0010\n",
            "Epoch 45/50\n",
            "10/10 [==============================] - 0s 27ms/step - loss: 0.3712 - accuracy: 0.7692 - recall_4: 0.5653 - precision_4: 0.5558 - lr: 0.0010\n",
            "Epoch 46/50\n",
            "10/10 [==============================] - 0s 27ms/step - loss: 0.3722 - accuracy: 0.7602 - recall_4: 0.5290 - precision_4: 0.5402 - lr: 0.0010\n",
            "Epoch 47/50\n",
            "10/10 [==============================] - 0s 27ms/step - loss: 0.3704 - accuracy: 0.7617 - recall_4: 0.4766 - precision_4: 0.5488 - lr: 0.0010\n",
            "Epoch 48/50\n",
            "10/10 [==============================] - 0s 26ms/step - loss: 0.3719 - accuracy: 0.7634 - recall_4: 0.4994 - precision_4: 0.5502 - lr: 0.0010\n",
            "Epoch 49/50\n",
            "10/10 [==============================] - 0s 26ms/step - loss: 0.3715 - accuracy: 0.7626 - recall_4: 0.5230 - precision_4: 0.5459 - lr: 0.0010\n",
            "Epoch 50/50\n",
            "10/10 [==============================] - 0s 26ms/step - loss: 0.3717 - accuracy: 0.7596 - recall_4: 0.5589 - precision_4: 0.5368 - lr: 0.0010\n",
            "88/88 [==============================] - 1s 3ms/step - loss: 0.0166 - accuracy: 1.0000 - recall_4: 0.0000e+00 - precision_4: 0.0000e+00\n"
          ]
        },
        {
          "output_type": "execute_result",
          "data": {
            "text/plain": [
              "[0.016558684408664703, 1.0, 0.0, 0.0]"
            ]
          },
          "metadata": {},
          "execution_count": 27
        }
      ]
    },
    {
      "cell_type": "markdown",
      "source": [
        "## ***EXP7***"
      ],
      "metadata": {
        "id": "R2Wxpn4d_p3S"
      }
    },
    {
      "cell_type": "code",
      "source": [
        "from keras.regularizers import l2\n",
        "# import noise layer\n",
        "from keras.layers import GaussianNoise\n",
        "# define noise layer\n",
        "layer = GaussianNoise(0.1)\n",
        "\n",
        "\n",
        "\n",
        "\n",
        "model_cnn6 = Sequential() \n",
        "model_cnn6.add(Conv1D(filters=160, kernel_size=2, activation='relu', input_shape=(150,3) , kernel_regularizer=l2(0.01), bias_regularizer=l2(0.01)))\n",
        "model_cnn6.add(GaussianNoise(0.1))\n",
        "model_cnn6.add(Conv1D(filters=128, kernel_size=2, activation='relu', kernel_regularizer=l2(0.01), bias_regularizer=l2(0.01)))\n",
        "model_cnn6.add(GaussianNoise(0.1))\n",
        "model_cnn6.add(Flatten())\n",
        "model_cnn6.add(Dropout(0.7))\n",
        "model_cnn6.add(GaussianNoise(0.1))\n",
        "model_cnn6.add(Dense(1,activation='sigmoid'))\n",
        "\n",
        "\n",
        "\n",
        "model_cnn6.compile(loss='binary_crossentropy', optimizer=\"adam\", metrics = [\"accuracy\", tf.keras.metrics.Recall(), tf.keras.metrics.Precision()])\n",
        "model_cnn6.summary()\n",
        "\n",
        "#_________\n",
        "model_cnn6.fit(train_x, train_y, epochs=50, batch_size=1000, verbose=1, validation_split=0.2)\n",
        "#________\n",
        "scores = model_cnn6.evaluate(test_x,test_y, verbose=1)\n",
        "scores"
      ],
      "metadata": {
        "colab": {
          "base_uri": "https://localhost:8080/"
        },
        "id": "8hwycoDh_o7s",
        "outputId": "d7967117-2407-4f93-9c5d-9785b4216ecf"
      },
      "execution_count": null,
      "outputs": [
        {
          "output_type": "stream",
          "name": "stdout",
          "text": [
            "Model: \"sequential_5\"\n",
            "_________________________________________________________________\n",
            " Layer (type)                Output Shape              Param #   \n",
            "=================================================================\n",
            " conv1d_12 (Conv1D)          (None, 199, 160)          1120      \n",
            "                                                                 \n",
            " gaussian_noise_1 (GaussianN  (None, 199, 160)         0         \n",
            " oise)                                                           \n",
            "                                                                 \n",
            " conv1d_13 (Conv1D)          (None, 198, 128)          41088     \n",
            "                                                                 \n",
            " gaussian_noise_2 (GaussianN  (None, 198, 128)         0         \n",
            " oise)                                                           \n",
            "                                                                 \n",
            " flatten_5 (Flatten)         (None, 25344)             0         \n",
            "                                                                 \n",
            " dropout_5 (Dropout)         (None, 25344)             0         \n",
            "                                                                 \n",
            " gaussian_noise_3 (GaussianN  (None, 25344)            0         \n",
            " oise)                                                           \n",
            "                                                                 \n",
            " dense_6 (Dense)             (None, 1)                 25345     \n",
            "                                                                 \n",
            "=================================================================\n",
            "Total params: 67,553\n",
            "Trainable params: 67,553\n",
            "Non-trainable params: 0\n",
            "_________________________________________________________________\n",
            "Epoch 1/50\n",
            "8/8 [==============================] - 2s 121ms/step - loss: 2.0026 - accuracy: 0.6451 - recall_5: 0.1311 - precision_5: 0.3710 - val_loss: 1.6779 - val_accuracy: 0.9683 - val_recall_5: 0.0000e+00 - val_precision_5: 0.0000e+00\n",
            "Epoch 2/50\n",
            "8/8 [==============================] - 0s 36ms/step - loss: 1.6544 - accuracy: 0.6656 - recall_5: 0.1926 - precision_5: 0.4662 - val_loss: 1.2093 - val_accuracy: 0.9995 - val_recall_5: 0.0000e+00 - val_precision_5: 0.0000e+00\n",
            "Epoch 3/50\n",
            "8/8 [==============================] - 0s 36ms/step - loss: 1.3956 - accuracy: 0.6756 - recall_5: 0.3585 - precision_5: 0.5020 - val_loss: 0.9731 - val_accuracy: 0.9995 - val_recall_5: 0.0000e+00 - val_precision_5: 0.0000e+00\n",
            "Epoch 4/50\n",
            "8/8 [==============================] - 0s 36ms/step - loss: 1.1858 - accuracy: 0.6843 - recall_5: 0.3445 - precision_5: 0.5224 - val_loss: 0.8224 - val_accuracy: 0.9995 - val_recall_5: 0.0000e+00 - val_precision_5: 0.0000e+00\n",
            "Epoch 5/50\n",
            "8/8 [==============================] - 0s 36ms/step - loss: 1.0267 - accuracy: 0.6830 - recall_5: 0.4097 - precision_5: 0.5161 - val_loss: 0.6825 - val_accuracy: 0.9995 - val_recall_5: 0.0000e+00 - val_precision_5: 0.0000e+00\n",
            "Epoch 6/50\n",
            "8/8 [==============================] - 0s 36ms/step - loss: 0.8975 - accuracy: 0.6894 - recall_5: 0.4069 - precision_5: 0.5294 - val_loss: 0.5463 - val_accuracy: 0.9995 - val_recall_5: 0.0000e+00 - val_precision_5: 0.0000e+00\n",
            "Epoch 7/50\n",
            "8/8 [==============================] - 0s 36ms/step - loss: 0.8031 - accuracy: 0.6879 - recall_5: 0.4476 - precision_5: 0.5236 - val_loss: 0.4390 - val_accuracy: 0.9995 - val_recall_5: 0.0000e+00 - val_precision_5: 0.0000e+00\n",
            "Epoch 8/50\n",
            "8/8 [==============================] - 0s 36ms/step - loss: 0.7253 - accuracy: 0.6955 - recall_5: 0.4616 - precision_5: 0.5372 - val_loss: 0.3434 - val_accuracy: 0.9995 - val_recall_5: 0.0000e+00 - val_precision_5: 0.0000e+00\n",
            "Epoch 9/50\n",
            "8/8 [==============================] - 0s 36ms/step - loss: 0.6678 - accuracy: 0.6924 - recall_5: 0.4289 - precision_5: 0.5338 - val_loss: 0.2694 - val_accuracy: 0.9995 - val_recall_5: 0.0000e+00 - val_precision_5: 0.0000e+00\n",
            "Epoch 10/50\n",
            "8/8 [==============================] - 0s 36ms/step - loss: 0.6277 - accuracy: 0.6890 - recall_5: 0.4380 - precision_5: 0.5264 - val_loss: 0.2066 - val_accuracy: 0.9995 - val_recall_5: 0.0000e+00 - val_precision_5: 0.0000e+00\n",
            "Epoch 11/50\n",
            "8/8 [==============================] - 0s 37ms/step - loss: 0.5922 - accuracy: 0.6940 - recall_5: 0.4764 - precision_5: 0.5331 - val_loss: 0.1656 - val_accuracy: 0.9995 - val_recall_5: 0.0000e+00 - val_precision_5: 0.0000e+00\n",
            "Epoch 12/50\n",
            "8/8 [==============================] - 0s 37ms/step - loss: 0.5754 - accuracy: 0.6825 - recall_5: 0.4516 - precision_5: 0.5136 - val_loss: 0.1320 - val_accuracy: 0.9995 - val_recall_5: 0.0000e+00 - val_precision_5: 0.0000e+00\n",
            "Epoch 13/50\n",
            "8/8 [==============================] - 0s 36ms/step - loss: 0.5495 - accuracy: 0.6990 - recall_5: 0.4648 - precision_5: 0.5437 - val_loss: 0.1194 - val_accuracy: 0.9995 - val_recall_5: 0.0000e+00 - val_precision_5: 0.0000e+00\n",
            "Epoch 14/50\n",
            "8/8 [==============================] - 0s 36ms/step - loss: 0.5375 - accuracy: 0.6925 - recall_5: 0.4716 - precision_5: 0.5308 - val_loss: 0.1042 - val_accuracy: 0.9995 - val_recall_5: 0.0000e+00 - val_precision_5: 0.0000e+00\n",
            "Epoch 15/50\n",
            "8/8 [==============================] - 0s 36ms/step - loss: 0.5335 - accuracy: 0.6921 - recall_5: 0.4544 - precision_5: 0.5313 - val_loss: 0.0924 - val_accuracy: 0.9995 - val_recall_5: 0.0000e+00 - val_precision_5: 0.0000e+00\n",
            "Epoch 16/50\n",
            "8/8 [==============================] - 0s 36ms/step - loss: 0.5233 - accuracy: 0.6975 - recall_5: 0.4792 - precision_5: 0.5394 - val_loss: 0.0831 - val_accuracy: 0.9995 - val_recall_5: 0.0000e+00 - val_precision_5: 0.0000e+00\n",
            "Epoch 17/50\n",
            "8/8 [==============================] - 0s 36ms/step - loss: 0.5219 - accuracy: 0.6899 - recall_5: 0.4656 - precision_5: 0.5264 - val_loss: 0.0751 - val_accuracy: 0.9995 - val_recall_5: 0.0000e+00 - val_precision_5: 0.0000e+00\n",
            "Epoch 18/50\n",
            "8/8 [==============================] - 0s 36ms/step - loss: 0.5138 - accuracy: 0.6902 - recall_5: 0.4600 - precision_5: 0.5273 - val_loss: 0.0766 - val_accuracy: 0.9995 - val_recall_5: 0.0000e+00 - val_precision_5: 0.0000e+00\n",
            "Epoch 19/50\n",
            "8/8 [==============================] - 0s 37ms/step - loss: 0.5144 - accuracy: 0.6871 - recall_5: 0.4508 - precision_5: 0.5220 - val_loss: 0.0712 - val_accuracy: 0.9995 - val_recall_5: 0.0000e+00 - val_precision_5: 0.0000e+00\n",
            "Epoch 20/50\n",
            "8/8 [==============================] - 0s 36ms/step - loss: 0.5098 - accuracy: 0.6921 - recall_5: 0.4700 - precision_5: 0.5302 - val_loss: 0.0682 - val_accuracy: 0.9995 - val_recall_5: 0.0000e+00 - val_precision_5: 0.0000e+00\n",
            "Epoch 21/50\n",
            "8/8 [==============================] - 0s 36ms/step - loss: 0.5117 - accuracy: 0.6908 - recall_5: 0.4656 - precision_5: 0.5281 - val_loss: 0.0644 - val_accuracy: 0.9995 - val_recall_5: 0.0000e+00 - val_precision_5: 0.0000e+00\n",
            "Epoch 22/50\n",
            "8/8 [==============================] - 0s 36ms/step - loss: 0.5114 - accuracy: 0.6953 - recall_5: 0.4716 - precision_5: 0.5359 - val_loss: 0.0650 - val_accuracy: 0.9995 - val_recall_5: 0.0000e+00 - val_precision_5: 0.0000e+00\n",
            "Epoch 23/50\n",
            "8/8 [==============================] - 0s 37ms/step - loss: 0.5103 - accuracy: 0.6906 - recall_5: 0.4836 - precision_5: 0.5265 - val_loss: 0.0600 - val_accuracy: 0.9995 - val_recall_5: 0.0000e+00 - val_precision_5: 0.0000e+00\n",
            "Epoch 24/50\n",
            "8/8 [==============================] - 0s 36ms/step - loss: 0.5092 - accuracy: 0.6927 - recall_5: 0.5016 - precision_5: 0.5291 - val_loss: 0.0572 - val_accuracy: 0.9995 - val_recall_5: 0.0000e+00 - val_precision_5: 0.0000e+00\n",
            "Epoch 25/50\n",
            "8/8 [==============================] - 0s 36ms/step - loss: 0.5039 - accuracy: 0.7009 - recall_5: 0.4664 - precision_5: 0.5471 - val_loss: 0.0569 - val_accuracy: 0.9995 - val_recall_5: 0.0000e+00 - val_precision_5: 0.0000e+00\n",
            "Epoch 26/50\n",
            "8/8 [==============================] - 0s 37ms/step - loss: 0.5090 - accuracy: 0.6885 - recall_5: 0.4480 - precision_5: 0.5248 - val_loss: 0.0570 - val_accuracy: 0.9995 - val_recall_5: 0.0000e+00 - val_precision_5: 0.0000e+00\n",
            "Epoch 27/50\n",
            "8/8 [==============================] - 0s 37ms/step - loss: 0.5081 - accuracy: 0.6910 - recall_5: 0.5172 - precision_5: 0.5254 - val_loss: 0.0506 - val_accuracy: 0.9995 - val_recall_5: 0.0000e+00 - val_precision_5: 0.0000e+00\n",
            "Epoch 28/50\n",
            "8/8 [==============================] - 0s 36ms/step - loss: 0.5123 - accuracy: 0.6872 - recall_5: 0.4772 - precision_5: 0.5209 - val_loss: 0.0566 - val_accuracy: 0.9995 - val_recall_5: 0.0000e+00 - val_precision_5: 0.0000e+00\n",
            "Epoch 29/50\n",
            "8/8 [==============================] - 0s 36ms/step - loss: 0.5058 - accuracy: 0.6924 - recall_5: 0.4504 - precision_5: 0.5321 - val_loss: 0.0581 - val_accuracy: 0.9995 - val_recall_5: 0.0000e+00 - val_precision_5: 0.0000e+00\n",
            "Epoch 30/50\n",
            "8/8 [==============================] - 0s 36ms/step - loss: 0.5084 - accuracy: 0.6864 - recall_5: 0.4492 - precision_5: 0.5209 - val_loss: 0.0560 - val_accuracy: 0.9995 - val_recall_5: 0.0000e+00 - val_precision_5: 0.0000e+00\n",
            "Epoch 31/50\n",
            "8/8 [==============================] - 0s 37ms/step - loss: 0.5082 - accuracy: 0.6872 - recall_5: 0.5216 - precision_5: 0.5191 - val_loss: 0.0514 - val_accuracy: 0.9995 - val_recall_5: 0.0000e+00 - val_precision_5: 0.0000e+00\n",
            "Epoch 32/50\n",
            "8/8 [==============================] - 0s 36ms/step - loss: 0.5088 - accuracy: 0.6945 - recall_5: 0.4684 - precision_5: 0.5347 - val_loss: 0.0580 - val_accuracy: 0.9995 - val_recall_5: 0.0000e+00 - val_precision_5: 0.0000e+00\n",
            "Epoch 33/50\n",
            "8/8 [==============================] - 0s 36ms/step - loss: 0.5056 - accuracy: 0.6932 - recall_5: 0.4432 - precision_5: 0.5342 - val_loss: 0.0560 - val_accuracy: 0.9995 - val_recall_5: 0.0000e+00 - val_precision_5: 0.0000e+00\n",
            "Epoch 34/50\n",
            "8/8 [==============================] - 0s 37ms/step - loss: 0.5004 - accuracy: 0.7031 - recall_5: 0.5228 - precision_5: 0.5455 - val_loss: 0.0500 - val_accuracy: 0.9995 - val_recall_5: 0.0000e+00 - val_precision_5: 0.0000e+00\n",
            "Epoch 35/50\n",
            "8/8 [==============================] - 0s 36ms/step - loss: 0.5083 - accuracy: 0.6869 - recall_5: 0.4664 - precision_5: 0.5210 - val_loss: 0.0544 - val_accuracy: 0.9995 - val_recall_5: 0.0000e+00 - val_precision_5: 0.0000e+00\n",
            "Epoch 36/50\n",
            "8/8 [==============================] - 0s 36ms/step - loss: 0.5046 - accuracy: 0.7006 - recall_5: 0.4832 - precision_5: 0.5448 - val_loss: 0.0521 - val_accuracy: 0.9995 - val_recall_5: 0.0000e+00 - val_precision_5: 0.0000e+00\n",
            "Epoch 37/50\n",
            "8/8 [==============================] - 0s 36ms/step - loss: 0.5035 - accuracy: 0.6972 - recall_5: 0.4912 - precision_5: 0.5379 - val_loss: 0.0502 - val_accuracy: 0.9995 - val_recall_5: 0.0000e+00 - val_precision_5: 0.0000e+00\n",
            "Epoch 38/50\n",
            "8/8 [==============================] - 0s 37ms/step - loss: 0.5073 - accuracy: 0.6950 - recall_5: 0.4812 - precision_5: 0.5346 - val_loss: 0.0508 - val_accuracy: 0.9995 - val_recall_5: 0.0000e+00 - val_precision_5: 0.0000e+00\n",
            "Epoch 39/50\n",
            "8/8 [==============================] - 0s 36ms/step - loss: 0.5072 - accuracy: 0.6901 - recall_5: 0.4896 - precision_5: 0.5253 - val_loss: 0.0474 - val_accuracy: 0.9995 - val_recall_5: 0.0000e+00 - val_precision_5: 0.0000e+00\n",
            "Epoch 40/50\n",
            "8/8 [==============================] - 0s 37ms/step - loss: 0.5065 - accuracy: 0.6889 - recall_5: 0.4724 - precision_5: 0.5242 - val_loss: 0.0496 - val_accuracy: 0.9995 - val_recall_5: 0.0000e+00 - val_precision_5: 0.0000e+00\n",
            "Epoch 41/50\n",
            "8/8 [==============================] - 0s 36ms/step - loss: 0.5064 - accuracy: 0.6918 - recall_5: 0.5144 - precision_5: 0.5268 - val_loss: 0.0486 - val_accuracy: 0.9995 - val_recall_5: 0.0000e+00 - val_precision_5: 0.0000e+00\n",
            "Epoch 42/50\n",
            "8/8 [==============================] - 0s 36ms/step - loss: 0.5100 - accuracy: 0.6894 - recall_5: 0.4764 - precision_5: 0.5249 - val_loss: 0.0499 - val_accuracy: 0.9995 - val_recall_5: 0.0000e+00 - val_precision_5: 0.0000e+00\n",
            "Epoch 43/50\n",
            "8/8 [==============================] - 0s 36ms/step - loss: 0.5093 - accuracy: 0.6892 - recall_5: 0.4464 - precision_5: 0.5261 - val_loss: 0.0495 - val_accuracy: 0.9995 - val_recall_5: 0.0000e+00 - val_precision_5: 0.0000e+00\n",
            "Epoch 44/50\n",
            "8/8 [==============================] - 0s 36ms/step - loss: 0.5025 - accuracy: 0.7050 - recall_5: 0.5240 - precision_5: 0.5488 - val_loss: 0.0481 - val_accuracy: 0.9995 - val_recall_5: 0.0000e+00 - val_precision_5: 0.0000e+00\n",
            "Epoch 45/50\n",
            "8/8 [==============================] - 0s 36ms/step - loss: 0.5057 - accuracy: 0.6944 - recall_5: 0.4724 - precision_5: 0.5341 - val_loss: 0.0504 - val_accuracy: 0.9995 - val_recall_5: 0.0000e+00 - val_precision_5: 0.0000e+00\n",
            "Epoch 46/50\n",
            "8/8 [==============================] - 0s 36ms/step - loss: 0.5095 - accuracy: 0.6882 - recall_5: 0.4868 - precision_5: 0.5223 - val_loss: 0.0471 - val_accuracy: 0.9995 - val_recall_5: 0.0000e+00 - val_precision_5: 0.0000e+00\n",
            "Epoch 47/50\n",
            "8/8 [==============================] - 0s 37ms/step - loss: 0.5031 - accuracy: 0.6979 - recall_5: 0.4940 - precision_5: 0.5388 - val_loss: 0.0489 - val_accuracy: 0.9995 - val_recall_5: 0.0000e+00 - val_precision_5: 0.0000e+00\n",
            "Epoch 48/50\n",
            "8/8 [==============================] - 0s 37ms/step - loss: 0.5037 - accuracy: 0.6914 - recall_5: 0.5000 - precision_5: 0.5270 - val_loss: 0.0472 - val_accuracy: 0.9995 - val_recall_5: 0.0000e+00 - val_precision_5: 0.0000e+00\n",
            "Epoch 49/50\n",
            "8/8 [==============================] - 0s 36ms/step - loss: 0.5057 - accuracy: 0.6967 - recall_5: 0.5056 - precision_5: 0.5358 - val_loss: 0.0475 - val_accuracy: 0.9995 - val_recall_5: 0.0000e+00 - val_precision_5: 0.0000e+00\n",
            "Epoch 50/50\n",
            "8/8 [==============================] - 0s 36ms/step - loss: 0.5039 - accuracy: 0.6941 - recall_5: 0.4768 - precision_5: 0.5333 - val_loss: 0.0477 - val_accuracy: 0.9995 - val_recall_5: 0.0000e+00 - val_precision_5: 0.0000e+00\n",
            "88/88 [==============================] - 0s 3ms/step - loss: 0.0627 - accuracy: 1.0000 - recall_5: 0.0000e+00 - precision_5: 0.0000e+00\n"
          ]
        },
        {
          "output_type": "execute_result",
          "data": {
            "text/plain": [
              "[0.06268198788166046, 1.0, 0.0, 0.0]"
            ]
          },
          "metadata": {},
          "execution_count": 28
        }
      ]
    }
  ],
  "metadata": {
    "accelerator": "GPU",
    "colab": {
      "machine_shape": "hm",
      "name": "forSmallbatchALLSENSORSCNN.ipynb",
      "provenance": []
    },
    "kernelspec": {
      "display_name": "Python 3",
      "name": "python3"
    },
    "language_info": {
      "name": "python"
    }
  },
  "nbformat": 4,
  "nbformat_minor": 0
}