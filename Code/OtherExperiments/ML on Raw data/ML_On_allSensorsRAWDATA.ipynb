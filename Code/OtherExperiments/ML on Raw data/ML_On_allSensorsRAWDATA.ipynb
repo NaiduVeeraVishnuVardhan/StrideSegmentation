{
  "nbformat": 4,
  "nbformat_minor": 0,
  "metadata": {
    "colab": {
      "name": "ML_On_allSensorsRAWDATA",
      "provenance": []
    },
    "kernelspec": {
      "name": "python3",
      "display_name": "Python 3"
    },
    "language_info": {
      "name": "python"
    },
    "accelerator": "GPU"
  },
  "cells": [
    {
      "cell_type": "code",
      "execution_count": null,
      "metadata": {
        "colab": {
          "base_uri": "https://localhost:8080/"
        },
        "id": "LDxmFPguI1bD",
        "outputId": "dcb46118-debc-4132-e074-4774c198f006"
      },
      "outputs": [
        {
          "output_type": "stream",
          "name": "stdout",
          "text": [
            "Mounted at /content/drive\n"
          ]
        }
      ],
      "source": [
        "from google.colab import drive\n",
        "drive.mount('/content/drive') "
      ]
    },
    {
      "cell_type": "markdown",
      "source": [
        "## **Loading Dataset**"
      ],
      "metadata": {
        "id": "lU6JiHDW9IMt"
      }
    },
    {
      "cell_type": "code",
      "source": [
        "!pip install antropy\n",
        "import pandas as pd\n",
        "import numpy as np\n",
        "import matplotlib.pyplot as plt\n",
        "import pandas as pd\n",
        "import numpy as np\n",
        "df = pd.read_csv('/content/drive/MyDrive/Colab Notebooks/dataset/FinalDatasetWithlabels.csv')#,index_col='time_s',parse_dates=['time_s'])\n",
        "df = df.drop(['Unnamed: 0'], 1)\n",
        "# df = df.drop(['loc_id'], 1)\n",
        "#Converting to category type \n",
        "\n",
        "df['subj_id'] = df['subj_id'].astype('category')\n",
        "df['subj_id'] = df['subj_id'].cat.codes\n",
        "\n",
        "df['label'] = df['label'].astype('category')\n",
        "df['label'] = df['label'].cat.codes\n",
        "\n",
        "df['loc_id'] = df['loc_id'].astype('category')\n",
        "df['loc_id'] = df['loc_id'].cat.codes"
      ],
      "metadata": {
        "colab": {
          "base_uri": "https://localhost:8080/"
        },
        "id": "Zn8OrwYrJBCF",
        "outputId": "b3a539d4-99cb-495b-ec0f-f7943fd45904"
      },
      "execution_count": null,
      "outputs": [
        {
          "output_type": "stream",
          "name": "stdout",
          "text": [
            "Collecting antropy\n",
            "  Downloading antropy-0.1.4.tar.gz (16 kB)\n",
            "Collecting stochastic\n",
            "  Downloading stochastic-0.6.0-py3-none-any.whl (49 kB)\n",
            "\u001b[K     |████████████████████████████████| 49 kB 3.0 MB/s \n",
            "\u001b[?25hRequirement already satisfied: scipy<2.0,>=1.3 in /usr/local/lib/python3.7/dist-packages (from stochastic->antropy) (1.4.1)\n",
            "Requirement already satisfied: numpy<2.0,>=1.17 in /usr/local/lib/python3.7/dist-packages (from stochastic->antropy) (1.19.5)\n",
            "Building wheels for collected packages: antropy\n",
            "  Building wheel for antropy (setup.py) ... \u001b[?25l\u001b[?25hdone\n",
            "  Created wheel for antropy: filename=antropy-0.1.4-py3-none-any.whl size=16159 sha256=d23079b874b3e7b911ca32a27be19b051e7328ee66f27d4f6895f8bb1b89a735\n",
            "  Stored in directory: /root/.cache/pip/wheels/d4/cc/6b/28fa7036bdabc6f1f92fd6a108ae259dbb48f107f676d6b491\n",
            "Successfully built antropy\n",
            "Installing collected packages: stochastic, antropy\n",
            "Successfully installed antropy-0.1.4 stochastic-0.6.0\n"
          ]
        }
      ]
    },
    {
      "cell_type": "code",
      "source": [
        "df"
      ],
      "metadata": {
        "colab": {
          "base_uri": "https://localhost:8080/",
          "height": 424
        },
        "id": "7OUkBpkGpN0r",
        "outputId": "d5bae722-6bb6-4a10-93e7-9b2486f2e0bd"
      },
      "execution_count": null,
      "outputs": [
        {
          "output_type": "execute_result",
          "data": {
            "text/html": [
              "\n",
              "  <div id=\"df-4418ca73-19f9-4253-8269-14ba450c53ca\">\n",
              "    <div class=\"colab-df-container\">\n",
              "      <div>\n",
              "<style scoped>\n",
              "    .dataframe tbody tr th:only-of-type {\n",
              "        vertical-align: middle;\n",
              "    }\n",
              "\n",
              "    .dataframe tbody tr th {\n",
              "        vertical-align: top;\n",
              "    }\n",
              "\n",
              "    .dataframe thead th {\n",
              "        text-align: right;\n",
              "    }\n",
              "</style>\n",
              "<table border=\"1\" class=\"dataframe\">\n",
              "  <thead>\n",
              "    <tr style=\"text-align: right;\">\n",
              "      <th></th>\n",
              "      <th>subj_id</th>\n",
              "      <th>loc_id</th>\n",
              "      <th>time_s</th>\n",
              "      <th>x</th>\n",
              "      <th>y</th>\n",
              "      <th>z</th>\n",
              "      <th>magnitude</th>\n",
              "      <th>label</th>\n",
              "    </tr>\n",
              "  </thead>\n",
              "  <tbody>\n",
              "    <tr>\n",
              "      <th>0</th>\n",
              "      <td>15</td>\n",
              "      <td>2</td>\n",
              "      <td>0.00</td>\n",
              "      <td>-0.270</td>\n",
              "      <td>-0.773</td>\n",
              "      <td>-0.160</td>\n",
              "      <td>0.834284</td>\n",
              "      <td>0</td>\n",
              "    </tr>\n",
              "    <tr>\n",
              "      <th>1</th>\n",
              "      <td>15</td>\n",
              "      <td>2</td>\n",
              "      <td>0.01</td>\n",
              "      <td>-0.266</td>\n",
              "      <td>-0.738</td>\n",
              "      <td>-0.172</td>\n",
              "      <td>0.803109</td>\n",
              "      <td>0</td>\n",
              "    </tr>\n",
              "    <tr>\n",
              "      <th>2</th>\n",
              "      <td>15</td>\n",
              "      <td>2</td>\n",
              "      <td>0.02</td>\n",
              "      <td>-0.277</td>\n",
              "      <td>-0.707</td>\n",
              "      <td>-0.168</td>\n",
              "      <td>0.777690</td>\n",
              "      <td>0</td>\n",
              "    </tr>\n",
              "    <tr>\n",
              "      <th>3</th>\n",
              "      <td>15</td>\n",
              "      <td>2</td>\n",
              "      <td>0.03</td>\n",
              "      <td>-0.277</td>\n",
              "      <td>-0.680</td>\n",
              "      <td>-0.160</td>\n",
              "      <td>0.751485</td>\n",
              "      <td>0</td>\n",
              "    </tr>\n",
              "    <tr>\n",
              "      <th>4</th>\n",
              "      <td>15</td>\n",
              "      <td>2</td>\n",
              "      <td>0.04</td>\n",
              "      <td>-0.289</td>\n",
              "      <td>-0.656</td>\n",
              "      <td>-0.160</td>\n",
              "      <td>0.734477</td>\n",
              "      <td>0</td>\n",
              "    </tr>\n",
              "    <tr>\n",
              "      <th>...</th>\n",
              "      <td>...</td>\n",
              "      <td>...</td>\n",
              "      <td>...</td>\n",
              "      <td>...</td>\n",
              "      <td>...</td>\n",
              "      <td>...</td>\n",
              "      <td>...</td>\n",
              "      <td>...</td>\n",
              "    </tr>\n",
              "    <tr>\n",
              "      <th>2590443</th>\n",
              "      <td>31</td>\n",
              "      <td>3</td>\n",
              "      <td>206.71</td>\n",
              "      <td>0.098</td>\n",
              "      <td>1.059</td>\n",
              "      <td>0.090</td>\n",
              "      <td>1.067326</td>\n",
              "      <td>0</td>\n",
              "    </tr>\n",
              "    <tr>\n",
              "      <th>2590444</th>\n",
              "      <td>31</td>\n",
              "      <td>3</td>\n",
              "      <td>206.72</td>\n",
              "      <td>0.105</td>\n",
              "      <td>1.070</td>\n",
              "      <td>0.074</td>\n",
              "      <td>1.077683</td>\n",
              "      <td>0</td>\n",
              "    </tr>\n",
              "    <tr>\n",
              "      <th>2590445</th>\n",
              "      <td>31</td>\n",
              "      <td>3</td>\n",
              "      <td>206.73</td>\n",
              "      <td>0.125</td>\n",
              "      <td>1.094</td>\n",
              "      <td>0.090</td>\n",
              "      <td>1.104790</td>\n",
              "      <td>0</td>\n",
              "    </tr>\n",
              "    <tr>\n",
              "      <th>2590446</th>\n",
              "      <td>31</td>\n",
              "      <td>3</td>\n",
              "      <td>206.74</td>\n",
              "      <td>0.141</td>\n",
              "      <td>1.129</td>\n",
              "      <td>0.090</td>\n",
              "      <td>1.141325</td>\n",
              "      <td>0</td>\n",
              "    </tr>\n",
              "    <tr>\n",
              "      <th>2590447</th>\n",
              "      <td>31</td>\n",
              "      <td>3</td>\n",
              "      <td>206.75</td>\n",
              "      <td>0.074</td>\n",
              "      <td>1.215</td>\n",
              "      <td>0.105</td>\n",
              "      <td>1.221772</td>\n",
              "      <td>0</td>\n",
              "    </tr>\n",
              "  </tbody>\n",
              "</table>\n",
              "<p>2590448 rows × 8 columns</p>\n",
              "</div>\n",
              "      <button class=\"colab-df-convert\" onclick=\"convertToInteractive('df-4418ca73-19f9-4253-8269-14ba450c53ca')\"\n",
              "              title=\"Convert this dataframe to an interactive table.\"\n",
              "              style=\"display:none;\">\n",
              "        \n",
              "  <svg xmlns=\"http://www.w3.org/2000/svg\" height=\"24px\"viewBox=\"0 0 24 24\"\n",
              "       width=\"24px\">\n",
              "    <path d=\"M0 0h24v24H0V0z\" fill=\"none\"/>\n",
              "    <path d=\"M18.56 5.44l.94 2.06.94-2.06 2.06-.94-2.06-.94-.94-2.06-.94 2.06-2.06.94zm-11 1L8.5 8.5l.94-2.06 2.06-.94-2.06-.94L8.5 2.5l-.94 2.06-2.06.94zm10 10l.94 2.06.94-2.06 2.06-.94-2.06-.94-.94-2.06-.94 2.06-2.06.94z\"/><path d=\"M17.41 7.96l-1.37-1.37c-.4-.4-.92-.59-1.43-.59-.52 0-1.04.2-1.43.59L10.3 9.45l-7.72 7.72c-.78.78-.78 2.05 0 2.83L4 21.41c.39.39.9.59 1.41.59.51 0 1.02-.2 1.41-.59l7.78-7.78 2.81-2.81c.8-.78.8-2.07 0-2.86zM5.41 20L4 18.59l7.72-7.72 1.47 1.35L5.41 20z\"/>\n",
              "  </svg>\n",
              "      </button>\n",
              "      \n",
              "  <style>\n",
              "    .colab-df-container {\n",
              "      display:flex;\n",
              "      flex-wrap:wrap;\n",
              "      gap: 12px;\n",
              "    }\n",
              "\n",
              "    .colab-df-convert {\n",
              "      background-color: #E8F0FE;\n",
              "      border: none;\n",
              "      border-radius: 50%;\n",
              "      cursor: pointer;\n",
              "      display: none;\n",
              "      fill: #1967D2;\n",
              "      height: 32px;\n",
              "      padding: 0 0 0 0;\n",
              "      width: 32px;\n",
              "    }\n",
              "\n",
              "    .colab-df-convert:hover {\n",
              "      background-color: #E2EBFA;\n",
              "      box-shadow: 0px 1px 2px rgba(60, 64, 67, 0.3), 0px 1px 3px 1px rgba(60, 64, 67, 0.15);\n",
              "      fill: #174EA6;\n",
              "    }\n",
              "\n",
              "    [theme=dark] .colab-df-convert {\n",
              "      background-color: #3B4455;\n",
              "      fill: #D2E3FC;\n",
              "    }\n",
              "\n",
              "    [theme=dark] .colab-df-convert:hover {\n",
              "      background-color: #434B5C;\n",
              "      box-shadow: 0px 1px 3px 1px rgba(0, 0, 0, 0.15);\n",
              "      filter: drop-shadow(0px 1px 2px rgba(0, 0, 0, 0.3));\n",
              "      fill: #FFFFFF;\n",
              "    }\n",
              "  </style>\n",
              "\n",
              "      <script>\n",
              "        const buttonEl =\n",
              "          document.querySelector('#df-4418ca73-19f9-4253-8269-14ba450c53ca button.colab-df-convert');\n",
              "        buttonEl.style.display =\n",
              "          google.colab.kernel.accessAllowed ? 'block' : 'none';\n",
              "\n",
              "        async function convertToInteractive(key) {\n",
              "          const element = document.querySelector('#df-4418ca73-19f9-4253-8269-14ba450c53ca');\n",
              "          const dataTable =\n",
              "            await google.colab.kernel.invokeFunction('convertToInteractive',\n",
              "                                                     [key], {});\n",
              "          if (!dataTable) return;\n",
              "\n",
              "          const docLinkHtml = 'Like what you see? Visit the ' +\n",
              "            '<a target=\"_blank\" href=https://colab.research.google.com/notebooks/data_table.ipynb>data table notebook</a>'\n",
              "            + ' to learn more about interactive tables.';\n",
              "          element.innerHTML = '';\n",
              "          dataTable['output_type'] = 'display_data';\n",
              "          await google.colab.output.renderOutput(dataTable, element);\n",
              "          const docLink = document.createElement('div');\n",
              "          docLink.innerHTML = docLinkHtml;\n",
              "          element.appendChild(docLink);\n",
              "        }\n",
              "      </script>\n",
              "    </div>\n",
              "  </div>\n",
              "  "
            ],
            "text/plain": [
              "         subj_id  loc_id  time_s      x      y      z  magnitude  label\n",
              "0             15       2    0.00 -0.270 -0.773 -0.160   0.834284      0\n",
              "1             15       2    0.01 -0.266 -0.738 -0.172   0.803109      0\n",
              "2             15       2    0.02 -0.277 -0.707 -0.168   0.777690      0\n",
              "3             15       2    0.03 -0.277 -0.680 -0.160   0.751485      0\n",
              "4             15       2    0.04 -0.289 -0.656 -0.160   0.734477      0\n",
              "...          ...     ...     ...    ...    ...    ...        ...    ...\n",
              "2590443       31       3  206.71  0.098  1.059  0.090   1.067326      0\n",
              "2590444       31       3  206.72  0.105  1.070  0.074   1.077683      0\n",
              "2590445       31       3  206.73  0.125  1.094  0.090   1.104790      0\n",
              "2590446       31       3  206.74  0.141  1.129  0.090   1.141325      0\n",
              "2590447       31       3  206.75  0.074  1.215  0.105   1.221772      0\n",
              "\n",
              "[2590448 rows x 8 columns]"
            ]
          },
          "metadata": {},
          "execution_count": 3
        }
      ]
    },
    {
      "cell_type": "markdown",
      "source": [
        "## **TEST AND TRAIN DATASET**"
      ],
      "metadata": {
        "id": "tw1SDpwq9Wtg"
      }
    },
    {
      "cell_type": "code",
      "source": [
        "X_train = df[df.subj_id.isin( df.subj_id.unique()[:10] ) ] \n",
        "y_train = X_train['label'] \n",
        "X_train = X_train.drop(['label'], 1)"
      ],
      "metadata": {
        "id": "-6Un9bTO9C4D"
      },
      "execution_count": null,
      "outputs": []
    },
    {
      "cell_type": "code",
      "source": [
        "X_test = df[df.subj_id.isin( df.subj_id.unique()[5:] )]\n",
        "y_test = X_test['label'] \n",
        "X_test = X_test.drop(['label'], 1)"
      ],
      "metadata": {
        "id": "ydEGrdj_ymnQ"
      },
      "execution_count": null,
      "outputs": []
    },
    {
      "cell_type": "markdown",
      "source": [
        "## **RANDOM FOREST**"
      ],
      "metadata": {
        "id": "67pyrJXG_a8y"
      }
    },
    {
      "cell_type": "code",
      "source": [
        "from sklearn.ensemble import RandomForestClassifier\n",
        "from sklearn.metrics import classification_report\n",
        "from sklearn.feature_selection import SelectFromModel"
      ],
      "metadata": {
        "id": "kUbMvgAHSSB9"
      },
      "execution_count": null,
      "outputs": []
    },
    {
      "cell_type": "markdown",
      "source": [
        "***STANDARD SCALING***"
      ],
      "metadata": {
        "id": "ArJb702p_rHT"
      }
    },
    {
      "cell_type": "code",
      "source": [
        "#SCALING \n",
        "from sklearn.preprocessing import StandardScaler\n",
        "scaler = StandardScaler()\n",
        "X_train_scaled = pd.DataFrame(scaler.fit_transform(X_train),columns=X_train.columns)\n",
        "X_train = X_train_scaled"
      ],
      "metadata": {
        "id": "9Jk4rYDA_qTi"
      },
      "execution_count": null,
      "outputs": []
    },
    {
      "cell_type": "markdown",
      "source": [
        "***Feature selection***"
      ],
      "metadata": {
        "id": "nv5R3OkwAD8-"
      }
    },
    {
      "cell_type": "code",
      "source": [
        "sel = SelectFromModel(RandomForestClassifier(n_estimators = 100))\n",
        "sel.fit(X_train, y_train)"
      ],
      "metadata": {
        "id": "9Kct5EiR_kDx",
        "outputId": "88a4b0fc-b9c5-490f-a514-d890e013febd",
        "colab": {
          "base_uri": "https://localhost:8080/"
        }
      },
      "execution_count": null,
      "outputs": [
        {
          "output_type": "execute_result",
          "data": {
            "text/plain": [
              "SelectFromModel(estimator=RandomForestClassifier())"
            ]
          },
          "metadata": {},
          "execution_count": 8
        }
      ]
    },
    {
      "cell_type": "code",
      "source": [
        "selected_feat= X_train.columns[(sel.get_support())]\n",
        "len(selected_feat)"
      ],
      "metadata": {
        "id": "1Ef3x5iiqc3w",
        "outputId": "26ec1da1-0037-4d7d-be93-5315a76b8ea3",
        "colab": {
          "base_uri": "https://localhost:8080/"
        }
      },
      "execution_count": null,
      "outputs": [
        {
          "output_type": "execute_result",
          "data": {
            "text/plain": [
              "5"
            ]
          },
          "metadata": {},
          "execution_count": 9
        }
      ]
    },
    {
      "cell_type": "code",
      "source": [
        "print(selected_feat)"
      ],
      "metadata": {
        "id": "aQCTlR-xqgXC",
        "outputId": "f64b7abe-d446-4e80-f6b6-457c56d69abd",
        "colab": {
          "base_uri": "https://localhost:8080/"
        }
      },
      "execution_count": null,
      "outputs": [
        {
          "output_type": "stream",
          "name": "stdout",
          "text": [
            "Index(['time_s', 'x', 'y', 'z', 'magnitude'], dtype='object')\n"
          ]
        }
      ]
    },
    {
      "cell_type": "markdown",
      "source": [
        "***RF CLASSIFIER with all features***"
      ],
      "metadata": {
        "id": "RVFNIxVCAQjy"
      }
    },
    {
      "cell_type": "code",
      "source": [
        "clf = RandomForestClassifier(n_estimators=1000)\n",
        "clf.fit(X_train, y_train) "
      ],
      "metadata": {
        "id": "0SJmEBiw1vna"
      },
      "execution_count": null,
      "outputs": []
    },
    {
      "cell_type": "markdown",
      "source": [
        "***Evaluation***"
      ],
      "metadata": {
        "id": "qzPROqpOAVGt"
      }
    },
    {
      "cell_type": "code",
      "source": [
        "from sklearn.metrics import accuracy_score\n",
        "from sklearn.metrics import classification_report\n",
        "y_pred = clf.predict(X_test)\n",
        "\n",
        "print(\"Accuracy: \\t \", accuracy_score(y_test, y_pred))\n",
        "\n",
        "print(\"\\n \\n-------------Classification Report-------------\\n\")\n",
        "print(classification_report(y_test, y_pred))\n",
        "print(\"\\n \\n-------------confusion matrix-------------\\n\")\n",
        "from sklearn.metrics import confusion_matrix\n",
        "confusion_matrix(y_test, y_pred)"
      ],
      "metadata": {
        "id": "Hypltrn_468g"
      },
      "execution_count": null,
      "outputs": []
    },
    {
      "cell_type": "code",
      "source": [
        "X_train.columns\n",
        "selected_feat"
      ],
      "metadata": {
        "id": "rnoI3rXZKWg4"
      },
      "execution_count": null,
      "outputs": []
    },
    {
      "cell_type": "code",
      "source": [
        "y_test"
      ],
      "metadata": {
        "id": "Ipj-s9QiM6vN"
      },
      "execution_count": null,
      "outputs": []
    },
    {
      "cell_type": "code",
      "source": [
        "y_pred"
      ],
      "metadata": {
        "id": "XA2CKSYaM8vA"
      },
      "execution_count": null,
      "outputs": []
    },
    {
      "cell_type": "markdown",
      "source": [
        "## ***SVM CLASSIFIER***"
      ],
      "metadata": {
        "id": "F1J2TukINt34"
      }
    },
    {
      "cell_type": "code",
      "source": [
        "#Import svm model\n",
        "from sklearn import svm\n",
        "#Create a svm Classifier\n",
        "clf = svm.SVC(kernel='linear') # Linear Kernel\n",
        "clf.fit(X_train, y_train) "
      ],
      "metadata": {
        "id": "YlyopwnBNsw6"
      },
      "execution_count": null,
      "outputs": []
    },
    {
      "cell_type": "markdown",
      "source": [
        "# ***EVALUATION***"
      ],
      "metadata": {
        "id": "9BvZewPrODEv"
      }
    },
    {
      "cell_type": "code",
      "source": [
        "from sklearn.metrics import accuracy_score\n",
        "from sklearn.metrics import classification_report\n",
        "\n",
        "y_pred = clf.predict(X_test)\n",
        "\n",
        "print(\"Accuracy: \\t \", accuracy_score(y_test, y_pred))\n",
        "\n",
        "print(\"\\n \\n-------------Classification Report-------------\\n\")\n",
        "print(classification_report(y_test, y_pred))\n",
        "print(\"\\n \\n-------------confusion matrix-------------\\n\")\n",
        "from sklearn.metrics import confusion_matrix\n",
        "confusion_matrix(y_test, y_pred)"
      ],
      "metadata": {
        "id": "aNrFh4HTOF2V"
      },
      "execution_count": null,
      "outputs": []
    }
  ]
}