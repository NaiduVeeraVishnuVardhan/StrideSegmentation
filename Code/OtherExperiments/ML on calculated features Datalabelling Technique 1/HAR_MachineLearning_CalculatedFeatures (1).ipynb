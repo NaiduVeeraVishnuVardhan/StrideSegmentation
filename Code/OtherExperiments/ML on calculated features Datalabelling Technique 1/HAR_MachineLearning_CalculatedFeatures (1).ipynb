{
  "cells": [
    {
      "cell_type": "code",
      "execution_count": null,
      "metadata": {
        "colab": {
          "base_uri": "https://localhost:8080/"
        },
        "id": "LDxmFPguI1bD",
        "outputId": "da6e1942-f3ca-4e41-c1eb-785397755188"
      },
      "outputs": [
        {
          "output_type": "stream",
          "name": "stdout",
          "text": [
            "Mounted at /content/drive\n"
          ]
        }
      ],
      "source": [
        "from google.colab import drive\n",
        "drive.mount('/content/drive')"
      ]
    },
    {
      "cell_type": "code",
      "source": [
        "\n",
        "import antropy as ant\n"
      ],
      "metadata": {
        "id": "WT3XzIDYhmEk"
      },
      "execution_count": null,
      "outputs": []
    },
    {
      "cell_type": "code",
      "execution_count": null,
      "metadata": {
        "id": "Zn8OrwYrJBCF",
        "colab": {
          "base_uri": "https://localhost:8080/"
        },
        "outputId": "5f0c9335-71b4-4b4a-8b63-08fbd7e00e5c"
      },
      "outputs": [
        {
          "output_type": "stream",
          "name": "stdout",
          "text": [
            "Collecting antropy\n",
            "  Downloading antropy-0.1.4.tar.gz (16 kB)\n",
            "Collecting stochastic\n",
            "  Downloading stochastic-0.6.0-py3-none-any.whl (49 kB)\n",
            "\u001b[K     |████████████████████████████████| 49 kB 4.4 MB/s \n",
            "\u001b[?25hRequirement already satisfied: numpy<2.0,>=1.17 in /usr/local/lib/python3.7/dist-packages (from stochastic->antropy) (1.19.5)\n",
            "Requirement already satisfied: scipy<2.0,>=1.3 in /usr/local/lib/python3.7/dist-packages (from stochastic->antropy) (1.4.1)\n",
            "Building wheels for collected packages: antropy\n",
            "  Building wheel for antropy (setup.py) ... \u001b[?25l\u001b[?25hdone\n",
            "  Created wheel for antropy: filename=antropy-0.1.4-py3-none-any.whl size=16159 sha256=bcebabaac9d73a4ba0136f4340ae0453889509eed9eb1edddafeaeed02ee7efc\n",
            "  Stored in directory: /root/.cache/pip/wheels/d4/cc/6b/28fa7036bdabc6f1f92fd6a108ae259dbb48f107f676d6b491\n",
            "Successfully built antropy\n",
            "Installing collected packages: stochastic, antropy\n",
            "Successfully installed antropy-0.1.4 stochastic-0.6.0\n"
          ]
        }
      ],
      "source": [
        "!pip install antropy\n",
        "import pandas as pd\n",
        "import numpy as np\n",
        "import matplotlib.pyplot as plt\n",
        "df = pd.read_csv('/content/drive/MyDrive/Colab Notebooks/dataset/FinalDatasetWithlabels.csv')#,index_col='time_s',parse_dates=['time_s'])\n",
        "df = df.drop(['Unnamed: 0'], 1)\n",
        "\n",
        "df['subj_id'] = df['subj_id'].astype('category')\n",
        "df['subj_id'] = df['subj_id'].cat.codes\n",
        "\n",
        "df['label'] = df['label'].astype('category')\n",
        "df['label'] = df['label'].cat.codes\n",
        "\n",
        "df['loc_id'] = df['loc_id'].astype('category')\n",
        "df['loc_id'] = df['loc_id'].cat.codes"
      ]
    },
    {
      "cell_type": "code",
      "execution_count": null,
      "metadata": {
        "id": "V0ej2Mh1Jel9"
      },
      "outputs": [],
      "source": [
        "df_train = df[df.subj_id.isin( df.subj_id.unique()[:10] ) ] \n",
        "df_test = df[df.subj_id.isin( df.subj_id.unique()[5:] )]\n",
        "\n",
        "from scipy import stats\n",
        "\n",
        "x_list = []\n",
        "y_list = []\n",
        "z_list = []\n",
        "train_labels = []\n",
        "\n",
        "window_size = 50\n",
        "step_size = 50\n",
        "\n",
        "# creating overlaping windows of size window-size 50\n",
        "for i in range(0, df_train.shape[0] - window_size, step_size):\n",
        "    xs = df_train['x'].values[i: i + 50]\n",
        "    ys = df_train['y'].values[i: i + 50]\n",
        "    zs = df_train['z'].values[i: i + 50]\n",
        "    label = stats.mode(df_train['label'][i: i + 50])[0][0]\n",
        "\n",
        "    x_list.append(xs)\n",
        "    y_list.append(ys)\n",
        "    z_list.append(zs)\n",
        "    train_labels.append(label)"
      ]
    },
    {
      "cell_type": "code",
      "execution_count": null,
      "metadata": {
        "id": "hRJ_ClV0Jy8p"
      },
      "outputs": [],
      "source": [
        "from scipy.stats import skew\n",
        "from scipy.signal import find_peaks\n",
        "from scipy.stats import norm, kurtosis\n",
        "from scipy.signal import find_peaks\n",
        "\n",
        "# Statistical Features on raw x, y and z in time domain\n",
        "X_train = pd.DataFrame()\n",
        "\n",
        "# mean\n",
        "X_train['x_mean'] = pd.Series(x_list).apply(lambda x: x.mean())\n",
        "X_train['y_mean'] = pd.Series(y_list).apply(lambda x: x.mean())\n",
        "X_train['z_mean'] = pd.Series(z_list).apply(lambda x: x.mean())\n",
        "\n",
        "# std dev\n",
        "X_train['x_std'] = pd.Series(x_list).apply(lambda x: x.std())\n",
        "X_train['y_std'] = pd.Series(y_list).apply(lambda x: x.std())\n",
        "X_train['z_std'] = pd.Series(z_list).apply(lambda x: x.std())\n",
        "\n",
        "# avg absolute diff\n",
        "X_train['x_aad'] = pd.Series(x_list).apply(lambda x: np.mean(np.absolute(x - np.mean(x))))\n",
        "X_train['y_aad'] = pd.Series(y_list).apply(lambda x: np.mean(np.absolute(x - np.mean(x))))\n",
        "X_train['z_aad'] = pd.Series(z_list).apply(lambda x: np.mean(np.absolute(x - np.mean(x))))\n",
        "\n",
        "# min\n",
        "X_train['x_min'] = pd.Series(x_list).apply(lambda x: x.min())\n",
        "X_train['y_min'] = pd.Series(y_list).apply(lambda x: x.min())\n",
        "X_train['z_min'] = pd.Series(z_list).apply(lambda x: x.min())\n",
        "\n",
        "# max\n",
        "X_train['x_max'] = pd.Series(x_list).apply(lambda x: x.max())\n",
        "X_train['y_max'] = pd.Series(y_list).apply(lambda x: x.max())\n",
        "X_train['z_max'] = pd.Series(z_list).apply(lambda x: x.max())\n",
        "\n",
        "# max-min diff\n",
        "X_train['x_maxmin_diff'] = X_train['x_max'] - X_train['x_min']\n",
        "X_train['y_maxmin_diff'] = X_train['y_max'] - X_train['y_min']\n",
        "X_train['z_maxmin_diff'] = X_train['z_max'] - X_train['z_min']\n",
        "\n",
        "# median\n",
        "X_train['x_median'] = pd.Series(x_list).apply(lambda x: np.median(x))\n",
        "X_train['y_median'] = pd.Series(y_list).apply(lambda x: np.median(x))\n",
        "X_train['z_median'] = pd.Series(z_list).apply(lambda x: np.median(x))\n",
        "\n",
        "# median abs dev \n",
        "X_train['x_mad'] = pd.Series(x_list).apply(lambda x: np.median(np.absolute(x - np.median(x))))\n",
        "X_train['y_mad'] = pd.Series(y_list).apply(lambda x: np.median(np.absolute(x - np.median(x))))\n",
        "X_train['z_mad'] = pd.Series(z_list).apply(lambda x: np.median(np.absolute(x - np.median(x))))\n",
        "\n",
        "# interquartile range\n",
        "X_train['x_IQR'] = pd.Series(x_list).apply(lambda x: np.percentile(x, 75) - np.percentile(x, 25))\n",
        "X_train['y_IQR'] = pd.Series(y_list).apply(lambda x: np.percentile(x, 75) - np.percentile(x, 25))\n",
        "X_train['z_IQR'] = pd.Series(z_list).apply(lambda x: np.percentile(x, 75) - np.percentile(x, 25))\n",
        "\n",
        "# negtive count\n",
        "X_train['x_neg_count'] = pd.Series(x_list).apply(lambda x: np.sum(x < 0))\n",
        "X_train['y_neg_count'] = pd.Series(y_list).apply(lambda x: np.sum(x < 0))\n",
        "X_train['z_neg_count'] = pd.Series(z_list).apply(lambda x: np.sum(x < 0))\n",
        "\n",
        "# positive count\n",
        "X_train['x_pos_count'] = pd.Series(x_list).apply(lambda x: np.sum(x > 0))\n",
        "X_train['y_pos_count'] = pd.Series(y_list).apply(lambda x: np.sum(x > 0))\n",
        "X_train['z_pos_count'] = pd.Series(z_list).apply(lambda x: np.sum(x > 0))\n",
        "\n",
        "# values above mean\n",
        "X_train['x_above_mean'] = pd.Series(x_list).apply(lambda x: np.sum(x > x.mean()))\n",
        "X_train['y_above_mean'] = pd.Series(y_list).apply(lambda x: np.sum(x > x.mean()))\n",
        "X_train['z_above_mean'] = pd.Series(z_list).apply(lambda x: np.sum(x > x.mean()))\n",
        "\n",
        "# number of peaks\n",
        "X_train['x_peak_count'] = pd.Series(x_list).apply(lambda x: len(find_peaks(x)[0]))\n",
        "X_train['y_peak_count'] = pd.Series(y_list).apply(lambda x: len(find_peaks(x)[0]))\n",
        "X_train['z_peak_count'] = pd.Series(z_list).apply(lambda x: len(find_peaks(x)[0]))\n",
        "\n",
        "# skewness\n",
        "X_train['x_skewness'] = pd.Series(x_list).apply(lambda x: stats.skew(x))\n",
        "X_train['y_skewness'] = pd.Series(y_list).apply(lambda x: stats.skew(x))\n",
        "X_train['z_skewness'] = pd.Series(z_list).apply(lambda x: stats.skew(x))\n",
        "\n",
        "# kurtosis\n",
        "X_train['x_kurtosis'] = pd.Series(x_list).apply(lambda x: stats.kurtosis(x))\n",
        "X_train['y_kurtosis'] = pd.Series(y_list).apply(lambda x: stats.kurtosis(x))\n",
        "X_train['z_kurtosis'] = pd.Series(z_list).apply(lambda x: stats.kurtosis(x))\n",
        "\n",
        "# energy\n",
        "X_train['x_energy'] = pd.Series(x_list).apply(lambda x: np.sum(x**2)/100)\n",
        "X_train['y_energy'] = pd.Series(y_list).apply(lambda x: np.sum(x**2)/100)\n",
        "X_train['z_energy'] = pd.Series(z_list).apply(lambda x: np.sum(x**2/100))\n",
        "\n",
        "# avg resultant\n",
        "X_train['avg_result_accl'] = [i.mean() for i in ((pd.Series(x_list)**2 + pd.Series(y_list)**2 + pd.Series(z_list)**2)**0.5)]\n",
        "\n",
        "# signal magnitude area\n",
        "X_train['sma'] =    pd.Series(x_list).apply(lambda x: np.sum(abs(x)/100)) + pd.Series(y_list).apply(lambda x: np.sum(abs(x)/100)) \\\n",
        "                  + pd.Series(z_list).apply(lambda x: np.sum(abs(x)/100)) "
      ]
    },
    {
      "cell_type": "code",
      "execution_count": null,
      "metadata": {
        "id": "Qi_J0cQGJ-AO"
      },
      "outputs": [],
      "source": [
        "# converting the signals from time domain to frequency domain using FFT\n",
        "x_list_fft = pd.Series(x_list).apply(lambda x: np.abs(np.fft.fft(x))[1:51])\n",
        "y_list_fft = pd.Series(y_list).apply(lambda x: np.abs(np.fft.fft(x))[1:51])\n",
        "z_list_fft = pd.Series(z_list).apply(lambda x: np.abs(np.fft.fft(x))[1:51])\n",
        "\n",
        "# Statistical Features on raw x, y and z in frequency domain\n",
        "# FFT mean\n",
        "X_train['x_mean_fft'] = pd.Series(x_list_fft).apply(lambda x: x.mean())\n",
        "X_train['y_mean_fft'] = pd.Series(y_list_fft).apply(lambda x: x.mean())\n",
        "X_train['z_mean_fft'] = pd.Series(z_list_fft).apply(lambda x: x.mean())\n",
        "\n",
        "# FFT std dev\n",
        "X_train['x_std_fft'] = pd.Series(x_list_fft).apply(lambda x: x.std())\n",
        "X_train['y_std_fft'] = pd.Series(y_list_fft).apply(lambda x: x.std())\n",
        "X_train['z_std_fft'] = pd.Series(z_list_fft).apply(lambda x: x.std())\n",
        "\n",
        "# FFT avg absolute diff\n",
        "X_train['x_aad_fft'] = pd.Series(x_list_fft).apply(lambda x: np.mean(np.absolute(x - np.mean(x))))\n",
        "X_train['y_aad_fft'] = pd.Series(y_list_fft).apply(lambda x: np.mean(np.absolute(x - np.mean(x))))\n",
        "X_train['z_aad_fft'] = pd.Series(z_list_fft).apply(lambda x: np.mean(np.absolute(x - np.mean(x))))\n",
        "\n",
        "# FFT min\n",
        "X_train['x_min_fft'] = pd.Series(x_list_fft).apply(lambda x: x.min())\n",
        "X_train['y_min_fft'] = pd.Series(y_list_fft).apply(lambda x: x.min())\n",
        "X_train['z_min_fft'] = pd.Series(z_list_fft).apply(lambda x: x.min())\n",
        "\n",
        "# FFT max\n",
        "X_train['x_max_fft'] = pd.Series(x_list_fft).apply(lambda x: x.max())\n",
        "X_train['y_max_fft'] = pd.Series(y_list_fft).apply(lambda x: x.max())\n",
        "X_train['z_max_fft'] = pd.Series(z_list_fft).apply(lambda x: x.max())\n",
        "\n",
        "# FFT max-min diff\n",
        "X_train['x_maxmin_diff_fft'] = X_train['x_max_fft'] - X_train['x_min_fft']\n",
        "X_train['y_maxmin_diff_fft'] = X_train['y_max_fft'] - X_train['y_min_fft']\n",
        "X_train['z_maxmin_diff_fft'] = X_train['z_max_fft'] - X_train['z_min_fft']\n",
        "\n",
        "# FFT median\n",
        "X_train['x_median_fft'] = pd.Series(x_list_fft).apply(lambda x: np.median(x))\n",
        "X_train['y_median_fft'] = pd.Series(y_list_fft).apply(lambda x: np.median(x))\n",
        "X_train['z_median_fft'] = pd.Series(z_list_fft).apply(lambda x: np.median(x))\n",
        "\n",
        "# FFT median abs dev \n",
        "X_train['x_mad_fft'] = pd.Series(x_list_fft).apply(lambda x: np.median(np.absolute(x - np.median(x))))\n",
        "X_train['y_mad_fft'] = pd.Series(y_list_fft).apply(lambda x: np.median(np.absolute(x - np.median(x))))\n",
        "X_train['z_mad_fft'] = pd.Series(z_list_fft).apply(lambda x: np.median(np.absolute(x - np.median(x))))\n",
        "\n",
        "# FFT Interquartile range\n",
        "X_train['x_IQR_fft'] = pd.Series(x_list_fft).apply(lambda x: np.percentile(x, 75) - np.percentile(x, 25))\n",
        "X_train['y_IQR_fft'] = pd.Series(y_list_fft).apply(lambda x: np.percentile(x, 75) - np.percentile(x, 25))\n",
        "X_train['z_IQR_fft'] = pd.Series(z_list_fft).apply(lambda x: np.percentile(x, 75) - np.percentile(x, 25))\n",
        "\n",
        "# FFT values above mean\n",
        "X_train['x_above_mean_fft'] = pd.Series(x_list_fft).apply(lambda x: np.sum(x > x.mean()))\n",
        "X_train['y_above_mean_fft'] = pd.Series(y_list_fft).apply(lambda x: np.sum(x > x.mean()))\n",
        "X_train['z_above_mean_fft'] = pd.Series(z_list_fft).apply(lambda x: np.sum(x > x.mean()))\n",
        "\n",
        "# FFT number of peaks\n",
        "X_train['x_peak_count_fft'] = pd.Series(x_list_fft).apply(lambda x: len(find_peaks(x)[0]))\n",
        "X_train['y_peak_count_fft'] = pd.Series(y_list_fft).apply(lambda x: len(find_peaks(x)[0]))\n",
        "X_train['z_peak_count_fft'] = pd.Series(z_list_fft).apply(lambda x: len(find_peaks(x)[0]))\n",
        "\n",
        "# FFT skewness\n",
        "X_train['x_skewness_fft'] = pd.Series(x_list_fft).apply(lambda x: stats.skew(x))\n",
        "X_train['y_skewness_fft'] = pd.Series(y_list_fft).apply(lambda x: stats.skew(x))\n",
        "X_train['z_skewness_fft'] = pd.Series(z_list_fft).apply(lambda x: stats.skew(x))\n",
        "\n",
        "# FFT kurtosis\n",
        "X_train['x_kurtosis_fft'] = pd.Series(x_list_fft).apply(lambda x: stats.kurtosis(x))\n",
        "X_train['y_kurtosis_fft'] = pd.Series(y_list_fft).apply(lambda x: stats.kurtosis(x))\n",
        "X_train['z_kurtosis_fft'] = pd.Series(z_list_fft).apply(lambda x: stats.kurtosis(x))\n",
        "\n",
        "# FFT energy\n",
        "X_train['x_energy_fft'] = pd.Series(x_list_fft).apply(lambda x: np.sum(x**2)/50)\n",
        "X_train['y_energy_fft'] = pd.Series(y_list_fft).apply(lambda x: np.sum(x**2)/50)\n",
        "X_train['z_energy_fft'] = pd.Series(z_list_fft).apply(lambda x: np.sum(x**2/50))\n",
        "\n",
        "# FFT avg resultant\n",
        "X_train['avg_result_accl_fft'] = [i.mean() for i in ((pd.Series(x_list_fft)**2 + pd.Series(y_list_fft)**2 + pd.Series(z_list_fft)**2)**0.5)]\n",
        "\n",
        "# FFT Signal magnitude area\n",
        "X_train['sma_fft'] = pd.Series(x_list_fft).apply(lambda x: np.sum(abs(x)/50)) + pd.Series(y_list_fft).apply(lambda x: np.sum(abs(x)/50)) \\\n",
        "                     + pd.Series(z_list_fft).apply(lambda x: np.sum(abs(x)/50))\n",
        "\n",
        "# Max Indices and Min indices \n",
        "\n",
        "# index of max value in time domain\n",
        "X_train['x_argmax'] = pd.Series(x_list).apply(lambda x: np.argmax(x))\n",
        "X_train['y_argmax'] = pd.Series(y_list).apply(lambda x: np.argmax(x))\n",
        "X_train['z_argmax'] = pd.Series(z_list).apply(lambda x: np.argmax(x))\n",
        "\n",
        "# index of min value in time domain\n",
        "X_train['x_argmin'] = pd.Series(x_list).apply(lambda x: np.argmin(x))\n",
        "X_train['y_argmin'] = pd.Series(y_list).apply(lambda x: np.argmin(x))\n",
        "X_train['z_argmin'] = pd.Series(z_list).apply(lambda x: np.argmin(x))\n",
        "\n",
        "# absolute difference between above indices\n",
        "X_train['x_arg_diff'] = abs(X_train['x_argmax'] - X_train['x_argmin'])\n",
        "X_train['y_arg_diff'] = abs(X_train['y_argmax'] - X_train['y_argmin'])\n",
        "X_train['z_arg_diff'] = abs(X_train['z_argmax'] - X_train['z_argmin'])\n",
        "\n",
        "# index of max value in frequency domain\n",
        "X_train['x_argmax_fft'] = pd.Series(x_list_fft).apply(lambda x: np.argmax(np.abs(np.fft.fft(x))[1:51]))\n",
        "X_train['y_argmax_fft'] = pd.Series(y_list_fft).apply(lambda x: np.argmax(np.abs(np.fft.fft(x))[1:51]))\n",
        "X_train['z_argmax_fft'] = pd.Series(z_list_fft).apply(lambda x: np.argmax(np.abs(np.fft.fft(x))[1:51]))\n",
        "\n",
        "# index of min value in frequency domain\n",
        "X_train['x_argmin_fft'] = pd.Series(x_list_fft).apply(lambda x: np.argmin(np.abs(np.fft.fft(x))[1:51]))\n",
        "X_train['y_argmin_fft'] = pd.Series(y_list_fft).apply(lambda x: np.argmin(np.abs(np.fft.fft(x))[1:51]))\n",
        "X_train['z_argmin_fft'] = pd.Series(z_list_fft).apply(lambda x: np.argmin(np.abs(np.fft.fft(x))[1:51]))\n",
        "\n",
        "# absolute difference between above indices\n",
        "X_train['x_arg_diff_fft'] = abs(X_train['x_argmax_fft'] - X_train['x_argmin_fft'])\n",
        "X_train['y_arg_diff_fft'] = abs(X_train['y_argmax_fft'] - X_train['y_argmin_fft'])\n",
        "X_train['z_arg_diff_fft'] = abs(X_train['z_argmax_fft'] - X_train['z_argmin_fft'])"
      ]
    },
    {
      "cell_type": "code",
      "execution_count": null,
      "metadata": {
        "id": "bJWw8Kegn2mo",
        "colab": {
          "base_uri": "https://localhost:8080/"
        },
        "outputId": "ec5e7966-d723-4385-9740-d61b6b313670"
      },
      "outputs": [
        {
          "output_type": "stream",
          "name": "stdout",
          "text": [
            "0.9996519603728815\n",
            "0.9950376864573088\n",
            "0.9999904122954807\n",
            "1.995945027525531\n",
            "2.176323664939867\n",
            "(1.4089322645687676, 1.2284188806405776)\n",
            "1525\n"
          ]
        }
      ],
      "source": [
        "import numpy as np\n",
        "import antropy as ant\n",
        "np.random.seed(1234567)\n",
        "\n",
        "x = np.random.normal(size=3000)\n",
        "# Permutation entropy\n",
        "X_train['x_perm_entropy'] = pd.Series(x_list).apply(lambda x: ant.perm_entropy(x, normalize=True))\n",
        "print(ant.perm_entropy(x, normalize=True))\n",
        "# Spectral entropy\n",
        "print(ant.spectral_entropy(x, sf=100, method='welch', normalize=True))\n",
        "# Singular value decomposition entropy\n",
        "print(ant.svd_entropy(x, normalize=True))\n",
        "# Approximate entropy\n",
        "print(ant.app_entropy(x))\n",
        "# Sample entropy\n",
        "print(ant.sample_entropy(x))\n",
        "# Hjorth mobility and complexity \n",
        "print(ant.hjorth_params(x))\n",
        "# Number of zero-crossings\n",
        "print(ant.num_zerocross(x))"
      ]
    },
    {
      "cell_type": "code",
      "execution_count": null,
      "metadata": {
        "colab": {
          "base_uri": "https://localhost:8080/"
        },
        "id": "ITnTP_NRoGnY",
        "outputId": "88e0661e-1026-4cd8-e7ba-8e1e188ee90d"
      },
      "outputs": [
        {
          "output_type": "execute_result",
          "data": {
            "text/plain": [
              "array([-0.51462472, -0.44955445,  1.73462147, ..., -0.38798111,\n",
              "        0.53466468,  0.62847028])"
            ]
          },
          "metadata": {},
          "execution_count": 10
        }
      ],
      "source": [
        ""
      ]
    },
    {
      "cell_type": "code",
      "execution_count": null,
      "metadata": {
        "id": "_3PaLmp5btnQ"
      },
      "outputs": [],
      "source": [
        "y_train = np.array(train_labels)"
      ]
    },
    {
      "cell_type": "code",
      "execution_count": null,
      "metadata": {
        "id": "mHlty0IaKGdE"
      },
      "outputs": [],
      "source": [
        "# import pywt\n",
        "# widths = np.arange(1, 51)\n",
        "# # X_train[['cwtmatr','freqs']] = pd.Series(x_list).apply(lambda x: pywt.cwt(x, widths, 'mexh'))"
      ]
    },
    {
      "cell_type": "code",
      "execution_count": null,
      "metadata": {
        "id": "lm485X46bxaJ"
      },
      "outputs": [],
      "source": [
        "# TEST DATA\n",
        "from scipy import stats\n",
        "\n",
        "x_list = []\n",
        "y_list = []\n",
        "z_list = []\n",
        "test_train_labels = []\n",
        "\n",
        "window_size = 50\n",
        "step_size = 50\n",
        "\n",
        "# creating overlaping windows of size window-size 50\n",
        "for i in range(0, df_test.shape[0] - window_size, step_size):\n",
        "    xs = df_test['x'].values[i: i + 50]\n",
        "    ys = df_test['y'].values[i: i + 50]\n",
        "    zs = df_test['z'].values[i: i + 50]\n",
        "    label = stats.mode(df_test['label'][i: i + 50])[0][0]\n",
        "\n",
        "    x_list.append(xs)\n",
        "    y_list.append(ys)\n",
        "    z_list.append(zs)\n",
        "    test_train_labels.append(label)"
      ]
    },
    {
      "cell_type": "code",
      "execution_count": null,
      "metadata": {
        "id": "0ag7Naaib8e-"
      },
      "outputs": [],
      "source": [
        "# Statistical Features on raw x, y and z in time domain\n",
        "X_test = pd.DataFrame()\n",
        "\n",
        "# mean\n",
        "X_test['x_mean'] = pd.Series(x_list).apply(lambda x: x.mean())\n",
        "X_test['y_mean'] = pd.Series(y_list).apply(lambda x: x.mean())\n",
        "X_test['z_mean'] = pd.Series(z_list).apply(lambda x: x.mean())\n",
        "\n",
        "# std dev\n",
        "X_test['x_std'] = pd.Series(x_list).apply(lambda x: x.std())\n",
        "X_test['y_std'] = pd.Series(y_list).apply(lambda x: x.std())\n",
        "X_test['z_std'] = pd.Series(z_list).apply(lambda x: x.std())\n",
        "\n",
        "# avg absolute diff\n",
        "X_test['x_aad'] = pd.Series(x_list).apply(lambda x: np.mean(np.absolute(x - np.mean(x))))\n",
        "X_test['y_aad'] = pd.Series(y_list).apply(lambda x: np.mean(np.absolute(x - np.mean(x))))\n",
        "X_test['z_aad'] = pd.Series(z_list).apply(lambda x: np.mean(np.absolute(x - np.mean(x))))\n",
        "\n",
        "# min\n",
        "X_test['x_min'] = pd.Series(x_list).apply(lambda x: x.min())\n",
        "X_test['y_min'] = pd.Series(y_list).apply(lambda x: x.min())\n",
        "X_test['z_min'] = pd.Series(z_list).apply(lambda x: x.min())\n",
        "\n",
        "# max\n",
        "X_test['x_max'] = pd.Series(x_list).apply(lambda x: x.max())\n",
        "X_test['y_max'] = pd.Series(y_list).apply(lambda x: x.max())\n",
        "X_test['z_max'] = pd.Series(z_list).apply(lambda x: x.max())\n",
        "\n",
        "# max-min diff\n",
        "X_test['x_maxmin_diff'] = X_test['x_max'] - X_test['x_min']\n",
        "X_test['y_maxmin_diff'] = X_test['y_max'] - X_test['y_min']\n",
        "X_test['z_maxmin_diff'] = X_test['z_max'] - X_test['z_min']\n",
        "\n",
        "# median\n",
        "X_test['x_median'] = pd.Series(x_list).apply(lambda x: np.median(x))\n",
        "X_test['y_median'] = pd.Series(y_list).apply(lambda x: np.median(x))\n",
        "X_test['z_median'] = pd.Series(z_list).apply(lambda x: np.median(x))\n",
        "\n",
        "# median abs dev \n",
        "X_test['x_mad'] = pd.Series(x_list).apply(lambda x: np.median(np.absolute(x - np.median(x))))\n",
        "X_test['y_mad'] = pd.Series(y_list).apply(lambda x: np.median(np.absolute(x - np.median(x))))\n",
        "X_test['z_mad'] = pd.Series(z_list).apply(lambda x: np.median(np.absolute(x - np.median(x))))\n",
        "\n",
        "# interquartile range\n",
        "X_test['x_IQR'] = pd.Series(x_list).apply(lambda x: np.percentile(x, 75) - np.percentile(x, 25))\n",
        "X_test['y_IQR'] = pd.Series(y_list).apply(lambda x: np.percentile(x, 75) - np.percentile(x, 25))\n",
        "X_test['z_IQR'] = pd.Series(z_list).apply(lambda x: np.percentile(x, 75) - np.percentile(x, 25))\n",
        "\n",
        "# negtive count\n",
        "X_test['x_neg_count'] = pd.Series(x_list).apply(lambda x: np.sum(x < 0))\n",
        "X_test['y_neg_count'] = pd.Series(y_list).apply(lambda x: np.sum(x < 0))\n",
        "X_test['z_neg_count'] = pd.Series(z_list).apply(lambda x: np.sum(x < 0))\n",
        "\n",
        "# positive count\n",
        "X_test['x_pos_count'] = pd.Series(x_list).apply(lambda x: np.sum(x > 0))\n",
        "X_test['y_pos_count'] = pd.Series(y_list).apply(lambda x: np.sum(x > 0))\n",
        "X_test['z_pos_count'] = pd.Series(z_list).apply(lambda x: np.sum(x > 0))\n",
        "\n",
        "# values above mean\n",
        "X_test['x_above_mean'] = pd.Series(x_list).apply(lambda x: np.sum(x > x.mean()))\n",
        "X_test['y_above_mean'] = pd.Series(y_list).apply(lambda x: np.sum(x > x.mean()))\n",
        "X_test['z_above_mean'] = pd.Series(z_list).apply(lambda x: np.sum(x > x.mean()))\n",
        "\n",
        "# number of peaks\n",
        "X_test['x_peak_count'] = pd.Series(x_list).apply(lambda x: len(find_peaks(x)[0]))\n",
        "X_test['y_peak_count'] = pd.Series(y_list).apply(lambda x: len(find_peaks(x)[0]))\n",
        "X_test['z_peak_count'] = pd.Series(z_list).apply(lambda x: len(find_peaks(x)[0]))\n",
        "\n",
        "# skewness\n",
        "X_test['x_skewness'] = pd.Series(x_list).apply(lambda x: stats.skew(x))\n",
        "X_test['y_skewness'] = pd.Series(y_list).apply(lambda x: stats.skew(x))\n",
        "X_test['z_skewness'] = pd.Series(z_list).apply(lambda x: stats.skew(x))\n",
        "\n",
        "# kurtosis\n",
        "X_test['x_kurtosis'] = pd.Series(x_list).apply(lambda x: stats.kurtosis(x))\n",
        "X_test['y_kurtosis'] = pd.Series(y_list).apply(lambda x: stats.kurtosis(x))\n",
        "X_test['z_kurtosis'] = pd.Series(z_list).apply(lambda x: stats.kurtosis(x))\n",
        "\n",
        "# energy\n",
        "X_test['x_energy'] = pd.Series(x_list).apply(lambda x: np.sum(x**2)/100)\n",
        "X_test['y_energy'] = pd.Series(y_list).apply(lambda x: np.sum(x**2)/100)\n",
        "X_test['z_energy'] = pd.Series(z_list).apply(lambda x: np.sum(x**2/100))\n",
        "\n",
        "# avg resultant\n",
        "X_test['avg_result_accl'] = [i.mean() for i in ((pd.Series(x_list)**2 + pd.Series(y_list)**2 + pd.Series(z_list)**2)**0.5)]\n",
        "\n",
        "# signal magnitude area\n",
        "X_test['sma'] =    pd.Series(x_list).apply(lambda x: np.sum(abs(x)/100)) + pd.Series(y_list).apply(lambda x: np.sum(abs(x)/100)) \\\n",
        "                  + pd.Series(z_list).apply(lambda x: np.sum(abs(x)/100))\n",
        "\n",
        "# converting the signals from time domain to frequency domain using FFT\n",
        "x_list_fft = pd.Series(x_list).apply(lambda x: np.abs(np.fft.fft(x))[1:51])\n",
        "y_list_fft = pd.Series(y_list).apply(lambda x: np.abs(np.fft.fft(x))[1:51])\n",
        "z_list_fft = pd.Series(z_list).apply(lambda x: np.abs(np.fft.fft(x))[1:51])\n",
        "\n",
        "# Statistical Features on raw x, y and z in frequency domain\n",
        "# FFT mean\n",
        "X_test['x_mean_fft'] = pd.Series(x_list_fft).apply(lambda x: x.mean())\n",
        "X_test['y_mean_fft'] = pd.Series(y_list_fft).apply(lambda x: x.mean())\n",
        "X_test['z_mean_fft'] = pd.Series(z_list_fft).apply(lambda x: x.mean())\n",
        "\n",
        "# FFT std dev\n",
        "X_test['x_std_fft'] = pd.Series(x_list_fft).apply(lambda x: x.std())\n",
        "X_test['y_std_fft'] = pd.Series(y_list_fft).apply(lambda x: x.std())\n",
        "X_test['z_std_fft'] = pd.Series(z_list_fft).apply(lambda x: x.std())\n",
        "\n",
        "# FFT avg absolute diff\n",
        "X_test['x_aad_fft'] = pd.Series(x_list_fft).apply(lambda x: np.mean(np.absolute(x - np.mean(x))))\n",
        "X_test['y_aad_fft'] = pd.Series(y_list_fft).apply(lambda x: np.mean(np.absolute(x - np.mean(x))))\n",
        "X_test['z_aad_fft'] = pd.Series(z_list_fft).apply(lambda x: np.mean(np.absolute(x - np.mean(x))))\n",
        "\n",
        "# FFT min\n",
        "X_test['x_min_fft'] = pd.Series(x_list_fft).apply(lambda x: x.min())\n",
        "X_test['y_min_fft'] = pd.Series(y_list_fft).apply(lambda x: x.min())\n",
        "X_test['z_min_fft'] = pd.Series(z_list_fft).apply(lambda x: x.min())\n",
        "\n",
        "# FFT max\n",
        "X_test['x_max_fft'] = pd.Series(x_list_fft).apply(lambda x: x.max())\n",
        "X_test['y_max_fft'] = pd.Series(y_list_fft).apply(lambda x: x.max())\n",
        "X_test['z_max_fft'] = pd.Series(z_list_fft).apply(lambda x: x.max())\n",
        "\n",
        "# FFT max-min diff\n",
        "X_test['x_maxmin_diff_fft'] = X_test['x_max_fft'] - X_test['x_min_fft']\n",
        "X_test['y_maxmin_diff_fft'] = X_test['y_max_fft'] - X_test['y_min_fft']\n",
        "X_test['z_maxmin_diff_fft'] = X_test['z_max_fft'] - X_test['z_min_fft']\n",
        "\n",
        "# FFT median\n",
        "X_test['x_median_fft'] = pd.Series(x_list_fft).apply(lambda x: np.median(x))\n",
        "X_test['y_median_fft'] = pd.Series(y_list_fft).apply(lambda x: np.median(x))\n",
        "X_test['z_median_fft'] = pd.Series(z_list_fft).apply(lambda x: np.median(x))\n",
        "\n",
        "# FFT median abs dev \n",
        "X_test['x_mad_fft'] = pd.Series(x_list_fft).apply(lambda x: np.median(np.absolute(x - np.median(x))))\n",
        "X_test['y_mad_fft'] = pd.Series(y_list_fft).apply(lambda x: np.median(np.absolute(x - np.median(x))))\n",
        "X_test['z_mad_fft'] = pd.Series(z_list_fft).apply(lambda x: np.median(np.absolute(x - np.median(x))))\n",
        "\n",
        "# FFT Interquartile range\n",
        "X_test['x_IQR_fft'] = pd.Series(x_list_fft).apply(lambda x: np.percentile(x, 75) - np.percentile(x, 25))\n",
        "X_test['y_IQR_fft'] = pd.Series(y_list_fft).apply(lambda x: np.percentile(x, 75) - np.percentile(x, 25))\n",
        "X_test['z_IQR_fft'] = pd.Series(z_list_fft).apply(lambda x: np.percentile(x, 75) - np.percentile(x, 25))\n",
        "\n",
        "# FFT values above mean\n",
        "X_test['x_above_mean_fft'] = pd.Series(x_list_fft).apply(lambda x: np.sum(x > x.mean()))\n",
        "X_test['y_above_mean_fft'] = pd.Series(y_list_fft).apply(lambda x: np.sum(x > x.mean()))\n",
        "X_test['z_above_mean_fft'] = pd.Series(z_list_fft).apply(lambda x: np.sum(x > x.mean()))\n",
        "\n",
        "# FFT number of peaks\n",
        "X_test['x_peak_count_fft'] = pd.Series(x_list_fft).apply(lambda x: len(find_peaks(x)[0]))\n",
        "X_test['y_peak_count_fft'] = pd.Series(y_list_fft).apply(lambda x: len(find_peaks(x)[0]))\n",
        "X_test['z_peak_count_fft'] = pd.Series(z_list_fft).apply(lambda x: len(find_peaks(x)[0]))\n",
        "\n",
        "# FFT skewness\n",
        "X_test['x_skewness_fft'] = pd.Series(x_list_fft).apply(lambda x: stats.skew(x))\n",
        "X_test['y_skewness_fft'] = pd.Series(y_list_fft).apply(lambda x: stats.skew(x))\n",
        "X_test['z_skewness_fft'] = pd.Series(z_list_fft).apply(lambda x: stats.skew(x))\n",
        "\n",
        "# FFT kurtosis\n",
        "X_test['x_kurtosis_fft'] = pd.Series(x_list_fft).apply(lambda x: stats.kurtosis(x))\n",
        "X_test['y_kurtosis_fft'] = pd.Series(y_list_fft).apply(lambda x: stats.kurtosis(x))\n",
        "X_test['z_kurtosis_fft'] = pd.Series(z_list_fft).apply(lambda x: stats.kurtosis(x))\n",
        "\n",
        "# FFT energy\n",
        "X_test['x_energy_fft'] = pd.Series(x_list_fft).apply(lambda x: np.sum(x**2)/50)\n",
        "X_test['y_energy_fft'] = pd.Series(y_list_fft).apply(lambda x: np.sum(x**2)/50)\n",
        "X_test['z_energy_fft'] = pd.Series(z_list_fft).apply(lambda x: np.sum(x**2/50))\n",
        "\n",
        "# FFT avg resultant\n",
        "X_test['avg_result_accl_fft'] = [i.mean() for i in ((pd.Series(x_list_fft)**2 + pd.Series(y_list_fft)**2 + pd.Series(z_list_fft)**2)**0.5)]\n",
        "\n",
        "# FFT Signal magnitude area\n",
        "X_test['sma_fft'] = pd.Series(x_list_fft).apply(lambda x: np.sum(abs(x)/50)) + pd.Series(y_list_fft).apply(lambda x: np.sum(abs(x)/50)) \\\n",
        "                     + pd.Series(z_list_fft).apply(lambda x: np.sum(abs(x)/50))\n",
        "                \n",
        "# Max Indices and Min indices \n",
        "\n",
        "# index of max value in time domain\n",
        "X_test['x_argmax'] = pd.Series(x_list).apply(lambda x: np.argmax(x))\n",
        "X_test['y_argmax'] = pd.Series(y_list).apply(lambda x: np.argmax(x))\n",
        "X_test['z_argmax'] = pd.Series(z_list).apply(lambda x: np.argmax(x))\n",
        "\n",
        "# index of min value in time domain\n",
        "X_test['x_argmin'] = pd.Series(x_list).apply(lambda x: np.argmin(x))\n",
        "X_test['y_argmin'] = pd.Series(y_list).apply(lambda x: np.argmin(x))\n",
        "X_test['z_argmin'] = pd.Series(z_list).apply(lambda x: np.argmin(x))\n",
        "\n",
        "# absolute difference between above indices\n",
        "X_test['x_arg_diff'] = abs(X_test['x_argmax'] - X_test['x_argmin'])\n",
        "X_test['y_arg_diff'] = abs(X_test['y_argmax'] - X_test['y_argmin'])\n",
        "X_test['z_arg_diff'] = abs(X_test['z_argmax'] - X_test['z_argmin'])\n",
        "\n",
        "# index of max value in frequency domain\n",
        "X_test['x_argmax_fft'] = pd.Series(x_list_fft).apply(lambda x: np.argmax(np.abs(np.fft.fft(x))[1:51]))\n",
        "X_test['y_argmax_fft'] = pd.Series(y_list_fft).apply(lambda x: np.argmax(np.abs(np.fft.fft(x))[1:51]))\n",
        "X_test['z_argmax_fft'] = pd.Series(z_list_fft).apply(lambda x: np.argmax(np.abs(np.fft.fft(x))[1:51]))\n",
        "\n",
        "# index of min value in frequency domain\n",
        "X_test['x_argmin_fft'] = pd.Series(x_list_fft).apply(lambda x: np.argmin(np.abs(np.fft.fft(x))[1:51]))\n",
        "X_test['y_argmin_fft'] = pd.Series(y_list_fft).apply(lambda x: np.argmin(np.abs(np.fft.fft(x))[1:51]))\n",
        "X_test['z_argmin_fft'] = pd.Series(z_list_fft).apply(lambda x: np.argmin(np.abs(np.fft.fft(x))[1:51]))\n",
        "\n",
        "# absolute difference between above indices\n",
        "X_test['x_arg_diff_fft'] = abs(X_test['x_argmax_fft'] - X_test['x_argmin_fft'])\n",
        "X_test['y_arg_diff_fft'] = abs(X_test['y_argmax_fft'] - X_test['y_argmin_fft'])\n",
        "X_test['z_arg_diff_fft'] = abs(X_test['z_argmax_fft'] - X_test['z_argmin_fft'])\n",
        "\n",
        "y_test = np.array(test_train_labels)"
      ]
    },
    {
      "cell_type": "code",
      "source": [
        "X_test['x_perm_entropy'] = pd.Series(x_list).apply(lambda x: ant.perm_entropy(x, normalize=True))"
      ],
      "metadata": {
        "id": "nLqoqSqLk4eF"
      },
      "execution_count": null,
      "outputs": []
    },
    {
      "cell_type": "markdown",
      "source": [
        "## ***RandomForest***"
      ],
      "metadata": {
        "id": "0qzfzHyemlYN"
      }
    },
    {
      "cell_type": "code",
      "execution_count": null,
      "metadata": {
        "colab": {
          "base_uri": "https://localhost:8080/"
        },
        "id": "kUbMvgAHSSB9",
        "outputId": "c9c7d8ff-8a25-4333-ffcc-2758723ffc6e"
      },
      "outputs": [
        {
          "output_type": "stream",
          "name": "stdout",
          "text": [
            "Accuracy on training set is : 1.0\n"
          ]
        }
      ],
      "source": [
        "from sklearn.ensemble import RandomForestClassifier\n",
        "from sklearn.metrics import classification_report\n",
        "\n",
        "clf = RandomForestClassifier(n_estimators=1000)\n",
        "clf.fit(X_train, y_train)\n",
        "print(\"Accuracy on training set is : {}\".format(clf.score(X_train, y_train)))\n",
        "\n",
        "Y_test_pred = clf.predict(X_test)  "
      ]
    },
    {
      "cell_type": "code",
      "source": [
        "print(\"Accuracy on test set is : {}\".format(clf.score(X_test, y_test)))"
      ],
      "metadata": {
        "colab": {
          "base_uri": "https://localhost:8080/"
        },
        "id": "EyYjFWZumQm9",
        "outputId": "956b0302-18b7-4e00-b831-3bd39412972a"
      },
      "execution_count": null,
      "outputs": [
        {
          "output_type": "stream",
          "name": "stdout",
          "text": [
            "Accuracy on test set is : 0.5291817225449389\n"
          ]
        }
      ]
    },
    {
      "cell_type": "code",
      "execution_count": null,
      "metadata": {
        "colab": {
          "base_uri": "https://localhost:8080/"
        },
        "id": "xtqMnO4KjD4N",
        "outputId": "2e1da865-90cf-40a5-c243-28e30e88407c"
      },
      "outputs": [
        {
          "output_type": "stream",
          "name": "stdout",
          "text": [
            "              precision    recall  f1-score   support\n",
            "\n",
            "           0       0.53      0.60      0.56     22039\n",
            "           1       0.53      0.46      0.49     21687\n",
            "\n",
            "    accuracy                           0.53     43726\n",
            "   macro avg       0.53      0.53      0.53     43726\n",
            "weighted avg       0.53      0.53      0.53     43726\n",
            "\n"
          ]
        }
      ],
      "source": [
        "print(classification_report(y_test, Y_test_pred)) "
      ]
    },
    {
      "cell_type": "code",
      "execution_count": null,
      "metadata": {
        "colab": {
          "base_uri": "https://localhost:8080/"
        },
        "id": "zZb6WrtgjVKm",
        "outputId": "506e331c-80ef-41bb-e817-e786df3f039a"
      },
      "outputs": [
        {
          "output_type": "execute_result",
          "data": {
            "text/plain": [
              "array([[13219,  8820],\n",
              "       [11767,  9920]])"
            ]
          },
          "metadata": {},
          "execution_count": 19
        }
      ],
      "source": [
        "from sklearn.metrics import confusion_matrix\n",
        "confusion_matrix(y_test, Y_test_pred)"
      ]
    },
    {
      "cell_type": "markdown",
      "source": [
        "## ***SVM***"
      ],
      "metadata": {
        "id": "E39VFabamprc"
      }
    },
    {
      "cell_type": "code",
      "execution_count": null,
      "metadata": {
        "id": "zJswpJB9jwAC",
        "colab": {
          "base_uri": "https://localhost:8080/"
        },
        "outputId": "eeb6232d-f4b4-4c51-95cb-24bf45ac32ca"
      },
      "outputs": [
        {
          "output_type": "execute_result",
          "data": {
            "text/plain": [
              "SVC(kernel='linear')"
            ]
          },
          "metadata": {},
          "execution_count": 21
        }
      ],
      "source": [
        "from sklearn import svm\n",
        "clf = svm.SVC(kernel='linear') \n",
        "clf.fit(X_train, y_train)"
      ]
    },
    {
      "cell_type": "code",
      "source": [
        "print(\"Accuracy on training set is : {}\".format(clf.score(X_train, y_train)))\n",
        "Y_test_pred = clf.predict(X_test)  "
      ],
      "metadata": {
        "colab": {
          "base_uri": "https://localhost:8080/"
        },
        "id": "Lmrjk2HJm9Aj",
        "outputId": "7fa121ff-51db-49c8-e173-a27b6c05f942"
      },
      "execution_count": null,
      "outputs": [
        {
          "output_type": "stream",
          "name": "stdout",
          "text": [
            "Accuracy on training set is : 0.5428500249128052\n"
          ]
        }
      ]
    },
    {
      "cell_type": "code",
      "source": [
        "print(\"Accuracy on test set is : {}\".format(clf.score(X_test, y_test)))"
      ],
      "metadata": {
        "colab": {
          "base_uri": "https://localhost:8080/"
        },
        "id": "IgS2uS3TnBgI",
        "outputId": "349e6f32-7052-4d12-c8c6-0afb911d6015"
      },
      "execution_count": null,
      "outputs": [
        {
          "output_type": "stream",
          "name": "stdout",
          "text": [
            "Accuracy on test set is : 0.5078443031605909\n"
          ]
        }
      ]
    },
    {
      "cell_type": "code",
      "source": [
        "print(classification_report(y_test, Y_test_pred)) "
      ],
      "metadata": {
        "colab": {
          "base_uri": "https://localhost:8080/"
        },
        "id": "MAkKXJUVnDgM",
        "outputId": "f6182b34-87fb-4c32-a5e9-e693647fd937"
      },
      "execution_count": null,
      "outputs": [
        {
          "output_type": "stream",
          "name": "stdout",
          "text": [
            "              precision    recall  f1-score   support\n",
            "\n",
            "           0       0.51      0.59      0.55     22039\n",
            "           1       0.50      0.43      0.46     21687\n",
            "\n",
            "    accuracy                           0.51     43726\n",
            "   macro avg       0.51      0.51      0.50     43726\n",
            "weighted avg       0.51      0.51      0.50     43726\n",
            "\n"
          ]
        }
      ]
    },
    {
      "cell_type": "code",
      "source": [
        "from sklearn.metrics import confusion_matrix\n",
        "confusion_matrix(y_test, Y_test_pred)"
      ],
      "metadata": {
        "colab": {
          "base_uri": "https://localhost:8080/"
        },
        "id": "eWwIAXZBzc2z",
        "outputId": "e9c53690-dd3e-4919-89d2-8442c073afb0"
      },
      "execution_count": null,
      "outputs": [
        {
          "output_type": "execute_result",
          "data": {
            "text/plain": [
              "array([[12949,  9090],\n",
              "       [12430,  9257]])"
            ]
          },
          "metadata": {},
          "execution_count": 25
        }
      ]
    }
  ],
  "metadata": {
    "accelerator": "GPU",
    "colab": {
      "name": "HAR_MachineLearning_CalculatedFeatures.ipynb",
      "provenance": []
    },
    "kernelspec": {
      "display_name": "Python 3",
      "name": "python3"
    },
    "language_info": {
      "name": "python"
    }
  },
  "nbformat": 4,
  "nbformat_minor": 0
}