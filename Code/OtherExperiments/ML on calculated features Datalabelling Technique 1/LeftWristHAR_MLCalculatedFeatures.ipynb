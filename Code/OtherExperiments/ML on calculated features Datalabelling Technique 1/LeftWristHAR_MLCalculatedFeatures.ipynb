{
  "nbformat": 4,
  "nbformat_minor": 0,
  "metadata": {
    "colab": {
      "name": "LeftWristHAR_MLCalculatedFeatures",
      "provenance": []
    },
    "kernelspec": {
      "name": "python3",
      "display_name": "Python 3"
    },
    "language_info": {
      "name": "python"
    },
    "accelerator": "GPU"
  },
  "cells": [
    {
      "cell_type": "code",
      "execution_count": null,
      "metadata": {
        "colab": {
          "base_uri": "https://localhost:8080/"
        },
        "id": "LDxmFPguI1bD",
        "outputId": "18094c6d-edd4-4c7c-f490-98527c2b1fdb"
      },
      "outputs": [
        {
          "output_type": "stream",
          "name": "stdout",
          "text": [
            "Mounted at /content/drive\n"
          ]
        }
      ],
      "source": [
        "from google.colab import drive\n",
        "drive.mount('/content/drive') "
      ]
    },
    {
      "cell_type": "markdown",
      "source": [
        "## **Loading Dataset**"
      ],
      "metadata": {
        "id": "lU6JiHDW9IMt"
      }
    },
    {
      "cell_type": "code",
      "source": [
        "!pip install antropy\n",
        "import pandas as pd\n",
        "import numpy as np\n",
        "import matplotlib.pyplot as plt\n",
        "import pandas as pd\n",
        "import numpy as np\n",
        "df = pd.read_csv('/content/drive/MyDrive/Colab Notebooks/dataset/LeftWristDatasetWithlabels.csv')#,index_col='time_s',parse_dates=['time_s'])\n",
        "df = df.drop(['Unnamed: 0'], 1)\n",
        "\n",
        "#Converting to category type \n",
        "\n",
        "df['subj_id'] = df['subj_id'].astype('category')\n",
        "df['subj_id'] = df['subj_id'].cat.codes\n",
        "\n",
        "df['label'] = df['label'].astype('category')\n",
        "df['label'] = df['label'].cat.codes\n",
        "\n",
        "df['loc_id'] = df['loc_id'].astype('category')\n",
        "df['loc_id'] = df['loc_id'].cat.codes"
      ],
      "metadata": {
        "colab": {
          "base_uri": "https://localhost:8080/"
        },
        "id": "Zn8OrwYrJBCF",
        "outputId": "f3462016-2d9e-4691-9a45-4cdc72fc0f4d"
      },
      "execution_count": null,
      "outputs": [
        {
          "output_type": "stream",
          "name": "stdout",
          "text": [
            "Collecting antropy\n",
            "  Downloading antropy-0.1.4.tar.gz (16 kB)\n",
            "Collecting stochastic\n",
            "  Downloading stochastic-0.6.0-py3-none-any.whl (49 kB)\n",
            "\u001b[K     |████████████████████████████████| 49 kB 3.9 MB/s \n",
            "\u001b[?25hRequirement already satisfied: numpy<2.0,>=1.17 in /usr/local/lib/python3.7/dist-packages (from stochastic->antropy) (1.19.5)\n",
            "Requirement already satisfied: scipy<2.0,>=1.3 in /usr/local/lib/python3.7/dist-packages (from stochastic->antropy) (1.4.1)\n",
            "Building wheels for collected packages: antropy\n",
            "  Building wheel for antropy (setup.py) ... \u001b[?25l\u001b[?25hdone\n",
            "  Created wheel for antropy: filename=antropy-0.1.4-py3-none-any.whl size=16159 sha256=523e4b165ecabf4e561e462d1bbec4c82777c7297e79e529676e5f551548f4bf\n",
            "  Stored in directory: /root/.cache/pip/wheels/d4/cc/6b/28fa7036bdabc6f1f92fd6a108ae259dbb48f107f676d6b491\n",
            "Successfully built antropy\n",
            "Installing collected packages: stochastic, antropy\n",
            "Successfully installed antropy-0.1.4 stochastic-0.6.0\n"
          ]
        }
      ]
    },
    {
      "cell_type": "markdown",
      "source": [
        "## **TEST AND TRAIN DATASET**"
      ],
      "metadata": {
        "id": "tw1SDpwq9Wtg"
      }
    },
    {
      "cell_type": "markdown",
      "source": [
        "## **TRAIN** **DATA**"
      ],
      "metadata": {
        "id": "0EIiPMCP-nmN"
      }
    },
    {
      "cell_type": "markdown",
      "source": [
        "## **X_Train Data**"
      ],
      "metadata": {
        "id": "gOtdIU0X-E38"
      }
    },
    {
      "cell_type": "code",
      "source": [
        "df_train = df[df.subj_id.isin( df.subj_id.unique()[:10] ) ] \n",
        "df_test = df[df.subj_id.isin( df.subj_id.unique()[5:] )]\n",
        "\n",
        "# creating windows \n",
        "\n",
        "from scipy import stats\n",
        "x_list = []\n",
        "y_list = []\n",
        "z_list = []\n",
        "train_labels = []\n",
        "window_size = 50\n",
        "step_size = 50\n",
        "\n",
        "# creating overlaping windows of size window-size 50\n",
        "for i in range(0, df_train.shape[0] - window_size, step_size):\n",
        "    xs = df_train['x'].values[i: i + 50]\n",
        "    ys = df_train['y'].values[i: i + 50]\n",
        "    zs = df_train['z'].values[i: i + 50]\n",
        "    label = stats.mode(df_train['label'][i: i + 50])[0][0]\n",
        "    x_list.append(xs)\n",
        "    y_list.append(ys)\n",
        "    z_list.append(zs)\n",
        "    train_labels.append(label)"
      ],
      "metadata": {
        "id": "V0ej2Mh1Jel9"
      },
      "execution_count": null,
      "outputs": []
    },
    {
      "cell_type": "code",
      "source": [
        "from scipy.stats import skew\n",
        "from scipy.signal import find_peaks\n",
        "from scipy.stats import norm, kurtosis\n",
        "from scipy.signal import find_peaks\n",
        "import antropy as ant\n",
        "# Statistical Features on raw x, y and z in time domain\n",
        "X_train = pd.DataFrame()\n",
        "\n",
        "# mean\n",
        "X_train['x_mean'] = pd.Series(x_list).apply(lambda x: x.mean())\n",
        "X_train['y_mean'] = pd.Series(y_list).apply(lambda x: x.mean())\n",
        "X_train['z_mean'] = pd.Series(z_list).apply(lambda x: x.mean())\n",
        "\n",
        "# std dev\n",
        "X_train['x_std'] = pd.Series(x_list).apply(lambda x: x.std())\n",
        "X_train['y_std'] = pd.Series(y_list).apply(lambda x: x.std())\n",
        "X_train['z_std'] = pd.Series(z_list).apply(lambda x: x.std())\n",
        "\n",
        "# avg absolute diff\n",
        "X_train['x_aad'] = pd.Series(x_list).apply(lambda x: np.mean(np.absolute(x - np.mean(x))))\n",
        "X_train['y_aad'] = pd.Series(y_list).apply(lambda x: np.mean(np.absolute(x - np.mean(x))))\n",
        "X_train['z_aad'] = pd.Series(z_list).apply(lambda x: np.mean(np.absolute(x - np.mean(x))))\n",
        "\n",
        "# min\n",
        "X_train['x_min'] = pd.Series(x_list).apply(lambda x: x.min())\n",
        "X_train['y_min'] = pd.Series(y_list).apply(lambda x: x.min())\n",
        "X_train['z_min'] = pd.Series(z_list).apply(lambda x: x.min())\n",
        "\n",
        "# max\n",
        "X_train['x_max'] = pd.Series(x_list).apply(lambda x: x.max())\n",
        "X_train['y_max'] = pd.Series(y_list).apply(lambda x: x.max())\n",
        "X_train['z_max'] = pd.Series(z_list).apply(lambda x: x.max())\n",
        "\n",
        "# max-min diff\n",
        "X_train['x_maxmin_diff'] = X_train['x_max'] - X_train['x_min']\n",
        "X_train['y_maxmin_diff'] = X_train['y_max'] - X_train['y_min']\n",
        "X_train['z_maxmin_diff'] = X_train['z_max'] - X_train['z_min']\n",
        "\n",
        "# median\n",
        "X_train['x_median'] = pd.Series(x_list).apply(lambda x: np.median(x))\n",
        "X_train['y_median'] = pd.Series(y_list).apply(lambda x: np.median(x))\n",
        "X_train['z_median'] = pd.Series(z_list).apply(lambda x: np.median(x))\n",
        "\n",
        "# median abs dev \n",
        "X_train['x_mad'] = pd.Series(x_list).apply(lambda x: np.median(np.absolute(x - np.median(x))))\n",
        "X_train['y_mad'] = pd.Series(y_list).apply(lambda x: np.median(np.absolute(x - np.median(x))))\n",
        "X_train['z_mad'] = pd.Series(z_list).apply(lambda x: np.median(np.absolute(x - np.median(x))))\n",
        "\n",
        "# interquartile range\n",
        "X_train['x_IQR'] = pd.Series(x_list).apply(lambda x: np.percentile(x, 75) - np.percentile(x, 25))\n",
        "X_train['y_IQR'] = pd.Series(y_list).apply(lambda x: np.percentile(x, 75) - np.percentile(x, 25))\n",
        "X_train['z_IQR'] = pd.Series(z_list).apply(lambda x: np.percentile(x, 75) - np.percentile(x, 25))\n",
        "\n",
        "# negtive count\n",
        "X_train['x_neg_count'] = pd.Series(x_list).apply(lambda x: np.sum(x < 0))\n",
        "X_train['y_neg_count'] = pd.Series(y_list).apply(lambda x: np.sum(x < 0))\n",
        "X_train['z_neg_count'] = pd.Series(z_list).apply(lambda x: np.sum(x < 0))\n",
        "\n",
        "# positive count\n",
        "X_train['x_pos_count'] = pd.Series(x_list).apply(lambda x: np.sum(x > 0))\n",
        "X_train['y_pos_count'] = pd.Series(y_list).apply(lambda x: np.sum(x > 0))\n",
        "X_train['z_pos_count'] = pd.Series(z_list).apply(lambda x: np.sum(x > 0))\n",
        "\n",
        "# values above mean\n",
        "X_train['x_above_mean'] = pd.Series(x_list).apply(lambda x: np.sum(x > x.mean()))\n",
        "X_train['y_above_mean'] = pd.Series(y_list).apply(lambda x: np.sum(x > x.mean()))\n",
        "X_train['z_above_mean'] = pd.Series(z_list).apply(lambda x: np.sum(x > x.mean()))\n",
        "\n",
        "# number of peaks\n",
        "X_train['x_peak_count'] = pd.Series(x_list).apply(lambda x: len(find_peaks(x)[0]))\n",
        "X_train['y_peak_count'] = pd.Series(y_list).apply(lambda x: len(find_peaks(x)[0]))\n",
        "X_train['z_peak_count'] = pd.Series(z_list).apply(lambda x: len(find_peaks(x)[0]))\n",
        "\n",
        "# skewness\n",
        "X_train['x_skewness'] = pd.Series(x_list).apply(lambda x: stats.skew(x))\n",
        "X_train['y_skewness'] = pd.Series(y_list).apply(lambda x: stats.skew(x))\n",
        "X_train['z_skewness'] = pd.Series(z_list).apply(lambda x: stats.skew(x))\n",
        "\n",
        "# kurtosis\n",
        "X_train['x_kurtosis'] = pd.Series(x_list).apply(lambda x: stats.kurtosis(x))\n",
        "X_train['y_kurtosis'] = pd.Series(y_list).apply(lambda x: stats.kurtosis(x))\n",
        "X_train['z_kurtosis'] = pd.Series(z_list).apply(lambda x: stats.kurtosis(x))\n",
        "\n",
        "# energy\n",
        "X_train['x_energy'] = pd.Series(x_list).apply(lambda x: np.sum(x**2)/100)\n",
        "X_train['y_energy'] = pd.Series(y_list).apply(lambda x: np.sum(x**2)/100)\n",
        "X_train['z_energy'] = pd.Series(z_list).apply(lambda x: np.sum(x**2/100))\n",
        "\n",
        "# avg resultant\n",
        "X_train['avg_result_accl'] = [i.mean() for i in ((pd.Series(x_list)**2 + pd.Series(y_list)**2 + pd.Series(z_list)**2)**0.5)]\n",
        "\n",
        "# signal magnitude area\n",
        "X_train['sma'] =    pd.Series(x_list).apply(lambda x: np.sum(abs(x)/100)) + pd.Series(y_list).apply(lambda x: np.sum(abs(x)/100)) \\\n",
        "                  + pd.Series(z_list).apply(lambda x: np.sum(abs(x)/100)) \n",
        "\n",
        "# converting the signals from time domain to frequency domain using FFT\n",
        "x_list_fft = pd.Series(x_list).apply(lambda x: np.abs(np.fft.fft(x))[1:51])\n",
        "y_list_fft = pd.Series(y_list).apply(lambda x: np.abs(np.fft.fft(x))[1:51])\n",
        "z_list_fft = pd.Series(z_list).apply(lambda x: np.abs(np.fft.fft(x))[1:51])\n",
        "\n",
        "# Statistical Features on raw x, y and z in frequency domain\n",
        "# FFT mean\n",
        "X_train['x_mean_fft'] = pd.Series(x_list_fft).apply(lambda x: x.mean())\n",
        "X_train['y_mean_fft'] = pd.Series(y_list_fft).apply(lambda x: x.mean())\n",
        "X_train['z_mean_fft'] = pd.Series(z_list_fft).apply(lambda x: x.mean())\n",
        "\n",
        "# FFT std dev\n",
        "X_train['x_std_fft'] = pd.Series(x_list_fft).apply(lambda x: x.std())\n",
        "X_train['y_std_fft'] = pd.Series(y_list_fft).apply(lambda x: x.std())\n",
        "X_train['z_std_fft'] = pd.Series(z_list_fft).apply(lambda x: x.std())\n",
        "\n",
        "# FFT avg absolute diff\n",
        "X_train['x_aad_fft'] = pd.Series(x_list_fft).apply(lambda x: np.mean(np.absolute(x - np.mean(x))))\n",
        "X_train['y_aad_fft'] = pd.Series(y_list_fft).apply(lambda x: np.mean(np.absolute(x - np.mean(x))))\n",
        "X_train['z_aad_fft'] = pd.Series(z_list_fft).apply(lambda x: np.mean(np.absolute(x - np.mean(x))))\n",
        "\n",
        "# FFT min\n",
        "X_train['x_min_fft'] = pd.Series(x_list_fft).apply(lambda x: x.min())\n",
        "X_train['y_min_fft'] = pd.Series(y_list_fft).apply(lambda x: x.min())\n",
        "X_train['z_min_fft'] = pd.Series(z_list_fft).apply(lambda x: x.min())\n",
        "\n",
        "# FFT max\n",
        "X_train['x_max_fft'] = pd.Series(x_list_fft).apply(lambda x: x.max())\n",
        "X_train['y_max_fft'] = pd.Series(y_list_fft).apply(lambda x: x.max())\n",
        "X_train['z_max_fft'] = pd.Series(z_list_fft).apply(lambda x: x.max())\n",
        "\n",
        "# FFT max-min diff\n",
        "X_train['x_maxmin_diff_fft'] = X_train['x_max_fft'] - X_train['x_min_fft']\n",
        "X_train['y_maxmin_diff_fft'] = X_train['y_max_fft'] - X_train['y_min_fft']\n",
        "X_train['z_maxmin_diff_fft'] = X_train['z_max_fft'] - X_train['z_min_fft']\n",
        "\n",
        "# FFT median\n",
        "X_train['x_median_fft'] = pd.Series(x_list_fft).apply(lambda x: np.median(x))\n",
        "X_train['y_median_fft'] = pd.Series(y_list_fft).apply(lambda x: np.median(x))\n",
        "X_train['z_median_fft'] = pd.Series(z_list_fft).apply(lambda x: np.median(x))\n",
        "\n",
        "# FFT median abs dev \n",
        "X_train['x_mad_fft'] = pd.Series(x_list_fft).apply(lambda x: np.median(np.absolute(x - np.median(x))))\n",
        "X_train['y_mad_fft'] = pd.Series(y_list_fft).apply(lambda x: np.median(np.absolute(x - np.median(x))))\n",
        "X_train['z_mad_fft'] = pd.Series(z_list_fft).apply(lambda x: np.median(np.absolute(x - np.median(x))))\n",
        "\n",
        "# FFT Interquartile range\n",
        "X_train['x_IQR_fft'] = pd.Series(x_list_fft).apply(lambda x: np.percentile(x, 75) - np.percentile(x, 25))\n",
        "X_train['y_IQR_fft'] = pd.Series(y_list_fft).apply(lambda x: np.percentile(x, 75) - np.percentile(x, 25))\n",
        "X_train['z_IQR_fft'] = pd.Series(z_list_fft).apply(lambda x: np.percentile(x, 75) - np.percentile(x, 25))\n",
        "\n",
        "# FFT values above mean\n",
        "X_train['x_above_mean_fft'] = pd.Series(x_list_fft).apply(lambda x: np.sum(x > x.mean()))\n",
        "X_train['y_above_mean_fft'] = pd.Series(y_list_fft).apply(lambda x: np.sum(x > x.mean()))\n",
        "X_train['z_above_mean_fft'] = pd.Series(z_list_fft).apply(lambda x: np.sum(x > x.mean()))\n",
        "\n",
        "# FFT number of peaks\n",
        "X_train['x_peak_count_fft'] = pd.Series(x_list_fft).apply(lambda x: len(find_peaks(x)[0]))\n",
        "X_train['y_peak_count_fft'] = pd.Series(y_list_fft).apply(lambda x: len(find_peaks(x)[0]))\n",
        "X_train['z_peak_count_fft'] = pd.Series(z_list_fft).apply(lambda x: len(find_peaks(x)[0]))\n",
        "\n",
        "# FFT skewness\n",
        "X_train['x_skewness_fft'] = pd.Series(x_list_fft).apply(lambda x: stats.skew(x))\n",
        "X_train['y_skewness_fft'] = pd.Series(y_list_fft).apply(lambda x: stats.skew(x))\n",
        "X_train['z_skewness_fft'] = pd.Series(z_list_fft).apply(lambda x: stats.skew(x))\n",
        "\n",
        "# FFT kurtosis\n",
        "X_train['x_kurtosis_fft'] = pd.Series(x_list_fft).apply(lambda x: stats.kurtosis(x))\n",
        "X_train['y_kurtosis_fft'] = pd.Series(y_list_fft).apply(lambda x: stats.kurtosis(x))\n",
        "X_train['z_kurtosis_fft'] = pd.Series(z_list_fft).apply(lambda x: stats.kurtosis(x))\n",
        "\n",
        "# FFT energy\n",
        "X_train['x_energy_fft'] = pd.Series(x_list_fft).apply(lambda x: np.sum(x**2)/50)\n",
        "X_train['y_energy_fft'] = pd.Series(y_list_fft).apply(lambda x: np.sum(x**2)/50)\n",
        "X_train['z_energy_fft'] = pd.Series(z_list_fft).apply(lambda x: np.sum(x**2/50))\n",
        "\n",
        "# FFT avg resultant\n",
        "X_train['avg_result_accl_fft'] = [i.mean() for i in ((pd.Series(x_list_fft)**2 + pd.Series(y_list_fft)**2 + pd.Series(z_list_fft)**2)**0.5)]\n",
        "\n",
        "# FFT Signal magnitude area\n",
        "X_train['sma_fft'] = pd.Series(x_list_fft).apply(lambda x: np.sum(abs(x)/50)) + pd.Series(y_list_fft).apply(lambda x: np.sum(abs(x)/50)) \\\n",
        "                     + pd.Series(z_list_fft).apply(lambda x: np.sum(abs(x)/50))\n",
        "\n",
        "# Max Indices and Min indices \n",
        "\n",
        "# index of max value in time domain\n",
        "X_train['x_argmax'] = pd.Series(x_list).apply(lambda x: np.argmax(x))\n",
        "X_train['y_argmax'] = pd.Series(y_list).apply(lambda x: np.argmax(x))\n",
        "X_train['z_argmax'] = pd.Series(z_list).apply(lambda x: np.argmax(x))\n",
        "\n",
        "# index of min value in time domain\n",
        "X_train['x_argmin'] = pd.Series(x_list).apply(lambda x: np.argmin(x))\n",
        "X_train['y_argmin'] = pd.Series(y_list).apply(lambda x: np.argmin(x))\n",
        "X_train['z_argmin'] = pd.Series(z_list).apply(lambda x: np.argmin(x))\n",
        "\n",
        "# absolute difference between above indices\n",
        "X_train['x_arg_diff'] = abs(X_train['x_argmax'] - X_train['x_argmin'])\n",
        "X_train['y_arg_diff'] = abs(X_train['y_argmax'] - X_train['y_argmin'])\n",
        "X_train['z_arg_diff'] = abs(X_train['z_argmax'] - X_train['z_argmin'])\n",
        "\n",
        "# index of max value in frequency domain\n",
        "X_train['x_argmax_fft'] = pd.Series(x_list_fft).apply(lambda x: np.argmax(np.abs(np.fft.fft(x))[1:51]))\n",
        "X_train['y_argmax_fft'] = pd.Series(y_list_fft).apply(lambda x: np.argmax(np.abs(np.fft.fft(x))[1:51]))\n",
        "X_train['z_argmax_fft'] = pd.Series(z_list_fft).apply(lambda x: np.argmax(np.abs(np.fft.fft(x))[1:51]))\n",
        "\n",
        "# index of min value in frequency domain\n",
        "X_train['x_argmin_fft'] = pd.Series(x_list_fft).apply(lambda x: np.argmin(np.abs(np.fft.fft(x))[1:51]))\n",
        "X_train['y_argmin_fft'] = pd.Series(y_list_fft).apply(lambda x: np.argmin(np.abs(np.fft.fft(x))[1:51]))\n",
        "X_train['z_argmin_fft'] = pd.Series(z_list_fft).apply(lambda x: np.argmin(np.abs(np.fft.fft(x))[1:51]))\n",
        "\n",
        "# absolute difference between above indices\n",
        "X_train['x_arg_diff_fft'] = abs(X_train['x_argmax_fft'] - X_train['x_argmin_fft'])\n",
        "X_train['y_arg_diff_fft'] = abs(X_train['y_argmax_fft'] - X_train['y_argmin_fft'])\n",
        "X_train['z_arg_diff_fft'] = abs(X_train['z_argmax_fft'] - X_train['z_argmin_fft'])\n",
        "\n",
        "\n",
        "\n",
        "X_train['x_perm_entropy'] = pd.Series(x_list).apply(lambda x: ant.perm_entropy(x, normalize=True))\n",
        "X_train['x_spectral_entropy'] = pd.Series(x_list).apply(lambda x: ant.spectral_entropy(x, sf=100, method='welch', normalize=True))\n",
        "X_train['x_svd_entropy'] = pd.Series(x_list).apply(lambda x: ant.svd_entropy(x, normalize=True))\n",
        "X_train['x_sample_entropy'] = pd.Series(x_list).apply(lambda x: ant.sample_entropy(x))\n",
        "X_train['x_app_entropy'] = pd.Series(x_list).apply(lambda x: ant.app_entropy(x))\n",
        "X_train['x_num_zerocross'] = pd.Series(x_list).apply(lambda x: ant.num_zerocross(x))\n",
        "X_train['y_perm_entropy'] = pd.Series(y_list).apply(lambda x: ant.perm_entropy(x, normalize=True))\n",
        "X_train['y_spectral_entropy'] = pd.Series(y_list).apply(lambda x: ant.spectral_entropy(x, sf=100, method='welch', normalize=True))\n",
        "X_train['y_svd_entropy'] = pd.Series(y_list).apply(lambda x: ant.svd_entropy(x, normalize=True))\n",
        "X_train['y_sample_entropy'] = pd.Series(y_list).apply(lambda x: ant.sample_entropy(x))\n",
        "X_train['y_app_entropy'] = pd.Series(y_list).apply(lambda x: ant.app_entropy(x))\n",
        "X_train['y_num_zerocross'] = pd.Series(y_list).apply(lambda x: ant.num_zerocross(x))\n",
        "X_train['z_perm_entropy'] = pd.Series(z_list).apply(lambda x: ant.perm_entropy(x, normalize=True))\n",
        "X_train['z_spectral_entropy'] = pd.Series(z_list).apply(lambda x: ant.spectral_entropy(x, sf=100, method='welch', normalize=True))\n",
        "X_train['z_svd_entropy'] = pd.Series(z_list).apply(lambda x: ant.svd_entropy(x, normalize=True))\n",
        "X_train['z_sample_entropy'] = pd.Series(z_list).apply(lambda x: ant.sample_entropy(x))\n",
        "X_train['z_app_entropy'] = pd.Series(z_list).apply(lambda x: ant.app_entropy(x))\n",
        "X_train['z_num_zerocross'] = pd.Series(z_list).apply(lambda x: ant.num_zerocross(x))\n"
      ],
      "metadata": {
        "colab": {
          "base_uri": "https://localhost:8080/"
        },
        "id": "hRJ_ClV0Jy8p",
        "outputId": "fd26a72c-f298-4a81-a2c4-22c59cc811d8"
      },
      "execution_count": null,
      "outputs": [
        {
          "output_type": "stream",
          "name": "stderr",
          "text": [
            "/usr/local/lib/python3.7/dist-packages/scipy/signal/spectral.py:1966: UserWarning: nperseg = 256 is greater than input length  = 50, using nperseg = 50\n",
            "  .format(nperseg, input_length))\n",
            "/usr/local/lib/python3.7/dist-packages/scipy/signal/spectral.py:1966: UserWarning: nperseg = 256 is greater than input length  = 50, using nperseg = 50\n",
            "  .format(nperseg, input_length))\n",
            "/usr/local/lib/python3.7/dist-packages/scipy/signal/spectral.py:1966: UserWarning: nperseg = 256 is greater than input length  = 50, using nperseg = 50\n",
            "  .format(nperseg, input_length))\n"
          ]
        }
      ]
    },
    {
      "cell_type": "code",
      "source": [
        "col_name = X_train.columns.to_series()[np.isinf(X_train).any()]\n",
        "m = X_train.loc[X_train['z_sample_entropy'] != np.inf, 'z_sample_entropy'].max()\n",
        "X_train['z_sample_entropy'].replace(np.inf,m,inplace=True)"
      ],
      "metadata": {
        "id": "q9pRjmlC_GNo"
      },
      "execution_count": null,
      "outputs": []
    },
    {
      "cell_type": "markdown",
      "source": [
        "## **y_train Data**"
      ],
      "metadata": {
        "id": "m2yOTZbP92Sf"
      }
    },
    {
      "cell_type": "code",
      "source": [
        "y_train = np.array(train_labels) "
      ],
      "metadata": {
        "id": "-6Un9bTO9C4D"
      },
      "execution_count": null,
      "outputs": []
    },
    {
      "cell_type": "markdown",
      "source": [
        "## **TEST DATA**"
      ],
      "metadata": {
        "id": "OCF9hpIk-tZD"
      }
    },
    {
      "cell_type": "code",
      "source": [
        "# TEST DATA\n",
        "from scipy import stats\n",
        "\n",
        "x_list = []\n",
        "y_list = []\n",
        "z_list = []\n",
        "test_train_labels = []\n",
        "\n",
        "window_size = 50\n",
        "step_size = 50\n",
        "\n",
        "# creating overlaping windows of size window-size 50\n",
        "for i in range(0, df_test.shape[0] - window_size, step_size):\n",
        "    xs = df_test['x'].values[i: i + 50]\n",
        "    ys = df_test['y'].values[i: i + 50]\n",
        "    zs = df_test['z'].values[i: i + 50]\n",
        "    label = stats.mode(df_test['label'][i: i + 50])[0][0]\n",
        "\n",
        "    x_list.append(xs)\n",
        "    y_list.append(ys)\n",
        "    z_list.append(zs)\n",
        "    test_train_labels.append(label)"
      ],
      "metadata": {
        "id": "lm485X46bxaJ"
      },
      "execution_count": null,
      "outputs": []
    },
    {
      "cell_type": "markdown",
      "source": [
        "# ***X_test*** ***DATA***"
      ],
      "metadata": {
        "id": "r0R1L2yLAuDN"
      }
    },
    {
      "cell_type": "code",
      "source": [
        "# Statistical Features on raw x, y and z in time domain\n",
        "X_test = pd.DataFrame()\n",
        "\n",
        "# mean\n",
        "X_test['x_mean'] = pd.Series(x_list).apply(lambda x: x.mean())\n",
        "X_test['y_mean'] = pd.Series(y_list).apply(lambda x: x.mean())\n",
        "X_test['z_mean'] = pd.Series(z_list).apply(lambda x: x.mean())\n",
        "\n",
        "# std dev\n",
        "X_test['x_std'] = pd.Series(x_list).apply(lambda x: x.std())\n",
        "X_test['y_std'] = pd.Series(y_list).apply(lambda x: x.std())\n",
        "X_test['z_std'] = pd.Series(z_list).apply(lambda x: x.std())\n",
        "\n",
        "# avg absolute diff\n",
        "X_test['x_aad'] = pd.Series(x_list).apply(lambda x: np.mean(np.absolute(x - np.mean(x))))\n",
        "X_test['y_aad'] = pd.Series(y_list).apply(lambda x: np.mean(np.absolute(x - np.mean(x))))\n",
        "X_test['z_aad'] = pd.Series(z_list).apply(lambda x: np.mean(np.absolute(x - np.mean(x))))\n",
        "\n",
        "# min\n",
        "X_test['x_min'] = pd.Series(x_list).apply(lambda x: x.min())\n",
        "X_test['y_min'] = pd.Series(y_list).apply(lambda x: x.min())\n",
        "X_test['z_min'] = pd.Series(z_list).apply(lambda x: x.min())\n",
        "\n",
        "# max\n",
        "X_test['x_max'] = pd.Series(x_list).apply(lambda x: x.max())\n",
        "X_test['y_max'] = pd.Series(y_list).apply(lambda x: x.max())\n",
        "X_test['z_max'] = pd.Series(z_list).apply(lambda x: x.max())\n",
        "\n",
        "# max-min diff\n",
        "X_test['x_maxmin_diff'] = X_test['x_max'] - X_test['x_min']\n",
        "X_test['y_maxmin_diff'] = X_test['y_max'] - X_test['y_min']\n",
        "X_test['z_maxmin_diff'] = X_test['z_max'] - X_test['z_min']\n",
        "\n",
        "# median\n",
        "X_test['x_median'] = pd.Series(x_list).apply(lambda x: np.median(x))\n",
        "X_test['y_median'] = pd.Series(y_list).apply(lambda x: np.median(x))\n",
        "X_test['z_median'] = pd.Series(z_list).apply(lambda x: np.median(x))\n",
        "\n",
        "# median abs dev \n",
        "X_test['x_mad'] = pd.Series(x_list).apply(lambda x: np.median(np.absolute(x - np.median(x))))\n",
        "X_test['y_mad'] = pd.Series(y_list).apply(lambda x: np.median(np.absolute(x - np.median(x))))\n",
        "X_test['z_mad'] = pd.Series(z_list).apply(lambda x: np.median(np.absolute(x - np.median(x))))\n",
        "\n",
        "# interquartile range\n",
        "X_test['x_IQR'] = pd.Series(x_list).apply(lambda x: np.percentile(x, 75) - np.percentile(x, 25))\n",
        "X_test['y_IQR'] = pd.Series(y_list).apply(lambda x: np.percentile(x, 75) - np.percentile(x, 25))\n",
        "X_test['z_IQR'] = pd.Series(z_list).apply(lambda x: np.percentile(x, 75) - np.percentile(x, 25))\n",
        "\n",
        "# negtive count\n",
        "X_test['x_neg_count'] = pd.Series(x_list).apply(lambda x: np.sum(x < 0))\n",
        "X_test['y_neg_count'] = pd.Series(y_list).apply(lambda x: np.sum(x < 0))\n",
        "X_test['z_neg_count'] = pd.Series(z_list).apply(lambda x: np.sum(x < 0))\n",
        "\n",
        "# positive count\n",
        "X_test['x_pos_count'] = pd.Series(x_list).apply(lambda x: np.sum(x > 0))\n",
        "X_test['y_pos_count'] = pd.Series(y_list).apply(lambda x: np.sum(x > 0))\n",
        "X_test['z_pos_count'] = pd.Series(z_list).apply(lambda x: np.sum(x > 0))\n",
        "\n",
        "# values above mean\n",
        "X_test['x_above_mean'] = pd.Series(x_list).apply(lambda x: np.sum(x > x.mean()))\n",
        "X_test['y_above_mean'] = pd.Series(y_list).apply(lambda x: np.sum(x > x.mean()))\n",
        "X_test['z_above_mean'] = pd.Series(z_list).apply(lambda x: np.sum(x > x.mean()))\n",
        "\n",
        "# number of peaks\n",
        "X_test['x_peak_count'] = pd.Series(x_list).apply(lambda x: len(find_peaks(x)[0]))\n",
        "X_test['y_peak_count'] = pd.Series(y_list).apply(lambda x: len(find_peaks(x)[0]))\n",
        "X_test['z_peak_count'] = pd.Series(z_list).apply(lambda x: len(find_peaks(x)[0]))\n",
        "\n",
        "# skewness\n",
        "X_test['x_skewness'] = pd.Series(x_list).apply(lambda x: stats.skew(x))\n",
        "X_test['y_skewness'] = pd.Series(y_list).apply(lambda x: stats.skew(x))\n",
        "X_test['z_skewness'] = pd.Series(z_list).apply(lambda x: stats.skew(x))\n",
        "\n",
        "# kurtosis\n",
        "X_test['x_kurtosis'] = pd.Series(x_list).apply(lambda x: stats.kurtosis(x))\n",
        "X_test['y_kurtosis'] = pd.Series(y_list).apply(lambda x: stats.kurtosis(x))\n",
        "X_test['z_kurtosis'] = pd.Series(z_list).apply(lambda x: stats.kurtosis(x))\n",
        "\n",
        "# energy\n",
        "X_test['x_energy'] = pd.Series(x_list).apply(lambda x: np.sum(x**2)/100)\n",
        "X_test['y_energy'] = pd.Series(y_list).apply(lambda x: np.sum(x**2)/100)\n",
        "X_test['z_energy'] = pd.Series(z_list).apply(lambda x: np.sum(x**2/100))\n",
        "\n",
        "# avg resultant\n",
        "X_test['avg_result_accl'] = [i.mean() for i in ((pd.Series(x_list)**2 + pd.Series(y_list)**2 + pd.Series(z_list)**2)**0.5)]\n",
        "\n",
        "# signal magnitude area\n",
        "X_test['sma'] =    pd.Series(x_list).apply(lambda x: np.sum(abs(x)/100)) + pd.Series(y_list).apply(lambda x: np.sum(abs(x)/100)) \\\n",
        "                  + pd.Series(z_list).apply(lambda x: np.sum(abs(x)/100))\n",
        "\n",
        "# converting the signals from time domain to frequency domain using FFT\n",
        "x_list_fft = pd.Series(x_list).apply(lambda x: np.abs(np.fft.fft(x))[1:51])\n",
        "y_list_fft = pd.Series(y_list).apply(lambda x: np.abs(np.fft.fft(x))[1:51])\n",
        "z_list_fft = pd.Series(z_list).apply(lambda x: np.abs(np.fft.fft(x))[1:51])\n",
        "\n",
        "# Statistical Features on raw x, y and z in frequency domain\n",
        "# FFT mean\n",
        "X_test['x_mean_fft'] = pd.Series(x_list_fft).apply(lambda x: x.mean())\n",
        "X_test['y_mean_fft'] = pd.Series(y_list_fft).apply(lambda x: x.mean())\n",
        "X_test['z_mean_fft'] = pd.Series(z_list_fft).apply(lambda x: x.mean())\n",
        "\n",
        "# FFT std dev\n",
        "X_test['x_std_fft'] = pd.Series(x_list_fft).apply(lambda x: x.std())\n",
        "X_test['y_std_fft'] = pd.Series(y_list_fft).apply(lambda x: x.std())\n",
        "X_test['z_std_fft'] = pd.Series(z_list_fft).apply(lambda x: x.std())\n",
        "\n",
        "# FFT avg absolute diff\n",
        "X_test['x_aad_fft'] = pd.Series(x_list_fft).apply(lambda x: np.mean(np.absolute(x - np.mean(x))))\n",
        "X_test['y_aad_fft'] = pd.Series(y_list_fft).apply(lambda x: np.mean(np.absolute(x - np.mean(x))))\n",
        "X_test['z_aad_fft'] = pd.Series(z_list_fft).apply(lambda x: np.mean(np.absolute(x - np.mean(x))))\n",
        "\n",
        "# FFT min\n",
        "X_test['x_min_fft'] = pd.Series(x_list_fft).apply(lambda x: x.min())\n",
        "X_test['y_min_fft'] = pd.Series(y_list_fft).apply(lambda x: x.min())\n",
        "X_test['z_min_fft'] = pd.Series(z_list_fft).apply(lambda x: x.min())\n",
        "\n",
        "# FFT max\n",
        "X_test['x_max_fft'] = pd.Series(x_list_fft).apply(lambda x: x.max())\n",
        "X_test['y_max_fft'] = pd.Series(y_list_fft).apply(lambda x: x.max())\n",
        "X_test['z_max_fft'] = pd.Series(z_list_fft).apply(lambda x: x.max())\n",
        "\n",
        "# FFT max-min diff\n",
        "X_test['x_maxmin_diff_fft'] = X_test['x_max_fft'] - X_test['x_min_fft']\n",
        "X_test['y_maxmin_diff_fft'] = X_test['y_max_fft'] - X_test['y_min_fft']\n",
        "X_test['z_maxmin_diff_fft'] = X_test['z_max_fft'] - X_test['z_min_fft']\n",
        "\n",
        "# FFT median\n",
        "X_test['x_median_fft'] = pd.Series(x_list_fft).apply(lambda x: np.median(x))\n",
        "X_test['y_median_fft'] = pd.Series(y_list_fft).apply(lambda x: np.median(x))\n",
        "X_test['z_median_fft'] = pd.Series(z_list_fft).apply(lambda x: np.median(x))\n",
        "\n",
        "# FFT median abs dev \n",
        "X_test['x_mad_fft'] = pd.Series(x_list_fft).apply(lambda x: np.median(np.absolute(x - np.median(x))))\n",
        "X_test['y_mad_fft'] = pd.Series(y_list_fft).apply(lambda x: np.median(np.absolute(x - np.median(x))))\n",
        "X_test['z_mad_fft'] = pd.Series(z_list_fft).apply(lambda x: np.median(np.absolute(x - np.median(x))))\n",
        "\n",
        "# FFT Interquartile range\n",
        "X_test['x_IQR_fft'] = pd.Series(x_list_fft).apply(lambda x: np.percentile(x, 75) - np.percentile(x, 25))\n",
        "X_test['y_IQR_fft'] = pd.Series(y_list_fft).apply(lambda x: np.percentile(x, 75) - np.percentile(x, 25))\n",
        "X_test['z_IQR_fft'] = pd.Series(z_list_fft).apply(lambda x: np.percentile(x, 75) - np.percentile(x, 25))\n",
        "\n",
        "# FFT values above mean\n",
        "X_test['x_above_mean_fft'] = pd.Series(x_list_fft).apply(lambda x: np.sum(x > x.mean()))\n",
        "X_test['y_above_mean_fft'] = pd.Series(y_list_fft).apply(lambda x: np.sum(x > x.mean()))\n",
        "X_test['z_above_mean_fft'] = pd.Series(z_list_fft).apply(lambda x: np.sum(x > x.mean()))\n",
        "\n",
        "# FFT number of peaks\n",
        "X_test['x_peak_count_fft'] = pd.Series(x_list_fft).apply(lambda x: len(find_peaks(x)[0]))\n",
        "X_test['y_peak_count_fft'] = pd.Series(y_list_fft).apply(lambda x: len(find_peaks(x)[0]))\n",
        "X_test['z_peak_count_fft'] = pd.Series(z_list_fft).apply(lambda x: len(find_peaks(x)[0]))\n",
        "\n",
        "# FFT skewness\n",
        "X_test['x_skewness_fft'] = pd.Series(x_list_fft).apply(lambda x: stats.skew(x))\n",
        "X_test['y_skewness_fft'] = pd.Series(y_list_fft).apply(lambda x: stats.skew(x))\n",
        "X_test['z_skewness_fft'] = pd.Series(z_list_fft).apply(lambda x: stats.skew(x))\n",
        "\n",
        "# FFT kurtosis\n",
        "X_test['x_kurtosis_fft'] = pd.Series(x_list_fft).apply(lambda x: stats.kurtosis(x))\n",
        "X_test['y_kurtosis_fft'] = pd.Series(y_list_fft).apply(lambda x: stats.kurtosis(x))\n",
        "X_test['z_kurtosis_fft'] = pd.Series(z_list_fft).apply(lambda x: stats.kurtosis(x))\n",
        "\n",
        "# FFT energy\n",
        "X_test['x_energy_fft'] = pd.Series(x_list_fft).apply(lambda x: np.sum(x**2)/50)\n",
        "X_test['y_energy_fft'] = pd.Series(y_list_fft).apply(lambda x: np.sum(x**2)/50)\n",
        "X_test['z_energy_fft'] = pd.Series(z_list_fft).apply(lambda x: np.sum(x**2/50))\n",
        "\n",
        "# FFT avg resultant\n",
        "X_test['avg_result_accl_fft'] = [i.mean() for i in ((pd.Series(x_list_fft)**2 + pd.Series(y_list_fft)**2 + pd.Series(z_list_fft)**2)**0.5)]\n",
        "\n",
        "# FFT Signal magnitude area\n",
        "X_test['sma_fft'] = pd.Series(x_list_fft).apply(lambda x: np.sum(abs(x)/50)) + pd.Series(y_list_fft).apply(lambda x: np.sum(abs(x)/50)) \\\n",
        "                     + pd.Series(z_list_fft).apply(lambda x: np.sum(abs(x)/50))\n",
        "                \n",
        "# Max Indices and Min indices \n",
        "\n",
        "# index of max value in time domain\n",
        "X_test['x_argmax'] = pd.Series(x_list).apply(lambda x: np.argmax(x))\n",
        "X_test['y_argmax'] = pd.Series(y_list).apply(lambda x: np.argmax(x))\n",
        "X_test['z_argmax'] = pd.Series(z_list).apply(lambda x: np.argmax(x))\n",
        "\n",
        "# index of min value in time domain\n",
        "X_test['x_argmin'] = pd.Series(x_list).apply(lambda x: np.argmin(x))\n",
        "X_test['y_argmin'] = pd.Series(y_list).apply(lambda x: np.argmin(x))\n",
        "X_test['z_argmin'] = pd.Series(z_list).apply(lambda x: np.argmin(x))\n",
        "\n",
        "# absolute difference between above indices\n",
        "X_test['x_arg_diff'] = abs(X_test['x_argmax'] - X_test['x_argmin'])\n",
        "X_test['y_arg_diff'] = abs(X_test['y_argmax'] - X_test['y_argmin'])\n",
        "X_test['z_arg_diff'] = abs(X_test['z_argmax'] - X_test['z_argmin'])\n",
        "\n",
        "# index of max value in frequency domain\n",
        "X_test['x_argmax_fft'] = pd.Series(x_list_fft).apply(lambda x: np.argmax(np.abs(np.fft.fft(x))[1:51]))\n",
        "X_test['y_argmax_fft'] = pd.Series(y_list_fft).apply(lambda x: np.argmax(np.abs(np.fft.fft(x))[1:51]))\n",
        "X_test['z_argmax_fft'] = pd.Series(z_list_fft).apply(lambda x: np.argmax(np.abs(np.fft.fft(x))[1:51]))\n",
        "\n",
        "# index of min value in frequency domain\n",
        "X_test['x_argmin_fft'] = pd.Series(x_list_fft).apply(lambda x: np.argmin(np.abs(np.fft.fft(x))[1:51]))\n",
        "X_test['y_argmin_fft'] = pd.Series(y_list_fft).apply(lambda x: np.argmin(np.abs(np.fft.fft(x))[1:51]))\n",
        "X_test['z_argmin_fft'] = pd.Series(z_list_fft).apply(lambda x: np.argmin(np.abs(np.fft.fft(x))[1:51]))\n",
        "\n",
        "# absolute difference between above indices\n",
        "X_test['x_arg_diff_fft'] = abs(X_test['x_argmax_fft'] - X_test['x_argmin_fft'])\n",
        "X_test['y_arg_diff_fft'] = abs(X_test['y_argmax_fft'] - X_test['y_argmin_fft'])\n",
        "X_test['z_arg_diff_fft'] = abs(X_test['z_argmax_fft'] - X_test['z_argmin_fft'])\n",
        "\n",
        "X_test['x_perm_entropy'] = pd.Series(x_list).apply(lambda x: ant.perm_entropy(x, normalize=True))\n",
        "X_test['x_spectral_entropy'] = pd.Series(x_list).apply(lambda x: ant.spectral_entropy(x, sf=100, method='welch', normalize=True))\n",
        "X_test['x_svd_entropy'] = pd.Series(x_list).apply(lambda x: ant.svd_entropy(x, normalize=True))\n",
        "X_test['x_sample_entropy'] = pd.Series(x_list).apply(lambda x: ant.sample_entropy(x))\n",
        "X_test['x_app_entropy'] = pd.Series(x_list).apply(lambda x: ant.app_entropy(x))\n",
        "X_test['x_num_zerocross'] = pd.Series(x_list).apply(lambda x: ant.num_zerocross(x))\n",
        "\n",
        "\n",
        "X_test['y_perm_entropy'] = pd.Series(y_list).apply(lambda x: ant.perm_entropy(x, normalize=True))\n",
        "X_test['y_spectral_entropy'] = pd.Series(y_list).apply(lambda x: ant.spectral_entropy(x, sf=100, method='welch', normalize=True))\n",
        "X_test['y_svd_entropy'] = pd.Series(y_list).apply(lambda x: ant.svd_entropy(x, normalize=True))\n",
        "X_test['y_sample_entropy'] = pd.Series(y_list).apply(lambda x: ant.sample_entropy(x))\n",
        "X_test['y_app_entropy'] = pd.Series(y_list).apply(lambda x: ant.app_entropy(x))\n",
        "X_test['y_num_zerocross'] = pd.Series(y_list).apply(lambda x: ant.num_zerocross(x))\n",
        "\n",
        "\n",
        "X_test['z_perm_entropy'] = pd.Series(z_list).apply(lambda x: ant.perm_entropy(x, normalize=True))\n",
        "X_test['z_spectral_entropy'] = pd.Series(z_list).apply(lambda x: ant.spectral_entropy(x, sf=100, method='welch', normalize=True))\n",
        "X_test['z_svd_entropy'] = pd.Series(z_list).apply(lambda x: ant.svd_entropy(x, normalize=True))\n",
        "X_test['z_sample_entropy'] = pd.Series(z_list).apply(lambda x: ant.sample_entropy(x))\n",
        "X_test['z_app_entropy'] = pd.Series(z_list).apply(lambda x: ant.app_entropy(x))\n",
        "X_test['z_num_zerocross'] = pd.Series(z_list).apply(lambda x: ant.num_zerocross(x))\n",
        "\n",
        "\n",
        "#Replacing  infinity values with highest value\n",
        "m = X_test.loc[X_test['z_sample_entropy'] != np.inf, 'z_sample_entropy'].max()\n",
        "X_test['z_sample_entropy'].replace(np.inf,m,inplace=True) \n",
        "m = X_test.loc[X_test['y_sample_entropy'] != np.inf, 'y_sample_entropy'].max()\n",
        "X_test['y_sample_entropy'].replace(np.inf,m,inplace=True) "
      ],
      "metadata": {
        "colab": {
          "base_uri": "https://localhost:8080/"
        },
        "id": "0ag7Naaib8e-",
        "outputId": "03045f16-ab2c-4293-ae6b-7e88b7b10433"
      },
      "execution_count": null,
      "outputs": [
        {
          "output_type": "stream",
          "name": "stderr",
          "text": [
            "/usr/local/lib/python3.7/dist-packages/scipy/signal/spectral.py:1966: UserWarning: nperseg = 256 is greater than input length  = 50, using nperseg = 50\n",
            "  .format(nperseg, input_length))\n",
            "/usr/local/lib/python3.7/dist-packages/scipy/signal/spectral.py:1966: UserWarning: nperseg = 256 is greater than input length  = 50, using nperseg = 50\n",
            "  .format(nperseg, input_length))\n",
            "/usr/local/lib/python3.7/dist-packages/scipy/signal/spectral.py:1966: UserWarning: nperseg = 256 is greater than input length  = 50, using nperseg = 50\n",
            "  .format(nperseg, input_length))\n"
          ]
        }
      ]
    },
    {
      "cell_type": "markdown",
      "source": [
        "## **y_test Data**"
      ],
      "metadata": {
        "id": "mFP4eF9z_SAm"
      }
    },
    {
      "cell_type": "code",
      "source": [
        "y_test = np.array(test_train_labels)"
      ],
      "metadata": {
        "id": "XqsL7-lZsnuD"
      },
      "execution_count": null,
      "outputs": []
    },
    {
      "cell_type": "markdown",
      "source": [
        "## **RANDOM FOREST**"
      ],
      "metadata": {
        "id": "67pyrJXG_a8y"
      }
    },
    {
      "cell_type": "code",
      "source": [
        "from sklearn.ensemble import RandomForestClassifier\n",
        "from sklearn.metrics import classification_report\n",
        "from sklearn.feature_selection import SelectFromModel"
      ],
      "metadata": {
        "id": "kUbMvgAHSSB9"
      },
      "execution_count": null,
      "outputs": []
    },
    {
      "cell_type": "markdown",
      "source": [
        "***STANDARD SCALING***"
      ],
      "metadata": {
        "id": "ArJb702p_rHT"
      }
    },
    {
      "cell_type": "code",
      "source": [
        "#SCALING \n",
        "from sklearn.preprocessing import StandardScaler\n",
        "scaler = StandardScaler()\n",
        "X_train_scaled = pd.DataFrame(scaler.fit_transform(X_train),columns=X_train.columns)\n",
        "X_train = X_train_scaled"
      ],
      "metadata": {
        "id": "9Jk4rYDA_qTi"
      },
      "execution_count": null,
      "outputs": []
    },
    {
      "cell_type": "markdown",
      "source": [
        "***Feature selection***"
      ],
      "metadata": {
        "id": "nv5R3OkwAD8-"
      }
    },
    {
      "cell_type": "code",
      "source": [
        "sel = SelectFromModel(RandomForestClassifier(n_estimators = 100))\n",
        "sel.fit(X_train, y_train)"
      ],
      "metadata": {
        "id": "9Kct5EiR_kDx",
        "outputId": "73e6785c-95ba-4ec2-9af8-051a46c55e05",
        "colab": {
          "base_uri": "https://localhost:8080/"
        }
      },
      "execution_count": null,
      "outputs": [
        {
          "output_type": "execute_result",
          "data": {
            "text/plain": [
              "SelectFromModel(estimator=RandomForestClassifier())"
            ]
          },
          "metadata": {},
          "execution_count": 13
        }
      ]
    },
    {
      "cell_type": "code",
      "source": [
        "selected_feat= X_train.columns[(sel.get_support())]\n",
        "len(selected_feat)"
      ],
      "metadata": {
        "id": "1Ef3x5iiqc3w",
        "outputId": "ec0b8c1e-c6e7-4343-aa2a-9437239451ef",
        "colab": {
          "base_uri": "https://localhost:8080/"
        }
      },
      "execution_count": null,
      "outputs": [
        {
          "output_type": "execute_result",
          "data": {
            "text/plain": [
              "76"
            ]
          },
          "metadata": {},
          "execution_count": 14
        }
      ]
    },
    {
      "cell_type": "code",
      "source": [
        "print(selected_feat)"
      ],
      "metadata": {
        "id": "aQCTlR-xqgXC",
        "outputId": "4ed18e4a-e7aa-4a34-f5df-744a7765e62b",
        "colab": {
          "base_uri": "https://localhost:8080/"
        }
      },
      "execution_count": null,
      "outputs": [
        {
          "output_type": "stream",
          "name": "stdout",
          "text": [
            "Index(['x_mean', 'y_mean', 'z_mean', 'z_aad', 'x_min', 'y_min', 'z_min',\n",
            "       'x_max', 'y_max', 'z_max', 'x_maxmin_diff', 'y_maxmin_diff', 'x_median',\n",
            "       'y_median', 'z_median', 'x_mad', 'y_mad', 'z_mad', 'x_IQR', 'y_IQR',\n",
            "       'z_IQR', 'x_above_mean', 'x_skewness', 'y_skewness', 'z_skewness',\n",
            "       'x_kurtosis', 'y_kurtosis', 'z_kurtosis', 'x_energy', 'z_energy',\n",
            "       'avg_result_accl', 'sma', 'y_mean_fft', 'z_mean_fft', 'z_std_fft',\n",
            "       'y_aad_fft', 'x_min_fft', 'y_min_fft', 'z_min_fft', 'y_max_fft',\n",
            "       'y_maxmin_diff_fft', 'x_median_fft', 'y_median_fft', 'z_median_fft',\n",
            "       'x_mad_fft', 'y_mad_fft', 'z_mad_fft', 'x_IQR_fft', 'y_IQR_fft',\n",
            "       'z_IQR_fft', 'x_skewness_fft', 'y_skewness_fft', 'z_skewness_fft',\n",
            "       'x_kurtosis_fft', 'y_kurtosis_fft', 'z_kurtosis_fft', 'x_argmax',\n",
            "       'z_argmax', 'y_argmin', 'x_arg_diff', 'z_arg_diff', 'x_perm_entropy',\n",
            "       'x_spectral_entropy', 'x_svd_entropy', 'x_sample_entropy',\n",
            "       'x_app_entropy', 'y_perm_entropy', 'y_spectral_entropy',\n",
            "       'y_svd_entropy', 'y_sample_entropy', 'y_app_entropy', 'z_perm_entropy',\n",
            "       'z_spectral_entropy', 'z_svd_entropy', 'z_sample_entropy',\n",
            "       'z_app_entropy'],\n",
            "      dtype='object')\n"
          ]
        }
      ]
    },
    {
      "cell_type": "markdown",
      "source": [
        "***RF CLASSIFIER with all features***"
      ],
      "metadata": {
        "id": "RVFNIxVCAQjy"
      }
    },
    {
      "cell_type": "code",
      "source": [
        "clf = RandomForestClassifier(n_estimators=1000)\n",
        "clf.fit(X_train, y_train) "
      ],
      "metadata": {
        "id": "0SJmEBiw1vna",
        "outputId": "b130c7dc-28f5-4dfb-b3f7-868560777c98",
        "colab": {
          "base_uri": "https://localhost:8080/"
        }
      },
      "execution_count": null,
      "outputs": [
        {
          "output_type": "execute_result",
          "data": {
            "text/plain": [
              "RandomForestClassifier(n_estimators=1000)"
            ]
          },
          "metadata": {},
          "execution_count": 16
        }
      ]
    },
    {
      "cell_type": "markdown",
      "source": [
        "***Evaluation***"
      ],
      "metadata": {
        "id": "qzPROqpOAVGt"
      }
    },
    {
      "cell_type": "code",
      "source": [
        "from sklearn.metrics import accuracy_score\n",
        "from sklearn.metrics import classification_report\n",
        "y_pred = clf.predict(X_test)\n",
        "\n",
        "print(\"Accuracy: \\t \", accuracy_score(y_test, y_pred))\n",
        "\n",
        "print(\"\\n \\n-------------Classification Report-------------\\n\")\n",
        "print(classification_report(y_test, y_pred))\n",
        "print(\"\\n \\n-------------confusion matrix-------------\\n\")\n",
        "from sklearn.metrics import confusion_matrix\n",
        "confusion_matrix(y_test, y_pred)"
      ],
      "metadata": {
        "id": "Hypltrn_468g",
        "outputId": "f73a9789-6a11-432b-cf0e-5cb79f80c251",
        "colab": {
          "base_uri": "https://localhost:8080/"
        }
      },
      "execution_count": null,
      "outputs": [
        {
          "output_type": "stream",
          "name": "stdout",
          "text": [
            "Accuracy: \t  0.4996798097154881\n",
            "\n",
            " \n",
            "-------------Classification Report-------------\n",
            "\n",
            "              precision    recall  f1-score   support\n",
            "\n",
            "           0       0.50      0.86      0.64      5539\n",
            "           1       0.47      0.13      0.20      5392\n",
            "\n",
            "    accuracy                           0.50     10931\n",
            "   macro avg       0.49      0.49      0.42     10931\n",
            "weighted avg       0.49      0.50      0.42     10931\n",
            "\n",
            "\n",
            " \n",
            "-------------confusion matrix-------------\n",
            "\n"
          ]
        },
        {
          "output_type": "execute_result",
          "data": {
            "text/plain": [
              "array([[4775,  764],\n",
              "       [4705,  687]])"
            ]
          },
          "metadata": {},
          "execution_count": 17
        }
      ]
    },
    {
      "cell_type": "code",
      "source": [
        "X_train.columns\n",
        "selected_feat"
      ],
      "metadata": {
        "id": "rnoI3rXZKWg4",
        "outputId": "5fa646b5-1131-417e-80c4-fb3362e52e50",
        "colab": {
          "base_uri": "https://localhost:8080/"
        }
      },
      "execution_count": null,
      "outputs": [
        {
          "output_type": "execute_result",
          "data": {
            "text/plain": [
              "Index(['x_mean', 'y_mean', 'z_mean', 'z_aad', 'x_min', 'y_min', 'z_min',\n",
              "       'x_max', 'y_max', 'z_max', 'x_maxmin_diff', 'y_maxmin_diff', 'x_median',\n",
              "       'y_median', 'z_median', 'x_mad', 'y_mad', 'z_mad', 'x_IQR', 'y_IQR',\n",
              "       'z_IQR', 'x_above_mean', 'x_skewness', 'y_skewness', 'z_skewness',\n",
              "       'x_kurtosis', 'y_kurtosis', 'z_kurtosis', 'x_energy', 'z_energy',\n",
              "       'avg_result_accl', 'sma', 'y_mean_fft', 'z_mean_fft', 'z_std_fft',\n",
              "       'y_aad_fft', 'x_min_fft', 'y_min_fft', 'z_min_fft', 'y_max_fft',\n",
              "       'y_maxmin_diff_fft', 'x_median_fft', 'y_median_fft', 'z_median_fft',\n",
              "       'x_mad_fft', 'y_mad_fft', 'z_mad_fft', 'x_IQR_fft', 'y_IQR_fft',\n",
              "       'z_IQR_fft', 'x_skewness_fft', 'y_skewness_fft', 'z_skewness_fft',\n",
              "       'x_kurtosis_fft', 'y_kurtosis_fft', 'z_kurtosis_fft', 'x_argmax',\n",
              "       'z_argmax', 'y_argmin', 'x_arg_diff', 'z_arg_diff', 'x_perm_entropy',\n",
              "       'x_spectral_entropy', 'x_svd_entropy', 'x_sample_entropy',\n",
              "       'x_app_entropy', 'y_perm_entropy', 'y_spectral_entropy',\n",
              "       'y_svd_entropy', 'y_sample_entropy', 'y_app_entropy', 'z_perm_entropy',\n",
              "       'z_spectral_entropy', 'z_svd_entropy', 'z_sample_entropy',\n",
              "       'z_app_entropy'],\n",
              "      dtype='object')"
            ]
          },
          "metadata": {},
          "execution_count": 18
        }
      ]
    },
    {
      "cell_type": "markdown",
      "source": [
        "***RF Classifier with selected features***"
      ],
      "metadata": {
        "id": "Kx4FSGz5Bzeo"
      }
    },
    {
      "cell_type": "code",
      "source": [
        "X_train_Selected = X_train[selected_feat]\n",
        "X_test_Selected = X_test[selected_feat]\n",
        "\n",
        "\n",
        "clf = RandomForestClassifier(n_estimators=1000)\n",
        "clf.fit(X_train_Selected, y_train)"
      ],
      "metadata": {
        "id": "AZ61v9DnB6p4",
        "outputId": "2f26019f-70fc-44de-9e3c-1edaaf9ba49d",
        "colab": {
          "base_uri": "https://localhost:8080/"
        }
      },
      "execution_count": null,
      "outputs": [
        {
          "output_type": "execute_result",
          "data": {
            "text/plain": [
              "RandomForestClassifier(n_estimators=1000)"
            ]
          },
          "metadata": {},
          "execution_count": 19
        }
      ]
    },
    {
      "cell_type": "code",
      "source": [
        "from sklearn.metrics import accuracy_score\n",
        "from sklearn.metrics import classification_report\n",
        "y_pred = clf.predict(X_test_Selected)\n",
        "\n",
        "print(\"Accuracy: \\t \", accuracy_score(y_test, y_pred))\n",
        "\n",
        "print(\"\\n \\n-------------Classification Report-------------\\n\")\n",
        "print(classification_report(y_test, y_pred))\n",
        "print(\"\\n \\n-------------confusion matrix-------------\\n\")\n",
        "from sklearn.metrics import confusion_matrix\n",
        "confusion_matrix(y_test, y_pred)"
      ],
      "metadata": {
        "id": "-8_R4lvjCeve",
        "outputId": "c86143f3-b3d0-45f3-a155-ce7cb674e411",
        "colab": {
          "base_uri": "https://localhost:8080/"
        }
      },
      "execution_count": null,
      "outputs": [
        {
          "output_type": "stream",
          "name": "stdout",
          "text": [
            "Accuracy: \t  0.5072728936053426\n",
            "\n",
            " \n",
            "-------------Classification Report-------------\n",
            "\n",
            "              precision    recall  f1-score   support\n",
            "\n",
            "           0       0.51      1.00      0.67      5539\n",
            "           1       0.57      0.00      0.01      5392\n",
            "\n",
            "    accuracy                           0.51     10931\n",
            "   macro avg       0.54      0.50      0.34     10931\n",
            "weighted avg       0.54      0.51      0.34     10931\n",
            "\n",
            "\n",
            " \n",
            "-------------confusion matrix-------------\n",
            "\n"
          ]
        },
        {
          "output_type": "execute_result",
          "data": {
            "text/plain": [
              "array([[5521,   18],\n",
              "       [5368,   24]])"
            ]
          },
          "metadata": {},
          "execution_count": 20
        }
      ]
    },
    {
      "cell_type": "code",
      "source": [
        "y_test"
      ],
      "metadata": {
        "id": "Ipj-s9QiM6vN",
        "outputId": "31342401-14eb-4f65-dcd0-5c61cca4d411",
        "colab": {
          "base_uri": "https://localhost:8080/"
        }
      },
      "execution_count": null,
      "outputs": [
        {
          "output_type": "execute_result",
          "data": {
            "text/plain": [
              "array([1, 0, 0, ..., 1, 0, 1], dtype=int8)"
            ]
          },
          "metadata": {},
          "execution_count": 21
        }
      ]
    },
    {
      "cell_type": "code",
      "source": [
        "y_pred"
      ],
      "metadata": {
        "id": "XA2CKSYaM8vA",
        "outputId": "5e87d4ec-b6ec-40e4-97ee-ff6b3b162074",
        "colab": {
          "base_uri": "https://localhost:8080/"
        }
      },
      "execution_count": null,
      "outputs": [
        {
          "output_type": "execute_result",
          "data": {
            "text/plain": [
              "array([0, 0, 0, ..., 0, 0, 0], dtype=int8)"
            ]
          },
          "metadata": {},
          "execution_count": 22
        }
      ]
    },
    {
      "cell_type": "markdown",
      "source": [
        "## ***SVM CLASSIFIER***"
      ],
      "metadata": {
        "id": "F1J2TukINt34"
      }
    },
    {
      "cell_type": "code",
      "source": [
        "#Import svm model\n",
        "from sklearn import svm\n",
        "#Create a svm Classifier\n",
        "clf = svm.SVC(kernel='linear') # Linear Kernel\n",
        "clf.fit(X_train, y_train) "
      ],
      "metadata": {
        "id": "YlyopwnBNsw6",
        "outputId": "d392c63e-5800-440a-a79c-d699fd83359d",
        "colab": {
          "base_uri": "https://localhost:8080/"
        }
      },
      "execution_count": null,
      "outputs": [
        {
          "output_type": "execute_result",
          "data": {
            "text/plain": [
              "SVC(kernel='linear')"
            ]
          },
          "metadata": {},
          "execution_count": 23
        }
      ]
    },
    {
      "cell_type": "markdown",
      "source": [
        "# ***EVALUATION***"
      ],
      "metadata": {
        "id": "9BvZewPrODEv"
      }
    },
    {
      "cell_type": "code",
      "source": [
        "from sklearn.metrics import accuracy_score\n",
        "from sklearn.metrics import classification_report\n",
        "\n",
        "y_pred = clf.predict(X_test)\n",
        "\n",
        "print(\"Accuracy: \\t \", accuracy_score(y_test, y_pred))\n",
        "\n",
        "print(\"\\n \\n-------------Classification Report-------------\\n\")\n",
        "print(classification_report(y_test, y_pred))\n",
        "print(\"\\n \\n-------------confusion matrix-------------\\n\")\n",
        "from sklearn.metrics import confusion_matrix\n",
        "confusion_matrix(y_test, y_pred)"
      ],
      "metadata": {
        "id": "aNrFh4HTOF2V",
        "outputId": "75095f5d-8433-4f64-b087-7b5bda64b364",
        "colab": {
          "base_uri": "https://localhost:8080/"
        }
      },
      "execution_count": null,
      "outputs": [
        {
          "output_type": "stream",
          "name": "stdout",
          "text": [
            "Accuracy: \t  0.5067239959747507\n",
            "\n",
            " \n",
            "-------------Classification Report-------------\n",
            "\n",
            "              precision    recall  f1-score   support\n",
            "\n",
            "           0       0.51      1.00      0.67      5539\n",
            "           1       0.00      0.00      0.00      5392\n",
            "\n",
            "    accuracy                           0.51     10931\n",
            "   macro avg       0.25      0.50      0.34     10931\n",
            "weighted avg       0.26      0.51      0.34     10931\n",
            "\n",
            "\n",
            " \n",
            "-------------confusion matrix-------------\n",
            "\n"
          ]
        },
        {
          "output_type": "stream",
          "name": "stderr",
          "text": [
            "/usr/local/lib/python3.7/dist-packages/sklearn/metrics/_classification.py:1318: UndefinedMetricWarning: Precision and F-score are ill-defined and being set to 0.0 in labels with no predicted samples. Use `zero_division` parameter to control this behavior.\n",
            "  _warn_prf(average, modifier, msg_start, len(result))\n",
            "/usr/local/lib/python3.7/dist-packages/sklearn/metrics/_classification.py:1318: UndefinedMetricWarning: Precision and F-score are ill-defined and being set to 0.0 in labels with no predicted samples. Use `zero_division` parameter to control this behavior.\n",
            "  _warn_prf(average, modifier, msg_start, len(result))\n",
            "/usr/local/lib/python3.7/dist-packages/sklearn/metrics/_classification.py:1318: UndefinedMetricWarning: Precision and F-score are ill-defined and being set to 0.0 in labels with no predicted samples. Use `zero_division` parameter to control this behavior.\n",
            "  _warn_prf(average, modifier, msg_start, len(result))\n"
          ]
        },
        {
          "output_type": "execute_result",
          "data": {
            "text/plain": [
              "array([[5539,    0],\n",
              "       [5392,    0]])"
            ]
          },
          "metadata": {},
          "execution_count": 24
        }
      ]
    }
  ]
}