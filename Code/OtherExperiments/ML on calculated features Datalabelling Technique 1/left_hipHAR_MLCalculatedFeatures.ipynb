{
  "nbformat": 4,
  "nbformat_minor": 0,
  "metadata": {
    "colab": {
      "name": "left_hipHAR_MLCalculatedFeatures",
      "provenance": []
    },
    "kernelspec": {
      "name": "python3",
      "display_name": "Python 3"
    },
    "language_info": {
      "name": "python"
    },
    "accelerator": "GPU"
  },
  "cells": [
    {
      "cell_type": "code",
      "execution_count": null,
      "metadata": {
        "colab": {
          "base_uri": "https://localhost:8080/"
        },
        "id": "LDxmFPguI1bD",
        "outputId": "80db75f4-248c-41f9-876b-db7072770d92"
      },
      "outputs": [
        {
          "output_type": "stream",
          "name": "stdout",
          "text": [
            "Mounted at /content/drive\n"
          ]
        }
      ],
      "source": [
        "from google.colab import drive\n",
        "drive.mount('/content/drive') "
      ]
    },
    {
      "cell_type": "markdown",
      "source": [
        "## **Loading Dataset**"
      ],
      "metadata": {
        "id": "lU6JiHDW9IMt"
      }
    },
    {
      "cell_type": "code",
      "source": [
        "!pip install antropy\n",
        "import pandas as pd\n",
        "import numpy as np\n",
        "import matplotlib.pyplot as plt\n",
        "import pandas as pd\n",
        "import numpy as np\n",
        "df = pd.read_csv('/content/drive/MyDrive/Colab Notebooks/dataset/left_hip_DatasetWithlabels.csv')#,index_col='time_s',parse_dates=['time_s'])\n",
        "df = df.drop(['Unnamed: 0'], 1)\n",
        "df = df.drop(['loc_id'], 1)\n",
        "#Converting to category type \n",
        "\n",
        "df['subj_id'] = df['subj_id'].astype('category')\n",
        "df['subj_id'] = df['subj_id'].cat.codes\n",
        "\n",
        "df['label'] = df['label'].astype('category')\n",
        "df['label'] = df['label'].cat.codes\n",
        "\n",
        "# df['loc_id'] = df['loc_id'].astype('category')\n",
        "# df['loc_id'] = df['loc_id'].cat.codes"
      ],
      "metadata": {
        "colab": {
          "base_uri": "https://localhost:8080/"
        },
        "id": "Zn8OrwYrJBCF",
        "outputId": "3fad0e40-45f2-4f50-f044-107c158d110d"
      },
      "execution_count": null,
      "outputs": [
        {
          "output_type": "stream",
          "name": "stdout",
          "text": [
            "Requirement already satisfied: antropy in /usr/local/lib/python3.7/dist-packages (0.1.4)\n",
            "Requirement already satisfied: stochastic in /usr/local/lib/python3.7/dist-packages (from antropy) (0.6.0)\n",
            "Requirement already satisfied: numpy<2.0,>=1.17 in /usr/local/lib/python3.7/dist-packages (from stochastic->antropy) (1.19.5)\n",
            "Requirement already satisfied: scipy<2.0,>=1.3 in /usr/local/lib/python3.7/dist-packages (from stochastic->antropy) (1.4.1)\n"
          ]
        }
      ]
    },
    {
      "cell_type": "code",
      "source": [
        "df"
      ],
      "metadata": {
        "colab": {
          "base_uri": "https://localhost:8080/",
          "height": 424
        },
        "id": "7OUkBpkGpN0r",
        "outputId": "efddc704-6b12-482f-e481-e88a4ce90436"
      },
      "execution_count": null,
      "outputs": [
        {
          "output_type": "execute_result",
          "data": {
            "text/html": [
              "\n",
              "  <div id=\"df-af51e304-5c1f-44b1-a484-796b204d1a9e\">\n",
              "    <div class=\"colab-df-container\">\n",
              "      <div>\n",
              "<style scoped>\n",
              "    .dataframe tbody tr th:only-of-type {\n",
              "        vertical-align: middle;\n",
              "    }\n",
              "\n",
              "    .dataframe tbody tr th {\n",
              "        vertical-align: top;\n",
              "    }\n",
              "\n",
              "    .dataframe thead th {\n",
              "        text-align: right;\n",
              "    }\n",
              "</style>\n",
              "<table border=\"1\" class=\"dataframe\">\n",
              "  <thead>\n",
              "    <tr style=\"text-align: right;\">\n",
              "      <th></th>\n",
              "      <th>subj_id</th>\n",
              "      <th>time_s</th>\n",
              "      <th>x</th>\n",
              "      <th>y</th>\n",
              "      <th>z</th>\n",
              "      <th>magnitude</th>\n",
              "      <th>label</th>\n",
              "    </tr>\n",
              "  </thead>\n",
              "  <tbody>\n",
              "    <tr>\n",
              "      <th>0</th>\n",
              "      <td>15</td>\n",
              "      <td>0.00</td>\n",
              "      <td>-0.059</td>\n",
              "      <td>-0.551</td>\n",
              "      <td>0.113</td>\n",
              "      <td>0.565554</td>\n",
              "      <td>0</td>\n",
              "    </tr>\n",
              "    <tr>\n",
              "      <th>1</th>\n",
              "      <td>15</td>\n",
              "      <td>0.01</td>\n",
              "      <td>-0.039</td>\n",
              "      <td>-0.559</td>\n",
              "      <td>0.102</td>\n",
              "      <td>0.569567</td>\n",
              "      <td>0</td>\n",
              "    </tr>\n",
              "    <tr>\n",
              "      <th>2</th>\n",
              "      <td>15</td>\n",
              "      <td>0.02</td>\n",
              "      <td>-0.020</td>\n",
              "      <td>-0.563</td>\n",
              "      <td>0.082</td>\n",
              "      <td>0.569292</td>\n",
              "      <td>0</td>\n",
              "    </tr>\n",
              "    <tr>\n",
              "      <th>3</th>\n",
              "      <td>15</td>\n",
              "      <td>0.03</td>\n",
              "      <td>-0.008</td>\n",
              "      <td>-0.563</td>\n",
              "      <td>0.070</td>\n",
              "      <td>0.567391</td>\n",
              "      <td>0</td>\n",
              "    </tr>\n",
              "    <tr>\n",
              "      <th>4</th>\n",
              "      <td>15</td>\n",
              "      <td>0.04</td>\n",
              "      <td>-0.008</td>\n",
              "      <td>-0.551</td>\n",
              "      <td>0.066</td>\n",
              "      <td>0.554996</td>\n",
              "      <td>0</td>\n",
              "    </tr>\n",
              "    <tr>\n",
              "      <th>...</th>\n",
              "      <td>...</td>\n",
              "      <td>...</td>\n",
              "      <td>...</td>\n",
              "      <td>...</td>\n",
              "      <td>...</td>\n",
              "      <td>...</td>\n",
              "      <td>...</td>\n",
              "    </tr>\n",
              "    <tr>\n",
              "      <th>647607</th>\n",
              "      <td>31</td>\n",
              "      <td>206.71</td>\n",
              "      <td>0.125</td>\n",
              "      <td>-1.195</td>\n",
              "      <td>-0.383</td>\n",
              "      <td>1.261086</td>\n",
              "      <td>0</td>\n",
              "    </tr>\n",
              "    <tr>\n",
              "      <th>647608</th>\n",
              "      <td>31</td>\n",
              "      <td>206.72</td>\n",
              "      <td>0.117</td>\n",
              "      <td>-1.258</td>\n",
              "      <td>-0.430</td>\n",
              "      <td>1.334598</td>\n",
              "      <td>0</td>\n",
              "    </tr>\n",
              "    <tr>\n",
              "      <th>647609</th>\n",
              "      <td>31</td>\n",
              "      <td>206.73</td>\n",
              "      <td>0.133</td>\n",
              "      <td>-1.309</td>\n",
              "      <td>-0.379</td>\n",
              "      <td>1.369237</td>\n",
              "      <td>0</td>\n",
              "    </tr>\n",
              "    <tr>\n",
              "      <th>647610</th>\n",
              "      <td>31</td>\n",
              "      <td>206.74</td>\n",
              "      <td>0.168</td>\n",
              "      <td>-1.379</td>\n",
              "      <td>-0.277</td>\n",
              "      <td>1.416543</td>\n",
              "      <td>0</td>\n",
              "    </tr>\n",
              "    <tr>\n",
              "      <th>647611</th>\n",
              "      <td>31</td>\n",
              "      <td>206.75</td>\n",
              "      <td>0.211</td>\n",
              "      <td>-1.477</td>\n",
              "      <td>-0.195</td>\n",
              "      <td>1.504684</td>\n",
              "      <td>0</td>\n",
              "    </tr>\n",
              "  </tbody>\n",
              "</table>\n",
              "<p>647612 rows × 7 columns</p>\n",
              "</div>\n",
              "      <button class=\"colab-df-convert\" onclick=\"convertToInteractive('df-af51e304-5c1f-44b1-a484-796b204d1a9e')\"\n",
              "              title=\"Convert this dataframe to an interactive table.\"\n",
              "              style=\"display:none;\">\n",
              "        \n",
              "  <svg xmlns=\"http://www.w3.org/2000/svg\" height=\"24px\"viewBox=\"0 0 24 24\"\n",
              "       width=\"24px\">\n",
              "    <path d=\"M0 0h24v24H0V0z\" fill=\"none\"/>\n",
              "    <path d=\"M18.56 5.44l.94 2.06.94-2.06 2.06-.94-2.06-.94-.94-2.06-.94 2.06-2.06.94zm-11 1L8.5 8.5l.94-2.06 2.06-.94-2.06-.94L8.5 2.5l-.94 2.06-2.06.94zm10 10l.94 2.06.94-2.06 2.06-.94-2.06-.94-.94-2.06-.94 2.06-2.06.94z\"/><path d=\"M17.41 7.96l-1.37-1.37c-.4-.4-.92-.59-1.43-.59-.52 0-1.04.2-1.43.59L10.3 9.45l-7.72 7.72c-.78.78-.78 2.05 0 2.83L4 21.41c.39.39.9.59 1.41.59.51 0 1.02-.2 1.41-.59l7.78-7.78 2.81-2.81c.8-.78.8-2.07 0-2.86zM5.41 20L4 18.59l7.72-7.72 1.47 1.35L5.41 20z\"/>\n",
              "  </svg>\n",
              "      </button>\n",
              "      \n",
              "  <style>\n",
              "    .colab-df-container {\n",
              "      display:flex;\n",
              "      flex-wrap:wrap;\n",
              "      gap: 12px;\n",
              "    }\n",
              "\n",
              "    .colab-df-convert {\n",
              "      background-color: #E8F0FE;\n",
              "      border: none;\n",
              "      border-radius: 50%;\n",
              "      cursor: pointer;\n",
              "      display: none;\n",
              "      fill: #1967D2;\n",
              "      height: 32px;\n",
              "      padding: 0 0 0 0;\n",
              "      width: 32px;\n",
              "    }\n",
              "\n",
              "    .colab-df-convert:hover {\n",
              "      background-color: #E2EBFA;\n",
              "      box-shadow: 0px 1px 2px rgba(60, 64, 67, 0.3), 0px 1px 3px 1px rgba(60, 64, 67, 0.15);\n",
              "      fill: #174EA6;\n",
              "    }\n",
              "\n",
              "    [theme=dark] .colab-df-convert {\n",
              "      background-color: #3B4455;\n",
              "      fill: #D2E3FC;\n",
              "    }\n",
              "\n",
              "    [theme=dark] .colab-df-convert:hover {\n",
              "      background-color: #434B5C;\n",
              "      box-shadow: 0px 1px 3px 1px rgba(0, 0, 0, 0.15);\n",
              "      filter: drop-shadow(0px 1px 2px rgba(0, 0, 0, 0.3));\n",
              "      fill: #FFFFFF;\n",
              "    }\n",
              "  </style>\n",
              "\n",
              "      <script>\n",
              "        const buttonEl =\n",
              "          document.querySelector('#df-af51e304-5c1f-44b1-a484-796b204d1a9e button.colab-df-convert');\n",
              "        buttonEl.style.display =\n",
              "          google.colab.kernel.accessAllowed ? 'block' : 'none';\n",
              "\n",
              "        async function convertToInteractive(key) {\n",
              "          const element = document.querySelector('#df-af51e304-5c1f-44b1-a484-796b204d1a9e');\n",
              "          const dataTable =\n",
              "            await google.colab.kernel.invokeFunction('convertToInteractive',\n",
              "                                                     [key], {});\n",
              "          if (!dataTable) return;\n",
              "\n",
              "          const docLinkHtml = 'Like what you see? Visit the ' +\n",
              "            '<a target=\"_blank\" href=https://colab.research.google.com/notebooks/data_table.ipynb>data table notebook</a>'\n",
              "            + ' to learn more about interactive tables.';\n",
              "          element.innerHTML = '';\n",
              "          dataTable['output_type'] = 'display_data';\n",
              "          await google.colab.output.renderOutput(dataTable, element);\n",
              "          const docLink = document.createElement('div');\n",
              "          docLink.innerHTML = docLinkHtml;\n",
              "          element.appendChild(docLink);\n",
              "        }\n",
              "      </script>\n",
              "    </div>\n",
              "  </div>\n",
              "  "
            ],
            "text/plain": [
              "        subj_id  time_s      x      y      z  magnitude  label\n",
              "0            15    0.00 -0.059 -0.551  0.113   0.565554      0\n",
              "1            15    0.01 -0.039 -0.559  0.102   0.569567      0\n",
              "2            15    0.02 -0.020 -0.563  0.082   0.569292      0\n",
              "3            15    0.03 -0.008 -0.563  0.070   0.567391      0\n",
              "4            15    0.04 -0.008 -0.551  0.066   0.554996      0\n",
              "...         ...     ...    ...    ...    ...        ...    ...\n",
              "647607       31  206.71  0.125 -1.195 -0.383   1.261086      0\n",
              "647608       31  206.72  0.117 -1.258 -0.430   1.334598      0\n",
              "647609       31  206.73  0.133 -1.309 -0.379   1.369237      0\n",
              "647610       31  206.74  0.168 -1.379 -0.277   1.416543      0\n",
              "647611       31  206.75  0.211 -1.477 -0.195   1.504684      0\n",
              "\n",
              "[647612 rows x 7 columns]"
            ]
          },
          "metadata": {},
          "execution_count": 7
        }
      ]
    },
    {
      "cell_type": "markdown",
      "source": [
        "## **TEST AND TRAIN DATASET**"
      ],
      "metadata": {
        "id": "tw1SDpwq9Wtg"
      }
    },
    {
      "cell_type": "markdown",
      "source": [
        "## **TRAIN** **DATA**"
      ],
      "metadata": {
        "id": "0EIiPMCP-nmN"
      }
    },
    {
      "cell_type": "markdown",
      "source": [
        "## **X_Train Data**"
      ],
      "metadata": {
        "id": "gOtdIU0X-E38"
      }
    },
    {
      "cell_type": "code",
      "source": [
        "df_train = df[df.subj_id.isin( df.subj_id.unique()[:10] ) ] \n",
        "df_test = df[df.subj_id.isin( df.subj_id.unique()[5:] )]\n",
        "\n",
        "# creating windows \n",
        "\n",
        "from scipy import stats\n",
        "x_list = []\n",
        "y_list = []\n",
        "z_list = []\n",
        "train_labels = []\n",
        "window_size = 50\n",
        "step_size = 50\n",
        "\n",
        "# creating overlaping windows of size window-size 50\n",
        "for i in range(0, df_train.shape[0] - window_size, step_size):\n",
        "    xs = df_train['x'].values[i: i + 50]\n",
        "    ys = df_train['y'].values[i: i + 50]\n",
        "    zs = df_train['z'].values[i: i + 50]\n",
        "    label = stats.mode(df_train['label'][i: i + 50])[0][0]\n",
        "    x_list.append(xs)\n",
        "    y_list.append(ys)\n",
        "    z_list.append(zs)\n",
        "    train_labels.append(label)"
      ],
      "metadata": {
        "id": "V0ej2Mh1Jel9"
      },
      "execution_count": null,
      "outputs": []
    },
    {
      "cell_type": "code",
      "source": [
        "from scipy.stats import skew\n",
        "from scipy.signal import find_peaks\n",
        "from scipy.stats import norm, kurtosis\n",
        "from scipy.signal import find_peaks\n",
        "import antropy as ant\n",
        "# Statistical Features on raw x, y and z in time domain\n",
        "X_train = pd.DataFrame()\n",
        "\n",
        "# mean\n",
        "X_train['x_mean'] = pd.Series(x_list).apply(lambda x: x.mean())\n",
        "X_train['y_mean'] = pd.Series(y_list).apply(lambda x: x.mean())\n",
        "X_train['z_mean'] = pd.Series(z_list).apply(lambda x: x.mean())\n",
        "\n",
        "# std dev\n",
        "X_train['x_std'] = pd.Series(x_list).apply(lambda x: x.std())\n",
        "X_train['y_std'] = pd.Series(y_list).apply(lambda x: x.std())\n",
        "X_train['z_std'] = pd.Series(z_list).apply(lambda x: x.std())\n",
        "\n",
        "# avg absolute diff\n",
        "X_train['x_aad'] = pd.Series(x_list).apply(lambda x: np.mean(np.absolute(x - np.mean(x))))\n",
        "X_train['y_aad'] = pd.Series(y_list).apply(lambda x: np.mean(np.absolute(x - np.mean(x))))\n",
        "X_train['z_aad'] = pd.Series(z_list).apply(lambda x: np.mean(np.absolute(x - np.mean(x))))\n",
        "\n",
        "# min\n",
        "X_train['x_min'] = pd.Series(x_list).apply(lambda x: x.min())\n",
        "X_train['y_min'] = pd.Series(y_list).apply(lambda x: x.min())\n",
        "X_train['z_min'] = pd.Series(z_list).apply(lambda x: x.min())\n",
        "\n",
        "# max\n",
        "X_train['x_max'] = pd.Series(x_list).apply(lambda x: x.max())\n",
        "X_train['y_max'] = pd.Series(y_list).apply(lambda x: x.max())\n",
        "X_train['z_max'] = pd.Series(z_list).apply(lambda x: x.max())\n",
        "\n",
        "# max-min diff\n",
        "X_train['x_maxmin_diff'] = X_train['x_max'] - X_train['x_min']\n",
        "X_train['y_maxmin_diff'] = X_train['y_max'] - X_train['y_min']\n",
        "X_train['z_maxmin_diff'] = X_train['z_max'] - X_train['z_min']\n",
        "\n",
        "# median\n",
        "X_train['x_median'] = pd.Series(x_list).apply(lambda x: np.median(x))\n",
        "X_train['y_median'] = pd.Series(y_list).apply(lambda x: np.median(x))\n",
        "X_train['z_median'] = pd.Series(z_list).apply(lambda x: np.median(x))\n",
        "\n",
        "# median abs dev \n",
        "X_train['x_mad'] = pd.Series(x_list).apply(lambda x: np.median(np.absolute(x - np.median(x))))\n",
        "X_train['y_mad'] = pd.Series(y_list).apply(lambda x: np.median(np.absolute(x - np.median(x))))\n",
        "X_train['z_mad'] = pd.Series(z_list).apply(lambda x: np.median(np.absolute(x - np.median(x))))\n",
        "\n",
        "# interquartile range\n",
        "X_train['x_IQR'] = pd.Series(x_list).apply(lambda x: np.percentile(x, 75) - np.percentile(x, 25))\n",
        "X_train['y_IQR'] = pd.Series(y_list).apply(lambda x: np.percentile(x, 75) - np.percentile(x, 25))\n",
        "X_train['z_IQR'] = pd.Series(z_list).apply(lambda x: np.percentile(x, 75) - np.percentile(x, 25))\n",
        "\n",
        "# negtive count\n",
        "X_train['x_neg_count'] = pd.Series(x_list).apply(lambda x: np.sum(x < 0))\n",
        "X_train['y_neg_count'] = pd.Series(y_list).apply(lambda x: np.sum(x < 0))\n",
        "X_train['z_neg_count'] = pd.Series(z_list).apply(lambda x: np.sum(x < 0))\n",
        "\n",
        "# positive count\n",
        "X_train['x_pos_count'] = pd.Series(x_list).apply(lambda x: np.sum(x > 0))\n",
        "X_train['y_pos_count'] = pd.Series(y_list).apply(lambda x: np.sum(x > 0))\n",
        "X_train['z_pos_count'] = pd.Series(z_list).apply(lambda x: np.sum(x > 0))\n",
        "\n",
        "# values above mean\n",
        "X_train['x_above_mean'] = pd.Series(x_list).apply(lambda x: np.sum(x > x.mean()))\n",
        "X_train['y_above_mean'] = pd.Series(y_list).apply(lambda x: np.sum(x > x.mean()))\n",
        "X_train['z_above_mean'] = pd.Series(z_list).apply(lambda x: np.sum(x > x.mean()))\n",
        "\n",
        "# number of peaks\n",
        "X_train['x_peak_count'] = pd.Series(x_list).apply(lambda x: len(find_peaks(x)[0]))\n",
        "X_train['y_peak_count'] = pd.Series(y_list).apply(lambda x: len(find_peaks(x)[0]))\n",
        "X_train['z_peak_count'] = pd.Series(z_list).apply(lambda x: len(find_peaks(x)[0]))\n",
        "\n",
        "# skewness\n",
        "X_train['x_skewness'] = pd.Series(x_list).apply(lambda x: stats.skew(x))\n",
        "X_train['y_skewness'] = pd.Series(y_list).apply(lambda x: stats.skew(x))\n",
        "X_train['z_skewness'] = pd.Series(z_list).apply(lambda x: stats.skew(x))\n",
        "\n",
        "# kurtosis\n",
        "X_train['x_kurtosis'] = pd.Series(x_list).apply(lambda x: stats.kurtosis(x))\n",
        "X_train['y_kurtosis'] = pd.Series(y_list).apply(lambda x: stats.kurtosis(x))\n",
        "X_train['z_kurtosis'] = pd.Series(z_list).apply(lambda x: stats.kurtosis(x))\n",
        "\n",
        "# energy\n",
        "X_train['x_energy'] = pd.Series(x_list).apply(lambda x: np.sum(x**2)/100)\n",
        "X_train['y_energy'] = pd.Series(y_list).apply(lambda x: np.sum(x**2)/100)\n",
        "X_train['z_energy'] = pd.Series(z_list).apply(lambda x: np.sum(x**2/100))\n",
        "\n",
        "# avg resultant\n",
        "X_train['avg_result_accl'] = [i.mean() for i in ((pd.Series(x_list)**2 + pd.Series(y_list)**2 + pd.Series(z_list)**2)**0.5)]\n",
        "\n",
        "# signal magnitude area\n",
        "X_train['sma'] =    pd.Series(x_list).apply(lambda x: np.sum(abs(x)/100)) + pd.Series(y_list).apply(lambda x: np.sum(abs(x)/100)) \\\n",
        "                  + pd.Series(z_list).apply(lambda x: np.sum(abs(x)/100)) \n",
        "\n",
        "# converting the signals from time domain to frequency domain using FFT\n",
        "x_list_fft = pd.Series(x_list).apply(lambda x: np.abs(np.fft.fft(x))[1:51])\n",
        "y_list_fft = pd.Series(y_list).apply(lambda x: np.abs(np.fft.fft(x))[1:51])\n",
        "z_list_fft = pd.Series(z_list).apply(lambda x: np.abs(np.fft.fft(x))[1:51])\n",
        "\n",
        "# Statistical Features on raw x, y and z in frequency domain\n",
        "# FFT mean\n",
        "X_train['x_mean_fft'] = pd.Series(x_list_fft).apply(lambda x: x.mean())\n",
        "X_train['y_mean_fft'] = pd.Series(y_list_fft).apply(lambda x: x.mean())\n",
        "X_train['z_mean_fft'] = pd.Series(z_list_fft).apply(lambda x: x.mean())\n",
        "\n",
        "# FFT std dev\n",
        "X_train['x_std_fft'] = pd.Series(x_list_fft).apply(lambda x: x.std())\n",
        "X_train['y_std_fft'] = pd.Series(y_list_fft).apply(lambda x: x.std())\n",
        "X_train['z_std_fft'] = pd.Series(z_list_fft).apply(lambda x: x.std())\n",
        "\n",
        "# FFT avg absolute diff\n",
        "X_train['x_aad_fft'] = pd.Series(x_list_fft).apply(lambda x: np.mean(np.absolute(x - np.mean(x))))\n",
        "X_train['y_aad_fft'] = pd.Series(y_list_fft).apply(lambda x: np.mean(np.absolute(x - np.mean(x))))\n",
        "X_train['z_aad_fft'] = pd.Series(z_list_fft).apply(lambda x: np.mean(np.absolute(x - np.mean(x))))\n",
        "\n",
        "# FFT min\n",
        "X_train['x_min_fft'] = pd.Series(x_list_fft).apply(lambda x: x.min())\n",
        "X_train['y_min_fft'] = pd.Series(y_list_fft).apply(lambda x: x.min())\n",
        "X_train['z_min_fft'] = pd.Series(z_list_fft).apply(lambda x: x.min())\n",
        "\n",
        "# FFT max\n",
        "X_train['x_max_fft'] = pd.Series(x_list_fft).apply(lambda x: x.max())\n",
        "X_train['y_max_fft'] = pd.Series(y_list_fft).apply(lambda x: x.max())\n",
        "X_train['z_max_fft'] = pd.Series(z_list_fft).apply(lambda x: x.max())\n",
        "\n",
        "# FFT max-min diff\n",
        "X_train['x_maxmin_diff_fft'] = X_train['x_max_fft'] - X_train['x_min_fft']\n",
        "X_train['y_maxmin_diff_fft'] = X_train['y_max_fft'] - X_train['y_min_fft']\n",
        "X_train['z_maxmin_diff_fft'] = X_train['z_max_fft'] - X_train['z_min_fft']\n",
        "\n",
        "# FFT median\n",
        "X_train['x_median_fft'] = pd.Series(x_list_fft).apply(lambda x: np.median(x))\n",
        "X_train['y_median_fft'] = pd.Series(y_list_fft).apply(lambda x: np.median(x))\n",
        "X_train['z_median_fft'] = pd.Series(z_list_fft).apply(lambda x: np.median(x))\n",
        "\n",
        "# FFT median abs dev \n",
        "X_train['x_mad_fft'] = pd.Series(x_list_fft).apply(lambda x: np.median(np.absolute(x - np.median(x))))\n",
        "X_train['y_mad_fft'] = pd.Series(y_list_fft).apply(lambda x: np.median(np.absolute(x - np.median(x))))\n",
        "X_train['z_mad_fft'] = pd.Series(z_list_fft).apply(lambda x: np.median(np.absolute(x - np.median(x))))\n",
        "\n",
        "# FFT Interquartile range\n",
        "X_train['x_IQR_fft'] = pd.Series(x_list_fft).apply(lambda x: np.percentile(x, 75) - np.percentile(x, 25))\n",
        "X_train['y_IQR_fft'] = pd.Series(y_list_fft).apply(lambda x: np.percentile(x, 75) - np.percentile(x, 25))\n",
        "X_train['z_IQR_fft'] = pd.Series(z_list_fft).apply(lambda x: np.percentile(x, 75) - np.percentile(x, 25))\n",
        "\n",
        "# FFT values above mean\n",
        "X_train['x_above_mean_fft'] = pd.Series(x_list_fft).apply(lambda x: np.sum(x > x.mean()))\n",
        "X_train['y_above_mean_fft'] = pd.Series(y_list_fft).apply(lambda x: np.sum(x > x.mean()))\n",
        "X_train['z_above_mean_fft'] = pd.Series(z_list_fft).apply(lambda x: np.sum(x > x.mean()))\n",
        "\n",
        "# FFT number of peaks\n",
        "X_train['x_peak_count_fft'] = pd.Series(x_list_fft).apply(lambda x: len(find_peaks(x)[0]))\n",
        "X_train['y_peak_count_fft'] = pd.Series(y_list_fft).apply(lambda x: len(find_peaks(x)[0]))\n",
        "X_train['z_peak_count_fft'] = pd.Series(z_list_fft).apply(lambda x: len(find_peaks(x)[0]))\n",
        "\n",
        "# FFT skewness\n",
        "X_train['x_skewness_fft'] = pd.Series(x_list_fft).apply(lambda x: stats.skew(x))\n",
        "X_train['y_skewness_fft'] = pd.Series(y_list_fft).apply(lambda x: stats.skew(x))\n",
        "X_train['z_skewness_fft'] = pd.Series(z_list_fft).apply(lambda x: stats.skew(x))\n",
        "\n",
        "# FFT kurtosis\n",
        "X_train['x_kurtosis_fft'] = pd.Series(x_list_fft).apply(lambda x: stats.kurtosis(x))\n",
        "X_train['y_kurtosis_fft'] = pd.Series(y_list_fft).apply(lambda x: stats.kurtosis(x))\n",
        "X_train['z_kurtosis_fft'] = pd.Series(z_list_fft).apply(lambda x: stats.kurtosis(x))\n",
        "\n",
        "# FFT energy\n",
        "X_train['x_energy_fft'] = pd.Series(x_list_fft).apply(lambda x: np.sum(x**2)/50)\n",
        "X_train['y_energy_fft'] = pd.Series(y_list_fft).apply(lambda x: np.sum(x**2)/50)\n",
        "X_train['z_energy_fft'] = pd.Series(z_list_fft).apply(lambda x: np.sum(x**2/50))\n",
        "\n",
        "# FFT avg resultant\n",
        "X_train['avg_result_accl_fft'] = [i.mean() for i in ((pd.Series(x_list_fft)**2 + pd.Series(y_list_fft)**2 + pd.Series(z_list_fft)**2)**0.5)]\n",
        "\n",
        "# FFT Signal magnitude area\n",
        "X_train['sma_fft'] = pd.Series(x_list_fft).apply(lambda x: np.sum(abs(x)/50)) + pd.Series(y_list_fft).apply(lambda x: np.sum(abs(x)/50)) \\\n",
        "                     + pd.Series(z_list_fft).apply(lambda x: np.sum(abs(x)/50))\n",
        "\n",
        "# Max Indices and Min indices \n",
        "\n",
        "# index of max value in time domain\n",
        "X_train['x_argmax'] = pd.Series(x_list).apply(lambda x: np.argmax(x))\n",
        "X_train['y_argmax'] = pd.Series(y_list).apply(lambda x: np.argmax(x))\n",
        "X_train['z_argmax'] = pd.Series(z_list).apply(lambda x: np.argmax(x))\n",
        "\n",
        "# index of min value in time domain\n",
        "X_train['x_argmin'] = pd.Series(x_list).apply(lambda x: np.argmin(x))\n",
        "X_train['y_argmin'] = pd.Series(y_list).apply(lambda x: np.argmin(x))\n",
        "X_train['z_argmin'] = pd.Series(z_list).apply(lambda x: np.argmin(x))\n",
        "\n",
        "# absolute difference between above indices\n",
        "X_train['x_arg_diff'] = abs(X_train['x_argmax'] - X_train['x_argmin'])\n",
        "X_train['y_arg_diff'] = abs(X_train['y_argmax'] - X_train['y_argmin'])\n",
        "X_train['z_arg_diff'] = abs(X_train['z_argmax'] - X_train['z_argmin'])\n",
        "\n",
        "# index of max value in frequency domain\n",
        "X_train['x_argmax_fft'] = pd.Series(x_list_fft).apply(lambda x: np.argmax(np.abs(np.fft.fft(x))[1:51]))\n",
        "X_train['y_argmax_fft'] = pd.Series(y_list_fft).apply(lambda x: np.argmax(np.abs(np.fft.fft(x))[1:51]))\n",
        "X_train['z_argmax_fft'] = pd.Series(z_list_fft).apply(lambda x: np.argmax(np.abs(np.fft.fft(x))[1:51]))\n",
        "\n",
        "# index of min value in frequency domain\n",
        "X_train['x_argmin_fft'] = pd.Series(x_list_fft).apply(lambda x: np.argmin(np.abs(np.fft.fft(x))[1:51]))\n",
        "X_train['y_argmin_fft'] = pd.Series(y_list_fft).apply(lambda x: np.argmin(np.abs(np.fft.fft(x))[1:51]))\n",
        "X_train['z_argmin_fft'] = pd.Series(z_list_fft).apply(lambda x: np.argmin(np.abs(np.fft.fft(x))[1:51]))\n",
        "\n",
        "# absolute difference between above indices\n",
        "X_train['x_arg_diff_fft'] = abs(X_train['x_argmax_fft'] - X_train['x_argmin_fft'])\n",
        "X_train['y_arg_diff_fft'] = abs(X_train['y_argmax_fft'] - X_train['y_argmin_fft'])\n",
        "X_train['z_arg_diff_fft'] = abs(X_train['z_argmax_fft'] - X_train['z_argmin_fft'])\n",
        "\n",
        "\n",
        "\n",
        "X_train['x_perm_entropy'] = pd.Series(x_list).apply(lambda x: ant.perm_entropy(x, normalize=True))\n",
        "X_train['x_spectral_entropy'] = pd.Series(x_list).apply(lambda x: ant.spectral_entropy(x, sf=100, method='welch', normalize=True))\n",
        "X_train['x_svd_entropy'] = pd.Series(x_list).apply(lambda x: ant.svd_entropy(x, normalize=True))\n",
        "X_train['x_sample_entropy'] = pd.Series(x_list).apply(lambda x: ant.sample_entropy(x))\n",
        "X_train['x_app_entropy'] = pd.Series(x_list).apply(lambda x: ant.app_entropy(x))\n",
        "X_train['x_num_zerocross'] = pd.Series(x_list).apply(lambda x: ant.num_zerocross(x))\n",
        "X_train['y_perm_entropy'] = pd.Series(y_list).apply(lambda x: ant.perm_entropy(x, normalize=True))\n",
        "X_train['y_spectral_entropy'] = pd.Series(y_list).apply(lambda x: ant.spectral_entropy(x, sf=100, method='welch', normalize=True))\n",
        "X_train['y_svd_entropy'] = pd.Series(y_list).apply(lambda x: ant.svd_entropy(x, normalize=True))\n",
        "X_train['y_sample_entropy'] = pd.Series(y_list).apply(lambda x: ant.sample_entropy(x))\n",
        "X_train['y_app_entropy'] = pd.Series(y_list).apply(lambda x: ant.app_entropy(x))\n",
        "X_train['y_num_zerocross'] = pd.Series(y_list).apply(lambda x: ant.num_zerocross(x))\n",
        "X_train['z_perm_entropy'] = pd.Series(z_list).apply(lambda x: ant.perm_entropy(x, normalize=True))\n",
        "X_train['z_spectral_entropy'] = pd.Series(z_list).apply(lambda x: ant.spectral_entropy(x, sf=100, method='welch', normalize=True))\n",
        "X_train['z_svd_entropy'] = pd.Series(z_list).apply(lambda x: ant.svd_entropy(x, normalize=True))\n",
        "X_train['z_sample_entropy'] = pd.Series(z_list).apply(lambda x: ant.sample_entropy(x))\n",
        "X_train['z_app_entropy'] = pd.Series(z_list).apply(lambda x: ant.app_entropy(x))\n",
        "X_train['z_num_zerocross'] = pd.Series(z_list).apply(lambda x: ant.num_zerocross(x))\n"
      ],
      "metadata": {
        "colab": {
          "base_uri": "https://localhost:8080/"
        },
        "id": "hRJ_ClV0Jy8p",
        "outputId": "773aab8e-95ee-4edc-a53e-d42a633c4517"
      },
      "execution_count": null,
      "outputs": [
        {
          "output_type": "stream",
          "name": "stderr",
          "text": [
            "/usr/local/lib/python3.7/dist-packages/scipy/signal/spectral.py:1966: UserWarning: nperseg = 256 is greater than input length  = 50, using nperseg = 50\n",
            "  .format(nperseg, input_length))\n",
            "/usr/local/lib/python3.7/dist-packages/scipy/signal/spectral.py:1966: UserWarning: nperseg = 256 is greater than input length  = 50, using nperseg = 50\n",
            "  .format(nperseg, input_length))\n",
            "/usr/local/lib/python3.7/dist-packages/scipy/signal/spectral.py:1966: UserWarning: nperseg = 256 is greater than input length  = 50, using nperseg = 50\n",
            "  .format(nperseg, input_length))\n"
          ]
        }
      ]
    },
    {
      "cell_type": "code",
      "source": [
        "col_name = X_train.columns.to_series()[np.isinf(X_train).any()]\n",
        "m = X_train.loc[X_train['z_sample_entropy'] != np.inf, 'z_sample_entropy'].max()\n",
        "X_train['z_sample_entropy'].replace(np.inf,m,inplace=True)"
      ],
      "metadata": {
        "id": "q9pRjmlC_GNo"
      },
      "execution_count": null,
      "outputs": []
    },
    {
      "cell_type": "markdown",
      "source": [
        "## **y_train Data**"
      ],
      "metadata": {
        "id": "m2yOTZbP92Sf"
      }
    },
    {
      "cell_type": "code",
      "source": [
        "y_train = np.array(train_labels) "
      ],
      "metadata": {
        "id": "-6Un9bTO9C4D"
      },
      "execution_count": null,
      "outputs": []
    },
    {
      "cell_type": "markdown",
      "source": [
        "## **TEST DATA**"
      ],
      "metadata": {
        "id": "OCF9hpIk-tZD"
      }
    },
    {
      "cell_type": "code",
      "source": [
        "# TEST DATA\n",
        "from scipy import stats\n",
        "\n",
        "x_list = []\n",
        "y_list = []\n",
        "z_list = []\n",
        "test_train_labels = []\n",
        "\n",
        "window_size = 50\n",
        "step_size = 50\n",
        "\n",
        "# creating overlaping windows of size window-size 50\n",
        "for i in range(0, df_test.shape[0] - window_size, step_size):\n",
        "    xs = df_test['x'].values[i: i + 50]\n",
        "    ys = df_test['y'].values[i: i + 50]\n",
        "    zs = df_test['z'].values[i: i + 50]\n",
        "    label = stats.mode(df_test['label'][i: i + 50])[0][0]\n",
        "\n",
        "    x_list.append(xs)\n",
        "    y_list.append(ys)\n",
        "    z_list.append(zs)\n",
        "    test_train_labels.append(label)"
      ],
      "metadata": {
        "id": "lm485X46bxaJ"
      },
      "execution_count": null,
      "outputs": []
    },
    {
      "cell_type": "markdown",
      "source": [
        "# ***X_test*** ***DATA***"
      ],
      "metadata": {
        "id": "r0R1L2yLAuDN"
      }
    },
    {
      "cell_type": "code",
      "source": [
        "# Statistical Features on raw x, y and z in time domain\n",
        "X_test = pd.DataFrame()\n",
        "\n",
        "# mean\n",
        "X_test['x_mean'] = pd.Series(x_list).apply(lambda x: x.mean())\n",
        "X_test['y_mean'] = pd.Series(y_list).apply(lambda x: x.mean())\n",
        "X_test['z_mean'] = pd.Series(z_list).apply(lambda x: x.mean())\n",
        "\n",
        "# std dev\n",
        "X_test['x_std'] = pd.Series(x_list).apply(lambda x: x.std())\n",
        "X_test['y_std'] = pd.Series(y_list).apply(lambda x: x.std())\n",
        "X_test['z_std'] = pd.Series(z_list).apply(lambda x: x.std())\n",
        "\n",
        "# avg absolute diff\n",
        "X_test['x_aad'] = pd.Series(x_list).apply(lambda x: np.mean(np.absolute(x - np.mean(x))))\n",
        "X_test['y_aad'] = pd.Series(y_list).apply(lambda x: np.mean(np.absolute(x - np.mean(x))))\n",
        "X_test['z_aad'] = pd.Series(z_list).apply(lambda x: np.mean(np.absolute(x - np.mean(x))))\n",
        "\n",
        "# min\n",
        "X_test['x_min'] = pd.Series(x_list).apply(lambda x: x.min())\n",
        "X_test['y_min'] = pd.Series(y_list).apply(lambda x: x.min())\n",
        "X_test['z_min'] = pd.Series(z_list).apply(lambda x: x.min())\n",
        "\n",
        "# max\n",
        "X_test['x_max'] = pd.Series(x_list).apply(lambda x: x.max())\n",
        "X_test['y_max'] = pd.Series(y_list).apply(lambda x: x.max())\n",
        "X_test['z_max'] = pd.Series(z_list).apply(lambda x: x.max())\n",
        "\n",
        "# max-min diff\n",
        "X_test['x_maxmin_diff'] = X_test['x_max'] - X_test['x_min']\n",
        "X_test['y_maxmin_diff'] = X_test['y_max'] - X_test['y_min']\n",
        "X_test['z_maxmin_diff'] = X_test['z_max'] - X_test['z_min']\n",
        "\n",
        "# median\n",
        "X_test['x_median'] = pd.Series(x_list).apply(lambda x: np.median(x))\n",
        "X_test['y_median'] = pd.Series(y_list).apply(lambda x: np.median(x))\n",
        "X_test['z_median'] = pd.Series(z_list).apply(lambda x: np.median(x))\n",
        "\n",
        "# median abs dev \n",
        "X_test['x_mad'] = pd.Series(x_list).apply(lambda x: np.median(np.absolute(x - np.median(x))))\n",
        "X_test['y_mad'] = pd.Series(y_list).apply(lambda x: np.median(np.absolute(x - np.median(x))))\n",
        "X_test['z_mad'] = pd.Series(z_list).apply(lambda x: np.median(np.absolute(x - np.median(x))))\n",
        "\n",
        "# interquartile range\n",
        "X_test['x_IQR'] = pd.Series(x_list).apply(lambda x: np.percentile(x, 75) - np.percentile(x, 25))\n",
        "X_test['y_IQR'] = pd.Series(y_list).apply(lambda x: np.percentile(x, 75) - np.percentile(x, 25))\n",
        "X_test['z_IQR'] = pd.Series(z_list).apply(lambda x: np.percentile(x, 75) - np.percentile(x, 25))\n",
        "\n",
        "# negtive count\n",
        "X_test['x_neg_count'] = pd.Series(x_list).apply(lambda x: np.sum(x < 0))\n",
        "X_test['y_neg_count'] = pd.Series(y_list).apply(lambda x: np.sum(x < 0))\n",
        "X_test['z_neg_count'] = pd.Series(z_list).apply(lambda x: np.sum(x < 0))\n",
        "\n",
        "# positive count\n",
        "X_test['x_pos_count'] = pd.Series(x_list).apply(lambda x: np.sum(x > 0))\n",
        "X_test['y_pos_count'] = pd.Series(y_list).apply(lambda x: np.sum(x > 0))\n",
        "X_test['z_pos_count'] = pd.Series(z_list).apply(lambda x: np.sum(x > 0))\n",
        "\n",
        "# values above mean\n",
        "X_test['x_above_mean'] = pd.Series(x_list).apply(lambda x: np.sum(x > x.mean()))\n",
        "X_test['y_above_mean'] = pd.Series(y_list).apply(lambda x: np.sum(x > x.mean()))\n",
        "X_test['z_above_mean'] = pd.Series(z_list).apply(lambda x: np.sum(x > x.mean()))\n",
        "\n",
        "# number of peaks\n",
        "X_test['x_peak_count'] = pd.Series(x_list).apply(lambda x: len(find_peaks(x)[0]))\n",
        "X_test['y_peak_count'] = pd.Series(y_list).apply(lambda x: len(find_peaks(x)[0]))\n",
        "X_test['z_peak_count'] = pd.Series(z_list).apply(lambda x: len(find_peaks(x)[0]))\n",
        "\n",
        "# skewness\n",
        "X_test['x_skewness'] = pd.Series(x_list).apply(lambda x: stats.skew(x))\n",
        "X_test['y_skewness'] = pd.Series(y_list).apply(lambda x: stats.skew(x))\n",
        "X_test['z_skewness'] = pd.Series(z_list).apply(lambda x: stats.skew(x))\n",
        "\n",
        "# kurtosis\n",
        "X_test['x_kurtosis'] = pd.Series(x_list).apply(lambda x: stats.kurtosis(x))\n",
        "X_test['y_kurtosis'] = pd.Series(y_list).apply(lambda x: stats.kurtosis(x))\n",
        "X_test['z_kurtosis'] = pd.Series(z_list).apply(lambda x: stats.kurtosis(x))\n",
        "\n",
        "# energy\n",
        "X_test['x_energy'] = pd.Series(x_list).apply(lambda x: np.sum(x**2)/100)\n",
        "X_test['y_energy'] = pd.Series(y_list).apply(lambda x: np.sum(x**2)/100)\n",
        "X_test['z_energy'] = pd.Series(z_list).apply(lambda x: np.sum(x**2/100))\n",
        "\n",
        "# avg resultant\n",
        "X_test['avg_result_accl'] = [i.mean() for i in ((pd.Series(x_list)**2 + pd.Series(y_list)**2 + pd.Series(z_list)**2)**0.5)]\n",
        "\n",
        "# signal magnitude area\n",
        "X_test['sma'] =    pd.Series(x_list).apply(lambda x: np.sum(abs(x)/100)) + pd.Series(y_list).apply(lambda x: np.sum(abs(x)/100)) \\\n",
        "                  + pd.Series(z_list).apply(lambda x: np.sum(abs(x)/100))\n",
        "\n",
        "# converting the signals from time domain to frequency domain using FFT\n",
        "x_list_fft = pd.Series(x_list).apply(lambda x: np.abs(np.fft.fft(x))[1:51])\n",
        "y_list_fft = pd.Series(y_list).apply(lambda x: np.abs(np.fft.fft(x))[1:51])\n",
        "z_list_fft = pd.Series(z_list).apply(lambda x: np.abs(np.fft.fft(x))[1:51])\n",
        "\n",
        "# Statistical Features on raw x, y and z in frequency domain\n",
        "# FFT mean\n",
        "X_test['x_mean_fft'] = pd.Series(x_list_fft).apply(lambda x: x.mean())\n",
        "X_test['y_mean_fft'] = pd.Series(y_list_fft).apply(lambda x: x.mean())\n",
        "X_test['z_mean_fft'] = pd.Series(z_list_fft).apply(lambda x: x.mean())\n",
        "\n",
        "# FFT std dev\n",
        "X_test['x_std_fft'] = pd.Series(x_list_fft).apply(lambda x: x.std())\n",
        "X_test['y_std_fft'] = pd.Series(y_list_fft).apply(lambda x: x.std())\n",
        "X_test['z_std_fft'] = pd.Series(z_list_fft).apply(lambda x: x.std())\n",
        "\n",
        "# FFT avg absolute diff\n",
        "X_test['x_aad_fft'] = pd.Series(x_list_fft).apply(lambda x: np.mean(np.absolute(x - np.mean(x))))\n",
        "X_test['y_aad_fft'] = pd.Series(y_list_fft).apply(lambda x: np.mean(np.absolute(x - np.mean(x))))\n",
        "X_test['z_aad_fft'] = pd.Series(z_list_fft).apply(lambda x: np.mean(np.absolute(x - np.mean(x))))\n",
        "\n",
        "# FFT min\n",
        "X_test['x_min_fft'] = pd.Series(x_list_fft).apply(lambda x: x.min())\n",
        "X_test['y_min_fft'] = pd.Series(y_list_fft).apply(lambda x: x.min())\n",
        "X_test['z_min_fft'] = pd.Series(z_list_fft).apply(lambda x: x.min())\n",
        "\n",
        "# FFT max\n",
        "X_test['x_max_fft'] = pd.Series(x_list_fft).apply(lambda x: x.max())\n",
        "X_test['y_max_fft'] = pd.Series(y_list_fft).apply(lambda x: x.max())\n",
        "X_test['z_max_fft'] = pd.Series(z_list_fft).apply(lambda x: x.max())\n",
        "\n",
        "# FFT max-min diff\n",
        "X_test['x_maxmin_diff_fft'] = X_test['x_max_fft'] - X_test['x_min_fft']\n",
        "X_test['y_maxmin_diff_fft'] = X_test['y_max_fft'] - X_test['y_min_fft']\n",
        "X_test['z_maxmin_diff_fft'] = X_test['z_max_fft'] - X_test['z_min_fft']\n",
        "\n",
        "# FFT median\n",
        "X_test['x_median_fft'] = pd.Series(x_list_fft).apply(lambda x: np.median(x))\n",
        "X_test['y_median_fft'] = pd.Series(y_list_fft).apply(lambda x: np.median(x))\n",
        "X_test['z_median_fft'] = pd.Series(z_list_fft).apply(lambda x: np.median(x))\n",
        "\n",
        "# FFT median abs dev \n",
        "X_test['x_mad_fft'] = pd.Series(x_list_fft).apply(lambda x: np.median(np.absolute(x - np.median(x))))\n",
        "X_test['y_mad_fft'] = pd.Series(y_list_fft).apply(lambda x: np.median(np.absolute(x - np.median(x))))\n",
        "X_test['z_mad_fft'] = pd.Series(z_list_fft).apply(lambda x: np.median(np.absolute(x - np.median(x))))\n",
        "\n",
        "# FFT Interquartile range\n",
        "X_test['x_IQR_fft'] = pd.Series(x_list_fft).apply(lambda x: np.percentile(x, 75) - np.percentile(x, 25))\n",
        "X_test['y_IQR_fft'] = pd.Series(y_list_fft).apply(lambda x: np.percentile(x, 75) - np.percentile(x, 25))\n",
        "X_test['z_IQR_fft'] = pd.Series(z_list_fft).apply(lambda x: np.percentile(x, 75) - np.percentile(x, 25))\n",
        "\n",
        "# FFT values above mean\n",
        "X_test['x_above_mean_fft'] = pd.Series(x_list_fft).apply(lambda x: np.sum(x > x.mean()))\n",
        "X_test['y_above_mean_fft'] = pd.Series(y_list_fft).apply(lambda x: np.sum(x > x.mean()))\n",
        "X_test['z_above_mean_fft'] = pd.Series(z_list_fft).apply(lambda x: np.sum(x > x.mean()))\n",
        "\n",
        "# FFT number of peaks\n",
        "X_test['x_peak_count_fft'] = pd.Series(x_list_fft).apply(lambda x: len(find_peaks(x)[0]))\n",
        "X_test['y_peak_count_fft'] = pd.Series(y_list_fft).apply(lambda x: len(find_peaks(x)[0]))\n",
        "X_test['z_peak_count_fft'] = pd.Series(z_list_fft).apply(lambda x: len(find_peaks(x)[0]))\n",
        "\n",
        "# FFT skewness\n",
        "X_test['x_skewness_fft'] = pd.Series(x_list_fft).apply(lambda x: stats.skew(x))\n",
        "X_test['y_skewness_fft'] = pd.Series(y_list_fft).apply(lambda x: stats.skew(x))\n",
        "X_test['z_skewness_fft'] = pd.Series(z_list_fft).apply(lambda x: stats.skew(x))\n",
        "\n",
        "# FFT kurtosis\n",
        "X_test['x_kurtosis_fft'] = pd.Series(x_list_fft).apply(lambda x: stats.kurtosis(x))\n",
        "X_test['y_kurtosis_fft'] = pd.Series(y_list_fft).apply(lambda x: stats.kurtosis(x))\n",
        "X_test['z_kurtosis_fft'] = pd.Series(z_list_fft).apply(lambda x: stats.kurtosis(x))\n",
        "\n",
        "# FFT energy\n",
        "X_test['x_energy_fft'] = pd.Series(x_list_fft).apply(lambda x: np.sum(x**2)/50)\n",
        "X_test['y_energy_fft'] = pd.Series(y_list_fft).apply(lambda x: np.sum(x**2)/50)\n",
        "X_test['z_energy_fft'] = pd.Series(z_list_fft).apply(lambda x: np.sum(x**2/50))\n",
        "\n",
        "# FFT avg resultant\n",
        "X_test['avg_result_accl_fft'] = [i.mean() for i in ((pd.Series(x_list_fft)**2 + pd.Series(y_list_fft)**2 + pd.Series(z_list_fft)**2)**0.5)]\n",
        "\n",
        "# FFT Signal magnitude area\n",
        "X_test['sma_fft'] = pd.Series(x_list_fft).apply(lambda x: np.sum(abs(x)/50)) + pd.Series(y_list_fft).apply(lambda x: np.sum(abs(x)/50)) \\\n",
        "                     + pd.Series(z_list_fft).apply(lambda x: np.sum(abs(x)/50))\n",
        "                \n",
        "# Max Indices and Min indices \n",
        "\n",
        "# index of max value in time domain\n",
        "X_test['x_argmax'] = pd.Series(x_list).apply(lambda x: np.argmax(x))\n",
        "X_test['y_argmax'] = pd.Series(y_list).apply(lambda x: np.argmax(x))\n",
        "X_test['z_argmax'] = pd.Series(z_list).apply(lambda x: np.argmax(x))\n",
        "\n",
        "# index of min value in time domain\n",
        "X_test['x_argmin'] = pd.Series(x_list).apply(lambda x: np.argmin(x))\n",
        "X_test['y_argmin'] = pd.Series(y_list).apply(lambda x: np.argmin(x))\n",
        "X_test['z_argmin'] = pd.Series(z_list).apply(lambda x: np.argmin(x))\n",
        "\n",
        "# absolute difference between above indices\n",
        "X_test['x_arg_diff'] = abs(X_test['x_argmax'] - X_test['x_argmin'])\n",
        "X_test['y_arg_diff'] = abs(X_test['y_argmax'] - X_test['y_argmin'])\n",
        "X_test['z_arg_diff'] = abs(X_test['z_argmax'] - X_test['z_argmin'])\n",
        "\n",
        "# index of max value in frequency domain\n",
        "X_test['x_argmax_fft'] = pd.Series(x_list_fft).apply(lambda x: np.argmax(np.abs(np.fft.fft(x))[1:51]))\n",
        "X_test['y_argmax_fft'] = pd.Series(y_list_fft).apply(lambda x: np.argmax(np.abs(np.fft.fft(x))[1:51]))\n",
        "X_test['z_argmax_fft'] = pd.Series(z_list_fft).apply(lambda x: np.argmax(np.abs(np.fft.fft(x))[1:51]))\n",
        "\n",
        "# index of min value in frequency domain\n",
        "X_test['x_argmin_fft'] = pd.Series(x_list_fft).apply(lambda x: np.argmin(np.abs(np.fft.fft(x))[1:51]))\n",
        "X_test['y_argmin_fft'] = pd.Series(y_list_fft).apply(lambda x: np.argmin(np.abs(np.fft.fft(x))[1:51]))\n",
        "X_test['z_argmin_fft'] = pd.Series(z_list_fft).apply(lambda x: np.argmin(np.abs(np.fft.fft(x))[1:51]))\n",
        "\n",
        "# absolute difference between above indices\n",
        "X_test['x_arg_diff_fft'] = abs(X_test['x_argmax_fft'] - X_test['x_argmin_fft'])\n",
        "X_test['y_arg_diff_fft'] = abs(X_test['y_argmax_fft'] - X_test['y_argmin_fft'])\n",
        "X_test['z_arg_diff_fft'] = abs(X_test['z_argmax_fft'] - X_test['z_argmin_fft'])\n",
        "\n",
        "X_test['x_perm_entropy'] = pd.Series(x_list).apply(lambda x: ant.perm_entropy(x, normalize=True))\n",
        "X_test['x_spectral_entropy'] = pd.Series(x_list).apply(lambda x: ant.spectral_entropy(x, sf=100, method='welch', normalize=True))\n",
        "X_test['x_svd_entropy'] = pd.Series(x_list).apply(lambda x: ant.svd_entropy(x, normalize=True))\n",
        "X_test['x_sample_entropy'] = pd.Series(x_list).apply(lambda x: ant.sample_entropy(x))\n",
        "X_test['x_app_entropy'] = pd.Series(x_list).apply(lambda x: ant.app_entropy(x))\n",
        "X_test['x_num_zerocross'] = pd.Series(x_list).apply(lambda x: ant.num_zerocross(x))\n",
        "\n",
        "\n",
        "X_test['y_perm_entropy'] = pd.Series(y_list).apply(lambda x: ant.perm_entropy(x, normalize=True))\n",
        "X_test['y_spectral_entropy'] = pd.Series(y_list).apply(lambda x: ant.spectral_entropy(x, sf=100, method='welch', normalize=True))\n",
        "X_test['y_svd_entropy'] = pd.Series(y_list).apply(lambda x: ant.svd_entropy(x, normalize=True))\n",
        "X_test['y_sample_entropy'] = pd.Series(y_list).apply(lambda x: ant.sample_entropy(x))\n",
        "X_test['y_app_entropy'] = pd.Series(y_list).apply(lambda x: ant.app_entropy(x))\n",
        "X_test['y_num_zerocross'] = pd.Series(y_list).apply(lambda x: ant.num_zerocross(x))\n",
        "\n",
        "\n",
        "X_test['z_perm_entropy'] = pd.Series(z_list).apply(lambda x: ant.perm_entropy(x, normalize=True))\n",
        "X_test['z_spectral_entropy'] = pd.Series(z_list).apply(lambda x: ant.spectral_entropy(x, sf=100, method='welch', normalize=True))\n",
        "X_test['z_svd_entropy'] = pd.Series(z_list).apply(lambda x: ant.svd_entropy(x, normalize=True))\n",
        "X_test['z_sample_entropy'] = pd.Series(z_list).apply(lambda x: ant.sample_entropy(x))\n",
        "X_test['z_app_entropy'] = pd.Series(z_list).apply(lambda x: ant.app_entropy(x))\n",
        "X_test['z_num_zerocross'] = pd.Series(z_list).apply(lambda x: ant.num_zerocross(x))\n",
        "\n",
        "\n",
        "#Replacing  infinity values with highest value\n",
        "m = X_test.loc[X_test['z_sample_entropy'] != np.inf, 'z_sample_entropy'].max()\n",
        "X_test['z_sample_entropy'].replace(np.inf,m,inplace=True) \n",
        "m = X_test.loc[X_test['y_sample_entropy'] != np.inf, 'y_sample_entropy'].max()\n",
        "X_test['y_sample_entropy'].replace(np.inf,m,inplace=True) "
      ],
      "metadata": {
        "colab": {
          "base_uri": "https://localhost:8080/"
        },
        "id": "0ag7Naaib8e-",
        "outputId": "c587eeca-53a0-4126-940b-a39e82b650b7"
      },
      "execution_count": null,
      "outputs": [
        {
          "output_type": "stream",
          "name": "stderr",
          "text": [
            "/usr/local/lib/python3.7/dist-packages/scipy/signal/spectral.py:1966: UserWarning: nperseg = 256 is greater than input length  = 50, using nperseg = 50\n",
            "  .format(nperseg, input_length))\n",
            "/usr/local/lib/python3.7/dist-packages/scipy/signal/spectral.py:1966: UserWarning: nperseg = 256 is greater than input length  = 50, using nperseg = 50\n",
            "  .format(nperseg, input_length))\n",
            "/usr/local/lib/python3.7/dist-packages/scipy/signal/spectral.py:1966: UserWarning: nperseg = 256 is greater than input length  = 50, using nperseg = 50\n",
            "  .format(nperseg, input_length))\n"
          ]
        }
      ]
    },
    {
      "cell_type": "markdown",
      "source": [
        "## **y_test Data**"
      ],
      "metadata": {
        "id": "mFP4eF9z_SAm"
      }
    },
    {
      "cell_type": "code",
      "source": [
        "y_test = np.array(test_train_labels)"
      ],
      "metadata": {
        "id": "XqsL7-lZsnuD"
      },
      "execution_count": null,
      "outputs": []
    },
    {
      "cell_type": "markdown",
      "source": [
        "## **RANDOM FOREST**"
      ],
      "metadata": {
        "id": "67pyrJXG_a8y"
      }
    },
    {
      "cell_type": "code",
      "source": [
        "from sklearn.ensemble import RandomForestClassifier\n",
        "from sklearn.metrics import classification_report\n",
        "from sklearn.feature_selection import SelectFromModel"
      ],
      "metadata": {
        "id": "kUbMvgAHSSB9"
      },
      "execution_count": null,
      "outputs": []
    },
    {
      "cell_type": "markdown",
      "source": [
        "***STANDARD SCALING***"
      ],
      "metadata": {
        "id": "ArJb702p_rHT"
      }
    },
    {
      "cell_type": "code",
      "source": [
        "#SCALING \n",
        "from sklearn.preprocessing import StandardScaler\n",
        "scaler = StandardScaler()\n",
        "X_train_scaled = pd.DataFrame(scaler.fit_transform(X_train),columns=X_train.columns)\n",
        "X_train = X_train_scaled"
      ],
      "metadata": {
        "id": "9Jk4rYDA_qTi"
      },
      "execution_count": null,
      "outputs": []
    },
    {
      "cell_type": "markdown",
      "source": [
        "***Feature selection***"
      ],
      "metadata": {
        "id": "nv5R3OkwAD8-"
      }
    },
    {
      "cell_type": "code",
      "source": [
        "sel = SelectFromModel(RandomForestClassifier(n_estimators = 100))\n",
        "sel.fit(X_train, y_train)"
      ],
      "metadata": {
        "id": "9Kct5EiR_kDx",
        "outputId": "50c03c36-298f-471e-adf1-412e1f2cf079",
        "colab": {
          "base_uri": "https://localhost:8080/"
        }
      },
      "execution_count": null,
      "outputs": [
        {
          "output_type": "execute_result",
          "data": {
            "text/plain": [
              "SelectFromModel(estimator=RandomForestClassifier())"
            ]
          },
          "metadata": {},
          "execution_count": 17
        }
      ]
    },
    {
      "cell_type": "code",
      "source": [
        "selected_feat= X_train.columns[(sel.get_support())]\n",
        "len(selected_feat)"
      ],
      "metadata": {
        "id": "1Ef3x5iiqc3w",
        "outputId": "317cdcfb-00ed-422c-d725-a8b423bc3ced",
        "colab": {
          "base_uri": "https://localhost:8080/"
        }
      },
      "execution_count": null,
      "outputs": [
        {
          "output_type": "execute_result",
          "data": {
            "text/plain": [
              "79"
            ]
          },
          "metadata": {},
          "execution_count": 18
        }
      ]
    },
    {
      "cell_type": "code",
      "source": [
        "print(selected_feat)"
      ],
      "metadata": {
        "id": "aQCTlR-xqgXC",
        "outputId": "4aad8ee6-acc5-4b19-9244-c4fb31a4daf0",
        "colab": {
          "base_uri": "https://localhost:8080/"
        }
      },
      "execution_count": null,
      "outputs": [
        {
          "output_type": "stream",
          "name": "stdout",
          "text": [
            "Index(['x_mean', 'y_mean', 'y_aad', 'z_aad', 'z_min', 'x_max', 'y_max',\n",
            "       'z_max', 'x_maxmin_diff', 'x_median', 'y_median', 'z_median', 'x_mad',\n",
            "       'y_mad', 'z_mad', 'x_IQR', 'y_IQR', 'z_IQR', 'x_skewness', 'y_skewness',\n",
            "       'z_skewness', 'x_kurtosis', 'y_kurtosis', 'z_kurtosis', 'x_energy',\n",
            "       'z_energy', 'avg_result_accl', 'sma', 'z_std_fft', 'x_aad_fft',\n",
            "       'z_aad_fft', 'x_min_fft', 'y_min_fft', 'z_min_fft', 'y_max_fft',\n",
            "       'z_max_fft', 'x_maxmin_diff_fft', 'z_maxmin_diff_fft', 'x_median_fft',\n",
            "       'y_median_fft', 'z_median_fft', 'x_mad_fft', 'y_mad_fft', 'z_mad_fft',\n",
            "       'x_IQR_fft', 'y_IQR_fft', 'z_IQR_fft', 'x_skewness_fft',\n",
            "       'y_skewness_fft', 'z_skewness_fft', 'x_kurtosis_fft', 'y_kurtosis_fft',\n",
            "       'z_kurtosis_fft', 'y_energy_fft', 'z_energy_fft', 'avg_result_accl_fft',\n",
            "       'sma_fft', 'z_argmax', 'x_argmin', 'z_argmin', 'y_arg_diff',\n",
            "       'z_argmin_fft', 'x_arg_diff_fft', 'z_arg_diff_fft', 'x_perm_entropy',\n",
            "       'x_spectral_entropy', 'x_svd_entropy', 'x_sample_entropy',\n",
            "       'x_app_entropy', 'y_perm_entropy', 'y_spectral_entropy',\n",
            "       'y_svd_entropy', 'y_sample_entropy', 'y_app_entropy', 'z_perm_entropy',\n",
            "       'z_spectral_entropy', 'z_svd_entropy', 'z_sample_entropy',\n",
            "       'z_app_entropy'],\n",
            "      dtype='object')\n"
          ]
        }
      ]
    },
    {
      "cell_type": "markdown",
      "source": [
        "***RF CLASSIFIER with all features***"
      ],
      "metadata": {
        "id": "RVFNIxVCAQjy"
      }
    },
    {
      "cell_type": "code",
      "source": [
        "clf = RandomForestClassifier(n_estimators=1000)\n",
        "clf.fit(X_train, y_train) "
      ],
      "metadata": {
        "id": "0SJmEBiw1vna",
        "outputId": "a87e0726-7904-4c18-e712-0bb175ecc1d1",
        "colab": {
          "base_uri": "https://localhost:8080/"
        }
      },
      "execution_count": null,
      "outputs": [
        {
          "output_type": "execute_result",
          "data": {
            "text/plain": [
              "RandomForestClassifier(n_estimators=1000)"
            ]
          },
          "metadata": {},
          "execution_count": 20
        }
      ]
    },
    {
      "cell_type": "markdown",
      "source": [
        "***Evaluation***"
      ],
      "metadata": {
        "id": "qzPROqpOAVGt"
      }
    },
    {
      "cell_type": "code",
      "source": [
        "from sklearn.metrics import accuracy_score\n",
        "from sklearn.metrics import classification_report\n",
        "y_pred = clf.predict(X_test)\n",
        "\n",
        "print(\"Accuracy: \\t \", accuracy_score(y_test, y_pred))\n",
        "\n",
        "print(\"\\n \\n-------------Classification Report-------------\\n\")\n",
        "print(classification_report(y_test, y_pred))\n",
        "print(\"\\n \\n-------------confusion matrix-------------\\n\")\n",
        "from sklearn.metrics import confusion_matrix\n",
        "confusion_matrix(y_test, y_pred)"
      ],
      "metadata": {
        "id": "Hypltrn_468g",
        "outputId": "ce10a8c1-c71b-42bc-e87d-e16e134d6ae0",
        "colab": {
          "base_uri": "https://localhost:8080/"
        }
      },
      "execution_count": null,
      "outputs": [
        {
          "output_type": "stream",
          "name": "stdout",
          "text": [
            "Accuracy: \t  0.49510566279388896\n",
            "\n",
            " \n",
            "-------------Classification Report-------------\n",
            "\n",
            "              precision    recall  f1-score   support\n",
            "\n",
            "           0       0.49      0.09      0.15      5495\n",
            "           1       0.50      0.91      0.64      5436\n",
            "\n",
            "    accuracy                           0.50     10931\n",
            "   macro avg       0.49      0.50      0.39     10931\n",
            "weighted avg       0.49      0.50      0.39     10931\n",
            "\n",
            "\n",
            " \n",
            "-------------confusion matrix-------------\n",
            "\n"
          ]
        },
        {
          "output_type": "execute_result",
          "data": {
            "text/plain": [
              "array([[ 477, 5018],\n",
              "       [ 501, 4935]])"
            ]
          },
          "metadata": {},
          "execution_count": 21
        }
      ]
    },
    {
      "cell_type": "code",
      "source": [
        "X_train.columns\n",
        "selected_feat"
      ],
      "metadata": {
        "id": "rnoI3rXZKWg4",
        "outputId": "239927f8-e2c3-44bc-b2cb-af8ff0a26b76",
        "colab": {
          "base_uri": "https://localhost:8080/"
        }
      },
      "execution_count": null,
      "outputs": [
        {
          "output_type": "execute_result",
          "data": {
            "text/plain": [
              "Index(['x_mean', 'y_mean', 'y_aad', 'z_aad', 'z_min', 'x_max', 'y_max',\n",
              "       'z_max', 'x_maxmin_diff', 'x_median', 'y_median', 'z_median', 'x_mad',\n",
              "       'y_mad', 'z_mad', 'x_IQR', 'y_IQR', 'z_IQR', 'x_skewness', 'y_skewness',\n",
              "       'z_skewness', 'x_kurtosis', 'y_kurtosis', 'z_kurtosis', 'x_energy',\n",
              "       'z_energy', 'avg_result_accl', 'sma', 'z_std_fft', 'x_aad_fft',\n",
              "       'z_aad_fft', 'x_min_fft', 'y_min_fft', 'z_min_fft', 'y_max_fft',\n",
              "       'z_max_fft', 'x_maxmin_diff_fft', 'z_maxmin_diff_fft', 'x_median_fft',\n",
              "       'y_median_fft', 'z_median_fft', 'x_mad_fft', 'y_mad_fft', 'z_mad_fft',\n",
              "       'x_IQR_fft', 'y_IQR_fft', 'z_IQR_fft', 'x_skewness_fft',\n",
              "       'y_skewness_fft', 'z_skewness_fft', 'x_kurtosis_fft', 'y_kurtosis_fft',\n",
              "       'z_kurtosis_fft', 'y_energy_fft', 'z_energy_fft', 'avg_result_accl_fft',\n",
              "       'sma_fft', 'z_argmax', 'x_argmin', 'z_argmin', 'y_arg_diff',\n",
              "       'z_argmin_fft', 'x_arg_diff_fft', 'z_arg_diff_fft', 'x_perm_entropy',\n",
              "       'x_spectral_entropy', 'x_svd_entropy', 'x_sample_entropy',\n",
              "       'x_app_entropy', 'y_perm_entropy', 'y_spectral_entropy',\n",
              "       'y_svd_entropy', 'y_sample_entropy', 'y_app_entropy', 'z_perm_entropy',\n",
              "       'z_spectral_entropy', 'z_svd_entropy', 'z_sample_entropy',\n",
              "       'z_app_entropy'],\n",
              "      dtype='object')"
            ]
          },
          "metadata": {},
          "execution_count": 22
        }
      ]
    },
    {
      "cell_type": "markdown",
      "source": [
        "***RF Classifier with selected features***"
      ],
      "metadata": {
        "id": "Kx4FSGz5Bzeo"
      }
    },
    {
      "cell_type": "code",
      "source": [
        "X_train_Selected = X_train[selected_feat]\n",
        "X_test_Selected = X_test[selected_feat]\n",
        "\n",
        "\n",
        "clf = RandomForestClassifier(n_estimators=1000)\n",
        "clf.fit(X_train_Selected, y_train)"
      ],
      "metadata": {
        "id": "AZ61v9DnB6p4",
        "outputId": "23705516-5a0f-4ebf-a125-66c54ee2996a",
        "colab": {
          "base_uri": "https://localhost:8080/"
        }
      },
      "execution_count": null,
      "outputs": [
        {
          "output_type": "execute_result",
          "data": {
            "text/plain": [
              "RandomForestClassifier(n_estimators=1000)"
            ]
          },
          "metadata": {},
          "execution_count": 23
        }
      ]
    },
    {
      "cell_type": "code",
      "source": [
        "from sklearn.metrics import accuracy_score\n",
        "from sklearn.metrics import classification_report\n",
        "y_pred = clf.predict(X_test_Selected)\n",
        "\n",
        "print(\"Accuracy: \\t \", accuracy_score(y_test, y_pred))\n",
        "\n",
        "print(\"\\n \\n-------------Classification Report-------------\\n\")\n",
        "print(classification_report(y_test, y_pred))\n",
        "print(\"\\n \\n-------------confusion matrix-------------\\n\")\n",
        "from sklearn.metrics import confusion_matrix\n",
        "confusion_matrix(y_test, y_pred)"
      ],
      "metadata": {
        "id": "-8_R4lvjCeve",
        "outputId": "a2ea4044-f315-404f-e78f-44466b1f6b70",
        "colab": {
          "base_uri": "https://localhost:8080/"
        }
      },
      "execution_count": null,
      "outputs": [
        {
          "output_type": "stream",
          "name": "stdout",
          "text": [
            "Accuracy: \t  0.5016009514225597\n",
            "\n",
            " \n",
            "-------------Classification Report-------------\n",
            "\n",
            "              precision    recall  f1-score   support\n",
            "\n",
            "           0       0.50      0.91      0.65      5495\n",
            "           1       0.49      0.09      0.16      5436\n",
            "\n",
            "    accuracy                           0.50     10931\n",
            "   macro avg       0.50      0.50      0.40     10931\n",
            "weighted avg       0.50      0.50      0.40     10931\n",
            "\n",
            "\n",
            " \n",
            "-------------confusion matrix-------------\n",
            "\n"
          ]
        },
        {
          "output_type": "execute_result",
          "data": {
            "text/plain": [
              "array([[4973,  522],\n",
              "       [4926,  510]])"
            ]
          },
          "metadata": {},
          "execution_count": 24
        }
      ]
    },
    {
      "cell_type": "code",
      "source": [
        "y_test"
      ],
      "metadata": {
        "id": "Ipj-s9QiM6vN",
        "outputId": "1e8396a8-4a89-4ca3-d7ae-66e8d968e161",
        "colab": {
          "base_uri": "https://localhost:8080/"
        }
      },
      "execution_count": null,
      "outputs": [
        {
          "output_type": "execute_result",
          "data": {
            "text/plain": [
              "array([0, 1, 0, ..., 1, 1, 1], dtype=int8)"
            ]
          },
          "metadata": {},
          "execution_count": 25
        }
      ]
    },
    {
      "cell_type": "code",
      "source": [
        "y_pred"
      ],
      "metadata": {
        "id": "XA2CKSYaM8vA",
        "outputId": "bdd7e480-add0-42a4-e199-00c9024de7f8",
        "colab": {
          "base_uri": "https://localhost:8080/"
        }
      },
      "execution_count": null,
      "outputs": [
        {
          "output_type": "execute_result",
          "data": {
            "text/plain": [
              "array([0, 0, 0, ..., 0, 0, 0], dtype=int8)"
            ]
          },
          "metadata": {},
          "execution_count": 26
        }
      ]
    },
    {
      "cell_type": "markdown",
      "source": [
        "## ***SVM CLASSIFIER***"
      ],
      "metadata": {
        "id": "F1J2TukINt34"
      }
    },
    {
      "cell_type": "code",
      "source": [
        "#Import svm model\n",
        "from sklearn import svm\n",
        "#Create a svm Classifier\n",
        "clf = svm.SVC(kernel='linear') # Linear Kernel\n",
        "clf.fit(X_train, y_train) "
      ],
      "metadata": {
        "id": "YlyopwnBNsw6",
        "outputId": "3ac33db2-4057-48ae-d6c6-9bd1c365f836",
        "colab": {
          "base_uri": "https://localhost:8080/"
        }
      },
      "execution_count": null,
      "outputs": [
        {
          "output_type": "execute_result",
          "data": {
            "text/plain": [
              "SVC(kernel='linear')"
            ]
          },
          "metadata": {},
          "execution_count": 27
        }
      ]
    },
    {
      "cell_type": "markdown",
      "source": [
        "# ***EVALUATION***"
      ],
      "metadata": {
        "id": "9BvZewPrODEv"
      }
    },
    {
      "cell_type": "code",
      "source": [
        "from sklearn.metrics import accuracy_score\n",
        "from sklearn.metrics import classification_report\n",
        "\n",
        "y_pred = clf.predict(X_test)\n",
        "\n",
        "print(\"Accuracy: \\t \", accuracy_score(y_test, y_pred))\n",
        "\n",
        "print(\"\\n \\n-------------Classification Report-------------\\n\")\n",
        "print(classification_report(y_test, y_pred))\n",
        "print(\"\\n \\n-------------confusion matrix-------------\\n\")\n",
        "from sklearn.metrics import confusion_matrix\n",
        "confusion_matrix(y_test, y_pred)"
      ],
      "metadata": {
        "id": "aNrFh4HTOF2V",
        "outputId": "df06a1f2-95f0-4d8d-d2e5-a87f31136caf",
        "colab": {
          "base_uri": "https://localhost:8080/"
        }
      },
      "execution_count": null,
      "outputs": [
        {
          "output_type": "stream",
          "name": "stdout",
          "text": [
            "Accuracy: \t  0.5026987466837435\n",
            "\n",
            " \n",
            "-------------Classification Report-------------\n",
            "\n",
            "              precision    recall  f1-score   support\n",
            "\n",
            "           0       0.50      1.00      0.67      5495\n",
            "           1       0.00      0.00      0.00      5436\n",
            "\n",
            "    accuracy                           0.50     10931\n",
            "   macro avg       0.25      0.50      0.33     10931\n",
            "weighted avg       0.25      0.50      0.34     10931\n",
            "\n",
            "\n",
            " \n",
            "-------------confusion matrix-------------\n",
            "\n"
          ]
        },
        {
          "output_type": "stream",
          "name": "stderr",
          "text": [
            "/usr/local/lib/python3.7/dist-packages/sklearn/metrics/_classification.py:1318: UndefinedMetricWarning: Precision and F-score are ill-defined and being set to 0.0 in labels with no predicted samples. Use `zero_division` parameter to control this behavior.\n",
            "  _warn_prf(average, modifier, msg_start, len(result))\n",
            "/usr/local/lib/python3.7/dist-packages/sklearn/metrics/_classification.py:1318: UndefinedMetricWarning: Precision and F-score are ill-defined and being set to 0.0 in labels with no predicted samples. Use `zero_division` parameter to control this behavior.\n",
            "  _warn_prf(average, modifier, msg_start, len(result))\n",
            "/usr/local/lib/python3.7/dist-packages/sklearn/metrics/_classification.py:1318: UndefinedMetricWarning: Precision and F-score are ill-defined and being set to 0.0 in labels with no predicted samples. Use `zero_division` parameter to control this behavior.\n",
            "  _warn_prf(average, modifier, msg_start, len(result))\n"
          ]
        },
        {
          "output_type": "execute_result",
          "data": {
            "text/plain": [
              "array([[5495,    0],\n",
              "       [5436,    0]])"
            ]
          },
          "metadata": {},
          "execution_count": 28
        }
      ]
    }
  ]
}