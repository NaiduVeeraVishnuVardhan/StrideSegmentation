{
  "cells": [
    {
      "cell_type": "code",
      "execution_count": null,
      "metadata": {
        "colab": {
          "base_uri": "https://localhost:8080/"
        },
        "id": "S-ZNnDFC4zII",
        "outputId": "eed15860-149c-4527-abde-3c2d7fd5b13e"
      },
      "outputs": [
        {
          "output_type": "stream",
          "name": "stdout",
          "text": [
            "Mounted at /content/drive\n"
          ]
        }
      ],
      "source": [
        "from google.colab import drive\n",
        "drive.mount('/content/drive')"
      ]
    },
    {
      "cell_type": "code",
      "execution_count": null,
      "metadata": {
        "id": "Aal8vcSpHMC0"
      },
      "outputs": [],
      "source": [
        "import keras\n",
        "from tensorflow.keras.utils import to_categorical\n",
        "from keras import models\n",
        "from keras import layers\n",
        "from keras.models import Sequential\n",
        "from keras.layers import Dense, Dropout, Activation, Flatten\n",
        "from keras.layers import Conv2D, MaxPooling2D\n",
        "from keras.layers.convolutional import Conv1D, MaxPooling1D\n",
        "from tensorflow import keras\n",
        "import pandas as pd\n",
        "import numpy as np\n",
        "import matplotlib.pyplot as plt\n",
        "import tensorflow as tf\n",
        "import keras\n",
        "import pandas as pd\n",
        "import numpy as np"
      ]
    },
    {
      "cell_type": "code",
      "execution_count": null,
      "metadata": {
        "id": "bFvy2Nem2SJt"
      },
      "outputs": [],
      "source": [
        "df = pd.read_csv('/content/drive/MyDrive/Colab Notebooks/dataset/right_ankle_dataWithlabels (1).csv')#,index_col='time_s',parse_dates=['time_s'])"
      ]
    },
    {
      "cell_type": "code",
      "execution_count": null,
      "metadata": {
        "id": "F9llyFVnR8Tn"
      },
      "outputs": [],
      "source": [
        "df = df.drop(['Unnamed: 0'], 1)\n",
        "df = df.drop(['magnitude'], 1)"
      ]
    },
    {
      "cell_type": "code",
      "execution_count": null,
      "metadata": {
        "id": "C2Gig64mou8U",
        "colab": {
          "base_uri": "https://localhost:8080/",
          "height": 424
        },
        "outputId": "1c2853ff-cae5-4880-9e1f-820e4e3a6039"
      },
      "outputs": [
        {
          "output_type": "execute_result",
          "data": {
            "text/html": [
              "\n",
              "  <div id=\"df-a180969c-9868-4c45-8644-e69a76234c12\">\n",
              "    <div class=\"colab-df-container\">\n",
              "      <div>\n",
              "<style scoped>\n",
              "    .dataframe tbody tr th:only-of-type {\n",
              "        vertical-align: middle;\n",
              "    }\n",
              "\n",
              "    .dataframe tbody tr th {\n",
              "        vertical-align: top;\n",
              "    }\n",
              "\n",
              "    .dataframe thead th {\n",
              "        text-align: right;\n",
              "    }\n",
              "</style>\n",
              "<table border=\"1\" class=\"dataframe\">\n",
              "  <thead>\n",
              "    <tr style=\"text-align: right;\">\n",
              "      <th></th>\n",
              "      <th>subj_id</th>\n",
              "      <th>loc_id</th>\n",
              "      <th>time_s</th>\n",
              "      <th>x</th>\n",
              "      <th>y</th>\n",
              "      <th>z</th>\n",
              "      <th>label</th>\n",
              "    </tr>\n",
              "  </thead>\n",
              "  <tbody>\n",
              "    <tr>\n",
              "      <th>180972</th>\n",
              "      <td>id00b70b13</td>\n",
              "      <td>right_ankle</td>\n",
              "      <td>0.00</td>\n",
              "      <td>-0.203</td>\n",
              "      <td>1.039</td>\n",
              "      <td>0.055</td>\n",
              "      <td>0.0</td>\n",
              "    </tr>\n",
              "    <tr>\n",
              "      <th>180973</th>\n",
              "      <td>id00b70b13</td>\n",
              "      <td>right_ankle</td>\n",
              "      <td>0.01</td>\n",
              "      <td>-0.191</td>\n",
              "      <td>1.039</td>\n",
              "      <td>0.055</td>\n",
              "      <td>0.0</td>\n",
              "    </tr>\n",
              "    <tr>\n",
              "      <th>180974</th>\n",
              "      <td>id00b70b13</td>\n",
              "      <td>right_ankle</td>\n",
              "      <td>0.02</td>\n",
              "      <td>-0.164</td>\n",
              "      <td>1.039</td>\n",
              "      <td>0.055</td>\n",
              "      <td>0.0</td>\n",
              "    </tr>\n",
              "    <tr>\n",
              "      <th>180975</th>\n",
              "      <td>id00b70b13</td>\n",
              "      <td>right_ankle</td>\n",
              "      <td>0.03</td>\n",
              "      <td>-0.145</td>\n",
              "      <td>1.047</td>\n",
              "      <td>0.055</td>\n",
              "      <td>0.0</td>\n",
              "    </tr>\n",
              "    <tr>\n",
              "      <th>180976</th>\n",
              "      <td>id00b70b13</td>\n",
              "      <td>right_ankle</td>\n",
              "      <td>0.04</td>\n",
              "      <td>-0.129</td>\n",
              "      <td>1.070</td>\n",
              "      <td>0.027</td>\n",
              "      <td>0.0</td>\n",
              "    </tr>\n",
              "    <tr>\n",
              "      <th>...</th>\n",
              "      <td>...</td>\n",
              "      <td>...</td>\n",
              "      <td>...</td>\n",
              "      <td>...</td>\n",
              "      <td>...</td>\n",
              "      <td>...</td>\n",
              "      <td>...</td>\n",
              "    </tr>\n",
              "    <tr>\n",
              "      <th>647607</th>\n",
              "      <td>idff99de96</td>\n",
              "      <td>right_ankle</td>\n",
              "      <td>206.71</td>\n",
              "      <td>0.098</td>\n",
              "      <td>1.059</td>\n",
              "      <td>0.090</td>\n",
              "      <td>0.0</td>\n",
              "    </tr>\n",
              "    <tr>\n",
              "      <th>647608</th>\n",
              "      <td>idff99de96</td>\n",
              "      <td>right_ankle</td>\n",
              "      <td>206.72</td>\n",
              "      <td>0.105</td>\n",
              "      <td>1.070</td>\n",
              "      <td>0.074</td>\n",
              "      <td>0.0</td>\n",
              "    </tr>\n",
              "    <tr>\n",
              "      <th>647609</th>\n",
              "      <td>idff99de96</td>\n",
              "      <td>right_ankle</td>\n",
              "      <td>206.73</td>\n",
              "      <td>0.125</td>\n",
              "      <td>1.094</td>\n",
              "      <td>0.090</td>\n",
              "      <td>0.0</td>\n",
              "    </tr>\n",
              "    <tr>\n",
              "      <th>647610</th>\n",
              "      <td>idff99de96</td>\n",
              "      <td>right_ankle</td>\n",
              "      <td>206.74</td>\n",
              "      <td>0.141</td>\n",
              "      <td>1.129</td>\n",
              "      <td>0.090</td>\n",
              "      <td>0.0</td>\n",
              "    </tr>\n",
              "    <tr>\n",
              "      <th>647611</th>\n",
              "      <td>idff99de96</td>\n",
              "      <td>right_ankle</td>\n",
              "      <td>206.75</td>\n",
              "      <td>0.074</td>\n",
              "      <td>1.215</td>\n",
              "      <td>0.105</td>\n",
              "      <td>0.0</td>\n",
              "    </tr>\n",
              "  </tbody>\n",
              "</table>\n",
              "<p>647612 rows × 7 columns</p>\n",
              "</div>\n",
              "      <button class=\"colab-df-convert\" onclick=\"convertToInteractive('df-a180969c-9868-4c45-8644-e69a76234c12')\"\n",
              "              title=\"Convert this dataframe to an interactive table.\"\n",
              "              style=\"display:none;\">\n",
              "        \n",
              "  <svg xmlns=\"http://www.w3.org/2000/svg\" height=\"24px\"viewBox=\"0 0 24 24\"\n",
              "       width=\"24px\">\n",
              "    <path d=\"M0 0h24v24H0V0z\" fill=\"none\"/>\n",
              "    <path d=\"M18.56 5.44l.94 2.06.94-2.06 2.06-.94-2.06-.94-.94-2.06-.94 2.06-2.06.94zm-11 1L8.5 8.5l.94-2.06 2.06-.94-2.06-.94L8.5 2.5l-.94 2.06-2.06.94zm10 10l.94 2.06.94-2.06 2.06-.94-2.06-.94-.94-2.06-.94 2.06-2.06.94z\"/><path d=\"M17.41 7.96l-1.37-1.37c-.4-.4-.92-.59-1.43-.59-.52 0-1.04.2-1.43.59L10.3 9.45l-7.72 7.72c-.78.78-.78 2.05 0 2.83L4 21.41c.39.39.9.59 1.41.59.51 0 1.02-.2 1.41-.59l7.78-7.78 2.81-2.81c.8-.78.8-2.07 0-2.86zM5.41 20L4 18.59l7.72-7.72 1.47 1.35L5.41 20z\"/>\n",
              "  </svg>\n",
              "      </button>\n",
              "      \n",
              "  <style>\n",
              "    .colab-df-container {\n",
              "      display:flex;\n",
              "      flex-wrap:wrap;\n",
              "      gap: 12px;\n",
              "    }\n",
              "\n",
              "    .colab-df-convert {\n",
              "      background-color: #E8F0FE;\n",
              "      border: none;\n",
              "      border-radius: 50%;\n",
              "      cursor: pointer;\n",
              "      display: none;\n",
              "      fill: #1967D2;\n",
              "      height: 32px;\n",
              "      padding: 0 0 0 0;\n",
              "      width: 32px;\n",
              "    }\n",
              "\n",
              "    .colab-df-convert:hover {\n",
              "      background-color: #E2EBFA;\n",
              "      box-shadow: 0px 1px 2px rgba(60, 64, 67, 0.3), 0px 1px 3px 1px rgba(60, 64, 67, 0.15);\n",
              "      fill: #174EA6;\n",
              "    }\n",
              "\n",
              "    [theme=dark] .colab-df-convert {\n",
              "      background-color: #3B4455;\n",
              "      fill: #D2E3FC;\n",
              "    }\n",
              "\n",
              "    [theme=dark] .colab-df-convert:hover {\n",
              "      background-color: #434B5C;\n",
              "      box-shadow: 0px 1px 3px 1px rgba(0, 0, 0, 0.15);\n",
              "      filter: drop-shadow(0px 1px 2px rgba(0, 0, 0, 0.3));\n",
              "      fill: #FFFFFF;\n",
              "    }\n",
              "  </style>\n",
              "\n",
              "      <script>\n",
              "        const buttonEl =\n",
              "          document.querySelector('#df-a180969c-9868-4c45-8644-e69a76234c12 button.colab-df-convert');\n",
              "        buttonEl.style.display =\n",
              "          google.colab.kernel.accessAllowed ? 'block' : 'none';\n",
              "\n",
              "        async function convertToInteractive(key) {\n",
              "          const element = document.querySelector('#df-a180969c-9868-4c45-8644-e69a76234c12');\n",
              "          const dataTable =\n",
              "            await google.colab.kernel.invokeFunction('convertToInteractive',\n",
              "                                                     [key], {});\n",
              "          if (!dataTable) return;\n",
              "\n",
              "          const docLinkHtml = 'Like what you see? Visit the ' +\n",
              "            '<a target=\"_blank\" href=https://colab.research.google.com/notebooks/data_table.ipynb>data table notebook</a>'\n",
              "            + ' to learn more about interactive tables.';\n",
              "          element.innerHTML = '';\n",
              "          dataTable['output_type'] = 'display_data';\n",
              "          await google.colab.output.renderOutput(dataTable, element);\n",
              "          const docLink = document.createElement('div');\n",
              "          docLink.innerHTML = docLinkHtml;\n",
              "          element.appendChild(docLink);\n",
              "        }\n",
              "      </script>\n",
              "    </div>\n",
              "  </div>\n",
              "  "
            ],
            "text/plain": [
              "           subj_id       loc_id  time_s      x      y      z  label\n",
              "180972  id00b70b13  right_ankle    0.00 -0.203  1.039  0.055    0.0\n",
              "180973  id00b70b13  right_ankle    0.01 -0.191  1.039  0.055    0.0\n",
              "180974  id00b70b13  right_ankle    0.02 -0.164  1.039  0.055    0.0\n",
              "180975  id00b70b13  right_ankle    0.03 -0.145  1.047  0.055    0.0\n",
              "180976  id00b70b13  right_ankle    0.04 -0.129  1.070  0.027    0.0\n",
              "...            ...          ...     ...    ...    ...    ...    ...\n",
              "647607  idff99de96  right_ankle  206.71  0.098  1.059  0.090    0.0\n",
              "647608  idff99de96  right_ankle  206.72  0.105  1.070  0.074    0.0\n",
              "647609  idff99de96  right_ankle  206.73  0.125  1.094  0.090    0.0\n",
              "647610  idff99de96  right_ankle  206.74  0.141  1.129  0.090    0.0\n",
              "647611  idff99de96  right_ankle  206.75  0.074  1.215  0.105    0.0\n",
              "\n",
              "[647612 rows x 7 columns]"
            ]
          },
          "metadata": {},
          "execution_count": 6
        }
      ],
      "source": [
        "df = df.sort_values(['subj_id', 'loc_id'], ascending=[True, True])\n",
        "df"
      ]
    },
    {
      "cell_type": "code",
      "source": [
        "df['subj_id'] = df['subj_id'].astype('category')\n",
        "df['subj_id'] = df['subj_id'].cat.codes\n",
        "\n",
        "df['loc_id'] = df['loc_id'].astype('category')\n",
        "df['loc_id'] = df['loc_id'].cat.codes\n",
        "\n",
        "df['label'] = df['label'].astype('category')\n",
        "df['label'] = df['label'].cat.codes"
      ],
      "metadata": {
        "id": "9TdYznmnlAMB"
      },
      "execution_count": null,
      "outputs": []
    },
    {
      "cell_type": "code",
      "source": [
        "df"
      ],
      "metadata": {
        "colab": {
          "base_uri": "https://localhost:8080/",
          "height": 424
        },
        "id": "849hR1XDlyFZ",
        "outputId": "3dab797a-1952-4c32-e409-63f7b59438d3"
      },
      "execution_count": null,
      "outputs": [
        {
          "output_type": "execute_result",
          "data": {
            "text/html": [
              "\n",
              "  <div id=\"df-32f26781-443d-4744-afe8-3b6857ec2e3b\">\n",
              "    <div class=\"colab-df-container\">\n",
              "      <div>\n",
              "<style scoped>\n",
              "    .dataframe tbody tr th:only-of-type {\n",
              "        vertical-align: middle;\n",
              "    }\n",
              "\n",
              "    .dataframe tbody tr th {\n",
              "        vertical-align: top;\n",
              "    }\n",
              "\n",
              "    .dataframe thead th {\n",
              "        text-align: right;\n",
              "    }\n",
              "</style>\n",
              "<table border=\"1\" class=\"dataframe\">\n",
              "  <thead>\n",
              "    <tr style=\"text-align: right;\">\n",
              "      <th></th>\n",
              "      <th>subj_id</th>\n",
              "      <th>loc_id</th>\n",
              "      <th>time_s</th>\n",
              "      <th>x</th>\n",
              "      <th>y</th>\n",
              "      <th>z</th>\n",
              "      <th>label</th>\n",
              "    </tr>\n",
              "  </thead>\n",
              "  <tbody>\n",
              "    <tr>\n",
              "      <th>180972</th>\n",
              "      <td>0</td>\n",
              "      <td>0</td>\n",
              "      <td>0.00</td>\n",
              "      <td>-0.203</td>\n",
              "      <td>1.039</td>\n",
              "      <td>0.055</td>\n",
              "      <td>0</td>\n",
              "    </tr>\n",
              "    <tr>\n",
              "      <th>180973</th>\n",
              "      <td>0</td>\n",
              "      <td>0</td>\n",
              "      <td>0.01</td>\n",
              "      <td>-0.191</td>\n",
              "      <td>1.039</td>\n",
              "      <td>0.055</td>\n",
              "      <td>0</td>\n",
              "    </tr>\n",
              "    <tr>\n",
              "      <th>180974</th>\n",
              "      <td>0</td>\n",
              "      <td>0</td>\n",
              "      <td>0.02</td>\n",
              "      <td>-0.164</td>\n",
              "      <td>1.039</td>\n",
              "      <td>0.055</td>\n",
              "      <td>0</td>\n",
              "    </tr>\n",
              "    <tr>\n",
              "      <th>180975</th>\n",
              "      <td>0</td>\n",
              "      <td>0</td>\n",
              "      <td>0.03</td>\n",
              "      <td>-0.145</td>\n",
              "      <td>1.047</td>\n",
              "      <td>0.055</td>\n",
              "      <td>0</td>\n",
              "    </tr>\n",
              "    <tr>\n",
              "      <th>180976</th>\n",
              "      <td>0</td>\n",
              "      <td>0</td>\n",
              "      <td>0.04</td>\n",
              "      <td>-0.129</td>\n",
              "      <td>1.070</td>\n",
              "      <td>0.027</td>\n",
              "      <td>0</td>\n",
              "    </tr>\n",
              "    <tr>\n",
              "      <th>...</th>\n",
              "      <td>...</td>\n",
              "      <td>...</td>\n",
              "      <td>...</td>\n",
              "      <td>...</td>\n",
              "      <td>...</td>\n",
              "      <td>...</td>\n",
              "      <td>...</td>\n",
              "    </tr>\n",
              "    <tr>\n",
              "      <th>647607</th>\n",
              "      <td>31</td>\n",
              "      <td>0</td>\n",
              "      <td>206.71</td>\n",
              "      <td>0.098</td>\n",
              "      <td>1.059</td>\n",
              "      <td>0.090</td>\n",
              "      <td>0</td>\n",
              "    </tr>\n",
              "    <tr>\n",
              "      <th>647608</th>\n",
              "      <td>31</td>\n",
              "      <td>0</td>\n",
              "      <td>206.72</td>\n",
              "      <td>0.105</td>\n",
              "      <td>1.070</td>\n",
              "      <td>0.074</td>\n",
              "      <td>0</td>\n",
              "    </tr>\n",
              "    <tr>\n",
              "      <th>647609</th>\n",
              "      <td>31</td>\n",
              "      <td>0</td>\n",
              "      <td>206.73</td>\n",
              "      <td>0.125</td>\n",
              "      <td>1.094</td>\n",
              "      <td>0.090</td>\n",
              "      <td>0</td>\n",
              "    </tr>\n",
              "    <tr>\n",
              "      <th>647610</th>\n",
              "      <td>31</td>\n",
              "      <td>0</td>\n",
              "      <td>206.74</td>\n",
              "      <td>0.141</td>\n",
              "      <td>1.129</td>\n",
              "      <td>0.090</td>\n",
              "      <td>0</td>\n",
              "    </tr>\n",
              "    <tr>\n",
              "      <th>647611</th>\n",
              "      <td>31</td>\n",
              "      <td>0</td>\n",
              "      <td>206.75</td>\n",
              "      <td>0.074</td>\n",
              "      <td>1.215</td>\n",
              "      <td>0.105</td>\n",
              "      <td>0</td>\n",
              "    </tr>\n",
              "  </tbody>\n",
              "</table>\n",
              "<p>647612 rows × 7 columns</p>\n",
              "</div>\n",
              "      <button class=\"colab-df-convert\" onclick=\"convertToInteractive('df-32f26781-443d-4744-afe8-3b6857ec2e3b')\"\n",
              "              title=\"Convert this dataframe to an interactive table.\"\n",
              "              style=\"display:none;\">\n",
              "        \n",
              "  <svg xmlns=\"http://www.w3.org/2000/svg\" height=\"24px\"viewBox=\"0 0 24 24\"\n",
              "       width=\"24px\">\n",
              "    <path d=\"M0 0h24v24H0V0z\" fill=\"none\"/>\n",
              "    <path d=\"M18.56 5.44l.94 2.06.94-2.06 2.06-.94-2.06-.94-.94-2.06-.94 2.06-2.06.94zm-11 1L8.5 8.5l.94-2.06 2.06-.94-2.06-.94L8.5 2.5l-.94 2.06-2.06.94zm10 10l.94 2.06.94-2.06 2.06-.94-2.06-.94-.94-2.06-.94 2.06-2.06.94z\"/><path d=\"M17.41 7.96l-1.37-1.37c-.4-.4-.92-.59-1.43-.59-.52 0-1.04.2-1.43.59L10.3 9.45l-7.72 7.72c-.78.78-.78 2.05 0 2.83L4 21.41c.39.39.9.59 1.41.59.51 0 1.02-.2 1.41-.59l7.78-7.78 2.81-2.81c.8-.78.8-2.07 0-2.86zM5.41 20L4 18.59l7.72-7.72 1.47 1.35L5.41 20z\"/>\n",
              "  </svg>\n",
              "      </button>\n",
              "      \n",
              "  <style>\n",
              "    .colab-df-container {\n",
              "      display:flex;\n",
              "      flex-wrap:wrap;\n",
              "      gap: 12px;\n",
              "    }\n",
              "\n",
              "    .colab-df-convert {\n",
              "      background-color: #E8F0FE;\n",
              "      border: none;\n",
              "      border-radius: 50%;\n",
              "      cursor: pointer;\n",
              "      display: none;\n",
              "      fill: #1967D2;\n",
              "      height: 32px;\n",
              "      padding: 0 0 0 0;\n",
              "      width: 32px;\n",
              "    }\n",
              "\n",
              "    .colab-df-convert:hover {\n",
              "      background-color: #E2EBFA;\n",
              "      box-shadow: 0px 1px 2px rgba(60, 64, 67, 0.3), 0px 1px 3px 1px rgba(60, 64, 67, 0.15);\n",
              "      fill: #174EA6;\n",
              "    }\n",
              "\n",
              "    [theme=dark] .colab-df-convert {\n",
              "      background-color: #3B4455;\n",
              "      fill: #D2E3FC;\n",
              "    }\n",
              "\n",
              "    [theme=dark] .colab-df-convert:hover {\n",
              "      background-color: #434B5C;\n",
              "      box-shadow: 0px 1px 3px 1px rgba(0, 0, 0, 0.15);\n",
              "      filter: drop-shadow(0px 1px 2px rgba(0, 0, 0, 0.3));\n",
              "      fill: #FFFFFF;\n",
              "    }\n",
              "  </style>\n",
              "\n",
              "      <script>\n",
              "        const buttonEl =\n",
              "          document.querySelector('#df-32f26781-443d-4744-afe8-3b6857ec2e3b button.colab-df-convert');\n",
              "        buttonEl.style.display =\n",
              "          google.colab.kernel.accessAllowed ? 'block' : 'none';\n",
              "\n",
              "        async function convertToInteractive(key) {\n",
              "          const element = document.querySelector('#df-32f26781-443d-4744-afe8-3b6857ec2e3b');\n",
              "          const dataTable =\n",
              "            await google.colab.kernel.invokeFunction('convertToInteractive',\n",
              "                                                     [key], {});\n",
              "          if (!dataTable) return;\n",
              "\n",
              "          const docLinkHtml = 'Like what you see? Visit the ' +\n",
              "            '<a target=\"_blank\" href=https://colab.research.google.com/notebooks/data_table.ipynb>data table notebook</a>'\n",
              "            + ' to learn more about interactive tables.';\n",
              "          element.innerHTML = '';\n",
              "          dataTable['output_type'] = 'display_data';\n",
              "          await google.colab.output.renderOutput(dataTable, element);\n",
              "          const docLink = document.createElement('div');\n",
              "          docLink.innerHTML = docLinkHtml;\n",
              "          element.appendChild(docLink);\n",
              "        }\n",
              "      </script>\n",
              "    </div>\n",
              "  </div>\n",
              "  "
            ],
            "text/plain": [
              "        subj_id  loc_id  time_s      x      y      z  label\n",
              "180972        0       0    0.00 -0.203  1.039  0.055      0\n",
              "180973        0       0    0.01 -0.191  1.039  0.055      0\n",
              "180974        0       0    0.02 -0.164  1.039  0.055      0\n",
              "180975        0       0    0.03 -0.145  1.047  0.055      0\n",
              "180976        0       0    0.04 -0.129  1.070  0.027      0\n",
              "...         ...     ...     ...    ...    ...    ...    ...\n",
              "647607       31       0  206.71  0.098  1.059  0.090      0\n",
              "647608       31       0  206.72  0.105  1.070  0.074      0\n",
              "647609       31       0  206.73  0.125  1.094  0.090      0\n",
              "647610       31       0  206.74  0.141  1.129  0.090      0\n",
              "647611       31       0  206.75  0.074  1.215  0.105      0\n",
              "\n",
              "[647612 rows x 7 columns]"
            ]
          },
          "metadata": {},
          "execution_count": 8
        }
      ]
    },
    {
      "cell_type": "markdown",
      "source": [
        "# ***SCALING***"
      ],
      "metadata": {
        "id": "PzOCsTe1rL7N"
      }
    },
    {
      "cell_type": "code",
      "source": [
        "from sklearn.preprocessing import MinMaxScaler\n",
        "# define min max scaler\n",
        "scaler = MinMaxScaler()\n",
        "\n",
        "# df1 = df[['loc_id','magnitude','label']]\n",
        "# df1"
      ],
      "metadata": {
        "id": "LVySi3MeziCA"
      },
      "execution_count": null,
      "outputs": []
    },
    {
      "cell_type": "code",
      "source": [
        "df_scaled = pd.DataFrame(scaler.fit_transform(df),columns=df.columns)\n",
        "\n",
        "# df = pd.concat([df['subj_id'], df1], axis=1)\n",
        "df = df_scaled"
      ],
      "metadata": {
        "id": "eKVi5zggzvjT"
      },
      "execution_count": null,
      "outputs": []
    },
    {
      "cell_type": "code",
      "source": [
        "df"
      ],
      "metadata": {
        "colab": {
          "base_uri": "https://localhost:8080/",
          "height": 424
        },
        "id": "vz8ncZHwmMCR",
        "outputId": "740817dd-f58f-4de8-e7cd-2b105d6ba91a"
      },
      "execution_count": null,
      "outputs": [
        {
          "output_type": "execute_result",
          "data": {
            "text/html": [
              "\n",
              "  <div id=\"df-d1ff04ea-9ed5-4fd1-9fe6-2cfe2bd85a0d\">\n",
              "    <div class=\"colab-df-container\">\n",
              "      <div>\n",
              "<style scoped>\n",
              "    .dataframe tbody tr th:only-of-type {\n",
              "        vertical-align: middle;\n",
              "    }\n",
              "\n",
              "    .dataframe tbody tr th {\n",
              "        vertical-align: top;\n",
              "    }\n",
              "\n",
              "    .dataframe thead th {\n",
              "        text-align: right;\n",
              "    }\n",
              "</style>\n",
              "<table border=\"1\" class=\"dataframe\">\n",
              "  <thead>\n",
              "    <tr style=\"text-align: right;\">\n",
              "      <th></th>\n",
              "      <th>subj_id</th>\n",
              "      <th>loc_id</th>\n",
              "      <th>time_s</th>\n",
              "      <th>x</th>\n",
              "      <th>y</th>\n",
              "      <th>z</th>\n",
              "      <th>label</th>\n",
              "    </tr>\n",
              "  </thead>\n",
              "  <tbody>\n",
              "    <tr>\n",
              "      <th>0</th>\n",
              "      <td>0.0</td>\n",
              "      <td>0.0</td>\n",
              "      <td>0.000000</td>\n",
              "      <td>0.479146</td>\n",
              "      <td>0.521769</td>\n",
              "      <td>0.440714</td>\n",
              "      <td>0.0</td>\n",
              "    </tr>\n",
              "    <tr>\n",
              "      <th>1</th>\n",
              "      <td>0.0</td>\n",
              "      <td>0.0</td>\n",
              "      <td>0.000041</td>\n",
              "      <td>0.480131</td>\n",
              "      <td>0.521769</td>\n",
              "      <td>0.440714</td>\n",
              "      <td>0.0</td>\n",
              "    </tr>\n",
              "    <tr>\n",
              "      <th>2</th>\n",
              "      <td>0.0</td>\n",
              "      <td>0.0</td>\n",
              "      <td>0.000083</td>\n",
              "      <td>0.482348</td>\n",
              "      <td>0.521769</td>\n",
              "      <td>0.440714</td>\n",
              "      <td>0.0</td>\n",
              "    </tr>\n",
              "    <tr>\n",
              "      <th>3</th>\n",
              "      <td>0.0</td>\n",
              "      <td>0.0</td>\n",
              "      <td>0.000124</td>\n",
              "      <td>0.483908</td>\n",
              "      <td>0.522466</td>\n",
              "      <td>0.440714</td>\n",
              "      <td>0.0</td>\n",
              "    </tr>\n",
              "    <tr>\n",
              "      <th>4</th>\n",
              "      <td>0.0</td>\n",
              "      <td>0.0</td>\n",
              "      <td>0.000166</td>\n",
              "      <td>0.485222</td>\n",
              "      <td>0.524469</td>\n",
              "      <td>0.437891</td>\n",
              "      <td>0.0</td>\n",
              "    </tr>\n",
              "    <tr>\n",
              "      <th>...</th>\n",
              "      <td>...</td>\n",
              "      <td>...</td>\n",
              "      <td>...</td>\n",
              "      <td>...</td>\n",
              "      <td>...</td>\n",
              "      <td>...</td>\n",
              "      <td>...</td>\n",
              "    </tr>\n",
              "    <tr>\n",
              "      <th>647607</th>\n",
              "      <td>1.0</td>\n",
              "      <td>0.0</td>\n",
              "      <td>0.855836</td>\n",
              "      <td>0.503859</td>\n",
              "      <td>0.523511</td>\n",
              "      <td>0.444243</td>\n",
              "      <td>0.0</td>\n",
              "    </tr>\n",
              "    <tr>\n",
              "      <th>647608</th>\n",
              "      <td>1.0</td>\n",
              "      <td>0.0</td>\n",
              "      <td>0.855877</td>\n",
              "      <td>0.504433</td>\n",
              "      <td>0.524469</td>\n",
              "      <td>0.442630</td>\n",
              "      <td>0.0</td>\n",
              "    </tr>\n",
              "    <tr>\n",
              "      <th>647609</th>\n",
              "      <td>1.0</td>\n",
              "      <td>0.0</td>\n",
              "      <td>0.855919</td>\n",
              "      <td>0.506076</td>\n",
              "      <td>0.526559</td>\n",
              "      <td>0.444243</td>\n",
              "      <td>0.0</td>\n",
              "    </tr>\n",
              "    <tr>\n",
              "      <th>647610</th>\n",
              "      <td>1.0</td>\n",
              "      <td>0.0</td>\n",
              "      <td>0.855960</td>\n",
              "      <td>0.507389</td>\n",
              "      <td>0.529606</td>\n",
              "      <td>0.444243</td>\n",
              "      <td>0.0</td>\n",
              "    </tr>\n",
              "    <tr>\n",
              "      <th>647611</th>\n",
              "      <td>1.0</td>\n",
              "      <td>0.0</td>\n",
              "      <td>0.856001</td>\n",
              "      <td>0.501888</td>\n",
              "      <td>0.537095</td>\n",
              "      <td>0.445755</td>\n",
              "      <td>0.0</td>\n",
              "    </tr>\n",
              "  </tbody>\n",
              "</table>\n",
              "<p>647612 rows × 7 columns</p>\n",
              "</div>\n",
              "      <button class=\"colab-df-convert\" onclick=\"convertToInteractive('df-d1ff04ea-9ed5-4fd1-9fe6-2cfe2bd85a0d')\"\n",
              "              title=\"Convert this dataframe to an interactive table.\"\n",
              "              style=\"display:none;\">\n",
              "        \n",
              "  <svg xmlns=\"http://www.w3.org/2000/svg\" height=\"24px\"viewBox=\"0 0 24 24\"\n",
              "       width=\"24px\">\n",
              "    <path d=\"M0 0h24v24H0V0z\" fill=\"none\"/>\n",
              "    <path d=\"M18.56 5.44l.94 2.06.94-2.06 2.06-.94-2.06-.94-.94-2.06-.94 2.06-2.06.94zm-11 1L8.5 8.5l.94-2.06 2.06-.94-2.06-.94L8.5 2.5l-.94 2.06-2.06.94zm10 10l.94 2.06.94-2.06 2.06-.94-2.06-.94-.94-2.06-.94 2.06-2.06.94z\"/><path d=\"M17.41 7.96l-1.37-1.37c-.4-.4-.92-.59-1.43-.59-.52 0-1.04.2-1.43.59L10.3 9.45l-7.72 7.72c-.78.78-.78 2.05 0 2.83L4 21.41c.39.39.9.59 1.41.59.51 0 1.02-.2 1.41-.59l7.78-7.78 2.81-2.81c.8-.78.8-2.07 0-2.86zM5.41 20L4 18.59l7.72-7.72 1.47 1.35L5.41 20z\"/>\n",
              "  </svg>\n",
              "      </button>\n",
              "      \n",
              "  <style>\n",
              "    .colab-df-container {\n",
              "      display:flex;\n",
              "      flex-wrap:wrap;\n",
              "      gap: 12px;\n",
              "    }\n",
              "\n",
              "    .colab-df-convert {\n",
              "      background-color: #E8F0FE;\n",
              "      border: none;\n",
              "      border-radius: 50%;\n",
              "      cursor: pointer;\n",
              "      display: none;\n",
              "      fill: #1967D2;\n",
              "      height: 32px;\n",
              "      padding: 0 0 0 0;\n",
              "      width: 32px;\n",
              "    }\n",
              "\n",
              "    .colab-df-convert:hover {\n",
              "      background-color: #E2EBFA;\n",
              "      box-shadow: 0px 1px 2px rgba(60, 64, 67, 0.3), 0px 1px 3px 1px rgba(60, 64, 67, 0.15);\n",
              "      fill: #174EA6;\n",
              "    }\n",
              "\n",
              "    [theme=dark] .colab-df-convert {\n",
              "      background-color: #3B4455;\n",
              "      fill: #D2E3FC;\n",
              "    }\n",
              "\n",
              "    [theme=dark] .colab-df-convert:hover {\n",
              "      background-color: #434B5C;\n",
              "      box-shadow: 0px 1px 3px 1px rgba(0, 0, 0, 0.15);\n",
              "      filter: drop-shadow(0px 1px 2px rgba(0, 0, 0, 0.3));\n",
              "      fill: #FFFFFF;\n",
              "    }\n",
              "  </style>\n",
              "\n",
              "      <script>\n",
              "        const buttonEl =\n",
              "          document.querySelector('#df-d1ff04ea-9ed5-4fd1-9fe6-2cfe2bd85a0d button.colab-df-convert');\n",
              "        buttonEl.style.display =\n",
              "          google.colab.kernel.accessAllowed ? 'block' : 'none';\n",
              "\n",
              "        async function convertToInteractive(key) {\n",
              "          const element = document.querySelector('#df-d1ff04ea-9ed5-4fd1-9fe6-2cfe2bd85a0d');\n",
              "          const dataTable =\n",
              "            await google.colab.kernel.invokeFunction('convertToInteractive',\n",
              "                                                     [key], {});\n",
              "          if (!dataTable) return;\n",
              "\n",
              "          const docLinkHtml = 'Like what you see? Visit the ' +\n",
              "            '<a target=\"_blank\" href=https://colab.research.google.com/notebooks/data_table.ipynb>data table notebook</a>'\n",
              "            + ' to learn more about interactive tables.';\n",
              "          element.innerHTML = '';\n",
              "          dataTable['output_type'] = 'display_data';\n",
              "          await google.colab.output.renderOutput(dataTable, element);\n",
              "          const docLink = document.createElement('div');\n",
              "          docLink.innerHTML = docLinkHtml;\n",
              "          element.appendChild(docLink);\n",
              "        }\n",
              "      </script>\n",
              "    </div>\n",
              "  </div>\n",
              "  "
            ],
            "text/plain": [
              "        subj_id  loc_id    time_s         x         y         z  label\n",
              "0           0.0     0.0  0.000000  0.479146  0.521769  0.440714    0.0\n",
              "1           0.0     0.0  0.000041  0.480131  0.521769  0.440714    0.0\n",
              "2           0.0     0.0  0.000083  0.482348  0.521769  0.440714    0.0\n",
              "3           0.0     0.0  0.000124  0.483908  0.522466  0.440714    0.0\n",
              "4           0.0     0.0  0.000166  0.485222  0.524469  0.437891    0.0\n",
              "...         ...     ...       ...       ...       ...       ...    ...\n",
              "647607      1.0     0.0  0.855836  0.503859  0.523511  0.444243    0.0\n",
              "647608      1.0     0.0  0.855877  0.504433  0.524469  0.442630    0.0\n",
              "647609      1.0     0.0  0.855919  0.506076  0.526559  0.444243    0.0\n",
              "647610      1.0     0.0  0.855960  0.507389  0.529606  0.444243    0.0\n",
              "647611      1.0     0.0  0.856001  0.501888  0.537095  0.445755    0.0\n",
              "\n",
              "[647612 rows x 7 columns]"
            ]
          },
          "metadata": {},
          "execution_count": 11
        }
      ]
    },
    {
      "cell_type": "markdown",
      "metadata": {
        "id": "ANLu_ZipsPwL"
      },
      "source": [
        "# **TRAINING AND TEST DATA**\n",
        "\n",
        "\n",
        "\n",
        "*   Total data   : 32 Subjects\n",
        "*   Training data: 25 subjects\n",
        "*   Test data    : 7 subjects\n",
        "\n"
      ]
    },
    {
      "cell_type": "code",
      "execution_count": null,
      "metadata": {
        "colab": {
          "base_uri": "https://localhost:8080/"
        },
        "id": "G4nuj79VrQXf",
        "outputId": "1637406b-a762-4b86-f01a-e338c80717dd"
      },
      "outputs": [
        {
          "output_type": "execute_result",
          "data": {
            "text/plain": [
              "array([0.        , 0.03225806, 0.06451613, 0.09677419, 0.12903226,\n",
              "       0.16129032, 0.19354839, 0.22580645, 0.25806452, 0.29032258,\n",
              "       0.32258065, 0.35483871, 0.38709677, 0.41935484, 0.4516129 ,\n",
              "       0.48387097, 0.51612903, 0.5483871 , 0.58064516, 0.61290323,\n",
              "       0.64516129, 0.67741935, 0.70967742, 0.74193548, 0.77419355])"
            ]
          },
          "metadata": {},
          "execution_count": 12
        }
      ],
      "source": [
        "df.subj_id.unique()[:25]"
      ]
    },
    {
      "cell_type": "code",
      "execution_count": null,
      "metadata": {
        "id": "zYAQ_Ve3l2D8"
      },
      "outputs": [],
      "source": [
        "df_train = df[df.subj_id.isin( df.subj_id.unique()[:25] ) ] "
      ]
    },
    {
      "cell_type": "code",
      "execution_count": null,
      "metadata": {
        "id": "ojmC32gDsN3O"
      },
      "outputs": [],
      "source": [
        "df_test = df[df.subj_id.isin( df.subj_id.unique()[25:] )]"
      ]
    },
    {
      "cell_type": "markdown",
      "metadata": {
        "id": "ZmliWGVFnAS8"
      },
      "source": [
        "# ***Every subject was timed for 15minutes ***"
      ]
    },
    {
      "cell_type": "markdown",
      "source": [
        "# **overlapping windows with 50% overlap - Window size :50 Step size:50**"
      ],
      "metadata": {
        "id": "H2VfR8uGs1u2"
      }
    },
    {
      "cell_type": "code",
      "source": [
        "from scipy import stats\n",
        "x_list = []\n",
        "y_list = []\n",
        "\n",
        "train_labels = []\n",
        "new_list = []\n",
        "\n",
        "window_size = 50\n",
        "step_size = 50\n",
        "\n",
        "for i in range(0, df_train.shape[0] - window_size, step_size):\n",
        "    xs = df_train['x'].values[i: i + 50]\n",
        "    xs1 = df_train['y'].values[i: i + 50]\n",
        "    xs2 = df_train['z'].values[i: i + 50]\n",
        "    # ys = df_train['loc_id'].values[i: i + 50]\n",
        "    # zs = df_train['subj_id'].values[i: i + 50]\n",
        "    label = stats.mode(df_train['label'][i: i + 50])[0][0]\n",
        "    a = np.c_[ xs,xs1,xs2 ]\n",
        "    new_list.append(a)\n",
        "    train_labels.append(label)\n",
        "\n",
        "Xtrain = np.array(new_list)"
      ],
      "metadata": {
        "id": "97q9Vc5Z8gCM"
      },
      "execution_count": null,
      "outputs": []
    },
    {
      "cell_type": "code",
      "source": [
        "train_x = np.asarray(Xtrain)\n",
        "train_y = np.asarray(train_labels)"
      ],
      "metadata": {
        "id": "9KUV1gJUCvgJ"
      },
      "execution_count": null,
      "outputs": []
    },
    {
      "cell_type": "markdown",
      "source": [
        "# ***CNN***"
      ],
      "metadata": {
        "id": "77jXq7rUqtcE"
      }
    },
    {
      "cell_type": "code",
      "execution_count": null,
      "metadata": {
        "colab": {
          "base_uri": "https://localhost:8080/"
        },
        "id": "-wtjp39fhHFL",
        "outputId": "effa7651-770f-44a2-e486-2b5f6b2d93dd"
      },
      "outputs": [
        {
          "output_type": "stream",
          "name": "stdout",
          "text": [
            "Model: \"sequential\"\n",
            "_________________________________________________________________\n",
            " Layer (type)                Output Shape              Param #   \n",
            "=================================================================\n",
            " conv1d (Conv1D)             (None, 49, 160)           1120      \n",
            "                                                                 \n",
            " max_pooling1d (MaxPooling1D  (None, 49, 160)          0         \n",
            " )                                                               \n",
            "                                                                 \n",
            " conv1d_1 (Conv1D)           (None, 48, 128)           41088     \n",
            "                                                                 \n",
            " max_pooling1d_1 (MaxPooling  (None, 48, 128)          0         \n",
            " 1D)                                                             \n",
            "                                                                 \n",
            " conv1d_2 (Conv1D)           (None, 47, 96)            24672     \n",
            "                                                                 \n",
            " max_pooling1d_2 (MaxPooling  (None, 47, 96)           0         \n",
            " 1D)                                                             \n",
            "                                                                 \n",
            " flatten (Flatten)           (None, 4512)              0         \n",
            "                                                                 \n",
            " dropout (Dropout)           (None, 4512)              0         \n",
            "                                                                 \n",
            " dense (Dense)               (None, 1)                 4513      \n",
            "                                                                 \n",
            "=================================================================\n",
            "Total params: 71,393\n",
            "Trainable params: 71,393\n",
            "Non-trainable params: 0\n",
            "_________________________________________________________________\n"
          ]
        }
      ],
      "source": [
        "model_cnn = Sequential() \n",
        "\n",
        "model_cnn.add(Conv1D(filters=160, kernel_size=2, activation='relu', input_shape=(50,3)))\n",
        "\n",
        "model_cnn.add(MaxPooling1D(pool_size=1))\n",
        "model_cnn.add(Conv1D(filters=128, kernel_size=2, activation='relu'))\n",
        "model_cnn.add(MaxPooling1D(pool_size=1))\n",
        "model_cnn.add(Conv1D(filters=96, kernel_size=2, activation='relu'))\n",
        "# model_cnn.add(Conv1D(filters=64, kernel_size=2, activation='relu'))\n",
        "model_cnn.add(MaxPooling1D(pool_size=1))\n",
        "model_cnn.add(Flatten())\n",
        "model_cnn.add(Dropout(0.5))\n",
        "# model_cnn.add(Dense(64, activation='sigmoid'))\n",
        "model_cnn.add(Dense(1,activation='sigmoid'))\n",
        "\n",
        "model_cnn.compile(loss='binary_crossentropy', optimizer=\"adam\", metrics = [\"accuracy\", tf.keras.metrics.Recall(), tf.keras.metrics.Precision()])\n",
        "model_cnn.summary()"
      ]
    },
    {
      "cell_type": "code",
      "execution_count": null,
      "metadata": {
        "id": "CV-uOkMQOC1a",
        "colab": {
          "base_uri": "https://localhost:8080/"
        },
        "outputId": "78fad07a-17da-4e47-da06-b43e3469e7d3"
      },
      "outputs": [
        {
          "output_type": "stream",
          "name": "stdout",
          "text": [
            "Epoch 1/100\n",
            "11/11 [==============================] - 11s 106ms/step - loss: 0.6932 - accuracy: 0.5149 - recall: 0.3299 - precision: 0.5045\n",
            "Epoch 2/100\n",
            "11/11 [==============================] - 1s 53ms/step - loss: 0.6935 - accuracy: 0.5082 - recall: 0.2688 - precision: 0.4930\n",
            "Epoch 3/100\n",
            "11/11 [==============================] - 1s 53ms/step - loss: 0.6931 - accuracy: 0.5103 - recall: 0.2931 - precision: 0.4971\n",
            "Epoch 4/100\n",
            "11/11 [==============================] - 1s 53ms/step - loss: 0.6935 - accuracy: 0.5094 - recall: 0.0835 - precision: 0.4847\n",
            "Epoch 5/100\n",
            "11/11 [==============================] - 1s 54ms/step - loss: 0.6929 - accuracy: 0.5072 - recall: 0.2850 - precision: 0.4915\n",
            "Epoch 6/100\n",
            "11/11 [==============================] - 1s 53ms/step - loss: 0.6928 - accuracy: 0.5059 - recall: 0.1610 - precision: 0.4813\n",
            "Epoch 7/100\n",
            "11/11 [==============================] - 1s 54ms/step - loss: 0.6929 - accuracy: 0.5121 - recall: 0.0332 - precision: 0.5015\n",
            "Epoch 8/100\n",
            "11/11 [==============================] - 1s 53ms/step - loss: 0.6929 - accuracy: 0.5076 - recall: 0.3366 - precision: 0.4933\n",
            "Epoch 9/100\n",
            "11/11 [==============================] - 1s 54ms/step - loss: 0.6929 - accuracy: 0.5082 - recall: 0.1646 - precision: 0.4886\n",
            "Epoch 10/100\n",
            "11/11 [==============================] - 1s 53ms/step - loss: 0.6927 - accuracy: 0.5124 - recall: 0.0661 - precision: 0.5031\n",
            "Epoch 11/100\n",
            "11/11 [==============================] - 1s 53ms/step - loss: 0.6928 - accuracy: 0.5114 - recall: 0.0172 - precision: 0.4830\n",
            "Epoch 12/100\n",
            "11/11 [==============================] - 1s 54ms/step - loss: 0.6923 - accuracy: 0.5155 - recall: 0.1837 - precision: 0.5101\n",
            "Epoch 13/100\n",
            "11/11 [==============================] - 1s 54ms/step - loss: 0.6928 - accuracy: 0.5124 - recall: 0.0261 - precision: 0.5079\n",
            "Epoch 14/100\n",
            "11/11 [==============================] - 1s 53ms/step - loss: 0.6929 - accuracy: 0.5108 - recall: 0.4211 - precision: 0.4986\n",
            "Epoch 15/100\n",
            "11/11 [==============================] - 1s 55ms/step - loss: 0.6923 - accuracy: 0.5196 - recall: 0.2346 - precision: 0.5172\n",
            "Epoch 16/100\n",
            "11/11 [==============================] - 1s 53ms/step - loss: 0.6926 - accuracy: 0.5166 - recall: 0.0560 - precision: 0.5464\n",
            "Epoch 17/100\n",
            "11/11 [==============================] - 1s 53ms/step - loss: 0.6925 - accuracy: 0.5133 - recall: 0.5481 - precision: 0.5012\n",
            "Epoch 18/100\n",
            "11/11 [==============================] - 1s 53ms/step - loss: 0.6924 - accuracy: 0.5153 - recall: 0.2065 - precision: 0.5085\n",
            "Epoch 19/100\n",
            "11/11 [==============================] - 1s 53ms/step - loss: 0.6920 - accuracy: 0.5220 - recall: 0.3111 - precision: 0.5170\n",
            "Epoch 20/100\n",
            "11/11 [==============================] - 1s 54ms/step - loss: 0.6926 - accuracy: 0.5127 - recall: 0.2567 - precision: 0.5014\n",
            "Epoch 21/100\n",
            "11/11 [==============================] - 1s 52ms/step - loss: 0.6924 - accuracy: 0.5177 - recall: 0.2668 - precision: 0.5112\n",
            "Epoch 22/100\n",
            "11/11 [==============================] - 1s 52ms/step - loss: 0.6920 - accuracy: 0.5174 - recall: 0.3451 - precision: 0.5082\n",
            "Epoch 23/100\n",
            "11/11 [==============================] - 1s 53ms/step - loss: 0.6917 - accuracy: 0.5167 - recall: 0.3457 - precision: 0.5071\n",
            "Epoch 24/100\n",
            "11/11 [==============================] - 1s 54ms/step - loss: 0.6916 - accuracy: 0.5194 - recall: 0.1845 - precision: 0.5214\n",
            "Epoch 25/100\n",
            "11/11 [==============================] - 1s 53ms/step - loss: 0.6916 - accuracy: 0.5181 - recall: 0.4413 - precision: 0.5072\n",
            "Epoch 26/100\n",
            "11/11 [==============================] - 1s 53ms/step - loss: 0.6914 - accuracy: 0.5185 - recall: 0.3641 - precision: 0.5093\n",
            "Epoch 27/100\n",
            "11/11 [==============================] - 1s 55ms/step - loss: 0.6913 - accuracy: 0.5232 - recall: 0.3054 - precision: 0.5196\n",
            "Epoch 28/100\n",
            "11/11 [==============================] - 1s 53ms/step - loss: 0.6911 - accuracy: 0.5225 - recall: 0.3343 - precision: 0.5166\n",
            "Epoch 29/100\n",
            "11/11 [==============================] - 1s 55ms/step - loss: 0.6914 - accuracy: 0.5184 - recall: 0.2429 - precision: 0.5139\n",
            "Epoch 30/100\n",
            "11/11 [==============================] - 1s 52ms/step - loss: 0.6913 - accuracy: 0.5180 - recall: 0.1655 - precision: 0.5194\n",
            "Epoch 31/100\n",
            "11/11 [==============================] - 1s 53ms/step - loss: 0.6908 - accuracy: 0.5200 - recall: 0.4100 - precision: 0.5102\n",
            "Epoch 32/100\n",
            "11/11 [==============================] - 1s 53ms/step - loss: 0.6905 - accuracy: 0.5239 - recall: 0.3768 - precision: 0.5168\n",
            "Epoch 33/100\n",
            "11/11 [==============================] - 1s 53ms/step - loss: 0.6908 - accuracy: 0.5187 - recall: 0.3453 - precision: 0.5102\n",
            "Epoch 34/100\n",
            "11/11 [==============================] - 1s 54ms/step - loss: 0.6906 - accuracy: 0.5252 - recall: 0.3483 - precision: 0.5202\n",
            "Epoch 35/100\n",
            "11/11 [==============================] - 1s 53ms/step - loss: 0.6901 - accuracy: 0.5272 - recall: 0.3083 - precision: 0.5266\n",
            "Epoch 36/100\n",
            "11/11 [==============================] - 1s 54ms/step - loss: 0.6905 - accuracy: 0.5278 - recall: 0.2884 - precision: 0.5297\n",
            "Epoch 37/100\n",
            "11/11 [==============================] - 1s 53ms/step - loss: 0.6906 - accuracy: 0.5234 - recall: 0.3639 - precision: 0.5167\n",
            "Epoch 38/100\n",
            "11/11 [==============================] - 1s 53ms/step - loss: 0.6901 - accuracy: 0.5274 - recall: 0.3479 - precision: 0.5238\n",
            "Epoch 39/100\n",
            "11/11 [==============================] - 1s 55ms/step - loss: 0.6899 - accuracy: 0.5269 - recall: 0.3206 - precision: 0.5250\n",
            "Epoch 40/100\n",
            "11/11 [==============================] - 1s 57ms/step - loss: 0.6899 - accuracy: 0.5280 - recall: 0.4519 - precision: 0.5188\n",
            "Epoch 41/100\n",
            "11/11 [==============================] - 1s 57ms/step - loss: 0.6907 - accuracy: 0.5299 - recall: 0.3936 - precision: 0.5244\n",
            "Epoch 42/100\n",
            "11/11 [==============================] - 1s 52ms/step - loss: 0.6899 - accuracy: 0.5219 - recall: 0.4043 - precision: 0.5128\n",
            "Epoch 43/100\n",
            "11/11 [==============================] - 1s 53ms/step - loss: 0.6896 - accuracy: 0.5266 - recall: 0.3879 - precision: 0.5201\n",
            "Epoch 44/100\n",
            "11/11 [==============================] - 1s 53ms/step - loss: 0.6894 - accuracy: 0.5314 - recall: 0.3910 - precision: 0.5268\n",
            "Epoch 45/100\n",
            "11/11 [==============================] - 1s 54ms/step - loss: 0.6895 - accuracy: 0.5271 - recall: 0.3586 - precision: 0.5225\n",
            "Epoch 46/100\n",
            "11/11 [==============================] - 1s 53ms/step - loss: 0.6897 - accuracy: 0.5293 - recall: 0.4652 - precision: 0.5198\n",
            "Epoch 47/100\n",
            "11/11 [==============================] - 1s 54ms/step - loss: 0.6885 - accuracy: 0.5297 - recall: 0.2838 - precision: 0.5341\n",
            "Epoch 48/100\n",
            "11/11 [==============================] - 1s 54ms/step - loss: 0.6887 - accuracy: 0.5379 - recall: 0.3167 - precision: 0.5456\n",
            "Epoch 49/100\n",
            "11/11 [==============================] - 1s 55ms/step - loss: 0.6894 - accuracy: 0.5265 - recall: 0.3501 - precision: 0.5222\n",
            "Epoch 50/100\n",
            "11/11 [==============================] - 1s 53ms/step - loss: 0.6880 - accuracy: 0.5325 - recall: 0.4221 - precision: 0.5262\n",
            "Epoch 51/100\n",
            "11/11 [==============================] - 1s 55ms/step - loss: 0.6888 - accuracy: 0.5308 - recall: 0.4508 - precision: 0.5224\n",
            "Epoch 52/100\n",
            "11/11 [==============================] - 1s 54ms/step - loss: 0.6888 - accuracy: 0.5345 - recall: 0.3022 - precision: 0.5413\n",
            "Epoch 53/100\n",
            "11/11 [==============================] - 1s 53ms/step - loss: 0.6884 - accuracy: 0.5352 - recall: 0.3119 - precision: 0.5412\n",
            "Epoch 54/100\n",
            "11/11 [==============================] - 1s 53ms/step - loss: 0.6881 - accuracy: 0.5329 - recall: 0.4333 - precision: 0.5260\n",
            "Epoch 55/100\n",
            "11/11 [==============================] - 1s 54ms/step - loss: 0.6879 - accuracy: 0.5345 - recall: 0.4490 - precision: 0.5271\n",
            "Epoch 56/100\n",
            "11/11 [==============================] - 1s 54ms/step - loss: 0.6880 - accuracy: 0.5315 - recall: 0.3940 - precision: 0.5268\n",
            "Epoch 57/100\n",
            "11/11 [==============================] - 1s 55ms/step - loss: 0.6877 - accuracy: 0.5352 - recall: 0.3155 - precision: 0.5407\n",
            "Epoch 58/100\n",
            "11/11 [==============================] - 1s 54ms/step - loss: 0.6875 - accuracy: 0.5349 - recall: 0.4456 - precision: 0.5278\n",
            "Epoch 59/100\n",
            "11/11 [==============================] - 1s 55ms/step - loss: 0.6878 - accuracy: 0.5330 - recall: 0.3445 - precision: 0.5334\n",
            "Epoch 60/100\n",
            "11/11 [==============================] - 1s 54ms/step - loss: 0.6873 - accuracy: 0.5372 - recall: 0.3135 - precision: 0.5448\n",
            "Epoch 61/100\n",
            "11/11 [==============================] - 1s 53ms/step - loss: 0.6863 - accuracy: 0.5378 - recall: 0.3703 - precision: 0.5384\n",
            "Epoch 62/100\n",
            "11/11 [==============================] - 1s 54ms/step - loss: 0.6863 - accuracy: 0.5462 - recall: 0.3129 - precision: 0.5632\n",
            "Epoch 63/100\n",
            "11/11 [==============================] - 1s 54ms/step - loss: 0.6867 - accuracy: 0.5345 - recall: 0.4523 - precision: 0.5269\n",
            "Epoch 64/100\n",
            "11/11 [==============================] - 1s 53ms/step - loss: 0.6864 - accuracy: 0.5324 - recall: 0.2892 - precision: 0.5390\n",
            "Epoch 65/100\n",
            "11/11 [==============================] - 1s 54ms/step - loss: 0.6859 - accuracy: 0.5466 - recall: 0.4867 - precision: 0.5393\n",
            "Epoch 66/100\n",
            "11/11 [==============================] - 1s 54ms/step - loss: 0.6868 - accuracy: 0.5384 - recall: 0.4440 - precision: 0.5325\n",
            "Epoch 67/100\n",
            "11/11 [==============================] - 1s 55ms/step - loss: 0.6865 - accuracy: 0.5408 - recall: 0.4108 - precision: 0.5387\n",
            "Epoch 68/100\n",
            "11/11 [==============================] - 1s 55ms/step - loss: 0.6867 - accuracy: 0.5332 - recall: 0.4094 - precision: 0.5280\n",
            "Epoch 69/100\n",
            "11/11 [==============================] - 1s 54ms/step - loss: 0.6857 - accuracy: 0.5443 - recall: 0.4397 - precision: 0.5407\n",
            "Epoch 70/100\n",
            "11/11 [==============================] - 1s 54ms/step - loss: 0.6844 - accuracy: 0.5512 - recall: 0.3918 - precision: 0.5571\n",
            "Epoch 71/100\n",
            "11/11 [==============================] - 1s 53ms/step - loss: 0.6854 - accuracy: 0.5440 - recall: 0.3350 - precision: 0.5542\n",
            "Epoch 72/100\n",
            "11/11 [==============================] - 1s 53ms/step - loss: 0.6844 - accuracy: 0.5443 - recall: 0.5144 - precision: 0.5344\n",
            "Epoch 73/100\n",
            "11/11 [==============================] - 1s 54ms/step - loss: 0.6853 - accuracy: 0.5415 - recall: 0.4007 - precision: 0.5408\n",
            "Epoch 74/100\n",
            "11/11 [==============================] - 1s 52ms/step - loss: 0.6846 - accuracy: 0.5403 - recall: 0.4246 - precision: 0.5367\n",
            "Epoch 75/100\n",
            "11/11 [==============================] - 1s 55ms/step - loss: 0.6842 - accuracy: 0.5454 - recall: 0.4333 - precision: 0.5428\n",
            "Epoch 76/100\n",
            "11/11 [==============================] - 1s 55ms/step - loss: 0.6831 - accuracy: 0.5455 - recall: 0.4227 - precision: 0.5441\n",
            "Epoch 77/100\n",
            "11/11 [==============================] - 1s 53ms/step - loss: 0.6831 - accuracy: 0.5510 - recall: 0.4935 - precision: 0.5440\n",
            "Epoch 78/100\n",
            "11/11 [==============================] - 1s 54ms/step - loss: 0.6829 - accuracy: 0.5487 - recall: 0.5065 - precision: 0.5401\n",
            "Epoch 79/100\n",
            "11/11 [==============================] - 1s 55ms/step - loss: 0.6835 - accuracy: 0.5498 - recall: 0.4428 - precision: 0.5479\n",
            "Epoch 80/100\n",
            "11/11 [==============================] - 1s 55ms/step - loss: 0.6832 - accuracy: 0.5400 - recall: 0.4207 - precision: 0.5366\n",
            "Epoch 81/100\n",
            "11/11 [==============================] - 1s 55ms/step - loss: 0.6824 - accuracy: 0.5534 - recall: 0.4205 - precision: 0.5562\n",
            "Epoch 82/100\n",
            "11/11 [==============================] - 1s 53ms/step - loss: 0.6837 - accuracy: 0.5437 - recall: 0.4844 - precision: 0.5359\n",
            "Epoch 83/100\n",
            "11/11 [==============================] - 1s 54ms/step - loss: 0.6828 - accuracy: 0.5498 - recall: 0.4573 - precision: 0.5463\n",
            "Epoch 84/100\n",
            "11/11 [==============================] - 1s 54ms/step - loss: 0.6826 - accuracy: 0.5483 - recall: 0.4838 - precision: 0.5417\n",
            "Epoch 85/100\n",
            "11/11 [==============================] - 1s 54ms/step - loss: 0.6817 - accuracy: 0.5536 - recall: 0.4672 - precision: 0.5503\n",
            "Epoch 86/100\n",
            "11/11 [==============================] - 1s 53ms/step - loss: 0.6815 - accuracy: 0.5458 - recall: 0.4606 - precision: 0.5407\n",
            "Epoch 87/100\n",
            "11/11 [==============================] - 1s 55ms/step - loss: 0.6816 - accuracy: 0.5472 - recall: 0.4648 - precision: 0.5421\n",
            "Epoch 88/100\n",
            "11/11 [==============================] - 1s 54ms/step - loss: 0.6813 - accuracy: 0.5474 - recall: 0.4883 - precision: 0.5402\n",
            "Epoch 89/100\n",
            "11/11 [==============================] - 1s 55ms/step - loss: 0.6815 - accuracy: 0.5470 - recall: 0.4642 - precision: 0.5419\n",
            "Epoch 90/100\n",
            "11/11 [==============================] - 1s 54ms/step - loss: 0.6817 - accuracy: 0.5492 - recall: 0.3823 - precision: 0.5554\n",
            "Epoch 91/100\n",
            "11/11 [==============================] - 1s 54ms/step - loss: 0.6806 - accuracy: 0.5510 - recall: 0.4462 - precision: 0.5492\n",
            "Epoch 92/100\n",
            "11/11 [==============================] - 1s 54ms/step - loss: 0.6817 - accuracy: 0.5555 - recall: 0.4660 - precision: 0.5529\n",
            "Epoch 93/100\n",
            "11/11 [==============================] - 1s 53ms/step - loss: 0.6818 - accuracy: 0.5533 - recall: 0.4316 - precision: 0.5543\n",
            "Epoch 94/100\n",
            "11/11 [==============================] - 1s 54ms/step - loss: 0.6797 - accuracy: 0.5539 - recall: 0.4304 - precision: 0.5555\n",
            "Epoch 95/100\n",
            "11/11 [==============================] - 1s 54ms/step - loss: 0.6797 - accuracy: 0.5603 - recall: 0.4379 - precision: 0.5637\n",
            "Epoch 96/100\n",
            "11/11 [==============================] - 1s 53ms/step - loss: 0.6800 - accuracy: 0.5555 - recall: 0.4543 - precision: 0.5544\n",
            "Epoch 97/100\n",
            "11/11 [==============================] - 1s 54ms/step - loss: 0.6786 - accuracy: 0.5620 - recall: 0.5117 - precision: 0.5557\n",
            "Epoch 98/100\n",
            "11/11 [==============================] - 1s 54ms/step - loss: 0.6789 - accuracy: 0.5540 - recall: 0.4721 - precision: 0.5502\n",
            "Epoch 99/100\n",
            "11/11 [==============================] - 1s 55ms/step - loss: 0.6796 - accuracy: 0.5577 - recall: 0.4838 - precision: 0.5536\n",
            "Epoch 100/100\n",
            "11/11 [==============================] - 1s 53ms/step - loss: 0.6792 - accuracy: 0.5532 - recall: 0.5382 - precision: 0.5425\n"
          ]
        },
        {
          "output_type": "execute_result",
          "data": {
            "text/plain": [
              "<keras.callbacks.History at 0x7f2539004c10>"
            ]
          },
          "metadata": {},
          "execution_count": 18
        }
      ],
      "source": [
        "model_cnn.fit(train_x, train_y, epochs=100, batch_size=1000, verbose=1)"
      ]
    },
    {
      "cell_type": "markdown",
      "source": [
        "## ***Evaluation***"
      ],
      "metadata": {
        "id": "6SnC4J52si0F"
      }
    },
    {
      "cell_type": "markdown",
      "source": [
        "Test data"
      ],
      "metadata": {
        "id": "hjDudD-YtF4O"
      }
    },
    {
      "cell_type": "code",
      "source": [
        "from scipy import stats\n",
        "test_y = []\n",
        "test_x = []\n",
        "\n",
        "window_size = 50\n",
        "step_size = 50\n",
        "\n",
        "for i in range(0, df_test.shape[0] - window_size, step_size):\n",
        "    xs = df_test['x'].values[i: i + 50]\n",
        "    xs1 = df_test['y'].values[i: i + 50]\n",
        "    xs2 = df_test['z'].values[i: i + 50]\n",
        "    # zs = df_train['subj_id'].values[i: i + 50]\n",
        "    # ys = df_test['loc_id'].values[i: i + 50]\n",
        "    label = stats.mode(df_test['label'][i: i + 50])[0][0]\n",
        "    a = np.c_[ xs,xs1,xs2 ]\n",
        "    test_x.append(a)\n",
        "    test_y.append(label)"
      ],
      "metadata": {
        "id": "s7PwHTlIk1Ie"
      },
      "execution_count": null,
      "outputs": []
    },
    {
      "cell_type": "code",
      "source": [
        "test_x = np.array(test_x)\n",
        "test_y = np.array(test_y)\n",
        "\n",
        "scores = model_cnn.evaluate(test_x,test_y, verbose=1)"
      ],
      "metadata": {
        "id": "nfQVuP75iQSP",
        "colab": {
          "base_uri": "https://localhost:8080/"
        },
        "outputId": "6e9e23f9-b52c-4d20-9fc0-7055bdfa0c21"
      },
      "execution_count": null,
      "outputs": [
        {
          "output_type": "stream",
          "name": "stdout",
          "text": [
            "89/89 [==============================] - 2s 9ms/step - loss: 0.6992 - accuracy: 0.5014 - recall: 0.3821 - precision: 0.4603\n"
          ]
        }
      ]
    },
    {
      "cell_type": "markdown",
      "source": [
        "# ***Prediction***"
      ],
      "metadata": {
        "id": "mSkVZOzfsrqF"
      }
    },
    {
      "cell_type": "code",
      "source": [
        "pred = model_cnn.predict(test_x) \n",
        "pred = np.argmax(pred, axis = 1)\n",
        "label = test_y\n",
        "\n",
        "x = pd.DataFrame(pred,columns= [\"preds\"])\n"
      ],
      "metadata": {
        "id": "yUv-alDFqxpy"
      },
      "execution_count": null,
      "outputs": []
    },
    {
      "cell_type": "code",
      "source": [
        "test_y"
      ],
      "metadata": {
        "colab": {
          "base_uri": "https://localhost:8080/"
        },
        "id": "hv7QdW8mrcuf",
        "outputId": "9b229f5f-0285-4c92-db5f-a95ea183d43c"
      },
      "execution_count": null,
      "outputs": [
        {
          "output_type": "execute_result",
          "data": {
            "text/plain": [
              "array([0., 0., 1., ..., 1., 0., 0.])"
            ]
          },
          "metadata": {},
          "execution_count": 22
        }
      ]
    },
    {
      "cell_type": "markdown",
      "source": [
        "# ***Confusion Matrix***"
      ],
      "metadata": {
        "id": "9abDbse3eqq8"
      }
    },
    {
      "cell_type": "code",
      "source": [
        "from sklearn.metrics import confusion_matrix\n",
        "confusion_matrix(test_y, pred)"
      ],
      "metadata": {
        "colab": {
          "base_uri": "https://localhost:8080/"
        },
        "id": "UEMTE5bJeptF",
        "outputId": "67d992e8-319c-46c2-8f58-4a21b268e04b"
      },
      "execution_count": null,
      "outputs": [
        {
          "output_type": "execute_result",
          "data": {
            "text/plain": [
              "array([[1501,    0],\n",
              "       [1319,    0]])"
            ]
          },
          "metadata": {},
          "execution_count": 23
        }
      ]
    },
    {
      "cell_type": "markdown",
      "source": [
        "## **Classification Report**"
      ],
      "metadata": {
        "id": "wWCWBMbslDlU"
      }
    },
    {
      "cell_type": "code",
      "source": [
        "from sklearn import metrics \n",
        "from sklearn.metrics import classification_report\n",
        "print(\"\\n -------------Classification Report-------------\\n\")\n",
        "print(classification_report(test_y, pred))"
      ],
      "metadata": {
        "colab": {
          "base_uri": "https://localhost:8080/"
        },
        "id": "XxtUdN4ejDmp",
        "outputId": "e1785cfa-f3cc-4575-d8f0-f85d36581b96"
      },
      "execution_count": null,
      "outputs": [
        {
          "output_type": "stream",
          "name": "stdout",
          "text": [
            "\n",
            " -------------Classification Report-------------\n",
            "\n",
            "              precision    recall  f1-score   support\n",
            "\n",
            "         0.0       0.53      1.00      0.69      1501\n",
            "         1.0       0.00      0.00      0.00      1319\n",
            "\n",
            "    accuracy                           0.53      2820\n",
            "   macro avg       0.27      0.50      0.35      2820\n",
            "weighted avg       0.28      0.53      0.37      2820\n",
            "\n"
          ]
        },
        {
          "output_type": "stream",
          "name": "stderr",
          "text": [
            "/usr/local/lib/python3.7/dist-packages/sklearn/metrics/_classification.py:1318: UndefinedMetricWarning: Precision and F-score are ill-defined and being set to 0.0 in labels with no predicted samples. Use `zero_division` parameter to control this behavior.\n",
            "  _warn_prf(average, modifier, msg_start, len(result))\n",
            "/usr/local/lib/python3.7/dist-packages/sklearn/metrics/_classification.py:1318: UndefinedMetricWarning: Precision and F-score are ill-defined and being set to 0.0 in labels with no predicted samples. Use `zero_division` parameter to control this behavior.\n",
            "  _warn_prf(average, modifier, msg_start, len(result))\n",
            "/usr/local/lib/python3.7/dist-packages/sklearn/metrics/_classification.py:1318: UndefinedMetricWarning: Precision and F-score are ill-defined and being set to 0.0 in labels with no predicted samples. Use `zero_division` parameter to control this behavior.\n",
            "  _warn_prf(average, modifier, msg_start, len(result))\n"
          ]
        }
      ]
    }
  ],
  "metadata": {
    "accelerator": "GPU",
    "colab": {
      "collapsed_sections": [],
      "name": "right_ankle_CNNwith(50,3).ipynb",
      "provenance": []
    },
    "kernelspec": {
      "display_name": "Python 3",
      "name": "python3"
    },
    "language_info": {
      "name": "python"
    }
  },
  "nbformat": 4,
  "nbformat_minor": 0
}