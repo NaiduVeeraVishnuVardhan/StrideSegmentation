{
  "cells": [
    {
      "cell_type": "code",
      "execution_count": null,
      "metadata": {
        "colab": {
          "base_uri": "https://localhost:8080/"
        },
        "id": "S-ZNnDFC4zII",
        "outputId": "959b2872-0667-487c-be92-28274bb2662d"
      },
      "outputs": [
        {
          "output_type": "stream",
          "name": "stdout",
          "text": [
            "Drive already mounted at /content/drive; to attempt to forcibly remount, call drive.mount(\"/content/drive\", force_remount=True).\n"
          ]
        }
      ],
      "source": [
        "from google.colab import drive\n",
        "drive.mount('/content/drive')"
      ]
    },
    {
      "cell_type": "code",
      "execution_count": null,
      "metadata": {
        "id": "Aal8vcSpHMC0"
      },
      "outputs": [],
      "source": [
        "import keras\n",
        "from tensorflow.keras.utils import to_categorical\n",
        "from keras import models\n",
        "from keras import layers\n",
        "from keras.models import Sequential\n",
        "from keras.layers import Dense, Dropout, Activation, Flatten\n",
        "from keras.layers import Conv2D, MaxPooling2D\n",
        "from keras.layers.convolutional import Conv1D, MaxPooling1D\n",
        "from tensorflow import keras\n",
        "import pandas as pd\n",
        "import numpy as np\n",
        "import matplotlib.pyplot as plt\n",
        "import tensorflow as tf\n",
        "import keras\n",
        "import pandas as pd\n",
        "import numpy as np"
      ]
    },
    {
      "cell_type": "code",
      "execution_count": null,
      "metadata": {
        "id": "bFvy2Nem2SJt"
      },
      "outputs": [],
      "source": [
        "df = pd.read_csv('/content/drive/MyDrive/Colab Notebooks/dataset/left_hip_DatasetWithlabels.csv')#,index_col='time_s',parse_dates=['time_s'])"
      ]
    },
    {
      "cell_type": "code",
      "execution_count": null,
      "metadata": {
        "id": "F9llyFVnR8Tn"
      },
      "outputs": [],
      "source": [
        "df = df.drop(['Unnamed: 0'], 1)\n",
        "df = df.drop(['magnitude'], 1)"
      ]
    },
    {
      "cell_type": "code",
      "execution_count": null,
      "metadata": {
        "id": "C2Gig64mou8U",
        "colab": {
          "base_uri": "https://localhost:8080/",
          "height": 424
        },
        "outputId": "bf0606ec-3472-4b36-a7f7-fcb12366ff0a"
      },
      "outputs": [
        {
          "output_type": "execute_result",
          "data": {
            "text/html": [
              "\n",
              "  <div id=\"df-b9ddc2da-4f3a-4053-90fa-6174764a2a60\">\n",
              "    <div class=\"colab-df-container\">\n",
              "      <div>\n",
              "<style scoped>\n",
              "    .dataframe tbody tr th:only-of-type {\n",
              "        vertical-align: middle;\n",
              "    }\n",
              "\n",
              "    .dataframe tbody tr th {\n",
              "        vertical-align: top;\n",
              "    }\n",
              "\n",
              "    .dataframe thead th {\n",
              "        text-align: right;\n",
              "    }\n",
              "</style>\n",
              "<table border=\"1\" class=\"dataframe\">\n",
              "  <thead>\n",
              "    <tr style=\"text-align: right;\">\n",
              "      <th></th>\n",
              "      <th>subj_id</th>\n",
              "      <th>loc_id</th>\n",
              "      <th>time_s</th>\n",
              "      <th>x</th>\n",
              "      <th>y</th>\n",
              "      <th>z</th>\n",
              "      <th>label</th>\n",
              "    </tr>\n",
              "  </thead>\n",
              "  <tbody>\n",
              "    <tr>\n",
              "      <th>180972</th>\n",
              "      <td>id00b70b13</td>\n",
              "      <td>left_hip</td>\n",
              "      <td>0.00</td>\n",
              "      <td>0.516</td>\n",
              "      <td>-0.883</td>\n",
              "      <td>0.438</td>\n",
              "      <td>0.0</td>\n",
              "    </tr>\n",
              "    <tr>\n",
              "      <th>180973</th>\n",
              "      <td>id00b70b13</td>\n",
              "      <td>left_hip</td>\n",
              "      <td>0.01</td>\n",
              "      <td>0.480</td>\n",
              "      <td>-0.918</td>\n",
              "      <td>0.480</td>\n",
              "      <td>0.0</td>\n",
              "    </tr>\n",
              "    <tr>\n",
              "      <th>180974</th>\n",
              "      <td>id00b70b13</td>\n",
              "      <td>left_hip</td>\n",
              "      <td>0.02</td>\n",
              "      <td>0.453</td>\n",
              "      <td>-0.926</td>\n",
              "      <td>0.496</td>\n",
              "      <td>0.0</td>\n",
              "    </tr>\n",
              "    <tr>\n",
              "      <th>180975</th>\n",
              "      <td>id00b70b13</td>\n",
              "      <td>left_hip</td>\n",
              "      <td>0.03</td>\n",
              "      <td>0.422</td>\n",
              "      <td>-0.918</td>\n",
              "      <td>0.508</td>\n",
              "      <td>0.0</td>\n",
              "    </tr>\n",
              "    <tr>\n",
              "      <th>180976</th>\n",
              "      <td>id00b70b13</td>\n",
              "      <td>left_hip</td>\n",
              "      <td>0.04</td>\n",
              "      <td>0.395</td>\n",
              "      <td>-0.934</td>\n",
              "      <td>0.500</td>\n",
              "      <td>0.0</td>\n",
              "    </tr>\n",
              "    <tr>\n",
              "      <th>...</th>\n",
              "      <td>...</td>\n",
              "      <td>...</td>\n",
              "      <td>...</td>\n",
              "      <td>...</td>\n",
              "      <td>...</td>\n",
              "      <td>...</td>\n",
              "      <td>...</td>\n",
              "    </tr>\n",
              "    <tr>\n",
              "      <th>647607</th>\n",
              "      <td>idff99de96</td>\n",
              "      <td>left_hip</td>\n",
              "      <td>206.71</td>\n",
              "      <td>0.125</td>\n",
              "      <td>-1.195</td>\n",
              "      <td>-0.383</td>\n",
              "      <td>0.0</td>\n",
              "    </tr>\n",
              "    <tr>\n",
              "      <th>647608</th>\n",
              "      <td>idff99de96</td>\n",
              "      <td>left_hip</td>\n",
              "      <td>206.72</td>\n",
              "      <td>0.117</td>\n",
              "      <td>-1.258</td>\n",
              "      <td>-0.430</td>\n",
              "      <td>0.0</td>\n",
              "    </tr>\n",
              "    <tr>\n",
              "      <th>647609</th>\n",
              "      <td>idff99de96</td>\n",
              "      <td>left_hip</td>\n",
              "      <td>206.73</td>\n",
              "      <td>0.133</td>\n",
              "      <td>-1.309</td>\n",
              "      <td>-0.379</td>\n",
              "      <td>0.0</td>\n",
              "    </tr>\n",
              "    <tr>\n",
              "      <th>647610</th>\n",
              "      <td>idff99de96</td>\n",
              "      <td>left_hip</td>\n",
              "      <td>206.74</td>\n",
              "      <td>0.168</td>\n",
              "      <td>-1.379</td>\n",
              "      <td>-0.277</td>\n",
              "      <td>0.0</td>\n",
              "    </tr>\n",
              "    <tr>\n",
              "      <th>647611</th>\n",
              "      <td>idff99de96</td>\n",
              "      <td>left_hip</td>\n",
              "      <td>206.75</td>\n",
              "      <td>0.211</td>\n",
              "      <td>-1.477</td>\n",
              "      <td>-0.195</td>\n",
              "      <td>0.0</td>\n",
              "    </tr>\n",
              "  </tbody>\n",
              "</table>\n",
              "<p>647612 rows × 7 columns</p>\n",
              "</div>\n",
              "      <button class=\"colab-df-convert\" onclick=\"convertToInteractive('df-b9ddc2da-4f3a-4053-90fa-6174764a2a60')\"\n",
              "              title=\"Convert this dataframe to an interactive table.\"\n",
              "              style=\"display:none;\">\n",
              "        \n",
              "  <svg xmlns=\"http://www.w3.org/2000/svg\" height=\"24px\"viewBox=\"0 0 24 24\"\n",
              "       width=\"24px\">\n",
              "    <path d=\"M0 0h24v24H0V0z\" fill=\"none\"/>\n",
              "    <path d=\"M18.56 5.44l.94 2.06.94-2.06 2.06-.94-2.06-.94-.94-2.06-.94 2.06-2.06.94zm-11 1L8.5 8.5l.94-2.06 2.06-.94-2.06-.94L8.5 2.5l-.94 2.06-2.06.94zm10 10l.94 2.06.94-2.06 2.06-.94-2.06-.94-.94-2.06-.94 2.06-2.06.94z\"/><path d=\"M17.41 7.96l-1.37-1.37c-.4-.4-.92-.59-1.43-.59-.52 0-1.04.2-1.43.59L10.3 9.45l-7.72 7.72c-.78.78-.78 2.05 0 2.83L4 21.41c.39.39.9.59 1.41.59.51 0 1.02-.2 1.41-.59l7.78-7.78 2.81-2.81c.8-.78.8-2.07 0-2.86zM5.41 20L4 18.59l7.72-7.72 1.47 1.35L5.41 20z\"/>\n",
              "  </svg>\n",
              "      </button>\n",
              "      \n",
              "  <style>\n",
              "    .colab-df-container {\n",
              "      display:flex;\n",
              "      flex-wrap:wrap;\n",
              "      gap: 12px;\n",
              "    }\n",
              "\n",
              "    .colab-df-convert {\n",
              "      background-color: #E8F0FE;\n",
              "      border: none;\n",
              "      border-radius: 50%;\n",
              "      cursor: pointer;\n",
              "      display: none;\n",
              "      fill: #1967D2;\n",
              "      height: 32px;\n",
              "      padding: 0 0 0 0;\n",
              "      width: 32px;\n",
              "    }\n",
              "\n",
              "    .colab-df-convert:hover {\n",
              "      background-color: #E2EBFA;\n",
              "      box-shadow: 0px 1px 2px rgba(60, 64, 67, 0.3), 0px 1px 3px 1px rgba(60, 64, 67, 0.15);\n",
              "      fill: #174EA6;\n",
              "    }\n",
              "\n",
              "    [theme=dark] .colab-df-convert {\n",
              "      background-color: #3B4455;\n",
              "      fill: #D2E3FC;\n",
              "    }\n",
              "\n",
              "    [theme=dark] .colab-df-convert:hover {\n",
              "      background-color: #434B5C;\n",
              "      box-shadow: 0px 1px 3px 1px rgba(0, 0, 0, 0.15);\n",
              "      filter: drop-shadow(0px 1px 2px rgba(0, 0, 0, 0.3));\n",
              "      fill: #FFFFFF;\n",
              "    }\n",
              "  </style>\n",
              "\n",
              "      <script>\n",
              "        const buttonEl =\n",
              "          document.querySelector('#df-b9ddc2da-4f3a-4053-90fa-6174764a2a60 button.colab-df-convert');\n",
              "        buttonEl.style.display =\n",
              "          google.colab.kernel.accessAllowed ? 'block' : 'none';\n",
              "\n",
              "        async function convertToInteractive(key) {\n",
              "          const element = document.querySelector('#df-b9ddc2da-4f3a-4053-90fa-6174764a2a60');\n",
              "          const dataTable =\n",
              "            await google.colab.kernel.invokeFunction('convertToInteractive',\n",
              "                                                     [key], {});\n",
              "          if (!dataTable) return;\n",
              "\n",
              "          const docLinkHtml = 'Like what you see? Visit the ' +\n",
              "            '<a target=\"_blank\" href=https://colab.research.google.com/notebooks/data_table.ipynb>data table notebook</a>'\n",
              "            + ' to learn more about interactive tables.';\n",
              "          element.innerHTML = '';\n",
              "          dataTable['output_type'] = 'display_data';\n",
              "          await google.colab.output.renderOutput(dataTable, element);\n",
              "          const docLink = document.createElement('div');\n",
              "          docLink.innerHTML = docLinkHtml;\n",
              "          element.appendChild(docLink);\n",
              "        }\n",
              "      </script>\n",
              "    </div>\n",
              "  </div>\n",
              "  "
            ],
            "text/plain": [
              "           subj_id    loc_id  time_s      x      y      z  label\n",
              "180972  id00b70b13  left_hip    0.00  0.516 -0.883  0.438    0.0\n",
              "180973  id00b70b13  left_hip    0.01  0.480 -0.918  0.480    0.0\n",
              "180974  id00b70b13  left_hip    0.02  0.453 -0.926  0.496    0.0\n",
              "180975  id00b70b13  left_hip    0.03  0.422 -0.918  0.508    0.0\n",
              "180976  id00b70b13  left_hip    0.04  0.395 -0.934  0.500    0.0\n",
              "...            ...       ...     ...    ...    ...    ...    ...\n",
              "647607  idff99de96  left_hip  206.71  0.125 -1.195 -0.383    0.0\n",
              "647608  idff99de96  left_hip  206.72  0.117 -1.258 -0.430    0.0\n",
              "647609  idff99de96  left_hip  206.73  0.133 -1.309 -0.379    0.0\n",
              "647610  idff99de96  left_hip  206.74  0.168 -1.379 -0.277    0.0\n",
              "647611  idff99de96  left_hip  206.75  0.211 -1.477 -0.195    0.0\n",
              "\n",
              "[647612 rows x 7 columns]"
            ]
          },
          "metadata": {},
          "execution_count": 12
        }
      ],
      "source": [
        "df = df.sort_values(['subj_id', 'loc_id'], ascending=[True, True])\n",
        "df"
      ]
    },
    {
      "cell_type": "code",
      "source": [
        "df['subj_id'] = df['subj_id'].astype('category')\n",
        "df['subj_id'] = df['subj_id'].cat.codes\n",
        "\n",
        "df['loc_id'] = df['loc_id'].astype('category')\n",
        "df['loc_id'] = df['loc_id'].cat.codes\n",
        "\n",
        "df['label'] = df['label'].astype('category')\n",
        "df['label'] = df['label'].cat.codes"
      ],
      "metadata": {
        "id": "9TdYznmnlAMB"
      },
      "execution_count": null,
      "outputs": []
    },
    {
      "cell_type": "code",
      "source": [
        "df"
      ],
      "metadata": {
        "colab": {
          "base_uri": "https://localhost:8080/",
          "height": 424
        },
        "id": "849hR1XDlyFZ",
        "outputId": "91f6e5f9-1eb4-44b8-e6c7-fe983138b1a2"
      },
      "execution_count": null,
      "outputs": [
        {
          "output_type": "execute_result",
          "data": {
            "text/html": [
              "\n",
              "  <div id=\"df-6e99946f-f81c-40d1-88b6-925a245d8048\">\n",
              "    <div class=\"colab-df-container\">\n",
              "      <div>\n",
              "<style scoped>\n",
              "    .dataframe tbody tr th:only-of-type {\n",
              "        vertical-align: middle;\n",
              "    }\n",
              "\n",
              "    .dataframe tbody tr th {\n",
              "        vertical-align: top;\n",
              "    }\n",
              "\n",
              "    .dataframe thead th {\n",
              "        text-align: right;\n",
              "    }\n",
              "</style>\n",
              "<table border=\"1\" class=\"dataframe\">\n",
              "  <thead>\n",
              "    <tr style=\"text-align: right;\">\n",
              "      <th></th>\n",
              "      <th>subj_id</th>\n",
              "      <th>loc_id</th>\n",
              "      <th>time_s</th>\n",
              "      <th>x</th>\n",
              "      <th>y</th>\n",
              "      <th>z</th>\n",
              "      <th>label</th>\n",
              "    </tr>\n",
              "  </thead>\n",
              "  <tbody>\n",
              "    <tr>\n",
              "      <th>180972</th>\n",
              "      <td>0</td>\n",
              "      <td>0</td>\n",
              "      <td>0.00</td>\n",
              "      <td>0.516</td>\n",
              "      <td>-0.883</td>\n",
              "      <td>0.438</td>\n",
              "      <td>0</td>\n",
              "    </tr>\n",
              "    <tr>\n",
              "      <th>180973</th>\n",
              "      <td>0</td>\n",
              "      <td>0</td>\n",
              "      <td>0.01</td>\n",
              "      <td>0.480</td>\n",
              "      <td>-0.918</td>\n",
              "      <td>0.480</td>\n",
              "      <td>0</td>\n",
              "    </tr>\n",
              "    <tr>\n",
              "      <th>180974</th>\n",
              "      <td>0</td>\n",
              "      <td>0</td>\n",
              "      <td>0.02</td>\n",
              "      <td>0.453</td>\n",
              "      <td>-0.926</td>\n",
              "      <td>0.496</td>\n",
              "      <td>0</td>\n",
              "    </tr>\n",
              "    <tr>\n",
              "      <th>180975</th>\n",
              "      <td>0</td>\n",
              "      <td>0</td>\n",
              "      <td>0.03</td>\n",
              "      <td>0.422</td>\n",
              "      <td>-0.918</td>\n",
              "      <td>0.508</td>\n",
              "      <td>0</td>\n",
              "    </tr>\n",
              "    <tr>\n",
              "      <th>180976</th>\n",
              "      <td>0</td>\n",
              "      <td>0</td>\n",
              "      <td>0.04</td>\n",
              "      <td>0.395</td>\n",
              "      <td>-0.934</td>\n",
              "      <td>0.500</td>\n",
              "      <td>0</td>\n",
              "    </tr>\n",
              "    <tr>\n",
              "      <th>...</th>\n",
              "      <td>...</td>\n",
              "      <td>...</td>\n",
              "      <td>...</td>\n",
              "      <td>...</td>\n",
              "      <td>...</td>\n",
              "      <td>...</td>\n",
              "      <td>...</td>\n",
              "    </tr>\n",
              "    <tr>\n",
              "      <th>647607</th>\n",
              "      <td>31</td>\n",
              "      <td>0</td>\n",
              "      <td>206.71</td>\n",
              "      <td>0.125</td>\n",
              "      <td>-1.195</td>\n",
              "      <td>-0.383</td>\n",
              "      <td>0</td>\n",
              "    </tr>\n",
              "    <tr>\n",
              "      <th>647608</th>\n",
              "      <td>31</td>\n",
              "      <td>0</td>\n",
              "      <td>206.72</td>\n",
              "      <td>0.117</td>\n",
              "      <td>-1.258</td>\n",
              "      <td>-0.430</td>\n",
              "      <td>0</td>\n",
              "    </tr>\n",
              "    <tr>\n",
              "      <th>647609</th>\n",
              "      <td>31</td>\n",
              "      <td>0</td>\n",
              "      <td>206.73</td>\n",
              "      <td>0.133</td>\n",
              "      <td>-1.309</td>\n",
              "      <td>-0.379</td>\n",
              "      <td>0</td>\n",
              "    </tr>\n",
              "    <tr>\n",
              "      <th>647610</th>\n",
              "      <td>31</td>\n",
              "      <td>0</td>\n",
              "      <td>206.74</td>\n",
              "      <td>0.168</td>\n",
              "      <td>-1.379</td>\n",
              "      <td>-0.277</td>\n",
              "      <td>0</td>\n",
              "    </tr>\n",
              "    <tr>\n",
              "      <th>647611</th>\n",
              "      <td>31</td>\n",
              "      <td>0</td>\n",
              "      <td>206.75</td>\n",
              "      <td>0.211</td>\n",
              "      <td>-1.477</td>\n",
              "      <td>-0.195</td>\n",
              "      <td>0</td>\n",
              "    </tr>\n",
              "  </tbody>\n",
              "</table>\n",
              "<p>647612 rows × 7 columns</p>\n",
              "</div>\n",
              "      <button class=\"colab-df-convert\" onclick=\"convertToInteractive('df-6e99946f-f81c-40d1-88b6-925a245d8048')\"\n",
              "              title=\"Convert this dataframe to an interactive table.\"\n",
              "              style=\"display:none;\">\n",
              "        \n",
              "  <svg xmlns=\"http://www.w3.org/2000/svg\" height=\"24px\"viewBox=\"0 0 24 24\"\n",
              "       width=\"24px\">\n",
              "    <path d=\"M0 0h24v24H0V0z\" fill=\"none\"/>\n",
              "    <path d=\"M18.56 5.44l.94 2.06.94-2.06 2.06-.94-2.06-.94-.94-2.06-.94 2.06-2.06.94zm-11 1L8.5 8.5l.94-2.06 2.06-.94-2.06-.94L8.5 2.5l-.94 2.06-2.06.94zm10 10l.94 2.06.94-2.06 2.06-.94-2.06-.94-.94-2.06-.94 2.06-2.06.94z\"/><path d=\"M17.41 7.96l-1.37-1.37c-.4-.4-.92-.59-1.43-.59-.52 0-1.04.2-1.43.59L10.3 9.45l-7.72 7.72c-.78.78-.78 2.05 0 2.83L4 21.41c.39.39.9.59 1.41.59.51 0 1.02-.2 1.41-.59l7.78-7.78 2.81-2.81c.8-.78.8-2.07 0-2.86zM5.41 20L4 18.59l7.72-7.72 1.47 1.35L5.41 20z\"/>\n",
              "  </svg>\n",
              "      </button>\n",
              "      \n",
              "  <style>\n",
              "    .colab-df-container {\n",
              "      display:flex;\n",
              "      flex-wrap:wrap;\n",
              "      gap: 12px;\n",
              "    }\n",
              "\n",
              "    .colab-df-convert {\n",
              "      background-color: #E8F0FE;\n",
              "      border: none;\n",
              "      border-radius: 50%;\n",
              "      cursor: pointer;\n",
              "      display: none;\n",
              "      fill: #1967D2;\n",
              "      height: 32px;\n",
              "      padding: 0 0 0 0;\n",
              "      width: 32px;\n",
              "    }\n",
              "\n",
              "    .colab-df-convert:hover {\n",
              "      background-color: #E2EBFA;\n",
              "      box-shadow: 0px 1px 2px rgba(60, 64, 67, 0.3), 0px 1px 3px 1px rgba(60, 64, 67, 0.15);\n",
              "      fill: #174EA6;\n",
              "    }\n",
              "\n",
              "    [theme=dark] .colab-df-convert {\n",
              "      background-color: #3B4455;\n",
              "      fill: #D2E3FC;\n",
              "    }\n",
              "\n",
              "    [theme=dark] .colab-df-convert:hover {\n",
              "      background-color: #434B5C;\n",
              "      box-shadow: 0px 1px 3px 1px rgba(0, 0, 0, 0.15);\n",
              "      filter: drop-shadow(0px 1px 2px rgba(0, 0, 0, 0.3));\n",
              "      fill: #FFFFFF;\n",
              "    }\n",
              "  </style>\n",
              "\n",
              "      <script>\n",
              "        const buttonEl =\n",
              "          document.querySelector('#df-6e99946f-f81c-40d1-88b6-925a245d8048 button.colab-df-convert');\n",
              "        buttonEl.style.display =\n",
              "          google.colab.kernel.accessAllowed ? 'block' : 'none';\n",
              "\n",
              "        async function convertToInteractive(key) {\n",
              "          const element = document.querySelector('#df-6e99946f-f81c-40d1-88b6-925a245d8048');\n",
              "          const dataTable =\n",
              "            await google.colab.kernel.invokeFunction('convertToInteractive',\n",
              "                                                     [key], {});\n",
              "          if (!dataTable) return;\n",
              "\n",
              "          const docLinkHtml = 'Like what you see? Visit the ' +\n",
              "            '<a target=\"_blank\" href=https://colab.research.google.com/notebooks/data_table.ipynb>data table notebook</a>'\n",
              "            + ' to learn more about interactive tables.';\n",
              "          element.innerHTML = '';\n",
              "          dataTable['output_type'] = 'display_data';\n",
              "          await google.colab.output.renderOutput(dataTable, element);\n",
              "          const docLink = document.createElement('div');\n",
              "          docLink.innerHTML = docLinkHtml;\n",
              "          element.appendChild(docLink);\n",
              "        }\n",
              "      </script>\n",
              "    </div>\n",
              "  </div>\n",
              "  "
            ],
            "text/plain": [
              "        subj_id  loc_id  time_s      x      y      z  label\n",
              "180972        0       0    0.00  0.516 -0.883  0.438      0\n",
              "180973        0       0    0.01  0.480 -0.918  0.480      0\n",
              "180974        0       0    0.02  0.453 -0.926  0.496      0\n",
              "180975        0       0    0.03  0.422 -0.918  0.508      0\n",
              "180976        0       0    0.04  0.395 -0.934  0.500      0\n",
              "...         ...     ...     ...    ...    ...    ...    ...\n",
              "647607       31       0  206.71  0.125 -1.195 -0.383      0\n",
              "647608       31       0  206.72  0.117 -1.258 -0.430      0\n",
              "647609       31       0  206.73  0.133 -1.309 -0.379      0\n",
              "647610       31       0  206.74  0.168 -1.379 -0.277      0\n",
              "647611       31       0  206.75  0.211 -1.477 -0.195      0\n",
              "\n",
              "[647612 rows x 7 columns]"
            ]
          },
          "metadata": {},
          "execution_count": 14
        }
      ]
    },
    {
      "cell_type": "markdown",
      "source": [
        "# ***SCALING***"
      ],
      "metadata": {
        "id": "PzOCsTe1rL7N"
      }
    },
    {
      "cell_type": "code",
      "source": [
        "from sklearn.preprocessing import MinMaxScaler\n",
        "# define min max scaler\n",
        "scaler = MinMaxScaler()\n",
        "\n",
        "# df1 = df[['loc_id','magnitude','label']]\n",
        "# df1"
      ],
      "metadata": {
        "id": "LVySi3MeziCA"
      },
      "execution_count": null,
      "outputs": []
    },
    {
      "cell_type": "code",
      "source": [
        "df_scaled = pd.DataFrame(scaler.fit_transform(df),columns=df.columns)\n",
        "\n",
        "# df = pd.concat([df['subj_id'], df1], axis=1)\n",
        "df = df_scaled"
      ],
      "metadata": {
        "id": "eKVi5zggzvjT"
      },
      "execution_count": null,
      "outputs": []
    },
    {
      "cell_type": "code",
      "source": [
        "df"
      ],
      "metadata": {
        "colab": {
          "base_uri": "https://localhost:8080/",
          "height": 424
        },
        "id": "vz8ncZHwmMCR",
        "outputId": "405aae21-b8ee-4176-b28e-afe52cd0e5da"
      },
      "execution_count": null,
      "outputs": [
        {
          "output_type": "execute_result",
          "data": {
            "text/html": [
              "\n",
              "  <div id=\"df-d7b56066-8666-4aaf-8b6d-7b0434658686\">\n",
              "    <div class=\"colab-df-container\">\n",
              "      <div>\n",
              "<style scoped>\n",
              "    .dataframe tbody tr th:only-of-type {\n",
              "        vertical-align: middle;\n",
              "    }\n",
              "\n",
              "    .dataframe tbody tr th {\n",
              "        vertical-align: top;\n",
              "    }\n",
              "\n",
              "    .dataframe thead th {\n",
              "        text-align: right;\n",
              "    }\n",
              "</style>\n",
              "<table border=\"1\" class=\"dataframe\">\n",
              "  <thead>\n",
              "    <tr style=\"text-align: right;\">\n",
              "      <th></th>\n",
              "      <th>subj_id</th>\n",
              "      <th>loc_id</th>\n",
              "      <th>time_s</th>\n",
              "      <th>x</th>\n",
              "      <th>y</th>\n",
              "      <th>z</th>\n",
              "      <th>label</th>\n",
              "    </tr>\n",
              "  </thead>\n",
              "  <tbody>\n",
              "    <tr>\n",
              "      <th>0</th>\n",
              "      <td>0.0</td>\n",
              "      <td>0.0</td>\n",
              "      <td>0.000000</td>\n",
              "      <td>0.655736</td>\n",
              "      <td>0.468697</td>\n",
              "      <td>0.499780</td>\n",
              "      <td>0.0</td>\n",
              "    </tr>\n",
              "    <tr>\n",
              "      <th>1</th>\n",
              "      <td>0.0</td>\n",
              "      <td>0.0</td>\n",
              "      <td>0.000041</td>\n",
              "      <td>0.651347</td>\n",
              "      <td>0.464450</td>\n",
              "      <td>0.505934</td>\n",
              "      <td>0.0</td>\n",
              "    </tr>\n",
              "    <tr>\n",
              "      <th>2</th>\n",
              "      <td>0.0</td>\n",
              "      <td>0.0</td>\n",
              "      <td>0.000083</td>\n",
              "      <td>0.648056</td>\n",
              "      <td>0.463480</td>\n",
              "      <td>0.508278</td>\n",
              "      <td>0.0</td>\n",
              "    </tr>\n",
              "    <tr>\n",
              "      <th>3</th>\n",
              "      <td>0.0</td>\n",
              "      <td>0.0</td>\n",
              "      <td>0.000124</td>\n",
              "      <td>0.644276</td>\n",
              "      <td>0.464450</td>\n",
              "      <td>0.510037</td>\n",
              "      <td>0.0</td>\n",
              "    </tr>\n",
              "    <tr>\n",
              "      <th>4</th>\n",
              "      <td>0.0</td>\n",
              "      <td>0.0</td>\n",
              "      <td>0.000166</td>\n",
              "      <td>0.640985</td>\n",
              "      <td>0.462509</td>\n",
              "      <td>0.508864</td>\n",
              "      <td>0.0</td>\n",
              "    </tr>\n",
              "    <tr>\n",
              "      <th>...</th>\n",
              "      <td>...</td>\n",
              "      <td>...</td>\n",
              "      <td>...</td>\n",
              "      <td>...</td>\n",
              "      <td>...</td>\n",
              "      <td>...</td>\n",
              "      <td>...</td>\n",
              "    </tr>\n",
              "    <tr>\n",
              "      <th>647607</th>\n",
              "      <td>1.0</td>\n",
              "      <td>0.0</td>\n",
              "      <td>0.855836</td>\n",
              "      <td>0.608070</td>\n",
              "      <td>0.430842</td>\n",
              "      <td>0.379487</td>\n",
              "      <td>0.0</td>\n",
              "    </tr>\n",
              "    <tr>\n",
              "      <th>647608</th>\n",
              "      <td>1.0</td>\n",
              "      <td>0.0</td>\n",
              "      <td>0.855877</td>\n",
              "      <td>0.607095</td>\n",
              "      <td>0.423198</td>\n",
              "      <td>0.372601</td>\n",
              "      <td>0.0</td>\n",
              "    </tr>\n",
              "    <tr>\n",
              "      <th>647609</th>\n",
              "      <td>1.0</td>\n",
              "      <td>0.0</td>\n",
              "      <td>0.855919</td>\n",
              "      <td>0.609045</td>\n",
              "      <td>0.417010</td>\n",
              "      <td>0.380073</td>\n",
              "      <td>0.0</td>\n",
              "    </tr>\n",
              "    <tr>\n",
              "      <th>647610</th>\n",
              "      <td>1.0</td>\n",
              "      <td>0.0</td>\n",
              "      <td>0.855960</td>\n",
              "      <td>0.613312</td>\n",
              "      <td>0.408517</td>\n",
              "      <td>0.395018</td>\n",
              "      <td>0.0</td>\n",
              "    </tr>\n",
              "    <tr>\n",
              "      <th>647611</th>\n",
              "      <td>1.0</td>\n",
              "      <td>0.0</td>\n",
              "      <td>0.856001</td>\n",
              "      <td>0.618554</td>\n",
              "      <td>0.396627</td>\n",
              "      <td>0.407033</td>\n",
              "      <td>0.0</td>\n",
              "    </tr>\n",
              "  </tbody>\n",
              "</table>\n",
              "<p>647612 rows × 7 columns</p>\n",
              "</div>\n",
              "      <button class=\"colab-df-convert\" onclick=\"convertToInteractive('df-d7b56066-8666-4aaf-8b6d-7b0434658686')\"\n",
              "              title=\"Convert this dataframe to an interactive table.\"\n",
              "              style=\"display:none;\">\n",
              "        \n",
              "  <svg xmlns=\"http://www.w3.org/2000/svg\" height=\"24px\"viewBox=\"0 0 24 24\"\n",
              "       width=\"24px\">\n",
              "    <path d=\"M0 0h24v24H0V0z\" fill=\"none\"/>\n",
              "    <path d=\"M18.56 5.44l.94 2.06.94-2.06 2.06-.94-2.06-.94-.94-2.06-.94 2.06-2.06.94zm-11 1L8.5 8.5l.94-2.06 2.06-.94-2.06-.94L8.5 2.5l-.94 2.06-2.06.94zm10 10l.94 2.06.94-2.06 2.06-.94-2.06-.94-.94-2.06-.94 2.06-2.06.94z\"/><path d=\"M17.41 7.96l-1.37-1.37c-.4-.4-.92-.59-1.43-.59-.52 0-1.04.2-1.43.59L10.3 9.45l-7.72 7.72c-.78.78-.78 2.05 0 2.83L4 21.41c.39.39.9.59 1.41.59.51 0 1.02-.2 1.41-.59l7.78-7.78 2.81-2.81c.8-.78.8-2.07 0-2.86zM5.41 20L4 18.59l7.72-7.72 1.47 1.35L5.41 20z\"/>\n",
              "  </svg>\n",
              "      </button>\n",
              "      \n",
              "  <style>\n",
              "    .colab-df-container {\n",
              "      display:flex;\n",
              "      flex-wrap:wrap;\n",
              "      gap: 12px;\n",
              "    }\n",
              "\n",
              "    .colab-df-convert {\n",
              "      background-color: #E8F0FE;\n",
              "      border: none;\n",
              "      border-radius: 50%;\n",
              "      cursor: pointer;\n",
              "      display: none;\n",
              "      fill: #1967D2;\n",
              "      height: 32px;\n",
              "      padding: 0 0 0 0;\n",
              "      width: 32px;\n",
              "    }\n",
              "\n",
              "    .colab-df-convert:hover {\n",
              "      background-color: #E2EBFA;\n",
              "      box-shadow: 0px 1px 2px rgba(60, 64, 67, 0.3), 0px 1px 3px 1px rgba(60, 64, 67, 0.15);\n",
              "      fill: #174EA6;\n",
              "    }\n",
              "\n",
              "    [theme=dark] .colab-df-convert {\n",
              "      background-color: #3B4455;\n",
              "      fill: #D2E3FC;\n",
              "    }\n",
              "\n",
              "    [theme=dark] .colab-df-convert:hover {\n",
              "      background-color: #434B5C;\n",
              "      box-shadow: 0px 1px 3px 1px rgba(0, 0, 0, 0.15);\n",
              "      filter: drop-shadow(0px 1px 2px rgba(0, 0, 0, 0.3));\n",
              "      fill: #FFFFFF;\n",
              "    }\n",
              "  </style>\n",
              "\n",
              "      <script>\n",
              "        const buttonEl =\n",
              "          document.querySelector('#df-d7b56066-8666-4aaf-8b6d-7b0434658686 button.colab-df-convert');\n",
              "        buttonEl.style.display =\n",
              "          google.colab.kernel.accessAllowed ? 'block' : 'none';\n",
              "\n",
              "        async function convertToInteractive(key) {\n",
              "          const element = document.querySelector('#df-d7b56066-8666-4aaf-8b6d-7b0434658686');\n",
              "          const dataTable =\n",
              "            await google.colab.kernel.invokeFunction('convertToInteractive',\n",
              "                                                     [key], {});\n",
              "          if (!dataTable) return;\n",
              "\n",
              "          const docLinkHtml = 'Like what you see? Visit the ' +\n",
              "            '<a target=\"_blank\" href=https://colab.research.google.com/notebooks/data_table.ipynb>data table notebook</a>'\n",
              "            + ' to learn more about interactive tables.';\n",
              "          element.innerHTML = '';\n",
              "          dataTable['output_type'] = 'display_data';\n",
              "          await google.colab.output.renderOutput(dataTable, element);\n",
              "          const docLink = document.createElement('div');\n",
              "          docLink.innerHTML = docLinkHtml;\n",
              "          element.appendChild(docLink);\n",
              "        }\n",
              "      </script>\n",
              "    </div>\n",
              "  </div>\n",
              "  "
            ],
            "text/plain": [
              "        subj_id  loc_id    time_s         x         y         z  label\n",
              "0           0.0     0.0  0.000000  0.655736  0.468697  0.499780    0.0\n",
              "1           0.0     0.0  0.000041  0.651347  0.464450  0.505934    0.0\n",
              "2           0.0     0.0  0.000083  0.648056  0.463480  0.508278    0.0\n",
              "3           0.0     0.0  0.000124  0.644276  0.464450  0.510037    0.0\n",
              "4           0.0     0.0  0.000166  0.640985  0.462509  0.508864    0.0\n",
              "...         ...     ...       ...       ...       ...       ...    ...\n",
              "647607      1.0     0.0  0.855836  0.608070  0.430842  0.379487    0.0\n",
              "647608      1.0     0.0  0.855877  0.607095  0.423198  0.372601    0.0\n",
              "647609      1.0     0.0  0.855919  0.609045  0.417010  0.380073    0.0\n",
              "647610      1.0     0.0  0.855960  0.613312  0.408517  0.395018    0.0\n",
              "647611      1.0     0.0  0.856001  0.618554  0.396627  0.407033    0.0\n",
              "\n",
              "[647612 rows x 7 columns]"
            ]
          },
          "metadata": {},
          "execution_count": 17
        }
      ]
    },
    {
      "cell_type": "markdown",
      "metadata": {
        "id": "ANLu_ZipsPwL"
      },
      "source": [
        "# **TRAINING AND TEST DATA**\n",
        "\n",
        "\n",
        "\n",
        "*   Total data   : 32 Subjects\n",
        "*   Training data: 25 subjects\n",
        "*   Test data    : 7 subjects\n",
        "\n"
      ]
    },
    {
      "cell_type": "code",
      "execution_count": null,
      "metadata": {
        "colab": {
          "base_uri": "https://localhost:8080/"
        },
        "id": "G4nuj79VrQXf",
        "outputId": "053060e2-3f55-42e8-a74d-b324d767bc2c"
      },
      "outputs": [
        {
          "output_type": "execute_result",
          "data": {
            "text/plain": [
              "array([0.        , 0.03225806, 0.06451613, 0.09677419, 0.12903226,\n",
              "       0.16129032, 0.19354839, 0.22580645, 0.25806452, 0.29032258,\n",
              "       0.32258065, 0.35483871, 0.38709677, 0.41935484, 0.4516129 ,\n",
              "       0.48387097, 0.51612903, 0.5483871 , 0.58064516, 0.61290323,\n",
              "       0.64516129, 0.67741935, 0.70967742, 0.74193548, 0.77419355])"
            ]
          },
          "metadata": {},
          "execution_count": 18
        }
      ],
      "source": [
        "df.subj_id.unique()[:25]"
      ]
    },
    {
      "cell_type": "code",
      "execution_count": null,
      "metadata": {
        "id": "zYAQ_Ve3l2D8"
      },
      "outputs": [],
      "source": [
        "df_train = df[df.subj_id.isin( df.subj_id.unique()[:25] ) ] "
      ]
    },
    {
      "cell_type": "code",
      "execution_count": null,
      "metadata": {
        "id": "ojmC32gDsN3O"
      },
      "outputs": [],
      "source": [
        "df_test = df[df.subj_id.isin( df.subj_id.unique()[25:] )]"
      ]
    },
    {
      "cell_type": "markdown",
      "metadata": {
        "id": "ZmliWGVFnAS8"
      },
      "source": [
        "# ***Every subject was timed for 15minutes ***"
      ]
    },
    {
      "cell_type": "markdown",
      "source": [
        "# **overlapping windows with 50% overlap - Window size :50 Step size:50**"
      ],
      "metadata": {
        "id": "H2VfR8uGs1u2"
      }
    },
    {
      "cell_type": "code",
      "source": [
        "from scipy import stats\n",
        "x_list = []\n",
        "y_list = []\n",
        "\n",
        "train_labels = []\n",
        "new_list = []\n",
        "\n",
        "window_size = 50\n",
        "step_size = 50\n",
        "\n",
        "for i in range(0, df_train.shape[0] - window_size, step_size):\n",
        "    xs = df_train['x'].values[i: i + 50]\n",
        "    xs1 = df_train['y'].values[i: i + 50]\n",
        "    xs2 = df_train['z'].values[i: i + 50]\n",
        "    # ys = df_train['loc_id'].values[i: i + 50]\n",
        "    # zs = df_train['subj_id'].values[i: i + 50]\n",
        "    label = stats.mode(df_train['label'][i: i + 50])[0][0]\n",
        "    a = np.c_[ xs,xs1,xs2 ]\n",
        "    new_list.append(a)\n",
        "    train_labels.append(label)\n",
        "\n",
        "Xtrain = np.array(new_list)"
      ],
      "metadata": {
        "id": "97q9Vc5Z8gCM"
      },
      "execution_count": null,
      "outputs": []
    },
    {
      "cell_type": "code",
      "source": [
        "train_x = np.asarray(Xtrain)\n",
        "train_y = np.asarray(train_labels)"
      ],
      "metadata": {
        "id": "9KUV1gJUCvgJ"
      },
      "execution_count": null,
      "outputs": []
    },
    {
      "cell_type": "markdown",
      "source": [
        "# ***CNN***"
      ],
      "metadata": {
        "id": "77jXq7rUqtcE"
      }
    },
    {
      "cell_type": "code",
      "execution_count": null,
      "metadata": {
        "colab": {
          "base_uri": "https://localhost:8080/"
        },
        "id": "-wtjp39fhHFL",
        "outputId": "a2bdb5f9-2c43-4fd0-8cf6-e1ffb07fe351"
      },
      "outputs": [
        {
          "output_type": "stream",
          "name": "stdout",
          "text": [
            "Model: \"sequential\"\n",
            "_________________________________________________________________\n",
            " Layer (type)                Output Shape              Param #   \n",
            "=================================================================\n",
            " conv1d (Conv1D)             (None, 49, 160)           1120      \n",
            "                                                                 \n",
            " max_pooling1d (MaxPooling1D  (None, 49, 160)          0         \n",
            " )                                                               \n",
            "                                                                 \n",
            " conv1d_1 (Conv1D)           (None, 48, 128)           41088     \n",
            "                                                                 \n",
            " max_pooling1d_1 (MaxPooling  (None, 48, 128)          0         \n",
            " 1D)                                                             \n",
            "                                                                 \n",
            " conv1d_2 (Conv1D)           (None, 47, 96)            24672     \n",
            "                                                                 \n",
            " conv1d_3 (Conv1D)           (None, 46, 64)            12352     \n",
            "                                                                 \n",
            " max_pooling1d_2 (MaxPooling  (None, 46, 64)           0         \n",
            " 1D)                                                             \n",
            "                                                                 \n",
            " flatten (Flatten)           (None, 2944)              0         \n",
            "                                                                 \n",
            " dropout (Dropout)           (None, 2944)              0         \n",
            "                                                                 \n",
            " dense (Dense)               (None, 1)                 2945      \n",
            "                                                                 \n",
            "=================================================================\n",
            "Total params: 82,177\n",
            "Trainable params: 82,177\n",
            "Non-trainable params: 0\n",
            "_________________________________________________________________\n"
          ]
        }
      ],
      "source": [
        "model_cnn = Sequential() \n",
        "\n",
        "model_cnn.add(Conv1D(filters=160, kernel_size=2, activation='relu', input_shape=(50,3)))\n",
        "\n",
        "model_cnn.add(MaxPooling1D(pool_size=1))\n",
        "model_cnn.add(Conv1D(filters=128, kernel_size=2, activation='relu'))\n",
        "model_cnn.add(MaxPooling1D(pool_size=1))\n",
        "model_cnn.add(Conv1D(filters=96, kernel_size=2, activation='relu'))\n",
        "model_cnn.add(Conv1D(filters=64, kernel_size=2, activation='relu'))\n",
        "model_cnn.add(MaxPooling1D(pool_size=1))\n",
        "model_cnn.add(Flatten())\n",
        "model_cnn.add(Dropout(0.5))\n",
        "# model_cnn.add(Dense(64, activation='sigmoid'))\n",
        "model_cnn.add(Dense(1,activation='sigmoid'))\n",
        "\n",
        "model_cnn.compile(loss='binary_crossentropy', optimizer=\"adam\", metrics = [\"accuracy\", tf.keras.metrics.Recall(), tf.keras.metrics.Precision()])\n",
        "model_cnn.summary()"
      ]
    },
    {
      "cell_type": "code",
      "execution_count": null,
      "metadata": {
        "id": "CV-uOkMQOC1a",
        "colab": {
          "base_uri": "https://localhost:8080/"
        },
        "outputId": "51d34f95-a083-4d9c-caa1-6f6fc473f55c"
      },
      "outputs": [
        {
          "output_type": "stream",
          "name": "stdout",
          "text": [
            "Epoch 1/100\n",
            "11/11 [==============================] - 12s 144ms/step - loss: 0.6936 - accuracy: 0.5050 - recall: 0.3908 - precision: 0.4994\n",
            "Epoch 2/100\n",
            "11/11 [==============================] - 1s 76ms/step - loss: 0.6936 - accuracy: 0.5055 - recall: 0.1439 - precision: 0.5000\n",
            "Epoch 3/100\n",
            "11/11 [==============================] - 1s 77ms/step - loss: 0.6933 - accuracy: 0.4929 - recall: 0.3100 - precision: 0.4804\n",
            "Epoch 4/100\n",
            "11/11 [==============================] - 1s 76ms/step - loss: 0.6931 - accuracy: 0.5032 - recall: 0.2551 - precision: 0.4955\n",
            "Epoch 5/100\n",
            "11/11 [==============================] - 1s 77ms/step - loss: 0.6934 - accuracy: 0.5021 - recall: 0.1333 - precision: 0.4876\n",
            "Epoch 6/100\n",
            "11/11 [==============================] - 1s 76ms/step - loss: 0.6932 - accuracy: 0.5048 - recall: 0.0120 - precision: 0.4724\n",
            "Epoch 7/100\n",
            "11/11 [==============================] - 1s 76ms/step - loss: 0.6929 - accuracy: 0.5110 - recall: 0.2453 - precision: 0.5117\n",
            "Epoch 8/100\n",
            "11/11 [==============================] - 1s 76ms/step - loss: 0.6934 - accuracy: 0.4973 - recall: 0.5637 - precision: 0.4928\n",
            "Epoch 9/100\n",
            "11/11 [==============================] - 1s 76ms/step - loss: 0.6934 - accuracy: 0.5018 - recall: 0.0810 - precision: 0.4782\n",
            "Epoch 10/100\n",
            "11/11 [==============================] - 1s 76ms/step - loss: 0.6932 - accuracy: 0.5045 - recall: 0.0335 - precision: 0.4855\n",
            "Epoch 11/100\n",
            "11/11 [==============================] - 1s 75ms/step - loss: 0.6931 - accuracy: 0.5010 - recall: 0.4094 - precision: 0.4946\n",
            "Epoch 12/100\n",
            "11/11 [==============================] - 1s 77ms/step - loss: 0.6932 - accuracy: 0.5047 - recall: 0.2443 - precision: 0.4984\n",
            "Epoch 13/100\n",
            "11/11 [==============================] - 1s 76ms/step - loss: 0.6931 - accuracy: 0.5075 - recall: 0.1960 - precision: 0.5051\n",
            "Epoch 14/100\n",
            "11/11 [==============================] - 1s 75ms/step - loss: 0.6931 - accuracy: 0.5074 - recall: 0.0820 - precision: 0.5118\n",
            "Epoch 15/100\n",
            "11/11 [==============================] - 1s 76ms/step - loss: 0.6931 - accuracy: 0.5048 - recall: 0.0040 - precision: 0.4255\n",
            "Epoch 16/100\n",
            "11/11 [==============================] - 1s 75ms/step - loss: 0.6932 - accuracy: 0.5015 - recall: 0.1190 - precision: 0.4838\n",
            "Epoch 17/100\n",
            "11/11 [==============================] - 1s 76ms/step - loss: 0.6930 - accuracy: 0.5082 - recall: 0.0507 - precision: 0.5292\n",
            "Epoch 18/100\n",
            "11/11 [==============================] - 1s 75ms/step - loss: 0.6928 - accuracy: 0.5063 - recall: 0.0681 - precision: 0.5059\n",
            "Epoch 19/100\n",
            "11/11 [==============================] - 1s 76ms/step - loss: 0.6931 - accuracy: 0.5072 - recall: 0.1204 - precision: 0.5071\n",
            "Epoch 20/100\n",
            "11/11 [==============================] - 1s 76ms/step - loss: 0.6929 - accuracy: 0.5099 - recall: 0.3501 - precision: 0.5065\n",
            "Epoch 21/100\n",
            "11/11 [==============================] - 1s 76ms/step - loss: 0.6930 - accuracy: 0.5050 - recall: 0.1291 - precision: 0.4981\n",
            "Epoch 22/100\n",
            "11/11 [==============================] - 1s 76ms/step - loss: 0.6930 - accuracy: 0.5123 - recall: 0.4465 - precision: 0.5078\n",
            "Epoch 23/100\n",
            "11/11 [==============================] - 1s 76ms/step - loss: 0.6929 - accuracy: 0.5092 - recall: 0.1964 - precision: 0.5098\n",
            "Epoch 24/100\n",
            "11/11 [==============================] - 1s 76ms/step - loss: 0.6927 - accuracy: 0.5117 - recall: 0.1355 - precision: 0.5243\n",
            "Epoch 25/100\n",
            "11/11 [==============================] - 1s 77ms/step - loss: 0.6926 - accuracy: 0.5124 - recall: 0.2731 - precision: 0.5131\n",
            "Epoch 26/100\n",
            "11/11 [==============================] - 1s 76ms/step - loss: 0.6931 - accuracy: 0.5113 - recall: 0.4906 - precision: 0.5061\n",
            "Epoch 27/100\n",
            "11/11 [==============================] - 1s 76ms/step - loss: 0.6927 - accuracy: 0.5214 - recall: 0.3050 - precision: 0.5278\n",
            "Epoch 28/100\n",
            "11/11 [==============================] - 1s 76ms/step - loss: 0.6927 - accuracy: 0.5165 - recall: 0.3331 - precision: 0.5174\n",
            "Epoch 29/100\n",
            "11/11 [==============================] - 1s 76ms/step - loss: 0.6929 - accuracy: 0.5164 - recall: 0.5204 - precision: 0.5109\n",
            "Epoch 30/100\n",
            "11/11 [==============================] - 1s 76ms/step - loss: 0.6932 - accuracy: 0.5145 - recall: 0.3956 - precision: 0.5117\n",
            "Epoch 31/100\n",
            "11/11 [==============================] - 1s 78ms/step - loss: 0.6925 - accuracy: 0.5151 - recall: 0.3782 - precision: 0.5131\n",
            "Epoch 32/100\n",
            "11/11 [==============================] - 1s 76ms/step - loss: 0.6926 - accuracy: 0.5141 - recall: 0.3515 - precision: 0.5127\n",
            "Epoch 33/100\n",
            "11/11 [==============================] - 1s 77ms/step - loss: 0.6924 - accuracy: 0.5146 - recall: 0.3357 - precision: 0.5141\n",
            "Epoch 34/100\n",
            "11/11 [==============================] - 1s 76ms/step - loss: 0.6926 - accuracy: 0.5093 - recall: 0.2174 - precision: 0.5091\n",
            "Epoch 35/100\n",
            "11/11 [==============================] - 1s 76ms/step - loss: 0.6922 - accuracy: 0.5181 - recall: 0.3880 - precision: 0.5170\n",
            "Epoch 36/100\n",
            "11/11 [==============================] - 1s 75ms/step - loss: 0.6935 - accuracy: 0.4967 - recall: 0.4806 - precision: 0.4909\n",
            "Epoch 37/100\n",
            "11/11 [==============================] - 1s 76ms/step - loss: 0.6933 - accuracy: 0.5116 - recall: 0.1477 - precision: 0.5219\n",
            "Epoch 38/100\n",
            "11/11 [==============================] - 1s 76ms/step - loss: 0.6928 - accuracy: 0.5146 - recall: 0.4399 - precision: 0.5107\n",
            "Epoch 39/100\n",
            "11/11 [==============================] - 1s 75ms/step - loss: 0.6924 - accuracy: 0.5134 - recall: 0.4870 - precision: 0.5083\n",
            "Epoch 40/100\n",
            "11/11 [==============================] - 1s 76ms/step - loss: 0.6921 - accuracy: 0.5193 - recall: 0.3419 - precision: 0.5213\n",
            "Epoch 41/100\n",
            "11/11 [==============================] - 1s 77ms/step - loss: 0.6933 - accuracy: 0.5068 - recall: 0.4932 - precision: 0.5013\n",
            "Epoch 42/100\n",
            "11/11 [==============================] - 1s 75ms/step - loss: 0.6933 - accuracy: 0.5050 - recall: 0.6743 - precision: 0.4996\n",
            "Epoch 43/100\n",
            "11/11 [==============================] - 1s 77ms/step - loss: 0.6928 - accuracy: 0.5130 - recall: 0.4150 - precision: 0.5093\n",
            "Epoch 44/100\n",
            "11/11 [==============================] - 1s 77ms/step - loss: 0.6928 - accuracy: 0.5054 - recall: 0.1619 - precision: 0.4997\n",
            "Epoch 45/100\n",
            "11/11 [==============================] - 1s 76ms/step - loss: 0.6923 - accuracy: 0.5155 - recall: 0.4244 - precision: 0.5123\n",
            "Epoch 46/100\n",
            "11/11 [==============================] - 1s 76ms/step - loss: 0.6926 - accuracy: 0.5136 - recall: 0.4641 - precision: 0.5090\n",
            "Epoch 47/100\n",
            "11/11 [==============================] - 1s 77ms/step - loss: 0.6924 - accuracy: 0.5200 - recall: 0.4876 - precision: 0.5155\n",
            "Epoch 48/100\n",
            "11/11 [==============================] - 1s 75ms/step - loss: 0.6927 - accuracy: 0.5153 - recall: 0.4218 - precision: 0.5121\n",
            "Epoch 49/100\n",
            "11/11 [==============================] - 1s 77ms/step - loss: 0.6920 - accuracy: 0.5190 - recall: 0.3399 - precision: 0.5210\n",
            "Epoch 50/100\n",
            "11/11 [==============================] - 1s 76ms/step - loss: 0.6919 - accuracy: 0.5187 - recall: 0.3655 - precision: 0.5190\n",
            "Epoch 51/100\n",
            "11/11 [==============================] - 1s 77ms/step - loss: 0.6921 - accuracy: 0.5194 - recall: 0.4092 - precision: 0.5178\n",
            "Epoch 52/100\n",
            "11/11 [==============================] - 1s 77ms/step - loss: 0.6919 - accuracy: 0.5198 - recall: 0.4062 - precision: 0.5185\n",
            "Epoch 53/100\n",
            "11/11 [==============================] - 1s 76ms/step - loss: 0.6914 - accuracy: 0.5325 - recall: 0.5639 - precision: 0.5255\n",
            "Epoch 54/100\n",
            "11/11 [==============================] - 1s 76ms/step - loss: 0.6916 - accuracy: 0.5229 - recall: 0.4547 - precision: 0.5202\n",
            "Epoch 55/100\n",
            "11/11 [==============================] - 1s 76ms/step - loss: 0.6918 - accuracy: 0.5220 - recall: 0.3982 - precision: 0.5218\n",
            "Epoch 56/100\n",
            "11/11 [==============================] - 1s 76ms/step - loss: 0.6913 - accuracy: 0.5245 - recall: 0.4311 - precision: 0.5234\n",
            "Epoch 57/100\n",
            "11/11 [==============================] - 1s 76ms/step - loss: 0.6916 - accuracy: 0.5233 - recall: 0.4176 - precision: 0.5226\n",
            "Epoch 58/100\n",
            "11/11 [==============================] - 1s 76ms/step - loss: 0.6910 - accuracy: 0.5305 - recall: 0.5224 - precision: 0.5254\n",
            "Epoch 59/100\n",
            "11/11 [==============================] - 1s 77ms/step - loss: 0.6908 - accuracy: 0.5280 - recall: 0.3689 - precision: 0.5329\n",
            "Epoch 60/100\n",
            "11/11 [==============================] - 1s 76ms/step - loss: 0.6907 - accuracy: 0.5265 - recall: 0.4255 - precision: 0.5263\n",
            "Epoch 61/100\n",
            "11/11 [==============================] - 1s 76ms/step - loss: 0.6907 - accuracy: 0.5273 - recall: 0.5291 - precision: 0.5217\n",
            "Epoch 62/100\n",
            "11/11 [==============================] - 1s 76ms/step - loss: 0.6910 - accuracy: 0.5230 - recall: 0.5180 - precision: 0.5178\n",
            "Epoch 63/100\n",
            "11/11 [==============================] - 1s 76ms/step - loss: 0.6920 - accuracy: 0.5187 - recall: 0.3451 - precision: 0.5202\n",
            "Epoch 64/100\n",
            "11/11 [==============================] - 1s 75ms/step - loss: 0.6918 - accuracy: 0.5212 - recall: 0.4092 - precision: 0.5202\n",
            "Epoch 65/100\n",
            "11/11 [==============================] - 1s 77ms/step - loss: 0.6911 - accuracy: 0.5256 - recall: 0.3166 - precision: 0.5344\n",
            "Epoch 66/100\n",
            "11/11 [==============================] - 1s 76ms/step - loss: 0.6903 - accuracy: 0.5263 - recall: 0.4894 - precision: 0.5225\n",
            "Epoch 67/100\n",
            "11/11 [==============================] - 1s 77ms/step - loss: 0.6908 - accuracy: 0.5249 - recall: 0.3956 - precision: 0.5261\n",
            "Epoch 68/100\n",
            "11/11 [==============================] - 1s 76ms/step - loss: 0.6893 - accuracy: 0.5290 - recall: 0.5477 - precision: 0.5227\n",
            "Epoch 69/100\n",
            "11/11 [==============================] - 1s 76ms/step - loss: 0.6904 - accuracy: 0.5231 - recall: 0.4299 - precision: 0.5217\n",
            "Epoch 70/100\n",
            "11/11 [==============================] - 1s 77ms/step - loss: 0.6908 - accuracy: 0.5259 - recall: 0.3910 - precision: 0.5279\n",
            "Epoch 71/100\n",
            "11/11 [==============================] - 1s 78ms/step - loss: 0.6907 - accuracy: 0.5263 - recall: 0.4369 - precision: 0.5253\n",
            "Epoch 72/100\n",
            "11/11 [==============================] - 1s 76ms/step - loss: 0.6912 - accuracy: 0.5211 - recall: 0.5627 - precision: 0.5144\n",
            "Epoch 73/100\n",
            "11/11 [==============================] - 1s 77ms/step - loss: 0.6905 - accuracy: 0.5221 - recall: 0.4731 - precision: 0.5184\n",
            "Epoch 74/100\n",
            "11/11 [==============================] - 1s 75ms/step - loss: 0.6904 - accuracy: 0.5225 - recall: 0.4419 - precision: 0.5202\n",
            "Epoch 75/100\n",
            "11/11 [==============================] - 1s 78ms/step - loss: 0.6920 - accuracy: 0.5198 - recall: 0.4782 - precision: 0.5156\n",
            "Epoch 76/100\n",
            "11/11 [==============================] - 1s 75ms/step - loss: 0.6905 - accuracy: 0.5263 - recall: 0.4110 - precision: 0.5270\n",
            "Epoch 77/100\n",
            "11/11 [==============================] - 1s 77ms/step - loss: 0.6902 - accuracy: 0.5289 - recall: 0.3870 - precision: 0.5325\n",
            "Epoch 78/100\n",
            "11/11 [==============================] - 1s 75ms/step - loss: 0.6904 - accuracy: 0.5292 - recall: 0.4453 - precision: 0.5284\n",
            "Epoch 79/100\n",
            "11/11 [==============================] - 1s 76ms/step - loss: 0.6898 - accuracy: 0.5284 - recall: 0.5449 - precision: 0.5222\n",
            "Epoch 80/100\n",
            "11/11 [==============================] - 1s 76ms/step - loss: 0.6904 - accuracy: 0.5283 - recall: 0.5132 - precision: 0.5235\n",
            "Epoch 81/100\n",
            "11/11 [==============================] - 1s 77ms/step - loss: 0.6902 - accuracy: 0.5249 - recall: 0.4872 - precision: 0.5210\n",
            "Epoch 82/100\n",
            "11/11 [==============================] - 1s 75ms/step - loss: 0.6894 - accuracy: 0.5260 - recall: 0.4988 - precision: 0.5217\n",
            "Epoch 83/100\n",
            "11/11 [==============================] - 1s 76ms/step - loss: 0.6902 - accuracy: 0.5288 - recall: 0.4631 - precision: 0.5268\n",
            "Epoch 84/100\n",
            "11/11 [==============================] - 1s 77ms/step - loss: 0.6906 - accuracy: 0.5283 - recall: 0.5002 - precision: 0.5242\n",
            "Epoch 85/100\n",
            "11/11 [==============================] - 1s 75ms/step - loss: 0.6899 - accuracy: 0.5292 - recall: 0.4992 - precision: 0.5252\n",
            "Epoch 86/100\n",
            "11/11 [==============================] - 1s 76ms/step - loss: 0.6912 - accuracy: 0.5215 - recall: 0.3461 - precision: 0.5245\n",
            "Epoch 87/100\n",
            "11/11 [==============================] - 1s 77ms/step - loss: 0.6907 - accuracy: 0.5238 - recall: 0.5703 - precision: 0.5168\n",
            "Epoch 88/100\n",
            "11/11 [==============================] - 1s 76ms/step - loss: 0.6900 - accuracy: 0.5304 - recall: 0.4303 - precision: 0.5310\n",
            "Epoch 89/100\n",
            "11/11 [==============================] - 1s 76ms/step - loss: 0.6894 - accuracy: 0.5323 - recall: 0.4527 - precision: 0.5319\n",
            "Epoch 90/100\n",
            "11/11 [==============================] - 1s 76ms/step - loss: 0.6880 - accuracy: 0.5383 - recall: 0.4804 - precision: 0.5372\n",
            "Epoch 91/100\n",
            "11/11 [==============================] - 1s 77ms/step - loss: 0.6884 - accuracy: 0.5334 - recall: 0.4723 - precision: 0.5318\n",
            "Epoch 92/100\n",
            "11/11 [==============================] - 1s 76ms/step - loss: 0.6888 - accuracy: 0.5323 - recall: 0.5000 - precision: 0.5287\n",
            "Epoch 93/100\n",
            "11/11 [==============================] - 1s 78ms/step - loss: 0.6877 - accuracy: 0.5388 - recall: 0.5571 - precision: 0.5322\n",
            "Epoch 94/100\n",
            "11/11 [==============================] - 1s 76ms/step - loss: 0.6881 - accuracy: 0.5358 - recall: 0.4557 - precision: 0.5360\n",
            "Epoch 95/100\n",
            "11/11 [==============================] - 1s 76ms/step - loss: 0.6895 - accuracy: 0.5292 - recall: 0.5160 - precision: 0.5243\n",
            "Epoch 96/100\n",
            "11/11 [==============================] - 1s 77ms/step - loss: 0.6891 - accuracy: 0.5351 - recall: 0.4729 - precision: 0.5338\n",
            "Epoch 97/100\n",
            "11/11 [==============================] - 1s 77ms/step - loss: 0.6879 - accuracy: 0.5330 - recall: 0.4711 - precision: 0.5314\n",
            "Epoch 98/100\n",
            "11/11 [==============================] - 1s 76ms/step - loss: 0.6883 - accuracy: 0.5321 - recall: 0.5246 - precision: 0.5271\n",
            "Epoch 99/100\n",
            "11/11 [==============================] - 1s 76ms/step - loss: 0.6890 - accuracy: 0.5291 - recall: 0.4982 - precision: 0.5251\n",
            "Epoch 100/100\n",
            "11/11 [==============================] - 1s 77ms/step - loss: 0.6874 - accuracy: 0.5388 - recall: 0.4972 - precision: 0.5364\n"
          ]
        },
        {
          "output_type": "execute_result",
          "data": {
            "text/plain": [
              "<keras.callbacks.History at 0x7f1280865750>"
            ]
          },
          "metadata": {},
          "execution_count": 24
        }
      ],
      "source": [
        "model_cnn.fit(train_x, train_y, epochs=100, batch_size=1000, verbose=1)"
      ]
    },
    {
      "cell_type": "markdown",
      "source": [
        "## ***Evaluation***"
      ],
      "metadata": {
        "id": "6SnC4J52si0F"
      }
    },
    {
      "cell_type": "markdown",
      "source": [
        "Test data"
      ],
      "metadata": {
        "id": "hjDudD-YtF4O"
      }
    },
    {
      "cell_type": "code",
      "source": [
        "from scipy import stats\n",
        "test_y = []\n",
        "test_x = []\n",
        "\n",
        "window_size = 50\n",
        "step_size = 50\n",
        "\n",
        "for i in range(0, df_test.shape[0] - window_size, step_size):\n",
        "    xs = df_test['x'].values[i: i + 50]\n",
        "    xs1 = df_test['y'].values[i: i + 50]\n",
        "    xs2 = df_test['z'].values[i: i + 50]\n",
        "    # zs = df_train['subj_id'].values[i: i + 50]\n",
        "    # ys = df_test['loc_id'].values[i: i + 50]\n",
        "    label = stats.mode(df_test['label'][i: i + 50])[0][0]\n",
        "    a = np.c_[ xs,xs1,xs2 ]\n",
        "    test_x.append(a)\n",
        "    test_y.append(label)"
      ],
      "metadata": {
        "id": "s7PwHTlIk1Ie"
      },
      "execution_count": null,
      "outputs": []
    },
    {
      "cell_type": "code",
      "source": [
        "test_x = np.array(test_x)\n",
        "test_y = np.array(test_y)\n",
        "\n",
        "scores = model_cnn.evaluate(test_x,test_y, verbose=1)"
      ],
      "metadata": {
        "id": "nfQVuP75iQSP",
        "colab": {
          "base_uri": "https://localhost:8080/"
        },
        "outputId": "d4cd733a-3170-4f59-f2ec-6576a8f99b29"
      },
      "execution_count": null,
      "outputs": [
        {
          "output_type": "stream",
          "name": "stdout",
          "text": [
            "89/89 [==============================] - 1s 7ms/step - loss: 0.6917 - accuracy: 0.5312 - recall: 0.4833 - precision: 0.5318\n"
          ]
        }
      ]
    },
    {
      "cell_type": "markdown",
      "source": [
        "# ***Prediction***"
      ],
      "metadata": {
        "id": "mSkVZOzfsrqF"
      }
    },
    {
      "cell_type": "code",
      "source": [
        "pred = model_cnn.predict(test_x) \n",
        "pred = np.argmax(pred, axis = 1)\n",
        "label = test_y\n",
        "\n",
        "x = pd.DataFrame(pred,columns= [\"preds\"])\n"
      ],
      "metadata": {
        "id": "yUv-alDFqxpy"
      },
      "execution_count": null,
      "outputs": []
    },
    {
      "cell_type": "code",
      "source": [
        "test_y"
      ],
      "metadata": {
        "colab": {
          "base_uri": "https://localhost:8080/"
        },
        "id": "hv7QdW8mrcuf",
        "outputId": "20b1e2ae-b0eb-437f-959f-e73a477a21d6"
      },
      "execution_count": null,
      "outputs": [
        {
          "output_type": "execute_result",
          "data": {
            "text/plain": [
              "array([0., 1., 1., ..., 0., 1., 1.])"
            ]
          },
          "metadata": {},
          "execution_count": 28
        }
      ]
    },
    {
      "cell_type": "markdown",
      "source": [
        "# ***Confusion Matrix***"
      ],
      "metadata": {
        "id": "9abDbse3eqq8"
      }
    },
    {
      "cell_type": "code",
      "source": [
        "from sklearn.metrics import confusion_matrix\n",
        "confusion_matrix(test_y, pred)"
      ],
      "metadata": {
        "colab": {
          "base_uri": "https://localhost:8080/"
        },
        "id": "UEMTE5bJeptF",
        "outputId": "2217d660-a8b4-4450-e962-10642e7c9a60"
      },
      "execution_count": null,
      "outputs": [
        {
          "output_type": "execute_result",
          "data": {
            "text/plain": [
              "array([[1417,    0],\n",
              "       [1403,    0]])"
            ]
          },
          "metadata": {},
          "execution_count": 29
        }
      ]
    },
    {
      "cell_type": "markdown",
      "source": [
        "## **Classification Report**"
      ],
      "metadata": {
        "id": "wWCWBMbslDlU"
      }
    },
    {
      "cell_type": "code",
      "source": [
        "from sklearn import metrics \n",
        "from sklearn.metrics import classification_report\n",
        "print(\"\\n -------------Classification Report-------------\\n\")\n",
        "print(classification_report(test_y, pred))"
      ],
      "metadata": {
        "colab": {
          "base_uri": "https://localhost:8080/"
        },
        "id": "XxtUdN4ejDmp",
        "outputId": "0dac50d5-aa6a-4449-c407-9bd2aa58cc7f"
      },
      "execution_count": null,
      "outputs": [
        {
          "output_type": "stream",
          "name": "stdout",
          "text": [
            "\n",
            " -------------Classification Report-------------\n",
            "\n",
            "              precision    recall  f1-score   support\n",
            "\n",
            "         0.0       0.50      1.00      0.67      1417\n",
            "         1.0       0.00      0.00      0.00      1403\n",
            "\n",
            "    accuracy                           0.50      2820\n",
            "   macro avg       0.25      0.50      0.33      2820\n",
            "weighted avg       0.25      0.50      0.34      2820\n",
            "\n"
          ]
        },
        {
          "output_type": "stream",
          "name": "stderr",
          "text": [
            "/usr/local/lib/python3.7/dist-packages/sklearn/metrics/_classification.py:1318: UndefinedMetricWarning: Precision and F-score are ill-defined and being set to 0.0 in labels with no predicted samples. Use `zero_division` parameter to control this behavior.\n",
            "  _warn_prf(average, modifier, msg_start, len(result))\n",
            "/usr/local/lib/python3.7/dist-packages/sklearn/metrics/_classification.py:1318: UndefinedMetricWarning: Precision and F-score are ill-defined and being set to 0.0 in labels with no predicted samples. Use `zero_division` parameter to control this behavior.\n",
            "  _warn_prf(average, modifier, msg_start, len(result))\n",
            "/usr/local/lib/python3.7/dist-packages/sklearn/metrics/_classification.py:1318: UndefinedMetricWarning: Precision and F-score are ill-defined and being set to 0.0 in labels with no predicted samples. Use `zero_division` parameter to control this behavior.\n",
            "  _warn_prf(average, modifier, msg_start, len(result))\n"
          ]
        }
      ]
    }
  ],
  "metadata": {
    "accelerator": "GPU",
    "colab": {
      "collapsed_sections": [],
      "name": "left_hip_CNNwith(50,3).ipynb",
      "provenance": []
    },
    "kernelspec": {
      "display_name": "Python 3",
      "name": "python3"
    },
    "language_info": {
      "name": "python"
    }
  },
  "nbformat": 4,
  "nbformat_minor": 0
}