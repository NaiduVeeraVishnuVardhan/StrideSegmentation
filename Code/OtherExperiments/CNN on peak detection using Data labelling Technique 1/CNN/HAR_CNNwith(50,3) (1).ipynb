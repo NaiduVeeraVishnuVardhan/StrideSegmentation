{
  "cells": [
    {
      "cell_type": "code",
      "execution_count": null,
      "metadata": {
        "colab": {
          "base_uri": "https://localhost:8080/"
        },
        "id": "S-ZNnDFC4zII",
        "outputId": "dc7393e2-b812-4f5d-e693-1519a094211c"
      },
      "outputs": [
        {
          "output_type": "stream",
          "name": "stdout",
          "text": [
            "Mounted at /content/drive\n"
          ]
        }
      ],
      "source": [
        "from google.colab import drive\n",
        "drive.mount('/content/drive')"
      ]
    },
    {
      "cell_type": "code",
      "execution_count": null,
      "metadata": {
        "id": "Aal8vcSpHMC0"
      },
      "outputs": [],
      "source": [
        "import keras\n",
        "from tensorflow.keras.utils import to_categorical\n",
        "from keras import models\n",
        "from keras import layers\n",
        "from keras.models import Sequential\n",
        "from keras.layers import Dense, Dropout, Activation, Flatten\n",
        "from keras.layers import Conv2D, MaxPooling2D\n",
        "from keras.layers.convolutional import Conv1D, MaxPooling1D\n",
        "from tensorflow import keras\n",
        "import pandas as pd\n",
        "import numpy as np\n",
        "import matplotlib.pyplot as plt\n",
        "import tensorflow as tf\n",
        "import keras\n",
        "import pandas as pd\n",
        "import numpy as np"
      ]
    },
    {
      "cell_type": "code",
      "execution_count": null,
      "metadata": {
        "id": "bFvy2Nem2SJt"
      },
      "outputs": [],
      "source": [
        "df = pd.read_csv('/content/drive/MyDrive/Colab Notebooks/dataset/FinalDatasetWithlabels.csv')#,index_col='time_s',parse_dates=['time_s'])"
      ]
    },
    {
      "cell_type": "code",
      "execution_count": null,
      "metadata": {
        "id": "F9llyFVnR8Tn"
      },
      "outputs": [],
      "source": [
        "# df = df.drop(['Unnamed: 0','subj_id'], 1)\n",
        "df = df.drop(['Unnamed: 0'], 1)\n",
        "df = df.drop(['magnitude'], 1)"
      ]
    },
    {
      "cell_type": "code",
      "execution_count": null,
      "metadata": {
        "colab": {
          "base_uri": "https://localhost:8080/"
        },
        "id": "mBXORJ-rcrr3",
        "outputId": "374839db-4983-4432-9d9e-3cca85790390"
      },
      "outputs": [
        {
          "output_type": "execute_result",
          "data": {
            "text/plain": [
              "array([1, 2, 3, 4])"
            ]
          },
          "metadata": {},
          "execution_count": 5
        }
      ],
      "source": [
        "cleanup_nums = {\"loc_id\":   {\"left_wrist\":1,\"left_hip\":2,\"left_ankle\": 3, \"right_ankle\": 4}\n",
        "                }\n",
        "df = df.replace(cleanup_nums)                                  \n",
        "df['loc_id'].unique()"
      ]
    },
    {
      "cell_type": "code",
      "execution_count": null,
      "metadata": {
        "id": "C2Gig64mou8U",
        "colab": {
          "base_uri": "https://localhost:8080/",
          "height": 424
        },
        "outputId": "0696da37-fa1a-48b3-f545-2d534a19bf39"
      },
      "outputs": [
        {
          "output_type": "execute_result",
          "data": {
            "text/html": [
              "\n",
              "  <div id=\"df-e92352ed-e398-430a-be9f-38a1bfa9dbcc\">\n",
              "    <div class=\"colab-df-container\">\n",
              "      <div>\n",
              "<style scoped>\n",
              "    .dataframe tbody tr th:only-of-type {\n",
              "        vertical-align: middle;\n",
              "    }\n",
              "\n",
              "    .dataframe tbody tr th {\n",
              "        vertical-align: top;\n",
              "    }\n",
              "\n",
              "    .dataframe thead th {\n",
              "        text-align: right;\n",
              "    }\n",
              "</style>\n",
              "<table border=\"1\" class=\"dataframe\">\n",
              "  <thead>\n",
              "    <tr style=\"text-align: right;\">\n",
              "      <th></th>\n",
              "      <th>subj_id</th>\n",
              "      <th>loc_id</th>\n",
              "      <th>time_s</th>\n",
              "      <th>x</th>\n",
              "      <th>y</th>\n",
              "      <th>z</th>\n",
              "      <th>label</th>\n",
              "    </tr>\n",
              "  </thead>\n",
              "  <tbody>\n",
              "    <tr>\n",
              "      <th>723888</th>\n",
              "      <td>id00b70b13</td>\n",
              "      <td>1</td>\n",
              "      <td>0.00</td>\n",
              "      <td>-0.344</td>\n",
              "      <td>-1.285</td>\n",
              "      <td>-0.039</td>\n",
              "      <td>0.0</td>\n",
              "    </tr>\n",
              "    <tr>\n",
              "      <th>723889</th>\n",
              "      <td>id00b70b13</td>\n",
              "      <td>1</td>\n",
              "      <td>0.01</td>\n",
              "      <td>-0.336</td>\n",
              "      <td>-1.301</td>\n",
              "      <td>-0.027</td>\n",
              "      <td>0.0</td>\n",
              "    </tr>\n",
              "    <tr>\n",
              "      <th>723890</th>\n",
              "      <td>id00b70b13</td>\n",
              "      <td>1</td>\n",
              "      <td>0.02</td>\n",
              "      <td>-0.305</td>\n",
              "      <td>-1.324</td>\n",
              "      <td>-0.016</td>\n",
              "      <td>0.0</td>\n",
              "    </tr>\n",
              "    <tr>\n",
              "      <th>723891</th>\n",
              "      <td>id00b70b13</td>\n",
              "      <td>1</td>\n",
              "      <td>0.03</td>\n",
              "      <td>-0.273</td>\n",
              "      <td>-1.371</td>\n",
              "      <td>-0.004</td>\n",
              "      <td>0.0</td>\n",
              "    </tr>\n",
              "    <tr>\n",
              "      <th>723892</th>\n",
              "      <td>id00b70b13</td>\n",
              "      <td>1</td>\n",
              "      <td>0.04</td>\n",
              "      <td>-0.227</td>\n",
              "      <td>-1.418</td>\n",
              "      <td>0.020</td>\n",
              "      <td>0.0</td>\n",
              "    </tr>\n",
              "    <tr>\n",
              "      <th>...</th>\n",
              "      <td>...</td>\n",
              "      <td>...</td>\n",
              "      <td>...</td>\n",
              "      <td>...</td>\n",
              "      <td>...</td>\n",
              "      <td>...</td>\n",
              "      <td>...</td>\n",
              "    </tr>\n",
              "    <tr>\n",
              "      <th>2590443</th>\n",
              "      <td>idff99de96</td>\n",
              "      <td>4</td>\n",
              "      <td>206.71</td>\n",
              "      <td>0.098</td>\n",
              "      <td>1.059</td>\n",
              "      <td>0.090</td>\n",
              "      <td>0.0</td>\n",
              "    </tr>\n",
              "    <tr>\n",
              "      <th>2590444</th>\n",
              "      <td>idff99de96</td>\n",
              "      <td>4</td>\n",
              "      <td>206.72</td>\n",
              "      <td>0.105</td>\n",
              "      <td>1.070</td>\n",
              "      <td>0.074</td>\n",
              "      <td>0.0</td>\n",
              "    </tr>\n",
              "    <tr>\n",
              "      <th>2590445</th>\n",
              "      <td>idff99de96</td>\n",
              "      <td>4</td>\n",
              "      <td>206.73</td>\n",
              "      <td>0.125</td>\n",
              "      <td>1.094</td>\n",
              "      <td>0.090</td>\n",
              "      <td>0.0</td>\n",
              "    </tr>\n",
              "    <tr>\n",
              "      <th>2590446</th>\n",
              "      <td>idff99de96</td>\n",
              "      <td>4</td>\n",
              "      <td>206.74</td>\n",
              "      <td>0.141</td>\n",
              "      <td>1.129</td>\n",
              "      <td>0.090</td>\n",
              "      <td>0.0</td>\n",
              "    </tr>\n",
              "    <tr>\n",
              "      <th>2590447</th>\n",
              "      <td>idff99de96</td>\n",
              "      <td>4</td>\n",
              "      <td>206.75</td>\n",
              "      <td>0.074</td>\n",
              "      <td>1.215</td>\n",
              "      <td>0.105</td>\n",
              "      <td>0.0</td>\n",
              "    </tr>\n",
              "  </tbody>\n",
              "</table>\n",
              "<p>2590448 rows × 7 columns</p>\n",
              "</div>\n",
              "      <button class=\"colab-df-convert\" onclick=\"convertToInteractive('df-e92352ed-e398-430a-be9f-38a1bfa9dbcc')\"\n",
              "              title=\"Convert this dataframe to an interactive table.\"\n",
              "              style=\"display:none;\">\n",
              "        \n",
              "  <svg xmlns=\"http://www.w3.org/2000/svg\" height=\"24px\"viewBox=\"0 0 24 24\"\n",
              "       width=\"24px\">\n",
              "    <path d=\"M0 0h24v24H0V0z\" fill=\"none\"/>\n",
              "    <path d=\"M18.56 5.44l.94 2.06.94-2.06 2.06-.94-2.06-.94-.94-2.06-.94 2.06-2.06.94zm-11 1L8.5 8.5l.94-2.06 2.06-.94-2.06-.94L8.5 2.5l-.94 2.06-2.06.94zm10 10l.94 2.06.94-2.06 2.06-.94-2.06-.94-.94-2.06-.94 2.06-2.06.94z\"/><path d=\"M17.41 7.96l-1.37-1.37c-.4-.4-.92-.59-1.43-.59-.52 0-1.04.2-1.43.59L10.3 9.45l-7.72 7.72c-.78.78-.78 2.05 0 2.83L4 21.41c.39.39.9.59 1.41.59.51 0 1.02-.2 1.41-.59l7.78-7.78 2.81-2.81c.8-.78.8-2.07 0-2.86zM5.41 20L4 18.59l7.72-7.72 1.47 1.35L5.41 20z\"/>\n",
              "  </svg>\n",
              "      </button>\n",
              "      \n",
              "  <style>\n",
              "    .colab-df-container {\n",
              "      display:flex;\n",
              "      flex-wrap:wrap;\n",
              "      gap: 12px;\n",
              "    }\n",
              "\n",
              "    .colab-df-convert {\n",
              "      background-color: #E8F0FE;\n",
              "      border: none;\n",
              "      border-radius: 50%;\n",
              "      cursor: pointer;\n",
              "      display: none;\n",
              "      fill: #1967D2;\n",
              "      height: 32px;\n",
              "      padding: 0 0 0 0;\n",
              "      width: 32px;\n",
              "    }\n",
              "\n",
              "    .colab-df-convert:hover {\n",
              "      background-color: #E2EBFA;\n",
              "      box-shadow: 0px 1px 2px rgba(60, 64, 67, 0.3), 0px 1px 3px 1px rgba(60, 64, 67, 0.15);\n",
              "      fill: #174EA6;\n",
              "    }\n",
              "\n",
              "    [theme=dark] .colab-df-convert {\n",
              "      background-color: #3B4455;\n",
              "      fill: #D2E3FC;\n",
              "    }\n",
              "\n",
              "    [theme=dark] .colab-df-convert:hover {\n",
              "      background-color: #434B5C;\n",
              "      box-shadow: 0px 1px 3px 1px rgba(0, 0, 0, 0.15);\n",
              "      filter: drop-shadow(0px 1px 2px rgba(0, 0, 0, 0.3));\n",
              "      fill: #FFFFFF;\n",
              "    }\n",
              "  </style>\n",
              "\n",
              "      <script>\n",
              "        const buttonEl =\n",
              "          document.querySelector('#df-e92352ed-e398-430a-be9f-38a1bfa9dbcc button.colab-df-convert');\n",
              "        buttonEl.style.display =\n",
              "          google.colab.kernel.accessAllowed ? 'block' : 'none';\n",
              "\n",
              "        async function convertToInteractive(key) {\n",
              "          const element = document.querySelector('#df-e92352ed-e398-430a-be9f-38a1bfa9dbcc');\n",
              "          const dataTable =\n",
              "            await google.colab.kernel.invokeFunction('convertToInteractive',\n",
              "                                                     [key], {});\n",
              "          if (!dataTable) return;\n",
              "\n",
              "          const docLinkHtml = 'Like what you see? Visit the ' +\n",
              "            '<a target=\"_blank\" href=https://colab.research.google.com/notebooks/data_table.ipynb>data table notebook</a>'\n",
              "            + ' to learn more about interactive tables.';\n",
              "          element.innerHTML = '';\n",
              "          dataTable['output_type'] = 'display_data';\n",
              "          await google.colab.output.renderOutput(dataTable, element);\n",
              "          const docLink = document.createElement('div');\n",
              "          docLink.innerHTML = docLinkHtml;\n",
              "          element.appendChild(docLink);\n",
              "        }\n",
              "      </script>\n",
              "    </div>\n",
              "  </div>\n",
              "  "
            ],
            "text/plain": [
              "            subj_id  loc_id  time_s      x      y      z  label\n",
              "723888   id00b70b13       1    0.00 -0.344 -1.285 -0.039    0.0\n",
              "723889   id00b70b13       1    0.01 -0.336 -1.301 -0.027    0.0\n",
              "723890   id00b70b13       1    0.02 -0.305 -1.324 -0.016    0.0\n",
              "723891   id00b70b13       1    0.03 -0.273 -1.371 -0.004    0.0\n",
              "723892   id00b70b13       1    0.04 -0.227 -1.418  0.020    0.0\n",
              "...             ...     ...     ...    ...    ...    ...    ...\n",
              "2590443  idff99de96       4  206.71  0.098  1.059  0.090    0.0\n",
              "2590444  idff99de96       4  206.72  0.105  1.070  0.074    0.0\n",
              "2590445  idff99de96       4  206.73  0.125  1.094  0.090    0.0\n",
              "2590446  idff99de96       4  206.74  0.141  1.129  0.090    0.0\n",
              "2590447  idff99de96       4  206.75  0.074  1.215  0.105    0.0\n",
              "\n",
              "[2590448 rows x 7 columns]"
            ]
          },
          "metadata": {},
          "execution_count": 6
        }
      ],
      "source": [
        "df = df.sort_values(['subj_id', 'loc_id'], ascending=[True, True])\n",
        "df"
      ]
    },
    {
      "cell_type": "code",
      "source": [
        "df['subj_id'] = df['subj_id'].astype('category')\n",
        "df['subj_id'] = df['subj_id'].cat.codes\n",
        "\n",
        "df['label'] = df['label'].astype('category')\n",
        "df['label'] = df['label'].cat.codes"
      ],
      "metadata": {
        "id": "9TdYznmnlAMB"
      },
      "execution_count": null,
      "outputs": []
    },
    {
      "cell_type": "code",
      "source": [
        "df"
      ],
      "metadata": {
        "colab": {
          "base_uri": "https://localhost:8080/",
          "height": 424
        },
        "id": "849hR1XDlyFZ",
        "outputId": "0dba8930-0600-4a78-c101-648de4ac169f"
      },
      "execution_count": null,
      "outputs": [
        {
          "output_type": "execute_result",
          "data": {
            "text/html": [
              "\n",
              "  <div id=\"df-0663ae59-bc5f-4821-aa7a-cbc51bdcfbf1\">\n",
              "    <div class=\"colab-df-container\">\n",
              "      <div>\n",
              "<style scoped>\n",
              "    .dataframe tbody tr th:only-of-type {\n",
              "        vertical-align: middle;\n",
              "    }\n",
              "\n",
              "    .dataframe tbody tr th {\n",
              "        vertical-align: top;\n",
              "    }\n",
              "\n",
              "    .dataframe thead th {\n",
              "        text-align: right;\n",
              "    }\n",
              "</style>\n",
              "<table border=\"1\" class=\"dataframe\">\n",
              "  <thead>\n",
              "    <tr style=\"text-align: right;\">\n",
              "      <th></th>\n",
              "      <th>subj_id</th>\n",
              "      <th>loc_id</th>\n",
              "      <th>time_s</th>\n",
              "      <th>x</th>\n",
              "      <th>y</th>\n",
              "      <th>z</th>\n",
              "      <th>label</th>\n",
              "    </tr>\n",
              "  </thead>\n",
              "  <tbody>\n",
              "    <tr>\n",
              "      <th>723888</th>\n",
              "      <td>0</td>\n",
              "      <td>1</td>\n",
              "      <td>0.00</td>\n",
              "      <td>-0.344</td>\n",
              "      <td>-1.285</td>\n",
              "      <td>-0.039</td>\n",
              "      <td>0</td>\n",
              "    </tr>\n",
              "    <tr>\n",
              "      <th>723889</th>\n",
              "      <td>0</td>\n",
              "      <td>1</td>\n",
              "      <td>0.01</td>\n",
              "      <td>-0.336</td>\n",
              "      <td>-1.301</td>\n",
              "      <td>-0.027</td>\n",
              "      <td>0</td>\n",
              "    </tr>\n",
              "    <tr>\n",
              "      <th>723890</th>\n",
              "      <td>0</td>\n",
              "      <td>1</td>\n",
              "      <td>0.02</td>\n",
              "      <td>-0.305</td>\n",
              "      <td>-1.324</td>\n",
              "      <td>-0.016</td>\n",
              "      <td>0</td>\n",
              "    </tr>\n",
              "    <tr>\n",
              "      <th>723891</th>\n",
              "      <td>0</td>\n",
              "      <td>1</td>\n",
              "      <td>0.03</td>\n",
              "      <td>-0.273</td>\n",
              "      <td>-1.371</td>\n",
              "      <td>-0.004</td>\n",
              "      <td>0</td>\n",
              "    </tr>\n",
              "    <tr>\n",
              "      <th>723892</th>\n",
              "      <td>0</td>\n",
              "      <td>1</td>\n",
              "      <td>0.04</td>\n",
              "      <td>-0.227</td>\n",
              "      <td>-1.418</td>\n",
              "      <td>0.020</td>\n",
              "      <td>0</td>\n",
              "    </tr>\n",
              "    <tr>\n",
              "      <th>...</th>\n",
              "      <td>...</td>\n",
              "      <td>...</td>\n",
              "      <td>...</td>\n",
              "      <td>...</td>\n",
              "      <td>...</td>\n",
              "      <td>...</td>\n",
              "      <td>...</td>\n",
              "    </tr>\n",
              "    <tr>\n",
              "      <th>2590443</th>\n",
              "      <td>31</td>\n",
              "      <td>4</td>\n",
              "      <td>206.71</td>\n",
              "      <td>0.098</td>\n",
              "      <td>1.059</td>\n",
              "      <td>0.090</td>\n",
              "      <td>0</td>\n",
              "    </tr>\n",
              "    <tr>\n",
              "      <th>2590444</th>\n",
              "      <td>31</td>\n",
              "      <td>4</td>\n",
              "      <td>206.72</td>\n",
              "      <td>0.105</td>\n",
              "      <td>1.070</td>\n",
              "      <td>0.074</td>\n",
              "      <td>0</td>\n",
              "    </tr>\n",
              "    <tr>\n",
              "      <th>2590445</th>\n",
              "      <td>31</td>\n",
              "      <td>4</td>\n",
              "      <td>206.73</td>\n",
              "      <td>0.125</td>\n",
              "      <td>1.094</td>\n",
              "      <td>0.090</td>\n",
              "      <td>0</td>\n",
              "    </tr>\n",
              "    <tr>\n",
              "      <th>2590446</th>\n",
              "      <td>31</td>\n",
              "      <td>4</td>\n",
              "      <td>206.74</td>\n",
              "      <td>0.141</td>\n",
              "      <td>1.129</td>\n",
              "      <td>0.090</td>\n",
              "      <td>0</td>\n",
              "    </tr>\n",
              "    <tr>\n",
              "      <th>2590447</th>\n",
              "      <td>31</td>\n",
              "      <td>4</td>\n",
              "      <td>206.75</td>\n",
              "      <td>0.074</td>\n",
              "      <td>1.215</td>\n",
              "      <td>0.105</td>\n",
              "      <td>0</td>\n",
              "    </tr>\n",
              "  </tbody>\n",
              "</table>\n",
              "<p>2590448 rows × 7 columns</p>\n",
              "</div>\n",
              "      <button class=\"colab-df-convert\" onclick=\"convertToInteractive('df-0663ae59-bc5f-4821-aa7a-cbc51bdcfbf1')\"\n",
              "              title=\"Convert this dataframe to an interactive table.\"\n",
              "              style=\"display:none;\">\n",
              "        \n",
              "  <svg xmlns=\"http://www.w3.org/2000/svg\" height=\"24px\"viewBox=\"0 0 24 24\"\n",
              "       width=\"24px\">\n",
              "    <path d=\"M0 0h24v24H0V0z\" fill=\"none\"/>\n",
              "    <path d=\"M18.56 5.44l.94 2.06.94-2.06 2.06-.94-2.06-.94-.94-2.06-.94 2.06-2.06.94zm-11 1L8.5 8.5l.94-2.06 2.06-.94-2.06-.94L8.5 2.5l-.94 2.06-2.06.94zm10 10l.94 2.06.94-2.06 2.06-.94-2.06-.94-.94-2.06-.94 2.06-2.06.94z\"/><path d=\"M17.41 7.96l-1.37-1.37c-.4-.4-.92-.59-1.43-.59-.52 0-1.04.2-1.43.59L10.3 9.45l-7.72 7.72c-.78.78-.78 2.05 0 2.83L4 21.41c.39.39.9.59 1.41.59.51 0 1.02-.2 1.41-.59l7.78-7.78 2.81-2.81c.8-.78.8-2.07 0-2.86zM5.41 20L4 18.59l7.72-7.72 1.47 1.35L5.41 20z\"/>\n",
              "  </svg>\n",
              "      </button>\n",
              "      \n",
              "  <style>\n",
              "    .colab-df-container {\n",
              "      display:flex;\n",
              "      flex-wrap:wrap;\n",
              "      gap: 12px;\n",
              "    }\n",
              "\n",
              "    .colab-df-convert {\n",
              "      background-color: #E8F0FE;\n",
              "      border: none;\n",
              "      border-radius: 50%;\n",
              "      cursor: pointer;\n",
              "      display: none;\n",
              "      fill: #1967D2;\n",
              "      height: 32px;\n",
              "      padding: 0 0 0 0;\n",
              "      width: 32px;\n",
              "    }\n",
              "\n",
              "    .colab-df-convert:hover {\n",
              "      background-color: #E2EBFA;\n",
              "      box-shadow: 0px 1px 2px rgba(60, 64, 67, 0.3), 0px 1px 3px 1px rgba(60, 64, 67, 0.15);\n",
              "      fill: #174EA6;\n",
              "    }\n",
              "\n",
              "    [theme=dark] .colab-df-convert {\n",
              "      background-color: #3B4455;\n",
              "      fill: #D2E3FC;\n",
              "    }\n",
              "\n",
              "    [theme=dark] .colab-df-convert:hover {\n",
              "      background-color: #434B5C;\n",
              "      box-shadow: 0px 1px 3px 1px rgba(0, 0, 0, 0.15);\n",
              "      filter: drop-shadow(0px 1px 2px rgba(0, 0, 0, 0.3));\n",
              "      fill: #FFFFFF;\n",
              "    }\n",
              "  </style>\n",
              "\n",
              "      <script>\n",
              "        const buttonEl =\n",
              "          document.querySelector('#df-0663ae59-bc5f-4821-aa7a-cbc51bdcfbf1 button.colab-df-convert');\n",
              "        buttonEl.style.display =\n",
              "          google.colab.kernel.accessAllowed ? 'block' : 'none';\n",
              "\n",
              "        async function convertToInteractive(key) {\n",
              "          const element = document.querySelector('#df-0663ae59-bc5f-4821-aa7a-cbc51bdcfbf1');\n",
              "          const dataTable =\n",
              "            await google.colab.kernel.invokeFunction('convertToInteractive',\n",
              "                                                     [key], {});\n",
              "          if (!dataTable) return;\n",
              "\n",
              "          const docLinkHtml = 'Like what you see? Visit the ' +\n",
              "            '<a target=\"_blank\" href=https://colab.research.google.com/notebooks/data_table.ipynb>data table notebook</a>'\n",
              "            + ' to learn more about interactive tables.';\n",
              "          element.innerHTML = '';\n",
              "          dataTable['output_type'] = 'display_data';\n",
              "          await google.colab.output.renderOutput(dataTable, element);\n",
              "          const docLink = document.createElement('div');\n",
              "          docLink.innerHTML = docLinkHtml;\n",
              "          element.appendChild(docLink);\n",
              "        }\n",
              "      </script>\n",
              "    </div>\n",
              "  </div>\n",
              "  "
            ],
            "text/plain": [
              "         subj_id  loc_id  time_s      x      y      z  label\n",
              "723888         0       1    0.00 -0.344 -1.285 -0.039      0\n",
              "723889         0       1    0.01 -0.336 -1.301 -0.027      0\n",
              "723890         0       1    0.02 -0.305 -1.324 -0.016      0\n",
              "723891         0       1    0.03 -0.273 -1.371 -0.004      0\n",
              "723892         0       1    0.04 -0.227 -1.418  0.020      0\n",
              "...          ...     ...     ...    ...    ...    ...    ...\n",
              "2590443       31       4  206.71  0.098  1.059  0.090      0\n",
              "2590444       31       4  206.72  0.105  1.070  0.074      0\n",
              "2590445       31       4  206.73  0.125  1.094  0.090      0\n",
              "2590446       31       4  206.74  0.141  1.129  0.090      0\n",
              "2590447       31       4  206.75  0.074  1.215  0.105      0\n",
              "\n",
              "[2590448 rows x 7 columns]"
            ]
          },
          "metadata": {},
          "execution_count": 8
        }
      ]
    },
    {
      "cell_type": "markdown",
      "source": [
        "# ***SCALING***"
      ],
      "metadata": {
        "id": "PzOCsTe1rL7N"
      }
    },
    {
      "cell_type": "code",
      "source": [
        "from sklearn.preprocessing import MinMaxScaler\n",
        "# define min max scaler\n",
        "scaler = MinMaxScaler()\n",
        "\n",
        "# df1 = df[['loc_id','magnitude','label']]\n",
        "# df1"
      ],
      "metadata": {
        "id": "LVySi3MeziCA"
      },
      "execution_count": null,
      "outputs": []
    },
    {
      "cell_type": "code",
      "source": [
        "df_scaled = pd.DataFrame(scaler.fit_transform(df),columns=df.columns)\n",
        "\n",
        "# df = pd.concat([df['subj_id'], df1], axis=1)\n",
        "df = df_scaled"
      ],
      "metadata": {
        "id": "eKVi5zggzvjT"
      },
      "execution_count": null,
      "outputs": []
    },
    {
      "cell_type": "code",
      "source": [
        "df"
      ],
      "metadata": {
        "colab": {
          "base_uri": "https://localhost:8080/",
          "height": 424
        },
        "id": "vz8ncZHwmMCR",
        "outputId": "77b70d2f-320b-47bc-c6f7-422016d52b54"
      },
      "execution_count": null,
      "outputs": [
        {
          "output_type": "execute_result",
          "data": {
            "text/html": [
              "\n",
              "  <div id=\"df-6f4351d2-2a98-4c1b-b695-efb28648b458\">\n",
              "    <div class=\"colab-df-container\">\n",
              "      <div>\n",
              "<style scoped>\n",
              "    .dataframe tbody tr th:only-of-type {\n",
              "        vertical-align: middle;\n",
              "    }\n",
              "\n",
              "    .dataframe tbody tr th {\n",
              "        vertical-align: top;\n",
              "    }\n",
              "\n",
              "    .dataframe thead th {\n",
              "        text-align: right;\n",
              "    }\n",
              "</style>\n",
              "<table border=\"1\" class=\"dataframe\">\n",
              "  <thead>\n",
              "    <tr style=\"text-align: right;\">\n",
              "      <th></th>\n",
              "      <th>subj_id</th>\n",
              "      <th>loc_id</th>\n",
              "      <th>time_s</th>\n",
              "      <th>x</th>\n",
              "      <th>y</th>\n",
              "      <th>z</th>\n",
              "      <th>label</th>\n",
              "    </tr>\n",
              "  </thead>\n",
              "  <tbody>\n",
              "    <tr>\n",
              "      <th>0</th>\n",
              "      <td>0.0</td>\n",
              "      <td>0.0</td>\n",
              "      <td>0.000000</td>\n",
              "      <td>0.504167</td>\n",
              "      <td>0.371755</td>\n",
              "      <td>0.431236</td>\n",
              "      <td>0.0</td>\n",
              "    </tr>\n",
              "    <tr>\n",
              "      <th>1</th>\n",
              "      <td>0.0</td>\n",
              "      <td>0.0</td>\n",
              "      <td>0.000041</td>\n",
              "      <td>0.504779</td>\n",
              "      <td>0.370469</td>\n",
              "      <td>0.432446</td>\n",
              "      <td>0.0</td>\n",
              "    </tr>\n",
              "    <tr>\n",
              "      <th>2</th>\n",
              "      <td>0.0</td>\n",
              "      <td>0.0</td>\n",
              "      <td>0.000083</td>\n",
              "      <td>0.507149</td>\n",
              "      <td>0.368620</td>\n",
              "      <td>0.433555</td>\n",
              "      <td>0.0</td>\n",
              "    </tr>\n",
              "    <tr>\n",
              "      <th>3</th>\n",
              "      <td>0.0</td>\n",
              "      <td>0.0</td>\n",
              "      <td>0.000124</td>\n",
              "      <td>0.509596</td>\n",
              "      <td>0.364842</td>\n",
              "      <td>0.434765</td>\n",
              "      <td>0.0</td>\n",
              "    </tr>\n",
              "    <tr>\n",
              "      <th>4</th>\n",
              "      <td>0.0</td>\n",
              "      <td>0.0</td>\n",
              "      <td>0.000166</td>\n",
              "      <td>0.513113</td>\n",
              "      <td>0.361064</td>\n",
              "      <td>0.437185</td>\n",
              "      <td>0.0</td>\n",
              "    </tr>\n",
              "    <tr>\n",
              "      <th>...</th>\n",
              "      <td>...</td>\n",
              "      <td>...</td>\n",
              "      <td>...</td>\n",
              "      <td>...</td>\n",
              "      <td>...</td>\n",
              "      <td>...</td>\n",
              "      <td>...</td>\n",
              "    </tr>\n",
              "    <tr>\n",
              "      <th>2590443</th>\n",
              "      <td>1.0</td>\n",
              "      <td>1.0</td>\n",
              "      <td>0.855836</td>\n",
              "      <td>0.537962</td>\n",
              "      <td>0.560164</td>\n",
              "      <td>0.444243</td>\n",
              "      <td>0.0</td>\n",
              "    </tr>\n",
              "    <tr>\n",
              "      <th>2590444</th>\n",
              "      <td>1.0</td>\n",
              "      <td>1.0</td>\n",
              "      <td>0.855877</td>\n",
              "      <td>0.538497</td>\n",
              "      <td>0.561048</td>\n",
              "      <td>0.442630</td>\n",
              "      <td>0.0</td>\n",
              "    </tr>\n",
              "    <tr>\n",
              "      <th>2590445</th>\n",
              "      <td>1.0</td>\n",
              "      <td>1.0</td>\n",
              "      <td>0.855919</td>\n",
              "      <td>0.540026</td>\n",
              "      <td>0.562977</td>\n",
              "      <td>0.444243</td>\n",
              "      <td>0.0</td>\n",
              "    </tr>\n",
              "    <tr>\n",
              "      <th>2590446</th>\n",
              "      <td>1.0</td>\n",
              "      <td>1.0</td>\n",
              "      <td>0.855960</td>\n",
              "      <td>0.541249</td>\n",
              "      <td>0.565791</td>\n",
              "      <td>0.444243</td>\n",
              "      <td>0.0</td>\n",
              "    </tr>\n",
              "    <tr>\n",
              "      <th>2590447</th>\n",
              "      <td>1.0</td>\n",
              "      <td>1.0</td>\n",
              "      <td>0.856001</td>\n",
              "      <td>0.536127</td>\n",
              "      <td>0.572703</td>\n",
              "      <td>0.445755</td>\n",
              "      <td>0.0</td>\n",
              "    </tr>\n",
              "  </tbody>\n",
              "</table>\n",
              "<p>2590448 rows × 7 columns</p>\n",
              "</div>\n",
              "      <button class=\"colab-df-convert\" onclick=\"convertToInteractive('df-6f4351d2-2a98-4c1b-b695-efb28648b458')\"\n",
              "              title=\"Convert this dataframe to an interactive table.\"\n",
              "              style=\"display:none;\">\n",
              "        \n",
              "  <svg xmlns=\"http://www.w3.org/2000/svg\" height=\"24px\"viewBox=\"0 0 24 24\"\n",
              "       width=\"24px\">\n",
              "    <path d=\"M0 0h24v24H0V0z\" fill=\"none\"/>\n",
              "    <path d=\"M18.56 5.44l.94 2.06.94-2.06 2.06-.94-2.06-.94-.94-2.06-.94 2.06-2.06.94zm-11 1L8.5 8.5l.94-2.06 2.06-.94-2.06-.94L8.5 2.5l-.94 2.06-2.06.94zm10 10l.94 2.06.94-2.06 2.06-.94-2.06-.94-.94-2.06-.94 2.06-2.06.94z\"/><path d=\"M17.41 7.96l-1.37-1.37c-.4-.4-.92-.59-1.43-.59-.52 0-1.04.2-1.43.59L10.3 9.45l-7.72 7.72c-.78.78-.78 2.05 0 2.83L4 21.41c.39.39.9.59 1.41.59.51 0 1.02-.2 1.41-.59l7.78-7.78 2.81-2.81c.8-.78.8-2.07 0-2.86zM5.41 20L4 18.59l7.72-7.72 1.47 1.35L5.41 20z\"/>\n",
              "  </svg>\n",
              "      </button>\n",
              "      \n",
              "  <style>\n",
              "    .colab-df-container {\n",
              "      display:flex;\n",
              "      flex-wrap:wrap;\n",
              "      gap: 12px;\n",
              "    }\n",
              "\n",
              "    .colab-df-convert {\n",
              "      background-color: #E8F0FE;\n",
              "      border: none;\n",
              "      border-radius: 50%;\n",
              "      cursor: pointer;\n",
              "      display: none;\n",
              "      fill: #1967D2;\n",
              "      height: 32px;\n",
              "      padding: 0 0 0 0;\n",
              "      width: 32px;\n",
              "    }\n",
              "\n",
              "    .colab-df-convert:hover {\n",
              "      background-color: #E2EBFA;\n",
              "      box-shadow: 0px 1px 2px rgba(60, 64, 67, 0.3), 0px 1px 3px 1px rgba(60, 64, 67, 0.15);\n",
              "      fill: #174EA6;\n",
              "    }\n",
              "\n",
              "    [theme=dark] .colab-df-convert {\n",
              "      background-color: #3B4455;\n",
              "      fill: #D2E3FC;\n",
              "    }\n",
              "\n",
              "    [theme=dark] .colab-df-convert:hover {\n",
              "      background-color: #434B5C;\n",
              "      box-shadow: 0px 1px 3px 1px rgba(0, 0, 0, 0.15);\n",
              "      filter: drop-shadow(0px 1px 2px rgba(0, 0, 0, 0.3));\n",
              "      fill: #FFFFFF;\n",
              "    }\n",
              "  </style>\n",
              "\n",
              "      <script>\n",
              "        const buttonEl =\n",
              "          document.querySelector('#df-6f4351d2-2a98-4c1b-b695-efb28648b458 button.colab-df-convert');\n",
              "        buttonEl.style.display =\n",
              "          google.colab.kernel.accessAllowed ? 'block' : 'none';\n",
              "\n",
              "        async function convertToInteractive(key) {\n",
              "          const element = document.querySelector('#df-6f4351d2-2a98-4c1b-b695-efb28648b458');\n",
              "          const dataTable =\n",
              "            await google.colab.kernel.invokeFunction('convertToInteractive',\n",
              "                                                     [key], {});\n",
              "          if (!dataTable) return;\n",
              "\n",
              "          const docLinkHtml = 'Like what you see? Visit the ' +\n",
              "            '<a target=\"_blank\" href=https://colab.research.google.com/notebooks/data_table.ipynb>data table notebook</a>'\n",
              "            + ' to learn more about interactive tables.';\n",
              "          element.innerHTML = '';\n",
              "          dataTable['output_type'] = 'display_data';\n",
              "          await google.colab.output.renderOutput(dataTable, element);\n",
              "          const docLink = document.createElement('div');\n",
              "          docLink.innerHTML = docLinkHtml;\n",
              "          element.appendChild(docLink);\n",
              "        }\n",
              "      </script>\n",
              "    </div>\n",
              "  </div>\n",
              "  "
            ],
            "text/plain": [
              "         subj_id  loc_id    time_s         x         y         z  label\n",
              "0            0.0     0.0  0.000000  0.504167  0.371755  0.431236    0.0\n",
              "1            0.0     0.0  0.000041  0.504779  0.370469  0.432446    0.0\n",
              "2            0.0     0.0  0.000083  0.507149  0.368620  0.433555    0.0\n",
              "3            0.0     0.0  0.000124  0.509596  0.364842  0.434765    0.0\n",
              "4            0.0     0.0  0.000166  0.513113  0.361064  0.437185    0.0\n",
              "...          ...     ...       ...       ...       ...       ...    ...\n",
              "2590443      1.0     1.0  0.855836  0.537962  0.560164  0.444243    0.0\n",
              "2590444      1.0     1.0  0.855877  0.538497  0.561048  0.442630    0.0\n",
              "2590445      1.0     1.0  0.855919  0.540026  0.562977  0.444243    0.0\n",
              "2590446      1.0     1.0  0.855960  0.541249  0.565791  0.444243    0.0\n",
              "2590447      1.0     1.0  0.856001  0.536127  0.572703  0.445755    0.0\n",
              "\n",
              "[2590448 rows x 7 columns]"
            ]
          },
          "metadata": {},
          "execution_count": 11
        }
      ]
    },
    {
      "cell_type": "markdown",
      "metadata": {
        "id": "ANLu_ZipsPwL"
      },
      "source": [
        "# **TRAINING AND TEST DATA**\n",
        "\n",
        "\n",
        "\n",
        "*   Total data   : 32 Subjects\n",
        "*   Training data: 25 subjects\n",
        "*   Test data    : 7 subjects\n",
        "\n"
      ]
    },
    {
      "cell_type": "code",
      "execution_count": null,
      "metadata": {
        "colab": {
          "base_uri": "https://localhost:8080/"
        },
        "id": "G4nuj79VrQXf",
        "outputId": "784cf68f-9818-40d4-8f5a-5b5aa6d93aa7"
      },
      "outputs": [
        {
          "output_type": "execute_result",
          "data": {
            "text/plain": [
              "array([0.        , 0.03225806, 0.06451613, 0.09677419, 0.12903226,\n",
              "       0.16129032, 0.19354839, 0.22580645, 0.25806452, 0.29032258,\n",
              "       0.32258065, 0.35483871, 0.38709677, 0.41935484, 0.4516129 ,\n",
              "       0.48387097, 0.51612903, 0.5483871 , 0.58064516, 0.61290323,\n",
              "       0.64516129, 0.67741935, 0.70967742, 0.74193548, 0.77419355])"
            ]
          },
          "metadata": {},
          "execution_count": 12
        }
      ],
      "source": [
        "df.subj_id.unique()[:25]"
      ]
    },
    {
      "cell_type": "code",
      "execution_count": null,
      "metadata": {
        "id": "zYAQ_Ve3l2D8"
      },
      "outputs": [],
      "source": [
        "df_train = df[df.subj_id.isin( df.subj_id.unique()[:25] ) ] "
      ]
    },
    {
      "cell_type": "code",
      "execution_count": null,
      "metadata": {
        "id": "ojmC32gDsN3O"
      },
      "outputs": [],
      "source": [
        "df_test = df[df.subj_id.isin( df.subj_id.unique()[25:] )]"
      ]
    },
    {
      "cell_type": "markdown",
      "metadata": {
        "id": "ZmliWGVFnAS8"
      },
      "source": [
        "# ***Every subject was timed for 15minutes ***"
      ]
    },
    {
      "cell_type": "markdown",
      "source": [
        "# **overlapping windows with 50% overlap - Window size :50 Step size:50**"
      ],
      "metadata": {
        "id": "H2VfR8uGs1u2"
      }
    },
    {
      "cell_type": "code",
      "source": [
        "from scipy import stats\n",
        "x_list = []\n",
        "y_list = []\n",
        "\n",
        "train_labels = []\n",
        "new_list = []\n",
        "\n",
        "window_size = 50\n",
        "step_size = 50\n",
        "\n",
        "for i in range(0, df_train.shape[0] - window_size, step_size):\n",
        "    xs = df_train['x'].values[i: i + 50]\n",
        "    xs1 = df_train['y'].values[i: i + 50]\n",
        "    xs2 = df_train['z'].values[i: i + 50]\n",
        "    # ys = df_train['loc_id'].values[i: i + 50]\n",
        "    # zs = df_train['subj_id'].values[i: i + 50]\n",
        "    label = stats.mode(df_train['label'][i: i + 50])[0][0]\n",
        "    a = np.c_[ xs,xs1,xs2 ]\n",
        "    new_list.append(a)\n",
        "    train_labels.append(label)\n",
        "\n",
        "Xtrain = np.array(new_list)"
      ],
      "metadata": {
        "id": "97q9Vc5Z8gCM"
      },
      "execution_count": null,
      "outputs": []
    },
    {
      "cell_type": "code",
      "source": [
        "train_x = np.asarray(Xtrain)\n",
        "train_y = np.asarray(train_labels)"
      ],
      "metadata": {
        "id": "9KUV1gJUCvgJ"
      },
      "execution_count": null,
      "outputs": []
    },
    {
      "cell_type": "markdown",
      "source": [
        "# ***CNN***"
      ],
      "metadata": {
        "id": "77jXq7rUqtcE"
      }
    },
    {
      "cell_type": "code",
      "execution_count": null,
      "metadata": {
        "colab": {
          "base_uri": "https://localhost:8080/"
        },
        "id": "-wtjp39fhHFL",
        "outputId": "674b9954-5962-4488-e64c-b88fd095af2d"
      },
      "outputs": [
        {
          "output_type": "stream",
          "name": "stdout",
          "text": [
            "Model: \"sequential\"\n",
            "_________________________________________________________________\n",
            " Layer (type)                Output Shape              Param #   \n",
            "=================================================================\n",
            " conv1d (Conv1D)             (None, 49, 160)           1120      \n",
            "                                                                 \n",
            " conv1d_1 (Conv1D)           (None, 48, 128)           41088     \n",
            "                                                                 \n",
            " max_pooling1d (MaxPooling1D  (None, 48, 128)          0         \n",
            " )                                                               \n",
            "                                                                 \n",
            " flatten (Flatten)           (None, 6144)              0         \n",
            "                                                                 \n",
            " dropout (Dropout)           (None, 6144)              0         \n",
            "                                                                 \n",
            " dense (Dense)               (None, 64)                393280    \n",
            "                                                                 \n",
            " dense_1 (Dense)             (None, 1)                 65        \n",
            "                                                                 \n",
            "=================================================================\n",
            "Total params: 435,553\n",
            "Trainable params: 435,553\n",
            "Non-trainable params: 0\n",
            "_________________________________________________________________\n"
          ]
        }
      ],
      "source": [
        "model_cnn = Sequential() \n",
        "\n",
        "model_cnn.add(Conv1D(filters=160, kernel_size=2, activation='relu', input_shape=(50,3)))\n",
        "\n",
        "# model_cnn.add(MaxPooling1D(pool_size=1))\n",
        "model_cnn.add(Conv1D(filters=128, kernel_size=2, activation='relu'))\n",
        "# model_cnn.add(MaxPooling1D(pool_size=1))\n",
        "# model_cnn.add(Conv1D(filters=96, kernel_size=2, activation='relu'))\n",
        "# model_cnn.add(Conv1D(filters=64, kernel_size=2, activation='relu'))\n",
        "model_cnn.add(MaxPooling1D(pool_size=1))\n",
        "model_cnn.add(Flatten())\n",
        "model_cnn.add(Dropout(0.5))\n",
        "model_cnn.add(Dense(64, activation='sigmoid'))\n",
        "model_cnn.add(Dense(1,activation='sigmoid'))\n",
        "\n",
        "model_cnn.compile(loss='binary_crossentropy', optimizer=\"adam\", metrics = [\"accuracy\", tf.keras.metrics.Recall(), tf.keras.metrics.Precision()])\n",
        "model_cnn.summary()"
      ]
    },
    {
      "cell_type": "code",
      "execution_count": null,
      "metadata": {
        "id": "CV-uOkMQOC1a",
        "colab": {
          "base_uri": "https://localhost:8080/"
        },
        "outputId": "246de2f4-a174-4834-a84c-50d4e39b67b3"
      },
      "outputs": [
        {
          "output_type": "stream",
          "name": "stdout",
          "text": [
            "Epoch 1/100\n",
            "41/41 [==============================] - 12s 54ms/step - loss: 0.6972 - accuracy: 0.5024 - recall: 0.3694 - precision: 0.4930\n",
            "Epoch 2/100\n",
            "41/41 [==============================] - 2s 37ms/step - loss: 0.6933 - accuracy: 0.5068 - recall: 0.2397 - precision: 0.4984\n",
            "Epoch 3/100\n",
            "41/41 [==============================] - 1s 37ms/step - loss: 0.6935 - accuracy: 0.5054 - recall: 0.3449 - precision: 0.4968\n",
            "Epoch 4/100\n",
            "41/41 [==============================] - 1s 37ms/step - loss: 0.6933 - accuracy: 0.5039 - recall: 0.2744 - precision: 0.4932\n",
            "Epoch 5/100\n",
            "41/41 [==============================] - 1s 36ms/step - loss: 0.6932 - accuracy: 0.5061 - recall: 0.1994 - precision: 0.4962\n",
            "Epoch 6/100\n",
            "41/41 [==============================] - 1s 36ms/step - loss: 0.6932 - accuracy: 0.5065 - recall: 0.0780 - precision: 0.4932\n",
            "Epoch 7/100\n",
            "41/41 [==============================] - 1s 36ms/step - loss: 0.6931 - accuracy: 0.5021 - recall: 0.2713 - precision: 0.4899\n",
            "Epoch 8/100\n",
            "41/41 [==============================] - 2s 37ms/step - loss: 0.6931 - accuracy: 0.5059 - recall: 0.2234 - precision: 0.4962\n",
            "Epoch 9/100\n",
            "41/41 [==============================] - 1s 36ms/step - loss: 0.6932 - accuracy: 0.5058 - recall: 0.2110 - precision: 0.4959\n",
            "Epoch 10/100\n",
            "41/41 [==============================] - 1s 36ms/step - loss: 0.6930 - accuracy: 0.5057 - recall: 0.2013 - precision: 0.4954\n",
            "Epoch 11/100\n",
            "41/41 [==============================] - 1s 36ms/step - loss: 0.6930 - accuracy: 0.5067 - recall: 0.2015 - precision: 0.4980\n",
            "Epoch 12/100\n",
            "41/41 [==============================] - 2s 37ms/step - loss: 0.6930 - accuracy: 0.5062 - recall: 0.1244 - precision: 0.4945\n",
            "Epoch 13/100\n",
            "41/41 [==============================] - 1s 37ms/step - loss: 0.6930 - accuracy: 0.5054 - recall: 0.2262 - precision: 0.4953\n",
            "Epoch 14/100\n",
            "41/41 [==============================] - 1s 36ms/step - loss: 0.6928 - accuracy: 0.5114 - recall: 0.1464 - precision: 0.5135\n",
            "Epoch 15/100\n",
            "41/41 [==============================] - 1s 36ms/step - loss: 0.6929 - accuracy: 0.5080 - recall: 0.2389 - precision: 0.5010\n",
            "Epoch 16/100\n",
            "41/41 [==============================] - 1s 36ms/step - loss: 0.6928 - accuracy: 0.5087 - recall: 0.1852 - precision: 0.5031\n",
            "Epoch 17/100\n",
            "41/41 [==============================] - 1s 36ms/step - loss: 0.6928 - accuracy: 0.5095 - recall: 0.2795 - precision: 0.5035\n",
            "Epoch 18/100\n",
            "41/41 [==============================] - 1s 36ms/step - loss: 0.6927 - accuracy: 0.5085 - recall: 0.1852 - precision: 0.5027\n",
            "Epoch 19/100\n",
            "41/41 [==============================] - 1s 36ms/step - loss: 0.6926 - accuracy: 0.5107 - recall: 0.3129 - precision: 0.5052\n",
            "Epoch 20/100\n",
            "41/41 [==============================] - 1s 37ms/step - loss: 0.6927 - accuracy: 0.5110 - recall: 0.3868 - precision: 0.5046\n",
            "Epoch 21/100\n",
            "41/41 [==============================] - 1s 36ms/step - loss: 0.6926 - accuracy: 0.5113 - recall: 0.2663 - precision: 0.5073\n",
            "Epoch 22/100\n",
            "41/41 [==============================] - 1s 36ms/step - loss: 0.6927 - accuracy: 0.5094 - recall: 0.3267 - precision: 0.5028\n",
            "Epoch 23/100\n",
            "41/41 [==============================] - 1s 36ms/step - loss: 0.6925 - accuracy: 0.5104 - recall: 0.2864 - precision: 0.5050\n",
            "Epoch 24/100\n",
            "41/41 [==============================] - 2s 37ms/step - loss: 0.6924 - accuracy: 0.5110 - recall: 0.2826 - precision: 0.5063\n",
            "Epoch 25/100\n",
            "41/41 [==============================] - 2s 37ms/step - loss: 0.6926 - accuracy: 0.5120 - recall: 0.2993 - precision: 0.5076\n",
            "Epoch 26/100\n",
            "41/41 [==============================] - 1s 36ms/step - loss: 0.6922 - accuracy: 0.5136 - recall: 0.3013 - precision: 0.5103\n",
            "Epoch 27/100\n",
            "41/41 [==============================] - 1s 36ms/step - loss: 0.6925 - accuracy: 0.5102 - recall: 0.2781 - precision: 0.5048\n",
            "Epoch 28/100\n",
            "41/41 [==============================] - 2s 37ms/step - loss: 0.6926 - accuracy: 0.5092 - recall: 0.1924 - precision: 0.5044\n",
            "Epoch 29/100\n",
            "41/41 [==============================] - 1s 36ms/step - loss: 0.6926 - accuracy: 0.5100 - recall: 0.3642 - precision: 0.5035\n",
            "Epoch 30/100\n",
            "41/41 [==============================] - 1s 36ms/step - loss: 0.6923 - accuracy: 0.5121 - recall: 0.2943 - precision: 0.5080\n",
            "Epoch 31/100\n",
            "41/41 [==============================] - 1s 37ms/step - loss: 0.6923 - accuracy: 0.5140 - recall: 0.4139 - precision: 0.5080\n",
            "Epoch 32/100\n",
            "41/41 [==============================] - 1s 36ms/step - loss: 0.6924 - accuracy: 0.5107 - recall: 0.3150 - precision: 0.5051\n",
            "Epoch 33/100\n",
            "41/41 [==============================] - 2s 37ms/step - loss: 0.6925 - accuracy: 0.5099 - recall: 0.3485 - precision: 0.5034\n",
            "Epoch 34/100\n",
            "41/41 [==============================] - 1s 36ms/step - loss: 0.6922 - accuracy: 0.5149 - recall: 0.2653 - precision: 0.5145\n",
            "Epoch 35/100\n",
            "41/41 [==============================] - 1s 36ms/step - loss: 0.6922 - accuracy: 0.5154 - recall: 0.2996 - precision: 0.5136\n",
            "Epoch 36/100\n",
            "41/41 [==============================] - 1s 36ms/step - loss: 0.6923 - accuracy: 0.5119 - recall: 0.4664 - precision: 0.5048\n",
            "Epoch 37/100\n",
            "41/41 [==============================] - 1s 36ms/step - loss: 0.6926 - accuracy: 0.5066 - recall: 0.3420 - precision: 0.4986\n",
            "Epoch 38/100\n",
            "41/41 [==============================] - 1s 36ms/step - loss: 0.6922 - accuracy: 0.5124 - recall: 0.2826 - precision: 0.5089\n",
            "Epoch 39/100\n",
            "41/41 [==============================] - 1s 36ms/step - loss: 0.6924 - accuracy: 0.5119 - recall: 0.3386 - precision: 0.5066\n",
            "Epoch 40/100\n",
            "41/41 [==============================] - 2s 37ms/step - loss: 0.6925 - accuracy: 0.5092 - recall: 0.3449 - precision: 0.5024\n",
            "Epoch 41/100\n",
            "41/41 [==============================] - 1s 36ms/step - loss: 0.6924 - accuracy: 0.5113 - recall: 0.3077 - precision: 0.5062\n",
            "Epoch 42/100\n",
            "41/41 [==============================] - 1s 36ms/step - loss: 0.6922 - accuracy: 0.5128 - recall: 0.3161 - precision: 0.5085\n",
            "Epoch 43/100\n",
            "41/41 [==============================] - 1s 36ms/step - loss: 0.6922 - accuracy: 0.5145 - recall: 0.4036 - precision: 0.5089\n",
            "Epoch 44/100\n",
            "41/41 [==============================] - 2s 37ms/step - loss: 0.6923 - accuracy: 0.5111 - recall: 0.2302 - precision: 0.5080\n",
            "Epoch 45/100\n",
            "41/41 [==============================] - 1s 36ms/step - loss: 0.6923 - accuracy: 0.5109 - recall: 0.3528 - precision: 0.5048\n",
            "Epoch 46/100\n",
            "41/41 [==============================] - 1s 36ms/step - loss: 0.6918 - accuracy: 0.5158 - recall: 0.4400 - precision: 0.5096\n",
            "Epoch 47/100\n",
            "41/41 [==============================] - 1s 35ms/step - loss: 0.6921 - accuracy: 0.5145 - recall: 0.2912 - precision: 0.5124\n",
            "Epoch 48/100\n",
            "41/41 [==============================] - 1s 36ms/step - loss: 0.6919 - accuracy: 0.5138 - recall: 0.3264 - precision: 0.5099\n",
            "Epoch 49/100\n",
            "41/41 [==============================] - 1s 36ms/step - loss: 0.6917 - accuracy: 0.5197 - recall: 0.3859 - precision: 0.5165\n",
            "Epoch 50/100\n",
            "41/41 [==============================] - 1s 35ms/step - loss: 0.6919 - accuracy: 0.5153 - recall: 0.3054 - precision: 0.5133\n",
            "Epoch 51/100\n",
            "41/41 [==============================] - 1s 36ms/step - loss: 0.6919 - accuracy: 0.5132 - recall: 0.3313 - precision: 0.5088\n",
            "Epoch 52/100\n",
            "41/41 [==============================] - 1s 36ms/step - loss: 0.6920 - accuracy: 0.5173 - recall: 0.3624 - precision: 0.5140\n",
            "Epoch 53/100\n",
            "41/41 [==============================] - 1s 36ms/step - loss: 0.6916 - accuracy: 0.5174 - recall: 0.2909 - precision: 0.5178\n",
            "Epoch 54/100\n",
            "41/41 [==============================] - 1s 36ms/step - loss: 0.6916 - accuracy: 0.5191 - recall: 0.4129 - precision: 0.5146\n",
            "Epoch 55/100\n",
            "41/41 [==============================] - 1s 36ms/step - loss: 0.6916 - accuracy: 0.5160 - recall: 0.3686 - precision: 0.5119\n",
            "Epoch 56/100\n",
            "41/41 [==============================] - 1s 36ms/step - loss: 0.6918 - accuracy: 0.5174 - recall: 0.2553 - precision: 0.5204\n",
            "Epoch 57/100\n",
            "41/41 [==============================] - 1s 36ms/step - loss: 0.6919 - accuracy: 0.5149 - recall: 0.3288 - precision: 0.5116\n",
            "Epoch 58/100\n",
            "41/41 [==============================] - 1s 35ms/step - loss: 0.6917 - accuracy: 0.5165 - recall: 0.3449 - precision: 0.5135\n",
            "Epoch 59/100\n",
            "41/41 [==============================] - 1s 36ms/step - loss: 0.6914 - accuracy: 0.5186 - recall: 0.3030 - precision: 0.5192\n",
            "Epoch 60/100\n",
            "41/41 [==============================] - 1s 36ms/step - loss: 0.6912 - accuracy: 0.5192 - recall: 0.3466 - precision: 0.5176\n",
            "Epoch 61/100\n",
            "41/41 [==============================] - 1s 36ms/step - loss: 0.6920 - accuracy: 0.5118 - recall: 0.4307 - precision: 0.5051\n",
            "Epoch 62/100\n",
            "41/41 [==============================] - 1s 35ms/step - loss: 0.6915 - accuracy: 0.5151 - recall: 0.3661 - precision: 0.5106\n",
            "Epoch 63/100\n",
            "41/41 [==============================] - 1s 36ms/step - loss: 0.6915 - accuracy: 0.5179 - recall: 0.3661 - precision: 0.5147\n",
            "Epoch 64/100\n",
            "41/41 [==============================] - 1s 36ms/step - loss: 0.6916 - accuracy: 0.5144 - recall: 0.3665 - precision: 0.5096\n",
            "Epoch 65/100\n",
            "41/41 [==============================] - 1s 36ms/step - loss: 0.6914 - accuracy: 0.5189 - recall: 0.3226 - precision: 0.5184\n",
            "Epoch 66/100\n",
            "41/41 [==============================] - 1s 36ms/step - loss: 0.6913 - accuracy: 0.5145 - recall: 0.3970 - precision: 0.5091\n",
            "Epoch 67/100\n",
            "41/41 [==============================] - 1s 36ms/step - loss: 0.6914 - accuracy: 0.5148 - recall: 0.3850 - precision: 0.5098\n",
            "Epoch 68/100\n",
            "41/41 [==============================] - 1s 36ms/step - loss: 0.6910 - accuracy: 0.5193 - recall: 0.3597 - precision: 0.5171\n",
            "Epoch 69/100\n",
            "41/41 [==============================] - 1s 36ms/step - loss: 0.6914 - accuracy: 0.5148 - recall: 0.3153 - precision: 0.5120\n",
            "Epoch 70/100\n",
            "41/41 [==============================] - 1s 36ms/step - loss: 0.6916 - accuracy: 0.5166 - recall: 0.4224 - precision: 0.5111\n",
            "Epoch 71/100\n",
            "41/41 [==============================] - 1s 36ms/step - loss: 0.6914 - accuracy: 0.5167 - recall: 0.3780 - precision: 0.5126\n",
            "Epoch 72/100\n",
            "41/41 [==============================] - 1s 36ms/step - loss: 0.6913 - accuracy: 0.5183 - recall: 0.3852 - precision: 0.5146\n",
            "Epoch 73/100\n",
            "41/41 [==============================] - 1s 36ms/step - loss: 0.6910 - accuracy: 0.5195 - recall: 0.3369 - precision: 0.5186\n",
            "Epoch 74/100\n",
            "41/41 [==============================] - 1s 36ms/step - loss: 0.6910 - accuracy: 0.5194 - recall: 0.3457 - precision: 0.5180\n",
            "Epoch 75/100\n",
            "41/41 [==============================] - 1s 36ms/step - loss: 0.6914 - accuracy: 0.5159 - recall: 0.3934 - precision: 0.5110\n",
            "Epoch 76/100\n",
            "41/41 [==============================] - 1s 36ms/step - loss: 0.6911 - accuracy: 0.5202 - recall: 0.4670 - precision: 0.5141\n",
            "Epoch 77/100\n",
            "41/41 [==============================] - 1s 36ms/step - loss: 0.6908 - accuracy: 0.5230 - recall: 0.3038 - precision: 0.5273\n",
            "Epoch 78/100\n",
            "41/41 [==============================] - 1s 36ms/step - loss: 0.6911 - accuracy: 0.5216 - recall: 0.3849 - precision: 0.5192\n",
            "Epoch 79/100\n",
            "41/41 [==============================] - 1s 36ms/step - loss: 0.6915 - accuracy: 0.5121 - recall: 0.4294 - precision: 0.5054\n",
            "Epoch 80/100\n",
            "41/41 [==============================] - 1s 36ms/step - loss: 0.6907 - accuracy: 0.5233 - recall: 0.4350 - precision: 0.5191\n",
            "Epoch 81/100\n",
            "41/41 [==============================] - 1s 36ms/step - loss: 0.6910 - accuracy: 0.5210 - recall: 0.4534 - precision: 0.5155\n",
            "Epoch 82/100\n",
            "41/41 [==============================] - 1s 36ms/step - loss: 0.6906 - accuracy: 0.5209 - recall: 0.3486 - precision: 0.5201\n",
            "Epoch 83/100\n",
            "41/41 [==============================] - 1s 36ms/step - loss: 0.6909 - accuracy: 0.5193 - recall: 0.3834 - precision: 0.5160\n",
            "Epoch 84/100\n",
            "41/41 [==============================] - 1s 36ms/step - loss: 0.6908 - accuracy: 0.5177 - recall: 0.4137 - precision: 0.5128\n",
            "Epoch 85/100\n",
            "41/41 [==============================] - 1s 36ms/step - loss: 0.6910 - accuracy: 0.5219 - recall: 0.3438 - precision: 0.5221\n",
            "Epoch 86/100\n",
            "41/41 [==============================] - 1s 36ms/step - loss: 0.6910 - accuracy: 0.5230 - recall: 0.4246 - precision: 0.5191\n",
            "Epoch 87/100\n",
            "41/41 [==============================] - 1s 36ms/step - loss: 0.6908 - accuracy: 0.5187 - recall: 0.3910 - precision: 0.5148\n",
            "Epoch 88/100\n",
            "41/41 [==============================] - 1s 36ms/step - loss: 0.6909 - accuracy: 0.5194 - recall: 0.3621 - precision: 0.5172\n",
            "Epoch 89/100\n",
            "41/41 [==============================] - 1s 37ms/step - loss: 0.6906 - accuracy: 0.5178 - recall: 0.4950 - precision: 0.5108\n",
            "Epoch 90/100\n",
            "41/41 [==============================] - 1s 36ms/step - loss: 0.6909 - accuracy: 0.5219 - recall: 0.3664 - precision: 0.5206\n",
            "Epoch 91/100\n",
            "41/41 [==============================] - 1s 36ms/step - loss: 0.6908 - accuracy: 0.5181 - recall: 0.4675 - precision: 0.5117\n",
            "Epoch 92/100\n",
            "41/41 [==============================] - 1s 37ms/step - loss: 0.6908 - accuracy: 0.5195 - recall: 0.3793 - precision: 0.5165\n",
            "Epoch 93/100\n",
            "41/41 [==============================] - 1s 36ms/step - loss: 0.6905 - accuracy: 0.5237 - recall: 0.3771 - precision: 0.5228\n",
            "Epoch 94/100\n",
            "41/41 [==============================] - 1s 36ms/step - loss: 0.6906 - accuracy: 0.5249 - recall: 0.3705 - precision: 0.5249\n",
            "Epoch 95/100\n",
            "41/41 [==============================] - 1s 36ms/step - loss: 0.6904 - accuracy: 0.5247 - recall: 0.4283 - precision: 0.5212\n",
            "Epoch 96/100\n",
            "41/41 [==============================] - 1s 36ms/step - loss: 0.6901 - accuracy: 0.5241 - recall: 0.3958 - precision: 0.5221\n",
            "Epoch 97/100\n",
            "41/41 [==============================] - 1s 36ms/step - loss: 0.6901 - accuracy: 0.5230 - recall: 0.4328 - precision: 0.5188\n",
            "Epoch 98/100\n",
            "41/41 [==============================] - 1s 37ms/step - loss: 0.6899 - accuracy: 0.5279 - recall: 0.4203 - precision: 0.5259\n",
            "Epoch 99/100\n",
            "41/41 [==============================] - 1s 36ms/step - loss: 0.6906 - accuracy: 0.5218 - recall: 0.4201 - precision: 0.5179\n",
            "Epoch 100/100\n",
            "41/41 [==============================] - 1s 36ms/step - loss: 0.6900 - accuracy: 0.5254 - recall: 0.4118 - precision: 0.5230\n"
          ]
        },
        {
          "output_type": "execute_result",
          "data": {
            "text/plain": [
              "<keras.callbacks.History at 0x7ff0501a35d0>"
            ]
          },
          "metadata": {},
          "execution_count": 18
        }
      ],
      "source": [
        "model_cnn.fit(train_x, train_y, epochs=100, batch_size=1000, verbose=1)"
      ]
    },
    {
      "cell_type": "markdown",
      "source": [
        "## ***Evaluation***"
      ],
      "metadata": {
        "id": "6SnC4J52si0F"
      }
    },
    {
      "cell_type": "markdown",
      "source": [
        "Test data"
      ],
      "metadata": {
        "id": "hjDudD-YtF4O"
      }
    },
    {
      "cell_type": "code",
      "source": [
        "from scipy import stats\n",
        "test_y = []\n",
        "test_x = []\n",
        "\n",
        "window_size = 50\n",
        "step_size = 50\n",
        "\n",
        "for i in range(0, df_test.shape[0] - window_size, step_size):\n",
        "    xs = df_test['x'].values[i: i + 50]\n",
        "    xs1 = df_test['y'].values[i: i + 50]\n",
        "    xs2 = df_test['z'].values[i: i + 50]\n",
        "    # zs = df_train['subj_id'].values[i: i + 50]\n",
        "    # ys = df_test['loc_id'].values[i: i + 50]\n",
        "    label = stats.mode(df_test['label'][i: i + 50])[0][0]\n",
        "    a = np.c_[ xs,xs1,xs2 ]\n",
        "    test_x.append(a)\n",
        "    test_y.append(label)"
      ],
      "metadata": {
        "id": "s7PwHTlIk1Ie"
      },
      "execution_count": null,
      "outputs": []
    },
    {
      "cell_type": "code",
      "source": [
        "test_x = np.array(test_x)\n",
        "test_y = np.array(test_y)\n",
        "\n",
        "scores = model_cnn.evaluate(test_x,test_y, verbose=1)"
      ],
      "metadata": {
        "id": "nfQVuP75iQSP",
        "colab": {
          "base_uri": "https://localhost:8080/"
        },
        "outputId": "8e5a738b-c755-453b-f754-1b212a6a1c3f"
      },
      "execution_count": null,
      "outputs": [
        {
          "output_type": "stream",
          "name": "stdout",
          "text": [
            "353/353 [==============================] - 2s 6ms/step - loss: 0.6953 - accuracy: 0.5131 - recall: 0.1027 - precision: 0.5127\n"
          ]
        }
      ]
    },
    {
      "cell_type": "markdown",
      "source": [
        "# ***Prediction***"
      ],
      "metadata": {
        "id": "mSkVZOzfsrqF"
      }
    },
    {
      "cell_type": "code",
      "source": [
        "pred = model_cnn.predict(test_x) \n",
        "pred = np.argmax(pred, axis = 1)\n",
        "label = test_y\n",
        "\n",
        "x = pd.DataFrame(pred,columns= [\"preds\"])\n"
      ],
      "metadata": {
        "id": "yUv-alDFqxpy"
      },
      "execution_count": null,
      "outputs": []
    },
    {
      "cell_type": "code",
      "source": [
        "test_y"
      ],
      "metadata": {
        "colab": {
          "base_uri": "https://localhost:8080/"
        },
        "id": "hv7QdW8mrcuf",
        "outputId": "cb7c627e-fdb1-4734-fea6-bff732d3e840"
      },
      "execution_count": null,
      "outputs": [
        {
          "output_type": "execute_result",
          "data": {
            "text/plain": [
              "array([0., 1., 1., ..., 1., 0., 0.])"
            ]
          },
          "metadata": {},
          "execution_count": 22
        }
      ]
    },
    {
      "cell_type": "markdown",
      "source": [
        "# ***Confusion Matrix***"
      ],
      "metadata": {
        "id": "9abDbse3eqq8"
      }
    },
    {
      "cell_type": "code",
      "source": [
        "from sklearn.metrics import confusion_matrix\n",
        "confusion_matrix(test_y, pred)"
      ],
      "metadata": {
        "colab": {
          "base_uri": "https://localhost:8080/"
        },
        "id": "UEMTE5bJeptF",
        "outputId": "bac35716-710f-4edf-9302-1b739c29690b"
      },
      "execution_count": null,
      "outputs": [
        {
          "output_type": "execute_result",
          "data": {
            "text/plain": [
              "array([[5761,    0],\n",
              "       [5522,    0]])"
            ]
          },
          "metadata": {},
          "execution_count": 23
        }
      ]
    },
    {
      "cell_type": "markdown",
      "source": [
        "## **Classification Report**"
      ],
      "metadata": {
        "id": "wWCWBMbslDlU"
      }
    },
    {
      "cell_type": "code",
      "source": [
        "from sklearn import metrics \n",
        "from sklearn.metrics import classification_report\n",
        "print(\"\\n -------------Classification Report-------------\\n\")\n",
        "print(classification_report(test_y, pred))"
      ],
      "metadata": {
        "colab": {
          "base_uri": "https://localhost:8080/"
        },
        "id": "XxtUdN4ejDmp",
        "outputId": "9f5dfc86-d07b-4f14-887d-b4ab05fe6a4c"
      },
      "execution_count": null,
      "outputs": [
        {
          "output_type": "stream",
          "name": "stdout",
          "text": [
            "\n",
            " -------------Classification Report-------------\n",
            "\n",
            "              precision    recall  f1-score   support\n",
            "\n",
            "         0.0       0.51      1.00      0.68      5761\n",
            "         1.0       0.00      0.00      0.00      5522\n",
            "\n",
            "    accuracy                           0.51     11283\n",
            "   macro avg       0.26      0.50      0.34     11283\n",
            "weighted avg       0.26      0.51      0.35     11283\n",
            "\n"
          ]
        },
        {
          "output_type": "stream",
          "name": "stderr",
          "text": [
            "/usr/local/lib/python3.7/dist-packages/sklearn/metrics/_classification.py:1318: UndefinedMetricWarning: Precision and F-score are ill-defined and being set to 0.0 in labels with no predicted samples. Use `zero_division` parameter to control this behavior.\n",
            "  _warn_prf(average, modifier, msg_start, len(result))\n",
            "/usr/local/lib/python3.7/dist-packages/sklearn/metrics/_classification.py:1318: UndefinedMetricWarning: Precision and F-score are ill-defined and being set to 0.0 in labels with no predicted samples. Use `zero_division` parameter to control this behavior.\n",
            "  _warn_prf(average, modifier, msg_start, len(result))\n",
            "/usr/local/lib/python3.7/dist-packages/sklearn/metrics/_classification.py:1318: UndefinedMetricWarning: Precision and F-score are ill-defined and being set to 0.0 in labels with no predicted samples. Use `zero_division` parameter to control this behavior.\n",
            "  _warn_prf(average, modifier, msg_start, len(result))\n"
          ]
        }
      ]
    }
  ],
  "metadata": {
    "accelerator": "GPU",
    "colab": {
      "collapsed_sections": [],
      "name": "HAR_CNNwith(50,3).ipynb",
      "provenance": []
    },
    "kernelspec": {
      "display_name": "Python 3",
      "name": "python3"
    },
    "language_info": {
      "name": "python"
    }
  },
  "nbformat": 4,
  "nbformat_minor": 0
}