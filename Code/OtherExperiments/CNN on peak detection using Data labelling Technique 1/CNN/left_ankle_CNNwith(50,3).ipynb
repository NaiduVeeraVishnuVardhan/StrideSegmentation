{
  "cells": [
    {
      "cell_type": "code",
      "execution_count": null,
      "metadata": {
        "colab": {
          "base_uri": "https://localhost:8080/"
        },
        "id": "S-ZNnDFC4zII",
        "outputId": "c02388ef-e4c2-4e3f-849a-f9e9edcd201c"
      },
      "outputs": [
        {
          "output_type": "stream",
          "name": "stdout",
          "text": [
            "Mounted at /content/drive\n"
          ]
        }
      ],
      "source": [
        "from google.colab import drive\n",
        "drive.mount('/content/drive')"
      ]
    },
    {
      "cell_type": "code",
      "execution_count": null,
      "metadata": {
        "id": "Aal8vcSpHMC0"
      },
      "outputs": [],
      "source": [
        "import keras\n",
        "from tensorflow.keras.utils import to_categorical\n",
        "from keras import models\n",
        "from keras import layers\n",
        "from keras.models import Sequential\n",
        "from keras.layers import Dense, Dropout, Activation, Flatten\n",
        "from keras.layers import Conv2D, MaxPooling2D\n",
        "from keras.layers.convolutional import Conv1D, MaxPooling1D\n",
        "from tensorflow import keras\n",
        "import pandas as pd\n",
        "import numpy as np\n",
        "import matplotlib.pyplot as plt\n",
        "import tensorflow as tf\n",
        "import keras\n",
        "import pandas as pd\n",
        "import numpy as np"
      ]
    },
    {
      "cell_type": "code",
      "execution_count": null,
      "metadata": {
        "id": "bFvy2Nem2SJt"
      },
      "outputs": [],
      "source": [
        "df = pd.read_csv('/content/drive/MyDrive/Colab Notebooks/dataset/left_ankle_dataWithlabels.csv')#,index_col='time_s',parse_dates=['time_s'])"
      ]
    },
    {
      "cell_type": "code",
      "execution_count": null,
      "metadata": {
        "id": "F9llyFVnR8Tn"
      },
      "outputs": [],
      "source": [
        "df = df.drop(['Unnamed: 0'], 1)\n",
        "df = df.drop(['magnitude'], 1)"
      ]
    },
    {
      "cell_type": "code",
      "execution_count": null,
      "metadata": {
        "id": "C2Gig64mou8U",
        "colab": {
          "base_uri": "https://localhost:8080/",
          "height": 424
        },
        "outputId": "9c02be0a-58e6-4082-c73a-c09ae02eaea3"
      },
      "outputs": [
        {
          "output_type": "execute_result",
          "data": {
            "text/html": [
              "\n",
              "  <div id=\"df-e568cfac-26b9-4da1-8998-851d32d5950c\">\n",
              "    <div class=\"colab-df-container\">\n",
              "      <div>\n",
              "<style scoped>\n",
              "    .dataframe tbody tr th:only-of-type {\n",
              "        vertical-align: middle;\n",
              "    }\n",
              "\n",
              "    .dataframe tbody tr th {\n",
              "        vertical-align: top;\n",
              "    }\n",
              "\n",
              "    .dataframe thead th {\n",
              "        text-align: right;\n",
              "    }\n",
              "</style>\n",
              "<table border=\"1\" class=\"dataframe\">\n",
              "  <thead>\n",
              "    <tr style=\"text-align: right;\">\n",
              "      <th></th>\n",
              "      <th>subj_id</th>\n",
              "      <th>loc_id</th>\n",
              "      <th>time_s</th>\n",
              "      <th>x</th>\n",
              "      <th>y</th>\n",
              "      <th>z</th>\n",
              "      <th>label</th>\n",
              "    </tr>\n",
              "  </thead>\n",
              "  <tbody>\n",
              "    <tr>\n",
              "      <th>180972</th>\n",
              "      <td>id00b70b13</td>\n",
              "      <td>left_ankle</td>\n",
              "      <td>0.00</td>\n",
              "      <td>-1.730</td>\n",
              "      <td>2.023</td>\n",
              "      <td>-0.258</td>\n",
              "      <td>0.0</td>\n",
              "    </tr>\n",
              "    <tr>\n",
              "      <th>180973</th>\n",
              "      <td>id00b70b13</td>\n",
              "      <td>left_ankle</td>\n",
              "      <td>0.01</td>\n",
              "      <td>-0.977</td>\n",
              "      <td>1.652</td>\n",
              "      <td>0.246</td>\n",
              "      <td>0.0</td>\n",
              "    </tr>\n",
              "    <tr>\n",
              "      <th>180974</th>\n",
              "      <td>id00b70b13</td>\n",
              "      <td>left_ankle</td>\n",
              "      <td>0.02</td>\n",
              "      <td>1.098</td>\n",
              "      <td>1.191</td>\n",
              "      <td>0.633</td>\n",
              "      <td>0.0</td>\n",
              "    </tr>\n",
              "    <tr>\n",
              "      <th>180975</th>\n",
              "      <td>id00b70b13</td>\n",
              "      <td>left_ankle</td>\n",
              "      <td>0.03</td>\n",
              "      <td>1.910</td>\n",
              "      <td>1.102</td>\n",
              "      <td>0.371</td>\n",
              "      <td>0.0</td>\n",
              "    </tr>\n",
              "    <tr>\n",
              "      <th>180976</th>\n",
              "      <td>id00b70b13</td>\n",
              "      <td>left_ankle</td>\n",
              "      <td>0.04</td>\n",
              "      <td>1.109</td>\n",
              "      <td>1.281</td>\n",
              "      <td>-0.660</td>\n",
              "      <td>0.0</td>\n",
              "    </tr>\n",
              "    <tr>\n",
              "      <th>...</th>\n",
              "      <td>...</td>\n",
              "      <td>...</td>\n",
              "      <td>...</td>\n",
              "      <td>...</td>\n",
              "      <td>...</td>\n",
              "      <td>...</td>\n",
              "      <td>...</td>\n",
              "    </tr>\n",
              "    <tr>\n",
              "      <th>647607</th>\n",
              "      <td>idff99de96</td>\n",
              "      <td>left_ankle</td>\n",
              "      <td>206.71</td>\n",
              "      <td>-0.031</td>\n",
              "      <td>-1.113</td>\n",
              "      <td>0.258</td>\n",
              "      <td>0.0</td>\n",
              "    </tr>\n",
              "    <tr>\n",
              "      <th>647608</th>\n",
              "      <td>idff99de96</td>\n",
              "      <td>left_ankle</td>\n",
              "      <td>206.72</td>\n",
              "      <td>-0.102</td>\n",
              "      <td>-1.141</td>\n",
              "      <td>0.285</td>\n",
              "      <td>0.0</td>\n",
              "    </tr>\n",
              "    <tr>\n",
              "      <th>647609</th>\n",
              "      <td>idff99de96</td>\n",
              "      <td>left_ankle</td>\n",
              "      <td>206.73</td>\n",
              "      <td>-0.027</td>\n",
              "      <td>-1.215</td>\n",
              "      <td>0.305</td>\n",
              "      <td>0.0</td>\n",
              "    </tr>\n",
              "    <tr>\n",
              "      <th>647610</th>\n",
              "      <td>idff99de96</td>\n",
              "      <td>left_ankle</td>\n",
              "      <td>206.74</td>\n",
              "      <td>-0.047</td>\n",
              "      <td>-1.285</td>\n",
              "      <td>0.230</td>\n",
              "      <td>0.0</td>\n",
              "    </tr>\n",
              "    <tr>\n",
              "      <th>647611</th>\n",
              "      <td>idff99de96</td>\n",
              "      <td>left_ankle</td>\n",
              "      <td>206.75</td>\n",
              "      <td>-0.031</td>\n",
              "      <td>-1.355</td>\n",
              "      <td>0.191</td>\n",
              "      <td>0.0</td>\n",
              "    </tr>\n",
              "  </tbody>\n",
              "</table>\n",
              "<p>647612 rows × 7 columns</p>\n",
              "</div>\n",
              "      <button class=\"colab-df-convert\" onclick=\"convertToInteractive('df-e568cfac-26b9-4da1-8998-851d32d5950c')\"\n",
              "              title=\"Convert this dataframe to an interactive table.\"\n",
              "              style=\"display:none;\">\n",
              "        \n",
              "  <svg xmlns=\"http://www.w3.org/2000/svg\" height=\"24px\"viewBox=\"0 0 24 24\"\n",
              "       width=\"24px\">\n",
              "    <path d=\"M0 0h24v24H0V0z\" fill=\"none\"/>\n",
              "    <path d=\"M18.56 5.44l.94 2.06.94-2.06 2.06-.94-2.06-.94-.94-2.06-.94 2.06-2.06.94zm-11 1L8.5 8.5l.94-2.06 2.06-.94-2.06-.94L8.5 2.5l-.94 2.06-2.06.94zm10 10l.94 2.06.94-2.06 2.06-.94-2.06-.94-.94-2.06-.94 2.06-2.06.94z\"/><path d=\"M17.41 7.96l-1.37-1.37c-.4-.4-.92-.59-1.43-.59-.52 0-1.04.2-1.43.59L10.3 9.45l-7.72 7.72c-.78.78-.78 2.05 0 2.83L4 21.41c.39.39.9.59 1.41.59.51 0 1.02-.2 1.41-.59l7.78-7.78 2.81-2.81c.8-.78.8-2.07 0-2.86zM5.41 20L4 18.59l7.72-7.72 1.47 1.35L5.41 20z\"/>\n",
              "  </svg>\n",
              "      </button>\n",
              "      \n",
              "  <style>\n",
              "    .colab-df-container {\n",
              "      display:flex;\n",
              "      flex-wrap:wrap;\n",
              "      gap: 12px;\n",
              "    }\n",
              "\n",
              "    .colab-df-convert {\n",
              "      background-color: #E8F0FE;\n",
              "      border: none;\n",
              "      border-radius: 50%;\n",
              "      cursor: pointer;\n",
              "      display: none;\n",
              "      fill: #1967D2;\n",
              "      height: 32px;\n",
              "      padding: 0 0 0 0;\n",
              "      width: 32px;\n",
              "    }\n",
              "\n",
              "    .colab-df-convert:hover {\n",
              "      background-color: #E2EBFA;\n",
              "      box-shadow: 0px 1px 2px rgba(60, 64, 67, 0.3), 0px 1px 3px 1px rgba(60, 64, 67, 0.15);\n",
              "      fill: #174EA6;\n",
              "    }\n",
              "\n",
              "    [theme=dark] .colab-df-convert {\n",
              "      background-color: #3B4455;\n",
              "      fill: #D2E3FC;\n",
              "    }\n",
              "\n",
              "    [theme=dark] .colab-df-convert:hover {\n",
              "      background-color: #434B5C;\n",
              "      box-shadow: 0px 1px 3px 1px rgba(0, 0, 0, 0.15);\n",
              "      filter: drop-shadow(0px 1px 2px rgba(0, 0, 0, 0.3));\n",
              "      fill: #FFFFFF;\n",
              "    }\n",
              "  </style>\n",
              "\n",
              "      <script>\n",
              "        const buttonEl =\n",
              "          document.querySelector('#df-e568cfac-26b9-4da1-8998-851d32d5950c button.colab-df-convert');\n",
              "        buttonEl.style.display =\n",
              "          google.colab.kernel.accessAllowed ? 'block' : 'none';\n",
              "\n",
              "        async function convertToInteractive(key) {\n",
              "          const element = document.querySelector('#df-e568cfac-26b9-4da1-8998-851d32d5950c');\n",
              "          const dataTable =\n",
              "            await google.colab.kernel.invokeFunction('convertToInteractive',\n",
              "                                                     [key], {});\n",
              "          if (!dataTable) return;\n",
              "\n",
              "          const docLinkHtml = 'Like what you see? Visit the ' +\n",
              "            '<a target=\"_blank\" href=https://colab.research.google.com/notebooks/data_table.ipynb>data table notebook</a>'\n",
              "            + ' to learn more about interactive tables.';\n",
              "          element.innerHTML = '';\n",
              "          dataTable['output_type'] = 'display_data';\n",
              "          await google.colab.output.renderOutput(dataTable, element);\n",
              "          const docLink = document.createElement('div');\n",
              "          docLink.innerHTML = docLinkHtml;\n",
              "          element.appendChild(docLink);\n",
              "        }\n",
              "      </script>\n",
              "    </div>\n",
              "  </div>\n",
              "  "
            ],
            "text/plain": [
              "           subj_id      loc_id  time_s      x      y      z  label\n",
              "180972  id00b70b13  left_ankle    0.00 -1.730  2.023 -0.258    0.0\n",
              "180973  id00b70b13  left_ankle    0.01 -0.977  1.652  0.246    0.0\n",
              "180974  id00b70b13  left_ankle    0.02  1.098  1.191  0.633    0.0\n",
              "180975  id00b70b13  left_ankle    0.03  1.910  1.102  0.371    0.0\n",
              "180976  id00b70b13  left_ankle    0.04  1.109  1.281 -0.660    0.0\n",
              "...            ...         ...     ...    ...    ...    ...    ...\n",
              "647607  idff99de96  left_ankle  206.71 -0.031 -1.113  0.258    0.0\n",
              "647608  idff99de96  left_ankle  206.72 -0.102 -1.141  0.285    0.0\n",
              "647609  idff99de96  left_ankle  206.73 -0.027 -1.215  0.305    0.0\n",
              "647610  idff99de96  left_ankle  206.74 -0.047 -1.285  0.230    0.0\n",
              "647611  idff99de96  left_ankle  206.75 -0.031 -1.355  0.191    0.0\n",
              "\n",
              "[647612 rows x 7 columns]"
            ]
          },
          "metadata": {},
          "execution_count": 5
        }
      ],
      "source": [
        "df = df.sort_values(['subj_id', 'loc_id'], ascending=[True, True])\n",
        "df"
      ]
    },
    {
      "cell_type": "code",
      "source": [
        "df['subj_id'] = df['subj_id'].astype('category')\n",
        "df['subj_id'] = df['subj_id'].cat.codes\n",
        "\n",
        "df['loc_id'] = df['loc_id'].astype('category')\n",
        "df['loc_id'] = df['loc_id'].cat.codes\n",
        "\n",
        "df['label'] = df['label'].astype('category')\n",
        "df['label'] = df['label'].cat.codes"
      ],
      "metadata": {
        "id": "9TdYznmnlAMB"
      },
      "execution_count": null,
      "outputs": []
    },
    {
      "cell_type": "code",
      "source": [
        "df"
      ],
      "metadata": {
        "colab": {
          "base_uri": "https://localhost:8080/",
          "height": 424
        },
        "id": "849hR1XDlyFZ",
        "outputId": "bbd8e837-5b3e-4a87-9bd2-5b416839c5b4"
      },
      "execution_count": null,
      "outputs": [
        {
          "output_type": "execute_result",
          "data": {
            "text/html": [
              "\n",
              "  <div id=\"df-d2e2d531-10d3-4cc0-a5b9-5eac76436744\">\n",
              "    <div class=\"colab-df-container\">\n",
              "      <div>\n",
              "<style scoped>\n",
              "    .dataframe tbody tr th:only-of-type {\n",
              "        vertical-align: middle;\n",
              "    }\n",
              "\n",
              "    .dataframe tbody tr th {\n",
              "        vertical-align: top;\n",
              "    }\n",
              "\n",
              "    .dataframe thead th {\n",
              "        text-align: right;\n",
              "    }\n",
              "</style>\n",
              "<table border=\"1\" class=\"dataframe\">\n",
              "  <thead>\n",
              "    <tr style=\"text-align: right;\">\n",
              "      <th></th>\n",
              "      <th>subj_id</th>\n",
              "      <th>loc_id</th>\n",
              "      <th>time_s</th>\n",
              "      <th>x</th>\n",
              "      <th>y</th>\n",
              "      <th>z</th>\n",
              "      <th>label</th>\n",
              "    </tr>\n",
              "  </thead>\n",
              "  <tbody>\n",
              "    <tr>\n",
              "      <th>0</th>\n",
              "      <td>0</td>\n",
              "      <td>0</td>\n",
              "      <td>0.000000</td>\n",
              "      <td>0.402286</td>\n",
              "      <td>0.714813</td>\n",
              "      <td>0.374272</td>\n",
              "      <td>0</td>\n",
              "    </tr>\n",
              "    <tr>\n",
              "      <th>1</th>\n",
              "      <td>0</td>\n",
              "      <td>0</td>\n",
              "      <td>0.000041</td>\n",
              "      <td>0.460451</td>\n",
              "      <td>0.681384</td>\n",
              "      <td>0.432945</td>\n",
              "      <td>0</td>\n",
              "    </tr>\n",
              "    <tr>\n",
              "      <th>2</th>\n",
              "      <td>0</td>\n",
              "      <td>0</td>\n",
              "      <td>0.000083</td>\n",
              "      <td>0.620732</td>\n",
              "      <td>0.639845</td>\n",
              "      <td>0.477998</td>\n",
              "      <td>0</td>\n",
              "    </tr>\n",
              "    <tr>\n",
              "      <th>3</th>\n",
              "      <td>0</td>\n",
              "      <td>0</td>\n",
              "      <td>0.000124</td>\n",
              "      <td>0.683454</td>\n",
              "      <td>0.631826</td>\n",
              "      <td>0.447497</td>\n",
              "      <td>0</td>\n",
              "    </tr>\n",
              "    <tr>\n",
              "      <th>4</th>\n",
              "      <td>0</td>\n",
              "      <td>0</td>\n",
              "      <td>0.000166</td>\n",
              "      <td>0.621582</td>\n",
              "      <td>0.647955</td>\n",
              "      <td>0.327474</td>\n",
              "      <td>0</td>\n",
              "    </tr>\n",
              "    <tr>\n",
              "      <th>...</th>\n",
              "      <td>...</td>\n",
              "      <td>...</td>\n",
              "      <td>...</td>\n",
              "      <td>...</td>\n",
              "      <td>...</td>\n",
              "      <td>...</td>\n",
              "      <td>...</td>\n",
              "    </tr>\n",
              "    <tr>\n",
              "      <th>647607</th>\n",
              "      <td>31</td>\n",
              "      <td>0</td>\n",
              "      <td>0.855836</td>\n",
              "      <td>0.533524</td>\n",
              "      <td>0.432240</td>\n",
              "      <td>0.434342</td>\n",
              "      <td>0</td>\n",
              "    </tr>\n",
              "    <tr>\n",
              "      <th>647608</th>\n",
              "      <td>31</td>\n",
              "      <td>0</td>\n",
              "      <td>0.855877</td>\n",
              "      <td>0.528040</td>\n",
              "      <td>0.429717</td>\n",
              "      <td>0.437485</td>\n",
              "      <td>0</td>\n",
              "    </tr>\n",
              "    <tr>\n",
              "      <th>647609</th>\n",
              "      <td>31</td>\n",
              "      <td>0</td>\n",
              "      <td>0.855919</td>\n",
              "      <td>0.533833</td>\n",
              "      <td>0.423049</td>\n",
              "      <td>0.439814</td>\n",
              "      <td>0</td>\n",
              "    </tr>\n",
              "    <tr>\n",
              "      <th>647610</th>\n",
              "      <td>31</td>\n",
              "      <td>0</td>\n",
              "      <td>0.855960</td>\n",
              "      <td>0.532288</td>\n",
              "      <td>0.416742</td>\n",
              "      <td>0.431083</td>\n",
              "      <td>0</td>\n",
              "    </tr>\n",
              "    <tr>\n",
              "      <th>647611</th>\n",
              "      <td>31</td>\n",
              "      <td>0</td>\n",
              "      <td>0.856001</td>\n",
              "      <td>0.533524</td>\n",
              "      <td>0.410434</td>\n",
              "      <td>0.426542</td>\n",
              "      <td>0</td>\n",
              "    </tr>\n",
              "  </tbody>\n",
              "</table>\n",
              "<p>647612 rows × 7 columns</p>\n",
              "</div>\n",
              "      <button class=\"colab-df-convert\" onclick=\"convertToInteractive('df-d2e2d531-10d3-4cc0-a5b9-5eac76436744')\"\n",
              "              title=\"Convert this dataframe to an interactive table.\"\n",
              "              style=\"display:none;\">\n",
              "        \n",
              "  <svg xmlns=\"http://www.w3.org/2000/svg\" height=\"24px\"viewBox=\"0 0 24 24\"\n",
              "       width=\"24px\">\n",
              "    <path d=\"M0 0h24v24H0V0z\" fill=\"none\"/>\n",
              "    <path d=\"M18.56 5.44l.94 2.06.94-2.06 2.06-.94-2.06-.94-.94-2.06-.94 2.06-2.06.94zm-11 1L8.5 8.5l.94-2.06 2.06-.94-2.06-.94L8.5 2.5l-.94 2.06-2.06.94zm10 10l.94 2.06.94-2.06 2.06-.94-2.06-.94-.94-2.06-.94 2.06-2.06.94z\"/><path d=\"M17.41 7.96l-1.37-1.37c-.4-.4-.92-.59-1.43-.59-.52 0-1.04.2-1.43.59L10.3 9.45l-7.72 7.72c-.78.78-.78 2.05 0 2.83L4 21.41c.39.39.9.59 1.41.59.51 0 1.02-.2 1.41-.59l7.78-7.78 2.81-2.81c.8-.78.8-2.07 0-2.86zM5.41 20L4 18.59l7.72-7.72 1.47 1.35L5.41 20z\"/>\n",
              "  </svg>\n",
              "      </button>\n",
              "      \n",
              "  <style>\n",
              "    .colab-df-container {\n",
              "      display:flex;\n",
              "      flex-wrap:wrap;\n",
              "      gap: 12px;\n",
              "    }\n",
              "\n",
              "    .colab-df-convert {\n",
              "      background-color: #E8F0FE;\n",
              "      border: none;\n",
              "      border-radius: 50%;\n",
              "      cursor: pointer;\n",
              "      display: none;\n",
              "      fill: #1967D2;\n",
              "      height: 32px;\n",
              "      padding: 0 0 0 0;\n",
              "      width: 32px;\n",
              "    }\n",
              "\n",
              "    .colab-df-convert:hover {\n",
              "      background-color: #E2EBFA;\n",
              "      box-shadow: 0px 1px 2px rgba(60, 64, 67, 0.3), 0px 1px 3px 1px rgba(60, 64, 67, 0.15);\n",
              "      fill: #174EA6;\n",
              "    }\n",
              "\n",
              "    [theme=dark] .colab-df-convert {\n",
              "      background-color: #3B4455;\n",
              "      fill: #D2E3FC;\n",
              "    }\n",
              "\n",
              "    [theme=dark] .colab-df-convert:hover {\n",
              "      background-color: #434B5C;\n",
              "      box-shadow: 0px 1px 3px 1px rgba(0, 0, 0, 0.15);\n",
              "      filter: drop-shadow(0px 1px 2px rgba(0, 0, 0, 0.3));\n",
              "      fill: #FFFFFF;\n",
              "    }\n",
              "  </style>\n",
              "\n",
              "      <script>\n",
              "        const buttonEl =\n",
              "          document.querySelector('#df-d2e2d531-10d3-4cc0-a5b9-5eac76436744 button.colab-df-convert');\n",
              "        buttonEl.style.display =\n",
              "          google.colab.kernel.accessAllowed ? 'block' : 'none';\n",
              "\n",
              "        async function convertToInteractive(key) {\n",
              "          const element = document.querySelector('#df-d2e2d531-10d3-4cc0-a5b9-5eac76436744');\n",
              "          const dataTable =\n",
              "            await google.colab.kernel.invokeFunction('convertToInteractive',\n",
              "                                                     [key], {});\n",
              "          if (!dataTable) return;\n",
              "\n",
              "          const docLinkHtml = 'Like what you see? Visit the ' +\n",
              "            '<a target=\"_blank\" href=https://colab.research.google.com/notebooks/data_table.ipynb>data table notebook</a>'\n",
              "            + ' to learn more about interactive tables.';\n",
              "          element.innerHTML = '';\n",
              "          dataTable['output_type'] = 'display_data';\n",
              "          await google.colab.output.renderOutput(dataTable, element);\n",
              "          const docLink = document.createElement('div');\n",
              "          docLink.innerHTML = docLinkHtml;\n",
              "          element.appendChild(docLink);\n",
              "        }\n",
              "      </script>\n",
              "    </div>\n",
              "  </div>\n",
              "  "
            ],
            "text/plain": [
              "        subj_id  loc_id    time_s         x         y         z  label\n",
              "0             0       0  0.000000  0.402286  0.714813  0.374272      0\n",
              "1             0       0  0.000041  0.460451  0.681384  0.432945      0\n",
              "2             0       0  0.000083  0.620732  0.639845  0.477998      0\n",
              "3             0       0  0.000124  0.683454  0.631826  0.447497      0\n",
              "4             0       0  0.000166  0.621582  0.647955  0.327474      0\n",
              "...         ...     ...       ...       ...       ...       ...    ...\n",
              "647607       31       0  0.855836  0.533524  0.432240  0.434342      0\n",
              "647608       31       0  0.855877  0.528040  0.429717  0.437485      0\n",
              "647609       31       0  0.855919  0.533833  0.423049  0.439814      0\n",
              "647610       31       0  0.855960  0.532288  0.416742  0.431083      0\n",
              "647611       31       0  0.856001  0.533524  0.410434  0.426542      0\n",
              "\n",
              "[647612 rows x 7 columns]"
            ]
          },
          "metadata": {},
          "execution_count": 16
        }
      ]
    },
    {
      "cell_type": "markdown",
      "source": [
        "# ***SCALING***"
      ],
      "metadata": {
        "id": "PzOCsTe1rL7N"
      }
    },
    {
      "cell_type": "code",
      "source": [
        "from sklearn.preprocessing import MinMaxScaler\n",
        "# define min max scaler\n",
        "scaler = MinMaxScaler()\n",
        "\n",
        "# df1 = df[['loc_id','magnitude','label']]\n",
        "# df1"
      ],
      "metadata": {
        "id": "LVySi3MeziCA"
      },
      "execution_count": null,
      "outputs": []
    },
    {
      "cell_type": "code",
      "source": [
        "df_scaled = pd.DataFrame(scaler.fit_transform(df),columns=df.columns)\n",
        "\n",
        "# df = pd.concat([df['subj_id'], df1], axis=1)\n",
        "df = df_scaled"
      ],
      "metadata": {
        "id": "eKVi5zggzvjT"
      },
      "execution_count": null,
      "outputs": []
    },
    {
      "cell_type": "code",
      "source": [
        "df"
      ],
      "metadata": {
        "colab": {
          "base_uri": "https://localhost:8080/",
          "height": 424
        },
        "id": "vz8ncZHwmMCR",
        "outputId": "a0790051-2499-4c54-ffc5-09b53f1c3c9e"
      },
      "execution_count": null,
      "outputs": [
        {
          "output_type": "execute_result",
          "data": {
            "text/html": [
              "\n",
              "  <div id=\"df-4734fbcc-0e58-401d-b62b-a2182cca4f9f\">\n",
              "    <div class=\"colab-df-container\">\n",
              "      <div>\n",
              "<style scoped>\n",
              "    .dataframe tbody tr th:only-of-type {\n",
              "        vertical-align: middle;\n",
              "    }\n",
              "\n",
              "    .dataframe tbody tr th {\n",
              "        vertical-align: top;\n",
              "    }\n",
              "\n",
              "    .dataframe thead th {\n",
              "        text-align: right;\n",
              "    }\n",
              "</style>\n",
              "<table border=\"1\" class=\"dataframe\">\n",
              "  <thead>\n",
              "    <tr style=\"text-align: right;\">\n",
              "      <th></th>\n",
              "      <th>subj_id</th>\n",
              "      <th>loc_id</th>\n",
              "      <th>time_s</th>\n",
              "      <th>x</th>\n",
              "      <th>y</th>\n",
              "      <th>z</th>\n",
              "      <th>label</th>\n",
              "    </tr>\n",
              "  </thead>\n",
              "  <tbody>\n",
              "    <tr>\n",
              "      <th>0</th>\n",
              "      <td>0.0</td>\n",
              "      <td>0.0</td>\n",
              "      <td>0.000000</td>\n",
              "      <td>0.402286</td>\n",
              "      <td>0.714813</td>\n",
              "      <td>0.374272</td>\n",
              "      <td>0.0</td>\n",
              "    </tr>\n",
              "    <tr>\n",
              "      <th>1</th>\n",
              "      <td>0.0</td>\n",
              "      <td>0.0</td>\n",
              "      <td>0.000041</td>\n",
              "      <td>0.460451</td>\n",
              "      <td>0.681384</td>\n",
              "      <td>0.432945</td>\n",
              "      <td>0.0</td>\n",
              "    </tr>\n",
              "    <tr>\n",
              "      <th>2</th>\n",
              "      <td>0.0</td>\n",
              "      <td>0.0</td>\n",
              "      <td>0.000083</td>\n",
              "      <td>0.620732</td>\n",
              "      <td>0.639845</td>\n",
              "      <td>0.477998</td>\n",
              "      <td>0.0</td>\n",
              "    </tr>\n",
              "    <tr>\n",
              "      <th>3</th>\n",
              "      <td>0.0</td>\n",
              "      <td>0.0</td>\n",
              "      <td>0.000124</td>\n",
              "      <td>0.683454</td>\n",
              "      <td>0.631826</td>\n",
              "      <td>0.447497</td>\n",
              "      <td>0.0</td>\n",
              "    </tr>\n",
              "    <tr>\n",
              "      <th>4</th>\n",
              "      <td>0.0</td>\n",
              "      <td>0.0</td>\n",
              "      <td>0.000166</td>\n",
              "      <td>0.621582</td>\n",
              "      <td>0.647955</td>\n",
              "      <td>0.327474</td>\n",
              "      <td>0.0</td>\n",
              "    </tr>\n",
              "    <tr>\n",
              "      <th>...</th>\n",
              "      <td>...</td>\n",
              "      <td>...</td>\n",
              "      <td>...</td>\n",
              "      <td>...</td>\n",
              "      <td>...</td>\n",
              "      <td>...</td>\n",
              "      <td>...</td>\n",
              "    </tr>\n",
              "    <tr>\n",
              "      <th>647607</th>\n",
              "      <td>1.0</td>\n",
              "      <td>0.0</td>\n",
              "      <td>0.855836</td>\n",
              "      <td>0.533524</td>\n",
              "      <td>0.432240</td>\n",
              "      <td>0.434342</td>\n",
              "      <td>0.0</td>\n",
              "    </tr>\n",
              "    <tr>\n",
              "      <th>647608</th>\n",
              "      <td>1.0</td>\n",
              "      <td>0.0</td>\n",
              "      <td>0.855877</td>\n",
              "      <td>0.528040</td>\n",
              "      <td>0.429717</td>\n",
              "      <td>0.437485</td>\n",
              "      <td>0.0</td>\n",
              "    </tr>\n",
              "    <tr>\n",
              "      <th>647609</th>\n",
              "      <td>1.0</td>\n",
              "      <td>0.0</td>\n",
              "      <td>0.855919</td>\n",
              "      <td>0.533833</td>\n",
              "      <td>0.423049</td>\n",
              "      <td>0.439814</td>\n",
              "      <td>0.0</td>\n",
              "    </tr>\n",
              "    <tr>\n",
              "      <th>647610</th>\n",
              "      <td>1.0</td>\n",
              "      <td>0.0</td>\n",
              "      <td>0.855960</td>\n",
              "      <td>0.532288</td>\n",
              "      <td>0.416742</td>\n",
              "      <td>0.431083</td>\n",
              "      <td>0.0</td>\n",
              "    </tr>\n",
              "    <tr>\n",
              "      <th>647611</th>\n",
              "      <td>1.0</td>\n",
              "      <td>0.0</td>\n",
              "      <td>0.856001</td>\n",
              "      <td>0.533524</td>\n",
              "      <td>0.410434</td>\n",
              "      <td>0.426542</td>\n",
              "      <td>0.0</td>\n",
              "    </tr>\n",
              "  </tbody>\n",
              "</table>\n",
              "<p>647612 rows × 7 columns</p>\n",
              "</div>\n",
              "      <button class=\"colab-df-convert\" onclick=\"convertToInteractive('df-4734fbcc-0e58-401d-b62b-a2182cca4f9f')\"\n",
              "              title=\"Convert this dataframe to an interactive table.\"\n",
              "              style=\"display:none;\">\n",
              "        \n",
              "  <svg xmlns=\"http://www.w3.org/2000/svg\" height=\"24px\"viewBox=\"0 0 24 24\"\n",
              "       width=\"24px\">\n",
              "    <path d=\"M0 0h24v24H0V0z\" fill=\"none\"/>\n",
              "    <path d=\"M18.56 5.44l.94 2.06.94-2.06 2.06-.94-2.06-.94-.94-2.06-.94 2.06-2.06.94zm-11 1L8.5 8.5l.94-2.06 2.06-.94-2.06-.94L8.5 2.5l-.94 2.06-2.06.94zm10 10l.94 2.06.94-2.06 2.06-.94-2.06-.94-.94-2.06-.94 2.06-2.06.94z\"/><path d=\"M17.41 7.96l-1.37-1.37c-.4-.4-.92-.59-1.43-.59-.52 0-1.04.2-1.43.59L10.3 9.45l-7.72 7.72c-.78.78-.78 2.05 0 2.83L4 21.41c.39.39.9.59 1.41.59.51 0 1.02-.2 1.41-.59l7.78-7.78 2.81-2.81c.8-.78.8-2.07 0-2.86zM5.41 20L4 18.59l7.72-7.72 1.47 1.35L5.41 20z\"/>\n",
              "  </svg>\n",
              "      </button>\n",
              "      \n",
              "  <style>\n",
              "    .colab-df-container {\n",
              "      display:flex;\n",
              "      flex-wrap:wrap;\n",
              "      gap: 12px;\n",
              "    }\n",
              "\n",
              "    .colab-df-convert {\n",
              "      background-color: #E8F0FE;\n",
              "      border: none;\n",
              "      border-radius: 50%;\n",
              "      cursor: pointer;\n",
              "      display: none;\n",
              "      fill: #1967D2;\n",
              "      height: 32px;\n",
              "      padding: 0 0 0 0;\n",
              "      width: 32px;\n",
              "    }\n",
              "\n",
              "    .colab-df-convert:hover {\n",
              "      background-color: #E2EBFA;\n",
              "      box-shadow: 0px 1px 2px rgba(60, 64, 67, 0.3), 0px 1px 3px 1px rgba(60, 64, 67, 0.15);\n",
              "      fill: #174EA6;\n",
              "    }\n",
              "\n",
              "    [theme=dark] .colab-df-convert {\n",
              "      background-color: #3B4455;\n",
              "      fill: #D2E3FC;\n",
              "    }\n",
              "\n",
              "    [theme=dark] .colab-df-convert:hover {\n",
              "      background-color: #434B5C;\n",
              "      box-shadow: 0px 1px 3px 1px rgba(0, 0, 0, 0.15);\n",
              "      filter: drop-shadow(0px 1px 2px rgba(0, 0, 0, 0.3));\n",
              "      fill: #FFFFFF;\n",
              "    }\n",
              "  </style>\n",
              "\n",
              "      <script>\n",
              "        const buttonEl =\n",
              "          document.querySelector('#df-4734fbcc-0e58-401d-b62b-a2182cca4f9f button.colab-df-convert');\n",
              "        buttonEl.style.display =\n",
              "          google.colab.kernel.accessAllowed ? 'block' : 'none';\n",
              "\n",
              "        async function convertToInteractive(key) {\n",
              "          const element = document.querySelector('#df-4734fbcc-0e58-401d-b62b-a2182cca4f9f');\n",
              "          const dataTable =\n",
              "            await google.colab.kernel.invokeFunction('convertToInteractive',\n",
              "                                                     [key], {});\n",
              "          if (!dataTable) return;\n",
              "\n",
              "          const docLinkHtml = 'Like what you see? Visit the ' +\n",
              "            '<a target=\"_blank\" href=https://colab.research.google.com/notebooks/data_table.ipynb>data table notebook</a>'\n",
              "            + ' to learn more about interactive tables.';\n",
              "          element.innerHTML = '';\n",
              "          dataTable['output_type'] = 'display_data';\n",
              "          await google.colab.output.renderOutput(dataTable, element);\n",
              "          const docLink = document.createElement('div');\n",
              "          docLink.innerHTML = docLinkHtml;\n",
              "          element.appendChild(docLink);\n",
              "        }\n",
              "      </script>\n",
              "    </div>\n",
              "  </div>\n",
              "  "
            ],
            "text/plain": [
              "        subj_id  loc_id    time_s         x         y         z  label\n",
              "0           0.0     0.0  0.000000  0.402286  0.714813  0.374272    0.0\n",
              "1           0.0     0.0  0.000041  0.460451  0.681384  0.432945    0.0\n",
              "2           0.0     0.0  0.000083  0.620732  0.639845  0.477998    0.0\n",
              "3           0.0     0.0  0.000124  0.683454  0.631826  0.447497    0.0\n",
              "4           0.0     0.0  0.000166  0.621582  0.647955  0.327474    0.0\n",
              "...         ...     ...       ...       ...       ...       ...    ...\n",
              "647607      1.0     0.0  0.855836  0.533524  0.432240  0.434342    0.0\n",
              "647608      1.0     0.0  0.855877  0.528040  0.429717  0.437485    0.0\n",
              "647609      1.0     0.0  0.855919  0.533833  0.423049  0.439814    0.0\n",
              "647610      1.0     0.0  0.855960  0.532288  0.416742  0.431083    0.0\n",
              "647611      1.0     0.0  0.856001  0.533524  0.410434  0.426542    0.0\n",
              "\n",
              "[647612 rows x 7 columns]"
            ]
          },
          "metadata": {},
          "execution_count": 19
        }
      ]
    },
    {
      "cell_type": "markdown",
      "metadata": {
        "id": "ANLu_ZipsPwL"
      },
      "source": [
        "# **TRAINING AND TEST DATA**\n",
        "\n",
        "\n",
        "\n",
        "*   Total data   : 32 Subjects\n",
        "*   Training data: 25 subjects\n",
        "*   Test data    : 7 subjects\n",
        "\n"
      ]
    },
    {
      "cell_type": "code",
      "execution_count": null,
      "metadata": {
        "colab": {
          "base_uri": "https://localhost:8080/"
        },
        "id": "G4nuj79VrQXf",
        "outputId": "81069d67-6f89-43b9-dbfc-ebaa6028f997"
      },
      "outputs": [
        {
          "output_type": "execute_result",
          "data": {
            "text/plain": [
              "array([0.        , 0.03225806, 0.06451613, 0.09677419, 0.12903226,\n",
              "       0.16129032, 0.19354839, 0.22580645, 0.25806452, 0.29032258,\n",
              "       0.32258065, 0.35483871, 0.38709677, 0.41935484, 0.4516129 ,\n",
              "       0.48387097, 0.51612903, 0.5483871 , 0.58064516, 0.61290323,\n",
              "       0.64516129, 0.67741935, 0.70967742, 0.74193548, 0.77419355])"
            ]
          },
          "metadata": {},
          "execution_count": 20
        }
      ],
      "source": [
        "df.subj_id.unique()[:25]"
      ]
    },
    {
      "cell_type": "code",
      "execution_count": null,
      "metadata": {
        "id": "zYAQ_Ve3l2D8"
      },
      "outputs": [],
      "source": [
        "df_train = df[df.subj_id.isin( df.subj_id.unique()[:25] ) ] "
      ]
    },
    {
      "cell_type": "code",
      "execution_count": null,
      "metadata": {
        "id": "ojmC32gDsN3O"
      },
      "outputs": [],
      "source": [
        "df_test = df[df.subj_id.isin( df.subj_id.unique()[25:] )]"
      ]
    },
    {
      "cell_type": "markdown",
      "metadata": {
        "id": "ZmliWGVFnAS8"
      },
      "source": [
        "# ***Every subject was timed for 15minutes ***"
      ]
    },
    {
      "cell_type": "markdown",
      "source": [
        "# **overlapping windows with 50% overlap - Window size :50 Step size:50**"
      ],
      "metadata": {
        "id": "H2VfR8uGs1u2"
      }
    },
    {
      "cell_type": "code",
      "source": [
        "from scipy import stats\n",
        "x_list = []\n",
        "y_list = []\n",
        "\n",
        "train_labels = []\n",
        "new_list = []\n",
        "\n",
        "window_size = 50\n",
        "step_size = 50\n",
        "\n",
        "for i in range(0, df_train.shape[0] - window_size, step_size):\n",
        "    xs = df_train['x'].values[i: i + 50]\n",
        "    xs1 = df_train['y'].values[i: i + 50]\n",
        "    xs2 = df_train['z'].values[i: i + 50]\n",
        "    # ys = df_train['loc_id'].values[i: i + 50]\n",
        "    # zs = df_train['subj_id'].values[i: i + 50]\n",
        "    label = stats.mode(df_train['label'][i: i + 50])[0][0]\n",
        "    a = np.c_[ xs,xs1,xs2 ]\n",
        "    new_list.append(a)\n",
        "    train_labels.append(label)\n",
        "\n",
        "Xtrain = np.array(new_list)"
      ],
      "metadata": {
        "id": "97q9Vc5Z8gCM"
      },
      "execution_count": null,
      "outputs": []
    },
    {
      "cell_type": "code",
      "source": [
        "train_x = np.asarray(Xtrain)\n",
        "train_y = np.asarray(train_labels)"
      ],
      "metadata": {
        "id": "9KUV1gJUCvgJ"
      },
      "execution_count": null,
      "outputs": []
    },
    {
      "cell_type": "markdown",
      "source": [
        "# ***CNN***"
      ],
      "metadata": {
        "id": "77jXq7rUqtcE"
      }
    },
    {
      "cell_type": "code",
      "execution_count": null,
      "metadata": {
        "colab": {
          "base_uri": "https://localhost:8080/"
        },
        "id": "-wtjp39fhHFL",
        "outputId": "891f91f6-0832-44ce-938c-8f902e211cf0"
      },
      "outputs": [
        {
          "output_type": "stream",
          "name": "stdout",
          "text": [
            "Model: \"sequential_1\"\n",
            "_________________________________________________________________\n",
            " Layer (type)                Output Shape              Param #   \n",
            "=================================================================\n",
            " conv1d_4 (Conv1D)           (None, 49, 160)           1120      \n",
            "                                                                 \n",
            " max_pooling1d_3 (MaxPooling  (None, 49, 160)          0         \n",
            " 1D)                                                             \n",
            "                                                                 \n",
            " conv1d_5 (Conv1D)           (None, 48, 128)           41088     \n",
            "                                                                 \n",
            " max_pooling1d_4 (MaxPooling  (None, 48, 128)          0         \n",
            " 1D)                                                             \n",
            "                                                                 \n",
            " conv1d_6 (Conv1D)           (None, 47, 96)            24672     \n",
            "                                                                 \n",
            " max_pooling1d_5 (MaxPooling  (None, 47, 96)           0         \n",
            " 1D)                                                             \n",
            "                                                                 \n",
            " flatten_1 (Flatten)         (None, 4512)              0         \n",
            "                                                                 \n",
            " dropout_1 (Dropout)         (None, 4512)              0         \n",
            "                                                                 \n",
            " dense_1 (Dense)             (None, 1)                 4513      \n",
            "                                                                 \n",
            "=================================================================\n",
            "Total params: 71,393\n",
            "Trainable params: 71,393\n",
            "Non-trainable params: 0\n",
            "_________________________________________________________________\n"
          ]
        }
      ],
      "source": [
        "model_cnn = Sequential() \n",
        "\n",
        "model_cnn.add(Conv1D(filters=160, kernel_size=2, activation='relu', input_shape=(50,3)))\n",
        "\n",
        "model_cnn.add(MaxPooling1D(pool_size=1))\n",
        "model_cnn.add(Conv1D(filters=128, kernel_size=2, activation='relu'))\n",
        "model_cnn.add(MaxPooling1D(pool_size=1))\n",
        "model_cnn.add(Conv1D(filters=96, kernel_size=2, activation='relu'))\n",
        "# model_cnn.add(Conv1D(filters=64, kernel_size=2, activation='relu'))\n",
        "model_cnn.add(MaxPooling1D(pool_size=1))\n",
        "model_cnn.add(Flatten())\n",
        "model_cnn.add(Dropout(0.5))\n",
        "# model_cnn.add(Dense(64, activation='sigmoid'))\n",
        "model_cnn.add(Dense(1,activation='sigmoid'))\n",
        "\n",
        "model_cnn.compile(loss='binary_crossentropy', optimizer=\"adam\", metrics = [\"accuracy\", tf.keras.metrics.Recall(), tf.keras.metrics.Precision()])\n",
        "model_cnn.summary()"
      ]
    },
    {
      "cell_type": "code",
      "execution_count": null,
      "metadata": {
        "id": "CV-uOkMQOC1a",
        "colab": {
          "base_uri": "https://localhost:8080/"
        },
        "outputId": "9b61eebf-63a5-47c5-8da8-c232e3f70ab8"
      },
      "outputs": [
        {
          "output_type": "stream",
          "name": "stdout",
          "text": [
            "Epoch 1/100\n",
            "11/11 [==============================] - 2s 61ms/step - loss: 0.6943 - accuracy: 0.4969 - recall_1: 0.5280 - precision_1: 0.4987\n",
            "Epoch 2/100\n",
            "11/11 [==============================] - 1s 53ms/step - loss: 0.6936 - accuracy: 0.5019 - recall_1: 0.7651 - precision_1: 0.5024\n",
            "Epoch 3/100\n",
            "11/11 [==============================] - 1s 53ms/step - loss: 0.6937 - accuracy: 0.5003 - recall_1: 0.1529 - precision_1: 0.5068\n",
            "Epoch 4/100\n",
            "11/11 [==============================] - 1s 61ms/step - loss: 0.6941 - accuracy: 0.4992 - recall_1: 0.9339 - precision_1: 0.5005\n",
            "Epoch 5/100\n",
            "11/11 [==============================] - 1s 54ms/step - loss: 0.6933 - accuracy: 0.4962 - recall_1: 0.5046 - precision_1: 0.4980\n",
            "Epoch 6/100\n",
            "11/11 [==============================] - 1s 56ms/step - loss: 0.6932 - accuracy: 0.5035 - recall_1: 0.1946 - precision_1: 0.5138\n",
            "Epoch 7/100\n",
            "11/11 [==============================] - 1s 52ms/step - loss: 0.6931 - accuracy: 0.5060 - recall_1: 0.2491 - precision_1: 0.5159\n",
            "Epoch 8/100\n",
            "11/11 [==============================] - 1s 53ms/step - loss: 0.6932 - accuracy: 0.5054 - recall_1: 0.2554 - precision_1: 0.5143\n",
            "Epoch 9/100\n",
            "11/11 [==============================] - 1s 53ms/step - loss: 0.6931 - accuracy: 0.5009 - recall_1: 0.2546 - precision_1: 0.5053\n",
            "Epoch 10/100\n",
            "11/11 [==============================] - 1s 52ms/step - loss: 0.6932 - accuracy: 0.5037 - recall_1: 0.7041 - precision_1: 0.5039\n",
            "Epoch 11/100\n",
            "11/11 [==============================] - 1s 54ms/step - loss: 0.6930 - accuracy: 0.5100 - recall_1: 0.3224 - precision_1: 0.5188\n",
            "Epoch 12/100\n",
            "11/11 [==============================] - 1s 53ms/step - loss: 0.6931 - accuracy: 0.4982 - recall_1: 0.8204 - precision_1: 0.4999\n",
            "Epoch 13/100\n",
            "11/11 [==============================] - 1s 53ms/step - loss: 0.6930 - accuracy: 0.5098 - recall_1: 0.3834 - precision_1: 0.5155\n",
            "Epoch 14/100\n",
            "11/11 [==============================] - 1s 53ms/step - loss: 0.6929 - accuracy: 0.5063 - recall_1: 0.2341 - precision_1: 0.5176\n",
            "Epoch 15/100\n",
            "11/11 [==============================] - 1s 52ms/step - loss: 0.6931 - accuracy: 0.5059 - recall_1: 0.8013 - precision_1: 0.5048\n",
            "Epoch 16/100\n",
            "11/11 [==============================] - 1s 53ms/step - loss: 0.6927 - accuracy: 0.5070 - recall_1: 0.5910 - precision_1: 0.5074\n",
            "Epoch 17/100\n",
            "11/11 [==============================] - 1s 53ms/step - loss: 0.6929 - accuracy: 0.5027 - recall_1: 0.5243 - precision_1: 0.5043\n",
            "Epoch 18/100\n",
            "11/11 [==============================] - 1s 53ms/step - loss: 0.6927 - accuracy: 0.5098 - recall_1: 0.7555 - precision_1: 0.5077\n",
            "Epoch 19/100\n",
            "11/11 [==============================] - 1s 52ms/step - loss: 0.6924 - accuracy: 0.5162 - recall_1: 0.5003 - precision_1: 0.5186\n",
            "Epoch 20/100\n",
            "11/11 [==============================] - 1s 53ms/step - loss: 0.6929 - accuracy: 0.5054 - recall_1: 0.5174 - precision_1: 0.5069\n",
            "Epoch 21/100\n",
            "11/11 [==============================] - 1s 53ms/step - loss: 0.6927 - accuracy: 0.5154 - recall_1: 0.6236 - precision_1: 0.5141\n",
            "Epoch 22/100\n",
            "11/11 [==============================] - 1s 54ms/step - loss: 0.6927 - accuracy: 0.5139 - recall_1: 0.6587 - precision_1: 0.5121\n",
            "Epoch 23/100\n",
            "11/11 [==============================] - 1s 53ms/step - loss: 0.6932 - accuracy: 0.5021 - recall_1: 0.6766 - precision_1: 0.5029\n",
            "Epoch 24/100\n",
            "11/11 [==============================] - 1s 54ms/step - loss: 0.6927 - accuracy: 0.5118 - recall_1: 0.6650 - precision_1: 0.5103\n",
            "Epoch 25/100\n",
            "11/11 [==============================] - 1s 54ms/step - loss: 0.6925 - accuracy: 0.5135 - recall_1: 0.4625 - precision_1: 0.5169\n",
            "Epoch 26/100\n",
            "11/11 [==============================] - 1s 55ms/step - loss: 0.6929 - accuracy: 0.5086 - recall_1: 0.7633 - precision_1: 0.5069\n",
            "Epoch 27/100\n",
            "11/11 [==============================] - 1s 53ms/step - loss: 0.6923 - accuracy: 0.5155 - recall_1: 0.4834 - precision_1: 0.5185\n",
            "Epoch 28/100\n",
            "11/11 [==============================] - 1s 54ms/step - loss: 0.6935 - accuracy: 0.5113 - recall_1: 0.7120 - precision_1: 0.5093\n",
            "Epoch 29/100\n",
            "11/11 [==============================] - 1s 53ms/step - loss: 0.6925 - accuracy: 0.5133 - recall_1: 0.3891 - precision_1: 0.5200\n",
            "Epoch 30/100\n",
            "11/11 [==============================] - 1s 53ms/step - loss: 0.6926 - accuracy: 0.5115 - recall_1: 0.2967 - precision_1: 0.5232\n",
            "Epoch 31/100\n",
            "11/11 [==============================] - 1s 53ms/step - loss: 0.6922 - accuracy: 0.5208 - recall_1: 0.5436 - precision_1: 0.5215\n",
            "Epoch 32/100\n",
            "11/11 [==============================] - 1s 53ms/step - loss: 0.6921 - accuracy: 0.5236 - recall_1: 0.6274 - precision_1: 0.5210\n",
            "Epoch 33/100\n",
            "11/11 [==============================] - 1s 53ms/step - loss: 0.6919 - accuracy: 0.5181 - recall_1: 0.6915 - precision_1: 0.5147\n",
            "Epoch 34/100\n",
            "11/11 [==============================] - 1s 53ms/step - loss: 0.6919 - accuracy: 0.5159 - recall_1: 0.4710 - precision_1: 0.5194\n",
            "Epoch 35/100\n",
            "11/11 [==============================] - 1s 53ms/step - loss: 0.6918 - accuracy: 0.5207 - recall_1: 0.5343 - precision_1: 0.5218\n",
            "Epoch 36/100\n",
            "11/11 [==============================] - 1s 52ms/step - loss: 0.6916 - accuracy: 0.5233 - recall_1: 0.5530 - precision_1: 0.5237\n",
            "Epoch 37/100\n",
            "11/11 [==============================] - 1s 54ms/step - loss: 0.6917 - accuracy: 0.5252 - recall_1: 0.5300 - precision_1: 0.5267\n",
            "Epoch 38/100\n",
            "11/11 [==============================] - 1s 53ms/step - loss: 0.6914 - accuracy: 0.5238 - recall_1: 0.6172 - precision_1: 0.5215\n",
            "Epoch 39/100\n",
            "11/11 [==============================] - 1s 52ms/step - loss: 0.6917 - accuracy: 0.5234 - recall_1: 0.6968 - precision_1: 0.5187\n",
            "Epoch 40/100\n",
            "11/11 [==============================] - 1s 53ms/step - loss: 0.6916 - accuracy: 0.5229 - recall_1: 0.5448 - precision_1: 0.5236\n",
            "Epoch 41/100\n",
            "11/11 [==============================] - 1s 53ms/step - loss: 0.6907 - accuracy: 0.5283 - recall_1: 0.6061 - precision_1: 0.5259\n",
            "Epoch 42/100\n",
            "11/11 [==============================] - 1s 52ms/step - loss: 0.6915 - accuracy: 0.5213 - recall_1: 0.4714 - precision_1: 0.5256\n",
            "Epoch 43/100\n",
            "11/11 [==============================] - 1s 52ms/step - loss: 0.6904 - accuracy: 0.5293 - recall_1: 0.5898 - precision_1: 0.5276\n",
            "Epoch 44/100\n",
            "11/11 [==============================] - 1s 54ms/step - loss: 0.6910 - accuracy: 0.5252 - recall_1: 0.5662 - precision_1: 0.5249\n",
            "Epoch 45/100\n",
            "11/11 [==============================] - 1s 53ms/step - loss: 0.6897 - accuracy: 0.5359 - recall_1: 0.5918 - precision_1: 0.5338\n",
            "Epoch 46/100\n",
            "11/11 [==============================] - 1s 54ms/step - loss: 0.6902 - accuracy: 0.5245 - recall_1: 0.5725 - precision_1: 0.5239\n",
            "Epoch 47/100\n",
            "11/11 [==============================] - 1s 54ms/step - loss: 0.6905 - accuracy: 0.5217 - recall_1: 0.6172 - precision_1: 0.5196\n",
            "Epoch 48/100\n",
            "11/11 [==============================] - 1s 54ms/step - loss: 0.6896 - accuracy: 0.5347 - recall_1: 0.6286 - precision_1: 0.5306\n",
            "Epoch 49/100\n",
            "11/11 [==============================] - 1s 53ms/step - loss: 0.6899 - accuracy: 0.5328 - recall_1: 0.6573 - precision_1: 0.5276\n",
            "Epoch 50/100\n",
            "11/11 [==============================] - 1s 55ms/step - loss: 0.6905 - accuracy: 0.5267 - recall_1: 0.5481 - precision_1: 0.5273\n",
            "Epoch 51/100\n",
            "11/11 [==============================] - 1s 53ms/step - loss: 0.6893 - accuracy: 0.5279 - recall_1: 0.5570 - precision_1: 0.5280\n",
            "Epoch 52/100\n",
            "11/11 [==============================] - 1s 53ms/step - loss: 0.6902 - accuracy: 0.5357 - recall_1: 0.6213 - precision_1: 0.5319\n",
            "Epoch 53/100\n",
            "11/11 [==============================] - 1s 52ms/step - loss: 0.6897 - accuracy: 0.5310 - recall_1: 0.6000 - precision_1: 0.5288\n",
            "Epoch 54/100\n",
            "11/11 [==============================] - 1s 54ms/step - loss: 0.6888 - accuracy: 0.5369 - recall_1: 0.5394 - precision_1: 0.5384\n",
            "Epoch 55/100\n",
            "11/11 [==============================] - 1s 54ms/step - loss: 0.6886 - accuracy: 0.5360 - recall_1: 0.6646 - precision_1: 0.5300\n",
            "Epoch 56/100\n",
            "11/11 [==============================] - 1s 53ms/step - loss: 0.6891 - accuracy: 0.5312 - recall_1: 0.6610 - precision_1: 0.5262\n",
            "Epoch 57/100\n",
            "11/11 [==============================] - 1s 53ms/step - loss: 0.6890 - accuracy: 0.5366 - recall_1: 0.6179 - precision_1: 0.5329\n",
            "Epoch 58/100\n",
            "11/11 [==============================] - 1s 53ms/step - loss: 0.6879 - accuracy: 0.5436 - recall_1: 0.5693 - precision_1: 0.5431\n",
            "Epoch 59/100\n",
            "11/11 [==============================] - 1s 53ms/step - loss: 0.6878 - accuracy: 0.5382 - recall_1: 0.6351 - precision_1: 0.5334\n",
            "Epoch 60/100\n",
            "11/11 [==============================] - 1s 53ms/step - loss: 0.6876 - accuracy: 0.5380 - recall_1: 0.6292 - precision_1: 0.5335\n",
            "Epoch 61/100\n",
            "11/11 [==============================] - 1s 54ms/step - loss: 0.6885 - accuracy: 0.5352 - recall_1: 0.7104 - precision_1: 0.5273\n",
            "Epoch 62/100\n",
            "11/11 [==============================] - 1s 53ms/step - loss: 0.6876 - accuracy: 0.5390 - recall_1: 0.5448 - precision_1: 0.5403\n",
            "Epoch 63/100\n",
            "11/11 [==============================] - 1s 53ms/step - loss: 0.6873 - accuracy: 0.5434 - recall_1: 0.6390 - precision_1: 0.5378\n",
            "Epoch 64/100\n",
            "11/11 [==============================] - 1s 54ms/step - loss: 0.6871 - accuracy: 0.5388 - recall_1: 0.6067 - precision_1: 0.5357\n",
            "Epoch 65/100\n",
            "11/11 [==============================] - 1s 53ms/step - loss: 0.6871 - accuracy: 0.5400 - recall_1: 0.5941 - precision_1: 0.5377\n",
            "Epoch 66/100\n",
            "11/11 [==============================] - 1s 53ms/step - loss: 0.6873 - accuracy: 0.5418 - recall_1: 0.5680 - precision_1: 0.5413\n",
            "Epoch 67/100\n",
            "11/11 [==============================] - 1s 54ms/step - loss: 0.6879 - accuracy: 0.5381 - recall_1: 0.7259 - precision_1: 0.5289\n",
            "Epoch 68/100\n",
            "11/11 [==============================] - 1s 52ms/step - loss: 0.6865 - accuracy: 0.5456 - recall_1: 0.6305 - precision_1: 0.5404\n",
            "Epoch 69/100\n",
            "11/11 [==============================] - 1s 53ms/step - loss: 0.6869 - accuracy: 0.5412 - recall_1: 0.5758 - precision_1: 0.5401\n",
            "Epoch 70/100\n",
            "11/11 [==============================] - 1s 54ms/step - loss: 0.6870 - accuracy: 0.5437 - recall_1: 0.6626 - precision_1: 0.5366\n",
            "Epoch 71/100\n",
            "11/11 [==============================] - 1s 53ms/step - loss: 0.6860 - accuracy: 0.5495 - recall_1: 0.5678 - precision_1: 0.5494\n",
            "Epoch 72/100\n",
            "11/11 [==============================] - 1s 53ms/step - loss: 0.6874 - accuracy: 0.5357 - recall_1: 0.6905 - precision_1: 0.5285\n",
            "Epoch 73/100\n",
            "11/11 [==============================] - 1s 53ms/step - loss: 0.6869 - accuracy: 0.5364 - recall_1: 0.5172 - precision_1: 0.5396\n",
            "Epoch 74/100\n",
            "11/11 [==============================] - 1s 54ms/step - loss: 0.6859 - accuracy: 0.5426 - recall_1: 0.6050 - precision_1: 0.5394\n",
            "Epoch 75/100\n",
            "11/11 [==============================] - 1s 53ms/step - loss: 0.6858 - accuracy: 0.5438 - recall_1: 0.6101 - precision_1: 0.5401\n",
            "Epoch 76/100\n",
            "11/11 [==============================] - 1s 53ms/step - loss: 0.6850 - accuracy: 0.5481 - recall_1: 0.6673 - precision_1: 0.5402\n",
            "Epoch 77/100\n",
            "11/11 [==============================] - 1s 54ms/step - loss: 0.6850 - accuracy: 0.5498 - recall_1: 0.6351 - precision_1: 0.5440\n",
            "Epoch 78/100\n",
            "11/11 [==============================] - 1s 53ms/step - loss: 0.6858 - accuracy: 0.5456 - recall_1: 0.6374 - precision_1: 0.5399\n",
            "Epoch 79/100\n",
            "11/11 [==============================] - 1s 54ms/step - loss: 0.6869 - accuracy: 0.5432 - recall_1: 0.4924 - precision_1: 0.5500\n",
            "Epoch 80/100\n",
            "11/11 [==============================] - 1s 53ms/step - loss: 0.6844 - accuracy: 0.5589 - recall_1: 0.5471 - precision_1: 0.5620\n",
            "Epoch 81/100\n",
            "11/11 [==============================] - 1s 53ms/step - loss: 0.6850 - accuracy: 0.5505 - recall_1: 0.6508 - precision_1: 0.5435\n",
            "Epoch 82/100\n",
            "11/11 [==============================] - 1s 53ms/step - loss: 0.6851 - accuracy: 0.5413 - recall_1: 0.5780 - precision_1: 0.5401\n",
            "Epoch 83/100\n",
            "11/11 [==============================] - 1s 54ms/step - loss: 0.6854 - accuracy: 0.5422 - recall_1: 0.6937 - precision_1: 0.5337\n",
            "Epoch 84/100\n",
            "11/11 [==============================] - 1s 53ms/step - loss: 0.6855 - accuracy: 0.5486 - recall_1: 0.5631 - precision_1: 0.5489\n",
            "Epoch 85/100\n",
            "11/11 [==============================] - 1s 53ms/step - loss: 0.6843 - accuracy: 0.5531 - recall_1: 0.6715 - precision_1: 0.5443\n",
            "Epoch 86/100\n",
            "11/11 [==============================] - 1s 54ms/step - loss: 0.6861 - accuracy: 0.5440 - recall_1: 0.5977 - precision_1: 0.5412\n",
            "Epoch 87/100\n",
            "11/11 [==============================] - 1s 54ms/step - loss: 0.6857 - accuracy: 0.5428 - recall_1: 0.6685 - precision_1: 0.5355\n",
            "Epoch 88/100\n",
            "11/11 [==============================] - 1s 53ms/step - loss: 0.6848 - accuracy: 0.5449 - recall_1: 0.6244 - precision_1: 0.5402\n",
            "Epoch 89/100\n",
            "11/11 [==============================] - 1s 53ms/step - loss: 0.6835 - accuracy: 0.5505 - recall_1: 0.6150 - precision_1: 0.5462\n",
            "Epoch 90/100\n",
            "11/11 [==============================] - 1s 54ms/step - loss: 0.6831 - accuracy: 0.5536 - recall_1: 0.5530 - precision_1: 0.5554\n",
            "Epoch 91/100\n",
            "11/11 [==============================] - 1s 53ms/step - loss: 0.6839 - accuracy: 0.5506 - recall_1: 0.6022 - precision_1: 0.5474\n",
            "Epoch 92/100\n",
            "11/11 [==============================] - 1s 54ms/step - loss: 0.6831 - accuracy: 0.5465 - recall_1: 0.6181 - precision_1: 0.5422\n",
            "Epoch 93/100\n",
            "11/11 [==============================] - 1s 54ms/step - loss: 0.6833 - accuracy: 0.5506 - recall_1: 0.5922 - precision_1: 0.5483\n",
            "Epoch 94/100\n",
            "11/11 [==============================] - 1s 54ms/step - loss: 0.6825 - accuracy: 0.5482 - recall_1: 0.5843 - precision_1: 0.5466\n",
            "Epoch 95/100\n",
            "11/11 [==============================] - 1s 54ms/step - loss: 0.6841 - accuracy: 0.5456 - recall_1: 0.6329 - precision_1: 0.5402\n",
            "Epoch 96/100\n",
            "11/11 [==============================] - 1s 54ms/step - loss: 0.6826 - accuracy: 0.5554 - recall_1: 0.6419 - precision_1: 0.5487\n",
            "Epoch 97/100\n",
            "11/11 [==============================] - 1s 52ms/step - loss: 0.6822 - accuracy: 0.5522 - recall_1: 0.5680 - precision_1: 0.5522\n",
            "Epoch 98/100\n",
            "11/11 [==============================] - 1s 55ms/step - loss: 0.6842 - accuracy: 0.5460 - recall_1: 0.6144 - precision_1: 0.5420\n",
            "Epoch 99/100\n",
            "11/11 [==============================] - 1s 53ms/step - loss: 0.6821 - accuracy: 0.5590 - recall_1: 0.5585 - precision_1: 0.5607\n",
            "Epoch 100/100\n",
            "11/11 [==============================] - 1s 55ms/step - loss: 0.6833 - accuracy: 0.5468 - recall_1: 0.6081 - precision_1: 0.5432\n"
          ]
        },
        {
          "output_type": "execute_result",
          "data": {
            "text/plain": [
              "<keras.callbacks.History at 0x7f58366ed750>"
            ]
          },
          "metadata": {},
          "execution_count": 30
        }
      ],
      "source": [
        "model_cnn.fit(train_x, train_y, epochs=100, batch_size=1000, verbose=1)"
      ]
    },
    {
      "cell_type": "markdown",
      "source": [
        "## ***Evaluation***"
      ],
      "metadata": {
        "id": "6SnC4J52si0F"
      }
    },
    {
      "cell_type": "markdown",
      "source": [
        "Test data"
      ],
      "metadata": {
        "id": "hjDudD-YtF4O"
      }
    },
    {
      "cell_type": "code",
      "source": [
        "from scipy import stats\n",
        "test_y = []\n",
        "test_x = []\n",
        "\n",
        "window_size = 50\n",
        "step_size = 50\n",
        "\n",
        "for i in range(0, df_test.shape[0] - window_size, step_size):\n",
        "    xs = df_test['x'].values[i: i + 50]\n",
        "    xs1 = df_test['y'].values[i: i + 50]\n",
        "    xs2 = df_test['z'].values[i: i + 50]\n",
        "    # zs = df_train['subj_id'].values[i: i + 50]\n",
        "    # ys = df_test['loc_id'].values[i: i + 50]\n",
        "    label = stats.mode(df_test['label'][i: i + 50])[0][0]\n",
        "    a = np.c_[ xs,xs1,xs2 ]\n",
        "    test_x.append(a)\n",
        "    test_y.append(label)"
      ],
      "metadata": {
        "id": "s7PwHTlIk1Ie"
      },
      "execution_count": null,
      "outputs": []
    },
    {
      "cell_type": "code",
      "source": [
        "test_x = np.array(test_x)\n",
        "test_y = np.array(test_y)\n",
        "\n",
        "scores = model_cnn.evaluate(test_x,test_y, verbose=1)"
      ],
      "metadata": {
        "id": "nfQVuP75iQSP",
        "colab": {
          "base_uri": "https://localhost:8080/"
        },
        "outputId": "892af580-87ce-4967-ed83-338dacac42f2"
      },
      "execution_count": null,
      "outputs": [
        {
          "output_type": "stream",
          "name": "stdout",
          "text": [
            "89/89 [==============================] - 1s 6ms/step - loss: 0.7005 - accuracy: 0.5011 - recall_1: 0.5744 - precision_1: 0.4907\n"
          ]
        }
      ]
    },
    {
      "cell_type": "markdown",
      "source": [
        "# ***Prediction***"
      ],
      "metadata": {
        "id": "mSkVZOzfsrqF"
      }
    },
    {
      "cell_type": "code",
      "source": [
        "pred = model_cnn.predict(test_x) \n",
        "pred = np.argmax(pred, axis = 1)\n",
        "label = test_y\n",
        "\n",
        "x = pd.DataFrame(pred,columns= [\"preds\"])\n"
      ],
      "metadata": {
        "id": "yUv-alDFqxpy"
      },
      "execution_count": null,
      "outputs": []
    },
    {
      "cell_type": "code",
      "source": [
        "test_y"
      ],
      "metadata": {
        "colab": {
          "base_uri": "https://localhost:8080/"
        },
        "id": "hv7QdW8mrcuf",
        "outputId": "bff9bc77-e346-4e60-9cce-8b9e141c744d"
      },
      "execution_count": null,
      "outputs": [
        {
          "output_type": "execute_result",
          "data": {
            "text/plain": [
              "array([0., 1., 0., ..., 0., 0., 1.])"
            ]
          },
          "metadata": {},
          "execution_count": 34
        }
      ]
    },
    {
      "cell_type": "markdown",
      "source": [
        "# ***Confusion Matrix***"
      ],
      "metadata": {
        "id": "9abDbse3eqq8"
      }
    },
    {
      "cell_type": "code",
      "source": [
        "from sklearn.metrics import confusion_matrix\n",
        "confusion_matrix(test_y, pred)"
      ],
      "metadata": {
        "colab": {
          "base_uri": "https://localhost:8080/"
        },
        "id": "UEMTE5bJeptF",
        "outputId": "f59b1297-d837-48d0-e1a9-157ed61acf64"
      },
      "execution_count": null,
      "outputs": [
        {
          "output_type": "execute_result",
          "data": {
            "text/plain": [
              "array([[1443,    0],\n",
              "       [1377,    0]])"
            ]
          },
          "metadata": {},
          "execution_count": 35
        }
      ]
    },
    {
      "cell_type": "markdown",
      "source": [
        "## **Classification Report**"
      ],
      "metadata": {
        "id": "wWCWBMbslDlU"
      }
    },
    {
      "cell_type": "code",
      "source": [
        "from sklearn import metrics \n",
        "from sklearn.metrics import classification_report\n",
        "print(\"\\n -------------Classification Report-------------\\n\")\n",
        "print(classification_report(test_y, pred))"
      ],
      "metadata": {
        "colab": {
          "base_uri": "https://localhost:8080/"
        },
        "id": "XxtUdN4ejDmp",
        "outputId": "9fa69df5-fa9b-4b92-eec8-ba27643dbe7d"
      },
      "execution_count": null,
      "outputs": [
        {
          "output_type": "stream",
          "name": "stdout",
          "text": [
            "\n",
            " -------------Classification Report-------------\n",
            "\n",
            "              precision    recall  f1-score   support\n",
            "\n",
            "         0.0       0.51      1.00      0.68      1443\n",
            "         1.0       0.00      0.00      0.00      1377\n",
            "\n",
            "    accuracy                           0.51      2820\n",
            "   macro avg       0.26      0.50      0.34      2820\n",
            "weighted avg       0.26      0.51      0.35      2820\n",
            "\n"
          ]
        },
        {
          "output_type": "stream",
          "name": "stderr",
          "text": [
            "/usr/local/lib/python3.7/dist-packages/sklearn/metrics/_classification.py:1318: UndefinedMetricWarning: Precision and F-score are ill-defined and being set to 0.0 in labels with no predicted samples. Use `zero_division` parameter to control this behavior.\n",
            "  _warn_prf(average, modifier, msg_start, len(result))\n",
            "/usr/local/lib/python3.7/dist-packages/sklearn/metrics/_classification.py:1318: UndefinedMetricWarning: Precision and F-score are ill-defined and being set to 0.0 in labels with no predicted samples. Use `zero_division` parameter to control this behavior.\n",
            "  _warn_prf(average, modifier, msg_start, len(result))\n",
            "/usr/local/lib/python3.7/dist-packages/sklearn/metrics/_classification.py:1318: UndefinedMetricWarning: Precision and F-score are ill-defined and being set to 0.0 in labels with no predicted samples. Use `zero_division` parameter to control this behavior.\n",
            "  _warn_prf(average, modifier, msg_start, len(result))\n"
          ]
        }
      ]
    }
  ],
  "metadata": {
    "accelerator": "GPU",
    "colab": {
      "collapsed_sections": [],
      "name": "left_ankle_CNNwith(50,3).ipynb",
      "provenance": []
    },
    "kernelspec": {
      "display_name": "Python 3",
      "name": "python3"
    },
    "language_info": {
      "name": "python"
    }
  },
  "nbformat": 4,
  "nbformat_minor": 0
}