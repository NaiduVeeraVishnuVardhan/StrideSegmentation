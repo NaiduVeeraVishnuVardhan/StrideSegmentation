{
  "cells": [
    {
      "cell_type": "code",
      "execution_count": null,
      "metadata": {
        "colab": {
          "base_uri": "https://localhost:8080/"
        },
        "id": "S-ZNnDFC4zII",
        "outputId": "e3aec57b-fdb1-4a72-98dc-0b4cf16836ff"
      },
      "outputs": [
        {
          "output_type": "stream",
          "name": "stdout",
          "text": [
            "Mounted at /content/drive\n"
          ]
        }
      ],
      "source": [
        "from google.colab import drive\n",
        "drive.mount('/content/drive')"
      ]
    },
    {
      "cell_type": "code",
      "execution_count": null,
      "metadata": {
        "id": "Aal8vcSpHMC0"
      },
      "outputs": [],
      "source": [
        "import keras\n",
        "from tensorflow.keras.utils import to_categorical\n",
        "from keras import models\n",
        "from keras import layers\n",
        "from keras.models import Sequential\n",
        "from keras.layers import Dense, Dropout, Activation, Flatten\n",
        "from keras.layers import Conv2D, MaxPooling2D\n",
        "from keras.layers.convolutional import Conv1D, MaxPooling1D\n",
        "from tensorflow import keras\n",
        "import pandas as pd\n",
        "import numpy as np\n",
        "import matplotlib.pyplot as plt\n",
        "import tensorflow as tf\n",
        "import keras\n",
        "import pandas as pd\n",
        "import numpy as np"
      ]
    },
    {
      "cell_type": "code",
      "execution_count": null,
      "metadata": {
        "id": "bFvy2Nem2SJt"
      },
      "outputs": [],
      "source": [
        "df = pd.read_csv('/content/drive/MyDrive/Colab Notebooks/dataset/LeftWristDatasetWithlabels.csv')#,index_col='time_s',parse_dates=['time_s'])"
      ]
    },
    {
      "cell_type": "code",
      "execution_count": null,
      "metadata": {
        "id": "F9llyFVnR8Tn"
      },
      "outputs": [],
      "source": [
        "df = df.drop(['Unnamed: 0'], 1)\n",
        "df = df.drop(['magnitude'], 1)"
      ]
    },
    {
      "cell_type": "code",
      "execution_count": null,
      "metadata": {
        "id": "C2Gig64mou8U",
        "colab": {
          "base_uri": "https://localhost:8080/",
          "height": 424
        },
        "outputId": "e9899023-dc99-480c-a140-70e368611dc2"
      },
      "outputs": [
        {
          "output_type": "execute_result",
          "data": {
            "text/html": [
              "\n",
              "  <div id=\"df-7dcc61d3-761f-4f6b-bfb9-e8bf8e38a545\">\n",
              "    <div class=\"colab-df-container\">\n",
              "      <div>\n",
              "<style scoped>\n",
              "    .dataframe tbody tr th:only-of-type {\n",
              "        vertical-align: middle;\n",
              "    }\n",
              "\n",
              "    .dataframe tbody tr th {\n",
              "        vertical-align: top;\n",
              "    }\n",
              "\n",
              "    .dataframe thead th {\n",
              "        text-align: right;\n",
              "    }\n",
              "</style>\n",
              "<table border=\"1\" class=\"dataframe\">\n",
              "  <thead>\n",
              "    <tr style=\"text-align: right;\">\n",
              "      <th></th>\n",
              "      <th>subj_id</th>\n",
              "      <th>loc_id</th>\n",
              "      <th>time_s</th>\n",
              "      <th>x</th>\n",
              "      <th>y</th>\n",
              "      <th>z</th>\n",
              "      <th>label</th>\n",
              "    </tr>\n",
              "  </thead>\n",
              "  <tbody>\n",
              "    <tr>\n",
              "      <th>180972</th>\n",
              "      <td>id00b70b13</td>\n",
              "      <td>left_wrist</td>\n",
              "      <td>0.00</td>\n",
              "      <td>-0.344</td>\n",
              "      <td>-1.285</td>\n",
              "      <td>-0.039</td>\n",
              "      <td>0.0</td>\n",
              "    </tr>\n",
              "    <tr>\n",
              "      <th>180973</th>\n",
              "      <td>id00b70b13</td>\n",
              "      <td>left_wrist</td>\n",
              "      <td>0.01</td>\n",
              "      <td>-0.336</td>\n",
              "      <td>-1.301</td>\n",
              "      <td>-0.027</td>\n",
              "      <td>0.0</td>\n",
              "    </tr>\n",
              "    <tr>\n",
              "      <th>180974</th>\n",
              "      <td>id00b70b13</td>\n",
              "      <td>left_wrist</td>\n",
              "      <td>0.02</td>\n",
              "      <td>-0.305</td>\n",
              "      <td>-1.324</td>\n",
              "      <td>-0.016</td>\n",
              "      <td>0.0</td>\n",
              "    </tr>\n",
              "    <tr>\n",
              "      <th>180975</th>\n",
              "      <td>id00b70b13</td>\n",
              "      <td>left_wrist</td>\n",
              "      <td>0.03</td>\n",
              "      <td>-0.273</td>\n",
              "      <td>-1.371</td>\n",
              "      <td>-0.004</td>\n",
              "      <td>0.0</td>\n",
              "    </tr>\n",
              "    <tr>\n",
              "      <th>180976</th>\n",
              "      <td>id00b70b13</td>\n",
              "      <td>left_wrist</td>\n",
              "      <td>0.04</td>\n",
              "      <td>-0.227</td>\n",
              "      <td>-1.418</td>\n",
              "      <td>0.020</td>\n",
              "      <td>0.0</td>\n",
              "    </tr>\n",
              "    <tr>\n",
              "      <th>...</th>\n",
              "      <td>...</td>\n",
              "      <td>...</td>\n",
              "      <td>...</td>\n",
              "      <td>...</td>\n",
              "      <td>...</td>\n",
              "      <td>...</td>\n",
              "      <td>...</td>\n",
              "    </tr>\n",
              "    <tr>\n",
              "      <th>647607</th>\n",
              "      <td>idff99de96</td>\n",
              "      <td>left_wrist</td>\n",
              "      <td>206.71</td>\n",
              "      <td>0.707</td>\n",
              "      <td>-0.570</td>\n",
              "      <td>0.289</td>\n",
              "      <td>0.0</td>\n",
              "    </tr>\n",
              "    <tr>\n",
              "      <th>647608</th>\n",
              "      <td>idff99de96</td>\n",
              "      <td>left_wrist</td>\n",
              "      <td>206.72</td>\n",
              "      <td>0.668</td>\n",
              "      <td>-0.555</td>\n",
              "      <td>0.254</td>\n",
              "      <td>0.0</td>\n",
              "    </tr>\n",
              "    <tr>\n",
              "      <th>647609</th>\n",
              "      <td>idff99de96</td>\n",
              "      <td>left_wrist</td>\n",
              "      <td>206.73</td>\n",
              "      <td>0.621</td>\n",
              "      <td>-0.527</td>\n",
              "      <td>0.207</td>\n",
              "      <td>0.0</td>\n",
              "    </tr>\n",
              "    <tr>\n",
              "      <th>647610</th>\n",
              "      <td>idff99de96</td>\n",
              "      <td>left_wrist</td>\n",
              "      <td>206.74</td>\n",
              "      <td>0.613</td>\n",
              "      <td>-0.488</td>\n",
              "      <td>0.168</td>\n",
              "      <td>0.0</td>\n",
              "    </tr>\n",
              "    <tr>\n",
              "      <th>647611</th>\n",
              "      <td>idff99de96</td>\n",
              "      <td>left_wrist</td>\n",
              "      <td>206.75</td>\n",
              "      <td>0.641</td>\n",
              "      <td>-0.418</td>\n",
              "      <td>0.113</td>\n",
              "      <td>0.0</td>\n",
              "    </tr>\n",
              "  </tbody>\n",
              "</table>\n",
              "<p>647612 rows × 7 columns</p>\n",
              "</div>\n",
              "      <button class=\"colab-df-convert\" onclick=\"convertToInteractive('df-7dcc61d3-761f-4f6b-bfb9-e8bf8e38a545')\"\n",
              "              title=\"Convert this dataframe to an interactive table.\"\n",
              "              style=\"display:none;\">\n",
              "        \n",
              "  <svg xmlns=\"http://www.w3.org/2000/svg\" height=\"24px\"viewBox=\"0 0 24 24\"\n",
              "       width=\"24px\">\n",
              "    <path d=\"M0 0h24v24H0V0z\" fill=\"none\"/>\n",
              "    <path d=\"M18.56 5.44l.94 2.06.94-2.06 2.06-.94-2.06-.94-.94-2.06-.94 2.06-2.06.94zm-11 1L8.5 8.5l.94-2.06 2.06-.94-2.06-.94L8.5 2.5l-.94 2.06-2.06.94zm10 10l.94 2.06.94-2.06 2.06-.94-2.06-.94-.94-2.06-.94 2.06-2.06.94z\"/><path d=\"M17.41 7.96l-1.37-1.37c-.4-.4-.92-.59-1.43-.59-.52 0-1.04.2-1.43.59L10.3 9.45l-7.72 7.72c-.78.78-.78 2.05 0 2.83L4 21.41c.39.39.9.59 1.41.59.51 0 1.02-.2 1.41-.59l7.78-7.78 2.81-2.81c.8-.78.8-2.07 0-2.86zM5.41 20L4 18.59l7.72-7.72 1.47 1.35L5.41 20z\"/>\n",
              "  </svg>\n",
              "      </button>\n",
              "      \n",
              "  <style>\n",
              "    .colab-df-container {\n",
              "      display:flex;\n",
              "      flex-wrap:wrap;\n",
              "      gap: 12px;\n",
              "    }\n",
              "\n",
              "    .colab-df-convert {\n",
              "      background-color: #E8F0FE;\n",
              "      border: none;\n",
              "      border-radius: 50%;\n",
              "      cursor: pointer;\n",
              "      display: none;\n",
              "      fill: #1967D2;\n",
              "      height: 32px;\n",
              "      padding: 0 0 0 0;\n",
              "      width: 32px;\n",
              "    }\n",
              "\n",
              "    .colab-df-convert:hover {\n",
              "      background-color: #E2EBFA;\n",
              "      box-shadow: 0px 1px 2px rgba(60, 64, 67, 0.3), 0px 1px 3px 1px rgba(60, 64, 67, 0.15);\n",
              "      fill: #174EA6;\n",
              "    }\n",
              "\n",
              "    [theme=dark] .colab-df-convert {\n",
              "      background-color: #3B4455;\n",
              "      fill: #D2E3FC;\n",
              "    }\n",
              "\n",
              "    [theme=dark] .colab-df-convert:hover {\n",
              "      background-color: #434B5C;\n",
              "      box-shadow: 0px 1px 3px 1px rgba(0, 0, 0, 0.15);\n",
              "      filter: drop-shadow(0px 1px 2px rgba(0, 0, 0, 0.3));\n",
              "      fill: #FFFFFF;\n",
              "    }\n",
              "  </style>\n",
              "\n",
              "      <script>\n",
              "        const buttonEl =\n",
              "          document.querySelector('#df-7dcc61d3-761f-4f6b-bfb9-e8bf8e38a545 button.colab-df-convert');\n",
              "        buttonEl.style.display =\n",
              "          google.colab.kernel.accessAllowed ? 'block' : 'none';\n",
              "\n",
              "        async function convertToInteractive(key) {\n",
              "          const element = document.querySelector('#df-7dcc61d3-761f-4f6b-bfb9-e8bf8e38a545');\n",
              "          const dataTable =\n",
              "            await google.colab.kernel.invokeFunction('convertToInteractive',\n",
              "                                                     [key], {});\n",
              "          if (!dataTable) return;\n",
              "\n",
              "          const docLinkHtml = 'Like what you see? Visit the ' +\n",
              "            '<a target=\"_blank\" href=https://colab.research.google.com/notebooks/data_table.ipynb>data table notebook</a>'\n",
              "            + ' to learn more about interactive tables.';\n",
              "          element.innerHTML = '';\n",
              "          dataTable['output_type'] = 'display_data';\n",
              "          await google.colab.output.renderOutput(dataTable, element);\n",
              "          const docLink = document.createElement('div');\n",
              "          docLink.innerHTML = docLinkHtml;\n",
              "          element.appendChild(docLink);\n",
              "        }\n",
              "      </script>\n",
              "    </div>\n",
              "  </div>\n",
              "  "
            ],
            "text/plain": [
              "           subj_id      loc_id  time_s      x      y      z  label\n",
              "180972  id00b70b13  left_wrist    0.00 -0.344 -1.285 -0.039    0.0\n",
              "180973  id00b70b13  left_wrist    0.01 -0.336 -1.301 -0.027    0.0\n",
              "180974  id00b70b13  left_wrist    0.02 -0.305 -1.324 -0.016    0.0\n",
              "180975  id00b70b13  left_wrist    0.03 -0.273 -1.371 -0.004    0.0\n",
              "180976  id00b70b13  left_wrist    0.04 -0.227 -1.418  0.020    0.0\n",
              "...            ...         ...     ...    ...    ...    ...    ...\n",
              "647607  idff99de96  left_wrist  206.71  0.707 -0.570  0.289    0.0\n",
              "647608  idff99de96  left_wrist  206.72  0.668 -0.555  0.254    0.0\n",
              "647609  idff99de96  left_wrist  206.73  0.621 -0.527  0.207    0.0\n",
              "647610  idff99de96  left_wrist  206.74  0.613 -0.488  0.168    0.0\n",
              "647611  idff99de96  left_wrist  206.75  0.641 -0.418  0.113    0.0\n",
              "\n",
              "[647612 rows x 7 columns]"
            ]
          },
          "metadata": {},
          "execution_count": 7
        }
      ],
      "source": [
        "df = df.sort_values(['subj_id', 'loc_id'], ascending=[True, True])\n",
        "df"
      ]
    },
    {
      "cell_type": "code",
      "source": [
        "df['subj_id'] = df['subj_id'].astype('category')\n",
        "df['subj_id'] = df['subj_id'].cat.codes\n",
        "\n",
        "df['loc_id'] = df['loc_id'].astype('category')\n",
        "df['loc_id'] = df['loc_id'].cat.codes\n",
        "\n",
        "df['label'] = df['label'].astype('category')\n",
        "df['label'] = df['label'].cat.codes"
      ],
      "metadata": {
        "id": "9TdYznmnlAMB"
      },
      "execution_count": null,
      "outputs": []
    },
    {
      "cell_type": "code",
      "source": [
        "df"
      ],
      "metadata": {
        "colab": {
          "base_uri": "https://localhost:8080/",
          "height": 424
        },
        "id": "849hR1XDlyFZ",
        "outputId": "cc0abcae-1e56-4b1c-8899-429ca6cfbbb5"
      },
      "execution_count": null,
      "outputs": [
        {
          "output_type": "execute_result",
          "data": {
            "text/html": [
              "\n",
              "  <div id=\"df-0b706230-0421-4375-8f7e-4a539324f636\">\n",
              "    <div class=\"colab-df-container\">\n",
              "      <div>\n",
              "<style scoped>\n",
              "    .dataframe tbody tr th:only-of-type {\n",
              "        vertical-align: middle;\n",
              "    }\n",
              "\n",
              "    .dataframe tbody tr th {\n",
              "        vertical-align: top;\n",
              "    }\n",
              "\n",
              "    .dataframe thead th {\n",
              "        text-align: right;\n",
              "    }\n",
              "</style>\n",
              "<table border=\"1\" class=\"dataframe\">\n",
              "  <thead>\n",
              "    <tr style=\"text-align: right;\">\n",
              "      <th></th>\n",
              "      <th>subj_id</th>\n",
              "      <th>loc_id</th>\n",
              "      <th>time_s</th>\n",
              "      <th>x</th>\n",
              "      <th>y</th>\n",
              "      <th>z</th>\n",
              "      <th>label</th>\n",
              "    </tr>\n",
              "  </thead>\n",
              "  <tbody>\n",
              "    <tr>\n",
              "      <th>180972</th>\n",
              "      <td>0</td>\n",
              "      <td>0</td>\n",
              "      <td>0.00</td>\n",
              "      <td>-0.344</td>\n",
              "      <td>-1.285</td>\n",
              "      <td>-0.039</td>\n",
              "      <td>0</td>\n",
              "    </tr>\n",
              "    <tr>\n",
              "      <th>180973</th>\n",
              "      <td>0</td>\n",
              "      <td>0</td>\n",
              "      <td>0.01</td>\n",
              "      <td>-0.336</td>\n",
              "      <td>-1.301</td>\n",
              "      <td>-0.027</td>\n",
              "      <td>0</td>\n",
              "    </tr>\n",
              "    <tr>\n",
              "      <th>180974</th>\n",
              "      <td>0</td>\n",
              "      <td>0</td>\n",
              "      <td>0.02</td>\n",
              "      <td>-0.305</td>\n",
              "      <td>-1.324</td>\n",
              "      <td>-0.016</td>\n",
              "      <td>0</td>\n",
              "    </tr>\n",
              "    <tr>\n",
              "      <th>180975</th>\n",
              "      <td>0</td>\n",
              "      <td>0</td>\n",
              "      <td>0.03</td>\n",
              "      <td>-0.273</td>\n",
              "      <td>-1.371</td>\n",
              "      <td>-0.004</td>\n",
              "      <td>0</td>\n",
              "    </tr>\n",
              "    <tr>\n",
              "      <th>180976</th>\n",
              "      <td>0</td>\n",
              "      <td>0</td>\n",
              "      <td>0.04</td>\n",
              "      <td>-0.227</td>\n",
              "      <td>-1.418</td>\n",
              "      <td>0.020</td>\n",
              "      <td>0</td>\n",
              "    </tr>\n",
              "    <tr>\n",
              "      <th>...</th>\n",
              "      <td>...</td>\n",
              "      <td>...</td>\n",
              "      <td>...</td>\n",
              "      <td>...</td>\n",
              "      <td>...</td>\n",
              "      <td>...</td>\n",
              "      <td>...</td>\n",
              "    </tr>\n",
              "    <tr>\n",
              "      <th>647607</th>\n",
              "      <td>31</td>\n",
              "      <td>0</td>\n",
              "      <td>206.71</td>\n",
              "      <td>0.707</td>\n",
              "      <td>-0.570</td>\n",
              "      <td>0.289</td>\n",
              "      <td>0</td>\n",
              "    </tr>\n",
              "    <tr>\n",
              "      <th>647608</th>\n",
              "      <td>31</td>\n",
              "      <td>0</td>\n",
              "      <td>206.72</td>\n",
              "      <td>0.668</td>\n",
              "      <td>-0.555</td>\n",
              "      <td>0.254</td>\n",
              "      <td>0</td>\n",
              "    </tr>\n",
              "    <tr>\n",
              "      <th>647609</th>\n",
              "      <td>31</td>\n",
              "      <td>0</td>\n",
              "      <td>206.73</td>\n",
              "      <td>0.621</td>\n",
              "      <td>-0.527</td>\n",
              "      <td>0.207</td>\n",
              "      <td>0</td>\n",
              "    </tr>\n",
              "    <tr>\n",
              "      <th>647610</th>\n",
              "      <td>31</td>\n",
              "      <td>0</td>\n",
              "      <td>206.74</td>\n",
              "      <td>0.613</td>\n",
              "      <td>-0.488</td>\n",
              "      <td>0.168</td>\n",
              "      <td>0</td>\n",
              "    </tr>\n",
              "    <tr>\n",
              "      <th>647611</th>\n",
              "      <td>31</td>\n",
              "      <td>0</td>\n",
              "      <td>206.75</td>\n",
              "      <td>0.641</td>\n",
              "      <td>-0.418</td>\n",
              "      <td>0.113</td>\n",
              "      <td>0</td>\n",
              "    </tr>\n",
              "  </tbody>\n",
              "</table>\n",
              "<p>647612 rows × 7 columns</p>\n",
              "</div>\n",
              "      <button class=\"colab-df-convert\" onclick=\"convertToInteractive('df-0b706230-0421-4375-8f7e-4a539324f636')\"\n",
              "              title=\"Convert this dataframe to an interactive table.\"\n",
              "              style=\"display:none;\">\n",
              "        \n",
              "  <svg xmlns=\"http://www.w3.org/2000/svg\" height=\"24px\"viewBox=\"0 0 24 24\"\n",
              "       width=\"24px\">\n",
              "    <path d=\"M0 0h24v24H0V0z\" fill=\"none\"/>\n",
              "    <path d=\"M18.56 5.44l.94 2.06.94-2.06 2.06-.94-2.06-.94-.94-2.06-.94 2.06-2.06.94zm-11 1L8.5 8.5l.94-2.06 2.06-.94-2.06-.94L8.5 2.5l-.94 2.06-2.06.94zm10 10l.94 2.06.94-2.06 2.06-.94-2.06-.94-.94-2.06-.94 2.06-2.06.94z\"/><path d=\"M17.41 7.96l-1.37-1.37c-.4-.4-.92-.59-1.43-.59-.52 0-1.04.2-1.43.59L10.3 9.45l-7.72 7.72c-.78.78-.78 2.05 0 2.83L4 21.41c.39.39.9.59 1.41.59.51 0 1.02-.2 1.41-.59l7.78-7.78 2.81-2.81c.8-.78.8-2.07 0-2.86zM5.41 20L4 18.59l7.72-7.72 1.47 1.35L5.41 20z\"/>\n",
              "  </svg>\n",
              "      </button>\n",
              "      \n",
              "  <style>\n",
              "    .colab-df-container {\n",
              "      display:flex;\n",
              "      flex-wrap:wrap;\n",
              "      gap: 12px;\n",
              "    }\n",
              "\n",
              "    .colab-df-convert {\n",
              "      background-color: #E8F0FE;\n",
              "      border: none;\n",
              "      border-radius: 50%;\n",
              "      cursor: pointer;\n",
              "      display: none;\n",
              "      fill: #1967D2;\n",
              "      height: 32px;\n",
              "      padding: 0 0 0 0;\n",
              "      width: 32px;\n",
              "    }\n",
              "\n",
              "    .colab-df-convert:hover {\n",
              "      background-color: #E2EBFA;\n",
              "      box-shadow: 0px 1px 2px rgba(60, 64, 67, 0.3), 0px 1px 3px 1px rgba(60, 64, 67, 0.15);\n",
              "      fill: #174EA6;\n",
              "    }\n",
              "\n",
              "    [theme=dark] .colab-df-convert {\n",
              "      background-color: #3B4455;\n",
              "      fill: #D2E3FC;\n",
              "    }\n",
              "\n",
              "    [theme=dark] .colab-df-convert:hover {\n",
              "      background-color: #434B5C;\n",
              "      box-shadow: 0px 1px 3px 1px rgba(0, 0, 0, 0.15);\n",
              "      filter: drop-shadow(0px 1px 2px rgba(0, 0, 0, 0.3));\n",
              "      fill: #FFFFFF;\n",
              "    }\n",
              "  </style>\n",
              "\n",
              "      <script>\n",
              "        const buttonEl =\n",
              "          document.querySelector('#df-0b706230-0421-4375-8f7e-4a539324f636 button.colab-df-convert');\n",
              "        buttonEl.style.display =\n",
              "          google.colab.kernel.accessAllowed ? 'block' : 'none';\n",
              "\n",
              "        async function convertToInteractive(key) {\n",
              "          const element = document.querySelector('#df-0b706230-0421-4375-8f7e-4a539324f636');\n",
              "          const dataTable =\n",
              "            await google.colab.kernel.invokeFunction('convertToInteractive',\n",
              "                                                     [key], {});\n",
              "          if (!dataTable) return;\n",
              "\n",
              "          const docLinkHtml = 'Like what you see? Visit the ' +\n",
              "            '<a target=\"_blank\" href=https://colab.research.google.com/notebooks/data_table.ipynb>data table notebook</a>'\n",
              "            + ' to learn more about interactive tables.';\n",
              "          element.innerHTML = '';\n",
              "          dataTable['output_type'] = 'display_data';\n",
              "          await google.colab.output.renderOutput(dataTable, element);\n",
              "          const docLink = document.createElement('div');\n",
              "          docLink.innerHTML = docLinkHtml;\n",
              "          element.appendChild(docLink);\n",
              "        }\n",
              "      </script>\n",
              "    </div>\n",
              "  </div>\n",
              "  "
            ],
            "text/plain": [
              "        subj_id  loc_id  time_s      x      y      z  label\n",
              "180972        0       0    0.00 -0.344 -1.285 -0.039      0\n",
              "180973        0       0    0.01 -0.336 -1.301 -0.027      0\n",
              "180974        0       0    0.02 -0.305 -1.324 -0.016      0\n",
              "180975        0       0    0.03 -0.273 -1.371 -0.004      0\n",
              "180976        0       0    0.04 -0.227 -1.418  0.020      0\n",
              "...         ...     ...     ...    ...    ...    ...    ...\n",
              "647607       31       0  206.71  0.707 -0.570  0.289      0\n",
              "647608       31       0  206.72  0.668 -0.555  0.254      0\n",
              "647609       31       0  206.73  0.621 -0.527  0.207      0\n",
              "647610       31       0  206.74  0.613 -0.488  0.168      0\n",
              "647611       31       0  206.75  0.641 -0.418  0.113      0\n",
              "\n",
              "[647612 rows x 7 columns]"
            ]
          },
          "metadata": {},
          "execution_count": 9
        }
      ]
    },
    {
      "cell_type": "markdown",
      "source": [
        "# ***SCALING***"
      ],
      "metadata": {
        "id": "PzOCsTe1rL7N"
      }
    },
    {
      "cell_type": "code",
      "source": [
        "from sklearn.preprocessing import MinMaxScaler\n",
        "# define min max scaler\n",
        "scaler = MinMaxScaler()\n",
        "\n",
        "# df1 = df[['loc_id','magnitude','label']]\n",
        "# df1"
      ],
      "metadata": {
        "id": "LVySi3MeziCA"
      },
      "execution_count": null,
      "outputs": []
    },
    {
      "cell_type": "code",
      "source": [
        "df_scaled = pd.DataFrame(scaler.fit_transform(df),columns=df.columns)\n",
        "\n",
        "# df = pd.concat([df['subj_id'], df1], axis=1)\n",
        "df = df_scaled"
      ],
      "metadata": {
        "id": "eKVi5zggzvjT"
      },
      "execution_count": null,
      "outputs": []
    },
    {
      "cell_type": "code",
      "source": [
        "df"
      ],
      "metadata": {
        "colab": {
          "base_uri": "https://localhost:8080/",
          "height": 424
        },
        "id": "vz8ncZHwmMCR",
        "outputId": "ad441c8c-f71b-45b3-be10-b38827d76b79"
      },
      "execution_count": null,
      "outputs": [
        {
          "output_type": "execute_result",
          "data": {
            "text/html": [
              "\n",
              "  <div id=\"df-2c51cb2f-ad58-4d5f-97f7-58626a0cc35a\">\n",
              "    <div class=\"colab-df-container\">\n",
              "      <div>\n",
              "<style scoped>\n",
              "    .dataframe tbody tr th:only-of-type {\n",
              "        vertical-align: middle;\n",
              "    }\n",
              "\n",
              "    .dataframe tbody tr th {\n",
              "        vertical-align: top;\n",
              "    }\n",
              "\n",
              "    .dataframe thead th {\n",
              "        text-align: right;\n",
              "    }\n",
              "</style>\n",
              "<table border=\"1\" class=\"dataframe\">\n",
              "  <thead>\n",
              "    <tr style=\"text-align: right;\">\n",
              "      <th></th>\n",
              "      <th>subj_id</th>\n",
              "      <th>loc_id</th>\n",
              "      <th>time_s</th>\n",
              "      <th>x</th>\n",
              "      <th>y</th>\n",
              "      <th>z</th>\n",
              "      <th>label</th>\n",
              "    </tr>\n",
              "  </thead>\n",
              "  <tbody>\n",
              "    <tr>\n",
              "      <th>0</th>\n",
              "      <td>0.0</td>\n",
              "      <td>0.0</td>\n",
              "      <td>0.000000</td>\n",
              "      <td>0.406093</td>\n",
              "      <td>0.285967</td>\n",
              "      <td>0.354174</td>\n",
              "      <td>0.0</td>\n",
              "    </tr>\n",
              "    <tr>\n",
              "      <th>1</th>\n",
              "      <td>0.0</td>\n",
              "      <td>0.0</td>\n",
              "      <td>0.000041</td>\n",
              "      <td>0.407211</td>\n",
              "      <td>0.284198</td>\n",
              "      <td>0.356324</td>\n",
              "      <td>0.0</td>\n",
              "    </tr>\n",
              "    <tr>\n",
              "      <th>2</th>\n",
              "      <td>0.0</td>\n",
              "      <td>0.0</td>\n",
              "      <td>0.000083</td>\n",
              "      <td>0.411543</td>\n",
              "      <td>0.281654</td>\n",
              "      <td>0.358295</td>\n",
              "      <td>0.0</td>\n",
              "    </tr>\n",
              "    <tr>\n",
              "      <th>3</th>\n",
              "      <td>0.0</td>\n",
              "      <td>0.0</td>\n",
              "      <td>0.000124</td>\n",
              "      <td>0.416015</td>\n",
              "      <td>0.276457</td>\n",
              "      <td>0.360444</td>\n",
              "      <td>0.0</td>\n",
              "    </tr>\n",
              "    <tr>\n",
              "      <th>4</th>\n",
              "      <td>0.0</td>\n",
              "      <td>0.0</td>\n",
              "      <td>0.000166</td>\n",
              "      <td>0.422443</td>\n",
              "      <td>0.271260</td>\n",
              "      <td>0.364744</td>\n",
              "      <td>0.0</td>\n",
              "    </tr>\n",
              "    <tr>\n",
              "      <th>...</th>\n",
              "      <td>...</td>\n",
              "      <td>...</td>\n",
              "      <td>...</td>\n",
              "      <td>...</td>\n",
              "      <td>...</td>\n",
              "      <td>...</td>\n",
              "      <td>...</td>\n",
              "    </tr>\n",
              "    <tr>\n",
              "      <th>647607</th>\n",
              "      <td>1.0</td>\n",
              "      <td>0.0</td>\n",
              "      <td>0.855836</td>\n",
              "      <td>0.552963</td>\n",
              "      <td>0.365034</td>\n",
              "      <td>0.412934</td>\n",
              "      <td>0.0</td>\n",
              "    </tr>\n",
              "    <tr>\n",
              "      <th>647608</th>\n",
              "      <td>1.0</td>\n",
              "      <td>0.0</td>\n",
              "      <td>0.855877</td>\n",
              "      <td>0.547513</td>\n",
              "      <td>0.366692</td>\n",
              "      <td>0.406664</td>\n",
              "      <td>0.0</td>\n",
              "    </tr>\n",
              "    <tr>\n",
              "      <th>647609</th>\n",
              "      <td>1.0</td>\n",
              "      <td>0.0</td>\n",
              "      <td>0.855919</td>\n",
              "      <td>0.540945</td>\n",
              "      <td>0.369789</td>\n",
              "      <td>0.398244</td>\n",
              "      <td>0.0</td>\n",
              "    </tr>\n",
              "    <tr>\n",
              "      <th>647610</th>\n",
              "      <td>1.0</td>\n",
              "      <td>0.0</td>\n",
              "      <td>0.855960</td>\n",
              "      <td>0.539827</td>\n",
              "      <td>0.374102</td>\n",
              "      <td>0.391258</td>\n",
              "      <td>0.0</td>\n",
              "    </tr>\n",
              "    <tr>\n",
              "      <th>647611</th>\n",
              "      <td>1.0</td>\n",
              "      <td>0.0</td>\n",
              "      <td>0.856001</td>\n",
              "      <td>0.543740</td>\n",
              "      <td>0.381842</td>\n",
              "      <td>0.381405</td>\n",
              "      <td>0.0</td>\n",
              "    </tr>\n",
              "  </tbody>\n",
              "</table>\n",
              "<p>647612 rows × 7 columns</p>\n",
              "</div>\n",
              "      <button class=\"colab-df-convert\" onclick=\"convertToInteractive('df-2c51cb2f-ad58-4d5f-97f7-58626a0cc35a')\"\n",
              "              title=\"Convert this dataframe to an interactive table.\"\n",
              "              style=\"display:none;\">\n",
              "        \n",
              "  <svg xmlns=\"http://www.w3.org/2000/svg\" height=\"24px\"viewBox=\"0 0 24 24\"\n",
              "       width=\"24px\">\n",
              "    <path d=\"M0 0h24v24H0V0z\" fill=\"none\"/>\n",
              "    <path d=\"M18.56 5.44l.94 2.06.94-2.06 2.06-.94-2.06-.94-.94-2.06-.94 2.06-2.06.94zm-11 1L8.5 8.5l.94-2.06 2.06-.94-2.06-.94L8.5 2.5l-.94 2.06-2.06.94zm10 10l.94 2.06.94-2.06 2.06-.94-2.06-.94-.94-2.06-.94 2.06-2.06.94z\"/><path d=\"M17.41 7.96l-1.37-1.37c-.4-.4-.92-.59-1.43-.59-.52 0-1.04.2-1.43.59L10.3 9.45l-7.72 7.72c-.78.78-.78 2.05 0 2.83L4 21.41c.39.39.9.59 1.41.59.51 0 1.02-.2 1.41-.59l7.78-7.78 2.81-2.81c.8-.78.8-2.07 0-2.86zM5.41 20L4 18.59l7.72-7.72 1.47 1.35L5.41 20z\"/>\n",
              "  </svg>\n",
              "      </button>\n",
              "      \n",
              "  <style>\n",
              "    .colab-df-container {\n",
              "      display:flex;\n",
              "      flex-wrap:wrap;\n",
              "      gap: 12px;\n",
              "    }\n",
              "\n",
              "    .colab-df-convert {\n",
              "      background-color: #E8F0FE;\n",
              "      border: none;\n",
              "      border-radius: 50%;\n",
              "      cursor: pointer;\n",
              "      display: none;\n",
              "      fill: #1967D2;\n",
              "      height: 32px;\n",
              "      padding: 0 0 0 0;\n",
              "      width: 32px;\n",
              "    }\n",
              "\n",
              "    .colab-df-convert:hover {\n",
              "      background-color: #E2EBFA;\n",
              "      box-shadow: 0px 1px 2px rgba(60, 64, 67, 0.3), 0px 1px 3px 1px rgba(60, 64, 67, 0.15);\n",
              "      fill: #174EA6;\n",
              "    }\n",
              "\n",
              "    [theme=dark] .colab-df-convert {\n",
              "      background-color: #3B4455;\n",
              "      fill: #D2E3FC;\n",
              "    }\n",
              "\n",
              "    [theme=dark] .colab-df-convert:hover {\n",
              "      background-color: #434B5C;\n",
              "      box-shadow: 0px 1px 3px 1px rgba(0, 0, 0, 0.15);\n",
              "      filter: drop-shadow(0px 1px 2px rgba(0, 0, 0, 0.3));\n",
              "      fill: #FFFFFF;\n",
              "    }\n",
              "  </style>\n",
              "\n",
              "      <script>\n",
              "        const buttonEl =\n",
              "          document.querySelector('#df-2c51cb2f-ad58-4d5f-97f7-58626a0cc35a button.colab-df-convert');\n",
              "        buttonEl.style.display =\n",
              "          google.colab.kernel.accessAllowed ? 'block' : 'none';\n",
              "\n",
              "        async function convertToInteractive(key) {\n",
              "          const element = document.querySelector('#df-2c51cb2f-ad58-4d5f-97f7-58626a0cc35a');\n",
              "          const dataTable =\n",
              "            await google.colab.kernel.invokeFunction('convertToInteractive',\n",
              "                                                     [key], {});\n",
              "          if (!dataTable) return;\n",
              "\n",
              "          const docLinkHtml = 'Like what you see? Visit the ' +\n",
              "            '<a target=\"_blank\" href=https://colab.research.google.com/notebooks/data_table.ipynb>data table notebook</a>'\n",
              "            + ' to learn more about interactive tables.';\n",
              "          element.innerHTML = '';\n",
              "          dataTable['output_type'] = 'display_data';\n",
              "          await google.colab.output.renderOutput(dataTable, element);\n",
              "          const docLink = document.createElement('div');\n",
              "          docLink.innerHTML = docLinkHtml;\n",
              "          element.appendChild(docLink);\n",
              "        }\n",
              "      </script>\n",
              "    </div>\n",
              "  </div>\n",
              "  "
            ],
            "text/plain": [
              "        subj_id  loc_id    time_s         x         y         z  label\n",
              "0           0.0     0.0  0.000000  0.406093  0.285967  0.354174    0.0\n",
              "1           0.0     0.0  0.000041  0.407211  0.284198  0.356324    0.0\n",
              "2           0.0     0.0  0.000083  0.411543  0.281654  0.358295    0.0\n",
              "3           0.0     0.0  0.000124  0.416015  0.276457  0.360444    0.0\n",
              "4           0.0     0.0  0.000166  0.422443  0.271260  0.364744    0.0\n",
              "...         ...     ...       ...       ...       ...       ...    ...\n",
              "647607      1.0     0.0  0.855836  0.552963  0.365034  0.412934    0.0\n",
              "647608      1.0     0.0  0.855877  0.547513  0.366692  0.406664    0.0\n",
              "647609      1.0     0.0  0.855919  0.540945  0.369789  0.398244    0.0\n",
              "647610      1.0     0.0  0.855960  0.539827  0.374102  0.391258    0.0\n",
              "647611      1.0     0.0  0.856001  0.543740  0.381842  0.381405    0.0\n",
              "\n",
              "[647612 rows x 7 columns]"
            ]
          },
          "metadata": {},
          "execution_count": 12
        }
      ]
    },
    {
      "cell_type": "markdown",
      "metadata": {
        "id": "ANLu_ZipsPwL"
      },
      "source": [
        "# **TRAINING AND TEST DATA**\n",
        "\n",
        "\n",
        "\n",
        "*   Total data   : 32 Subjects\n",
        "*   Training data: 25 subjects\n",
        "*   Test data    : 7 subjects\n",
        "\n"
      ]
    },
    {
      "cell_type": "code",
      "execution_count": null,
      "metadata": {
        "colab": {
          "base_uri": "https://localhost:8080/"
        },
        "id": "G4nuj79VrQXf",
        "outputId": "3f0ee4ca-486d-456f-e364-55daf4189227"
      },
      "outputs": [
        {
          "output_type": "execute_result",
          "data": {
            "text/plain": [
              "array([0.        , 0.03225806, 0.06451613, 0.09677419, 0.12903226,\n",
              "       0.16129032, 0.19354839, 0.22580645, 0.25806452, 0.29032258,\n",
              "       0.32258065, 0.35483871, 0.38709677, 0.41935484, 0.4516129 ,\n",
              "       0.48387097, 0.51612903, 0.5483871 , 0.58064516, 0.61290323,\n",
              "       0.64516129, 0.67741935, 0.70967742, 0.74193548, 0.77419355])"
            ]
          },
          "metadata": {},
          "execution_count": 13
        }
      ],
      "source": [
        "df.subj_id.unique()[:25]"
      ]
    },
    {
      "cell_type": "code",
      "execution_count": null,
      "metadata": {
        "id": "zYAQ_Ve3l2D8"
      },
      "outputs": [],
      "source": [
        "df_train = df[df.subj_id.isin( df.subj_id.unique()[:25] ) ] "
      ]
    },
    {
      "cell_type": "code",
      "execution_count": null,
      "metadata": {
        "id": "ojmC32gDsN3O"
      },
      "outputs": [],
      "source": [
        "df_test = df[df.subj_id.isin( df.subj_id.unique()[25:] )]"
      ]
    },
    {
      "cell_type": "markdown",
      "metadata": {
        "id": "ZmliWGVFnAS8"
      },
      "source": [
        "# ***Every subject was timed for 15minutes ***"
      ]
    },
    {
      "cell_type": "markdown",
      "source": [
        "# **overlapping windows with 50% overlap - Window size :50 Step size:50**"
      ],
      "metadata": {
        "id": "H2VfR8uGs1u2"
      }
    },
    {
      "cell_type": "code",
      "source": [
        "from scipy import stats\n",
        "x_list = []\n",
        "y_list = []\n",
        "\n",
        "train_labels = []\n",
        "new_list = []\n",
        "\n",
        "window_size = 50\n",
        "step_size = 50\n",
        "\n",
        "for i in range(0, df_train.shape[0] - window_size, step_size):\n",
        "    xs = df_train['x'].values[i: i + 50]\n",
        "    xs1 = df_train['y'].values[i: i + 50]\n",
        "    xs2 = df_train['z'].values[i: i + 50]\n",
        "    # ys = df_train['loc_id'].values[i: i + 50]\n",
        "    # zs = df_train['subj_id'].values[i: i + 50]\n",
        "    label = stats.mode(df_train['label'][i: i + 50])[0][0]\n",
        "    a = np.c_[ xs,xs1,xs2 ]\n",
        "    new_list.append(a)\n",
        "    train_labels.append(label)\n",
        "\n",
        "Xtrain = np.array(new_list)"
      ],
      "metadata": {
        "id": "97q9Vc5Z8gCM"
      },
      "execution_count": null,
      "outputs": []
    },
    {
      "cell_type": "code",
      "source": [
        "train_x = np.asarray(Xtrain)\n",
        "train_y = np.asarray(train_labels)"
      ],
      "metadata": {
        "id": "9KUV1gJUCvgJ"
      },
      "execution_count": null,
      "outputs": []
    },
    {
      "cell_type": "markdown",
      "source": [
        "# ***CNN***"
      ],
      "metadata": {
        "id": "77jXq7rUqtcE"
      }
    },
    {
      "cell_type": "code",
      "execution_count": null,
      "metadata": {
        "colab": {
          "base_uri": "https://localhost:8080/"
        },
        "id": "-wtjp39fhHFL",
        "outputId": "393223d1-3169-475d-b9bd-5488e10f82cb"
      },
      "outputs": [
        {
          "output_type": "stream",
          "name": "stdout",
          "text": [
            "Model: \"sequential_4\"\n",
            "_________________________________________________________________\n",
            " Layer (type)                Output Shape              Param #   \n",
            "=================================================================\n",
            " conv1d_13 (Conv1D)          (None, 49, 160)           1120      \n",
            "                                                                 \n",
            " max_pooling1d_2 (MaxPooling  (None, 49, 160)          0         \n",
            " 1D)                                                             \n",
            "                                                                 \n",
            " conv1d_14 (Conv1D)          (None, 48, 128)           41088     \n",
            "                                                                 \n",
            " max_pooling1d_3 (MaxPooling  (None, 48, 128)          0         \n",
            " 1D)                                                             \n",
            "                                                                 \n",
            " conv1d_15 (Conv1D)          (None, 47, 96)            24672     \n",
            "                                                                 \n",
            " conv1d_16 (Conv1D)          (None, 46, 64)            12352     \n",
            "                                                                 \n",
            " max_pooling1d_4 (MaxPooling  (None, 46, 64)           0         \n",
            " 1D)                                                             \n",
            "                                                                 \n",
            " flatten_4 (Flatten)         (None, 2944)              0         \n",
            "                                                                 \n",
            " dropout_4 (Dropout)         (None, 2944)              0         \n",
            "                                                                 \n",
            " dense_4 (Dense)             (None, 1)                 2945      \n",
            "                                                                 \n",
            "=================================================================\n",
            "Total params: 82,177\n",
            "Trainable params: 82,177\n",
            "Non-trainable params: 0\n",
            "_________________________________________________________________\n"
          ]
        }
      ],
      "source": [
        "model_cnn = Sequential() \n",
        "\n",
        "model_cnn.add(Conv1D(filters=160, kernel_size=2, activation='relu', input_shape=(50,3)))\n",
        "\n",
        "model_cnn.add(MaxPooling1D(pool_size=1))\n",
        "model_cnn.add(Conv1D(filters=128, kernel_size=2, activation='relu'))\n",
        "model_cnn.add(MaxPooling1D(pool_size=1))\n",
        "model_cnn.add(Conv1D(filters=96, kernel_size=2, activation='relu'))\n",
        "model_cnn.add(Conv1D(filters=64, kernel_size=2, activation='relu'))\n",
        "model_cnn.add(MaxPooling1D(pool_size=1))\n",
        "model_cnn.add(Flatten())\n",
        "model_cnn.add(Dropout(0.5))\n",
        "# model_cnn.add(Dense(64, activation='sigmoid'))\n",
        "model_cnn.add(Dense(1,activation='sigmoid'))\n",
        "\n",
        "model_cnn.compile(loss='binary_crossentropy', optimizer=\"adam\", metrics = [\"accuracy\", tf.keras.metrics.Recall(), tf.keras.metrics.Precision()])\n",
        "model_cnn.summary()"
      ]
    },
    {
      "cell_type": "code",
      "execution_count": null,
      "metadata": {
        "id": "CV-uOkMQOC1a",
        "colab": {
          "base_uri": "https://localhost:8080/"
        },
        "outputId": "cb45661c-75f9-4741-87a3-75eccb25dd8c"
      },
      "outputs": [
        {
          "output_type": "stream",
          "name": "stdout",
          "text": [
            "Epoch 1/100\n",
            "11/11 [==============================] - 2s 66ms/step - loss: 0.6932 - accuracy: 0.4949 - recall_4: 0.2405 - precision_4: 0.4780\n",
            "Epoch 2/100\n",
            "11/11 [==============================] - 1s 59ms/step - loss: 0.6935 - accuracy: 0.5033 - recall_4: 0.4409 - precision_4: 0.4971\n",
            "Epoch 3/100\n",
            "11/11 [==============================] - 1s 59ms/step - loss: 0.6933 - accuracy: 0.5051 - recall_4: 0.1266 - precision_4: 0.4969\n",
            "Epoch 4/100\n",
            "11/11 [==============================] - 1s 58ms/step - loss: 0.6930 - accuracy: 0.5061 - recall_4: 0.5230 - precision_4: 0.5002\n",
            "Epoch 5/100\n",
            "11/11 [==============================] - 1s 59ms/step - loss: 0.6936 - accuracy: 0.4981 - recall_4: 0.1526 - precision_4: 0.4754\n",
            "Epoch 6/100\n",
            "11/11 [==============================] - 1s 58ms/step - loss: 0.6932 - accuracy: 0.5009 - recall_4: 0.6924 - precision_4: 0.4964\n",
            "Epoch 7/100\n",
            "11/11 [==============================] - 1s 61ms/step - loss: 0.6931 - accuracy: 0.5052 - recall_4: 0.1372 - precision_4: 0.4975\n",
            "Epoch 8/100\n",
            "11/11 [==============================] - 1s 60ms/step - loss: 0.6931 - accuracy: 0.5073 - recall_4: 0.0232 - precision_4: 0.5321\n",
            "Epoch 9/100\n",
            "11/11 [==============================] - 1s 59ms/step - loss: 0.6931 - accuracy: 0.5073 - recall_4: 0.0681 - precision_4: 0.5105\n",
            "Epoch 10/100\n",
            "11/11 [==============================] - 1s 60ms/step - loss: 0.6927 - accuracy: 0.5109 - recall_4: 0.0743 - precision_4: 0.5368\n",
            "Epoch 11/100\n",
            "11/11 [==============================] - 1s 58ms/step - loss: 0.6929 - accuracy: 0.5031 - recall_4: 0.0971 - precision_4: 0.4860\n",
            "Epoch 12/100\n",
            "11/11 [==============================] - 1s 58ms/step - loss: 0.6928 - accuracy: 0.5091 - recall_4: 0.6203 - precision_4: 0.5027\n",
            "Epoch 13/100\n",
            "11/11 [==============================] - 1s 60ms/step - loss: 0.6927 - accuracy: 0.5121 - recall_4: 0.1564 - precision_4: 0.5210\n",
            "Epoch 14/100\n",
            "11/11 [==============================] - 1s 59ms/step - loss: 0.6931 - accuracy: 0.5005 - recall_4: 0.2089 - precision_4: 0.4874\n",
            "Epoch 15/100\n",
            "11/11 [==============================] - 1s 58ms/step - loss: 0.6932 - accuracy: 0.4954 - recall_4: 0.1948 - precision_4: 0.4742\n",
            "Epoch 16/100\n",
            "11/11 [==============================] - 1s 58ms/step - loss: 0.6930 - accuracy: 0.5046 - recall_4: 0.1247 - precision_4: 0.4948\n",
            "Epoch 17/100\n",
            "11/11 [==============================] - 1s 59ms/step - loss: 0.6931 - accuracy: 0.5052 - recall_4: 0.4890 - precision_4: 0.4993\n",
            "Epoch 18/100\n",
            "11/11 [==============================] - 1s 59ms/step - loss: 0.6931 - accuracy: 0.5050 - recall_4: 0.2251 - precision_4: 0.4980\n",
            "Epoch 19/100\n",
            "11/11 [==============================] - 1s 59ms/step - loss: 0.6929 - accuracy: 0.5108 - recall_4: 0.2020 - precision_4: 0.5127\n",
            "Epoch 20/100\n",
            "11/11 [==============================] - 1s 58ms/step - loss: 0.6928 - accuracy: 0.5137 - recall_4: 0.2209 - precision_4: 0.5185\n",
            "Epoch 21/100\n",
            "11/11 [==============================] - 1s 59ms/step - loss: 0.6932 - accuracy: 0.5030 - recall_4: 0.1778 - precision_4: 0.4920\n",
            "Epoch 22/100\n",
            "11/11 [==============================] - 1s 58ms/step - loss: 0.6928 - accuracy: 0.5125 - recall_4: 0.3995 - precision_4: 0.5085\n",
            "Epoch 23/100\n",
            "11/11 [==============================] - 1s 59ms/step - loss: 0.6928 - accuracy: 0.5095 - recall_4: 0.1728 - precision_4: 0.5109\n",
            "Epoch 24/100\n",
            "11/11 [==============================] - 1s 59ms/step - loss: 0.6926 - accuracy: 0.5135 - recall_4: 0.1956 - precision_4: 0.5205\n",
            "Epoch 25/100\n",
            "11/11 [==============================] - 1s 58ms/step - loss: 0.6921 - accuracy: 0.5237 - recall_4: 0.3422 - precision_4: 0.5279\n",
            "Epoch 26/100\n",
            "11/11 [==============================] - 1s 59ms/step - loss: 0.6920 - accuracy: 0.5155 - recall_4: 0.2030 - precision_4: 0.5253\n",
            "Epoch 27/100\n",
            "11/11 [==============================] - 1s 59ms/step - loss: 0.6930 - accuracy: 0.5050 - recall_4: 0.0282 - precision_4: 0.4845\n",
            "Epoch 28/100\n",
            "11/11 [==============================] - 1s 59ms/step - loss: 0.6923 - accuracy: 0.5079 - recall_4: 0.1422 - precision_4: 0.5075\n",
            "Epoch 29/100\n",
            "11/11 [==============================] - 1s 58ms/step - loss: 0.6930 - accuracy: 0.5102 - recall_4: 0.6898 - precision_4: 0.5032\n",
            "Epoch 30/100\n",
            "11/11 [==============================] - 1s 59ms/step - loss: 0.6928 - accuracy: 0.5113 - recall_4: 0.3899 - precision_4: 0.5071\n",
            "Epoch 31/100\n",
            "11/11 [==============================] - 1s 59ms/step - loss: 0.6928 - accuracy: 0.5085 - recall_4: 0.3644 - precision_4: 0.5037\n",
            "Epoch 32/100\n",
            "11/11 [==============================] - 1s 59ms/step - loss: 0.6926 - accuracy: 0.5108 - recall_4: 0.3170 - precision_4: 0.5080\n",
            "Epoch 33/100\n",
            "11/11 [==============================] - 1s 59ms/step - loss: 0.6921 - accuracy: 0.5201 - recall_4: 0.3174 - precision_4: 0.5237\n",
            "Epoch 34/100\n",
            "11/11 [==============================] - 1s 59ms/step - loss: 0.6912 - accuracy: 0.5214 - recall_4: 0.3702 - precision_4: 0.5221\n",
            "Epoch 35/100\n",
            "11/11 [==============================] - 1s 60ms/step - loss: 0.6912 - accuracy: 0.5191 - recall_4: 0.2871 - precision_4: 0.5245\n",
            "Epoch 36/100\n",
            "11/11 [==============================] - 1s 60ms/step - loss: 0.6917 - accuracy: 0.5145 - recall_4: 0.1420 - precision_4: 0.5326\n",
            "Epoch 37/100\n",
            "11/11 [==============================] - 1s 59ms/step - loss: 0.6917 - accuracy: 0.5117 - recall_4: 0.0589 - precision_4: 0.5556\n",
            "Epoch 38/100\n",
            "11/11 [==============================] - 1s 59ms/step - loss: 0.6918 - accuracy: 0.5126 - recall_4: 0.0615 - precision_4: 0.5620\n",
            "Epoch 39/100\n",
            "11/11 [==============================] - 1s 59ms/step - loss: 0.6916 - accuracy: 0.5128 - recall_4: 0.0569 - precision_4: 0.5700\n",
            "Epoch 40/100\n",
            "11/11 [==============================] - 1s 59ms/step - loss: 0.6918 - accuracy: 0.5129 - recall_4: 0.0505 - precision_4: 0.5816\n",
            "Epoch 41/100\n",
            "11/11 [==============================] - 1s 58ms/step - loss: 0.6910 - accuracy: 0.5206 - recall_4: 0.1930 - precision_4: 0.5418\n",
            "Epoch 42/100\n",
            "11/11 [==============================] - 1s 57ms/step - loss: 0.6907 - accuracy: 0.5189 - recall_4: 0.3010 - precision_4: 0.5229\n",
            "Epoch 43/100\n",
            "11/11 [==============================] - 1s 58ms/step - loss: 0.6907 - accuracy: 0.5245 - recall_4: 0.3134 - precision_4: 0.5320\n",
            "Epoch 44/100\n",
            "11/11 [==============================] - 1s 58ms/step - loss: 0.6908 - accuracy: 0.5227 - recall_4: 0.3260 - precision_4: 0.5275\n",
            "Epoch 45/100\n",
            "11/11 [==============================] - 1s 58ms/step - loss: 0.6908 - accuracy: 0.5264 - recall_4: 0.3642 - precision_4: 0.5303\n",
            "Epoch 46/100\n",
            "11/11 [==============================] - 1s 59ms/step - loss: 0.6907 - accuracy: 0.5200 - recall_4: 0.3879 - precision_4: 0.5191\n",
            "Epoch 47/100\n",
            "11/11 [==============================] - 1s 58ms/step - loss: 0.6903 - accuracy: 0.5210 - recall_4: 0.4357 - precision_4: 0.5182\n",
            "Epoch 48/100\n",
            "11/11 [==============================] - 1s 58ms/step - loss: 0.6908 - accuracy: 0.5218 - recall_4: 0.3570 - precision_4: 0.5236\n",
            "Epoch 49/100\n",
            "11/11 [==============================] - 1s 57ms/step - loss: 0.6905 - accuracy: 0.5242 - recall_4: 0.3502 - precision_4: 0.5280\n",
            "Epoch 50/100\n",
            "11/11 [==============================] - 1s 58ms/step - loss: 0.6907 - accuracy: 0.5240 - recall_4: 0.4031 - precision_4: 0.5239\n",
            "Epoch 51/100\n",
            "11/11 [==============================] - 1s 58ms/step - loss: 0.6906 - accuracy: 0.5246 - recall_4: 0.3474 - precision_4: 0.5289\n",
            "Epoch 52/100\n",
            "11/11 [==============================] - 1s 57ms/step - loss: 0.6906 - accuracy: 0.5216 - recall_4: 0.2627 - precision_4: 0.5322\n",
            "Epoch 53/100\n",
            "11/11 [==============================] - 1s 58ms/step - loss: 0.6908 - accuracy: 0.5268 - recall_4: 0.3664 - precision_4: 0.5307\n",
            "Epoch 54/100\n",
            "11/11 [==============================] - 1s 59ms/step - loss: 0.6902 - accuracy: 0.5212 - recall_4: 0.4085 - precision_4: 0.5197\n",
            "Epoch 55/100\n",
            "11/11 [==============================] - 1s 58ms/step - loss: 0.6902 - accuracy: 0.5252 - recall_4: 0.3829 - precision_4: 0.5269\n",
            "Epoch 56/100\n",
            "11/11 [==============================] - 1s 59ms/step - loss: 0.6914 - accuracy: 0.5217 - recall_4: 0.4205 - precision_4: 0.5198\n",
            "Epoch 57/100\n",
            "11/11 [==============================] - 1s 58ms/step - loss: 0.6900 - accuracy: 0.5251 - recall_4: 0.4069 - precision_4: 0.5251\n",
            "Epoch 58/100\n",
            "11/11 [==============================] - 1s 58ms/step - loss: 0.6904 - accuracy: 0.5256 - recall_4: 0.3350 - precision_4: 0.5317\n",
            "Epoch 59/100\n",
            "11/11 [==============================] - 1s 58ms/step - loss: 0.6902 - accuracy: 0.5272 - recall_4: 0.3444 - precision_4: 0.5334\n",
            "Epoch 60/100\n",
            "11/11 [==============================] - 1s 59ms/step - loss: 0.6899 - accuracy: 0.5317 - recall_4: 0.4063 - precision_4: 0.5344\n",
            "Epoch 61/100\n",
            "11/11 [==============================] - 1s 59ms/step - loss: 0.6905 - accuracy: 0.5249 - recall_4: 0.4101 - precision_4: 0.5247\n",
            "Epoch 62/100\n",
            "11/11 [==============================] - 1s 59ms/step - loss: 0.6902 - accuracy: 0.5251 - recall_4: 0.4125 - precision_4: 0.5248\n",
            "Epoch 63/100\n",
            "11/11 [==============================] - 1s 58ms/step - loss: 0.6898 - accuracy: 0.5261 - recall_4: 0.4636 - precision_4: 0.5231\n",
            "Epoch 64/100\n",
            "11/11 [==============================] - 1s 58ms/step - loss: 0.6910 - accuracy: 0.5248 - recall_4: 0.3490 - precision_4: 0.5291\n",
            "Epoch 65/100\n",
            "11/11 [==============================] - 1s 58ms/step - loss: 0.6905 - accuracy: 0.5202 - recall_4: 0.4539 - precision_4: 0.5165\n",
            "Epoch 66/100\n",
            "11/11 [==============================] - 1s 58ms/step - loss: 0.6897 - accuracy: 0.5227 - recall_4: 0.5390 - precision_4: 0.5163\n",
            "Epoch 67/100\n",
            "11/11 [==============================] - 1s 60ms/step - loss: 0.6900 - accuracy: 0.5305 - recall_4: 0.4726 - precision_4: 0.5278\n",
            "Epoch 68/100\n",
            "11/11 [==============================] - 1s 60ms/step - loss: 0.6896 - accuracy: 0.5278 - recall_4: 0.4229 - precision_4: 0.5277\n",
            "Epoch 69/100\n",
            "11/11 [==============================] - 1s 59ms/step - loss: 0.6907 - accuracy: 0.5151 - recall_4: 0.4962 - precision_4: 0.5095\n",
            "Epoch 70/100\n",
            "11/11 [==============================] - 1s 59ms/step - loss: 0.6907 - accuracy: 0.5245 - recall_4: 0.3849 - precision_4: 0.5258\n",
            "Epoch 71/100\n",
            "11/11 [==============================] - 1s 60ms/step - loss: 0.6900 - accuracy: 0.5246 - recall_4: 0.5176 - precision_4: 0.5190\n",
            "Epoch 72/100\n",
            "11/11 [==============================] - 1s 59ms/step - loss: 0.6891 - accuracy: 0.5284 - recall_4: 0.5423 - precision_4: 0.5219\n",
            "Epoch 73/100\n",
            "11/11 [==============================] - 1s 58ms/step - loss: 0.6896 - accuracy: 0.5312 - recall_4: 0.5144 - precision_4: 0.5263\n",
            "Epoch 74/100\n",
            "11/11 [==============================] - 1s 59ms/step - loss: 0.6896 - accuracy: 0.5312 - recall_4: 0.5144 - precision_4: 0.5263\n",
            "Epoch 75/100\n",
            "11/11 [==============================] - 1s 59ms/step - loss: 0.6901 - accuracy: 0.5306 - recall_4: 0.4553 - precision_4: 0.5291\n",
            "Epoch 76/100\n",
            "11/11 [==============================] - 1s 59ms/step - loss: 0.6906 - accuracy: 0.5224 - recall_4: 0.5597 - precision_4: 0.5154\n",
            "Epoch 77/100\n",
            "11/11 [==============================] - 1s 59ms/step - loss: 0.6900 - accuracy: 0.5262 - recall_4: 0.3520 - precision_4: 0.5310\n",
            "Epoch 78/100\n",
            "11/11 [==============================] - 1s 59ms/step - loss: 0.6898 - accuracy: 0.5274 - recall_4: 0.2928 - precision_4: 0.5402\n",
            "Epoch 79/100\n",
            "11/11 [==============================] - 1s 59ms/step - loss: 0.6905 - accuracy: 0.5211 - recall_4: 0.2255 - precision_4: 0.5366\n",
            "Epoch 80/100\n",
            "11/11 [==============================] - 1s 59ms/step - loss: 0.6892 - accuracy: 0.5304 - recall_4: 0.4329 - precision_4: 0.5303\n",
            "Epoch 81/100\n",
            "11/11 [==============================] - 1s 59ms/step - loss: 0.6896 - accuracy: 0.5233 - recall_4: 0.4323 - precision_4: 0.5213\n",
            "Epoch 82/100\n",
            "11/11 [==============================] - 1s 59ms/step - loss: 0.6893 - accuracy: 0.5287 - recall_4: 0.5002 - precision_4: 0.5242\n",
            "Epoch 83/100\n",
            "11/11 [==============================] - 1s 58ms/step - loss: 0.6891 - accuracy: 0.5276 - recall_4: 0.5112 - precision_4: 0.5225\n",
            "Epoch 84/100\n",
            "11/11 [==============================] - 1s 58ms/step - loss: 0.6897 - accuracy: 0.5300 - recall_4: 0.5208 - precision_4: 0.5245\n",
            "Epoch 85/100\n",
            "11/11 [==============================] - 1s 59ms/step - loss: 0.6894 - accuracy: 0.5287 - recall_4: 0.4718 - precision_4: 0.5257\n",
            "Epoch 86/100\n",
            "11/11 [==============================] - 1s 58ms/step - loss: 0.6888 - accuracy: 0.5372 - recall_4: 0.5024 - precision_4: 0.5336\n",
            "Epoch 87/100\n",
            "11/11 [==============================] - 1s 59ms/step - loss: 0.6887 - accuracy: 0.5338 - recall_4: 0.4770 - precision_4: 0.5315\n",
            "Epoch 88/100\n",
            "11/11 [==============================] - 1s 58ms/step - loss: 0.6885 - accuracy: 0.5300 - recall_4: 0.5100 - precision_4: 0.5251\n",
            "Epoch 89/100\n",
            "11/11 [==============================] - 1s 60ms/step - loss: 0.6887 - accuracy: 0.5310 - recall_4: 0.5695 - precision_4: 0.5234\n",
            "Epoch 90/100\n",
            "11/11 [==============================] - 1s 58ms/step - loss: 0.6886 - accuracy: 0.5317 - recall_4: 0.4782 - precision_4: 0.5289\n",
            "Epoch 91/100\n",
            "11/11 [==============================] - 1s 59ms/step - loss: 0.6887 - accuracy: 0.5351 - recall_4: 0.4732 - precision_4: 0.5333\n",
            "Epoch 92/100\n",
            "11/11 [==============================] - 1s 59ms/step - loss: 0.6893 - accuracy: 0.5284 - recall_4: 0.3821 - precision_4: 0.5317\n",
            "Epoch 93/100\n",
            "11/11 [==============================] - 1s 57ms/step - loss: 0.6891 - accuracy: 0.5254 - recall_4: 0.5054 - precision_4: 0.5204\n",
            "Epoch 94/100\n",
            "11/11 [==============================] - 1s 58ms/step - loss: 0.6886 - accuracy: 0.5321 - recall_4: 0.3728 - precision_4: 0.5384\n",
            "Epoch 95/100\n",
            "11/11 [==============================] - 1s 59ms/step - loss: 0.6885 - accuracy: 0.5319 - recall_4: 0.4602 - precision_4: 0.5304\n",
            "Epoch 96/100\n",
            "11/11 [==============================] - 1s 58ms/step - loss: 0.6871 - accuracy: 0.5419 - recall_4: 0.4806 - precision_4: 0.5410\n",
            "Epoch 97/100\n",
            "11/11 [==============================] - 1s 60ms/step - loss: 0.6879 - accuracy: 0.5375 - recall_4: 0.4882 - precision_4: 0.5350\n",
            "Epoch 98/100\n",
            "11/11 [==============================] - 1s 59ms/step - loss: 0.6882 - accuracy: 0.5369 - recall_4: 0.4365 - precision_4: 0.5387\n",
            "Epoch 99/100\n",
            "11/11 [==============================] - 1s 59ms/step - loss: 0.6879 - accuracy: 0.5360 - recall_4: 0.4547 - precision_4: 0.5359\n",
            "Epoch 100/100\n",
            "11/11 [==============================] - 1s 59ms/step - loss: 0.6870 - accuracy: 0.5415 - recall_4: 0.4097 - precision_4: 0.5482\n"
          ]
        },
        {
          "output_type": "execute_result",
          "data": {
            "text/plain": [
              "<keras.callbacks.History at 0x7f71371d1ad0>"
            ]
          },
          "metadata": {},
          "execution_count": 36
        }
      ],
      "source": [
        "model_cnn.fit(train_x, train_y, epochs=100, batch_size=1000, verbose=1)"
      ]
    },
    {
      "cell_type": "markdown",
      "source": [
        "## ***Evaluation***"
      ],
      "metadata": {
        "id": "6SnC4J52si0F"
      }
    },
    {
      "cell_type": "markdown",
      "source": [
        "Test data"
      ],
      "metadata": {
        "id": "hjDudD-YtF4O"
      }
    },
    {
      "cell_type": "code",
      "source": [
        "from scipy import stats\n",
        "test_y = []\n",
        "test_x = []\n",
        "\n",
        "window_size = 50\n",
        "step_size = 50\n",
        "\n",
        "for i in range(0, df_test.shape[0] - window_size, step_size):\n",
        "    xs = df_test['x'].values[i: i + 50]\n",
        "    xs1 = df_test['y'].values[i: i + 50]\n",
        "    xs2 = df_test['z'].values[i: i + 50]\n",
        "    # zs = df_train['subj_id'].values[i: i + 50]\n",
        "    # ys = df_test['loc_id'].values[i: i + 50]\n",
        "    label = stats.mode(df_test['label'][i: i + 50])[0][0]\n",
        "    a = np.c_[ xs,xs1,xs2 ]\n",
        "    test_x.append(a)\n",
        "    test_y.append(label)"
      ],
      "metadata": {
        "id": "s7PwHTlIk1Ie"
      },
      "execution_count": null,
      "outputs": []
    },
    {
      "cell_type": "code",
      "source": [
        "test_x = np.array(test_x)\n",
        "test_y = np.array(test_y)\n",
        "\n",
        "scores = model_cnn.evaluate(test_x,test_y, verbose=1)"
      ],
      "metadata": {
        "id": "nfQVuP75iQSP",
        "colab": {
          "base_uri": "https://localhost:8080/"
        },
        "outputId": "213729fa-7314-41b8-d8ee-594ee2602671"
      },
      "execution_count": null,
      "outputs": [
        {
          "output_type": "stream",
          "name": "stdout",
          "text": [
            "89/89 [==============================] - 1s 6ms/step - loss: 0.7021 - accuracy: 0.5025 - recall_4: 0.4935 - precision_4: 0.4968\n"
          ]
        }
      ]
    },
    {
      "cell_type": "markdown",
      "source": [
        "# ***Prediction***"
      ],
      "metadata": {
        "id": "mSkVZOzfsrqF"
      }
    },
    {
      "cell_type": "code",
      "source": [
        "pred = model_cnn.predict(test_x) \n",
        "pred = np.argmax(pred, axis = 1)\n",
        "label = test_y\n",
        "\n",
        "x = pd.DataFrame(pred,columns= [\"preds\"])\n"
      ],
      "metadata": {
        "id": "yUv-alDFqxpy"
      },
      "execution_count": null,
      "outputs": []
    },
    {
      "cell_type": "code",
      "source": [
        "test_y"
      ],
      "metadata": {
        "colab": {
          "base_uri": "https://localhost:8080/"
        },
        "id": "hv7QdW8mrcuf",
        "outputId": "cf8b9489-e08c-4f37-cdf2-5b95bffb6f73"
      },
      "execution_count": null,
      "outputs": [
        {
          "output_type": "execute_result",
          "data": {
            "text/plain": [
              "array([0., 1., 1., ..., 0., 1., 0.])"
            ]
          },
          "metadata": {},
          "execution_count": 23
        }
      ]
    },
    {
      "cell_type": "markdown",
      "source": [
        "# ***Confusion Matrix***"
      ],
      "metadata": {
        "id": "9abDbse3eqq8"
      }
    },
    {
      "cell_type": "code",
      "source": [
        "from sklearn.metrics import confusion_matrix\n",
        "confusion_matrix(test_y, pred)"
      ],
      "metadata": {
        "colab": {
          "base_uri": "https://localhost:8080/"
        },
        "id": "UEMTE5bJeptF",
        "outputId": "cb4df8bf-ab22-444a-c442-4d3edb18e64f"
      },
      "execution_count": null,
      "outputs": [
        {
          "output_type": "execute_result",
          "data": {
            "text/plain": [
              "array([[1426,    0],\n",
              "       [1394,    0]])"
            ]
          },
          "metadata": {},
          "execution_count": 24
        }
      ]
    },
    {
      "cell_type": "markdown",
      "source": [
        "## **Classification Report**"
      ],
      "metadata": {
        "id": "wWCWBMbslDlU"
      }
    },
    {
      "cell_type": "code",
      "source": [
        "from sklearn import metrics \n",
        "from sklearn.metrics import classification_report\n",
        "print(\"\\n -------------Classification Report-------------\\n\")\n",
        "print(classification_report(test_y, pred))"
      ],
      "metadata": {
        "colab": {
          "base_uri": "https://localhost:8080/"
        },
        "id": "XxtUdN4ejDmp",
        "outputId": "27e75d08-32fc-47e4-b117-0b8d51d11be1"
      },
      "execution_count": null,
      "outputs": [
        {
          "output_type": "stream",
          "name": "stdout",
          "text": [
            "\n",
            " -------------Classification Report-------------\n",
            "\n",
            "              precision    recall  f1-score   support\n",
            "\n",
            "         0.0       0.51      1.00      0.67      1426\n",
            "         1.0       0.00      0.00      0.00      1394\n",
            "\n",
            "    accuracy                           0.51      2820\n",
            "   macro avg       0.25      0.50      0.34      2820\n",
            "weighted avg       0.26      0.51      0.34      2820\n",
            "\n"
          ]
        },
        {
          "output_type": "stream",
          "name": "stderr",
          "text": [
            "/usr/local/lib/python3.7/dist-packages/sklearn/metrics/_classification.py:1318: UndefinedMetricWarning: Precision and F-score are ill-defined and being set to 0.0 in labels with no predicted samples. Use `zero_division` parameter to control this behavior.\n",
            "  _warn_prf(average, modifier, msg_start, len(result))\n",
            "/usr/local/lib/python3.7/dist-packages/sklearn/metrics/_classification.py:1318: UndefinedMetricWarning: Precision and F-score are ill-defined and being set to 0.0 in labels with no predicted samples. Use `zero_division` parameter to control this behavior.\n",
            "  _warn_prf(average, modifier, msg_start, len(result))\n",
            "/usr/local/lib/python3.7/dist-packages/sklearn/metrics/_classification.py:1318: UndefinedMetricWarning: Precision and F-score are ill-defined and being set to 0.0 in labels with no predicted samples. Use `zero_division` parameter to control this behavior.\n",
            "  _warn_prf(average, modifier, msg_start, len(result))\n"
          ]
        }
      ]
    }
  ],
  "metadata": {
    "accelerator": "GPU",
    "colab": {
      "collapsed_sections": [],
      "name": "LeftWrist_CNNwith(50,3).ipynb",
      "provenance": []
    },
    "kernelspec": {
      "display_name": "Python 3",
      "name": "python3"
    },
    "language_info": {
      "name": "python"
    }
  },
  "nbformat": 4,
  "nbformat_minor": 0
}