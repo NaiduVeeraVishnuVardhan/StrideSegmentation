{
  "cells": [
    {
      "cell_type": "code",
      "execution_count": null,
      "metadata": {
        "colab": {
          "base_uri": "https://localhost:8080/"
        },
        "id": "58KV6M2z5Q5N",
        "outputId": "235b4278-2fb3-4a6e-f080-e093dfe349a7"
      },
      "outputs": [
        {
          "output_type": "stream",
          "name": "stdout",
          "text": [
            "Mounted at /content/drive\n"
          ]
        }
      ],
      "source": [
        "from google.colab import drive\n",
        "drive.mount('/content/drive')\n",
        "import pandas as pd \n",
        "import keras \n",
        "from tensorflow.keras.utils import to_categorical\n",
        "from keras import models\n",
        "from keras import layers\n",
        "from keras.models import Sequential\n",
        "from keras.layers import Dense, Dropout, Activation, Flatten\n",
        "from keras.layers import Conv2D, MaxPooling2D\n",
        "from keras.layers.convolutional import Conv1D, MaxPooling1D\n",
        "from tensorflow import keras\n",
        "import pandas as pd \n",
        "import numpy as np\n",
        "import matplotlib.pyplot as plt\n",
        "import tensorflow as tf\n",
        "import keras "
      ]
    },
    {
      "cell_type": "markdown",
      "source": [
        "# ***Load the Dataset***"
      ],
      "metadata": {
        "id": "R2c2uEXVDPM4"
      }
    },
    {
      "cell_type": "code",
      "source": [
        "df = pd.read_csv('/content/drive/MyDrive/Colab Notebooks/dataset/test/Datasetfor1peakszeroimputations (1).csv')\n",
        "df = df.iloc[38:]"
      ],
      "metadata": {
        "id": "4Hvff8AvBVpE"
      },
      "execution_count": null,
      "outputs": []
    },
    {
      "cell_type": "code",
      "source": [
        "df.drop(df.tail(145).index, inplace = True) "
      ],
      "metadata": {
        "id": "lWh_qeO8BVy-"
      },
      "execution_count": null,
      "outputs": []
    },
    {
      "cell_type": "code",
      "source": [
        "##finding the index and the max of consecutive 1's\n",
        "arr = list(df['label'])\n",
        "count = 0\n",
        "prev = 0\n",
        "indexend = 0\n",
        "for i in range(0,len(arr)):\n",
        "    if arr[i] == 1:\n",
        "        count += 1\n",
        "    else:            \n",
        "      if count > prev:\n",
        "        prev = count\n",
        "        indexend = i\n",
        "      count = 0\n",
        "\n",
        "print(\"The longest sequence of 1's is \"+str(prev))\n",
        "print(\"index start at: \"+ str(indexend-prev))\n",
        "print(\"index ends at: \"+ str(indexend-1))"
      ],
      "metadata": {
        "colab": {
          "base_uri": "https://localhost:8080/"
        },
        "id": "GPIF6dafs32S",
        "outputId": "df91f461-40b1-4e55-8a34-44e8abbd0fbf"
      },
      "execution_count": null,
      "outputs": [
        {
          "output_type": "stream",
          "name": "stdout",
          "text": [
            "The longest sequence of 1's is 128\n",
            "index start at: 137895\n",
            "index ends at: 138022\n"
          ]
        }
      ]
    },
    {
      "cell_type": "markdown",
      "source": [
        "# ***TRAIN DATASET***"
      ],
      "metadata": {
        "id": "aBKW1DkkDUAP"
      }
    },
    {
      "cell_type": "code",
      "source": [
        "from scipy.signal import find_peaks\n",
        "import numpy as np\n",
        "from scipy import stats\n",
        "from scipy.signal import find_peaks\n",
        "\n",
        "df['label'] = df['label'].astype('category')\n",
        "df['label'] = df['label'].cat.codes\n",
        "df['subj_id'] = df['subj_id'].astype('category')   \n",
        "df['subj_id'] = df['subj_id'].cat.codes             "
      ],
      "metadata": {
        "id": "LWARx1vhsYSj"
      },
      "execution_count": null,
      "outputs": []
    },
    {
      "cell_type": "code",
      "source": [
        "len(df.subj_id.unique())"
      ],
      "metadata": {
        "colab": {
          "base_uri": "https://localhost:8080/"
        },
        "id": "Ibos-_A8Dntg",
        "outputId": "7313737c-11a9-4259-c315-6c8d06675d49"
      },
      "execution_count": null,
      "outputs": [
        {
          "output_type": "execute_result",
          "data": {
            "text/plain": [
              "32"
            ]
          },
          "metadata": {},
          "execution_count": 9
        }
      ]
    },
    {
      "cell_type": "code",
      "execution_count": null,
      "metadata": {
        "id": "kKJRMkhPSNLC"
      },
      "outputs": [],
      "source": [
        "# df_train =  df[df.subj_id.isin( df.subj_id.unique()[:25] ) ]  #selecting 25 subjects for training\n",
        "#Seventy percent for training data - 96831 but took 97004 so its 70.0125 so i.e., out of 477 whole strides 334 full strides are selected - which is 668 left and right combined strides. \n",
        "df_train = df.loc[:97004] \n",
        "\n",
        "# WINDOWING WITH NON OVERLAPPING WINDOWS with size 145\n",
        "xs = []\n",
        "ys = []\n",
        "zs = []\n",
        "train_labels = []\n",
        "new_list = []\n",
        "window_size = 145\n",
        "step_size = 145\n",
        "\n",
        "for i in range(0, df.shape[0] - window_size, step_size):\n",
        "  xs = df['x'].values[i: i + 145]\n",
        "  ys = df['y'].values[i: i + 145]\n",
        "  zs = df['z'].values[i: i + 145]\n",
        "\n",
        "  label = df['label'].values[i: i + 145][0] \n",
        "  a = np.c_[ xs,ys,zs ]\n",
        "  new_list.append(a)\n",
        "  train_labels.append(label)\n",
        "\n",
        "train_x = np.asarray(new_list)\n",
        "train_y = np.asarray(train_labels)"
      ]
    },
    {
      "cell_type": "markdown",
      "source": [
        "# ***TEST DATA***"
      ],
      "metadata": {
        "id": "9rtuYysgENWX"
      }
    },
    {
      "cell_type": "code",
      "source": [
        "# df_test =  df[df.subj_id.isin( df.subj_id.unique()[25:] ) ]  #selecting 6 subjects for testing\n",
        "# df_test =  df[df.subj_id.isin( df.subj_id.unique()[25:] ) ]  #selecting 6 subjects for testing\n",
        "df_test = df.loc[97004:] #30percent \n",
        "xs = []\n",
        "ys = []\n",
        "zs = []\n",
        "test_labels = []\n",
        "new_list = []\n",
        "window_size = 145\n",
        "step_size = 145\n",
        "\n",
        "for i in range(0, df_test.shape[0] - window_size, step_size):\n",
        "  xs = df_test['x'].values[i: i + 145]\n",
        "  ys = df_test['y'].values[i: i + 145]\n",
        "  zs = df_test['z'].values[i: i + 145]\n",
        "\n",
        "  label = df_test['label'].values[i: i + 145][0] \n",
        "  a = np.c_[ xs,ys,zs ]\n",
        "  new_list.append(a)\n",
        "  test_labels.append(label)\n",
        "\n",
        "test_x = np.asarray(new_list)\n",
        "test_y = np.asarray(test_labels)"
      ],
      "metadata": {
        "id": "wZBT_IWX90g3"
      },
      "execution_count": null,
      "outputs": []
    },
    {
      "cell_type": "markdown",
      "source": [
        "# ***EVALUATION***"
      ],
      "metadata": {
        "id": "RrPI7z9xFCTC"
      }
    },
    {
      "cell_type": "markdown",
      "source": [
        "# ***CNN***"
      ],
      "metadata": {
        "id": "DMRrwcXsEGyG"
      }
    },
    {
      "cell_type": "code",
      "source": [
        "from keras import regularizers"
      ],
      "metadata": {
        "id": "x_-wwD5S4XDm"
      },
      "execution_count": null,
      "outputs": []
    },
    {
      "cell_type": "code",
      "source": [
        "#Accuracy 56\n",
        "\n",
        "from keras.regularizers import l2\n",
        "\n",
        "model_cnn3 = Sequential() \n",
        "\n",
        "model_cnn3.add(Conv1D(filters=160, kernel_size=2, activation='relu', input_shape=(145,3), kernel_regularizer=l2(0.01), bias_regularizer=l2(0.01)))\n",
        "\n",
        "model_cnn3.add(Conv1D(filters=128, kernel_size=2, activation='relu', kernel_regularizer=l2(0.01), bias_regularizer=l2(0.01)))\n",
        "\n",
        "model_cnn3.add(Flatten())\n",
        "model_cnn3.add(Dropout(0.7))\n",
        "\n",
        "model_cnn3.add(Dense(1,activation='sigmoid'))\n",
        "\n",
        "model_cnn3.compile(loss='binary_crossentropy', optimizer=\"adam\", metrics = [\"accuracy\", tf.keras.metrics.Recall(), tf.keras.metrics.Precision()])\n",
        "model_cnn3.summary()\n",
        "\n",
        "#_________\n",
        "model_cnn3.fit(train_x, train_y, epochs=50, batch_size=1000, verbose=1)\n",
        "#________\n",
        "scores = model_cnn3.evaluate(test_x,test_y, verbose=1)\n",
        " \n",
        "print(scores) "
      ],
      "metadata": {
        "id": "kgXGJSnX8PFJ",
        "colab": {
          "base_uri": "https://localhost:8080/"
        },
        "outputId": "c80af460-3363-4a97-ebfc-ade59672ceec"
      },
      "execution_count": null,
      "outputs": [
        {
          "output_type": "stream",
          "name": "stdout",
          "text": [
            "Model: \"sequential\"\n",
            "_________________________________________________________________\n",
            " Layer (type)                Output Shape              Param #   \n",
            "=================================================================\n",
            " conv1d (Conv1D)             (None, 144, 160)          1120      \n",
            "                                                                 \n",
            " conv1d_1 (Conv1D)           (None, 143, 128)          41088     \n",
            "                                                                 \n",
            " flatten (Flatten)           (None, 18304)             0         \n",
            "                                                                 \n",
            " dropout (Dropout)           (None, 18304)             0         \n",
            "                                                                 \n",
            " dense (Dense)               (None, 1)                 18305     \n",
            "                                                                 \n",
            "=================================================================\n",
            "Total params: 60,513\n",
            "Trainable params: 60,513\n",
            "Non-trainable params: 0\n",
            "_________________________________________________________________\n",
            "Epoch 1/50\n",
            "1/1 [==============================] - 9s 9s/step - loss: 2.1733 - accuracy: 0.5168 - recall: 0.4664 - precision: 0.5187\n",
            "Epoch 2/50\n",
            "1/1 [==============================] - 0s 25ms/step - loss: 2.0457 - accuracy: 0.8813 - recall: 0.8025 - precision: 0.9526\n",
            "Epoch 3/50\n",
            "1/1 [==============================] - 0s 22ms/step - loss: 1.9249 - accuracy: 0.9811 - recall: 0.9685 - precision: 0.9935\n",
            "Epoch 4/50\n",
            "1/1 [==============================] - 0s 22ms/step - loss: 1.8098 - accuracy: 0.9874 - recall: 0.9832 - precision: 0.9915\n",
            "Epoch 5/50\n",
            "1/1 [==============================] - 0s 24ms/step - loss: 1.7050 - accuracy: 0.9916 - recall: 0.9895 - precision: 0.9937\n",
            "Epoch 6/50\n",
            "1/1 [==============================] - 0s 22ms/step - loss: 1.6030 - accuracy: 0.9937 - recall: 0.9895 - precision: 0.9979\n",
            "Epoch 7/50\n",
            "1/1 [==============================] - 0s 22ms/step - loss: 1.5129 - accuracy: 0.9926 - recall: 0.9874 - precision: 0.9979\n",
            "Epoch 8/50\n",
            "1/1 [==============================] - 0s 21ms/step - loss: 1.4345 - accuracy: 0.9916 - recall: 0.9853 - precision: 0.9979\n",
            "Epoch 9/50\n",
            "1/1 [==============================] - 0s 22ms/step - loss: 1.3659 - accuracy: 0.9916 - recall: 0.9874 - precision: 0.9958\n",
            "Epoch 10/50\n",
            "1/1 [==============================] - 0s 21ms/step - loss: 1.3084 - accuracy: 0.9937 - recall: 0.9916 - precision: 0.9958\n",
            "Epoch 11/50\n",
            "1/1 [==============================] - 0s 21ms/step - loss: 1.2585 - accuracy: 0.9916 - recall: 0.9895 - precision: 0.9937\n",
            "Epoch 12/50\n",
            "1/1 [==============================] - 0s 21ms/step - loss: 1.2151 - accuracy: 0.9926 - recall: 0.9895 - precision: 0.9958\n",
            "Epoch 13/50\n",
            "1/1 [==============================] - 0s 23ms/step - loss: 1.1776 - accuracy: 0.9895 - recall: 0.9874 - precision: 0.9916\n",
            "Epoch 14/50\n",
            "1/1 [==============================] - 0s 21ms/step - loss: 1.1440 - accuracy: 0.9926 - recall: 0.9874 - precision: 0.9979\n",
            "Epoch 15/50\n",
            "1/1 [==============================] - 0s 21ms/step - loss: 1.1100 - accuracy: 0.9926 - recall: 0.9874 - precision: 0.9979\n",
            "Epoch 16/50\n",
            "1/1 [==============================] - 0s 21ms/step - loss: 1.0806 - accuracy: 0.9905 - recall: 0.9874 - precision: 0.9937\n",
            "Epoch 17/50\n",
            "1/1 [==============================] - 0s 22ms/step - loss: 1.0505 - accuracy: 0.9926 - recall: 0.9874 - precision: 0.9979\n",
            "Epoch 18/50\n",
            "1/1 [==============================] - 0s 21ms/step - loss: 1.0215 - accuracy: 0.9905 - recall: 0.9853 - precision: 0.9958\n",
            "Epoch 19/50\n",
            "1/1 [==============================] - 0s 22ms/step - loss: 0.9905 - accuracy: 0.9947 - recall: 0.9916 - precision: 0.9979\n",
            "Epoch 20/50\n",
            "1/1 [==============================] - 0s 21ms/step - loss: 0.9629 - accuracy: 0.9937 - recall: 0.9895 - precision: 0.9979\n",
            "Epoch 21/50\n",
            "1/1 [==============================] - 0s 22ms/step - loss: 0.9361 - accuracy: 0.9947 - recall: 0.9916 - precision: 0.9979\n",
            "Epoch 22/50\n",
            "1/1 [==============================] - 0s 22ms/step - loss: 0.9101 - accuracy: 0.9937 - recall: 0.9916 - precision: 0.9958\n",
            "Epoch 23/50\n",
            "1/1 [==============================] - 0s 21ms/step - loss: 0.8836 - accuracy: 0.9947 - recall: 0.9916 - precision: 0.9979\n",
            "Epoch 24/50\n",
            "1/1 [==============================] - 0s 23ms/step - loss: 0.8574 - accuracy: 0.9926 - recall: 0.9895 - precision: 0.9958\n",
            "Epoch 25/50\n",
            "1/1 [==============================] - 0s 22ms/step - loss: 0.8326 - accuracy: 0.9947 - recall: 0.9916 - precision: 0.9979\n",
            "Epoch 26/50\n",
            "1/1 [==============================] - 0s 22ms/step - loss: 0.8085 - accuracy: 0.9926 - recall: 0.9895 - precision: 0.9958\n",
            "Epoch 27/50\n",
            "1/1 [==============================] - 0s 24ms/step - loss: 0.7824 - accuracy: 0.9947 - recall: 0.9916 - precision: 0.9979\n",
            "Epoch 28/50\n",
            "1/1 [==============================] - 0s 22ms/step - loss: 0.7584 - accuracy: 0.9947 - recall: 0.9916 - precision: 0.9979\n",
            "Epoch 29/50\n",
            "1/1 [==============================] - 0s 22ms/step - loss: 0.7342 - accuracy: 0.9937 - recall: 0.9895 - precision: 0.9979\n",
            "Epoch 30/50\n",
            "1/1 [==============================] - 0s 22ms/step - loss: 0.7129 - accuracy: 0.9947 - recall: 0.9916 - precision: 0.9979\n",
            "Epoch 31/50\n",
            "1/1 [==============================] - 0s 21ms/step - loss: 0.6912 - accuracy: 0.9947 - recall: 0.9916 - precision: 0.9979\n",
            "Epoch 32/50\n",
            "1/1 [==============================] - 0s 21ms/step - loss: 0.6681 - accuracy: 0.9947 - recall: 0.9916 - precision: 0.9979\n",
            "Epoch 33/50\n",
            "1/1 [==============================] - 0s 21ms/step - loss: 0.6483 - accuracy: 0.9937 - recall: 0.9895 - precision: 0.9979\n",
            "Epoch 34/50\n",
            "1/1 [==============================] - 0s 23ms/step - loss: 0.6274 - accuracy: 0.9947 - recall: 0.9937 - precision: 0.9958\n",
            "Epoch 35/50\n",
            "1/1 [==============================] - 0s 21ms/step - loss: 0.6090 - accuracy: 0.9947 - recall: 0.9937 - precision: 0.9958\n",
            "Epoch 36/50\n",
            "1/1 [==============================] - 0s 22ms/step - loss: 0.5885 - accuracy: 0.9937 - recall: 0.9916 - precision: 0.9958\n",
            "Epoch 37/50\n",
            "1/1 [==============================] - 0s 22ms/step - loss: 0.5705 - accuracy: 0.9958 - recall: 0.9937 - precision: 0.9979\n",
            "Epoch 38/50\n",
            "1/1 [==============================] - 0s 22ms/step - loss: 0.5526 - accuracy: 0.9947 - recall: 0.9958 - precision: 0.9937\n",
            "Epoch 39/50\n",
            "1/1 [==============================] - 0s 22ms/step - loss: 0.5359 - accuracy: 0.9958 - recall: 0.9937 - precision: 0.9979\n",
            "Epoch 40/50\n",
            "1/1 [==============================] - 0s 21ms/step - loss: 0.5181 - accuracy: 0.9947 - recall: 0.9916 - precision: 0.9979\n",
            "Epoch 41/50\n",
            "1/1 [==============================] - 0s 24ms/step - loss: 0.5020 - accuracy: 0.9947 - recall: 0.9916 - precision: 0.9979\n",
            "Epoch 42/50\n",
            "1/1 [==============================] - 0s 22ms/step - loss: 0.4860 - accuracy: 0.9958 - recall: 0.9937 - precision: 0.9979\n",
            "Epoch 43/50\n",
            "1/1 [==============================] - 0s 21ms/step - loss: 0.4716 - accuracy: 0.9958 - recall: 0.9937 - precision: 0.9979\n",
            "Epoch 44/50\n",
            "1/1 [==============================] - 0s 22ms/step - loss: 0.4558 - accuracy: 0.9958 - recall: 0.9937 - precision: 0.9979\n",
            "Epoch 45/50\n",
            "1/1 [==============================] - 0s 21ms/step - loss: 0.4428 - accuracy: 0.9926 - recall: 0.9916 - precision: 0.9937\n",
            "Epoch 46/50\n",
            "1/1 [==============================] - 0s 21ms/step - loss: 0.4285 - accuracy: 0.9968 - recall: 0.9937 - precision: 1.0000\n",
            "Epoch 47/50\n",
            "1/1 [==============================] - 0s 21ms/step - loss: 0.4141 - accuracy: 0.9968 - recall: 0.9958 - precision: 0.9979\n",
            "Epoch 48/50\n",
            "1/1 [==============================] - 0s 21ms/step - loss: 0.4026 - accuracy: 0.9968 - recall: 0.9958 - precision: 0.9979\n",
            "Epoch 49/50\n",
            "1/1 [==============================] - 0s 21ms/step - loss: 0.3904 - accuracy: 0.9947 - recall: 0.9937 - precision: 0.9958\n",
            "Epoch 50/50\n",
            "1/1 [==============================] - 0s 21ms/step - loss: 0.3772 - accuracy: 0.9968 - recall: 0.9958 - precision: 0.9979\n",
            "2/2 [==============================] - 0s 20ms/step - loss: 2.1973 - accuracy: 0.5385 - recall: 0.9412 - precision: 0.4848\n",
            "[2.197310209274292, 0.5384615659713745, 0.9411764740943909, 0.4848484992980957]\n"
          ]
        }
      ]
    },
    {
      "cell_type": "markdown",
      "source": [
        "# ***EXP***"
      ],
      "metadata": {
        "id": "FSfTzBIn93LW"
      }
    },
    {
      "cell_type": "code",
      "source": [
        "from keras.regularizers import l2\n",
        "\n",
        "from keras.callbacks import ReduceLROnPlateau\n",
        "\n",
        "rlrop = ReduceLROnPlateau(monitor='loss', factor=0.1, patience=100)\n",
        "\n",
        "model_cnn4 = Sequential() \n",
        "model_cnn4.add(Conv1D(filters=160, kernel_size=2, activation='relu', input_shape=(145,3), kernel_regularizer=l2(0.01), bias_regularizer=l2(0.01)))\n",
        "model_cnn4.add(Conv1D(filters=128, kernel_size=2, activation='relu', kernel_regularizer=l2(0.01), bias_regularizer=l2(0.01)))\n",
        "model_cnn4.add(Flatten())\n",
        "model_cnn4.add(Dropout(0.7))\n",
        "model_cnn4.add(Dense(1,activation='sigmoid'))\n",
        "\n",
        "model_cnn4.compile(loss='binary_crossentropy', optimizer=\"adam\", metrics = [\"accuracy\", tf.keras.metrics.Recall(), tf.keras.metrics.Precision()])\n",
        "model_cnn4.summary()\n",
        "\n",
        "#_________\n",
        "model_cnn4.fit(train_x, train_y, epochs=50, batch_size=1000, verbose=1,callbacks=[rlrop])\n",
        "#________\n",
        "scores = model_cnn4.evaluate(test_x,test_y, verbose=1)\n",
        "scores"
      ],
      "metadata": {
        "id": "s9_eRiFm92KG",
        "colab": {
          "base_uri": "https://localhost:8080/"
        },
        "outputId": "2cd5e8cd-9ee7-4f27-fe7c-27d17c15f69e"
      },
      "execution_count": null,
      "outputs": [
        {
          "output_type": "stream",
          "name": "stdout",
          "text": [
            "Model: \"sequential_1\"\n",
            "_________________________________________________________________\n",
            " Layer (type)                Output Shape              Param #   \n",
            "=================================================================\n",
            " conv1d_2 (Conv1D)           (None, 144, 160)          1120      \n",
            "                                                                 \n",
            " conv1d_3 (Conv1D)           (None, 143, 128)          41088     \n",
            "                                                                 \n",
            " flatten_1 (Flatten)         (None, 18304)             0         \n",
            "                                                                 \n",
            " dropout_1 (Dropout)         (None, 18304)             0         \n",
            "                                                                 \n",
            " dense_1 (Dense)             (None, 1)                 18305     \n",
            "                                                                 \n",
            "=================================================================\n",
            "Total params: 60,513\n",
            "Trainable params: 60,513\n",
            "Non-trainable params: 0\n",
            "_________________________________________________________________\n",
            "Epoch 1/50\n",
            "1/1 [==============================] - 1s 842ms/step - loss: 2.1763 - accuracy: 0.5546 - recall_1: 0.3340 - precision_1: 0.5977 - lr: 0.0010\n",
            "Epoch 2/50\n",
            "1/1 [==============================] - 0s 23ms/step - loss: 2.0593 - accuracy: 0.8561 - recall_1: 0.7458 - precision_1: 0.9569 - lr: 0.0010\n",
            "Epoch 3/50\n",
            "1/1 [==============================] - 0s 22ms/step - loss: 1.9491 - accuracy: 0.9716 - recall_1: 0.9496 - precision_1: 0.9934 - lr: 0.0010\n",
            "Epoch 4/50\n",
            "1/1 [==============================] - 0s 22ms/step - loss: 1.8466 - accuracy: 0.9874 - recall_1: 0.9790 - precision_1: 0.9957 - lr: 0.0010\n",
            "Epoch 5/50\n",
            "1/1 [==============================] - 0s 21ms/step - loss: 1.7436 - accuracy: 0.9905 - recall_1: 0.9853 - precision_1: 0.9958 - lr: 0.0010\n",
            "Epoch 6/50\n",
            "1/1 [==============================] - 0s 25ms/step - loss: 1.6408 - accuracy: 0.9916 - recall_1: 0.9874 - precision_1: 0.9958 - lr: 0.0010\n",
            "Epoch 7/50\n",
            "1/1 [==============================] - 0s 22ms/step - loss: 1.5438 - accuracy: 0.9905 - recall_1: 0.9853 - precision_1: 0.9958 - lr: 0.0010\n",
            "Epoch 8/50\n",
            "1/1 [==============================] - 0s 23ms/step - loss: 1.4604 - accuracy: 0.9926 - recall_1: 0.9916 - precision_1: 0.9937 - lr: 0.0010\n",
            "Epoch 9/50\n",
            "1/1 [==============================] - 0s 23ms/step - loss: 1.3883 - accuracy: 0.9926 - recall_1: 0.9895 - precision_1: 0.9958 - lr: 0.0010\n",
            "Epoch 10/50\n",
            "1/1 [==============================] - 0s 21ms/step - loss: 1.3245 - accuracy: 0.9895 - recall_1: 0.9895 - precision_1: 0.9895 - lr: 0.0010\n",
            "Epoch 11/50\n",
            "1/1 [==============================] - 0s 28ms/step - loss: 1.2719 - accuracy: 0.9926 - recall_1: 0.9895 - precision_1: 0.9958 - lr: 0.0010\n",
            "Epoch 12/50\n",
            "1/1 [==============================] - 0s 23ms/step - loss: 1.2271 - accuracy: 0.9895 - recall_1: 0.9874 - precision_1: 0.9916 - lr: 0.0010\n",
            "Epoch 13/50\n",
            "1/1 [==============================] - 0s 21ms/step - loss: 1.1881 - accuracy: 0.9905 - recall_1: 0.9853 - precision_1: 0.9958 - lr: 0.0010\n",
            "Epoch 14/50\n",
            "1/1 [==============================] - 0s 22ms/step - loss: 1.1516 - accuracy: 0.9916 - recall_1: 0.9853 - precision_1: 0.9979 - lr: 0.0010\n",
            "Epoch 15/50\n",
            "1/1 [==============================] - 0s 22ms/step - loss: 1.1207 - accuracy: 0.9905 - recall_1: 0.9895 - precision_1: 0.9916 - lr: 0.0010\n",
            "Epoch 16/50\n",
            "1/1 [==============================] - 0s 23ms/step - loss: 1.0909 - accuracy: 0.9916 - recall_1: 0.9874 - precision_1: 0.9958 - lr: 0.0010\n",
            "Epoch 17/50\n",
            "1/1 [==============================] - 0s 22ms/step - loss: 1.0602 - accuracy: 0.9937 - recall_1: 0.9895 - precision_1: 0.9979 - lr: 0.0010\n",
            "Epoch 18/50\n",
            "1/1 [==============================] - 0s 23ms/step - loss: 1.0315 - accuracy: 0.9916 - recall_1: 0.9853 - precision_1: 0.9979 - lr: 0.0010\n",
            "Epoch 19/50\n",
            "1/1 [==============================] - 0s 21ms/step - loss: 1.0031 - accuracy: 0.9926 - recall_1: 0.9895 - precision_1: 0.9958 - lr: 0.0010\n",
            "Epoch 20/50\n",
            "1/1 [==============================] - 0s 22ms/step - loss: 0.9737 - accuracy: 0.9916 - recall_1: 0.9895 - precision_1: 0.9937 - lr: 0.0010\n",
            "Epoch 21/50\n",
            "1/1 [==============================] - 0s 22ms/step - loss: 0.9454 - accuracy: 0.9937 - recall_1: 0.9916 - precision_1: 0.9958 - lr: 0.0010\n",
            "Epoch 22/50\n",
            "1/1 [==============================] - 0s 22ms/step - loss: 0.9200 - accuracy: 0.9926 - recall_1: 0.9895 - precision_1: 0.9958 - lr: 0.0010\n",
            "Epoch 23/50\n",
            "1/1 [==============================] - 0s 23ms/step - loss: 0.8941 - accuracy: 0.9937 - recall_1: 0.9895 - precision_1: 0.9979 - lr: 0.0010\n",
            "Epoch 24/50\n",
            "1/1 [==============================] - 0s 22ms/step - loss: 0.8686 - accuracy: 0.9926 - recall_1: 0.9895 - precision_1: 0.9958 - lr: 0.0010\n",
            "Epoch 25/50\n",
            "1/1 [==============================] - 0s 23ms/step - loss: 0.8408 - accuracy: 0.9947 - recall_1: 0.9937 - precision_1: 0.9958 - lr: 0.0010\n",
            "Epoch 26/50\n",
            "1/1 [==============================] - 0s 23ms/step - loss: 0.8185 - accuracy: 0.9926 - recall_1: 0.9895 - precision_1: 0.9958 - lr: 0.0010\n",
            "Epoch 27/50\n",
            "1/1 [==============================] - 0s 22ms/step - loss: 0.7922 - accuracy: 0.9937 - recall_1: 0.9916 - precision_1: 0.9958 - lr: 0.0010\n",
            "Epoch 28/50\n",
            "1/1 [==============================] - 0s 24ms/step - loss: 0.7689 - accuracy: 0.9926 - recall_1: 0.9895 - precision_1: 0.9958 - lr: 0.0010\n",
            "Epoch 29/50\n",
            "1/1 [==============================] - 0s 23ms/step - loss: 0.7440 - accuracy: 0.9947 - recall_1: 0.9916 - precision_1: 0.9979 - lr: 0.0010\n",
            "Epoch 30/50\n",
            "1/1 [==============================] - 0s 24ms/step - loss: 0.7217 - accuracy: 0.9947 - recall_1: 0.9916 - precision_1: 0.9979 - lr: 0.0010\n",
            "Epoch 31/50\n",
            "1/1 [==============================] - 0s 22ms/step - loss: 0.7006 - accuracy: 0.9926 - recall_1: 0.9895 - precision_1: 0.9958 - lr: 0.0010\n",
            "Epoch 32/50\n",
            "1/1 [==============================] - 0s 24ms/step - loss: 0.6765 - accuracy: 0.9947 - recall_1: 0.9916 - precision_1: 0.9979 - lr: 0.0010\n",
            "Epoch 33/50\n",
            "1/1 [==============================] - 0s 24ms/step - loss: 0.6568 - accuracy: 0.9947 - recall_1: 0.9937 - precision_1: 0.9958 - lr: 0.0010\n",
            "Epoch 34/50\n",
            "1/1 [==============================] - 0s 22ms/step - loss: 0.6365 - accuracy: 0.9947 - recall_1: 0.9937 - precision_1: 0.9958 - lr: 0.0010\n",
            "Epoch 35/50\n",
            "1/1 [==============================] - 0s 22ms/step - loss: 0.6183 - accuracy: 0.9947 - recall_1: 0.9916 - precision_1: 0.9979 - lr: 0.0010\n",
            "Epoch 36/50\n",
            "1/1 [==============================] - 0s 21ms/step - loss: 0.5958 - accuracy: 0.9937 - recall_1: 0.9937 - precision_1: 0.9937 - lr: 0.0010\n",
            "Epoch 37/50\n",
            "1/1 [==============================] - 0s 24ms/step - loss: 0.5785 - accuracy: 0.9926 - recall_1: 0.9874 - precision_1: 0.9979 - lr: 0.0010\n",
            "Epoch 38/50\n",
            "1/1 [==============================] - 0s 23ms/step - loss: 0.5605 - accuracy: 0.9947 - recall_1: 0.9916 - precision_1: 0.9979 - lr: 0.0010\n",
            "Epoch 39/50\n",
            "1/1 [==============================] - 0s 22ms/step - loss: 0.5405 - accuracy: 0.9958 - recall_1: 0.9937 - precision_1: 0.9979 - lr: 0.0010\n",
            "Epoch 40/50\n",
            "1/1 [==============================] - 0s 22ms/step - loss: 0.5247 - accuracy: 0.9958 - recall_1: 0.9937 - precision_1: 0.9979 - lr: 0.0010\n",
            "Epoch 41/50\n",
            "1/1 [==============================] - 0s 22ms/step - loss: 0.5086 - accuracy: 0.9958 - recall_1: 0.9958 - precision_1: 0.9958 - lr: 0.0010\n",
            "Epoch 42/50\n",
            "1/1 [==============================] - 0s 23ms/step - loss: 0.4926 - accuracy: 0.9968 - recall_1: 0.9958 - precision_1: 0.9979 - lr: 0.0010\n",
            "Epoch 43/50\n",
            "1/1 [==============================] - 0s 23ms/step - loss: 0.4763 - accuracy: 0.9968 - recall_1: 0.9958 - precision_1: 0.9979 - lr: 0.0010\n",
            "Epoch 44/50\n",
            "1/1 [==============================] - 0s 23ms/step - loss: 0.4619 - accuracy: 0.9968 - recall_1: 0.9958 - precision_1: 0.9979 - lr: 0.0010\n",
            "Epoch 45/50\n",
            "1/1 [==============================] - 0s 22ms/step - loss: 0.4471 - accuracy: 0.9968 - recall_1: 0.9958 - precision_1: 0.9979 - lr: 0.0010\n",
            "Epoch 46/50\n",
            "1/1 [==============================] - 0s 22ms/step - loss: 0.4339 - accuracy: 0.9958 - recall_1: 0.9937 - precision_1: 0.9979 - lr: 0.0010\n",
            "Epoch 47/50\n",
            "1/1 [==============================] - 0s 22ms/step - loss: 0.4208 - accuracy: 0.9958 - recall_1: 0.9937 - precision_1: 0.9979 - lr: 0.0010\n",
            "Epoch 48/50\n",
            "1/1 [==============================] - 0s 24ms/step - loss: 0.4067 - accuracy: 0.9968 - recall_1: 0.9958 - precision_1: 0.9979 - lr: 0.0010\n",
            "Epoch 49/50\n",
            "1/1 [==============================] - 0s 22ms/step - loss: 0.3953 - accuracy: 0.9958 - recall_1: 0.9937 - precision_1: 0.9979 - lr: 0.0010\n",
            "Epoch 50/50\n",
            "1/1 [==============================] - 0s 23ms/step - loss: 0.3821 - accuracy: 0.9968 - recall_1: 0.9958 - precision_1: 0.9979 - lr: 0.0010\n",
            "2/2 [==============================] - 0s 7ms/step - loss: 2.2108 - accuracy: 0.5641 - recall_1: 0.9412 - precision_1: 0.5000\n"
          ]
        },
        {
          "output_type": "execute_result",
          "data": {
            "text/plain": [
              "[2.2107973098754883, 0.5641025900840759, 0.9411764740943909, 0.5]"
            ]
          },
          "metadata": {},
          "execution_count": 14
        }
      ]
    },
    {
      "cell_type": "markdown",
      "source": [
        "## ***EXP7***"
      ],
      "metadata": {
        "id": "R2Wxpn4d_p3S"
      }
    },
    {
      "cell_type": "code",
      "source": [
        "from keras.regularizers import l2\n",
        "# import noise layer\n",
        "from keras.layers import GaussianNoise\n",
        "# define noise layer\n",
        "layer = GaussianNoise(0.1)\n",
        "\n",
        "model_cnn6 = Sequential() \n",
        "model_cnn6.add(Conv1D(filters=160, kernel_size=2, activation='relu', input_shape=(145,3) , kernel_regularizer=l2(0.01), bias_regularizer=l2(0.01)))\n",
        "model_cnn6.add(GaussianNoise(0.1))\n",
        "model_cnn6.add(Conv1D(filters=128, kernel_size=2, activation='relu', kernel_regularizer=l2(0.01), bias_regularizer=l2(0.01)))\n",
        "model_cnn6.add(GaussianNoise(0.1))\n",
        "model_cnn6.add(Flatten())\n",
        "model_cnn6.add(Dropout(0.7))\n",
        "model_cnn6.add(GaussianNoise(0.1))\n",
        "model_cnn6.add(Dense(1,activation='sigmoid'))\n",
        "\n",
        "model_cnn6.compile(loss='binary_crossentropy', optimizer=\"adam\", metrics = [\"accuracy\", tf.keras.metrics.Recall(), tf.keras.metrics.Precision()])\n",
        "model_cnn6.summary()\n",
        "\n",
        "#_________\n",
        "model_cnn6.fit(train_x, train_y, epochs=50, batch_size=1000, verbose=1, validation_split=0.2)\n",
        "#________\n",
        "scores = model_cnn6.evaluate(test_x,test_y, verbose=1)\n",
        " \n",
        "scores "
      ],
      "metadata": {
        "id": "8hwycoDh_o7s",
        "colab": {
          "base_uri": "https://localhost:8080/"
        },
        "outputId": "3d5244d9-6a56-4223-f5bf-d9b79ded57e4"
      },
      "execution_count": null,
      "outputs": [
        {
          "output_type": "stream",
          "name": "stdout",
          "text": [
            "Model: \"sequential_6\"\n",
            "_________________________________________________________________\n",
            " Layer (type)                Output Shape              Param #   \n",
            "=================================================================\n",
            " conv1d_12 (Conv1D)          (None, 144, 160)          1120      \n",
            "                                                                 \n",
            " gaussian_noise_15 (Gaussian  (None, 144, 160)         0         \n",
            " Noise)                                                          \n",
            "                                                                 \n",
            " conv1d_13 (Conv1D)          (None, 143, 128)          41088     \n",
            "                                                                 \n",
            " gaussian_noise_16 (Gaussian  (None, 143, 128)         0         \n",
            " Noise)                                                          \n",
            "                                                                 \n",
            " flatten_6 (Flatten)         (None, 18304)             0         \n",
            "                                                                 \n",
            " dropout_6 (Dropout)         (None, 18304)             0         \n",
            "                                                                 \n",
            " gaussian_noise_17 (Gaussian  (None, 18304)            0         \n",
            " Noise)                                                          \n",
            "                                                                 \n",
            " dense_6 (Dense)             (None, 1)                 18305     \n",
            "                                                                 \n",
            "=================================================================\n",
            "Total params: 60,513\n",
            "Trainable params: 60,513\n",
            "Non-trainable params: 0\n",
            "_________________________________________________________________\n",
            "Epoch 1/50\n",
            "1/1 [==============================] - 1s 1s/step - loss: 2.2095 - accuracy: 0.4652 - recall_6: 0.4079 - precision_6: 0.4599 - val_loss: 2.0842 - val_accuracy: 0.7382 - val_recall_6: 0.9792 - val_precision_6: 0.6620\n",
            "Epoch 2/50\n",
            "1/1 [==============================] - 0s 42ms/step - loss: 2.0937 - accuracy: 0.6373 - recall_6: 0.6342 - precision_6: 0.6376 - val_loss: 2.0031 - val_accuracy: 0.9215 - val_recall_6: 0.9792 - val_precision_6: 0.8785\n",
            "Epoch 3/50\n",
            "1/1 [==============================] - 0s 43ms/step - loss: 1.9863 - accuracy: 0.7530 - recall_6: 0.7842 - precision_6: 0.7376 - val_loss: 1.9239 - val_accuracy: 0.9843 - val_recall_6: 0.9792 - val_precision_6: 0.9895\n",
            "Epoch 4/50\n",
            "1/1 [==============================] - 0s 44ms/step - loss: 1.8818 - accuracy: 0.8633 - recall_6: 0.8763 - precision_6: 0.8538 - val_loss: 1.8459 - val_accuracy: 0.9843 - val_recall_6: 0.9792 - val_precision_6: 0.9895\n",
            "Epoch 5/50\n",
            "1/1 [==============================] - 0s 42ms/step - loss: 1.7876 - accuracy: 0.9041 - recall_6: 0.9158 - precision_6: 0.8946 - val_loss: 1.7689 - val_accuracy: 0.9843 - val_recall_6: 0.9792 - val_precision_6: 0.9895\n",
            "Epoch 6/50\n",
            "1/1 [==============================] - 0s 43ms/step - loss: 1.6869 - accuracy: 0.9461 - recall_6: 0.9526 - precision_6: 0.9403 - val_loss: 1.6935 - val_accuracy: 0.9843 - val_recall_6: 0.9792 - val_precision_6: 0.9895\n",
            "Epoch 7/50\n",
            "1/1 [==============================] - 0s 43ms/step - loss: 1.5983 - accuracy: 0.9514 - recall_6: 0.9763 - precision_6: 0.9298 - val_loss: 1.6202 - val_accuracy: 0.9843 - val_recall_6: 0.9792 - val_precision_6: 0.9895\n",
            "Epoch 8/50\n",
            "1/1 [==============================] - 0s 41ms/step - loss: 1.5131 - accuracy: 0.9632 - recall_6: 0.9868 - precision_6: 0.9422 - val_loss: 1.5492 - val_accuracy: 0.9843 - val_recall_6: 0.9792 - val_precision_6: 0.9895\n",
            "Epoch 9/50\n",
            "1/1 [==============================] - 0s 42ms/step - loss: 1.4356 - accuracy: 0.9777 - recall_6: 0.9921 - precision_6: 0.9642 - val_loss: 1.4813 - val_accuracy: 0.9843 - val_recall_6: 0.9792 - val_precision_6: 0.9895\n",
            "Epoch 10/50\n",
            "1/1 [==============================] - 0s 43ms/step - loss: 1.3738 - accuracy: 0.9855 - recall_6: 0.9921 - precision_6: 0.9792 - val_loss: 1.4167 - val_accuracy: 0.9843 - val_recall_6: 0.9792 - val_precision_6: 0.9895\n",
            "Epoch 11/50\n",
            "1/1 [==============================] - 0s 42ms/step - loss: 1.3079 - accuracy: 0.9921 - recall_6: 0.9974 - precision_6: 0.9870 - val_loss: 1.3559 - val_accuracy: 0.9791 - val_recall_6: 0.9688 - val_precision_6: 0.9894\n",
            "Epoch 12/50\n",
            "1/1 [==============================] - 0s 43ms/step - loss: 1.2586 - accuracy: 0.9908 - recall_6: 0.9921 - precision_6: 0.9895 - val_loss: 1.2993 - val_accuracy: 0.9791 - val_recall_6: 0.9688 - val_precision_6: 0.9894\n",
            "Epoch 13/50\n",
            "1/1 [==============================] - 0s 41ms/step - loss: 1.2159 - accuracy: 0.9934 - recall_6: 0.9921 - precision_6: 0.9947 - val_loss: 1.2474 - val_accuracy: 0.9791 - val_recall_6: 0.9688 - val_precision_6: 0.9894\n",
            "Epoch 14/50\n",
            "1/1 [==============================] - 0s 42ms/step - loss: 1.1724 - accuracy: 0.9947 - recall_6: 0.9921 - precision_6: 0.9974 - val_loss: 1.2004 - val_accuracy: 0.9791 - val_recall_6: 0.9688 - val_precision_6: 0.9894\n",
            "Epoch 15/50\n",
            "1/1 [==============================] - 0s 43ms/step - loss: 1.1349 - accuracy: 0.9961 - recall_6: 0.9947 - precision_6: 0.9974 - val_loss: 1.1582 - val_accuracy: 0.9791 - val_recall_6: 0.9688 - val_precision_6: 0.9894\n",
            "Epoch 16/50\n",
            "1/1 [==============================] - 0s 41ms/step - loss: 1.0991 - accuracy: 0.9921 - recall_6: 0.9921 - precision_6: 0.9921 - val_loss: 1.1206 - val_accuracy: 0.9791 - val_recall_6: 0.9688 - val_precision_6: 0.9894\n",
            "Epoch 17/50\n",
            "1/1 [==============================] - 0s 45ms/step - loss: 1.0617 - accuracy: 0.9947 - recall_6: 0.9921 - precision_6: 0.9974 - val_loss: 1.0866 - val_accuracy: 0.9791 - val_recall_6: 0.9688 - val_precision_6: 0.9894\n",
            "Epoch 18/50\n",
            "1/1 [==============================] - 0s 41ms/step - loss: 1.0355 - accuracy: 0.9921 - recall_6: 0.9895 - precision_6: 0.9947 - val_loss: 1.0554 - val_accuracy: 0.9791 - val_recall_6: 0.9688 - val_precision_6: 0.9894\n",
            "Epoch 19/50\n",
            "1/1 [==============================] - 0s 44ms/step - loss: 1.0043 - accuracy: 0.9947 - recall_6: 0.9895 - precision_6: 1.0000 - val_loss: 1.0265 - val_accuracy: 0.9791 - val_recall_6: 0.9688 - val_precision_6: 0.9894\n",
            "Epoch 20/50\n",
            "1/1 [==============================] - 0s 44ms/step - loss: 0.9752 - accuracy: 0.9961 - recall_6: 0.9921 - precision_6: 1.0000 - val_loss: 0.9990 - val_accuracy: 0.9791 - val_recall_6: 0.9688 - val_precision_6: 0.9894\n",
            "Epoch 21/50\n",
            "1/1 [==============================] - 0s 41ms/step - loss: 0.9491 - accuracy: 0.9947 - recall_6: 0.9921 - precision_6: 0.9974 - val_loss: 0.9726 - val_accuracy: 0.9791 - val_recall_6: 0.9688 - val_precision_6: 0.9894\n",
            "Epoch 22/50\n",
            "1/1 [==============================] - 0s 43ms/step - loss: 0.9229 - accuracy: 0.9947 - recall_6: 0.9895 - precision_6: 1.0000 - val_loss: 0.9470 - val_accuracy: 0.9791 - val_recall_6: 0.9688 - val_precision_6: 0.9894\n",
            "Epoch 23/50\n",
            "1/1 [==============================] - 0s 43ms/step - loss: 0.8986 - accuracy: 0.9961 - recall_6: 0.9921 - precision_6: 1.0000 - val_loss: 0.9219 - val_accuracy: 0.9791 - val_recall_6: 0.9688 - val_precision_6: 0.9894\n",
            "Epoch 24/50\n",
            "1/1 [==============================] - 0s 44ms/step - loss: 0.8699 - accuracy: 0.9947 - recall_6: 0.9921 - precision_6: 0.9974 - val_loss: 0.8974 - val_accuracy: 0.9791 - val_recall_6: 0.9688 - val_precision_6: 0.9894\n",
            "Epoch 25/50\n",
            "1/1 [==============================] - 0s 41ms/step - loss: 0.8444 - accuracy: 0.9961 - recall_6: 0.9921 - precision_6: 1.0000 - val_loss: 0.8734 - val_accuracy: 0.9791 - val_recall_6: 0.9688 - val_precision_6: 0.9894\n",
            "Epoch 26/50\n",
            "1/1 [==============================] - 0s 41ms/step - loss: 0.8225 - accuracy: 0.9947 - recall_6: 0.9921 - precision_6: 0.9974 - val_loss: 0.8498 - val_accuracy: 0.9791 - val_recall_6: 0.9688 - val_precision_6: 0.9894\n",
            "Epoch 27/50\n",
            "1/1 [==============================] - 0s 42ms/step - loss: 0.7983 - accuracy: 0.9961 - recall_6: 0.9921 - precision_6: 1.0000 - val_loss: 0.8266 - val_accuracy: 0.9791 - val_recall_6: 0.9688 - val_precision_6: 0.9894\n",
            "Epoch 28/50\n",
            "1/1 [==============================] - 0s 41ms/step - loss: 0.7780 - accuracy: 0.9961 - recall_6: 0.9947 - precision_6: 0.9974 - val_loss: 0.8038 - val_accuracy: 0.9791 - val_recall_6: 0.9688 - val_precision_6: 0.9894\n",
            "Epoch 29/50\n",
            "1/1 [==============================] - 0s 41ms/step - loss: 0.7497 - accuracy: 0.9961 - recall_6: 0.9921 - precision_6: 1.0000 - val_loss: 0.7815 - val_accuracy: 0.9791 - val_recall_6: 0.9688 - val_precision_6: 0.9894\n",
            "Epoch 30/50\n",
            "1/1 [==============================] - 0s 43ms/step - loss: 0.7308 - accuracy: 0.9947 - recall_6: 0.9921 - precision_6: 0.9974 - val_loss: 0.7595 - val_accuracy: 0.9791 - val_recall_6: 0.9688 - val_precision_6: 0.9894\n",
            "Epoch 31/50\n",
            "1/1 [==============================] - 0s 43ms/step - loss: 0.7116 - accuracy: 0.9961 - recall_6: 0.9921 - precision_6: 1.0000 - val_loss: 0.7381 - val_accuracy: 0.9791 - val_recall_6: 0.9688 - val_precision_6: 0.9894\n",
            "Epoch 32/50\n",
            "1/1 [==============================] - 0s 42ms/step - loss: 0.6871 - accuracy: 0.9947 - recall_6: 0.9947 - precision_6: 0.9947 - val_loss: 0.7171 - val_accuracy: 0.9791 - val_recall_6: 0.9688 - val_precision_6: 0.9894\n",
            "Epoch 33/50\n",
            "1/1 [==============================] - 0s 43ms/step - loss: 0.6659 - accuracy: 0.9961 - recall_6: 0.9947 - precision_6: 0.9974 - val_loss: 0.6966 - val_accuracy: 0.9791 - val_recall_6: 0.9688 - val_precision_6: 0.9894\n",
            "Epoch 34/50\n",
            "1/1 [==============================] - 0s 43ms/step - loss: 0.6466 - accuracy: 0.9961 - recall_6: 0.9947 - precision_6: 0.9974 - val_loss: 0.6765 - val_accuracy: 0.9791 - val_recall_6: 0.9688 - val_precision_6: 0.9894\n",
            "Epoch 35/50\n",
            "1/1 [==============================] - 0s 44ms/step - loss: 0.6247 - accuracy: 0.9961 - recall_6: 0.9947 - precision_6: 0.9974 - val_loss: 0.6570 - val_accuracy: 0.9791 - val_recall_6: 0.9688 - val_precision_6: 0.9894\n",
            "Epoch 36/50\n",
            "1/1 [==============================] - 0s 44ms/step - loss: 0.6081 - accuracy: 0.9961 - recall_6: 0.9921 - precision_6: 1.0000 - val_loss: 0.6379 - val_accuracy: 0.9791 - val_recall_6: 0.9688 - val_precision_6: 0.9894\n",
            "Epoch 37/50\n",
            "1/1 [==============================] - 0s 42ms/step - loss: 0.5881 - accuracy: 0.9947 - recall_6: 0.9947 - precision_6: 0.9947 - val_loss: 0.6194 - val_accuracy: 0.9791 - val_recall_6: 0.9688 - val_precision_6: 0.9894\n",
            "Epoch 38/50\n",
            "1/1 [==============================] - 0s 43ms/step - loss: 0.5699 - accuracy: 0.9974 - recall_6: 0.9947 - precision_6: 1.0000 - val_loss: 0.6014 - val_accuracy: 0.9791 - val_recall_6: 0.9688 - val_precision_6: 0.9894\n",
            "Epoch 39/50\n",
            "1/1 [==============================] - 0s 43ms/step - loss: 0.5521 - accuracy: 0.9974 - recall_6: 0.9947 - precision_6: 1.0000 - val_loss: 0.5840 - val_accuracy: 0.9791 - val_recall_6: 0.9688 - val_precision_6: 0.9894\n",
            "Epoch 40/50\n",
            "1/1 [==============================] - 0s 41ms/step - loss: 0.5359 - accuracy: 0.9961 - recall_6: 0.9947 - precision_6: 0.9974 - val_loss: 0.5671 - val_accuracy: 0.9791 - val_recall_6: 0.9688 - val_precision_6: 0.9894\n",
            "Epoch 41/50\n",
            "1/1 [==============================] - 0s 42ms/step - loss: 0.5195 - accuracy: 0.9961 - recall_6: 0.9947 - precision_6: 0.9974 - val_loss: 0.5506 - val_accuracy: 0.9791 - val_recall_6: 0.9688 - val_precision_6: 0.9894\n",
            "Epoch 42/50\n",
            "1/1 [==============================] - 0s 42ms/step - loss: 0.5046 - accuracy: 0.9974 - recall_6: 0.9947 - precision_6: 1.0000 - val_loss: 0.5346 - val_accuracy: 0.9791 - val_recall_6: 0.9688 - val_precision_6: 0.9894\n",
            "Epoch 43/50\n",
            "1/1 [==============================] - 0s 41ms/step - loss: 0.4883 - accuracy: 0.9974 - recall_6: 0.9947 - precision_6: 1.0000 - val_loss: 0.5192 - val_accuracy: 0.9791 - val_recall_6: 0.9688 - val_precision_6: 0.9894\n",
            "Epoch 44/50\n",
            "1/1 [==============================] - 0s 42ms/step - loss: 0.4750 - accuracy: 0.9934 - recall_6: 0.9921 - precision_6: 0.9947 - val_loss: 0.5043 - val_accuracy: 0.9791 - val_recall_6: 0.9688 - val_precision_6: 0.9894\n",
            "Epoch 45/50\n",
            "1/1 [==============================] - 0s 43ms/step - loss: 0.4589 - accuracy: 0.9974 - recall_6: 0.9947 - precision_6: 1.0000 - val_loss: 0.4898 - val_accuracy: 0.9791 - val_recall_6: 0.9688 - val_precision_6: 0.9894\n",
            "Epoch 46/50\n",
            "1/1 [==============================] - 0s 42ms/step - loss: 0.4445 - accuracy: 0.9974 - recall_6: 0.9947 - precision_6: 1.0000 - val_loss: 0.4759 - val_accuracy: 0.9791 - val_recall_6: 0.9688 - val_precision_6: 0.9894\n",
            "Epoch 47/50\n",
            "1/1 [==============================] - 0s 43ms/step - loss: 0.4317 - accuracy: 0.9961 - recall_6: 0.9921 - precision_6: 1.0000 - val_loss: 0.4624 - val_accuracy: 0.9791 - val_recall_6: 0.9688 - val_precision_6: 0.9894\n",
            "Epoch 48/50\n",
            "1/1 [==============================] - 0s 42ms/step - loss: 0.4192 - accuracy: 0.9961 - recall_6: 0.9947 - precision_6: 0.9974 - val_loss: 0.4494 - val_accuracy: 0.9791 - val_recall_6: 0.9688 - val_precision_6: 0.9894\n",
            "Epoch 49/50\n",
            "1/1 [==============================] - 0s 42ms/step - loss: 0.4047 - accuracy: 0.9974 - recall_6: 0.9947 - precision_6: 1.0000 - val_loss: 0.4369 - val_accuracy: 0.9791 - val_recall_6: 0.9688 - val_precision_6: 0.9894\n",
            "Epoch 50/50\n",
            "1/1 [==============================] - 0s 41ms/step - loss: 0.3938 - accuracy: 0.9947 - recall_6: 0.9921 - precision_6: 0.9974 - val_loss: 0.4247 - val_accuracy: 0.9791 - val_recall_6: 0.9688 - val_precision_6: 0.9894\n",
            "2/2 [==============================] - 0s 8ms/step - loss: 1.7822 - accuracy: 0.6667 - recall_6: 0.2941 - precision_6: 0.8333\n"
          ]
        },
        {
          "output_type": "execute_result",
          "data": {
            "text/plain": [
              "[1.7822399139404297,\n",
              " 0.6666666865348816,\n",
              " 0.29411765933036804,\n",
              " 0.8333333134651184]"
            ]
          },
          "metadata": {},
          "execution_count": 19
        }
      ]
    },
    {
      "cell_type": "code",
      "source": [
        "from keras.regularizers import l2\n",
        "\n",
        "model_cnn7 = Sequential() \n",
        "model_cnn7.add(Conv1D(filters=160, kernel_size=2, activation='relu', input_shape=(145,3) , kernel_regularizer=l2(0.01), bias_regularizer=l2(0.01)))\n",
        "model_cnn7.add(GaussianNoise(0.5))\n",
        "model_cnn7.add(Conv1D(filters=128, kernel_size=2, activation='relu', kernel_regularizer=l2(0.01), bias_regularizer=l2(0.01)))\n",
        "model_cnn7.add(GaussianNoise(0.5))\n",
        "# model_cnn7.add(GaussianNoise(0.5))\n",
        "model_cnn7.add(Flatten())\n",
        "model_cnn7.add(Dropout(0.7))\n",
        "model_cnn7.add(GaussianNoise(0.25))\n",
        "model_cnn7.add(Dense(1,activation='sigmoid'))\n",
        "model_cnn7.compile(loss='binary_crossentropy', optimizer=\"adam\", metrics = [\"accuracy\", tf.keras.metrics.Recall(), tf.keras.metrics.Precision()])\n",
        "model_cnn7.summary()\n",
        "#_________\n",
        "model_cnn7.fit(train_x, train_y, epochs=50, batch_size=1000, verbose=1, validation_split=0.2)\n",
        "#________\n",
        "scores = model_cnn7.evaluate(test_x,test_y, verbose=1)\n",
        "scores"
      ],
      "metadata": {
        "colab": {
          "base_uri": "https://localhost:8080/"
        },
        "id": "MiIX41m9fZ9A",
        "outputId": "0dbd4352-748f-4fe0-a6fd-1ac02bb80d08"
      },
      "execution_count": null,
      "outputs": [
        {
          "output_type": "stream",
          "name": "stdout",
          "text": [
            "Model: \"sequential_5\"\n",
            "_________________________________________________________________\n",
            " Layer (type)                Output Shape              Param #   \n",
            "=================================================================\n",
            " conv1d_10 (Conv1D)          (None, 144, 160)          1120      \n",
            "                                                                 \n",
            " gaussian_noise_11 (Gaussian  (None, 144, 160)         0         \n",
            " Noise)                                                          \n",
            "                                                                 \n",
            " conv1d_11 (Conv1D)          (None, 143, 128)          41088     \n",
            "                                                                 \n",
            " gaussian_noise_12 (Gaussian  (None, 143, 128)         0         \n",
            " Noise)                                                          \n",
            "                                                                 \n",
            " flatten_5 (Flatten)         (None, 18304)             0         \n",
            "                                                                 \n",
            " dropout_5 (Dropout)         (None, 18304)             0         \n",
            "                                                                 \n",
            " gaussian_noise_13 (Gaussian  (None, 18304)            0         \n",
            " Noise)                                                          \n",
            "                                                                 \n",
            " dense_5 (Dense)             (None, 1)                 18305     \n",
            "                                                                 \n",
            "=================================================================\n",
            "Total params: 60,513\n",
            "Trainable params: 60,513\n",
            "Non-trainable params: 0\n",
            "_________________________________________________________________\n",
            "Epoch 1/50\n",
            "1/1 [==============================] - 1s 1s/step - loss: 2.4633 - accuracy: 0.4836 - recall_5: 0.5526 - precision_5: 0.4850 - val_loss: 2.1131 - val_accuracy: 0.8325 - val_recall_5: 0.6771 - val_precision_5: 0.9848\n",
            "Epoch 2/50\n",
            "1/1 [==============================] - 0s 43ms/step - loss: 2.4380 - accuracy: 0.5204 - recall_5: 0.3026 - precision_5: 0.5349 - val_loss: 2.0815 - val_accuracy: 0.8953 - val_recall_5: 0.9896 - val_precision_5: 0.8333\n",
            "Epoch 3/50\n",
            "1/1 [==============================] - 0s 44ms/step - loss: 2.4221 - accuracy: 0.4744 - recall_5: 0.6053 - precision_5: 0.4792 - val_loss: 2.0455 - val_accuracy: 0.9372 - val_recall_5: 0.9896 - val_precision_5: 0.8962\n",
            "Epoch 4/50\n",
            "1/1 [==============================] - 0s 44ms/step - loss: 2.2880 - accuracy: 0.5493 - recall_5: 0.6658 - precision_5: 0.5394 - val_loss: 2.0081 - val_accuracy: 0.9738 - val_recall_5: 0.9792 - val_precision_5: 0.9691\n",
            "Epoch 5/50\n",
            "1/1 [==============================] - 0s 45ms/step - loss: 2.2340 - accuracy: 0.5572 - recall_5: 0.5053 - precision_5: 0.5630 - val_loss: 1.9723 - val_accuracy: 0.9791 - val_recall_5: 0.9688 - val_precision_5: 0.9894\n",
            "Epoch 6/50\n",
            "1/1 [==============================] - 0s 43ms/step - loss: 2.2166 - accuracy: 0.5532 - recall_5: 0.4474 - precision_5: 0.5667 - val_loss: 1.9374 - val_accuracy: 0.9791 - val_recall_5: 0.9688 - val_precision_5: 0.9894\n",
            "Epoch 7/50\n",
            "1/1 [==============================] - 0s 44ms/step - loss: 2.2054 - accuracy: 0.5348 - recall_5: 0.5184 - precision_5: 0.5353 - val_loss: 1.9022 - val_accuracy: 0.9843 - val_recall_5: 0.9792 - val_precision_5: 0.9895\n",
            "Epoch 8/50\n",
            "1/1 [==============================] - 0s 44ms/step - loss: 2.0884 - accuracy: 0.5966 - recall_5: 0.6053 - precision_5: 0.5943 - val_loss: 1.8662 - val_accuracy: 0.9843 - val_recall_5: 0.9792 - val_precision_5: 0.9895\n",
            "Epoch 9/50\n",
            "1/1 [==============================] - 0s 45ms/step - loss: 2.1099 - accuracy: 0.5742 - recall_5: 0.6421 - precision_5: 0.5648 - val_loss: 1.8290 - val_accuracy: 0.9791 - val_recall_5: 0.9688 - val_precision_5: 0.9894\n",
            "Epoch 10/50\n",
            "1/1 [==============================] - 0s 43ms/step - loss: 1.9681 - accuracy: 0.6347 - recall_5: 0.6474 - precision_5: 0.6308 - val_loss: 1.7909 - val_accuracy: 0.9791 - val_recall_5: 0.9688 - val_precision_5: 0.9894\n",
            "Epoch 11/50\n",
            "1/1 [==============================] - 0s 44ms/step - loss: 1.9401 - accuracy: 0.6518 - recall_5: 0.6684 - precision_5: 0.6463 - val_loss: 1.7519 - val_accuracy: 0.9791 - val_recall_5: 0.9688 - val_precision_5: 0.9894\n",
            "Epoch 12/50\n",
            "1/1 [==============================] - 0s 49ms/step - loss: 1.8780 - accuracy: 0.6544 - recall_5: 0.6474 - precision_5: 0.6560 - val_loss: 1.7126 - val_accuracy: 0.9791 - val_recall_5: 0.9688 - val_precision_5: 0.9894\n",
            "Epoch 13/50\n",
            "1/1 [==============================] - 0s 42ms/step - loss: 1.7902 - accuracy: 0.6938 - recall_5: 0.6447 - precision_5: 0.7143 - val_loss: 1.6726 - val_accuracy: 0.9791 - val_recall_5: 0.9688 - val_precision_5: 0.9894\n",
            "Epoch 14/50\n",
            "1/1 [==============================] - 0s 45ms/step - loss: 1.8384 - accuracy: 0.6675 - recall_5: 0.6158 - precision_5: 0.6862 - val_loss: 1.6315 - val_accuracy: 0.9791 - val_recall_5: 0.9688 - val_precision_5: 0.9894\n",
            "Epoch 15/50\n",
            "1/1 [==============================] - 0s 43ms/step - loss: 1.7125 - accuracy: 0.7280 - recall_5: 0.7000 - precision_5: 0.7409 - val_loss: 1.5899 - val_accuracy: 0.9791 - val_recall_5: 0.9688 - val_precision_5: 0.9894\n",
            "Epoch 16/50\n",
            "1/1 [==============================] - 0s 41ms/step - loss: 1.6745 - accuracy: 0.7516 - recall_5: 0.7816 - precision_5: 0.7370 - val_loss: 1.5476 - val_accuracy: 0.9791 - val_recall_5: 0.9688 - val_precision_5: 0.9894\n",
            "Epoch 17/50\n",
            "1/1 [==============================] - 0s 44ms/step - loss: 1.6123 - accuracy: 0.7779 - recall_5: 0.8053 - precision_5: 0.7631 - val_loss: 1.5049 - val_accuracy: 0.9791 - val_recall_5: 0.9688 - val_precision_5: 0.9894\n",
            "Epoch 18/50\n",
            "1/1 [==============================] - 0s 42ms/step - loss: 1.5547 - accuracy: 0.7924 - recall_5: 0.8184 - precision_5: 0.7775 - val_loss: 1.4618 - val_accuracy: 0.9791 - val_recall_5: 0.9688 - val_precision_5: 0.9894\n",
            "Epoch 19/50\n",
            "1/1 [==============================] - 0s 42ms/step - loss: 1.5276 - accuracy: 0.7950 - recall_5: 0.7921 - precision_5: 0.7963 - val_loss: 1.4185 - val_accuracy: 0.9791 - val_recall_5: 0.9688 - val_precision_5: 0.9894\n",
            "Epoch 20/50\n",
            "1/1 [==============================] - 0s 43ms/step - loss: 1.4452 - accuracy: 0.8384 - recall_5: 0.8500 - precision_5: 0.8303 - val_loss: 1.3754 - val_accuracy: 0.9791 - val_recall_5: 0.9688 - val_precision_5: 0.9894\n",
            "Epoch 21/50\n",
            "1/1 [==============================] - 0s 42ms/step - loss: 1.4136 - accuracy: 0.8581 - recall_5: 0.8395 - precision_5: 0.8716 - val_loss: 1.3325 - val_accuracy: 0.9791 - val_recall_5: 0.9688 - val_precision_5: 0.9894\n",
            "Epoch 22/50\n",
            "1/1 [==============================] - 0s 42ms/step - loss: 1.3405 - accuracy: 0.8817 - recall_5: 0.8658 - precision_5: 0.8940 - val_loss: 1.2900 - val_accuracy: 0.9791 - val_recall_5: 0.9688 - val_precision_5: 0.9894\n",
            "Epoch 23/50\n",
            "1/1 [==============================] - 0s 43ms/step - loss: 1.3260 - accuracy: 0.8633 - recall_5: 0.8579 - precision_5: 0.8670 - val_loss: 1.2483 - val_accuracy: 0.9791 - val_recall_5: 0.9688 - val_precision_5: 0.9894\n",
            "Epoch 24/50\n",
            "1/1 [==============================] - 0s 42ms/step - loss: 1.2624 - accuracy: 0.8988 - recall_5: 0.8947 - precision_5: 0.9019 - val_loss: 1.2078 - val_accuracy: 0.9791 - val_recall_5: 0.9688 - val_precision_5: 0.9894\n",
            "Epoch 25/50\n",
            "1/1 [==============================] - 0s 43ms/step - loss: 1.2383 - accuracy: 0.9106 - recall_5: 0.9079 - precision_5: 0.9127 - val_loss: 1.1689 - val_accuracy: 0.9791 - val_recall_5: 0.9688 - val_precision_5: 0.9894\n",
            "Epoch 26/50\n",
            "1/1 [==============================] - 0s 42ms/step - loss: 1.1383 - accuracy: 0.9474 - recall_5: 0.9579 - precision_5: 0.9381 - val_loss: 1.1323 - val_accuracy: 0.9791 - val_recall_5: 0.9688 - val_precision_5: 0.9894\n",
            "Epoch 27/50\n",
            "1/1 [==============================] - 0s 43ms/step - loss: 1.1422 - accuracy: 0.9396 - recall_5: 0.9368 - precision_5: 0.9418 - val_loss: 1.0977 - val_accuracy: 0.9791 - val_recall_5: 0.9688 - val_precision_5: 0.9894\n",
            "Epoch 28/50\n",
            "1/1 [==============================] - 0s 43ms/step - loss: 1.0962 - accuracy: 0.9369 - recall_5: 0.9632 - precision_5: 0.9150 - val_loss: 1.0652 - val_accuracy: 0.9791 - val_recall_5: 0.9688 - val_precision_5: 0.9894\n",
            "Epoch 29/50\n",
            "1/1 [==============================] - 0s 42ms/step - loss: 1.0754 - accuracy: 0.9448 - recall_5: 0.9553 - precision_5: 0.9356 - val_loss: 1.0351 - val_accuracy: 0.9791 - val_recall_5: 0.9688 - val_precision_5: 0.9894\n",
            "Epoch 30/50\n",
            "1/1 [==============================] - 0s 43ms/step - loss: 1.0336 - accuracy: 0.9593 - recall_5: 0.9711 - precision_5: 0.9486 - val_loss: 1.0074 - val_accuracy: 0.9791 - val_recall_5: 0.9688 - val_precision_5: 0.9894\n",
            "Epoch 31/50\n",
            "1/1 [==============================] - 0s 44ms/step - loss: 1.0064 - accuracy: 0.9619 - recall_5: 0.9737 - precision_5: 0.9512 - val_loss: 0.9819 - val_accuracy: 0.9791 - val_recall_5: 0.9688 - val_precision_5: 0.9894\n",
            "Epoch 32/50\n",
            "1/1 [==============================] - 0s 45ms/step - loss: 0.9785 - accuracy: 0.9698 - recall_5: 0.9711 - precision_5: 0.9685 - val_loss: 0.9587 - val_accuracy: 0.9791 - val_recall_5: 0.9688 - val_precision_5: 0.9894\n",
            "Epoch 33/50\n",
            "1/1 [==============================] - 0s 42ms/step - loss: 0.9493 - accuracy: 0.9750 - recall_5: 0.9711 - precision_5: 0.9788 - val_loss: 0.9374 - val_accuracy: 0.9791 - val_recall_5: 0.9688 - val_precision_5: 0.9894\n",
            "Epoch 34/50\n",
            "1/1 [==============================] - 0s 42ms/step - loss: 0.9236 - accuracy: 0.9803 - recall_5: 0.9763 - precision_5: 0.9841 - val_loss: 0.9175 - val_accuracy: 0.9791 - val_recall_5: 0.9688 - val_precision_5: 0.9894\n",
            "Epoch 35/50\n",
            "1/1 [==============================] - 0s 43ms/step - loss: 0.9011 - accuracy: 0.9842 - recall_5: 0.9816 - precision_5: 0.9868 - val_loss: 0.8989 - val_accuracy: 0.9791 - val_recall_5: 0.9688 - val_precision_5: 0.9894\n",
            "Epoch 36/50\n",
            "1/1 [==============================] - 0s 42ms/step - loss: 0.8816 - accuracy: 0.9816 - recall_5: 0.9684 - precision_5: 0.9946 - val_loss: 0.8812 - val_accuracy: 0.9791 - val_recall_5: 0.9688 - val_precision_5: 0.9894\n",
            "Epoch 37/50\n",
            "1/1 [==============================] - 0s 42ms/step - loss: 0.8590 - accuracy: 0.9829 - recall_5: 0.9789 - precision_5: 0.9867 - val_loss: 0.8641 - val_accuracy: 0.9791 - val_recall_5: 0.9688 - val_precision_5: 0.9894\n",
            "Epoch 38/50\n",
            "1/1 [==============================] - 0s 42ms/step - loss: 0.8344 - accuracy: 0.9869 - recall_5: 0.9868 - precision_5: 0.9868 - val_loss: 0.8476 - val_accuracy: 0.9791 - val_recall_5: 0.9688 - val_precision_5: 0.9894\n",
            "Epoch 39/50\n",
            "1/1 [==============================] - 0s 42ms/step - loss: 0.8160 - accuracy: 0.9908 - recall_5: 0.9921 - precision_5: 0.9895 - val_loss: 0.8316 - val_accuracy: 0.9791 - val_recall_5: 0.9688 - val_precision_5: 0.9894\n",
            "Epoch 40/50\n",
            "1/1 [==============================] - 0s 42ms/step - loss: 0.7915 - accuracy: 0.9908 - recall_5: 0.9895 - precision_5: 0.9921 - val_loss: 0.8158 - val_accuracy: 0.9791 - val_recall_5: 0.9688 - val_precision_5: 0.9894\n",
            "Epoch 41/50\n",
            "1/1 [==============================] - 0s 42ms/step - loss: 0.7862 - accuracy: 0.9895 - recall_5: 0.9895 - precision_5: 0.9895 - val_loss: 0.8002 - val_accuracy: 0.9791 - val_recall_5: 0.9688 - val_precision_5: 0.9894\n",
            "Epoch 42/50\n",
            "1/1 [==============================] - 0s 41ms/step - loss: 0.7671 - accuracy: 0.9882 - recall_5: 0.9921 - precision_5: 0.9843 - val_loss: 0.7849 - val_accuracy: 0.9791 - val_recall_5: 0.9688 - val_precision_5: 0.9894\n",
            "Epoch 43/50\n",
            "1/1 [==============================] - 0s 41ms/step - loss: 0.7487 - accuracy: 0.9895 - recall_5: 0.9895 - precision_5: 0.9895 - val_loss: 0.7698 - val_accuracy: 0.9791 - val_recall_5: 0.9688 - val_precision_5: 0.9894\n",
            "Epoch 44/50\n",
            "1/1 [==============================] - 0s 42ms/step - loss: 0.7315 - accuracy: 0.9895 - recall_5: 0.9947 - precision_5: 0.9844 - val_loss: 0.7549 - val_accuracy: 0.9791 - val_recall_5: 0.9688 - val_precision_5: 0.9894\n",
            "Epoch 45/50\n",
            "1/1 [==============================] - 0s 47ms/step - loss: 0.7097 - accuracy: 0.9934 - recall_5: 0.9947 - precision_5: 0.9921 - val_loss: 0.7403 - val_accuracy: 0.9791 - val_recall_5: 0.9688 - val_precision_5: 0.9894\n",
            "Epoch 46/50\n",
            "1/1 [==============================] - 0s 44ms/step - loss: 0.7025 - accuracy: 0.9921 - recall_5: 0.9947 - precision_5: 0.9895 - val_loss: 0.7259 - val_accuracy: 0.9791 - val_recall_5: 0.9688 - val_precision_5: 0.9894\n",
            "Epoch 47/50\n",
            "1/1 [==============================] - 0s 43ms/step - loss: 0.6870 - accuracy: 0.9895 - recall_5: 0.9868 - precision_5: 0.9921 - val_loss: 0.7117 - val_accuracy: 0.9791 - val_recall_5: 0.9688 - val_precision_5: 0.9894\n",
            "Epoch 48/50\n",
            "1/1 [==============================] - 0s 42ms/step - loss: 0.6645 - accuracy: 0.9908 - recall_5: 0.9895 - precision_5: 0.9921 - val_loss: 0.6976 - val_accuracy: 0.9791 - val_recall_5: 0.9688 - val_precision_5: 0.9894\n",
            "Epoch 49/50\n",
            "1/1 [==============================] - 0s 42ms/step - loss: 0.6584 - accuracy: 0.9921 - recall_5: 0.9921 - precision_5: 0.9921 - val_loss: 0.6838 - val_accuracy: 0.9791 - val_recall_5: 0.9688 - val_precision_5: 0.9894\n",
            "Epoch 50/50\n",
            "1/1 [==============================] - 0s 63ms/step - loss: 0.6440 - accuracy: 0.9895 - recall_5: 0.9947 - precision_5: 0.9844 - val_loss: 0.6701 - val_accuracy: 0.9791 - val_recall_5: 0.9688 - val_precision_5: 0.9894\n",
            "2/2 [==============================] - 0s 9ms/step - loss: 2.4946 - accuracy: 0.6923 - recall_5: 0.2941 - precision_5: 1.0000\n"
          ]
        },
        {
          "output_type": "execute_result",
          "data": {
            "text/plain": [
              "[2.49460768699646, 0.692307710647583, 0.29411765933036804, 1.0]"
            ]
          },
          "metadata": {},
          "execution_count": 18
        }
      ]
    },
    {
      "cell_type": "code",
      "source": [
        "# confusion matrix in sklearn\n",
        "from sklearn.metrics import confusion_matrix\n",
        "from sklearn.metrics import classification_report"
      ],
      "metadata": {
        "id": "Gwz93a8irL1Y"
      },
      "execution_count": null,
      "outputs": []
    },
    {
      "cell_type": "code",
      "source": [
        "actual = test_y \n",
        "pred = model_cnn7.predict(test_x) \n",
        "predicted = np.argmax(pred, axis = 1)"
      ],
      "metadata": {
        "id": "qEBnphAnrkhg"
      },
      "execution_count": null,
      "outputs": []
    },
    {
      "cell_type": "code",
      "source": [
        "# confusion matrix\n",
        "matrix = confusion_matrix(actual,predicted, labels=[1,0])\n",
        "print('Confusion matrix : \\n',matrix)\n",
        "\n",
        "# outcome values order in sklearn\n",
        "tp, fn, fp, tn = confusion_matrix(actual,predicted,labels=[1,0]).reshape(-1)\n",
        "print('Outcome values : \\n', tp, fn, fp, tn)\n",
        "\n",
        "# classification report for precision, recall f1-score and accuracy\n",
        "matrix = classification_report(actual,predicted,labels=[1,0])\n",
        "print('Classification report : \\n',matrix)"
      ],
      "metadata": {
        "colab": {
          "base_uri": "https://localhost:8080/"
        },
        "id": "A1N2506Ef52J",
        "outputId": "c590bb98-4ea5-4a43-a355-9497829e5d2b"
      },
      "execution_count": null,
      "outputs": [
        {
          "output_type": "stream",
          "name": "stdout",
          "text": [
            "Confusion matrix : \n",
            " [[ 87  59]\n",
            " [ 29 109]]\n",
            "Outcome values : \n",
            " 87 59 29 109\n",
            "Classification report : \n",
            "               precision    recall  f1-score   support\n",
            "\n",
            "           1       0.75      0.60      0.66       146\n",
            "           0       0.65      0.79      0.71       138\n",
            "\n",
            "    accuracy                           0.69       284\n",
            "   macro avg       0.70      0.69      0.69       284\n",
            "weighted avg       0.70      0.69      0.69       284\n",
            "\n"
          ]
        }
      ]
    },
    {
      "cell_type": "code",
      "source": [
        "import sklearn.metrics as metrics\n",
        "# calculate the fpr and tpr for all thresholds of the classification\n",
        "fpr, tpr, threshold = metrics.roc_curve(actual, predicted)\n",
        "roc_auc = metrics.auc(fpr, tpr)\n",
        " \n",
        "# method I: plt\n",
        "import matplotlib.pyplot as plt\n",
        "plt.title('Receiver Operating Characteristic')\n",
        "plt.plot(fpr, tpr, 'b', label = 'AUC = %0.2f' % roc_auc)\n",
        "plt.legend(loc = 'lower right')\n",
        "plt.plot([0, 1], [0, 1],'r--')\n",
        "plt.xlim([0, 1])\n",
        "plt.ylim([0, 1])\n",
        "plt.ylabel('True Positive Rate')\n",
        "plt.xlabel('False Positive Rate')\n",
        "plt.show()"
      ],
      "metadata": {
        "colab": {
          "base_uri": "https://localhost:8080/",
          "height": 294
        },
        "id": "AVhP6Bkus-5w",
        "outputId": "80f5768a-2b37-47b2-c52e-9d342a9f585a"
      },
      "execution_count": null,
      "outputs": [
        {
          "output_type": "display_data",
          "data": {
            "image/png": "[encoded data removed]",
            "text/plain": [
              "<Figure size 432x288 with 1 Axes>"
            ]
          },
          "metadata": {
            "needs_background": "light"
          }
        }
      ]
    }
  ],
  "metadata": {
    "accelerator": "GPU",
    "colab": {
      "machine_shape": "hm",
      "name": "ZeroimputationsLeftanklefromStridetemplateCNN.ipynb",
      "provenance": []
    },
    "kernelspec": {
      "display_name": "Python 3",
      "name": "python3"
    },
    "language_info": {
      "name": "python"
    }
  },
  "nbformat": 4,
  "nbformat_minor": 0
}