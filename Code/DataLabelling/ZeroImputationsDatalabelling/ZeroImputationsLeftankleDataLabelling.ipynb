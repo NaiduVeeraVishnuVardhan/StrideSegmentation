{
  "nbformat": 4,
  "nbformat_minor": 0,
  "metadata": {
    "colab": {
      "name": "ZeroImputationsLeftankleDataLabelling.ipynb",
      "provenance": [],
      "machine_shape": "hm"
    },
    "kernelspec": {
      "name": "python3",
      "display_name": "Python 3"
    },
    "language_info": {
      "name": "python"
    },
    "accelerator": "GPU"
  },
  "cells": [
    {
      "cell_type": "code",
      "source": [
        "from google.colab import drive\n",
        "drive.mount('/content/drive')   "
      ],
      "metadata": {
        "colab": {
          "base_uri": "https://localhost:8080/"
        },
        "id": "fcn4_tWisjav",
        "outputId": "3d3da9c8-932b-4ba4-a437-d3654be3d146"
      },
      "execution_count": null,
      "outputs": [
        {
          "output_type": "stream",
          "name": "stdout",
          "text": [
            "Mounted at /content/drive\n"
          ]
        }
      ]
    },
    {
      "cell_type": "code",
      "execution_count": null,
      "metadata": {
        "id": "GXczt8aTNRec"
      },
      "outputs": [],
      "source": [
        "import pandas as pd    \n",
        "import numpy as np     \n",
        "stridesegmentation = pd.read_csv('/content/drive/MyDrive/Colab Notebooks/dataset/Datalabelling/LeftAnklestridesegments1.csv')"
      ]
    },
    {
      "cell_type": "code",
      "source": [
        "fulldata = pd.read_csv('/content/drive/MyDrive/Colab Notebooks/dataset/Fulldatasetwalking.csv')"
      ],
      "metadata": {
        "id": "a8SCFk0KN1Tm"
      },
      "execution_count": null,
      "outputs": []
    },
    {
      "cell_type": "code",
      "source": [
        "data_1 = fulldata[(fulldata['loc_id'] == 'left_ankle') ]"
      ],
      "metadata": {
        "id": "Nvbd0B1Fwq0k"
      },
      "execution_count": null,
      "outputs": []
    },
    {
      "cell_type": "code",
      "source": [
        "stridesegmentation['tau_i'] = stridesegmentation['tau_i'].astype(int)"
      ],
      "metadata": {
        "id": "Cmf7teSesOS6"
      },
      "execution_count": null,
      "outputs": []
    },
    {
      "cell_type": "code",
      "source": [
        "data_1 = data_1.reset_index(drop=True) "
      ],
      "metadata": {
        "id": "9xcgTRicQaFI"
      },
      "execution_count": null,
      "outputs": []
    },
    {
      "cell_type": "code",
      "source": [
        "stridesegmentation"
      ],
      "metadata": {
        "colab": {
          "base_uri": "https://localhost:8080/",
          "height": 423
        },
        "id": "y6rzXMquiF9B",
        "outputId": "09b0bdcf-bda2-4411-82c5-848314d89062"
      },
      "execution_count": null,
      "outputs": [
        {
          "output_type": "execute_result",
          "data": {
            "text/html": [
              "\n",
              "  <div id=\"df-86f6f243-27b5-49a3-8523-c41778b1aa8e\">\n",
              "    <div class=\"colab-df-container\">\n",
              "      <div>\n",
              "<style scoped>\n",
              "    .dataframe tbody tr th:only-of-type {\n",
              "        vertical-align: middle;\n",
              "    }\n",
              "\n",
              "    .dataframe tbody tr th {\n",
              "        vertical-align: top;\n",
              "    }\n",
              "\n",
              "    .dataframe thead th {\n",
              "        text-align: right;\n",
              "    }\n",
              "</style>\n",
              "<table border=\"1\" class=\"dataframe\">\n",
              "  <thead>\n",
              "    <tr style=\"text-align: right;\">\n",
              "      <th></th>\n",
              "      <th>tau_i</th>\n",
              "      <th>T_i</th>\n",
              "      <th>sim_i</th>\n",
              "      <th>template_i</th>\n",
              "    </tr>\n",
              "  </thead>\n",
              "  <tbody>\n",
              "    <tr>\n",
              "      <th>0</th>\n",
              "      <td>39</td>\n",
              "      <td>104</td>\n",
              "      <td>0.972586</td>\n",
              "      <td>1</td>\n",
              "    </tr>\n",
              "    <tr>\n",
              "      <th>1</th>\n",
              "      <td>142</td>\n",
              "      <td>110</td>\n",
              "      <td>0.975072</td>\n",
              "      <td>8</td>\n",
              "    </tr>\n",
              "    <tr>\n",
              "      <th>2</th>\n",
              "      <td>251</td>\n",
              "      <td>110</td>\n",
              "      <td>0.986581</td>\n",
              "      <td>13</td>\n",
              "    </tr>\n",
              "    <tr>\n",
              "      <th>3</th>\n",
              "      <td>360</td>\n",
              "      <td>106</td>\n",
              "      <td>0.973304</td>\n",
              "      <td>13</td>\n",
              "    </tr>\n",
              "    <tr>\n",
              "      <th>4</th>\n",
              "      <td>465</td>\n",
              "      <td>104</td>\n",
              "      <td>0.980917</td>\n",
              "      <td>8</td>\n",
              "    </tr>\n",
              "    <tr>\n",
              "      <th>...</th>\n",
              "      <td>...</td>\n",
              "      <td>...</td>\n",
              "      <td>...</td>\n",
              "      <td>...</td>\n",
              "    </tr>\n",
              "    <tr>\n",
              "      <th>6415</th>\n",
              "      <td>647154</td>\n",
              "      <td>102</td>\n",
              "      <td>0.986515</td>\n",
              "      <td>13</td>\n",
              "    </tr>\n",
              "    <tr>\n",
              "      <th>6416</th>\n",
              "      <td>647255</td>\n",
              "      <td>101</td>\n",
              "      <td>0.989298</td>\n",
              "      <td>1</td>\n",
              "    </tr>\n",
              "    <tr>\n",
              "      <th>6417</th>\n",
              "      <td>647355</td>\n",
              "      <td>103</td>\n",
              "      <td>0.988815</td>\n",
              "      <td>5</td>\n",
              "    </tr>\n",
              "    <tr>\n",
              "      <th>6418</th>\n",
              "      <td>647457</td>\n",
              "      <td>102</td>\n",
              "      <td>0.977136</td>\n",
              "      <td>11</td>\n",
              "    </tr>\n",
              "    <tr>\n",
              "      <th>6419</th>\n",
              "      <td>647558</td>\n",
              "      <td>53</td>\n",
              "      <td>0.555612</td>\n",
              "      <td>14</td>\n",
              "    </tr>\n",
              "  </tbody>\n",
              "</table>\n",
              "<p>6420 rows × 4 columns</p>\n",
              "</div>\n",
              "      <button class=\"colab-df-convert\" onclick=\"convertToInteractive('df-86f6f243-27b5-49a3-8523-c41778b1aa8e')\"\n",
              "              title=\"Convert this dataframe to an interactive table.\"\n",
              "              style=\"display:none;\">\n",
              "        \n",
              "  <svg xmlns=\"http://www.w3.org/2000/svg\" height=\"24px\"viewBox=\"0 0 24 24\"\n",
              "       width=\"24px\">\n",
              "    <path d=\"M0 0h24v24H0V0z\" fill=\"none\"/>\n",
              "    <path d=\"M18.56 5.44l.94 2.06.94-2.06 2.06-.94-2.06-.94-.94-2.06-.94 2.06-2.06.94zm-11 1L8.5 8.5l.94-2.06 2.06-.94-2.06-.94L8.5 2.5l-.94 2.06-2.06.94zm10 10l.94 2.06.94-2.06 2.06-.94-2.06-.94-.94-2.06-.94 2.06-2.06.94z\"/><path d=\"M17.41 7.96l-1.37-1.37c-.4-.4-.92-.59-1.43-.59-.52 0-1.04.2-1.43.59L10.3 9.45l-7.72 7.72c-.78.78-.78 2.05 0 2.83L4 21.41c.39.39.9.59 1.41.59.51 0 1.02-.2 1.41-.59l7.78-7.78 2.81-2.81c.8-.78.8-2.07 0-2.86zM5.41 20L4 18.59l7.72-7.72 1.47 1.35L5.41 20z\"/>\n",
              "  </svg>\n",
              "      </button>\n",
              "      \n",
              "  <style>\n",
              "    .colab-df-container {\n",
              "      display:flex;\n",
              "      flex-wrap:wrap;\n",
              "      gap: 12px;\n",
              "    }\n",
              "\n",
              "    .colab-df-convert {\n",
              "      background-color: #E8F0FE;\n",
              "      border: none;\n",
              "      border-radius: 50%;\n",
              "      cursor: pointer;\n",
              "      display: none;\n",
              "      fill: #1967D2;\n",
              "      height: 32px;\n",
              "      padding: 0 0 0 0;\n",
              "      width: 32px;\n",
              "    }\n",
              "\n",
              "    .colab-df-convert:hover {\n",
              "      background-color: #E2EBFA;\n",
              "      box-shadow: 0px 1px 2px rgba(60, 64, 67, 0.3), 0px 1px 3px 1px rgba(60, 64, 67, 0.15);\n",
              "      fill: #174EA6;\n",
              "    }\n",
              "\n",
              "    [theme=dark] .colab-df-convert {\n",
              "      background-color: #3B4455;\n",
              "      fill: #D2E3FC;\n",
              "    }\n",
              "\n",
              "    [theme=dark] .colab-df-convert:hover {\n",
              "      background-color: #434B5C;\n",
              "      box-shadow: 0px 1px 3px 1px rgba(0, 0, 0, 0.15);\n",
              "      filter: drop-shadow(0px 1px 2px rgba(0, 0, 0, 0.3));\n",
              "      fill: #FFFFFF;\n",
              "    }\n",
              "  </style>\n",
              "\n",
              "      <script>\n",
              "        const buttonEl =\n",
              "          document.querySelector('#df-86f6f243-27b5-49a3-8523-c41778b1aa8e button.colab-df-convert');\n",
              "        buttonEl.style.display =\n",
              "          google.colab.kernel.accessAllowed ? 'block' : 'none';\n",
              "\n",
              "        async function convertToInteractive(key) {\n",
              "          const element = document.querySelector('#df-86f6f243-27b5-49a3-8523-c41778b1aa8e');\n",
              "          const dataTable =\n",
              "            await google.colab.kernel.invokeFunction('convertToInteractive',\n",
              "                                                     [key], {});\n",
              "          if (!dataTable) return;\n",
              "\n",
              "          const docLinkHtml = 'Like what you see? Visit the ' +\n",
              "            '<a target=\"_blank\" href=https://colab.research.google.com/notebooks/data_table.ipynb>data table notebook</a>'\n",
              "            + ' to learn more about interactive tables.';\n",
              "          element.innerHTML = '';\n",
              "          dataTable['output_type'] = 'display_data';\n",
              "          await google.colab.output.renderOutput(dataTable, element);\n",
              "          const docLink = document.createElement('div');\n",
              "          docLink.innerHTML = docLinkHtml;\n",
              "          element.appendChild(docLink);\n",
              "        }\n",
              "      </script>\n",
              "    </div>\n",
              "  </div>\n",
              "  "
            ],
            "text/plain": [
              "       tau_i  T_i     sim_i  template_i\n",
              "0         39  104  0.972586           1\n",
              "1        142  110  0.975072           8\n",
              "2        251  110  0.986581          13\n",
              "3        360  106  0.973304          13\n",
              "4        465  104  0.980917           8\n",
              "...      ...  ...       ...         ...\n",
              "6415  647154  102  0.986515          13\n",
              "6416  647255  101  0.989298           1\n",
              "6417  647355  103  0.988815           5\n",
              "6418  647457  102  0.977136          11\n",
              "6419  647558   53  0.555612          14\n",
              "\n",
              "[6420 rows x 4 columns]"
            ]
          },
          "metadata": {},
          "execution_count": 7
        }
      ]
    },
    {
      "cell_type": "code",
      "source": [
        "import numpy as np\n",
        "import matplotlib.pyplot as plt \n",
        "from scipy.signal import find_peaks\n",
        "count = 0\n",
        "count2 = 0\n",
        "data_1['label'] = 0\n",
        "stride_list = []\n",
        "fullstride_list = []\n",
        "x =[]\n",
        "for i in range(0,len(stridesegmentation.tau_i)-1):\n",
        "  eachStride = data_1.loc[ stridesegmentation.tau_i[i] : stridesegmentation.tau_i[i+1] -1 ] \n",
        "  peak, _ = find_peaks(eachStride[\"vm\"].values, prominence = 0.9) \n",
        "  if (len(peak) == 1): \n",
        "    count = count+1;   \n",
        "    data_1.loc[stridesegmentation.tau_i[i] : eachStride.iloc[peak].index[0],\"label\"] = 0\n",
        "    left = data_1.loc[stridesegmentation.tau_i[i] : eachStride.iloc[peak].index[0]]\n",
        "    data_1.loc[eachStride.iloc[peak].index[0]  : stridesegmentation.tau_i[i+1] - 1,\"label\"] = 1     \n",
        "    right = data_1.loc[eachStride.iloc[peak].index[0]  : stridesegmentation.tau_i[i+1] - 1]\n",
        "    fullst = pd.concat([left,right])\n",
        "    fullstride_list.append(fullst)\n",
        "    right = right.reset_index(drop=True) \n",
        "    left = left.reset_index(drop=True) \n",
        "    #imputing zeros for left stride\n",
        "    il = np.arange(start= left.shape[0]  , stop=145 )\n",
        "    dfl_zero = pd.DataFrame(0, index=il, columns=left.columns)\n",
        "    LeftStride = pd.concat([left,dfl_zero])  \n",
        "\n",
        "    #imputing zeros for right stride\n",
        "    ir = np.arange(start= right.shape[0]  , stop=145 )\n",
        "    dfr_zero = pd.DataFrame(0, index=ir, columns=right.columns)\n",
        "    RightStride = pd.concat([right,dfr_zero])  \n",
        "\n",
        "    stride = pd.concat([LeftStride,RightStride]) \n",
        "    stride_list.append(stride) \n",
        "    \n",
        "dataset1 = pd.concat(stride_list)"
      ],
      "metadata": {
        "id": "KvaIjVwhFBSy"
      },
      "execution_count": null,
      "outputs": []
    },
    {
      "cell_type": "markdown",
      "source": [
        ""
      ],
      "metadata": {
        "id": "mdPsY02IXwFy"
      }
    },
    {
      "cell_type": "code",
      "source": [
        "count"
      ],
      "metadata": {
        "id": "_p09YIiWXwW0",
        "colab": {
          "base_uri": "https://localhost:8080/"
        },
        "outputId": "fb30e0ed-4829-4b5b-a57a-caf600a07ba4"
      },
      "execution_count": null,
      "outputs": [
        {
          "output_type": "execute_result",
          "data": {
            "text/plain": [
              "477"
            ]
          },
          "metadata": {},
          "execution_count": 48
        }
      ]
    },
    {
      "cell_type": "code",
      "source": [
        "fullstride_list[0][\"vm\"][:145].plot.line()\n",
        "fullstride_list[0][\"vm\"][145:].plot.line()"
      ],
      "metadata": {
        "colab": {
          "base_uri": "https://localhost:8080/",
          "height": 283
        },
        "id": "3BZRpgOl1eZJ",
        "outputId": "d88db778-741a-4e32-f182-7205690395e3"
      },
      "execution_count": null,
      "outputs": [
        {
          "output_type": "execute_result",
          "data": {
            "text/plain": [
              "<matplotlib.axes._subplots.AxesSubplot at 0x7f9906825250>"
            ]
          },
          "metadata": {},
          "execution_count": 53
        },
        {
          "output_type": "display_data",
          "data": {
            "image/png": "[encoded data removed]",
            "text/plain": [
              "<Figure size 432x288 with 1 Axes>"
            ]
          },
          "metadata": {
            "needs_background": "light"
          }
        }
      ]
    },
    {
      "cell_type": "code",
      "source": [
        "#left stride\n",
        "stride_list[0][\"vm\"][:145].plot.line()  "
      ],
      "metadata": {
        "colab": {
          "base_uri": "https://localhost:8080/",
          "height": 283
        },
        "id": "XWiypNAS3ndU",
        "outputId": "4be0ddc5-20e1-4a71-b367-c36183e9ec4e"
      },
      "execution_count": null,
      "outputs": [
        {
          "output_type": "execute_result",
          "data": {
            "text/plain": [
              "<matplotlib.axes._subplots.AxesSubplot at 0x7f9907185310>"
            ]
          },
          "metadata": {},
          "execution_count": 39
        },
        {
          "output_type": "display_data",
          "data": {
            "image/png": "[encoded data removed]",
            "text/plain": [
              "<Figure size 432x288 with 1 Axes>"
            ]
          },
          "metadata": {
            "needs_background": "light"
          }
        }
      ]
    },
    {
      "cell_type": "code",
      "source": [
        "#right stride\n",
        "stride_list[0][\"vm\"][145:].plot.line()"
      ],
      "metadata": {
        "colab": {
          "base_uri": "https://localhost:8080/",
          "height": 283
        },
        "id": "MY9uajjT3y1t",
        "outputId": "fdb0276d-4f45-493b-fb09-588cae369ffa"
      },
      "execution_count": null,
      "outputs": [
        {
          "output_type": "execute_result",
          "data": {
            "text/plain": [
              "<matplotlib.axes._subplots.AxesSubplot at 0x7f99070bd850>"
            ]
          },
          "metadata": {},
          "execution_count": 38
        },
        {
          "output_type": "display_data",
          "data": {
            "image/png": "[encoded data removed]",
            "text/plain": [
              "<Figure size 432x288 with 1 Axes>"
            ]
          },
          "metadata": {
            "needs_background": "light"
          }
        }
      ]
    },
    {
      "cell_type": "code",
      "source": [
        "dataset1.shape "
      ],
      "metadata": {
        "colab": {
          "base_uri": "https://localhost:8080/"
        },
        "id": "eyXbxxFnhD92",
        "outputId": "4fd36663-6bc0-4dcb-8954-f1c52c1799c2"
      },
      "execution_count": null,
      "outputs": [
        {
          "output_type": "execute_result",
          "data": {
            "text/plain": [
              "(138330, 8)"
            ]
          },
          "metadata": {},
          "execution_count": 41
        }
      ]
    },
    {
      "cell_type": "code",
      "source": [
        "dataset1.to_csv(\"Datasetfor1peaks.csv\")"
      ],
      "metadata": {
        "id": "gWOzR8-XqeIz"
      },
      "execution_count": null,
      "outputs": []
    },
    {
      "cell_type": "code",
      "source": [
        "import numpy as np\n",
        "import matplotlib.pyplot as plt \n",
        "from scipy.signal import find_peaks\n",
        "count = 0\n",
        "count2 = 0\n",
        "stride_list1 = []\n",
        "data_1['label'] = 0\n",
        "\n",
        "for i in range(0,len(stridesegmentation.tau_i)-1): \n",
        "  eachStride = data_1.loc[ stridesegmentation.tau_i[i] : stridesegmentation.tau_i[i+1] -1 ] \n",
        "  peak, _ = find_peaks(eachStride[\"vm\"].values, prominence = 0.9) \n",
        "  if (len(peak) == 2):\n",
        "    count = count + 1\n",
        "    peak2, _ = find_peaks(eachStride[\"vm\"].values, threshold = 1 )\n",
        "    if (len(peak2) == 1):\n",
        "      count2 = count2+1; \n",
        "      data_1.loc[stridesegmentation.tau_i[i] : eachStride.iloc[peak].index[0],\"label\"] = 0\n",
        "      left1 = data_1.loc[stridesegmentation.tau_i[i] : eachStride.iloc[peak].index[0]]\n",
        "      data_1.loc[eachStride.iloc[peak].index[0]  : stridesegmentation.tau_i[i+1] - 1,\"label\"] = 1 \n",
        "      right1 = data_1.loc[eachStride.iloc[peak].index[0]  : stridesegmentation.tau_i[i+1] - 1]\n",
        "\n",
        "      #imputing zeros for left stride\n",
        "      il1 = np.arange(start= left1.shape[0] + 1 , stop=145 )\n",
        "      dfl1_zero = pd.DataFrame(0, index=il1, columns=left1.columns)\n",
        "      LeftStride1 = pd.concat([left1,dfl1_zero])  \n",
        "\n",
        "      #imputing zeros for right stride\n",
        "      ir1 = np.arange(start= right1.shape[0] + 1 , stop=145 )\n",
        "      dfr1_zero = pd.DataFrame(0, index=ir1, columns=right1.columns)\n",
        "      RightStride1 = pd.concat([right1,dfr1_zero])  \n",
        "\n",
        "      stride1 = pd.concat([LeftStride1,RightStride1]) \n",
        "      stride_list1.append(stride1)\n",
        "      \n",
        "\n",
        "print(\"2's\",count)\n",
        "print(\"2's changed to 1's: \",count2) "
      ],
      "metadata": {
        "colab": {
          "base_uri": "https://localhost:8080/"
        },
        "id": "ciTkLhefBHH4",
        "outputId": "6c52776f-5ca1-4b38-9603-e6e365b7ff44"
      },
      "execution_count": null,
      "outputs": [
        {
          "output_type": "stream",
          "name": "stdout",
          "text": [
            "2's 2228\n",
            "2's changed to 1's:  701\n"
          ]
        }
      ]
    },
    {
      "cell_type": "code",
      "source": [
        "dataset2 = pd.concat(stride_list1)"
      ],
      "metadata": {
        "id": "JV5Ai2zPq2OB"
      },
      "execution_count": null,
      "outputs": []
    },
    {
      "cell_type": "code",
      "source": [
        "dataset2.shape"
      ],
      "metadata": {
        "colab": {
          "base_uri": "https://localhost:8080/"
        },
        "id": "ybmd4WyGrK-a",
        "outputId": "6d4d06b9-1f12-45a1-ac68-d637bac82170"
      },
      "execution_count": null,
      "outputs": [
        {
          "output_type": "execute_result",
          "data": {
            "text/plain": [
              "(201894, 8)"
            ]
          },
          "metadata": {},
          "execution_count": 44
        }
      ]
    },
    {
      "cell_type": "code",
      "source": [
        "dataset2.to_csv(\"2schangedto1s_701of2228_zeroimputations.csv\")"
      ],
      "metadata": {
        "id": "i2dx3uU6dggj"
      },
      "execution_count": null,
      "outputs": []
    },
    {
      "cell_type": "code",
      "source": [
        "dataset = pd.concat([dataset1,dataset2] ) \n",
        "dataset.shape "
      ],
      "metadata": {
        "colab": {
          "base_uri": "https://localhost:8080/"
        },
        "id": "QDJBl6UIY9Bo",
        "outputId": "e2e8db7b-4252-4762-c360-d7c25d39da2e"
      },
      "execution_count": null,
      "outputs": [
        {
          "output_type": "execute_result",
          "data": {
            "text/plain": [
              "(340224, 8)"
            ]
          },
          "metadata": {},
          "execution_count": 46
        }
      ]
    },
    {
      "cell_type": "code",
      "source": [
        "dataset.to_csv(\"fulldataset1and2Zeroimputations.csv\")"
      ],
      "metadata": {
        "id": "5LERecwyrgoc"
      },
      "execution_count": null,
      "outputs": []
    },
    {
      "cell_type": "code",
      "source": [
        "# import numpy as np\n",
        "# import matplotlib.pyplot as plt \n",
        "# from scipy.signal import find_peaks\n",
        "# count = 0\n",
        "# count2 = 0\n",
        "# stride_list2 = []\n",
        "# data_1['label'] = 0 \n",
        "# for i in range(0,len(stridesegmentation.tau_i)-1): \n",
        "#   eachStride = data_1.loc[ stridesegmentation.tau_i[i] : stridesegmentation.tau_i[i+1] -1 ] \n",
        "#   peak, _ = find_peaks(eachStride[\"vm\"].values, prominence = 0.9) \n",
        "#   if (len(peak) == 3):\n",
        "#     count = count + 1\n",
        "#     peak2, _ = find_peaks(eachStride[\"vm\"].values, threshold = 1 )\n",
        "#     if (len(peak2) == 1):\n",
        "#       count2 = count2+1;\n",
        "#       left = data_1.loc[stridesegmentation.tau_i[i]:peak[0],\"label\"] = 0\n",
        "#       right = data_1.loc[peak[0]:stridesegmentation.tau_i[i+1] - 1,\"label\"] = 1 \n",
        "#       stride = pd.concat([left,right])\n",
        "#       stride_list2.append(stride) "
      ],
      "metadata": {
        "id": "FTj3CJsfSB-G"
      },
      "execution_count": null,
      "outputs": []
    }
  ]
}